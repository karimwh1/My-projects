{
 "cells": [
  {
   "cell_type": "code",
   "execution_count": 2,
   "metadata": {
    "collapsed": true
   },
   "outputs": [],
   "source": [
    "import pandas as pd"
   ]
  },
  {
   "cell_type": "code",
   "execution_count": 3,
   "outputs": [],
   "source": [
    "datnam = pd.read_csv('database_accession_3star.tsv', sep= '\\t')\n",
    "lames = pd.read_csv('names_3star.tsv',sep= '\\t')"
   ],
   "metadata": {
    "collapsed": false
   }
  },
  {
   "cell_type": "code",
   "execution_count": 4,
   "outputs": [
    {
     "data": {
      "text/plain": "      ID  COMPOUND_ID         SOURCE                     TYPE ACCESSION_NUMBER\n0  15233        27531  KEGG COMPOUND  KEGG COMPOUND accession           C06095\n1  15256        67986  KEGG COMPOUND  KEGG COMPOUND accession           C08945\n2  15257        67986  KEGG COMPOUND      CAS Registry Number       52286-58-5\n3  15296         5381  KEGG COMPOUND  KEGG COMPOUND accession           C09753\n4  15297         5381  KEGG COMPOUND      CAS Registry Number       87440-56-0",
      "text/html": "<div>\n<style scoped>\n    .dataframe tbody tr th:only-of-type {\n        vertical-align: middle;\n    }\n\n    .dataframe tbody tr th {\n        vertical-align: top;\n    }\n\n    .dataframe thead th {\n        text-align: right;\n    }\n</style>\n<table border=\"1\" class=\"dataframe\">\n  <thead>\n    <tr style=\"text-align: right;\">\n      <th></th>\n      <th>ID</th>\n      <th>COMPOUND_ID</th>\n      <th>SOURCE</th>\n      <th>TYPE</th>\n      <th>ACCESSION_NUMBER</th>\n    </tr>\n  </thead>\n  <tbody>\n    <tr>\n      <th>0</th>\n      <td>15233</td>\n      <td>27531</td>\n      <td>KEGG COMPOUND</td>\n      <td>KEGG COMPOUND accession</td>\n      <td>C06095</td>\n    </tr>\n    <tr>\n      <th>1</th>\n      <td>15256</td>\n      <td>67986</td>\n      <td>KEGG COMPOUND</td>\n      <td>KEGG COMPOUND accession</td>\n      <td>C08945</td>\n    </tr>\n    <tr>\n      <th>2</th>\n      <td>15257</td>\n      <td>67986</td>\n      <td>KEGG COMPOUND</td>\n      <td>CAS Registry Number</td>\n      <td>52286-58-5</td>\n    </tr>\n    <tr>\n      <th>3</th>\n      <td>15296</td>\n      <td>5381</td>\n      <td>KEGG COMPOUND</td>\n      <td>KEGG COMPOUND accession</td>\n      <td>C09753</td>\n    </tr>\n    <tr>\n      <th>4</th>\n      <td>15297</td>\n      <td>5381</td>\n      <td>KEGG COMPOUND</td>\n      <td>CAS Registry Number</td>\n      <td>87440-56-0</td>\n    </tr>\n  </tbody>\n</table>\n</div>"
     },
     "execution_count": 4,
     "metadata": {},
     "output_type": "execute_result"
    }
   ],
   "source": [
    "datnam.head()"
   ],
   "metadata": {
    "collapsed": false
   }
  },
  {
   "cell_type": "code",
   "execution_count": 5,
   "outputs": [
    {
     "name": "stdout",
     "output_type": "stream",
     "text": [
      "<class 'pandas.core.frame.DataFrame'>\n",
      "RangeIndex: 214526 entries, 0 to 214525\n",
      "Data columns (total 5 columns):\n",
      " #   Column            Non-Null Count   Dtype \n",
      "---  ------            --------------   ----- \n",
      " 0   ID                214526 non-null  int64 \n",
      " 1   COMPOUND_ID       214526 non-null  int64 \n",
      " 2   SOURCE            214526 non-null  object\n",
      " 3   TYPE              214526 non-null  object\n",
      " 4   ACCESSION_NUMBER  214525 non-null  object\n",
      "dtypes: int64(2), object(3)\n",
      "memory usage: 8.2+ MB\n"
     ]
    }
   ],
   "source": [
    "datnam.info()"
   ],
   "metadata": {
    "collapsed": false
   }
  },
  {
   "cell_type": "code",
   "execution_count": 6,
   "outputs": [
    {
     "data": {
      "text/plain": "0"
     },
     "execution_count": 6,
     "metadata": {},
     "output_type": "execute_result"
    }
   ],
   "source": [
    "datnam.duplicated().sum()"
   ],
   "metadata": {
    "collapsed": false
   }
  },
  {
   "cell_type": "code",
   "execution_count": 7,
   "outputs": [],
   "source": [
    "datnam.dropna(inplace= True)"
   ],
   "metadata": {
    "collapsed": false
   }
  },
  {
   "cell_type": "markdown",
   "source": [
    "way easier way to make everything lower case"
   ],
   "metadata": {
    "collapsed": false
   }
  },
  {
   "cell_type": "code",
   "execution_count": 8,
   "outputs": [],
   "source": [
    "datnam.columns= datnam.columns.str.lower()"
   ],
   "metadata": {
    "collapsed": false
   }
  },
  {
   "cell_type": "code",
   "execution_count": 9,
   "outputs": [
    {
     "data": {
      "text/plain": "      id  compound_id         source                     type accession_number\n0  15233        27531  KEGG COMPOUND  KEGG COMPOUND accession           C06095\n1  15256        67986  KEGG COMPOUND  KEGG COMPOUND accession           C08945\n2  15257        67986  KEGG COMPOUND      CAS Registry Number       52286-58-5\n3  15296         5381  KEGG COMPOUND  KEGG COMPOUND accession           C09753\n4  15297         5381  KEGG COMPOUND      CAS Registry Number       87440-56-0",
      "text/html": "<div>\n<style scoped>\n    .dataframe tbody tr th:only-of-type {\n        vertical-align: middle;\n    }\n\n    .dataframe tbody tr th {\n        vertical-align: top;\n    }\n\n    .dataframe thead th {\n        text-align: right;\n    }\n</style>\n<table border=\"1\" class=\"dataframe\">\n  <thead>\n    <tr style=\"text-align: right;\">\n      <th></th>\n      <th>id</th>\n      <th>compound_id</th>\n      <th>source</th>\n      <th>type</th>\n      <th>accession_number</th>\n    </tr>\n  </thead>\n  <tbody>\n    <tr>\n      <th>0</th>\n      <td>15233</td>\n      <td>27531</td>\n      <td>KEGG COMPOUND</td>\n      <td>KEGG COMPOUND accession</td>\n      <td>C06095</td>\n    </tr>\n    <tr>\n      <th>1</th>\n      <td>15256</td>\n      <td>67986</td>\n      <td>KEGG COMPOUND</td>\n      <td>KEGG COMPOUND accession</td>\n      <td>C08945</td>\n    </tr>\n    <tr>\n      <th>2</th>\n      <td>15257</td>\n      <td>67986</td>\n      <td>KEGG COMPOUND</td>\n      <td>CAS Registry Number</td>\n      <td>52286-58-5</td>\n    </tr>\n    <tr>\n      <th>3</th>\n      <td>15296</td>\n      <td>5381</td>\n      <td>KEGG COMPOUND</td>\n      <td>KEGG COMPOUND accession</td>\n      <td>C09753</td>\n    </tr>\n    <tr>\n      <th>4</th>\n      <td>15297</td>\n      <td>5381</td>\n      <td>KEGG COMPOUND</td>\n      <td>CAS Registry Number</td>\n      <td>87440-56-0</td>\n    </tr>\n  </tbody>\n</table>\n</div>"
     },
     "execution_count": 9,
     "metadata": {},
     "output_type": "execute_result"
    }
   ],
   "source": [
    "datnam.head()"
   ],
   "metadata": {
    "collapsed": false
   }
  },
  {
   "cell_type": "code",
   "execution_count": 10,
   "outputs": [
    {
     "data": {
      "text/plain": "   ID  COMPOUND_ID     TYPE         SOURCE  \\\n0   2        18357  SYNONYM  KEGG COMPOUND   \n1   3        18357  SYNONYM  KEGG COMPOUND   \n2   4        18357  SYNONYM  KEGG COMPOUND   \n3   5        18357  SYNONYM  KEGG COMPOUND   \n4   9        28234  SYNONYM  KEGG COMPOUND   \n\n                                                NAME ADAPTED LANGUAGE  \n0                                      Noradrenaline       F       en  \n1                                    L-Noradrenaline       F       en  \n2                                     Norepinephrine       F       en  \n3                                          Arterenol       F       en  \n4  (+)-(3S,4R)-cis-3,4-Dihydroxy-3,4-dihydrofluorene       F       en  ",
      "text/html": "<div>\n<style scoped>\n    .dataframe tbody tr th:only-of-type {\n        vertical-align: middle;\n    }\n\n    .dataframe tbody tr th {\n        vertical-align: top;\n    }\n\n    .dataframe thead th {\n        text-align: right;\n    }\n</style>\n<table border=\"1\" class=\"dataframe\">\n  <thead>\n    <tr style=\"text-align: right;\">\n      <th></th>\n      <th>ID</th>\n      <th>COMPOUND_ID</th>\n      <th>TYPE</th>\n      <th>SOURCE</th>\n      <th>NAME</th>\n      <th>ADAPTED</th>\n      <th>LANGUAGE</th>\n    </tr>\n  </thead>\n  <tbody>\n    <tr>\n      <th>0</th>\n      <td>2</td>\n      <td>18357</td>\n      <td>SYNONYM</td>\n      <td>KEGG COMPOUND</td>\n      <td>Noradrenaline</td>\n      <td>F</td>\n      <td>en</td>\n    </tr>\n    <tr>\n      <th>1</th>\n      <td>3</td>\n      <td>18357</td>\n      <td>SYNONYM</td>\n      <td>KEGG COMPOUND</td>\n      <td>L-Noradrenaline</td>\n      <td>F</td>\n      <td>en</td>\n    </tr>\n    <tr>\n      <th>2</th>\n      <td>4</td>\n      <td>18357</td>\n      <td>SYNONYM</td>\n      <td>KEGG COMPOUND</td>\n      <td>Norepinephrine</td>\n      <td>F</td>\n      <td>en</td>\n    </tr>\n    <tr>\n      <th>3</th>\n      <td>5</td>\n      <td>18357</td>\n      <td>SYNONYM</td>\n      <td>KEGG COMPOUND</td>\n      <td>Arterenol</td>\n      <td>F</td>\n      <td>en</td>\n    </tr>\n    <tr>\n      <th>4</th>\n      <td>9</td>\n      <td>28234</td>\n      <td>SYNONYM</td>\n      <td>KEGG COMPOUND</td>\n      <td>(+)-(3S,4R)-cis-3,4-Dihydroxy-3,4-dihydrofluorene</td>\n      <td>F</td>\n      <td>en</td>\n    </tr>\n  </tbody>\n</table>\n</div>"
     },
     "execution_count": 10,
     "metadata": {},
     "output_type": "execute_result"
    }
   ],
   "source": [
    "lames.head()"
   ],
   "metadata": {
    "collapsed": false
   }
  },
  {
   "cell_type": "code",
   "execution_count": 13,
   "outputs": [
    {
     "data": {
      "text/plain": "ID             241744\nCOMPOUND_ID     58536\nTYPE                5\nSOURCE             42\nNAME           231910\nADAPTED             2\nLANGUAGE            5\ndtype: int64"
     },
     "execution_count": 13,
     "metadata": {},
     "output_type": "execute_result"
    }
   ],
   "source": [
    "lames.nunique()"
   ],
   "metadata": {
    "collapsed": false
   }
  },
  {
   "cell_type": "code",
   "execution_count": 14,
   "outputs": [
    {
     "data": {
      "text/plain": "0"
     },
     "execution_count": 14,
     "metadata": {},
     "output_type": "execute_result"
    }
   ],
   "source": [
    "lames.duplicated().sum()"
   ],
   "metadata": {
    "collapsed": false
   }
  },
  {
   "cell_type": "code",
   "execution_count": 15,
   "outputs": [],
   "source": [
    "\n",
    "lames.columns = lames.columns.str.lower()"
   ],
   "metadata": {
    "collapsed": false
   }
  },
  {
   "cell_type": "code",
   "execution_count": 17,
   "outputs": [
    {
     "data": {
      "text/plain": "   id  compound_id     type         source  \\\n0   2        18357  SYNONYM  KEGG COMPOUND   \n1   3        18357  SYNONYM  KEGG COMPOUND   \n2   4        18357  SYNONYM  KEGG COMPOUND   \n3   5        18357  SYNONYM  KEGG COMPOUND   \n4   9        28234  SYNONYM  KEGG COMPOUND   \n\n                                                name adapted language  \n0                                      Noradrenaline       F       en  \n1                                    L-Noradrenaline       F       en  \n2                                     Norepinephrine       F       en  \n3                                          Arterenol       F       en  \n4  (+)-(3S,4R)-cis-3,4-Dihydroxy-3,4-dihydrofluorene       F       en  ",
      "text/html": "<div>\n<style scoped>\n    .dataframe tbody tr th:only-of-type {\n        vertical-align: middle;\n    }\n\n    .dataframe tbody tr th {\n        vertical-align: top;\n    }\n\n    .dataframe thead th {\n        text-align: right;\n    }\n</style>\n<table border=\"1\" class=\"dataframe\">\n  <thead>\n    <tr style=\"text-align: right;\">\n      <th></th>\n      <th>id</th>\n      <th>compound_id</th>\n      <th>type</th>\n      <th>source</th>\n      <th>name</th>\n      <th>adapted</th>\n      <th>language</th>\n    </tr>\n  </thead>\n  <tbody>\n    <tr>\n      <th>0</th>\n      <td>2</td>\n      <td>18357</td>\n      <td>SYNONYM</td>\n      <td>KEGG COMPOUND</td>\n      <td>Noradrenaline</td>\n      <td>F</td>\n      <td>en</td>\n    </tr>\n    <tr>\n      <th>1</th>\n      <td>3</td>\n      <td>18357</td>\n      <td>SYNONYM</td>\n      <td>KEGG COMPOUND</td>\n      <td>L-Noradrenaline</td>\n      <td>F</td>\n      <td>en</td>\n    </tr>\n    <tr>\n      <th>2</th>\n      <td>4</td>\n      <td>18357</td>\n      <td>SYNONYM</td>\n      <td>KEGG COMPOUND</td>\n      <td>Norepinephrine</td>\n      <td>F</td>\n      <td>en</td>\n    </tr>\n    <tr>\n      <th>3</th>\n      <td>5</td>\n      <td>18357</td>\n      <td>SYNONYM</td>\n      <td>KEGG COMPOUND</td>\n      <td>Arterenol</td>\n      <td>F</td>\n      <td>en</td>\n    </tr>\n    <tr>\n      <th>4</th>\n      <td>9</td>\n      <td>28234</td>\n      <td>SYNONYM</td>\n      <td>KEGG COMPOUND</td>\n      <td>(+)-(3S,4R)-cis-3,4-Dihydroxy-3,4-dihydrofluorene</td>\n      <td>F</td>\n      <td>en</td>\n    </tr>\n  </tbody>\n</table>\n</div>"
     },
     "execution_count": 17,
     "metadata": {},
     "output_type": "execute_result"
    }
   ],
   "source": [
    "lames.head()"
   ],
   "metadata": {
    "collapsed": false
   }
  },
  {
   "cell_type": "code",
   "execution_count": 22,
   "outputs": [],
   "source": [
    "lames.to_csv('namesf',sep='\\t', index = False)"
   ],
   "metadata": {
    "collapsed": false
   }
  },
  {
   "cell_type": "code",
   "execution_count": 23,
   "outputs": [],
   "source": [
    "datnam.to_csv('datnamf',sep='\\t',index = False)"
   ],
   "metadata": {
    "collapsed": false
   }
  },
  {
   "cell_type": "code",
   "execution_count": null,
   "outputs": [],
   "source": [],
   "metadata": {
    "collapsed": false
   }
  }
 ],
 "metadata": {
  "kernelspec": {
   "display_name": "Python 3",
   "language": "python",
   "name": "python3"
  },
  "language_info": {
   "codemirror_mode": {
    "name": "ipython",
    "version": 2
   },
   "file_extension": ".py",
   "mimetype": "text/x-python",
   "name": "python",
   "nbconvert_exporter": "python",
   "pygments_lexer": "ipython2",
   "version": "2.7.6"
  }
 },
 "nbformat": 4,
 "nbformat_minor": 0
}
