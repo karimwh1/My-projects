{
 "cells": [
  {
   "cell_type": "code",
   "execution_count": 1,
   "outputs": [],
   "source": [
    "import pandas as pd\n",
    "import numpy as np"
   ],
   "metadata": {
    "collapsed": false
   }
  },
  {
   "cell_type": "code",
   "execution_count": 2,
   "outputs": [
    {
     "name": "stderr",
     "output_type": "stream",
     "text": [
      "C:\\Users\\karim\\AppData\\Local\\Temp\\ipykernel_11248\\1917011255.py:1: DtypeWarning: Columns (5,6,7,8) have mixed types. Specify dtype option on import or set low_memory=False.\n",
      "  compounds = pd.read_csv(\"compounds_3star.tsv\", sep= \"\\t\")\n"
     ]
    }
   ],
   "source": [
    "compounds = pd.read_csv(\"compounds_3star.tsv\", sep= \"\\t\")"
   ],
   "metadata": {
    "collapsed": false
   }
  },
  {
   "cell_type": "code",
   "execution_count": 3,
   "outputs": [
    {
     "data": {
      "text/plain": "       ID STATUS CHEBI_ACCESSION         SOURCE  PARENT_ID  \\\n0    4798      C      CHEBI:4798  KEGG COMPOUND        NaN   \n1    2341      C      CHEBI:2341  KEGG COMPOUND        NaN   \n2    3223      C      CHEBI:3223  KEGG COMPOUND        NaN   \n3    8028      C      CHEBI:8028  KEGG COMPOUND        NaN   \n4    3423      C      CHEBI:3423  KEGG COMPOUND        NaN   \n5    4819      C      CHEBI:4819  KEGG COMPOUND        NaN   \n6    5672      C      CHEBI:5672  KEGG COMPOUND        NaN   \n7    6047      C      CHEBI:6047  KEGG COMPOUND        NaN   \n8    5555      C      CHEBI:5555  KEGG COMPOUND        NaN   \n9    1391      C      CHEBI:1391  KEGG COMPOUND        NaN   \n10   4331      C      CHEBI:4331  KEGG COMPOUND        NaN   \n11   8368      C      CHEBI:8368  KEGG COMPOUND        NaN   \n12   9943      C      CHEBI:9943  KEGG COMPOUND        NaN   \n13   9775      C      CHEBI:9775  KEGG COMPOUND        NaN   \n14   2953      C      CHEBI:2953  KEGG COMPOUND        NaN   \n15   2666      C      CHEBI:2666  KEGG COMPOUND        NaN   \n16   3561      C      CHEBI:3561  KEGG COMPOUND        NaN   \n17   2440      C      CHEBI:2440  KEGG COMPOUND        NaN   \n18  29585      C     CHEBI:29585  KEGG COMPOUND        NaN   \n19   8499      C      CHEBI:8499  KEGG COMPOUND        NaN   \n20   5557      C      CHEBI:5557  KEGG COMPOUND        NaN   \n21    119      C       CHEBI:119  KEGG COMPOUND        NaN   \n22   3750      C      CHEBI:3750  KEGG COMPOUND        NaN   \n23   3764      C      CHEBI:3764  KEGG COMPOUND        NaN   \n24   8871      C      CHEBI:8871  KEGG COMPOUND        NaN   \n25   2687      C      CHEBI:2687  KEGG COMPOUND        NaN   \n26   4708      C      CHEBI:4708  KEGG COMPOUND        NaN   \n27   5118      C      CHEBI:5118  KEGG COMPOUND        NaN   \n28   3687      C      CHEBI:3687  KEGG COMPOUND        NaN   \n29   5001      C      CHEBI:5001  KEGG COMPOUND        NaN   \n30     89      C        CHEBI:89  KEGG COMPOUND        NaN   \n31   2369      C      CHEBI:2369  KEGG COMPOUND        NaN   \n32   2415      C      CHEBI:2415  KEGG COMPOUND        NaN   \n33   6067      C      CHEBI:6067  KEGG COMPOUND        NaN   \n34   9233      C      CHEBI:9233  KEGG COMPOUND        NaN   \n35   7735      C      CHEBI:7735  KEGG COMPOUND        NaN   \n36   2673      C      CHEBI:2673  KEGG COMPOUND        NaN   \n37   8024      C      CHEBI:8024  KEGG COMPOUND        NaN   \n38   4653      C      CHEBI:4653  KEGG COMPOUND        NaN   \n39   4657      C      CHEBI:4657  KEGG COMPOUND        NaN   \n\n                                            NAME  \\\n0                                     entacapone   \n1                                        AACOCF3   \n2                                      buspirone   \n3                                   perphenazine   \n4                                     carmustine   \n5                                    lysergamide   \n6                                   heptan-2-one   \n7                                 isoprothiolane   \n8                                      guanadrel   \n9              3,4-methylenedioxymethamphetamine   \n10                                     dauricine   \n11                                   precocene I   \n12                                   venlafaxine   \n13                                    tubulosine   \n14                               azinphos-methyl   \n15                                 amitriptyline   \n16                                    cetirizine   \n17                                   acrovestone   \n18  5-aminocyclohexa-1,3-diene-1-carboxylic acid   \n19                                   propranolol   \n20                                  guanethidine   \n21                                  D-synephrine   \n22                                    clofibrate   \n23                                  clotrimazole   \n24                                   risperidone   \n25                                     amsacrine   \n26                                     doxazosin   \n27                                    fluoxetine   \n28                                  chrysophanol   \n29                                   fenofibrate   \n30                                  (-)-camphene   \n31                                 abyssinone VI   \n32                                acetylcaranine   \n33                                  isotretinoin   \n34                                     spiperone   \n35                                    olanzapine   \n36                                   amobarbital   \n37                                   perindopril   \n38                                  dipyridamole   \n39                                  disopyramide   \n\n                                           DEFINITION MODIFIED_ON CREATED_BY  \\\n0   A monocarboxylic acid amide that is N,N-diethy...  2017-02-22      CHEBI   \n1   A fatty acid derivative that is arachidonic ac...  2015-01-22      CHEBI   \n2   An azaspiro compound that is 8-azaspiro[4.5]de...  2018-02-21      CHEBI   \n3   A phenothiazine derivative in which the phenot...  2017-02-22      CHEBI   \n4   A member of the class of N-nitrosoureas that i...  2017-02-22      CHEBI   \n5   An ergoline alkaloid comprising ergoline lacki...  2014-07-28      CHEBI   \n6   A dialkyl ketone with methyl and pentyl as the...  2017-09-04      CHEBI   \n7   A malonate ester that is diisopropyl malonate ...  2018-03-09      CHEBI   \n8   A spiroketal resulting from the formal condens...  2017-02-22      CHEBI   \n9   A member of the class of  benzodioxoles that i...  2016-06-20      CHEBI   \n10  A bisbenzylisoquinoline alkaloid resulting fro...  2016-08-12      CHEBI   \n11  A member of the class of chromenes that is 2H-...  2015-07-16      CHEBI   \n12  A tertiary amino compound that is N,N-dimethyl...  2017-02-22      CHEBI   \n13  A member of the class of beta-carbolines that ...  2015-02-02      CHEBI   \n14  A member of the class of  benzotriazines that ...  2016-02-25      CHEBI   \n15  An organic tricyclic compound that is 10,11-di...  2018-03-27      CHEBI   \n16  A member of the class of piperazines that is p...  2017-02-22      CHEBI   \n17  A polyphenol that is isolated from Acronychia ...  2020-05-19      CHEBI   \n18  An alpha,beta-unsaturated monocarboxylic acid ...  2019-10-10      CHEBI   \n19  A propanolamine that is propan-2-ol substitute...  2017-02-22      CHEBI   \n20  A member of the class of  guanidines in which ...  2017-02-22      CHEBI   \n21                    The D-enantiomer of synephrine.  2015-10-23      CHEBI   \n22                 The ethyl ester of clofibric acid.  2021-09-20      CHEBI   \n23  A member of the class of imidazoles that is 1H...  2017-02-22      CHEBI   \n24  A member of the class of pyridopyrimidines tha...  2017-02-22      CHEBI   \n25  A sulfonamide that is N-phenylmethanesulfonami...  2017-02-22      CHEBI   \n26  A member of the class of  quinazolines that is...  2017-02-22      CHEBI   \n27  A racemate comprising equimolar amounts of (R)...  2017-02-22      CHEBI   \n28  A trihydroxyanthraquinone that is chrysazin wi...  2020-05-26      CHEBI   \n29  A chlorobenzophenone that is (4-chlorophenyl)(...  2021-10-11      CHEBI   \n30  A camphene (2,2-dimethyl-3-methylenebicyclo[2....  2015-01-22      CHEBI   \n31  A member of the class of chalcones that is iso...  2015-01-23      CHEBI   \n32  An organic heteropentacyclic compound that is ...  2015-01-23      CHEBI   \n33  A retinoic acid that is all-trans-retinoic aci...  2017-02-22      CHEBI   \n34  An azaspiro compound that is 1,3,8-triazaspiro...  2017-02-22      CHEBI   \n35  A benzodiazepine that is 10H-thieno[2,3-b][1,5...  2017-02-22      CHEBI   \n36  A member of the class of  barbiturates that is...  2017-02-22      CHEBI   \n37  An alpha-amino acid ester that is the ethyl es...  2017-02-22      CHEBI   \n38  A pyrimidopyrimidine that is 2,2',2'',2'''-(py...  2017-02-22      CHEBI   \n39  A monocarboxylic acid amide that is butanamide...  2017-02-22      CHEBI   \n\n    STAR  \n0      3  \n1      3  \n2      3  \n3      3  \n4      3  \n5      3  \n6      3  \n7      3  \n8      3  \n9      3  \n10     3  \n11     3  \n12     3  \n13     3  \n14     3  \n15     3  \n16     3  \n17     3  \n18     3  \n19     3  \n20     3  \n21     3  \n22     3  \n23     3  \n24     3  \n25     3  \n26     3  \n27     3  \n28     3  \n29     3  \n30     3  \n31     3  \n32     3  \n33     3  \n34     3  \n35     3  \n36     3  \n37     3  \n38     3  \n39     3  ",
      "text/html": "<div>\n<style scoped>\n    .dataframe tbody tr th:only-of-type {\n        vertical-align: middle;\n    }\n\n    .dataframe tbody tr th {\n        vertical-align: top;\n    }\n\n    .dataframe thead th {\n        text-align: right;\n    }\n</style>\n<table border=\"1\" class=\"dataframe\">\n  <thead>\n    <tr style=\"text-align: right;\">\n      <th></th>\n      <th>ID</th>\n      <th>STATUS</th>\n      <th>CHEBI_ACCESSION</th>\n      <th>SOURCE</th>\n      <th>PARENT_ID</th>\n      <th>NAME</th>\n      <th>DEFINITION</th>\n      <th>MODIFIED_ON</th>\n      <th>CREATED_BY</th>\n      <th>STAR</th>\n    </tr>\n  </thead>\n  <tbody>\n    <tr>\n      <th>0</th>\n      <td>4798</td>\n      <td>C</td>\n      <td>CHEBI:4798</td>\n      <td>KEGG COMPOUND</td>\n      <td>NaN</td>\n      <td>entacapone</td>\n      <td>A monocarboxylic acid amide that is N,N-diethy...</td>\n      <td>2017-02-22</td>\n      <td>CHEBI</td>\n      <td>3</td>\n    </tr>\n    <tr>\n      <th>1</th>\n      <td>2341</td>\n      <td>C</td>\n      <td>CHEBI:2341</td>\n      <td>KEGG COMPOUND</td>\n      <td>NaN</td>\n      <td>AACOCF3</td>\n      <td>A fatty acid derivative that is arachidonic ac...</td>\n      <td>2015-01-22</td>\n      <td>CHEBI</td>\n      <td>3</td>\n    </tr>\n    <tr>\n      <th>2</th>\n      <td>3223</td>\n      <td>C</td>\n      <td>CHEBI:3223</td>\n      <td>KEGG COMPOUND</td>\n      <td>NaN</td>\n      <td>buspirone</td>\n      <td>An azaspiro compound that is 8-azaspiro[4.5]de...</td>\n      <td>2018-02-21</td>\n      <td>CHEBI</td>\n      <td>3</td>\n    </tr>\n    <tr>\n      <th>3</th>\n      <td>8028</td>\n      <td>C</td>\n      <td>CHEBI:8028</td>\n      <td>KEGG COMPOUND</td>\n      <td>NaN</td>\n      <td>perphenazine</td>\n      <td>A phenothiazine derivative in which the phenot...</td>\n      <td>2017-02-22</td>\n      <td>CHEBI</td>\n      <td>3</td>\n    </tr>\n    <tr>\n      <th>4</th>\n      <td>3423</td>\n      <td>C</td>\n      <td>CHEBI:3423</td>\n      <td>KEGG COMPOUND</td>\n      <td>NaN</td>\n      <td>carmustine</td>\n      <td>A member of the class of N-nitrosoureas that i...</td>\n      <td>2017-02-22</td>\n      <td>CHEBI</td>\n      <td>3</td>\n    </tr>\n    <tr>\n      <th>5</th>\n      <td>4819</td>\n      <td>C</td>\n      <td>CHEBI:4819</td>\n      <td>KEGG COMPOUND</td>\n      <td>NaN</td>\n      <td>lysergamide</td>\n      <td>An ergoline alkaloid comprising ergoline lacki...</td>\n      <td>2014-07-28</td>\n      <td>CHEBI</td>\n      <td>3</td>\n    </tr>\n    <tr>\n      <th>6</th>\n      <td>5672</td>\n      <td>C</td>\n      <td>CHEBI:5672</td>\n      <td>KEGG COMPOUND</td>\n      <td>NaN</td>\n      <td>heptan-2-one</td>\n      <td>A dialkyl ketone with methyl and pentyl as the...</td>\n      <td>2017-09-04</td>\n      <td>CHEBI</td>\n      <td>3</td>\n    </tr>\n    <tr>\n      <th>7</th>\n      <td>6047</td>\n      <td>C</td>\n      <td>CHEBI:6047</td>\n      <td>KEGG COMPOUND</td>\n      <td>NaN</td>\n      <td>isoprothiolane</td>\n      <td>A malonate ester that is diisopropyl malonate ...</td>\n      <td>2018-03-09</td>\n      <td>CHEBI</td>\n      <td>3</td>\n    </tr>\n    <tr>\n      <th>8</th>\n      <td>5555</td>\n      <td>C</td>\n      <td>CHEBI:5555</td>\n      <td>KEGG COMPOUND</td>\n      <td>NaN</td>\n      <td>guanadrel</td>\n      <td>A spiroketal resulting from the formal condens...</td>\n      <td>2017-02-22</td>\n      <td>CHEBI</td>\n      <td>3</td>\n    </tr>\n    <tr>\n      <th>9</th>\n      <td>1391</td>\n      <td>C</td>\n      <td>CHEBI:1391</td>\n      <td>KEGG COMPOUND</td>\n      <td>NaN</td>\n      <td>3,4-methylenedioxymethamphetamine</td>\n      <td>A member of the class of  benzodioxoles that i...</td>\n      <td>2016-06-20</td>\n      <td>CHEBI</td>\n      <td>3</td>\n    </tr>\n    <tr>\n      <th>10</th>\n      <td>4331</td>\n      <td>C</td>\n      <td>CHEBI:4331</td>\n      <td>KEGG COMPOUND</td>\n      <td>NaN</td>\n      <td>dauricine</td>\n      <td>A bisbenzylisoquinoline alkaloid resulting fro...</td>\n      <td>2016-08-12</td>\n      <td>CHEBI</td>\n      <td>3</td>\n    </tr>\n    <tr>\n      <th>11</th>\n      <td>8368</td>\n      <td>C</td>\n      <td>CHEBI:8368</td>\n      <td>KEGG COMPOUND</td>\n      <td>NaN</td>\n      <td>precocene I</td>\n      <td>A member of the class of chromenes that is 2H-...</td>\n      <td>2015-07-16</td>\n      <td>CHEBI</td>\n      <td>3</td>\n    </tr>\n    <tr>\n      <th>12</th>\n      <td>9943</td>\n      <td>C</td>\n      <td>CHEBI:9943</td>\n      <td>KEGG COMPOUND</td>\n      <td>NaN</td>\n      <td>venlafaxine</td>\n      <td>A tertiary amino compound that is N,N-dimethyl...</td>\n      <td>2017-02-22</td>\n      <td>CHEBI</td>\n      <td>3</td>\n    </tr>\n    <tr>\n      <th>13</th>\n      <td>9775</td>\n      <td>C</td>\n      <td>CHEBI:9775</td>\n      <td>KEGG COMPOUND</td>\n      <td>NaN</td>\n      <td>tubulosine</td>\n      <td>A member of the class of beta-carbolines that ...</td>\n      <td>2015-02-02</td>\n      <td>CHEBI</td>\n      <td>3</td>\n    </tr>\n    <tr>\n      <th>14</th>\n      <td>2953</td>\n      <td>C</td>\n      <td>CHEBI:2953</td>\n      <td>KEGG COMPOUND</td>\n      <td>NaN</td>\n      <td>azinphos-methyl</td>\n      <td>A member of the class of  benzotriazines that ...</td>\n      <td>2016-02-25</td>\n      <td>CHEBI</td>\n      <td>3</td>\n    </tr>\n    <tr>\n      <th>15</th>\n      <td>2666</td>\n      <td>C</td>\n      <td>CHEBI:2666</td>\n      <td>KEGG COMPOUND</td>\n      <td>NaN</td>\n      <td>amitriptyline</td>\n      <td>An organic tricyclic compound that is 10,11-di...</td>\n      <td>2018-03-27</td>\n      <td>CHEBI</td>\n      <td>3</td>\n    </tr>\n    <tr>\n      <th>16</th>\n      <td>3561</td>\n      <td>C</td>\n      <td>CHEBI:3561</td>\n      <td>KEGG COMPOUND</td>\n      <td>NaN</td>\n      <td>cetirizine</td>\n      <td>A member of the class of piperazines that is p...</td>\n      <td>2017-02-22</td>\n      <td>CHEBI</td>\n      <td>3</td>\n    </tr>\n    <tr>\n      <th>17</th>\n      <td>2440</td>\n      <td>C</td>\n      <td>CHEBI:2440</td>\n      <td>KEGG COMPOUND</td>\n      <td>NaN</td>\n      <td>acrovestone</td>\n      <td>A polyphenol that is isolated from Acronychia ...</td>\n      <td>2020-05-19</td>\n      <td>CHEBI</td>\n      <td>3</td>\n    </tr>\n    <tr>\n      <th>18</th>\n      <td>29585</td>\n      <td>C</td>\n      <td>CHEBI:29585</td>\n      <td>KEGG COMPOUND</td>\n      <td>NaN</td>\n      <td>5-aminocyclohexa-1,3-diene-1-carboxylic acid</td>\n      <td>An alpha,beta-unsaturated monocarboxylic acid ...</td>\n      <td>2019-10-10</td>\n      <td>CHEBI</td>\n      <td>3</td>\n    </tr>\n    <tr>\n      <th>19</th>\n      <td>8499</td>\n      <td>C</td>\n      <td>CHEBI:8499</td>\n      <td>KEGG COMPOUND</td>\n      <td>NaN</td>\n      <td>propranolol</td>\n      <td>A propanolamine that is propan-2-ol substitute...</td>\n      <td>2017-02-22</td>\n      <td>CHEBI</td>\n      <td>3</td>\n    </tr>\n    <tr>\n      <th>20</th>\n      <td>5557</td>\n      <td>C</td>\n      <td>CHEBI:5557</td>\n      <td>KEGG COMPOUND</td>\n      <td>NaN</td>\n      <td>guanethidine</td>\n      <td>A member of the class of  guanidines in which ...</td>\n      <td>2017-02-22</td>\n      <td>CHEBI</td>\n      <td>3</td>\n    </tr>\n    <tr>\n      <th>21</th>\n      <td>119</td>\n      <td>C</td>\n      <td>CHEBI:119</td>\n      <td>KEGG COMPOUND</td>\n      <td>NaN</td>\n      <td>D-synephrine</td>\n      <td>The D-enantiomer of synephrine.</td>\n      <td>2015-10-23</td>\n      <td>CHEBI</td>\n      <td>3</td>\n    </tr>\n    <tr>\n      <th>22</th>\n      <td>3750</td>\n      <td>C</td>\n      <td>CHEBI:3750</td>\n      <td>KEGG COMPOUND</td>\n      <td>NaN</td>\n      <td>clofibrate</td>\n      <td>The ethyl ester of clofibric acid.</td>\n      <td>2021-09-20</td>\n      <td>CHEBI</td>\n      <td>3</td>\n    </tr>\n    <tr>\n      <th>23</th>\n      <td>3764</td>\n      <td>C</td>\n      <td>CHEBI:3764</td>\n      <td>KEGG COMPOUND</td>\n      <td>NaN</td>\n      <td>clotrimazole</td>\n      <td>A member of the class of imidazoles that is 1H...</td>\n      <td>2017-02-22</td>\n      <td>CHEBI</td>\n      <td>3</td>\n    </tr>\n    <tr>\n      <th>24</th>\n      <td>8871</td>\n      <td>C</td>\n      <td>CHEBI:8871</td>\n      <td>KEGG COMPOUND</td>\n      <td>NaN</td>\n      <td>risperidone</td>\n      <td>A member of the class of pyridopyrimidines tha...</td>\n      <td>2017-02-22</td>\n      <td>CHEBI</td>\n      <td>3</td>\n    </tr>\n    <tr>\n      <th>25</th>\n      <td>2687</td>\n      <td>C</td>\n      <td>CHEBI:2687</td>\n      <td>KEGG COMPOUND</td>\n      <td>NaN</td>\n      <td>amsacrine</td>\n      <td>A sulfonamide that is N-phenylmethanesulfonami...</td>\n      <td>2017-02-22</td>\n      <td>CHEBI</td>\n      <td>3</td>\n    </tr>\n    <tr>\n      <th>26</th>\n      <td>4708</td>\n      <td>C</td>\n      <td>CHEBI:4708</td>\n      <td>KEGG COMPOUND</td>\n      <td>NaN</td>\n      <td>doxazosin</td>\n      <td>A member of the class of  quinazolines that is...</td>\n      <td>2017-02-22</td>\n      <td>CHEBI</td>\n      <td>3</td>\n    </tr>\n    <tr>\n      <th>27</th>\n      <td>5118</td>\n      <td>C</td>\n      <td>CHEBI:5118</td>\n      <td>KEGG COMPOUND</td>\n      <td>NaN</td>\n      <td>fluoxetine</td>\n      <td>A racemate comprising equimolar amounts of (R)...</td>\n      <td>2017-02-22</td>\n      <td>CHEBI</td>\n      <td>3</td>\n    </tr>\n    <tr>\n      <th>28</th>\n      <td>3687</td>\n      <td>C</td>\n      <td>CHEBI:3687</td>\n      <td>KEGG COMPOUND</td>\n      <td>NaN</td>\n      <td>chrysophanol</td>\n      <td>A trihydroxyanthraquinone that is chrysazin wi...</td>\n      <td>2020-05-26</td>\n      <td>CHEBI</td>\n      <td>3</td>\n    </tr>\n    <tr>\n      <th>29</th>\n      <td>5001</td>\n      <td>C</td>\n      <td>CHEBI:5001</td>\n      <td>KEGG COMPOUND</td>\n      <td>NaN</td>\n      <td>fenofibrate</td>\n      <td>A chlorobenzophenone that is (4-chlorophenyl)(...</td>\n      <td>2021-10-11</td>\n      <td>CHEBI</td>\n      <td>3</td>\n    </tr>\n    <tr>\n      <th>30</th>\n      <td>89</td>\n      <td>C</td>\n      <td>CHEBI:89</td>\n      <td>KEGG COMPOUND</td>\n      <td>NaN</td>\n      <td>(-)-camphene</td>\n      <td>A camphene (2,2-dimethyl-3-methylenebicyclo[2....</td>\n      <td>2015-01-22</td>\n      <td>CHEBI</td>\n      <td>3</td>\n    </tr>\n    <tr>\n      <th>31</th>\n      <td>2369</td>\n      <td>C</td>\n      <td>CHEBI:2369</td>\n      <td>KEGG COMPOUND</td>\n      <td>NaN</td>\n      <td>abyssinone VI</td>\n      <td>A member of the class of chalcones that is iso...</td>\n      <td>2015-01-23</td>\n      <td>CHEBI</td>\n      <td>3</td>\n    </tr>\n    <tr>\n      <th>32</th>\n      <td>2415</td>\n      <td>C</td>\n      <td>CHEBI:2415</td>\n      <td>KEGG COMPOUND</td>\n      <td>NaN</td>\n      <td>acetylcaranine</td>\n      <td>An organic heteropentacyclic compound that is ...</td>\n      <td>2015-01-23</td>\n      <td>CHEBI</td>\n      <td>3</td>\n    </tr>\n    <tr>\n      <th>33</th>\n      <td>6067</td>\n      <td>C</td>\n      <td>CHEBI:6067</td>\n      <td>KEGG COMPOUND</td>\n      <td>NaN</td>\n      <td>isotretinoin</td>\n      <td>A retinoic acid that is all-trans-retinoic aci...</td>\n      <td>2017-02-22</td>\n      <td>CHEBI</td>\n      <td>3</td>\n    </tr>\n    <tr>\n      <th>34</th>\n      <td>9233</td>\n      <td>C</td>\n      <td>CHEBI:9233</td>\n      <td>KEGG COMPOUND</td>\n      <td>NaN</td>\n      <td>spiperone</td>\n      <td>An azaspiro compound that is 1,3,8-triazaspiro...</td>\n      <td>2017-02-22</td>\n      <td>CHEBI</td>\n      <td>3</td>\n    </tr>\n    <tr>\n      <th>35</th>\n      <td>7735</td>\n      <td>C</td>\n      <td>CHEBI:7735</td>\n      <td>KEGG COMPOUND</td>\n      <td>NaN</td>\n      <td>olanzapine</td>\n      <td>A benzodiazepine that is 10H-thieno[2,3-b][1,5...</td>\n      <td>2017-02-22</td>\n      <td>CHEBI</td>\n      <td>3</td>\n    </tr>\n    <tr>\n      <th>36</th>\n      <td>2673</td>\n      <td>C</td>\n      <td>CHEBI:2673</td>\n      <td>KEGG COMPOUND</td>\n      <td>NaN</td>\n      <td>amobarbital</td>\n      <td>A member of the class of  barbiturates that is...</td>\n      <td>2017-02-22</td>\n      <td>CHEBI</td>\n      <td>3</td>\n    </tr>\n    <tr>\n      <th>37</th>\n      <td>8024</td>\n      <td>C</td>\n      <td>CHEBI:8024</td>\n      <td>KEGG COMPOUND</td>\n      <td>NaN</td>\n      <td>perindopril</td>\n      <td>An alpha-amino acid ester that is the ethyl es...</td>\n      <td>2017-02-22</td>\n      <td>CHEBI</td>\n      <td>3</td>\n    </tr>\n    <tr>\n      <th>38</th>\n      <td>4653</td>\n      <td>C</td>\n      <td>CHEBI:4653</td>\n      <td>KEGG COMPOUND</td>\n      <td>NaN</td>\n      <td>dipyridamole</td>\n      <td>A pyrimidopyrimidine that is 2,2',2'',2'''-(py...</td>\n      <td>2017-02-22</td>\n      <td>CHEBI</td>\n      <td>3</td>\n    </tr>\n    <tr>\n      <th>39</th>\n      <td>4657</td>\n      <td>C</td>\n      <td>CHEBI:4657</td>\n      <td>KEGG COMPOUND</td>\n      <td>NaN</td>\n      <td>disopyramide</td>\n      <td>A monocarboxylic acid amide that is butanamide...</td>\n      <td>2017-02-22</td>\n      <td>CHEBI</td>\n      <td>3</td>\n    </tr>\n  </tbody>\n</table>\n</div>"
     },
     "execution_count": 3,
     "metadata": {},
     "output_type": "execute_result"
    }
   ],
   "source": [
    "compounds.head(40)"
   ],
   "metadata": {
    "collapsed": false
   }
  },
  {
   "cell_type": "code",
   "execution_count": 4,
   "outputs": [
    {
     "data": {
      "text/plain": "0"
     },
     "execution_count": 4,
     "metadata": {},
     "output_type": "execute_result"
    }
   ],
   "source": [
    "compounds.duplicated().sum()"
   ],
   "metadata": {
    "collapsed": false
   }
  },
  {
   "cell_type": "code",
   "execution_count": 5,
   "outputs": [
    {
     "name": "stdout",
     "output_type": "stream",
     "text": [
      "<class 'pandas.core.frame.DataFrame'>\n",
      "RangeIndex: 78083 entries, 0 to 78082\n",
      "Data columns (total 10 columns):\n",
      " #   Column           Non-Null Count  Dtype  \n",
      "---  ------           --------------  -----  \n",
      " 0   ID               78083 non-null  int64  \n",
      " 1   STATUS           78083 non-null  object \n",
      " 2   CHEBI_ACCESSION  78083 non-null  object \n",
      " 3   SOURCE           78083 non-null  object \n",
      " 4   PARENT_ID        17854 non-null  float64\n",
      " 5   NAME             60229 non-null  object \n",
      " 6   DEFINITION       50356 non-null  object \n",
      " 7   MODIFIED_ON      60228 non-null  object \n",
      " 8   CREATED_BY       60229 non-null  object \n",
      " 9   STAR             78083 non-null  int64  \n",
      "dtypes: float64(1), int64(2), object(7)\n",
      "memory usage: 6.0+ MB\n"
     ]
    }
   ],
   "source": [
    "compounds.info()"
   ],
   "metadata": {
    "collapsed": false
   }
  },
  {
   "cell_type": "code",
   "execution_count": 6,
   "outputs": [
    {
     "data": {
      "text/plain": "ID                 78083\nSTATUS                 1\nCHEBI_ACCESSION    78083\nSOURCE                13\nPARENT_ID           7225\nNAME               60229\nDEFINITION         49789\nMODIFIED_ON         3990\nCREATED_BY           166\nSTAR                   1\ndtype: int64"
     },
     "execution_count": 6,
     "metadata": {},
     "output_type": "execute_result"
    }
   ],
   "source": [
    "compounds.nunique()"
   ],
   "metadata": {
    "collapsed": false
   }
  },
  {
   "cell_type": "code",
   "execution_count": 7,
   "outputs": [],
   "source": [
    "compounds = compounds.drop(columns='STATUS')"
   ],
   "metadata": {
    "collapsed": false
   }
  },
  {
   "cell_type": "code",
   "execution_count": 8,
   "outputs": [],
   "source": [
    "compounds = compounds.drop (columns= 'STAR')"
   ],
   "metadata": {
    "collapsed": false
   }
  },
  {
   "cell_type": "markdown",
   "source": [
    "Removed both star and status columns since they are the same and wont affect further analysis.\n"
   ],
   "metadata": {
    "collapsed": false
   }
  },
  {
   "cell_type": "code",
   "execution_count": 9,
   "outputs": [
    {
     "data": {
      "text/plain": "     ID CHEBI_ACCESSION         SOURCE  PARENT_ID          NAME  \\\n0  4798      CHEBI:4798  KEGG COMPOUND        NaN    entacapone   \n1  2341      CHEBI:2341  KEGG COMPOUND        NaN       AACOCF3   \n2  3223      CHEBI:3223  KEGG COMPOUND        NaN     buspirone   \n3  8028      CHEBI:8028  KEGG COMPOUND        NaN  perphenazine   \n4  3423      CHEBI:3423  KEGG COMPOUND        NaN    carmustine   \n\n                                          DEFINITION MODIFIED_ON CREATED_BY  \n0  A monocarboxylic acid amide that is N,N-diethy...  2017-02-22      CHEBI  \n1  A fatty acid derivative that is arachidonic ac...  2015-01-22      CHEBI  \n2  An azaspiro compound that is 8-azaspiro[4.5]de...  2018-02-21      CHEBI  \n3  A phenothiazine derivative in which the phenot...  2017-02-22      CHEBI  \n4  A member of the class of N-nitrosoureas that i...  2017-02-22      CHEBI  ",
      "text/html": "<div>\n<style scoped>\n    .dataframe tbody tr th:only-of-type {\n        vertical-align: middle;\n    }\n\n    .dataframe tbody tr th {\n        vertical-align: top;\n    }\n\n    .dataframe thead th {\n        text-align: right;\n    }\n</style>\n<table border=\"1\" class=\"dataframe\">\n  <thead>\n    <tr style=\"text-align: right;\">\n      <th></th>\n      <th>ID</th>\n      <th>CHEBI_ACCESSION</th>\n      <th>SOURCE</th>\n      <th>PARENT_ID</th>\n      <th>NAME</th>\n      <th>DEFINITION</th>\n      <th>MODIFIED_ON</th>\n      <th>CREATED_BY</th>\n    </tr>\n  </thead>\n  <tbody>\n    <tr>\n      <th>0</th>\n      <td>4798</td>\n      <td>CHEBI:4798</td>\n      <td>KEGG COMPOUND</td>\n      <td>NaN</td>\n      <td>entacapone</td>\n      <td>A monocarboxylic acid amide that is N,N-diethy...</td>\n      <td>2017-02-22</td>\n      <td>CHEBI</td>\n    </tr>\n    <tr>\n      <th>1</th>\n      <td>2341</td>\n      <td>CHEBI:2341</td>\n      <td>KEGG COMPOUND</td>\n      <td>NaN</td>\n      <td>AACOCF3</td>\n      <td>A fatty acid derivative that is arachidonic ac...</td>\n      <td>2015-01-22</td>\n      <td>CHEBI</td>\n    </tr>\n    <tr>\n      <th>2</th>\n      <td>3223</td>\n      <td>CHEBI:3223</td>\n      <td>KEGG COMPOUND</td>\n      <td>NaN</td>\n      <td>buspirone</td>\n      <td>An azaspiro compound that is 8-azaspiro[4.5]de...</td>\n      <td>2018-02-21</td>\n      <td>CHEBI</td>\n    </tr>\n    <tr>\n      <th>3</th>\n      <td>8028</td>\n      <td>CHEBI:8028</td>\n      <td>KEGG COMPOUND</td>\n      <td>NaN</td>\n      <td>perphenazine</td>\n      <td>A phenothiazine derivative in which the phenot...</td>\n      <td>2017-02-22</td>\n      <td>CHEBI</td>\n    </tr>\n    <tr>\n      <th>4</th>\n      <td>3423</td>\n      <td>CHEBI:3423</td>\n      <td>KEGG COMPOUND</td>\n      <td>NaN</td>\n      <td>carmustine</td>\n      <td>A member of the class of N-nitrosoureas that i...</td>\n      <td>2017-02-22</td>\n      <td>CHEBI</td>\n    </tr>\n  </tbody>\n</table>\n</div>"
     },
     "execution_count": 9,
     "metadata": {},
     "output_type": "execute_result"
    }
   ],
   "source": [
    "compounds.head()"
   ],
   "metadata": {
    "collapsed": false
   }
  },
  {
   "cell_type": "code",
   "execution_count": 10,
   "outputs": [],
   "source": [
    "compounds['PARENT_ID'] = compounds['PARENT_ID'].dropna()"
   ],
   "metadata": {
    "collapsed": false
   }
  },
  {
   "cell_type": "code",
   "execution_count": 11,
   "outputs": [
    {
     "name": "stdout",
     "output_type": "stream",
     "text": [
      "<class 'pandas.core.frame.DataFrame'>\n",
      "RangeIndex: 78083 entries, 0 to 78082\n",
      "Data columns (total 8 columns):\n",
      " #   Column           Non-Null Count  Dtype  \n",
      "---  ------           --------------  -----  \n",
      " 0   ID               78083 non-null  int64  \n",
      " 1   CHEBI_ACCESSION  78083 non-null  object \n",
      " 2   SOURCE           78083 non-null  object \n",
      " 3   PARENT_ID        17854 non-null  float64\n",
      " 4   NAME             60229 non-null  object \n",
      " 5   DEFINITION       50356 non-null  object \n",
      " 6   MODIFIED_ON      60228 non-null  object \n",
      " 7   CREATED_BY       60229 non-null  object \n",
      "dtypes: float64(1), int64(1), object(6)\n",
      "memory usage: 4.8+ MB\n"
     ]
    }
   ],
   "source": [
    "compounds.info()"
   ],
   "metadata": {
    "collapsed": false
   }
  },
  {
   "cell_type": "code",
   "execution_count": 18,
   "outputs": [
    {
     "data": {
      "text/plain": "     id chebi_accession         SOURCE  parent_id          name  \\\n0  4798      CHEBI:4798  KEGG COMPOUND        NaN    entacapone   \n1  2341      CHEBI:2341  KEGG COMPOUND        NaN       AACOCF3   \n2  3223      CHEBI:3223  KEGG COMPOUND        NaN     buspirone   \n3  8028      CHEBI:8028  KEGG COMPOUND        NaN  perphenazine   \n4  3423      CHEBI:3423  KEGG COMPOUND        NaN    carmustine   \n\n                                          definition modified_on created_by  \n0  A monocarboxylic acid amide that is N,N-diethy...  2017-02-22      CHEBI  \n1  A fatty acid derivative that is arachidonic ac...  2015-01-22      CHEBI  \n2  An azaspiro compound that is 8-azaspiro[4.5]de...  2018-02-21      CHEBI  \n3  A phenothiazine derivative in which the phenot...  2017-02-22      CHEBI  \n4  A member of the class of N-nitrosoureas that i...  2017-02-22      CHEBI  ",
      "text/html": "<div>\n<style scoped>\n    .dataframe tbody tr th:only-of-type {\n        vertical-align: middle;\n    }\n\n    .dataframe tbody tr th {\n        vertical-align: top;\n    }\n\n    .dataframe thead th {\n        text-align: right;\n    }\n</style>\n<table border=\"1\" class=\"dataframe\">\n  <thead>\n    <tr style=\"text-align: right;\">\n      <th></th>\n      <th>id</th>\n      <th>chebi_accession</th>\n      <th>SOURCE</th>\n      <th>parent_id</th>\n      <th>name</th>\n      <th>definition</th>\n      <th>modified_on</th>\n      <th>created_by</th>\n    </tr>\n  </thead>\n  <tbody>\n    <tr>\n      <th>0</th>\n      <td>4798</td>\n      <td>CHEBI:4798</td>\n      <td>KEGG COMPOUND</td>\n      <td>NaN</td>\n      <td>entacapone</td>\n      <td>A monocarboxylic acid amide that is N,N-diethy...</td>\n      <td>2017-02-22</td>\n      <td>CHEBI</td>\n    </tr>\n    <tr>\n      <th>1</th>\n      <td>2341</td>\n      <td>CHEBI:2341</td>\n      <td>KEGG COMPOUND</td>\n      <td>NaN</td>\n      <td>AACOCF3</td>\n      <td>A fatty acid derivative that is arachidonic ac...</td>\n      <td>2015-01-22</td>\n      <td>CHEBI</td>\n    </tr>\n    <tr>\n      <th>2</th>\n      <td>3223</td>\n      <td>CHEBI:3223</td>\n      <td>KEGG COMPOUND</td>\n      <td>NaN</td>\n      <td>buspirone</td>\n      <td>An azaspiro compound that is 8-azaspiro[4.5]de...</td>\n      <td>2018-02-21</td>\n      <td>CHEBI</td>\n    </tr>\n    <tr>\n      <th>3</th>\n      <td>8028</td>\n      <td>CHEBI:8028</td>\n      <td>KEGG COMPOUND</td>\n      <td>NaN</td>\n      <td>perphenazine</td>\n      <td>A phenothiazine derivative in which the phenot...</td>\n      <td>2017-02-22</td>\n      <td>CHEBI</td>\n    </tr>\n    <tr>\n      <th>4</th>\n      <td>3423</td>\n      <td>CHEBI:3423</td>\n      <td>KEGG COMPOUND</td>\n      <td>NaN</td>\n      <td>carmustine</td>\n      <td>A member of the class of N-nitrosoureas that i...</td>\n      <td>2017-02-22</td>\n      <td>CHEBI</td>\n    </tr>\n  </tbody>\n</table>\n</div>"
     },
     "execution_count": 18,
     "metadata": {},
     "output_type": "execute_result"
    }
   ],
   "source": [
    "compounds.head()"
   ],
   "metadata": {
    "collapsed": false
   }
  },
  {
   "cell_type": "markdown",
   "source": [
    "Question : When I try to remove nan values in PARENT_ID the whole data set is deleted ?"
   ],
   "metadata": {
    "collapsed": false
   }
  },
  {
   "cell_type": "code",
   "execution_count": 15,
   "outputs": [],
   "source": [
    "compounds.rename(columns= {'CHEBI_ACCESSION': 'chebi_accession','DEFINITION':'definition','MODIFIED_ON':'modified_on','CREATED_BY':'created_by','NAME':'name','ID':'id','PARENT_ID':'parent_id','CREATED_BY':'created_by'},inplace = True)"
   ],
   "metadata": {
    "collapsed": false
   }
  },
  {
   "cell_type": "code",
   "execution_count": 16,
   "outputs": [
    {
     "data": {
      "text/plain": "     id chebi_accession         SOURCE  parent_id          name  \\\n0  4798      CHEBI:4798  KEGG COMPOUND        NaN    entacapone   \n1  2341      CHEBI:2341  KEGG COMPOUND        NaN       AACOCF3   \n2  3223      CHEBI:3223  KEGG COMPOUND        NaN     buspirone   \n3  8028      CHEBI:8028  KEGG COMPOUND        NaN  perphenazine   \n4  3423      CHEBI:3423  KEGG COMPOUND        NaN    carmustine   \n\n                                          definition modified_on created_by  \n0  A monocarboxylic acid amide that is N,N-diethy...  2017-02-22      CHEBI  \n1  A fatty acid derivative that is arachidonic ac...  2015-01-22      CHEBI  \n2  An azaspiro compound that is 8-azaspiro[4.5]de...  2018-02-21      CHEBI  \n3  A phenothiazine derivative in which the phenot...  2017-02-22      CHEBI  \n4  A member of the class of N-nitrosoureas that i...  2017-02-22      CHEBI  ",
      "text/html": "<div>\n<style scoped>\n    .dataframe tbody tr th:only-of-type {\n        vertical-align: middle;\n    }\n\n    .dataframe tbody tr th {\n        vertical-align: top;\n    }\n\n    .dataframe thead th {\n        text-align: right;\n    }\n</style>\n<table border=\"1\" class=\"dataframe\">\n  <thead>\n    <tr style=\"text-align: right;\">\n      <th></th>\n      <th>id</th>\n      <th>chebi_accession</th>\n      <th>SOURCE</th>\n      <th>parent_id</th>\n      <th>name</th>\n      <th>definition</th>\n      <th>modified_on</th>\n      <th>created_by</th>\n    </tr>\n  </thead>\n  <tbody>\n    <tr>\n      <th>0</th>\n      <td>4798</td>\n      <td>CHEBI:4798</td>\n      <td>KEGG COMPOUND</td>\n      <td>NaN</td>\n      <td>entacapone</td>\n      <td>A monocarboxylic acid amide that is N,N-diethy...</td>\n      <td>2017-02-22</td>\n      <td>CHEBI</td>\n    </tr>\n    <tr>\n      <th>1</th>\n      <td>2341</td>\n      <td>CHEBI:2341</td>\n      <td>KEGG COMPOUND</td>\n      <td>NaN</td>\n      <td>AACOCF3</td>\n      <td>A fatty acid derivative that is arachidonic ac...</td>\n      <td>2015-01-22</td>\n      <td>CHEBI</td>\n    </tr>\n    <tr>\n      <th>2</th>\n      <td>3223</td>\n      <td>CHEBI:3223</td>\n      <td>KEGG COMPOUND</td>\n      <td>NaN</td>\n      <td>buspirone</td>\n      <td>An azaspiro compound that is 8-azaspiro[4.5]de...</td>\n      <td>2018-02-21</td>\n      <td>CHEBI</td>\n    </tr>\n    <tr>\n      <th>3</th>\n      <td>8028</td>\n      <td>CHEBI:8028</td>\n      <td>KEGG COMPOUND</td>\n      <td>NaN</td>\n      <td>perphenazine</td>\n      <td>A phenothiazine derivative in which the phenot...</td>\n      <td>2017-02-22</td>\n      <td>CHEBI</td>\n    </tr>\n    <tr>\n      <th>4</th>\n      <td>3423</td>\n      <td>CHEBI:3423</td>\n      <td>KEGG COMPOUND</td>\n      <td>NaN</td>\n      <td>carmustine</td>\n      <td>A member of the class of N-nitrosoureas that i...</td>\n      <td>2017-02-22</td>\n      <td>CHEBI</td>\n    </tr>\n  </tbody>\n</table>\n</div>"
     },
     "execution_count": 16,
     "metadata": {},
     "output_type": "execute_result"
    }
   ],
   "source": [
    "compounds.head()"
   ],
   "metadata": {
    "collapsed": false
   }
  },
  {
   "cell_type": "markdown",
   "source": [
    "Question = Not sure if id,modifiedon and parentid are important ?\n",
    "for some reason parent_id is float tried to convert to int didnt work"
   ],
   "metadata": {
    "collapsed": false
   }
  },
  {
   "cell_type": "code",
   "execution_count": 21,
   "outputs": [
    {
     "ename": "IntCastingNaNError",
     "evalue": "Cannot convert non-finite values (NA or inf) to integer",
     "output_type": "error",
     "traceback": [
      "\u001B[1;31m---------------------------------------------------------------------------\u001B[0m",
      "\u001B[1;31mIntCastingNaNError\u001B[0m                        Traceback (most recent call last)",
      "Input \u001B[1;32mIn [21]\u001B[0m, in \u001B[0;36m<cell line: 1>\u001B[1;34m()\u001B[0m\n\u001B[1;32m----> 1\u001B[0m compounds \u001B[38;5;241m=\u001B[39m \u001B[43mcompounds\u001B[49m\u001B[38;5;241;43m.\u001B[39;49m\u001B[43mastype\u001B[49m\u001B[43m(\u001B[49m\u001B[43m{\u001B[49m\u001B[38;5;124;43m'\u001B[39;49m\u001B[38;5;124;43mparent_id\u001B[39;49m\u001B[38;5;124;43m'\u001B[39;49m\u001B[43m:\u001B[49m\u001B[38;5;28;43mint\u001B[39;49m\u001B[43m}\u001B[49m\u001B[43m)\u001B[49m\n",
      "File \u001B[1;32m~\\anaconda3\\envs\\Internship\\lib\\site-packages\\pandas\\core\\generic.py:5898\u001B[0m, in \u001B[0;36mNDFrame.astype\u001B[1;34m(self, dtype, copy, errors)\u001B[0m\n\u001B[0;32m   5896\u001B[0m             res_col \u001B[38;5;241m=\u001B[39m col\u001B[38;5;241m.\u001B[39mcopy() \u001B[38;5;28;01mif\u001B[39;00m copy \u001B[38;5;28;01melse\u001B[39;00m col\n\u001B[0;32m   5897\u001B[0m         \u001B[38;5;28;01melse\u001B[39;00m:\n\u001B[1;32m-> 5898\u001B[0m             res_col \u001B[38;5;241m=\u001B[39m \u001B[43mcol\u001B[49m\u001B[38;5;241;43m.\u001B[39;49m\u001B[43mastype\u001B[49m\u001B[43m(\u001B[49m\u001B[43mdtype\u001B[49m\u001B[38;5;241;43m=\u001B[39;49m\u001B[43mcdt\u001B[49m\u001B[43m,\u001B[49m\u001B[43m \u001B[49m\u001B[43mcopy\u001B[49m\u001B[38;5;241;43m=\u001B[39;49m\u001B[43mcopy\u001B[49m\u001B[43m,\u001B[49m\u001B[43m \u001B[49m\u001B[43merrors\u001B[49m\u001B[38;5;241;43m=\u001B[39;49m\u001B[43merrors\u001B[49m\u001B[43m)\u001B[49m\n\u001B[0;32m   5899\u001B[0m         results\u001B[38;5;241m.\u001B[39mappend(res_col)\n\u001B[0;32m   5901\u001B[0m \u001B[38;5;28;01melif\u001B[39;00m is_extension_array_dtype(dtype) \u001B[38;5;129;01mand\u001B[39;00m \u001B[38;5;28mself\u001B[39m\u001B[38;5;241m.\u001B[39mndim \u001B[38;5;241m>\u001B[39m \u001B[38;5;241m1\u001B[39m:\n\u001B[0;32m   5902\u001B[0m     \u001B[38;5;66;03m# GH 18099/22869: columnwise conversion to extension dtype\u001B[39;00m\n\u001B[0;32m   5903\u001B[0m     \u001B[38;5;66;03m# GH 24704: use iloc to handle duplicate column names\u001B[39;00m\n\u001B[0;32m   5904\u001B[0m     \u001B[38;5;66;03m# TODO(EA2D): special case not needed with 2D EAs\u001B[39;00m\n",
      "File \u001B[1;32m~\\anaconda3\\envs\\Internship\\lib\\site-packages\\pandas\\core\\generic.py:5912\u001B[0m, in \u001B[0;36mNDFrame.astype\u001B[1;34m(self, dtype, copy, errors)\u001B[0m\n\u001B[0;32m   5905\u001B[0m     results \u001B[38;5;241m=\u001B[39m [\n\u001B[0;32m   5906\u001B[0m         \u001B[38;5;28mself\u001B[39m\u001B[38;5;241m.\u001B[39miloc[:, i]\u001B[38;5;241m.\u001B[39mastype(dtype, copy\u001B[38;5;241m=\u001B[39mcopy)\n\u001B[0;32m   5907\u001B[0m         \u001B[38;5;28;01mfor\u001B[39;00m i \u001B[38;5;129;01min\u001B[39;00m \u001B[38;5;28mrange\u001B[39m(\u001B[38;5;28mlen\u001B[39m(\u001B[38;5;28mself\u001B[39m\u001B[38;5;241m.\u001B[39mcolumns))\n\u001B[0;32m   5908\u001B[0m     ]\n\u001B[0;32m   5910\u001B[0m \u001B[38;5;28;01melse\u001B[39;00m:\n\u001B[0;32m   5911\u001B[0m     \u001B[38;5;66;03m# else, only a single dtype is given\u001B[39;00m\n\u001B[1;32m-> 5912\u001B[0m     new_data \u001B[38;5;241m=\u001B[39m \u001B[38;5;28;43mself\u001B[39;49m\u001B[38;5;241;43m.\u001B[39;49m\u001B[43m_mgr\u001B[49m\u001B[38;5;241;43m.\u001B[39;49m\u001B[43mastype\u001B[49m\u001B[43m(\u001B[49m\u001B[43mdtype\u001B[49m\u001B[38;5;241;43m=\u001B[39;49m\u001B[43mdtype\u001B[49m\u001B[43m,\u001B[49m\u001B[43m \u001B[49m\u001B[43mcopy\u001B[49m\u001B[38;5;241;43m=\u001B[39;49m\u001B[43mcopy\u001B[49m\u001B[43m,\u001B[49m\u001B[43m \u001B[49m\u001B[43merrors\u001B[49m\u001B[38;5;241;43m=\u001B[39;49m\u001B[43merrors\u001B[49m\u001B[43m)\u001B[49m\n\u001B[0;32m   5913\u001B[0m     \u001B[38;5;28;01mreturn\u001B[39;00m \u001B[38;5;28mself\u001B[39m\u001B[38;5;241m.\u001B[39m_constructor(new_data)\u001B[38;5;241m.\u001B[39m__finalize__(\u001B[38;5;28mself\u001B[39m, method\u001B[38;5;241m=\u001B[39m\u001B[38;5;124m\"\u001B[39m\u001B[38;5;124mastype\u001B[39m\u001B[38;5;124m\"\u001B[39m)\n\u001B[0;32m   5915\u001B[0m \u001B[38;5;66;03m# GH 33113: handle empty frame or series\u001B[39;00m\n",
      "File \u001B[1;32m~\\anaconda3\\envs\\Internship\\lib\\site-packages\\pandas\\core\\internals\\managers.py:419\u001B[0m, in \u001B[0;36mBaseBlockManager.astype\u001B[1;34m(self, dtype, copy, errors)\u001B[0m\n\u001B[0;32m    418\u001B[0m \u001B[38;5;28;01mdef\u001B[39;00m \u001B[38;5;21mastype\u001B[39m(\u001B[38;5;28mself\u001B[39m: T, dtype, copy: \u001B[38;5;28mbool\u001B[39m \u001B[38;5;241m=\u001B[39m \u001B[38;5;28;01mFalse\u001B[39;00m, errors: \u001B[38;5;28mstr\u001B[39m \u001B[38;5;241m=\u001B[39m \u001B[38;5;124m\"\u001B[39m\u001B[38;5;124mraise\u001B[39m\u001B[38;5;124m\"\u001B[39m) \u001B[38;5;241m-\u001B[39m\u001B[38;5;241m>\u001B[39m T:\n\u001B[1;32m--> 419\u001B[0m     \u001B[38;5;28;01mreturn\u001B[39;00m \u001B[38;5;28;43mself\u001B[39;49m\u001B[38;5;241;43m.\u001B[39;49m\u001B[43mapply\u001B[49m\u001B[43m(\u001B[49m\u001B[38;5;124;43m\"\u001B[39;49m\u001B[38;5;124;43mastype\u001B[39;49m\u001B[38;5;124;43m\"\u001B[39;49m\u001B[43m,\u001B[49m\u001B[43m \u001B[49m\u001B[43mdtype\u001B[49m\u001B[38;5;241;43m=\u001B[39;49m\u001B[43mdtype\u001B[49m\u001B[43m,\u001B[49m\u001B[43m \u001B[49m\u001B[43mcopy\u001B[49m\u001B[38;5;241;43m=\u001B[39;49m\u001B[43mcopy\u001B[49m\u001B[43m,\u001B[49m\u001B[43m \u001B[49m\u001B[43merrors\u001B[49m\u001B[38;5;241;43m=\u001B[39;49m\u001B[43merrors\u001B[49m\u001B[43m)\u001B[49m\n",
      "File \u001B[1;32m~\\anaconda3\\envs\\Internship\\lib\\site-packages\\pandas\\core\\internals\\managers.py:304\u001B[0m, in \u001B[0;36mBaseBlockManager.apply\u001B[1;34m(self, f, align_keys, ignore_failures, **kwargs)\u001B[0m\n\u001B[0;32m    302\u001B[0m         applied \u001B[38;5;241m=\u001B[39m b\u001B[38;5;241m.\u001B[39mapply(f, \u001B[38;5;241m*\u001B[39m\u001B[38;5;241m*\u001B[39mkwargs)\n\u001B[0;32m    303\u001B[0m     \u001B[38;5;28;01melse\u001B[39;00m:\n\u001B[1;32m--> 304\u001B[0m         applied \u001B[38;5;241m=\u001B[39m \u001B[38;5;28mgetattr\u001B[39m(b, f)(\u001B[38;5;241m*\u001B[39m\u001B[38;5;241m*\u001B[39mkwargs)\n\u001B[0;32m    305\u001B[0m \u001B[38;5;28;01mexcept\u001B[39;00m (\u001B[38;5;167;01mTypeError\u001B[39;00m, \u001B[38;5;167;01mNotImplementedError\u001B[39;00m):\n\u001B[0;32m    306\u001B[0m     \u001B[38;5;28;01mif\u001B[39;00m \u001B[38;5;129;01mnot\u001B[39;00m ignore_failures:\n",
      "File \u001B[1;32m~\\anaconda3\\envs\\Internship\\lib\\site-packages\\pandas\\core\\internals\\blocks.py:580\u001B[0m, in \u001B[0;36mBlock.astype\u001B[1;34m(self, dtype, copy, errors)\u001B[0m\n\u001B[0;32m    562\u001B[0m \u001B[38;5;124;03m\"\"\"\u001B[39;00m\n\u001B[0;32m    563\u001B[0m \u001B[38;5;124;03mCoerce to the new dtype.\u001B[39;00m\n\u001B[0;32m    564\u001B[0m \n\u001B[1;32m   (...)\u001B[0m\n\u001B[0;32m    576\u001B[0m \u001B[38;5;124;03mBlock\u001B[39;00m\n\u001B[0;32m    577\u001B[0m \u001B[38;5;124;03m\"\"\"\u001B[39;00m\n\u001B[0;32m    578\u001B[0m values \u001B[38;5;241m=\u001B[39m \u001B[38;5;28mself\u001B[39m\u001B[38;5;241m.\u001B[39mvalues\n\u001B[1;32m--> 580\u001B[0m new_values \u001B[38;5;241m=\u001B[39m \u001B[43mastype_array_safe\u001B[49m\u001B[43m(\u001B[49m\u001B[43mvalues\u001B[49m\u001B[43m,\u001B[49m\u001B[43m \u001B[49m\u001B[43mdtype\u001B[49m\u001B[43m,\u001B[49m\u001B[43m \u001B[49m\u001B[43mcopy\u001B[49m\u001B[38;5;241;43m=\u001B[39;49m\u001B[43mcopy\u001B[49m\u001B[43m,\u001B[49m\u001B[43m \u001B[49m\u001B[43merrors\u001B[49m\u001B[38;5;241;43m=\u001B[39;49m\u001B[43merrors\u001B[49m\u001B[43m)\u001B[49m\n\u001B[0;32m    582\u001B[0m new_values \u001B[38;5;241m=\u001B[39m maybe_coerce_values(new_values)\n\u001B[0;32m    583\u001B[0m newb \u001B[38;5;241m=\u001B[39m \u001B[38;5;28mself\u001B[39m\u001B[38;5;241m.\u001B[39mmake_block(new_values)\n",
      "File \u001B[1;32m~\\anaconda3\\envs\\Internship\\lib\\site-packages\\pandas\\core\\dtypes\\cast.py:1292\u001B[0m, in \u001B[0;36mastype_array_safe\u001B[1;34m(values, dtype, copy, errors)\u001B[0m\n\u001B[0;32m   1289\u001B[0m     dtype \u001B[38;5;241m=\u001B[39m dtype\u001B[38;5;241m.\u001B[39mnumpy_dtype\n\u001B[0;32m   1291\u001B[0m \u001B[38;5;28;01mtry\u001B[39;00m:\n\u001B[1;32m-> 1292\u001B[0m     new_values \u001B[38;5;241m=\u001B[39m \u001B[43mastype_array\u001B[49m\u001B[43m(\u001B[49m\u001B[43mvalues\u001B[49m\u001B[43m,\u001B[49m\u001B[43m \u001B[49m\u001B[43mdtype\u001B[49m\u001B[43m,\u001B[49m\u001B[43m \u001B[49m\u001B[43mcopy\u001B[49m\u001B[38;5;241;43m=\u001B[39;49m\u001B[43mcopy\u001B[49m\u001B[43m)\u001B[49m\n\u001B[0;32m   1293\u001B[0m \u001B[38;5;28;01mexcept\u001B[39;00m (\u001B[38;5;167;01mValueError\u001B[39;00m, \u001B[38;5;167;01mTypeError\u001B[39;00m):\n\u001B[0;32m   1294\u001B[0m     \u001B[38;5;66;03m# e.g. astype_nansafe can fail on object-dtype of strings\u001B[39;00m\n\u001B[0;32m   1295\u001B[0m     \u001B[38;5;66;03m#  trying to convert to float\u001B[39;00m\n\u001B[0;32m   1296\u001B[0m     \u001B[38;5;28;01mif\u001B[39;00m errors \u001B[38;5;241m==\u001B[39m \u001B[38;5;124m\"\u001B[39m\u001B[38;5;124mignore\u001B[39m\u001B[38;5;124m\"\u001B[39m:\n",
      "File \u001B[1;32m~\\anaconda3\\envs\\Internship\\lib\\site-packages\\pandas\\core\\dtypes\\cast.py:1237\u001B[0m, in \u001B[0;36mastype_array\u001B[1;34m(values, dtype, copy)\u001B[0m\n\u001B[0;32m   1234\u001B[0m     values \u001B[38;5;241m=\u001B[39m values\u001B[38;5;241m.\u001B[39mastype(dtype, copy\u001B[38;5;241m=\u001B[39mcopy)\n\u001B[0;32m   1236\u001B[0m \u001B[38;5;28;01melse\u001B[39;00m:\n\u001B[1;32m-> 1237\u001B[0m     values \u001B[38;5;241m=\u001B[39m \u001B[43mastype_nansafe\u001B[49m\u001B[43m(\u001B[49m\u001B[43mvalues\u001B[49m\u001B[43m,\u001B[49m\u001B[43m \u001B[49m\u001B[43mdtype\u001B[49m\u001B[43m,\u001B[49m\u001B[43m \u001B[49m\u001B[43mcopy\u001B[49m\u001B[38;5;241;43m=\u001B[39;49m\u001B[43mcopy\u001B[49m\u001B[43m)\u001B[49m\n\u001B[0;32m   1239\u001B[0m \u001B[38;5;66;03m# in pandas we don't store numpy str dtypes, so convert to object\u001B[39;00m\n\u001B[0;32m   1240\u001B[0m \u001B[38;5;28;01mif\u001B[39;00m \u001B[38;5;28misinstance\u001B[39m(dtype, np\u001B[38;5;241m.\u001B[39mdtype) \u001B[38;5;129;01mand\u001B[39;00m \u001B[38;5;28missubclass\u001B[39m(values\u001B[38;5;241m.\u001B[39mdtype\u001B[38;5;241m.\u001B[39mtype, \u001B[38;5;28mstr\u001B[39m):\n",
      "File \u001B[1;32m~\\anaconda3\\envs\\Internship\\lib\\site-packages\\pandas\\core\\dtypes\\cast.py:1148\u001B[0m, in \u001B[0;36mastype_nansafe\u001B[1;34m(arr, dtype, copy, skipna)\u001B[0m\n\u001B[0;32m   1145\u001B[0m     \u001B[38;5;28;01mraise\u001B[39;00m \u001B[38;5;167;01mTypeError\u001B[39;00m(\u001B[38;5;124mf\u001B[39m\u001B[38;5;124m\"\u001B[39m\u001B[38;5;124mcannot astype a timedelta from [\u001B[39m\u001B[38;5;132;01m{\u001B[39;00marr\u001B[38;5;241m.\u001B[39mdtype\u001B[38;5;132;01m}\u001B[39;00m\u001B[38;5;124m] to [\u001B[39m\u001B[38;5;132;01m{\u001B[39;00mdtype\u001B[38;5;132;01m}\u001B[39;00m\u001B[38;5;124m]\u001B[39m\u001B[38;5;124m\"\u001B[39m)\n\u001B[0;32m   1147\u001B[0m \u001B[38;5;28;01melif\u001B[39;00m np\u001B[38;5;241m.\u001B[39missubdtype(arr\u001B[38;5;241m.\u001B[39mdtype, np\u001B[38;5;241m.\u001B[39mfloating) \u001B[38;5;129;01mand\u001B[39;00m np\u001B[38;5;241m.\u001B[39missubdtype(dtype, np\u001B[38;5;241m.\u001B[39minteger):\n\u001B[1;32m-> 1148\u001B[0m     \u001B[38;5;28;01mreturn\u001B[39;00m \u001B[43mastype_float_to_int_nansafe\u001B[49m\u001B[43m(\u001B[49m\u001B[43marr\u001B[49m\u001B[43m,\u001B[49m\u001B[43m \u001B[49m\u001B[43mdtype\u001B[49m\u001B[43m,\u001B[49m\u001B[43m \u001B[49m\u001B[43mcopy\u001B[49m\u001B[43m)\u001B[49m\n\u001B[0;32m   1150\u001B[0m \u001B[38;5;28;01melif\u001B[39;00m is_object_dtype(arr\u001B[38;5;241m.\u001B[39mdtype):\n\u001B[0;32m   1151\u001B[0m \n\u001B[0;32m   1152\u001B[0m     \u001B[38;5;66;03m# work around NumPy brokenness, #1987\u001B[39;00m\n\u001B[0;32m   1153\u001B[0m     \u001B[38;5;28;01mif\u001B[39;00m np\u001B[38;5;241m.\u001B[39missubdtype(dtype\u001B[38;5;241m.\u001B[39mtype, np\u001B[38;5;241m.\u001B[39minteger):\n",
      "File \u001B[1;32m~\\anaconda3\\envs\\Internship\\lib\\site-packages\\pandas\\core\\dtypes\\cast.py:1193\u001B[0m, in \u001B[0;36mastype_float_to_int_nansafe\u001B[1;34m(values, dtype, copy)\u001B[0m\n\u001B[0;32m   1189\u001B[0m \u001B[38;5;124;03m\"\"\"\u001B[39;00m\n\u001B[0;32m   1190\u001B[0m \u001B[38;5;124;03mastype with a check preventing converting NaN to an meaningless integer value.\u001B[39;00m\n\u001B[0;32m   1191\u001B[0m \u001B[38;5;124;03m\"\"\"\u001B[39;00m\n\u001B[0;32m   1192\u001B[0m \u001B[38;5;28;01mif\u001B[39;00m \u001B[38;5;129;01mnot\u001B[39;00m np\u001B[38;5;241m.\u001B[39misfinite(values)\u001B[38;5;241m.\u001B[39mall():\n\u001B[1;32m-> 1193\u001B[0m     \u001B[38;5;28;01mraise\u001B[39;00m IntCastingNaNError(\n\u001B[0;32m   1194\u001B[0m         \u001B[38;5;124m\"\u001B[39m\u001B[38;5;124mCannot convert non-finite values (NA or inf) to integer\u001B[39m\u001B[38;5;124m\"\u001B[39m\n\u001B[0;32m   1195\u001B[0m     )\n\u001B[0;32m   1196\u001B[0m \u001B[38;5;28;01mreturn\u001B[39;00m values\u001B[38;5;241m.\u001B[39mastype(dtype, copy\u001B[38;5;241m=\u001B[39mcopy)\n",
      "\u001B[1;31mIntCastingNaNError\u001B[0m: Cannot convert non-finite values (NA or inf) to integer"
     ]
    }
   ],
   "source": [
    "compounds = compounds.astype({'parent_id':int})"
   ],
   "metadata": {
    "collapsed": false
   }
  },
  {
   "cell_type": "code",
   "execution_count": 24,
   "outputs": [],
   "source": [
    "compounds_3 = compounds['parent_id'].dropna()"
   ],
   "metadata": {
    "collapsed": false
   }
  },
  {
   "cell_type": "code",
   "execution_count": 27,
   "outputs": [
    {
     "data": {
      "text/plain": "60229      4562.0\n60230      4495.0\n60231     28009.0\n60232     16124.0\n60233    251408.0\nName: parent_id, dtype: float64"
     },
     "execution_count": 27,
     "metadata": {},
     "output_type": "execute_result"
    }
   ],
   "source": [
    "compounds_3.head()"
   ],
   "metadata": {
    "collapsed": false
   }
  },
  {
   "cell_type": "markdown",
   "source": [
    "Managed to separate the non nan values these are the only ones not sure if this column is important or not.\n",
    "Noticed that the accession number is the same as the id could probably remove the accession column.\n"
   ],
   "metadata": {
    "collapsed": false
   }
  },
  {
   "cell_type": "code",
   "execution_count": 32,
   "outputs": [],
   "source": [
    "compounds.to_csv('compounds_semi_final.tsv', sep ='\\t', index= False)"
   ],
   "metadata": {
    "collapsed": false
   }
  },
  {
   "cell_type": "code",
   "execution_count": 33,
   "outputs": [
    {
     "name": "stderr",
     "output_type": "stream",
     "text": [
      "C:\\Users\\karim\\AppData\\Local\\Temp\\ipykernel_11248\\2274855860.py:1: DtypeWarning: Columns (4,5,6,7) have mixed types. Specify dtype option on import or set low_memory=False.\n",
      "  compounds_sfinal = pd.read_csv('compounds_semi_final.tsv', sep ='\\t')\n"
     ]
    }
   ],
   "source": [
    "compounds_sfinal = pd.read_csv('compounds_semi_final.tsv', sep ='\\t')"
   ],
   "metadata": {
    "collapsed": false
   }
  },
  {
   "cell_type": "code",
   "execution_count": 34,
   "outputs": [
    {
     "data": {
      "text/plain": "     id chebi_accession         SOURCE  parent_id          name  \\\n0  4798      CHEBI:4798  KEGG COMPOUND        NaN    entacapone   \n1  2341      CHEBI:2341  KEGG COMPOUND        NaN       AACOCF3   \n2  3223      CHEBI:3223  KEGG COMPOUND        NaN     buspirone   \n3  8028      CHEBI:8028  KEGG COMPOUND        NaN  perphenazine   \n4  3423      CHEBI:3423  KEGG COMPOUND        NaN    carmustine   \n\n                                          definition modified_on created_by  \n0  A monocarboxylic acid amide that is N,N-diethy...  2017-02-22      CHEBI  \n1  A fatty acid derivative that is arachidonic ac...  2015-01-22      CHEBI  \n2  An azaspiro compound that is 8-azaspiro[4.5]de...  2018-02-21      CHEBI  \n3  A phenothiazine derivative in which the phenot...  2017-02-22      CHEBI  \n4  A member of the class of N-nitrosoureas that i...  2017-02-22      CHEBI  ",
      "text/html": "<div>\n<style scoped>\n    .dataframe tbody tr th:only-of-type {\n        vertical-align: middle;\n    }\n\n    .dataframe tbody tr th {\n        vertical-align: top;\n    }\n\n    .dataframe thead th {\n        text-align: right;\n    }\n</style>\n<table border=\"1\" class=\"dataframe\">\n  <thead>\n    <tr style=\"text-align: right;\">\n      <th></th>\n      <th>id</th>\n      <th>chebi_accession</th>\n      <th>SOURCE</th>\n      <th>parent_id</th>\n      <th>name</th>\n      <th>definition</th>\n      <th>modified_on</th>\n      <th>created_by</th>\n    </tr>\n  </thead>\n  <tbody>\n    <tr>\n      <th>0</th>\n      <td>4798</td>\n      <td>CHEBI:4798</td>\n      <td>KEGG COMPOUND</td>\n      <td>NaN</td>\n      <td>entacapone</td>\n      <td>A monocarboxylic acid amide that is N,N-diethy...</td>\n      <td>2017-02-22</td>\n      <td>CHEBI</td>\n    </tr>\n    <tr>\n      <th>1</th>\n      <td>2341</td>\n      <td>CHEBI:2341</td>\n      <td>KEGG COMPOUND</td>\n      <td>NaN</td>\n      <td>AACOCF3</td>\n      <td>A fatty acid derivative that is arachidonic ac...</td>\n      <td>2015-01-22</td>\n      <td>CHEBI</td>\n    </tr>\n    <tr>\n      <th>2</th>\n      <td>3223</td>\n      <td>CHEBI:3223</td>\n      <td>KEGG COMPOUND</td>\n      <td>NaN</td>\n      <td>buspirone</td>\n      <td>An azaspiro compound that is 8-azaspiro[4.5]de...</td>\n      <td>2018-02-21</td>\n      <td>CHEBI</td>\n    </tr>\n    <tr>\n      <th>3</th>\n      <td>8028</td>\n      <td>CHEBI:8028</td>\n      <td>KEGG COMPOUND</td>\n      <td>NaN</td>\n      <td>perphenazine</td>\n      <td>A phenothiazine derivative in which the phenot...</td>\n      <td>2017-02-22</td>\n      <td>CHEBI</td>\n    </tr>\n    <tr>\n      <th>4</th>\n      <td>3423</td>\n      <td>CHEBI:3423</td>\n      <td>KEGG COMPOUND</td>\n      <td>NaN</td>\n      <td>carmustine</td>\n      <td>A member of the class of N-nitrosoureas that i...</td>\n      <td>2017-02-22</td>\n      <td>CHEBI</td>\n    </tr>\n  </tbody>\n</table>\n</div>"
     },
     "execution_count": 34,
     "metadata": {},
     "output_type": "execute_result"
    }
   ],
   "source": [
    "compounds_sfinal.head()"
   ],
   "metadata": {
    "collapsed": false
   }
  },
  {
   "cell_type": "code",
   "execution_count": null,
   "outputs": [],
   "source": [],
   "metadata": {
    "collapsed": false
   }
  }
 ],
 "metadata": {
  "kernelspec": {
   "display_name": "Python 3",
   "language": "python",
   "name": "python3"
  },
  "language_info": {
   "codemirror_mode": {
    "name": "ipython",
    "version": 2
   },
   "file_extension": ".py",
   "mimetype": "text/x-python",
   "name": "python",
   "nbconvert_exporter": "python",
   "pygments_lexer": "ipython2",
   "version": "2.7.6"
  }
 },
 "nbformat": 4,
 "nbformat_minor": 0
}
