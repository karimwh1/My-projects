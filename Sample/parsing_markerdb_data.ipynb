{
 "cells": [
  {
   "cell_type": "code",
   "execution_count": 1,
   "metadata": {
    "collapsed": true
   },
   "outputs": [],
   "source": [
    "import pandas as pd\n",
    "import ast"
   ]
  },
  {
   "cell_type": "code",
   "execution_count": 2,
   "outputs": [
    {
     "ename": "FileNotFoundError",
     "evalue": "[Errno 2] No such file or directory: 'markerdb_chemicals_api_query.txt'",
     "output_type": "error",
     "traceback": [
      "\u001B[1;31m---------------------------------------------------------------------------\u001B[0m",
      "\u001B[1;31mFileNotFoundError\u001B[0m                         Traceback (most recent call last)",
      "Input \u001B[1;32mIn [2]\u001B[0m, in \u001B[0;36m<cell line: 2>\u001B[1;34m()\u001B[0m\n\u001B[0;32m      1\u001B[0m \u001B[38;5;66;03m# read in file\u001B[39;00m\n\u001B[1;32m----> 2\u001B[0m \u001B[38;5;28;01mwith\u001B[39;00m \u001B[38;5;28;43mopen\u001B[39;49m\u001B[43m(\u001B[49m\u001B[38;5;124;43m'\u001B[39;49m\u001B[38;5;124;43mmarkerdb_chemicals_api_query.txt\u001B[39;49m\u001B[38;5;124;43m'\u001B[39;49m\u001B[43m,\u001B[49m\u001B[43m \u001B[49m\u001B[38;5;124;43m'\u001B[39;49m\u001B[38;5;124;43mr\u001B[39;49m\u001B[38;5;124;43m'\u001B[39;49m\u001B[43m)\u001B[49m \u001B[38;5;28;01mas\u001B[39;00m file:\n\u001B[0;32m      3\u001B[0m     data \u001B[38;5;241m=\u001B[39m ast\u001B[38;5;241m.\u001B[39mliteral_eval(file\u001B[38;5;241m.\u001B[39mread())\n",
      "\u001B[1;31mFileNotFoundError\u001B[0m: [Errno 2] No such file or directory: 'markerdb_chemicals_api_query.txt'"
     ]
    }
   ],
   "source": [
    "# read in file\n",
    "with open('markerdb_chemicals_api_query.txt', 'r') as file:\n",
    "    data = ast.literal_eval(file.read())"
   ],
   "metadata": {
    "collapsed": false
   }
  },
  {
   "cell_type": "code",
   "execution_count": 3,
   "outputs": [
    {
     "data": {
      "text/plain": "list"
     },
     "execution_count": 3,
     "metadata": {},
     "output_type": "execute_result"
    }
   ],
   "source": [
    "# have a look at the structure of the data\n",
    "type(data)"
   ],
   "metadata": {
    "collapsed": false
   }
  },
  {
   "cell_type": "code",
   "execution_count": 4,
   "outputs": [
    {
     "data": {
      "text/plain": "dict"
     },
     "execution_count": 4,
     "metadata": {},
     "output_type": "execute_result"
    }
   ],
   "source": [
    "# each list items consists of a dictionary\n",
    "type(data[0])"
   ],
   "metadata": {
    "collapsed": false
   }
  },
  {
   "cell_type": "code",
   "execution_count": 5,
   "outputs": [
    {
     "data": {
      "text/plain": "dict_keys(['compound', 'abnormal_concentration', 'normal_concentration'])"
     },
     "execution_count": 5,
     "metadata": {},
     "output_type": "execute_result"
    }
   ],
   "source": [
    "# each dictionary has three components, we are interested in the compounds at this stage\n",
    "data[0].keys()"
   ],
   "metadata": {
    "collapsed": false
   }
  },
  {
   "cell_type": "code",
   "execution_count": 6,
   "outputs": [
    {
     "data": {
      "text/plain": "dict"
     },
     "execution_count": 6,
     "metadata": {},
     "output_type": "execute_result"
    }
   ],
   "source": [
    "# the compound component is another dictionary\n",
    "type(data[0]['compound'])"
   ],
   "metadata": {
    "collapsed": false
   }
  },
  {
   "cell_type": "code",
   "execution_count": 7,
   "outputs": [
    {
     "data": {
      "text/plain": "dict_keys(['id', 'name', 'description', 'created_at', 'updated_at', 'source', 'molecule_type', 'hmdb', 'review_date', 'moldb_smiles', 'moldb_formula', 'moldb_inchi', 'moldb_inchikey', 'moldb_iupac', 'moldb_logp', 'moldb_pka', 'moldb_average_mass', 'moldb_mono_mass', 'moldb_alogps_solubility', 'moldb_alogps_logp', 'moldb_alogps_logs', 'moldb_acceptor_count', 'moldb_donor_count', 'moldb_rotatable_bond_count', 'moldb_polar_surface_area', 'moldb_refractivity', 'moldb_polarizability', 'moldb_traditional_iupac', 'moldb_formal_charge', 'moldb_physiological_charge', 'moldb_pka_strongest_basic', 'moldb_pka_strongest_acidic', 'moldb_bioavailability', 'moldb_number_of_rings', 'moldb_rule_of_five', 'moldb_ghose_filter', 'moldb_veber_rule', 'moldb_mddr_like_rule', 'exported', 'mdbid', 'panel_single', 'info_source', 'panel_marker_id'])"
     },
     "execution_count": 7,
     "metadata": {},
     "output_type": "execute_result"
    }
   ],
   "source": [
    "# it contains all the data we are interested in and is already in a format that we could read in with pandas\n",
    "data[0]['compound'].keys()"
   ],
   "metadata": {
    "collapsed": false
   }
  },
  {
   "cell_type": "code",
   "execution_count": 8,
   "outputs": [],
   "source": [
    "# now we need to extract the compound dictionary for every entry in our list of dictionaries\n",
    "compounds = [entry['compound'] for entry in data]"
   ],
   "metadata": {
    "collapsed": false
   }
  },
  {
   "cell_type": "code",
   "execution_count": 9,
   "outputs": [
    {
     "data": {
      "text/plain": "       id                             name  \\\n0       1                1-Methylhistidine   \n1       2               1,3-Diaminopropane   \n2       4            2-Hydroxybutyric acid   \n3       5                 2-Methoxyestrone   \n4       6        (R)-3-Hydroxybutyric acid   \n..    ...                              ...   \n873  4953       PC(o-24:0/18:3(6Z,9Z,12Z))   \n874  4954      PC(o-24:0/18:3(9Z,12Z,15Z))   \n875  4955  PC(o-24:0/20:4(8Z,11Z,14Z,17Z))   \n876  4957           SM(d18:0/14:1(9Z)(OH))   \n877  4961          SM(d18:0/22:1(13Z)(OH))   \n\n                                           description created_at  \\\n0    1-Methylhistidine, also known as 1-MHis or 1MH...       None   \n1    1,3-Diaminopropane, also known as trimethylene...       None   \n2    2-Hydroxybutyric acid (CAS: 600-15-7), also kn...       None   \n3    2-Methoxyestrone is a steroid derivative that ...       None   \n4    (R)-3-Hydroxybutyric acid is a butyric acid su...       None   \n..                                                 ...        ...   \n873  PC(o-24:0/18:3(6Z,9Z,12Z)) is a phosphatidylch...       None   \n874  PC(o-24:0/18:3(9Z,12Z,15Z)) is a phosphatidylc...       None   \n875  PC(o-24:0/20:4(8Z,11Z,14Z,17Z)) is a phosphati...       None   \n876  Sphingomyelin (d18:0/14:1(9Z)(OH)) or SM(d18:0...       None   \n877  Sphingomyelin (d18:0/22:1(13Z)(OH)) or SM(d18:...       None   \n\n                   updated_at source molecule_type         hmdb review_date  \\\n0    2022-04-24T04:40:33.000Z   None          None  HMDB0000001        None   \n1    2020-10-12T21:49:46.000Z   None          None  HMDB0000002        None   \n2    2022-04-24T04:40:34.000Z   None          None  HMDB0000008        None   \n3    2020-10-07T20:05:50.000Z   None          None  HMDB0000010        None   \n4    2020-11-05T15:09:55.000Z   None          None  HMDB0000011        None   \n..                        ...    ...           ...          ...         ...   \n873  2020-10-12T21:50:05.000Z   None          None  HMDB0013458        None   \n874  2020-10-12T21:50:01.000Z   None          None  HMDB0013459        None   \n875  2020-10-12T21:50:04.000Z   None          None  HMDB0013460        None   \n876  2020-10-12T21:49:24.000Z   None          None  HMDB0013462        None   \n877  2020-10-12T21:50:04.000Z   None          None  HMDB0013466        None   \n\n                                          moldb_smiles  ...  \\\n0                          CN1C=NC(C[C@H](N)C(O)=O)=C1  ...   \n1                                                NCCCN  ...   \n2                                         CCC(O)C(O)=O  ...   \n3    [H][C@@]12CCC(=O)[C@@]1(C)CC[C@]1([H])C3=C(CC[...  ...   \n4                                    C[C@@H](O)CC(O)=O  ...   \n..                                                 ...  ...   \n873  CCCCCCCCCCCCCCCCCCCCCCCCOC[C@]([H])(COP([O-])(...  ...   \n874  CCCCCCCCCCCCCCCCCCCCCCCCOC[C@]([H])(COP([O-])(...  ...   \n875  CCCCCCCCCCCCCCCCCCCCCCCCOC[C@]([H])(COP([O-])(...  ...   \n876  CCCCCCCCCCCCC\\C=C\\[C@@H](O)[C@H](COP([O-])(=O)...  ...   \n877  CCCCCCCCCCCCC\\C=C\\[C@@H](O)[C@H](COP([O-])(=O)...  ...   \n\n    moldb_number_of_rings moldb_rule_of_five moldb_ghose_filter  \\\n0                       1                  1                  0   \n1                       0                  1                  0   \n2                       0                  1                  0   \n3                       4                  1                  1   \n4                       0                  1                  0   \n..                    ...                ...                ...   \n873                     0                  0                  0   \n874                     0                  0                  0   \n875                     0                  0                  0   \n876                     0                  0                  0   \n877                     0                  0                  0   \n\n    moldb_veber_rule moldb_mddr_like_rule exported        mdbid panel_single  \\\n0                  0                    0     True  MDB00000001        panel   \n1                  0                    0     True  MDB00000002        panel   \n2                  0                    0     True  MDB00000004        panel   \n3                  0                    0     True  MDB00000005       single   \n4                  0                    0     True  MDB00000006        panel   \n..               ...                  ...      ...          ...          ...   \n873                0                    0     True  MDB00004953        panel   \n874                0                    0     True  MDB00004954        panel   \n875                0                    0     True  MDB00004955        panel   \n876                0                    0     True  MDB00004957        panel   \n877                0                    0     True  MDB00004961        panel   \n\n                                           info_source  \\\n0    This text was researched, composed and written...   \n1    This text was researched, composed and written...   \n2    This text was researched, composed and written...   \n3    This text was researched, composed and written...   \n4    This text was researched, composed and written...   \n..                                                 ...   \n873  This text was researched, composed and written...   \n874  This text was researched, composed and written...   \n875  This text was researched, composed and written...   \n876  This text was researched, composed and written...   \n877  This text was researched, composed and written...   \n\n                                       panel_marker_id  \n0    5184,5199,5206,5236,5288,5291,5313,5338,5440,5441  \n1                                                 5300  \n2                                       5338,5440,5497  \n3                                                 None  \n4    5173,5179,5183,5199,5200,5212,5237,5269,5305,5...  \n..                                                 ...  \n873                                               5338  \n874                                               5338  \n875                                               5338  \n876                                               5236  \n877                                          5236,5338  \n\n[878 rows x 43 columns]",
      "text/html": "<div>\n<style scoped>\n    .dataframe tbody tr th:only-of-type {\n        vertical-align: middle;\n    }\n\n    .dataframe tbody tr th {\n        vertical-align: top;\n    }\n\n    .dataframe thead th {\n        text-align: right;\n    }\n</style>\n<table border=\"1\" class=\"dataframe\">\n  <thead>\n    <tr style=\"text-align: right;\">\n      <th></th>\n      <th>id</th>\n      <th>name</th>\n      <th>description</th>\n      <th>created_at</th>\n      <th>updated_at</th>\n      <th>source</th>\n      <th>molecule_type</th>\n      <th>hmdb</th>\n      <th>review_date</th>\n      <th>moldb_smiles</th>\n      <th>...</th>\n      <th>moldb_number_of_rings</th>\n      <th>moldb_rule_of_five</th>\n      <th>moldb_ghose_filter</th>\n      <th>moldb_veber_rule</th>\n      <th>moldb_mddr_like_rule</th>\n      <th>exported</th>\n      <th>mdbid</th>\n      <th>panel_single</th>\n      <th>info_source</th>\n      <th>panel_marker_id</th>\n    </tr>\n  </thead>\n  <tbody>\n    <tr>\n      <th>0</th>\n      <td>1</td>\n      <td>1-Methylhistidine</td>\n      <td>1-Methylhistidine, also known as 1-MHis or 1MH...</td>\n      <td>None</td>\n      <td>2022-04-24T04:40:33.000Z</td>\n      <td>None</td>\n      <td>None</td>\n      <td>HMDB0000001</td>\n      <td>None</td>\n      <td>CN1C=NC(C[C@H](N)C(O)=O)=C1</td>\n      <td>...</td>\n      <td>1</td>\n      <td>1</td>\n      <td>0</td>\n      <td>0</td>\n      <td>0</td>\n      <td>True</td>\n      <td>MDB00000001</td>\n      <td>panel</td>\n      <td>This text was researched, composed and written...</td>\n      <td>5184,5199,5206,5236,5288,5291,5313,5338,5440,5441</td>\n    </tr>\n    <tr>\n      <th>1</th>\n      <td>2</td>\n      <td>1,3-Diaminopropane</td>\n      <td>1,3-Diaminopropane, also known as trimethylene...</td>\n      <td>None</td>\n      <td>2020-10-12T21:49:46.000Z</td>\n      <td>None</td>\n      <td>None</td>\n      <td>HMDB0000002</td>\n      <td>None</td>\n      <td>NCCCN</td>\n      <td>...</td>\n      <td>0</td>\n      <td>1</td>\n      <td>0</td>\n      <td>0</td>\n      <td>0</td>\n      <td>True</td>\n      <td>MDB00000002</td>\n      <td>panel</td>\n      <td>This text was researched, composed and written...</td>\n      <td>5300</td>\n    </tr>\n    <tr>\n      <th>2</th>\n      <td>4</td>\n      <td>2-Hydroxybutyric acid</td>\n      <td>2-Hydroxybutyric acid (CAS: 600-15-7), also kn...</td>\n      <td>None</td>\n      <td>2022-04-24T04:40:34.000Z</td>\n      <td>None</td>\n      <td>None</td>\n      <td>HMDB0000008</td>\n      <td>None</td>\n      <td>CCC(O)C(O)=O</td>\n      <td>...</td>\n      <td>0</td>\n      <td>1</td>\n      <td>0</td>\n      <td>0</td>\n      <td>0</td>\n      <td>True</td>\n      <td>MDB00000004</td>\n      <td>panel</td>\n      <td>This text was researched, composed and written...</td>\n      <td>5338,5440,5497</td>\n    </tr>\n    <tr>\n      <th>3</th>\n      <td>5</td>\n      <td>2-Methoxyestrone</td>\n      <td>2-Methoxyestrone is a steroid derivative that ...</td>\n      <td>None</td>\n      <td>2020-10-07T20:05:50.000Z</td>\n      <td>None</td>\n      <td>None</td>\n      <td>HMDB0000010</td>\n      <td>None</td>\n      <td>[H][C@@]12CCC(=O)[C@@]1(C)CC[C@]1([H])C3=C(CC[...</td>\n      <td>...</td>\n      <td>4</td>\n      <td>1</td>\n      <td>1</td>\n      <td>0</td>\n      <td>0</td>\n      <td>True</td>\n      <td>MDB00000005</td>\n      <td>single</td>\n      <td>This text was researched, composed and written...</td>\n      <td>None</td>\n    </tr>\n    <tr>\n      <th>4</th>\n      <td>6</td>\n      <td>(R)-3-Hydroxybutyric acid</td>\n      <td>(R)-3-Hydroxybutyric acid is a butyric acid su...</td>\n      <td>None</td>\n      <td>2020-11-05T15:09:55.000Z</td>\n      <td>None</td>\n      <td>None</td>\n      <td>HMDB0000011</td>\n      <td>None</td>\n      <td>C[C@@H](O)CC(O)=O</td>\n      <td>...</td>\n      <td>0</td>\n      <td>1</td>\n      <td>0</td>\n      <td>0</td>\n      <td>0</td>\n      <td>True</td>\n      <td>MDB00000006</td>\n      <td>panel</td>\n      <td>This text was researched, composed and written...</td>\n      <td>5173,5179,5183,5199,5200,5212,5237,5269,5305,5...</td>\n    </tr>\n    <tr>\n      <th>...</th>\n      <td>...</td>\n      <td>...</td>\n      <td>...</td>\n      <td>...</td>\n      <td>...</td>\n      <td>...</td>\n      <td>...</td>\n      <td>...</td>\n      <td>...</td>\n      <td>...</td>\n      <td>...</td>\n      <td>...</td>\n      <td>...</td>\n      <td>...</td>\n      <td>...</td>\n      <td>...</td>\n      <td>...</td>\n      <td>...</td>\n      <td>...</td>\n      <td>...</td>\n      <td>...</td>\n    </tr>\n    <tr>\n      <th>873</th>\n      <td>4953</td>\n      <td>PC(o-24:0/18:3(6Z,9Z,12Z))</td>\n      <td>PC(o-24:0/18:3(6Z,9Z,12Z)) is a phosphatidylch...</td>\n      <td>None</td>\n      <td>2020-10-12T21:50:05.000Z</td>\n      <td>None</td>\n      <td>None</td>\n      <td>HMDB0013458</td>\n      <td>None</td>\n      <td>CCCCCCCCCCCCCCCCCCCCCCCCOC[C@]([H])(COP([O-])(...</td>\n      <td>...</td>\n      <td>0</td>\n      <td>0</td>\n      <td>0</td>\n      <td>0</td>\n      <td>0</td>\n      <td>True</td>\n      <td>MDB00004953</td>\n      <td>panel</td>\n      <td>This text was researched, composed and written...</td>\n      <td>5338</td>\n    </tr>\n    <tr>\n      <th>874</th>\n      <td>4954</td>\n      <td>PC(o-24:0/18:3(9Z,12Z,15Z))</td>\n      <td>PC(o-24:0/18:3(9Z,12Z,15Z)) is a phosphatidylc...</td>\n      <td>None</td>\n      <td>2020-10-12T21:50:01.000Z</td>\n      <td>None</td>\n      <td>None</td>\n      <td>HMDB0013459</td>\n      <td>None</td>\n      <td>CCCCCCCCCCCCCCCCCCCCCCCCOC[C@]([H])(COP([O-])(...</td>\n      <td>...</td>\n      <td>0</td>\n      <td>0</td>\n      <td>0</td>\n      <td>0</td>\n      <td>0</td>\n      <td>True</td>\n      <td>MDB00004954</td>\n      <td>panel</td>\n      <td>This text was researched, composed and written...</td>\n      <td>5338</td>\n    </tr>\n    <tr>\n      <th>875</th>\n      <td>4955</td>\n      <td>PC(o-24:0/20:4(8Z,11Z,14Z,17Z))</td>\n      <td>PC(o-24:0/20:4(8Z,11Z,14Z,17Z)) is a phosphati...</td>\n      <td>None</td>\n      <td>2020-10-12T21:50:04.000Z</td>\n      <td>None</td>\n      <td>None</td>\n      <td>HMDB0013460</td>\n      <td>None</td>\n      <td>CCCCCCCCCCCCCCCCCCCCCCCCOC[C@]([H])(COP([O-])(...</td>\n      <td>...</td>\n      <td>0</td>\n      <td>0</td>\n      <td>0</td>\n      <td>0</td>\n      <td>0</td>\n      <td>True</td>\n      <td>MDB00004955</td>\n      <td>panel</td>\n      <td>This text was researched, composed and written...</td>\n      <td>5338</td>\n    </tr>\n    <tr>\n      <th>876</th>\n      <td>4957</td>\n      <td>SM(d18:0/14:1(9Z)(OH))</td>\n      <td>Sphingomyelin (d18:0/14:1(9Z)(OH)) or SM(d18:0...</td>\n      <td>None</td>\n      <td>2020-10-12T21:49:24.000Z</td>\n      <td>None</td>\n      <td>None</td>\n      <td>HMDB0013462</td>\n      <td>None</td>\n      <td>CCCCCCCCCCCCC\\C=C\\[C@@H](O)[C@H](COP([O-])(=O)...</td>\n      <td>...</td>\n      <td>0</td>\n      <td>0</td>\n      <td>0</td>\n      <td>0</td>\n      <td>0</td>\n      <td>True</td>\n      <td>MDB00004957</td>\n      <td>panel</td>\n      <td>This text was researched, composed and written...</td>\n      <td>5236</td>\n    </tr>\n    <tr>\n      <th>877</th>\n      <td>4961</td>\n      <td>SM(d18:0/22:1(13Z)(OH))</td>\n      <td>Sphingomyelin (d18:0/22:1(13Z)(OH)) or SM(d18:...</td>\n      <td>None</td>\n      <td>2020-10-12T21:50:04.000Z</td>\n      <td>None</td>\n      <td>None</td>\n      <td>HMDB0013466</td>\n      <td>None</td>\n      <td>CCCCCCCCCCCCC\\C=C\\[C@@H](O)[C@H](COP([O-])(=O)...</td>\n      <td>...</td>\n      <td>0</td>\n      <td>0</td>\n      <td>0</td>\n      <td>0</td>\n      <td>0</td>\n      <td>True</td>\n      <td>MDB00004961</td>\n      <td>panel</td>\n      <td>This text was researched, composed and written...</td>\n      <td>5236,5338</td>\n    </tr>\n  </tbody>\n</table>\n<p>878 rows × 43 columns</p>\n</div>"
     },
     "execution_count": 9,
     "metadata": {},
     "output_type": "execute_result"
    }
   ],
   "source": [
    "# after reading in the list of compound dictionaries with pandas we get a dataframe that we can use for merging\n",
    "df_compounds = pd.DataFrame(compounds)\n",
    "df_compounds"
   ],
   "metadata": {
    "collapsed": false
   }
  },
  {
   "cell_type": "code",
   "execution_count": null,
   "outputs": [],
   "source": [],
   "metadata": {
    "collapsed": false
   }
  }
 ],
 "metadata": {
  "kernelspec": {
   "display_name": "Python 3",
   "language": "python",
   "name": "python3"
  },
  "language_info": {
   "codemirror_mode": {
    "name": "ipython",
    "version": 2
   },
   "file_extension": ".py",
   "mimetype": "text/x-python",
   "name": "python",
   "nbconvert_exporter": "python",
   "pygments_lexer": "ipython2",
   "version": "2.7.6"
  }
 },
 "nbformat": 4,
 "nbformat_minor": 0
}
