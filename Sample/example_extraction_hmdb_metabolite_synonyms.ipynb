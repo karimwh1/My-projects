{
 "cells": [
  {
   "cell_type": "markdown",
   "source": [
    "*Nutrition & Biomedicine Internship*\n",
    "\n",
    "# Example: Using ElementTree to access information within metabolites XML file from HMDB\n",
    "This code was written to extract specific identifiers and synonym from HMDB and therefore does not extract all metabolite information comprehensively"
   ],
   "metadata": {
    "collapsed": false,
    "pycharm": {
     "name": "#%% md\n"
    }
   }
  },
  {
   "cell_type": "code",
   "execution_count": 1,
   "outputs": [],
   "source": [
    "# import important packages\n",
    "import xml.etree.ElementTree as ET\n",
    "import pandas as pd"
   ],
   "metadata": {
    "collapsed": false,
    "pycharm": {
     "name": "#%%\n"
    }
   }
  },
  {
   "cell_type": "code",
   "execution_count": 2,
   "outputs": [],
   "source": [
    "# read in the xml file and get root (might take some time as the file is very big)\n",
    "tree = ET.parse('hmdb_metabolites.xml')\n",
    "root = tree.getroot()"
   ],
   "metadata": {
    "collapsed": false,
    "pycharm": {
     "name": "#%%\n"
    }
   }
  },
  {
   "cell_type": "code",
   "execution_count": 3,
   "outputs": [
    {
     "data": {
      "text/plain": "'{http://www.hmdb.ca}hmdb'"
     },
     "execution_count": 3,
     "metadata": {},
     "output_type": "execute_result"
    }
   ],
   "source": [
    "root.tag"
   ],
   "metadata": {
    "collapsed": false,
    "pycharm": {
     "name": "#%%\n"
    }
   }
  },
  {
   "cell_type": "code",
   "execution_count": 4,
   "outputs": [
    {
     "data": {
      "text/plain": "'{http://www.hmdb.ca}metabolite'"
     },
     "execution_count": 4,
     "metadata": {},
     "output_type": "execute_result"
    }
   ],
   "source": [
    "# Every child should correspond to a metabolite\n",
    "child = root[0]\n",
    "child.tag"
   ],
   "metadata": {
    "collapsed": false,
    "pycharm": {
     "name": "#%%\n"
    }
   }
  },
  {
   "cell_type": "code",
   "execution_count": 5,
   "outputs": [
    {
     "name": "stdout",
     "output_type": "stream",
     "text": [
      "{http://www.hmdb.ca}version\n",
      "4.0\n",
      "{http://www.hmdb.ca}creation_date\n",
      "2005-11-16 15:48:42 UTC\n",
      "{http://www.hmdb.ca}update_date\n",
      "2020-04-23 20:53:36 UTC\n",
      "{http://www.hmdb.ca}accession\n",
      "HMDB0000001\n",
      "{http://www.hmdb.ca}status\n",
      "quantified\n",
      "{http://www.hmdb.ca}secondary_accessions\n",
      "\n",
      "    \n",
      "{http://www.hmdb.ca}name\n",
      "1-Methylhistidine\n",
      "{http://www.hmdb.ca}description\n",
      "1-Methylhistidine, also known as 1-MHis, belongs to the class of organic compounds known as histidine and derivatives. Histidine and derivatives are compounds containing cysteine or a derivative thereof resulting from a reaction of cysteine at the amino group or the carboxy group, or from the replacement of any hydrogen of glycine by a heteroatom. 1-Methylhistidine is derived mainly from the anserine of dietary flesh sources, especially poultry. The enzyme, carnosinase, splits anserine into beta-alanine and 1-MHis. High levels of 1-MHis tend to inhibit the enzyme carnosinase and increase anserine levels. Conversely, genetic variants with deficient carnosinase activity in plasma show increased 1-MHis excretions when they consume a high meat diet. Reduced serum carnosinase activity is also found in patients with Parkinson's disease and multiple sclerosis and patients following a cerebrovascular accident. Vitamin E deficiency can lead to 1-methylhistidinuria from increased oxidative effects in skeletal muscle. 1-Methylhistidine is a biomarker for the consumption of meat, especially red meat.\n",
      "{http://www.hmdb.ca}synonyms\n",
      "\n",
      "    \n",
      "{http://www.hmdb.ca}chemical_formula\n",
      "C7H11N3O2\n",
      "{http://www.hmdb.ca}average_molecular_weight\n",
      "169.1811\n",
      "{http://www.hmdb.ca}monisotopic_molecular_weight\n",
      "169.085126611\n",
      "{http://www.hmdb.ca}iupac_name\n",
      "(2S)-2-amino-3-(1-methyl-1H-imidazol-4-yl)propanoic acid\n",
      "{http://www.hmdb.ca}traditional_iupac\n",
      "1 methylhistidine\n",
      "{http://www.hmdb.ca}cas_registry_number\n",
      "332-80-9\n",
      "{http://www.hmdb.ca}smiles\n",
      "CN1C=NC(C[C@H](N)C(O)=O)=C1\n",
      "{http://www.hmdb.ca}inchi\n",
      "InChI=1S/C7H11N3O2/c1-10-3-5(9-4-10)2-6(8)7(11)12/h3-4,6H,2,8H2,1H3,(H,11,12)/t6-/m0/s1\n",
      "{http://www.hmdb.ca}inchikey\n",
      "BRMWTNUJHUMWMS-LURJTMIESA-N\n",
      "{http://www.hmdb.ca}taxonomy\n",
      "\n",
      "    \n",
      "{http://www.hmdb.ca}ontology\n",
      "\n",
      "    \n",
      "{http://www.hmdb.ca}state\n",
      "Solid\n",
      "{http://www.hmdb.ca}experimental_properties\n",
      "\n",
      "    \n",
      "{http://www.hmdb.ca}predicted_properties\n",
      "\n",
      "    \n",
      "{http://www.hmdb.ca}spectra\n",
      "\n",
      "    \n",
      "{http://www.hmdb.ca}biological_properties\n",
      "\n",
      "    \n",
      "{http://www.hmdb.ca}normal_concentrations\n",
      "\n",
      "    \n",
      "{http://www.hmdb.ca}abnormal_concentrations\n",
      "\n",
      "    \n",
      "{http://www.hmdb.ca}diseases\n",
      "\n",
      "    \n",
      "{http://www.hmdb.ca}kegg_id\n",
      "C01152\n",
      "{http://www.hmdb.ca}foodb_id\n",
      "FDB093588\n",
      "{http://www.hmdb.ca}chemspider_id\n",
      "83153\n",
      "{http://www.hmdb.ca}drugbank_id\n",
      "DB04151\n",
      "{http://www.hmdb.ca}pdb_id\n",
      "None\n",
      "{http://www.hmdb.ca}chebi_id\n",
      "50599\n",
      "{http://www.hmdb.ca}pubchem_compound_id\n",
      "92105\n",
      "{http://www.hmdb.ca}biocyc_id\n",
      "None\n",
      "{http://www.hmdb.ca}wikipedia_id\n",
      "Methylhistidine\n",
      "{http://www.hmdb.ca}knapsack_id\n",
      "None\n",
      "{http://www.hmdb.ca}phenol_explorer_compound_id\n",
      "None\n",
      "{http://www.hmdb.ca}bigg_id\n",
      "None\n",
      "{http://www.hmdb.ca}metlin_id\n",
      "3741\n",
      "{http://www.hmdb.ca}vmh_id\n",
      "None\n",
      "{http://www.hmdb.ca}fbonto_id\n",
      "None\n",
      "{http://www.hmdb.ca}synthesis_reference\n",
      "Jain, Rahul; Cohen, Louis A. Regiospecific alkylation of histidine and histamine at N-1 (t).Tetrahedron  (1996),  52(15),  5363-70.\n",
      "{http://www.hmdb.ca}general_references\n",
      "\n",
      "    \n",
      "{http://www.hmdb.ca}protein_associations\n",
      "\n",
      "    \n"
     ]
    }
   ],
   "source": [
    "# Have a look at what information is contained in each child\n",
    "for element in child:\n",
    "    print(element.tag)\n",
    "    print(element.text)"
   ],
   "metadata": {
    "collapsed": false,
    "pycharm": {
     "name": "#%%\n"
    }
   }
  },
  {
   "cell_type": "code",
   "execution_count": 6,
   "outputs": [],
   "source": [
    "# prepare the dataframe that we want to populate with our data\n",
    "hmdb_synonyms = {}\n",
    "hmdb_mets = [['name', 'hmdb_id', 'iupac', 'kegg_id', 'foodb_id', 'chemspider_id', 'drugbank_id', 'pdb_id',\n",
    "             'chebi_id', 'pubchem_compound_id', 'wikipedia_id', 'bigg_id', 'vmh_id']]"
   ],
   "metadata": {
    "collapsed": false,
    "pycharm": {
     "name": "#%%\n"
    }
   }
  },
  {
   "cell_type": "code",
   "execution_count": 7,
   "outputs": [],
   "source": [
    "# iterate through every child (metabolite) contained in the root and extract information on selected identifiers\n",
    "for child in root:\n",
    "    synonym_set = set()\n",
    "\n",
    "    for elem in child:\n",
    "        if elem.tag == r'{http://www.hmdb.ca}name':\n",
    "            name = elem.text\n",
    "            synonym_set.add(name)\n",
    "\n",
    "        if elem.tag == r'{http://www.hmdb.ca}synonyms':\n",
    "            for synonym in elem:\n",
    "                if synonym.text != name:\n",
    "                    synonym_set.add(synonym.text)\n",
    "                    synonym_set.add(synonym.text.lower())\n",
    "\n",
    "        if elem.tag == r'{http://www.hmdb.ca}accession':\n",
    "            hmdb_id = elem.text\n",
    "\n",
    "        if elem.tag == r'{http://www.hmdb.ca}iupac_name':\n",
    "            iupac_id = elem.text\n",
    "\n",
    "        if elem.tag == r'{http://www.hmdb.ca}kegg_id':\n",
    "            kegg_id = elem.text\n",
    "\n",
    "        if elem.tag == r'{http://www.hmdb.ca}foodb_id':\n",
    "            foodb_id = elem.text\n",
    "\n",
    "        if elem.tag == r'{http://www.hmdb.ca}chemspider_id':\n",
    "            chemspider_id = elem.text\n",
    "\n",
    "        if elem.tag == r'{http://www.hmdb.ca}drugbank_id':\n",
    "            drugbank_id = elem.text\n",
    "\n",
    "        if elem.tag == r'{http://www.hmdb.ca}pdb_id':\n",
    "            pdb_id = elem.text\n",
    "\n",
    "        if elem.tag == r'{http://www.hmdb.ca}chebi_id':\n",
    "            chebi_id = elem.text\n",
    "\n",
    "        if elem.tag == r'{http://www.hmdb.ca}pubchem_compound_id':\n",
    "            pubchem_id = elem.text\n",
    "\n",
    "        if elem.tag == r'{http://www.hmdb.ca}wikipedia_id':\n",
    "            wikipedia_id = elem.text\n",
    "\n",
    "        if elem.tag == r'{http://www.hmdb.ca}bigg_id':\n",
    "            bigg_id = elem.text\n",
    "\n",
    "        if elem.tag == r'{http://www.hmdb.ca}vmh_id':\n",
    "            vmh_id = elem.text\n",
    "\n",
    "    hmdb_synonyms.update({hmdb_id: synonym_set})\n",
    "\n",
    "    metabolite = [name, hmdb_id, iupac_id, kegg_id, foodb_id, chemspider_id, drugbank_id, pdb_id, chebi_id, pubchem_id, wikipedia_id, bigg_id, vmh_id]\n",
    "    hmdb_mets.append(metabolite)"
   ],
   "metadata": {
    "collapsed": false,
    "pycharm": {
     "name": "#%%\n"
    }
   }
  },
  {
   "cell_type": "code",
   "execution_count": 8,
   "outputs": [],
   "source": [
    "# Turn information saved in the list into a pandas dataframe to have a better view of the data\n",
    "df_hmbd = pd.DataFrame(hmdb_mets[1:], columns=hmdb_mets[0])"
   ],
   "metadata": {
    "collapsed": false,
    "pycharm": {
     "name": "#%%\n"
    }
   }
  },
  {
   "cell_type": "code",
   "execution_count": 9,
   "outputs": [
    {
     "data": {
      "text/plain": "                              name      hmdb_id  \\\n0                1-Methylhistidine  HMDB0000001   \n1               1,3-Diaminopropane  HMDB0000002   \n2               2-Ketobutyric acid  HMDB0000005   \n3            2-Hydroxybutyric acid  HMDB0000008   \n4                 2-Methoxyestrone  HMDB0000010   \n...                            ...          ...   \n114217             Cer(d17:1/18:0)  HMDB0240683   \n114218             Cer(d20:1/18:0)  HMDB0240684   \n114219             Cer(d17:1/16:0)  HMDB0240685   \n114220     Cer(d18:2(4E,14Z)/16:0)  HMDB0240686   \n114221  8-Amino-7-oxononanoic acid  HMDB0240687   \n\n                                                    iupac kegg_id   foodb_id  \\\n0       (2S)-2-amino-3-(1-methyl-1H-imidazol-4-yl)prop...  C01152  FDB093588   \n1                                     propane-1,3-diamine  C00986  FDB031131   \n2                                      2-oxobutanoic acid  C00109  FDB030356   \n3                             (2S)-2-hydroxybutanoic acid  C05984  FDB021867   \n4       (1S,10R,11S,15S)-5-hydroxy-4-methoxy-15-methyl...  C05299  FDB021868   \n...                                                   ...     ...        ...   \n114217  N-[(2S,3R,4E)-1,3-dihydroxyheptadec-4-en-2-yl]...    None       None   \n114218  N-[(2S,3R,4E)-1,3-dihydroxyicos-4-en-2-yl]octa...    None       None   \n114219  N-[(2S,3R,4E)-1,3-dihydroxyheptadec-4-en-2-yl]...    None       None   \n114220  N-[(2S,3R,4E,14Z)-1,3-dihydroxyoctadeca-4,14-d...    None       None   \n114221                    (8S)-8-amino-7-oxononanoic acid  C01092       None   \n\n       chemspider_id drugbank_id pdb_id chebi_id pubchem_compound_id  \\\n0              83153     DB04151   None    50599               92105   \n1                415        None   None    15725                 428   \n2                 57     DB04553   None    30831                  58   \n3             389701        None   None    50613              440864   \n4             389515        None   None     1189              440624   \n...              ...         ...    ...      ...                 ...   \n114217       8160656        None   None     None             9985066   \n114218          None        None   None     None           101853667   \n114219       8431739        None   None     None            10256256   \n114220          None        None   None     None            52931118   \n114221        395028     DB02274   None   149468              448124   \n\n                  wikipedia_id bigg_id vmh_id  \n0              Methylhistidine    None   None  \n1           1,3-Diaminopropane    None   None  \n2       Alpha-Ketobutyric_acid   33889  2OBUT  \n3        2-Hydroxybutyric_acid    None   None  \n4             2-Methoxyestrone    None   None  \n...                        ...     ...    ...  \n114217                    None    None   None  \n114218                    None    None   None  \n114219                    None    None   None  \n114220                    None    None   None  \n114221                    None    None   None  \n\n[114222 rows x 13 columns]",
      "text/html": "<div>\n<style scoped>\n    .dataframe tbody tr th:only-of-type {\n        vertical-align: middle;\n    }\n\n    .dataframe tbody tr th {\n        vertical-align: top;\n    }\n\n    .dataframe thead th {\n        text-align: right;\n    }\n</style>\n<table border=\"1\" class=\"dataframe\">\n  <thead>\n    <tr style=\"text-align: right;\">\n      <th></th>\n      <th>name</th>\n      <th>hmdb_id</th>\n      <th>iupac</th>\n      <th>kegg_id</th>\n      <th>foodb_id</th>\n      <th>chemspider_id</th>\n      <th>drugbank_id</th>\n      <th>pdb_id</th>\n      <th>chebi_id</th>\n      <th>pubchem_compound_id</th>\n      <th>wikipedia_id</th>\n      <th>bigg_id</th>\n      <th>vmh_id</th>\n    </tr>\n  </thead>\n  <tbody>\n    <tr>\n      <th>0</th>\n      <td>1-Methylhistidine</td>\n      <td>HMDB0000001</td>\n      <td>(2S)-2-amino-3-(1-methyl-1H-imidazol-4-yl)prop...</td>\n      <td>C01152</td>\n      <td>FDB093588</td>\n      <td>83153</td>\n      <td>DB04151</td>\n      <td>None</td>\n      <td>50599</td>\n      <td>92105</td>\n      <td>Methylhistidine</td>\n      <td>None</td>\n      <td>None</td>\n    </tr>\n    <tr>\n      <th>1</th>\n      <td>1,3-Diaminopropane</td>\n      <td>HMDB0000002</td>\n      <td>propane-1,3-diamine</td>\n      <td>C00986</td>\n      <td>FDB031131</td>\n      <td>415</td>\n      <td>None</td>\n      <td>None</td>\n      <td>15725</td>\n      <td>428</td>\n      <td>1,3-Diaminopropane</td>\n      <td>None</td>\n      <td>None</td>\n    </tr>\n    <tr>\n      <th>2</th>\n      <td>2-Ketobutyric acid</td>\n      <td>HMDB0000005</td>\n      <td>2-oxobutanoic acid</td>\n      <td>C00109</td>\n      <td>FDB030356</td>\n      <td>57</td>\n      <td>DB04553</td>\n      <td>None</td>\n      <td>30831</td>\n      <td>58</td>\n      <td>Alpha-Ketobutyric_acid</td>\n      <td>33889</td>\n      <td>2OBUT</td>\n    </tr>\n    <tr>\n      <th>3</th>\n      <td>2-Hydroxybutyric acid</td>\n      <td>HMDB0000008</td>\n      <td>(2S)-2-hydroxybutanoic acid</td>\n      <td>C05984</td>\n      <td>FDB021867</td>\n      <td>389701</td>\n      <td>None</td>\n      <td>None</td>\n      <td>50613</td>\n      <td>440864</td>\n      <td>2-Hydroxybutyric_acid</td>\n      <td>None</td>\n      <td>None</td>\n    </tr>\n    <tr>\n      <th>4</th>\n      <td>2-Methoxyestrone</td>\n      <td>HMDB0000010</td>\n      <td>(1S,10R,11S,15S)-5-hydroxy-4-methoxy-15-methyl...</td>\n      <td>C05299</td>\n      <td>FDB021868</td>\n      <td>389515</td>\n      <td>None</td>\n      <td>None</td>\n      <td>1189</td>\n      <td>440624</td>\n      <td>2-Methoxyestrone</td>\n      <td>None</td>\n      <td>None</td>\n    </tr>\n    <tr>\n      <th>...</th>\n      <td>...</td>\n      <td>...</td>\n      <td>...</td>\n      <td>...</td>\n      <td>...</td>\n      <td>...</td>\n      <td>...</td>\n      <td>...</td>\n      <td>...</td>\n      <td>...</td>\n      <td>...</td>\n      <td>...</td>\n      <td>...</td>\n    </tr>\n    <tr>\n      <th>114217</th>\n      <td>Cer(d17:1/18:0)</td>\n      <td>HMDB0240683</td>\n      <td>N-[(2S,3R,4E)-1,3-dihydroxyheptadec-4-en-2-yl]...</td>\n      <td>None</td>\n      <td>None</td>\n      <td>8160656</td>\n      <td>None</td>\n      <td>None</td>\n      <td>None</td>\n      <td>9985066</td>\n      <td>None</td>\n      <td>None</td>\n      <td>None</td>\n    </tr>\n    <tr>\n      <th>114218</th>\n      <td>Cer(d20:1/18:0)</td>\n      <td>HMDB0240684</td>\n      <td>N-[(2S,3R,4E)-1,3-dihydroxyicos-4-en-2-yl]octa...</td>\n      <td>None</td>\n      <td>None</td>\n      <td>None</td>\n      <td>None</td>\n      <td>None</td>\n      <td>None</td>\n      <td>101853667</td>\n      <td>None</td>\n      <td>None</td>\n      <td>None</td>\n    </tr>\n    <tr>\n      <th>114219</th>\n      <td>Cer(d17:1/16:0)</td>\n      <td>HMDB0240685</td>\n      <td>N-[(2S,3R,4E)-1,3-dihydroxyheptadec-4-en-2-yl]...</td>\n      <td>None</td>\n      <td>None</td>\n      <td>8431739</td>\n      <td>None</td>\n      <td>None</td>\n      <td>None</td>\n      <td>10256256</td>\n      <td>None</td>\n      <td>None</td>\n      <td>None</td>\n    </tr>\n    <tr>\n      <th>114220</th>\n      <td>Cer(d18:2(4E,14Z)/16:0)</td>\n      <td>HMDB0240686</td>\n      <td>N-[(2S,3R,4E,14Z)-1,3-dihydroxyoctadeca-4,14-d...</td>\n      <td>None</td>\n      <td>None</td>\n      <td>None</td>\n      <td>None</td>\n      <td>None</td>\n      <td>None</td>\n      <td>52931118</td>\n      <td>None</td>\n      <td>None</td>\n      <td>None</td>\n    </tr>\n    <tr>\n      <th>114221</th>\n      <td>8-Amino-7-oxononanoic acid</td>\n      <td>HMDB0240687</td>\n      <td>(8S)-8-amino-7-oxononanoic acid</td>\n      <td>C01092</td>\n      <td>None</td>\n      <td>395028</td>\n      <td>DB02274</td>\n      <td>None</td>\n      <td>149468</td>\n      <td>448124</td>\n      <td>None</td>\n      <td>None</td>\n      <td>None</td>\n    </tr>\n  </tbody>\n</table>\n<p>114222 rows × 13 columns</p>\n</div>"
     },
     "execution_count": 9,
     "metadata": {},
     "output_type": "execute_result"
    }
   ],
   "source": [
    "df_hmbd"
   ],
   "metadata": {
    "collapsed": false,
    "pycharm": {
     "name": "#%%\n"
    }
   }
  },
  {
   "cell_type": "code",
   "execution_count": 10,
   "outputs": [],
   "source": [
    "# Save data as csv\n",
    "df_hmbd.to_csv('hmdb_metabolites_specific_identifiers.csv', index=False)"
   ],
   "metadata": {
    "collapsed": false,
    "pycharm": {
     "name": "#%%\n"
    }
   }
  },
  {
   "cell_type": "code",
   "execution_count": null,
   "outputs": [],
   "source": [],
   "metadata": {
    "collapsed": false,
    "pycharm": {
     "name": "#%%\n"
    }
   }
  }
 ],
 "metadata": {
  "kernelspec": {
   "display_name": "Python 3",
   "language": "python",
   "name": "python3"
  },
  "language_info": {
   "codemirror_mode": {
    "name": "ipython",
    "version": 2
   },
   "file_extension": ".py",
   "mimetype": "text/x-python",
   "name": "python",
   "nbconvert_exporter": "python",
   "pygments_lexer": "ipython2",
   "version": "2.7.6"
  }
 },
 "nbformat": 4,
 "nbformat_minor": 0
}