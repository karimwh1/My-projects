{
 "cells": [
  {
   "cell_type": "markdown",
   "id": "80feb9c0-93a6-4c10-8f3f-a6255935c9c7",
   "metadata": {
    "pycharm": {
     "name": "#%% md\n"
    }
   },
   "source": [
    "Micromet Network\n",
    "# Reactome Data Integration\n",
    "Goal: Match Reactome and VHM metabolites\n",
    "\n",
    "## Preprocessing"
   ]
  },
  {
   "cell_type": "code",
   "execution_count": 1,
   "id": "b2316a0c-c7b4-4cf9-af91-839d0ae5490a",
   "metadata": {
    "pycharm": {
     "name": "#%%\n"
    }
   },
   "outputs": [],
   "source": [
    "import pandas as pd"
   ]
  },
  {
   "cell_type": "code",
   "execution_count": 2,
   "id": "8122667a-bbb1-4195-82c6-dde49f89ad3c",
   "metadata": {
    "pycharm": {
     "name": "#%%\n"
    }
   },
   "outputs": [],
   "source": [
    "reactome_mets = pd.read_csv('extracted_data/reactome/reactome_species_with_hmdb_ids.csv', dtype=str)\n",
    "vmh_mets = pd.read_csv('extracted_data/vmh/vmh_metabolites_with_hmdb_ids.csv', dtype=str)"
   ]
  },
  {
   "cell_type": "code",
   "execution_count": 3,
   "id": "34d957d7-1204-45a7-bf63-07caa78766a6",
   "metadata": {
    "pycharm": {
     "name": "#%%\n"
    }
   },
   "outputs": [
    {
     "name": "stdout",
     "output_type": "stream",
     "text": [
      "<class 'pandas.core.frame.DataFrame'>\n",
      "RangeIndex: 238518 entries, 0 to 238517\n",
      "Data columns (total 23 columns):\n",
      " #   Column               Non-Null Count   Dtype \n",
      "---  ------               --------------   ----- \n",
      " 0   species_id           238518 non-null  object\n",
      " 1   species_name         238515 non-null  object\n",
      " 2   species_reactome_id  238518 non-null  object\n",
      " 3   entity_type          238518 non-null  object\n",
      " 4   CHEBI                8370 non-null    object\n",
      " 5   uniprot              166323 non-null  object\n",
      " 6   ensembl              1310 non-null    object\n",
      " 7   GRAC                 579 non-null     object\n",
      " 8   pubchem              1003 non-null    object\n",
      " 9   ncbi                 28 non-null      object\n",
      " 10  mirbase              52 non-null      object\n",
      " 11  ENA                  42 non-null      object\n",
      " 12  KEGG                 834 non-null     object\n",
      " 13  hmdb_id              991 non-null     object\n",
      " 14  name                 991 non-null     object\n",
      " 15  iupac                985 non-null     object\n",
      " 16  foodb_id             826 non-null     object\n",
      " 17  chemspider_id        815 non-null     object\n",
      " 18  drugbank_id          508 non-null     object\n",
      " 19  pdb_id               42 non-null      object\n",
      " 20  wikipedia_id         762 non-null     object\n",
      " 21  bigg_id              459 non-null     object\n",
      " 22  vmh_id               574 non-null     object\n",
      "dtypes: object(23)\n",
      "memory usage: 41.9+ MB\n"
     ]
    }
   ],
   "source": [
    "reactome_mets.info()"
   ]
  },
  {
   "cell_type": "code",
   "execution_count": 4,
   "id": "9da827c7-66ff-461a-abd3-9c7c16c15394",
   "metadata": {
    "pycharm": {
     "name": "#%%\n"
    }
   },
   "outputs": [
    {
     "name": "stdout",
     "output_type": "stream",
     "text": [
      "<class 'pandas.core.frame.DataFrame'>\n",
      "RangeIndex: 5321 entries, 0 to 5320\n",
      "Data columns (total 17 columns):\n",
      " #   Column                Non-Null Count  Dtype \n",
      "---  ------                --------------  ----- \n",
      " 0   met_id                5321 non-null   object\n",
      " 1   abbreviation          5321 non-null   object\n",
      " 2   fullName              5321 non-null   object\n",
      " 3   keggId                2324 non-null   object\n",
      " 4   pubChemId             1996 non-null   object\n",
      " 5   unified_abbreviation  5321 non-null   object\n",
      " 6   CHEBI                 2063 non-null   object\n",
      " 7   hmdb_id               1601 non-null   object\n",
      " 8   name                  1601 non-null   object\n",
      " 9   iupac                 1594 non-null   object\n",
      " 10  foodb_id              1350 non-null   object\n",
      " 11  chemspider_id         1270 non-null   object\n",
      " 12  drugbank_id           475 non-null    object\n",
      " 13  pdb_id                58 non-null     object\n",
      " 14  wikipedia_id          799 non-null    object\n",
      " 15  bigg_id               601 non-null    object\n",
      " 16  vmh_id                1175 non-null   object\n",
      "dtypes: object(17)\n",
      "memory usage: 706.8+ KB\n"
     ]
    }
   ],
   "source": [
    "vmh_mets.info()"
   ]
  },
  {
   "cell_type": "code",
   "execution_count": 5,
   "id": "0d982c29-9358-450b-834c-0faba128030c",
   "metadata": {
    "pycharm": {
     "name": "#%%\n"
    }
   },
   "outputs": [
    {
     "data": {
      "text/plain": "         species_id                                       species_name  \\\n0  species_10637177  PEX2:PEX10:PEX12:PEX5S,L:Ub:UBE2D1,2,3:PEX13:P...   \n1  species_10603252                                         UBE2D1,2,3   \n2  species_10603252                                         UBE2D1,2,3   \n3  species_10603252                                         UBE2D1,2,3   \n4  species_10635551                          RNF152:RRAGA:GDP:Ub:UBE2N   \n\n  species_reactome_id          entity_type CHEBI uniprot ensembl GRAC pubchem  \\\n0       R-CEL-8953942     Reactome Complex   NaN     NaN     NaN  NaN     NaN   \n1       R-CEL-1234120  Reactome DefinedSet   NaN  P35129     NaN  NaN     NaN   \n2       R-CEL-1234120  Reactome DefinedSet   NaN  Q9U1U4     NaN  NaN     NaN   \n3       R-CEL-1234120  Reactome DefinedSet   NaN  Q20617     NaN  NaN     NaN   \n4       R-CEL-8938812     Reactome Complex   NaN     NaN     NaN  NaN     NaN   \n\n  ncbi  ... hmdb_id name iupac foodb_id chemspider_id drugbank_id pdb_id  \\\n0  NaN  ...     NaN  NaN   NaN      NaN           NaN         NaN    NaN   \n1  NaN  ...     NaN  NaN   NaN      NaN           NaN         NaN    NaN   \n2  NaN  ...     NaN  NaN   NaN      NaN           NaN         NaN    NaN   \n3  NaN  ...     NaN  NaN   NaN      NaN           NaN         NaN    NaN   \n4  NaN  ...     NaN  NaN   NaN      NaN           NaN         NaN    NaN   \n\n  wikipedia_id bigg_id vmh_id  \n0          NaN     NaN    NaN  \n1          NaN     NaN    NaN  \n2          NaN     NaN    NaN  \n3          NaN     NaN    NaN  \n4          NaN     NaN    NaN  \n\n[5 rows x 23 columns]",
      "text/html": "<div>\n<style scoped>\n    .dataframe tbody tr th:only-of-type {\n        vertical-align: middle;\n    }\n\n    .dataframe tbody tr th {\n        vertical-align: top;\n    }\n\n    .dataframe thead th {\n        text-align: right;\n    }\n</style>\n<table border=\"1\" class=\"dataframe\">\n  <thead>\n    <tr style=\"text-align: right;\">\n      <th></th>\n      <th>species_id</th>\n      <th>species_name</th>\n      <th>species_reactome_id</th>\n      <th>entity_type</th>\n      <th>CHEBI</th>\n      <th>uniprot</th>\n      <th>ensembl</th>\n      <th>GRAC</th>\n      <th>pubchem</th>\n      <th>ncbi</th>\n      <th>...</th>\n      <th>hmdb_id</th>\n      <th>name</th>\n      <th>iupac</th>\n      <th>foodb_id</th>\n      <th>chemspider_id</th>\n      <th>drugbank_id</th>\n      <th>pdb_id</th>\n      <th>wikipedia_id</th>\n      <th>bigg_id</th>\n      <th>vmh_id</th>\n    </tr>\n  </thead>\n  <tbody>\n    <tr>\n      <th>0</th>\n      <td>species_10637177</td>\n      <td>PEX2:PEX10:PEX12:PEX5S,L:Ub:UBE2D1,2,3:PEX13:P...</td>\n      <td>R-CEL-8953942</td>\n      <td>Reactome Complex</td>\n      <td>NaN</td>\n      <td>NaN</td>\n      <td>NaN</td>\n      <td>NaN</td>\n      <td>NaN</td>\n      <td>NaN</td>\n      <td>...</td>\n      <td>NaN</td>\n      <td>NaN</td>\n      <td>NaN</td>\n      <td>NaN</td>\n      <td>NaN</td>\n      <td>NaN</td>\n      <td>NaN</td>\n      <td>NaN</td>\n      <td>NaN</td>\n      <td>NaN</td>\n    </tr>\n    <tr>\n      <th>1</th>\n      <td>species_10603252</td>\n      <td>UBE2D1,2,3</td>\n      <td>R-CEL-1234120</td>\n      <td>Reactome DefinedSet</td>\n      <td>NaN</td>\n      <td>P35129</td>\n      <td>NaN</td>\n      <td>NaN</td>\n      <td>NaN</td>\n      <td>NaN</td>\n      <td>...</td>\n      <td>NaN</td>\n      <td>NaN</td>\n      <td>NaN</td>\n      <td>NaN</td>\n      <td>NaN</td>\n      <td>NaN</td>\n      <td>NaN</td>\n      <td>NaN</td>\n      <td>NaN</td>\n      <td>NaN</td>\n    </tr>\n    <tr>\n      <th>2</th>\n      <td>species_10603252</td>\n      <td>UBE2D1,2,3</td>\n      <td>R-CEL-1234120</td>\n      <td>Reactome DefinedSet</td>\n      <td>NaN</td>\n      <td>Q9U1U4</td>\n      <td>NaN</td>\n      <td>NaN</td>\n      <td>NaN</td>\n      <td>NaN</td>\n      <td>...</td>\n      <td>NaN</td>\n      <td>NaN</td>\n      <td>NaN</td>\n      <td>NaN</td>\n      <td>NaN</td>\n      <td>NaN</td>\n      <td>NaN</td>\n      <td>NaN</td>\n      <td>NaN</td>\n      <td>NaN</td>\n    </tr>\n    <tr>\n      <th>3</th>\n      <td>species_10603252</td>\n      <td>UBE2D1,2,3</td>\n      <td>R-CEL-1234120</td>\n      <td>Reactome DefinedSet</td>\n      <td>NaN</td>\n      <td>Q20617</td>\n      <td>NaN</td>\n      <td>NaN</td>\n      <td>NaN</td>\n      <td>NaN</td>\n      <td>...</td>\n      <td>NaN</td>\n      <td>NaN</td>\n      <td>NaN</td>\n      <td>NaN</td>\n      <td>NaN</td>\n      <td>NaN</td>\n      <td>NaN</td>\n      <td>NaN</td>\n      <td>NaN</td>\n      <td>NaN</td>\n    </tr>\n    <tr>\n      <th>4</th>\n      <td>species_10635551</td>\n      <td>RNF152:RRAGA:GDP:Ub:UBE2N</td>\n      <td>R-CEL-8938812</td>\n      <td>Reactome Complex</td>\n      <td>NaN</td>\n      <td>NaN</td>\n      <td>NaN</td>\n      <td>NaN</td>\n      <td>NaN</td>\n      <td>NaN</td>\n      <td>...</td>\n      <td>NaN</td>\n      <td>NaN</td>\n      <td>NaN</td>\n      <td>NaN</td>\n      <td>NaN</td>\n      <td>NaN</td>\n      <td>NaN</td>\n      <td>NaN</td>\n      <td>NaN</td>\n      <td>NaN</td>\n    </tr>\n  </tbody>\n</table>\n<p>5 rows × 23 columns</p>\n</div>"
     },
     "execution_count": 5,
     "metadata": {},
     "output_type": "execute_result"
    }
   ],
   "source": [
    "reactome_mets.head()"
   ]
  },
  {
   "cell_type": "code",
   "execution_count": 6,
   "id": "b2313d40-fd27-4717-80bd-e46cc81fa2d4",
   "metadata": {
    "pycharm": {
     "name": "#%%\n"
    }
   },
   "outputs": [
    {
     "data": {
      "text/plain": "  met_id abbreviation                        fullName  keggId  pubChemId  \\\n0   1369          xtp       Xanthosine 5-triphosphate  C00700   439296.0   \n1   2659    docohxeth  Docosahexaenoyl Ethanolamide       NaN  5283451.0   \n2   1759        srb_L                       L-Sorbose  C00247   441484.0   \n3   5322       M00538                      1-Naphthol  C11714     7005.0   \n4   4699       M00341             Docosatrienoic acid  C16534  5312557.0   \n\n  unified_abbreviation      CHEBI      hmdb_id                       name  \\\n0                  xtp    10049.0  HMDB0000293  Xanthosine 5-triphosphate   \n1            docohxeth  1006090.0          NaN                        NaN   \n2                srb_L    10295.0  HMDB0001266                  L-Sorbose   \n3               M00538    10319.0  HMDB0012138                 1-Naphthol   \n4               M00341  1038735.0  HMDB0002823        Docosatrienoic acid   \n\n                                               iupac   foodb_id chemspider_id  \\\n0  ({[({[(2R,3S,4R,5R)-5-(2,6-dihydroxy-9H-purin-...  FDB021932        388429   \n1                                                NaN        NaN           NaN   \n2  (2R,3S,4R,5S)-2-(hydroxymethyl)oxane-2,3,4,5-t...  FDB001126        390208   \n3                                    naphthalen-1-ol  FDB005841          6739   \n4        (13Z,16Z,19Z)-docosa-13,16,19-trienoic acid  FDB019146       4471982   \n\n  drugbank_id pdb_id wikipedia_id bigg_id  vmh_id  \n0         NaN    NaN          NaN   35735     XTP  \n1         NaN    NaN          NaN     NaN     NaN  \n2         NaN    SOE      Sorbose     NaN   SRB_L  \n3         NaN    1NP   1-Naphthol     NaN  M00538  \n4         NaN    NaN          NaN     NaN  M00341  ",
      "text/html": "<div>\n<style scoped>\n    .dataframe tbody tr th:only-of-type {\n        vertical-align: middle;\n    }\n\n    .dataframe tbody tr th {\n        vertical-align: top;\n    }\n\n    .dataframe thead th {\n        text-align: right;\n    }\n</style>\n<table border=\"1\" class=\"dataframe\">\n  <thead>\n    <tr style=\"text-align: right;\">\n      <th></th>\n      <th>met_id</th>\n      <th>abbreviation</th>\n      <th>fullName</th>\n      <th>keggId</th>\n      <th>pubChemId</th>\n      <th>unified_abbreviation</th>\n      <th>CHEBI</th>\n      <th>hmdb_id</th>\n      <th>name</th>\n      <th>iupac</th>\n      <th>foodb_id</th>\n      <th>chemspider_id</th>\n      <th>drugbank_id</th>\n      <th>pdb_id</th>\n      <th>wikipedia_id</th>\n      <th>bigg_id</th>\n      <th>vmh_id</th>\n    </tr>\n  </thead>\n  <tbody>\n    <tr>\n      <th>0</th>\n      <td>1369</td>\n      <td>xtp</td>\n      <td>Xanthosine 5-triphosphate</td>\n      <td>C00700</td>\n      <td>439296.0</td>\n      <td>xtp</td>\n      <td>10049.0</td>\n      <td>HMDB0000293</td>\n      <td>Xanthosine 5-triphosphate</td>\n      <td>({[({[(2R,3S,4R,5R)-5-(2,6-dihydroxy-9H-purin-...</td>\n      <td>FDB021932</td>\n      <td>388429</td>\n      <td>NaN</td>\n      <td>NaN</td>\n      <td>NaN</td>\n      <td>35735</td>\n      <td>XTP</td>\n    </tr>\n    <tr>\n      <th>1</th>\n      <td>2659</td>\n      <td>docohxeth</td>\n      <td>Docosahexaenoyl Ethanolamide</td>\n      <td>NaN</td>\n      <td>5283451.0</td>\n      <td>docohxeth</td>\n      <td>1006090.0</td>\n      <td>NaN</td>\n      <td>NaN</td>\n      <td>NaN</td>\n      <td>NaN</td>\n      <td>NaN</td>\n      <td>NaN</td>\n      <td>NaN</td>\n      <td>NaN</td>\n      <td>NaN</td>\n      <td>NaN</td>\n    </tr>\n    <tr>\n      <th>2</th>\n      <td>1759</td>\n      <td>srb_L</td>\n      <td>L-Sorbose</td>\n      <td>C00247</td>\n      <td>441484.0</td>\n      <td>srb_L</td>\n      <td>10295.0</td>\n      <td>HMDB0001266</td>\n      <td>L-Sorbose</td>\n      <td>(2R,3S,4R,5S)-2-(hydroxymethyl)oxane-2,3,4,5-t...</td>\n      <td>FDB001126</td>\n      <td>390208</td>\n      <td>NaN</td>\n      <td>SOE</td>\n      <td>Sorbose</td>\n      <td>NaN</td>\n      <td>SRB_L</td>\n    </tr>\n    <tr>\n      <th>3</th>\n      <td>5322</td>\n      <td>M00538</td>\n      <td>1-Naphthol</td>\n      <td>C11714</td>\n      <td>7005.0</td>\n      <td>M00538</td>\n      <td>10319.0</td>\n      <td>HMDB0012138</td>\n      <td>1-Naphthol</td>\n      <td>naphthalen-1-ol</td>\n      <td>FDB005841</td>\n      <td>6739</td>\n      <td>NaN</td>\n      <td>1NP</td>\n      <td>1-Naphthol</td>\n      <td>NaN</td>\n      <td>M00538</td>\n    </tr>\n    <tr>\n      <th>4</th>\n      <td>4699</td>\n      <td>M00341</td>\n      <td>Docosatrienoic acid</td>\n      <td>C16534</td>\n      <td>5312557.0</td>\n      <td>M00341</td>\n      <td>1038735.0</td>\n      <td>HMDB0002823</td>\n      <td>Docosatrienoic acid</td>\n      <td>(13Z,16Z,19Z)-docosa-13,16,19-trienoic acid</td>\n      <td>FDB019146</td>\n      <td>4471982</td>\n      <td>NaN</td>\n      <td>NaN</td>\n      <td>NaN</td>\n      <td>NaN</td>\n      <td>M00341</td>\n    </tr>\n  </tbody>\n</table>\n</div>"
     },
     "execution_count": 6,
     "metadata": {},
     "output_type": "execute_result"
    }
   ],
   "source": [
    "vmh_mets.head()"
   ]
  },
  {
   "cell_type": "code",
   "execution_count": 7,
   "id": "d622d3c3-c047-4440-b1df-107ce443ddb8",
   "metadata": {
    "pycharm": {
     "name": "#%%\n"
    }
   },
   "outputs": [
    {
     "data": {
      "text/plain": "     met_id abbreviation                        fullName  keggId  pubChemId  \\\n0      1369          xtp       Xanthosine 5-triphosphate  C00700   439296.0   \n1      2659    docohxeth  Docosahexaenoyl Ethanolamide       NaN  5283451.0   \n2      1759        srb_L                       L-Sorbose  C00247   441484.0   \n3      5322       M00538                      1-Naphthol  C11714     7005.0   \n4      4699       M00341             Docosatrienoic acid  C16534  5312557.0   \n...     ...          ...                             ...     ...        ...   \n4900   2914       tyrtyr                Tyrosyl-Tyrosine     NaN    5057430   \n4903   3478         q8h2                     Ubiquinol-8     NaN   25074411   \n4909   5717       udca3s  Ursodeoxycholic acid 3-sulfate     NaN   21252318   \n4923   2925       valval                    Valyl-Valine     NaN        NaN   \n4925   4609     vanilpyr               Vanilpyruvic Acid     NaN        NaN   \n\n     unified_abbreviation    CHEBI      hmdb_id  \\\n0                     xtp    10049  HMDB0000293   \n1               docohxeth  1006090          NaN   \n2                   srb_L    10295  HMDB0001266   \n3                  M00538    10319  HMDB0012138   \n4                  M00341  1038735  HMDB0002823   \n...                   ...      ...          ...   \n4900               tyrtyr    60987  HMDB0029117   \n4903                 q8h2    61682  HMDB0001060   \n4909               udca3s    89499  HMDB0002642   \n4923               valval   176461          NaN   \n4925             vanilpyr    88402          NaN   \n\n                                name  \\\n0          Xanthosine 5-triphosphate   \n1                                NaN   \n2                          L-Sorbose   \n3                         1-Naphthol   \n4                Docosatrienoic acid   \n...                              ...   \n4900                Tyrosyl-Tyrosine   \n4903                     Ubiquinol 8   \n4909  Ursodeoxycholic acid 3-sulfate   \n4923                             NaN   \n4925                             NaN   \n\n                                                  iupac   foodb_id  \\\n0     ({[({[(2R,3S,4R,5R)-5-(2,6-dihydroxy-9H-purin-...  FDB021932   \n1                                                   NaN        NaN   \n2     (2R,3S,4R,5S)-2-(hydroxymethyl)oxane-2,3,4,5-t...  FDB001126   \n3                                       naphthalen-1-ol  FDB005841   \n4           (13Z,16Z,19Z)-docosa-13,16,19-trienoic acid  FDB019146   \n...                                                 ...        ...   \n4900  2-[2-amino-3-(4-hydroxyphenyl)propanamido]-3-(...        NaN   \n4903  2,3-dimethoxy-5-methyl-6-[(2E,6E,10E,14E,18E,2...  FDB022399   \n4909  (4R)-4-[(1S,2S,5S,9S,10R,11S,14R,15R)-9-hydrox...  FDB023036   \n4923                                                NaN        NaN   \n4925                                                NaN        NaN   \n\n     chemspider_id drugbank_id pdb_id wikipedia_id bigg_id  vmh_id  \n0           388429         NaN    NaN          NaN   35735     XTP  \n1              NaN         NaN    NaN          NaN     NaN     NaN  \n2           390208         NaN    SOE      Sorbose     NaN   SRB_L  \n3             6739         NaN    1NP   1-Naphthol     NaN  M00538  \n4          4471982         NaN    NaN          NaN     NaN  M00341  \n...            ...         ...    ...          ...     ...     ...  \n4900           NaN         NaN    NaN          NaN     NaN     NaN  \n4903      24603698         NaN    NaN          NaN     NaN    Q8H2  \n4909      13628379         NaN    NaN          NaN     NaN     NaN  \n4923           NaN         NaN    NaN          NaN     NaN     NaN  \n4925           NaN         NaN    NaN          NaN     NaN     NaN  \n\n[2063 rows x 17 columns]",
      "text/html": "<div>\n<style scoped>\n    .dataframe tbody tr th:only-of-type {\n        vertical-align: middle;\n    }\n\n    .dataframe tbody tr th {\n        vertical-align: top;\n    }\n\n    .dataframe thead th {\n        text-align: right;\n    }\n</style>\n<table border=\"1\" class=\"dataframe\">\n  <thead>\n    <tr style=\"text-align: right;\">\n      <th></th>\n      <th>met_id</th>\n      <th>abbreviation</th>\n      <th>fullName</th>\n      <th>keggId</th>\n      <th>pubChemId</th>\n      <th>unified_abbreviation</th>\n      <th>CHEBI</th>\n      <th>hmdb_id</th>\n      <th>name</th>\n      <th>iupac</th>\n      <th>foodb_id</th>\n      <th>chemspider_id</th>\n      <th>drugbank_id</th>\n      <th>pdb_id</th>\n      <th>wikipedia_id</th>\n      <th>bigg_id</th>\n      <th>vmh_id</th>\n    </tr>\n  </thead>\n  <tbody>\n    <tr>\n      <th>0</th>\n      <td>1369</td>\n      <td>xtp</td>\n      <td>Xanthosine 5-triphosphate</td>\n      <td>C00700</td>\n      <td>439296.0</td>\n      <td>xtp</td>\n      <td>10049</td>\n      <td>HMDB0000293</td>\n      <td>Xanthosine 5-triphosphate</td>\n      <td>({[({[(2R,3S,4R,5R)-5-(2,6-dihydroxy-9H-purin-...</td>\n      <td>FDB021932</td>\n      <td>388429</td>\n      <td>NaN</td>\n      <td>NaN</td>\n      <td>NaN</td>\n      <td>35735</td>\n      <td>XTP</td>\n    </tr>\n    <tr>\n      <th>1</th>\n      <td>2659</td>\n      <td>docohxeth</td>\n      <td>Docosahexaenoyl Ethanolamide</td>\n      <td>NaN</td>\n      <td>5283451.0</td>\n      <td>docohxeth</td>\n      <td>1006090</td>\n      <td>NaN</td>\n      <td>NaN</td>\n      <td>NaN</td>\n      <td>NaN</td>\n      <td>NaN</td>\n      <td>NaN</td>\n      <td>NaN</td>\n      <td>NaN</td>\n      <td>NaN</td>\n      <td>NaN</td>\n    </tr>\n    <tr>\n      <th>2</th>\n      <td>1759</td>\n      <td>srb_L</td>\n      <td>L-Sorbose</td>\n      <td>C00247</td>\n      <td>441484.0</td>\n      <td>srb_L</td>\n      <td>10295</td>\n      <td>HMDB0001266</td>\n      <td>L-Sorbose</td>\n      <td>(2R,3S,4R,5S)-2-(hydroxymethyl)oxane-2,3,4,5-t...</td>\n      <td>FDB001126</td>\n      <td>390208</td>\n      <td>NaN</td>\n      <td>SOE</td>\n      <td>Sorbose</td>\n      <td>NaN</td>\n      <td>SRB_L</td>\n    </tr>\n    <tr>\n      <th>3</th>\n      <td>5322</td>\n      <td>M00538</td>\n      <td>1-Naphthol</td>\n      <td>C11714</td>\n      <td>7005.0</td>\n      <td>M00538</td>\n      <td>10319</td>\n      <td>HMDB0012138</td>\n      <td>1-Naphthol</td>\n      <td>naphthalen-1-ol</td>\n      <td>FDB005841</td>\n      <td>6739</td>\n      <td>NaN</td>\n      <td>1NP</td>\n      <td>1-Naphthol</td>\n      <td>NaN</td>\n      <td>M00538</td>\n    </tr>\n    <tr>\n      <th>4</th>\n      <td>4699</td>\n      <td>M00341</td>\n      <td>Docosatrienoic acid</td>\n      <td>C16534</td>\n      <td>5312557.0</td>\n      <td>M00341</td>\n      <td>1038735</td>\n      <td>HMDB0002823</td>\n      <td>Docosatrienoic acid</td>\n      <td>(13Z,16Z,19Z)-docosa-13,16,19-trienoic acid</td>\n      <td>FDB019146</td>\n      <td>4471982</td>\n      <td>NaN</td>\n      <td>NaN</td>\n      <td>NaN</td>\n      <td>NaN</td>\n      <td>M00341</td>\n    </tr>\n    <tr>\n      <th>...</th>\n      <td>...</td>\n      <td>...</td>\n      <td>...</td>\n      <td>...</td>\n      <td>...</td>\n      <td>...</td>\n      <td>...</td>\n      <td>...</td>\n      <td>...</td>\n      <td>...</td>\n      <td>...</td>\n      <td>...</td>\n      <td>...</td>\n      <td>...</td>\n      <td>...</td>\n      <td>...</td>\n      <td>...</td>\n    </tr>\n    <tr>\n      <th>4900</th>\n      <td>2914</td>\n      <td>tyrtyr</td>\n      <td>Tyrosyl-Tyrosine</td>\n      <td>NaN</td>\n      <td>5057430</td>\n      <td>tyrtyr</td>\n      <td>60987</td>\n      <td>HMDB0029117</td>\n      <td>Tyrosyl-Tyrosine</td>\n      <td>2-[2-amino-3-(4-hydroxyphenyl)propanamido]-3-(...</td>\n      <td>NaN</td>\n      <td>NaN</td>\n      <td>NaN</td>\n      <td>NaN</td>\n      <td>NaN</td>\n      <td>NaN</td>\n      <td>NaN</td>\n    </tr>\n    <tr>\n      <th>4903</th>\n      <td>3478</td>\n      <td>q8h2</td>\n      <td>Ubiquinol-8</td>\n      <td>NaN</td>\n      <td>25074411</td>\n      <td>q8h2</td>\n      <td>61682</td>\n      <td>HMDB0001060</td>\n      <td>Ubiquinol 8</td>\n      <td>2,3-dimethoxy-5-methyl-6-[(2E,6E,10E,14E,18E,2...</td>\n      <td>FDB022399</td>\n      <td>24603698</td>\n      <td>NaN</td>\n      <td>NaN</td>\n      <td>NaN</td>\n      <td>NaN</td>\n      <td>Q8H2</td>\n    </tr>\n    <tr>\n      <th>4909</th>\n      <td>5717</td>\n      <td>udca3s</td>\n      <td>Ursodeoxycholic acid 3-sulfate</td>\n      <td>NaN</td>\n      <td>21252318</td>\n      <td>udca3s</td>\n      <td>89499</td>\n      <td>HMDB0002642</td>\n      <td>Ursodeoxycholic acid 3-sulfate</td>\n      <td>(4R)-4-[(1S,2S,5S,9S,10R,11S,14R,15R)-9-hydrox...</td>\n      <td>FDB023036</td>\n      <td>13628379</td>\n      <td>NaN</td>\n      <td>NaN</td>\n      <td>NaN</td>\n      <td>NaN</td>\n      <td>NaN</td>\n    </tr>\n    <tr>\n      <th>4923</th>\n      <td>2925</td>\n      <td>valval</td>\n      <td>Valyl-Valine</td>\n      <td>NaN</td>\n      <td>NaN</td>\n      <td>valval</td>\n      <td>176461</td>\n      <td>NaN</td>\n      <td>NaN</td>\n      <td>NaN</td>\n      <td>NaN</td>\n      <td>NaN</td>\n      <td>NaN</td>\n      <td>NaN</td>\n      <td>NaN</td>\n      <td>NaN</td>\n      <td>NaN</td>\n    </tr>\n    <tr>\n      <th>4925</th>\n      <td>4609</td>\n      <td>vanilpyr</td>\n      <td>Vanilpyruvic Acid</td>\n      <td>NaN</td>\n      <td>NaN</td>\n      <td>vanilpyr</td>\n      <td>88402</td>\n      <td>NaN</td>\n      <td>NaN</td>\n      <td>NaN</td>\n      <td>NaN</td>\n      <td>NaN</td>\n      <td>NaN</td>\n      <td>NaN</td>\n      <td>NaN</td>\n      <td>NaN</td>\n      <td>NaN</td>\n    </tr>\n  </tbody>\n</table>\n<p>2063 rows × 17 columns</p>\n</div>"
     },
     "execution_count": 7,
     "metadata": {},
     "output_type": "execute_result"
    }
   ],
   "source": [
    "# CHEBI identifier has .0 in vmh_mets as it was originally saved as float. This does not match the reactome_mets CHEBO identifier, which is why we need to split off the .0 part\n",
    "vmh_mets.CHEBI = vmh_mets.CHEBI.apply(lambda x: x.split('.')[0] if pd.notna(x) else float('NaN'))\n",
    "vmh_mets[vmh_mets.CHEBI.notna()]"
   ]
  },
  {
   "cell_type": "code",
   "execution_count": 8,
   "id": "6f35302d-5e39-44b3-8c4d-8d05ed6a6b45",
   "metadata": {
    "pycharm": {
     "name": "#%%\n"
    }
   },
   "outputs": [],
   "source": [
    "# Same for pubChemId\n",
    "vmh_mets.pubChemId = vmh_mets.pubChemId.apply(lambda x: x.split('.')[0] if pd.notna(x) else float('NaN'))"
   ]
  },
  {
   "cell_type": "markdown",
   "id": "babf9606-e826-41f0-8699-05af502ce951",
   "metadata": {
    "jp-MarkdownHeadingCollapsed": true,
    "tags": [],
    "pycharm": {
     "name": "#%% md\n"
    }
   },
   "source": [
    "### Split species Reactome into metabolites and catalysts\n",
    "As the reactome species contain metabolites as well as catalysts/enzymes, we will separate them for the matching by checking the role of each species in the reactions table"
   ]
  },
  {
   "cell_type": "code",
   "execution_count": 9,
   "id": "5e68b6fe-ef3f-47b2-9491-2ba3ad2285b1",
   "metadata": {
    "pycharm": {
     "name": "#%%\n"
    }
   },
   "outputs": [],
   "source": [
    "reactions_reactome = pd.read_csv('extracted_data/reactome/reactome_reactions.csv')"
   ]
  },
  {
   "cell_type": "code",
   "execution_count": 10,
   "id": "b989df89-0b1c-4581-a4a6-fff239c95539",
   "metadata": {
    "pycharm": {
     "name": "#%%\n"
    }
   },
   "outputs": [],
   "source": [
    "reactions_reactome.reactome_link = reactions_reactome.reactome_link.apply(lambda x: x.split('reactome:')[1])"
   ]
  },
  {
   "cell_type": "code",
   "execution_count": 11,
   "id": "15c06719-140f-4be0-a15a-e55ba3ee9aae",
   "metadata": {
    "pycharm": {
     "name": "#%%\n"
    }
   },
   "outputs": [
    {
     "data": {
      "text/plain": "         reaction_id                                      reaction_name  \\\n0  reaction_10635562                     RNF152 polyubiquitinates RRAGA   \n1  reaction_10635564        RNF152 binds RRAGA:GDP and Ubiquitin:UBE2D3   \n2  reaction_10637189  PEX2:PEX10:PEX12 monoubiquitinates PEX5S,L at ...   \n3  reaction_10637179  PEX2:PEX10:PEX12 binds PEX5S,L (in PEX5S:PEX13...   \n4  reaction_10659826            CaMKK autophosphorylates in the nucleus   \n\n  species  reactome_link                                          reactants  \\\n0     CEL  R-CEL-8938815                  species_10635551,species_10635549   \n1     CEL  R-CEL-8938829  species_10635549,species_10635544,species_1063...   \n2     CEL  R-CEL-8953946                                   species_10637177   \n3     CEL  R-CEL-8953917                  species_10637175,species_10637171   \n4     DDI   R-DDI-442749                     species_10659818,species_29358   \n\n                                            products           enzymes  \n0  species_10635559,species_10635542,species_1058...  species_10635551  \n1                                   species_10635551               NaN  \n2                  species_10603252,species_10637186  species_10637177  \n3                                   species_10637177               NaN  \n4                    species_113582,species_10659823  species_10659818  ",
      "text/html": "<div>\n<style scoped>\n    .dataframe tbody tr th:only-of-type {\n        vertical-align: middle;\n    }\n\n    .dataframe tbody tr th {\n        vertical-align: top;\n    }\n\n    .dataframe thead th {\n        text-align: right;\n    }\n</style>\n<table border=\"1\" class=\"dataframe\">\n  <thead>\n    <tr style=\"text-align: right;\">\n      <th></th>\n      <th>reaction_id</th>\n      <th>reaction_name</th>\n      <th>species</th>\n      <th>reactome_link</th>\n      <th>reactants</th>\n      <th>products</th>\n      <th>enzymes</th>\n    </tr>\n  </thead>\n  <tbody>\n    <tr>\n      <th>0</th>\n      <td>reaction_10635562</td>\n      <td>RNF152 polyubiquitinates RRAGA</td>\n      <td>CEL</td>\n      <td>R-CEL-8938815</td>\n      <td>species_10635551,species_10635549</td>\n      <td>species_10635559,species_10635542,species_1058...</td>\n      <td>species_10635551</td>\n    </tr>\n    <tr>\n      <th>1</th>\n      <td>reaction_10635564</td>\n      <td>RNF152 binds RRAGA:GDP and Ubiquitin:UBE2D3</td>\n      <td>CEL</td>\n      <td>R-CEL-8938829</td>\n      <td>species_10635549,species_10635544,species_1063...</td>\n      <td>species_10635551</td>\n      <td>NaN</td>\n    </tr>\n    <tr>\n      <th>2</th>\n      <td>reaction_10637189</td>\n      <td>PEX2:PEX10:PEX12 monoubiquitinates PEX5S,L at ...</td>\n      <td>CEL</td>\n      <td>R-CEL-8953946</td>\n      <td>species_10637177</td>\n      <td>species_10603252,species_10637186</td>\n      <td>species_10637177</td>\n    </tr>\n    <tr>\n      <th>3</th>\n      <td>reaction_10637179</td>\n      <td>PEX2:PEX10:PEX12 binds PEX5S,L (in PEX5S:PEX13...</td>\n      <td>CEL</td>\n      <td>R-CEL-8953917</td>\n      <td>species_10637175,species_10637171</td>\n      <td>species_10637177</td>\n      <td>NaN</td>\n    </tr>\n    <tr>\n      <th>4</th>\n      <td>reaction_10659826</td>\n      <td>CaMKK autophosphorylates in the nucleus</td>\n      <td>DDI</td>\n      <td>R-DDI-442749</td>\n      <td>species_10659818,species_29358</td>\n      <td>species_113582,species_10659823</td>\n      <td>species_10659818</td>\n    </tr>\n  </tbody>\n</table>\n</div>"
     },
     "execution_count": 11,
     "metadata": {},
     "output_type": "execute_result"
    }
   ],
   "source": [
    "reactions_reactome.head()"
   ]
  },
  {
   "cell_type": "code",
   "execution_count": 12,
   "id": "ae647b3b-0d6c-47d2-8ede-771a286798ca",
   "metadata": {
    "pycharm": {
     "name": "#%%\n"
    }
   },
   "outputs": [],
   "source": [
    "# Create set for each component of the reaction: reactants, products and enzymes\n",
    "reactome_reactants = set(','.join(reactions_reactome[reactions_reactome.reactants.notna()]['reactants'].tolist()).split(','))\n",
    "reactome_products = set(','.join(reactions_reactome[reactions_reactome.products.notna()]['products'].tolist()).split(','))\n",
    "reactome_enzymes = set(','.join(reactions_reactome[reactions_reactome.enzymes.notna()]['enzymes'].tolist()).split(','))"
   ]
  },
  {
   "cell_type": "code",
   "execution_count": 13,
   "id": "8345768b-3692-441f-807e-c571d07414e0",
   "metadata": {
    "pycharm": {
     "name": "#%%\n"
    }
   },
   "outputs": [],
   "source": [
    "# All relevant metabolites should be contained within the reactants and products of the reaction\n",
    "reactome_metabolites = reactome_reactants | reactome_products"
   ]
  },
  {
   "cell_type": "code",
   "execution_count": 14,
   "id": "3e2d25f7-ef76-4522-8797-0a08c0f6401c",
   "metadata": {
    "pycharm": {
     "name": "#%%\n"
    }
   },
   "outputs": [],
   "source": [
    "# From the original metabolites data frame select only the metabolites we just extracted\n",
    "df_reactome_metabolites = reactome_mets[reactome_mets.species_id.isin(reactome_metabolites)]"
   ]
  },
  {
   "cell_type": "code",
   "execution_count": 15,
   "id": "0f65f5c5-b57a-48f8-9e8b-5bc63ff79bda",
   "metadata": {
    "pycharm": {
     "name": "#%%\n"
    }
   },
   "outputs": [],
   "source": [
    "df_reactome_enzymes = reactome_mets[reactome_mets.species_id.isin(reactome_enzymes)]"
   ]
  },
  {
   "cell_type": "code",
   "execution_count": 16,
   "id": "71d4c681-a68d-4b3d-b285-5ebd2df973bb",
   "metadata": {
    "pycharm": {
     "name": "#%%\n"
    }
   },
   "outputs": [
    {
     "name": "stdout",
     "output_type": "stream",
     "text": [
      "Reactome Metabolites from Reactions: 190732\n",
      "Reactome Catalysts from Reactions: 66984\n",
      "Sum: 257716\n",
      "Intersection between metabolites and enzymes: 14277\n",
      "Reactome Metabolites & Catalysts from Reactions: 243439\n"
     ]
    }
   ],
   "source": [
    "print(f'Reactome Metabolites from Reactions: {len(df_reactome_metabolites.drop_duplicates())}')\n",
    "print(f'Reactome Catalysts from Reactions: {len(df_reactome_enzymes.drop_duplicates())}')\n",
    "print(f'Sum: {len(df_reactome_metabolites.drop_duplicates()) + len(df_reactome_enzymes.drop_duplicates())}')\n",
    "intersection = reactome_metabolites.intersection(reactome_enzymes) \n",
    "print(f'Intersection between metabolites and enzymes: {len(intersection)}')\n",
    "print(f'Reactome Metabolites & Catalysts from Reactions: {len(df_reactome_metabolites.drop_duplicates()) + len(df_reactome_enzymes.drop_duplicates()) - len(intersection)}')"
   ]
  },
  {
   "cell_type": "markdown",
   "id": "5acac4f6-2c6a-4be5-bf55-80266dce88da",
   "metadata": {
    "jp-MarkdownHeadingCollapsed": true,
    "tags": [],
    "pycharm": {
     "name": "#%% md\n"
    }
   },
   "source": [
    "## Match Reactome and VMH Metabolites Based on CHEBI, HMDB, KEGG, Pubchem and Name\n",
    "&rarr; Continue with df_reactome_metabolites"
   ]
  },
  {
   "cell_type": "code",
   "execution_count": 17,
   "id": "171373af-9b60-4320-bf66-a554ccde3f71",
   "metadata": {
    "pycharm": {
     "name": "#%%\n"
    }
   },
   "outputs": [
    {
     "name": "stderr",
     "output_type": "stream",
     "text": [
      "/var/folders/t7/3lkh5kq93tq79dxpjy9vqc_m0000gn/T/ipykernel_70375/1989631710.py:4: SettingWithCopyWarning: \n",
      "A value is trying to be set on a copy of a slice from a DataFrame.\n",
      "Try using .loc[row_indexer,col_indexer] = value instead\n",
      "\n",
      "See the caveats in the documentation: https://pandas.pydata.org/pandas-docs/stable/user_guide/indexing.html#returning-a-view-versus-a-copy\n",
      "  df_reactome_metabolites[\"species_name\"] = df_reactome_metabolites.species_name.str.lower()\n"
     ]
    }
   ],
   "source": [
    "# Cast all to lowercase letters to prevent matching mistakes due to different capitalization\n",
    "vmh_mets[\"unified_abbreviation\"] = vmh_mets.unified_abbreviation.str.lower()\n",
    "vmh_mets[\"fullName\"] = vmh_mets.fullName.str.lower()\n",
    "df_reactome_metabolites[\"species_name\"] = df_reactome_metabolites.species_name.str.lower()"
   ]
  },
  {
   "cell_type": "code",
   "execution_count": 18,
   "id": "604b2a3e-95f2-433e-a6db-5d01da31257d",
   "metadata": {
    "pycharm": {
     "name": "#%%\n"
    }
   },
   "outputs": [],
   "source": [
    "# Create dictionaries so we can match the other database identifiers to the unique VMH abbreviation if we find a match\n",
    "vmh_mets_chebi = {}\n",
    "vmh_mets_fullName = {}\n",
    "vmh_mets_hmdb = {}\n",
    "vmh_mets_kegg = {}\n",
    "vmh_mets_pubchem = {}\n",
    "vmh_mets_abb = set()"
   ]
  },
  {
   "cell_type": "code",
   "execution_count": 19,
   "id": "d2dcedda-b284-4925-bd8e-ff3950d1283b",
   "metadata": {
    "pycharm": {
     "name": "#%%\n"
    }
   },
   "outputs": [],
   "source": [
    "def extract_info_vmh_mets(row):\n",
    "    abb = row.unified_abbreviation\n",
    "    name = row.fullName\n",
    "    cheb = row.CHEBI\n",
    "    hmdb = row.hmdb_id\n",
    "    kegg = row.keggId\n",
    "    pubchem = row.pubChemId\n",
    "    \n",
    "    vmh_mets_fullName.update({name: abb})\n",
    "\n",
    "    vmh_mets_abb.add(abb)\n",
    "    \n",
    "    if pd.notna(cheb):\n",
    "        vmh_mets_chebi.update({cheb: abb})\n",
    "        \n",
    "    if pd.notna(hmdb):\n",
    "        vmh_mets_hmdb.update({hmdb: abb})\n",
    "        \n",
    "    if pd.notna(kegg):\n",
    "        vmh_mets_kegg.update({kegg: abb})\n",
    "        \n",
    "    if pd.notna(pubchem):\n",
    "        vmh_mets_pubchem.update({pubchem: abb})"
   ]
  },
  {
   "cell_type": "code",
   "execution_count": 20,
   "id": "ca019b51-7c67-4402-8726-e52d1c021d80",
   "metadata": {
    "pycharm": {
     "name": "#%%\n"
    }
   },
   "outputs": [
    {
     "data": {
      "text/plain": "0       None\n1       None\n2       None\n3       None\n4       None\n        ... \n5316    None\n5317    None\n5318    None\n5319    None\n5320    None\nLength: 5321, dtype: object"
     },
     "execution_count": 20,
     "metadata": {},
     "output_type": "execute_result"
    }
   ],
   "source": [
    "vmh_mets.apply(extract_info_vmh_mets, axis=1)"
   ]
  },
  {
   "cell_type": "code",
   "execution_count": 21,
   "outputs": [],
   "source": [
    "# Create method to match all identifiers we can find in the reactome data frame to the identifiers in the dictionaries we extracted from VMH\n",
    "\n",
    "def match_to_vmh_mets(row):\n",
    "    if row.CHEBI in vmh_mets_chebi:\n",
    "        return vmh_mets_chebi.get(row.CHEBI)\n",
    "    elif row.KEGG in vmh_mets_kegg:\n",
    "        return vmh_mets_kegg.get(row.KEGG)\n",
    "    elif row.pubchem in vmh_mets_pubchem:\n",
    "        return vmh_mets_pubchem.get(row.pubchem)\n",
    "    elif row.species_name in vmh_mets_fullName:\n",
    "         return vmh_mets_fullName.get(row.species_name)\n",
    "    elif row.species_name in vmh_mets_abb:\n",
    "        return row.species_name\n",
    "    elif row.hmdb_id in vmh_mets_hmdb:\n",
    "        return vmh_mets_hmdb.get(row.hmdb_id)\n",
    "    elif (pd.notna(row.vmh_id) and row.vmh_id.lower()) in vmh_mets_abb:\n",
    "        return row.vmh_id.lower()\n",
    "    else:\n",
    "        return float('nan')"
   ],
   "metadata": {
    "collapsed": false,
    "pycharm": {
     "name": "#%%\n"
    }
   }
  },
  {
   "cell_type": "code",
   "execution_count": 22,
   "id": "1abea51e-f8eb-412a-8be0-31acac38db59",
   "metadata": {
    "pycharm": {
     "name": "#%%\n"
    }
   },
   "outputs": [
    {
     "name": "stderr",
     "output_type": "stream",
     "text": [
      "/var/folders/t7/3lkh5kq93tq79dxpjy9vqc_m0000gn/T/ipykernel_70375/1574271388.py:1: SettingWithCopyWarning: \n",
      "A value is trying to be set on a copy of a slice from a DataFrame.\n",
      "Try using .loc[row_indexer,col_indexer] = value instead\n",
      "\n",
      "See the caveats in the documentation: https://pandas.pydata.org/pandas-docs/stable/user_guide/indexing.html#returning-a-view-versus-a-copy\n",
      "  df_reactome_metabolites['unified_abbreviation'] = df_reactome_metabolites.apply(match_to_vmh_mets, axis=1)\n"
     ]
    }
   ],
   "source": [
    "df_reactome_metabolites['unified_abbreviation'] = df_reactome_metabolites.apply(match_to_vmh_mets, axis=1)"
   ]
  },
  {
   "cell_type": "code",
   "execution_count": 23,
   "id": "8056ce33-1deb-421e-8eab-4b03cac9b94a",
   "metadata": {
    "pycharm": {
     "name": "#%%\n"
    }
   },
   "outputs": [
    {
     "data": {
      "text/plain": "             species_id      species_name species_reactome_id  \\\n13       species_113582               adp        R-ALL-113582   \n16        species_30389              camp         R-ALL-30389   \n17        species_76577               amp         R-ALL-76577   \n23       species_113592               atp        R-ALL-113592   \n24       species_114520        i(1,4,5)p3        R-ALL-114520   \n...                 ...               ...                 ...   \n238003  species_5653964   rragc,rragd:gdp       R-HSA-5653964   \n238294  species_9742698  rraga, rragb:gtp       R-MMU-5653946   \n238310  species_9742712   rragc,rragd:gdp       R-MMU-5653964   \n238437  species_9792284  hemoglobin dimer       R-MMU-2168876   \n238438  species_9792284  hemoglobin dimer       R-MMU-2168876   \n\n                  entity_type   CHEBI uniprot ensembl GRAC pubchem ncbi  ...  \\\n13      Reactome SimpleEntity  456216     NaN     NaN  NaN    6022  NaN  ...   \n16      Reactome SimpleEntity   17489     NaN     NaN  NaN     NaN  NaN  ...   \n17      Reactome SimpleEntity   16027     NaN     NaN  NaN    6083  NaN  ...   \n23      Reactome SimpleEntity   30616     NaN     NaN  NaN    5957  NaN  ...   \n24      Reactome SimpleEntity   16595     NaN     NaN  NaN     NaN  NaN  ...   \n...                       ...     ...     ...     ...  ...     ...  ...  ...   \n238003    Reactome DefinedSet   17552     NaN     NaN  NaN     NaN  NaN  ...   \n238294    Reactome DefinedSet   15996     NaN     NaN  NaN     NaN  NaN  ...   \n238310    Reactome DefinedSet   17552     NaN     NaN  NaN     NaN  NaN  ...   \n238437    Reactome DefinedSet   17627     NaN     NaN  NaN     NaN  NaN  ...   \n238438    Reactome DefinedSet   15379     NaN     NaN  NaN     NaN  NaN  ...   \n\n                           name  \\\n13                          ADP   \n16                          NaN   \n17      Adenosine monophosphate   \n23       Adenosine triphosphate   \n24                          NaN   \n...                         ...   \n238003                      NaN   \n238294                      NaN   \n238310                      NaN   \n238437                      NaN   \n238438                      NaN   \n\n                                                    iupac   foodb_id  \\\n13      [({[(2R,3S,4R,5R)-5-(6-amino-9H-purin-9-yl)-3,...  FDB021817   \n16                                                    NaN        NaN   \n17      {[(2R,3S,4R,5R)-5-(6-amino-9H-purin-9-yl)-3,4-...  FDB030677   \n23      ({[({[(2R,3S,4R,5R)-5-(6-amino-9H-purin-9-yl)-...  FDB030683   \n24                                                    NaN        NaN   \n...                                                   ...        ...   \n238003                                                NaN        NaN   \n238294                                                NaN        NaN   \n238310                                                NaN        NaN   \n238437                                                NaN        NaN   \n238438                                                NaN        NaN   \n\n       chemspider_id drugbank_id pdb_id            wikipedia_id bigg_id  \\\n13              5800         NaN    NaN   Adenosine_diphosphate   33496   \n16               NaN         NaN    NaN                     NaN     NaN   \n17              5858     DB00131    NaN           Adenylic_acid   33534   \n23              5742     DB00171    NaN  Adenosine_triphosphate   33477   \n24               NaN         NaN    NaN                     NaN     NaN   \n...              ...         ...    ...                     ...     ...   \n238003           NaN         NaN    NaN                     NaN     NaN   \n238294           NaN         NaN    NaN                     NaN     NaN   \n238310           NaN         NaN    NaN                     NaN     NaN   \n238437           NaN         NaN    NaN                     NaN     NaN   \n238438           NaN         NaN    NaN                     NaN     NaN   \n\n       vmh_id unified_abbreviation  \n13        ADP                  adp  \n16        NaN                 camp  \n17        AMP                  amp  \n23        ATP                  atp  \n24        NaN               mi145p  \n...       ...                  ...  \n238003    NaN                  gdp  \n238294    NaN                  gtp  \n238310    NaN                  gdp  \n238437    NaN                pheme  \n238438    NaN                   o2  \n\n[4240 rows x 24 columns]",
      "text/html": "<div>\n<style scoped>\n    .dataframe tbody tr th:only-of-type {\n        vertical-align: middle;\n    }\n\n    .dataframe tbody tr th {\n        vertical-align: top;\n    }\n\n    .dataframe thead th {\n        text-align: right;\n    }\n</style>\n<table border=\"1\" class=\"dataframe\">\n  <thead>\n    <tr style=\"text-align: right;\">\n      <th></th>\n      <th>species_id</th>\n      <th>species_name</th>\n      <th>species_reactome_id</th>\n      <th>entity_type</th>\n      <th>CHEBI</th>\n      <th>uniprot</th>\n      <th>ensembl</th>\n      <th>GRAC</th>\n      <th>pubchem</th>\n      <th>ncbi</th>\n      <th>...</th>\n      <th>name</th>\n      <th>iupac</th>\n      <th>foodb_id</th>\n      <th>chemspider_id</th>\n      <th>drugbank_id</th>\n      <th>pdb_id</th>\n      <th>wikipedia_id</th>\n      <th>bigg_id</th>\n      <th>vmh_id</th>\n      <th>unified_abbreviation</th>\n    </tr>\n  </thead>\n  <tbody>\n    <tr>\n      <th>13</th>\n      <td>species_113582</td>\n      <td>adp</td>\n      <td>R-ALL-113582</td>\n      <td>Reactome SimpleEntity</td>\n      <td>456216</td>\n      <td>NaN</td>\n      <td>NaN</td>\n      <td>NaN</td>\n      <td>6022</td>\n      <td>NaN</td>\n      <td>...</td>\n      <td>ADP</td>\n      <td>[({[(2R,3S,4R,5R)-5-(6-amino-9H-purin-9-yl)-3,...</td>\n      <td>FDB021817</td>\n      <td>5800</td>\n      <td>NaN</td>\n      <td>NaN</td>\n      <td>Adenosine_diphosphate</td>\n      <td>33496</td>\n      <td>ADP</td>\n      <td>adp</td>\n    </tr>\n    <tr>\n      <th>16</th>\n      <td>species_30389</td>\n      <td>camp</td>\n      <td>R-ALL-30389</td>\n      <td>Reactome SimpleEntity</td>\n      <td>17489</td>\n      <td>NaN</td>\n      <td>NaN</td>\n      <td>NaN</td>\n      <td>NaN</td>\n      <td>NaN</td>\n      <td>...</td>\n      <td>NaN</td>\n      <td>NaN</td>\n      <td>NaN</td>\n      <td>NaN</td>\n      <td>NaN</td>\n      <td>NaN</td>\n      <td>NaN</td>\n      <td>NaN</td>\n      <td>NaN</td>\n      <td>camp</td>\n    </tr>\n    <tr>\n      <th>17</th>\n      <td>species_76577</td>\n      <td>amp</td>\n      <td>R-ALL-76577</td>\n      <td>Reactome SimpleEntity</td>\n      <td>16027</td>\n      <td>NaN</td>\n      <td>NaN</td>\n      <td>NaN</td>\n      <td>6083</td>\n      <td>NaN</td>\n      <td>...</td>\n      <td>Adenosine monophosphate</td>\n      <td>{[(2R,3S,4R,5R)-5-(6-amino-9H-purin-9-yl)-3,4-...</td>\n      <td>FDB030677</td>\n      <td>5858</td>\n      <td>DB00131</td>\n      <td>NaN</td>\n      <td>Adenylic_acid</td>\n      <td>33534</td>\n      <td>AMP</td>\n      <td>amp</td>\n    </tr>\n    <tr>\n      <th>23</th>\n      <td>species_113592</td>\n      <td>atp</td>\n      <td>R-ALL-113592</td>\n      <td>Reactome SimpleEntity</td>\n      <td>30616</td>\n      <td>NaN</td>\n      <td>NaN</td>\n      <td>NaN</td>\n      <td>5957</td>\n      <td>NaN</td>\n      <td>...</td>\n      <td>Adenosine triphosphate</td>\n      <td>({[({[(2R,3S,4R,5R)-5-(6-amino-9H-purin-9-yl)-...</td>\n      <td>FDB030683</td>\n      <td>5742</td>\n      <td>DB00171</td>\n      <td>NaN</td>\n      <td>Adenosine_triphosphate</td>\n      <td>33477</td>\n      <td>ATP</td>\n      <td>atp</td>\n    </tr>\n    <tr>\n      <th>24</th>\n      <td>species_114520</td>\n      <td>i(1,4,5)p3</td>\n      <td>R-ALL-114520</td>\n      <td>Reactome SimpleEntity</td>\n      <td>16595</td>\n      <td>NaN</td>\n      <td>NaN</td>\n      <td>NaN</td>\n      <td>NaN</td>\n      <td>NaN</td>\n      <td>...</td>\n      <td>NaN</td>\n      <td>NaN</td>\n      <td>NaN</td>\n      <td>NaN</td>\n      <td>NaN</td>\n      <td>NaN</td>\n      <td>NaN</td>\n      <td>NaN</td>\n      <td>NaN</td>\n      <td>mi145p</td>\n    </tr>\n    <tr>\n      <th>...</th>\n      <td>...</td>\n      <td>...</td>\n      <td>...</td>\n      <td>...</td>\n      <td>...</td>\n      <td>...</td>\n      <td>...</td>\n      <td>...</td>\n      <td>...</td>\n      <td>...</td>\n      <td>...</td>\n      <td>...</td>\n      <td>...</td>\n      <td>...</td>\n      <td>...</td>\n      <td>...</td>\n      <td>...</td>\n      <td>...</td>\n      <td>...</td>\n      <td>...</td>\n      <td>...</td>\n    </tr>\n    <tr>\n      <th>238003</th>\n      <td>species_5653964</td>\n      <td>rragc,rragd:gdp</td>\n      <td>R-HSA-5653964</td>\n      <td>Reactome DefinedSet</td>\n      <td>17552</td>\n      <td>NaN</td>\n      <td>NaN</td>\n      <td>NaN</td>\n      <td>NaN</td>\n      <td>NaN</td>\n      <td>...</td>\n      <td>NaN</td>\n      <td>NaN</td>\n      <td>NaN</td>\n      <td>NaN</td>\n      <td>NaN</td>\n      <td>NaN</td>\n      <td>NaN</td>\n      <td>NaN</td>\n      <td>NaN</td>\n      <td>gdp</td>\n    </tr>\n    <tr>\n      <th>238294</th>\n      <td>species_9742698</td>\n      <td>rraga, rragb:gtp</td>\n      <td>R-MMU-5653946</td>\n      <td>Reactome DefinedSet</td>\n      <td>15996</td>\n      <td>NaN</td>\n      <td>NaN</td>\n      <td>NaN</td>\n      <td>NaN</td>\n      <td>NaN</td>\n      <td>...</td>\n      <td>NaN</td>\n      <td>NaN</td>\n      <td>NaN</td>\n      <td>NaN</td>\n      <td>NaN</td>\n      <td>NaN</td>\n      <td>NaN</td>\n      <td>NaN</td>\n      <td>NaN</td>\n      <td>gtp</td>\n    </tr>\n    <tr>\n      <th>238310</th>\n      <td>species_9742712</td>\n      <td>rragc,rragd:gdp</td>\n      <td>R-MMU-5653964</td>\n      <td>Reactome DefinedSet</td>\n      <td>17552</td>\n      <td>NaN</td>\n      <td>NaN</td>\n      <td>NaN</td>\n      <td>NaN</td>\n      <td>NaN</td>\n      <td>...</td>\n      <td>NaN</td>\n      <td>NaN</td>\n      <td>NaN</td>\n      <td>NaN</td>\n      <td>NaN</td>\n      <td>NaN</td>\n      <td>NaN</td>\n      <td>NaN</td>\n      <td>NaN</td>\n      <td>gdp</td>\n    </tr>\n    <tr>\n      <th>238437</th>\n      <td>species_9792284</td>\n      <td>hemoglobin dimer</td>\n      <td>R-MMU-2168876</td>\n      <td>Reactome DefinedSet</td>\n      <td>17627</td>\n      <td>NaN</td>\n      <td>NaN</td>\n      <td>NaN</td>\n      <td>NaN</td>\n      <td>NaN</td>\n      <td>...</td>\n      <td>NaN</td>\n      <td>NaN</td>\n      <td>NaN</td>\n      <td>NaN</td>\n      <td>NaN</td>\n      <td>NaN</td>\n      <td>NaN</td>\n      <td>NaN</td>\n      <td>NaN</td>\n      <td>pheme</td>\n    </tr>\n    <tr>\n      <th>238438</th>\n      <td>species_9792284</td>\n      <td>hemoglobin dimer</td>\n      <td>R-MMU-2168876</td>\n      <td>Reactome DefinedSet</td>\n      <td>15379</td>\n      <td>NaN</td>\n      <td>NaN</td>\n      <td>NaN</td>\n      <td>NaN</td>\n      <td>NaN</td>\n      <td>...</td>\n      <td>NaN</td>\n      <td>NaN</td>\n      <td>NaN</td>\n      <td>NaN</td>\n      <td>NaN</td>\n      <td>NaN</td>\n      <td>NaN</td>\n      <td>NaN</td>\n      <td>NaN</td>\n      <td>o2</td>\n    </tr>\n  </tbody>\n</table>\n<p>4240 rows × 24 columns</p>\n</div>"
     },
     "execution_count": 23,
     "metadata": {},
     "output_type": "execute_result"
    }
   ],
   "source": [
    "# Look at the new column and check how it matches with the column vmh_id that was already present in the reactome data frame\n",
    "df_reactome_metabolites[df_reactome_metabolites.unified_abbreviation.notna()]"
   ]
  },
  {
   "cell_type": "markdown",
   "source": [
    "&rarr; As we can see we were able to find new matches between the reactome and VMH metabolites"
   ],
   "metadata": {
    "collapsed": false,
    "pycharm": {
     "name": "#%% md\n"
    }
   }
  },
  {
   "cell_type": "code",
   "execution_count": 24,
   "id": "297be0e6-b5ef-4dee-9552-3586538f2e78",
   "metadata": {
    "pycharm": {
     "name": "#%%\n"
    }
   },
   "outputs": [
    {
     "data": {
      "text/plain": "              species_id species_name species_reactome_id  \\\n13        species_113582          adp        R-ALL-113582   \n17         species_76577          amp         R-ALL-76577   \n23        species_113592          atp        R-ALL-113592   \n25         species_74016         ca2+         R-ALL-74016   \n26         species_29358          atp         R-ALL-29358   \n...                  ...          ...                 ...   \n228279  species_10560008            n       R-DME-8855840   \n228281  species_10560014            n       R-DME-8855833   \n228337  species_10533327            n       R-DME-2064204   \n228403  species_10539805            n       R-DME-3791130   \n233731  species_10055695          apc       R-BTA-5246690   \n\n                                   entity_type   CHEBI     uniprot ensembl  \\\n13                       Reactome SimpleEntity  456216         NaN     NaN   \n17                       Reactome SimpleEntity   16027         NaN     NaN   \n23                       Reactome SimpleEntity   30616         NaN     NaN   \n25                       Reactome SimpleEntity   29108         NaN     NaN   \n26                       Reactome SimpleEntity   30616         NaN     NaN   \n...                                        ...     ...         ...     ...   \n228279  Reactome EntityWithAccessionedSequence   17196      P07207     NaN   \n228281  Reactome EntityWithAccessionedSequence   17196      P07207     NaN   \n228337  Reactome EntityWithAccessionedSequence   17196      P07207     NaN   \n228403  Reactome EntityWithAccessionedSequence   17196      P07207     NaN   \n233731  Reactome EntityWithAccessionedSequence   17158  A0A3Q1LMC7     NaN   \n\n       GRAC pubchem ncbi  ...                     name  \\\n13      NaN    6022  NaN  ...                      ADP   \n17      NaN    6083  NaN  ...  Adenosine monophosphate   \n23      NaN    5957  NaN  ...   Adenosine triphosphate   \n25      NaN     271  NaN  ...                  Calcium   \n26      NaN    5957  NaN  ...   Adenosine triphosphate   \n...     ...     ...  ...  ...                      ...   \n228279  NaN    6267  NaN  ...             L-Asparagine   \n228281  NaN    6267  NaN  ...             L-Asparagine   \n228337  NaN    6267  NaN  ...             L-Asparagine   \n228403  NaN    6267  NaN  ...             L-Asparagine   \n233731  NaN     880  NaN  ...                      APC   \n\n                                                    iupac   foodb_id  \\\n13      [({[(2R,3S,4R,5R)-5-(6-amino-9H-purin-9-yl)-3,...  FDB021817   \n17      {[(2R,3S,4R,5R)-5-(6-amino-9H-purin-9-yl)-3,4-...  FDB030677   \n23      ({[({[(2R,3S,4R,5R)-5-(6-amino-9H-purin-9-yl)-...  FDB030683   \n25                                        calcium(2+) ion  FDB003513   \n26      ({[({[(2R,3S,4R,5R)-5-(6-amino-9H-purin-9-yl)-...  FDB030683   \n...                                                   ...        ...   \n228279             (2S)-2-amino-3-carbamoylpropanoic acid  FDB000787   \n228281             (2S)-2-amino-3-carbamoylpropanoic acid  FDB000787   \n228337             (2S)-2-amino-3-carbamoylpropanoic acid  FDB000787   \n228403             (2S)-2-amino-3-carbamoylpropanoic acid  FDB000787   \n233731  5-{[1-({[(19S)-10,19-diethyl-19-hydroxy-14,18-...  FDB031000   \n\n       chemspider_id drugbank_id pdb_id            wikipedia_id bigg_id  \\\n13              5800         NaN    NaN   Adenosine_diphosphate   33496   \n17              5858     DB00131    NaN           Adenylic_acid   33534   \n23              5742     DB00171    NaN  Adenosine_triphosphate   33477   \n25               266         NaN    NaN                 Calcium   33764   \n26              5742     DB00171    NaN  Adenosine_triphosphate   33477   \n...              ...         ...    ...                     ...     ...   \n228279          6031     DB00174    NaN              Asparagine   34055   \n228281          6031     DB00174    NaN              Asparagine   34055   \n228337          6031     DB00174    NaN              Asparagine   34055   \n228403          6031     DB00174    NaN              Asparagine   34055   \n233731           857     DB03587    NaN           Methylglyoxal   35307   \n\n        vmh_id unified_abbreviation  \n13         ADP                  adp  \n17         AMP                  amp  \n23         ATP                  atp  \n25         CA2                  ca2  \n26         ATP                  atp  \n...        ...                  ...  \n228279   ASN_L                asn_l  \n228281   ASN_L                asn_l  \n228337   ASN_L                asn_l  \n228403   ASN_L                asn_l  \n233731  MTHGXL               mthgxl  \n\n[430 rows x 24 columns]",
      "text/html": "<div>\n<style scoped>\n    .dataframe tbody tr th:only-of-type {\n        vertical-align: middle;\n    }\n\n    .dataframe tbody tr th {\n        vertical-align: top;\n    }\n\n    .dataframe thead th {\n        text-align: right;\n    }\n</style>\n<table border=\"1\" class=\"dataframe\">\n  <thead>\n    <tr style=\"text-align: right;\">\n      <th></th>\n      <th>species_id</th>\n      <th>species_name</th>\n      <th>species_reactome_id</th>\n      <th>entity_type</th>\n      <th>CHEBI</th>\n      <th>uniprot</th>\n      <th>ensembl</th>\n      <th>GRAC</th>\n      <th>pubchem</th>\n      <th>ncbi</th>\n      <th>...</th>\n      <th>name</th>\n      <th>iupac</th>\n      <th>foodb_id</th>\n      <th>chemspider_id</th>\n      <th>drugbank_id</th>\n      <th>pdb_id</th>\n      <th>wikipedia_id</th>\n      <th>bigg_id</th>\n      <th>vmh_id</th>\n      <th>unified_abbreviation</th>\n    </tr>\n  </thead>\n  <tbody>\n    <tr>\n      <th>13</th>\n      <td>species_113582</td>\n      <td>adp</td>\n      <td>R-ALL-113582</td>\n      <td>Reactome SimpleEntity</td>\n      <td>456216</td>\n      <td>NaN</td>\n      <td>NaN</td>\n      <td>NaN</td>\n      <td>6022</td>\n      <td>NaN</td>\n      <td>...</td>\n      <td>ADP</td>\n      <td>[({[(2R,3S,4R,5R)-5-(6-amino-9H-purin-9-yl)-3,...</td>\n      <td>FDB021817</td>\n      <td>5800</td>\n      <td>NaN</td>\n      <td>NaN</td>\n      <td>Adenosine_diphosphate</td>\n      <td>33496</td>\n      <td>ADP</td>\n      <td>adp</td>\n    </tr>\n    <tr>\n      <th>17</th>\n      <td>species_76577</td>\n      <td>amp</td>\n      <td>R-ALL-76577</td>\n      <td>Reactome SimpleEntity</td>\n      <td>16027</td>\n      <td>NaN</td>\n      <td>NaN</td>\n      <td>NaN</td>\n      <td>6083</td>\n      <td>NaN</td>\n      <td>...</td>\n      <td>Adenosine monophosphate</td>\n      <td>{[(2R,3S,4R,5R)-5-(6-amino-9H-purin-9-yl)-3,4-...</td>\n      <td>FDB030677</td>\n      <td>5858</td>\n      <td>DB00131</td>\n      <td>NaN</td>\n      <td>Adenylic_acid</td>\n      <td>33534</td>\n      <td>AMP</td>\n      <td>amp</td>\n    </tr>\n    <tr>\n      <th>23</th>\n      <td>species_113592</td>\n      <td>atp</td>\n      <td>R-ALL-113592</td>\n      <td>Reactome SimpleEntity</td>\n      <td>30616</td>\n      <td>NaN</td>\n      <td>NaN</td>\n      <td>NaN</td>\n      <td>5957</td>\n      <td>NaN</td>\n      <td>...</td>\n      <td>Adenosine triphosphate</td>\n      <td>({[({[(2R,3S,4R,5R)-5-(6-amino-9H-purin-9-yl)-...</td>\n      <td>FDB030683</td>\n      <td>5742</td>\n      <td>DB00171</td>\n      <td>NaN</td>\n      <td>Adenosine_triphosphate</td>\n      <td>33477</td>\n      <td>ATP</td>\n      <td>atp</td>\n    </tr>\n    <tr>\n      <th>25</th>\n      <td>species_74016</td>\n      <td>ca2+</td>\n      <td>R-ALL-74016</td>\n      <td>Reactome SimpleEntity</td>\n      <td>29108</td>\n      <td>NaN</td>\n      <td>NaN</td>\n      <td>NaN</td>\n      <td>271</td>\n      <td>NaN</td>\n      <td>...</td>\n      <td>Calcium</td>\n      <td>calcium(2+) ion</td>\n      <td>FDB003513</td>\n      <td>266</td>\n      <td>NaN</td>\n      <td>NaN</td>\n      <td>Calcium</td>\n      <td>33764</td>\n      <td>CA2</td>\n      <td>ca2</td>\n    </tr>\n    <tr>\n      <th>26</th>\n      <td>species_29358</td>\n      <td>atp</td>\n      <td>R-ALL-29358</td>\n      <td>Reactome SimpleEntity</td>\n      <td>30616</td>\n      <td>NaN</td>\n      <td>NaN</td>\n      <td>NaN</td>\n      <td>5957</td>\n      <td>NaN</td>\n      <td>...</td>\n      <td>Adenosine triphosphate</td>\n      <td>({[({[(2R,3S,4R,5R)-5-(6-amino-9H-purin-9-yl)-...</td>\n      <td>FDB030683</td>\n      <td>5742</td>\n      <td>DB00171</td>\n      <td>NaN</td>\n      <td>Adenosine_triphosphate</td>\n      <td>33477</td>\n      <td>ATP</td>\n      <td>atp</td>\n    </tr>\n    <tr>\n      <th>...</th>\n      <td>...</td>\n      <td>...</td>\n      <td>...</td>\n      <td>...</td>\n      <td>...</td>\n      <td>...</td>\n      <td>...</td>\n      <td>...</td>\n      <td>...</td>\n      <td>...</td>\n      <td>...</td>\n      <td>...</td>\n      <td>...</td>\n      <td>...</td>\n      <td>...</td>\n      <td>...</td>\n      <td>...</td>\n      <td>...</td>\n      <td>...</td>\n      <td>...</td>\n      <td>...</td>\n    </tr>\n    <tr>\n      <th>228279</th>\n      <td>species_10560008</td>\n      <td>n</td>\n      <td>R-DME-8855840</td>\n      <td>Reactome EntityWithAccessionedSequence</td>\n      <td>17196</td>\n      <td>P07207</td>\n      <td>NaN</td>\n      <td>NaN</td>\n      <td>6267</td>\n      <td>NaN</td>\n      <td>...</td>\n      <td>L-Asparagine</td>\n      <td>(2S)-2-amino-3-carbamoylpropanoic acid</td>\n      <td>FDB000787</td>\n      <td>6031</td>\n      <td>DB00174</td>\n      <td>NaN</td>\n      <td>Asparagine</td>\n      <td>34055</td>\n      <td>ASN_L</td>\n      <td>asn_l</td>\n    </tr>\n    <tr>\n      <th>228281</th>\n      <td>species_10560014</td>\n      <td>n</td>\n      <td>R-DME-8855833</td>\n      <td>Reactome EntityWithAccessionedSequence</td>\n      <td>17196</td>\n      <td>P07207</td>\n      <td>NaN</td>\n      <td>NaN</td>\n      <td>6267</td>\n      <td>NaN</td>\n      <td>...</td>\n      <td>L-Asparagine</td>\n      <td>(2S)-2-amino-3-carbamoylpropanoic acid</td>\n      <td>FDB000787</td>\n      <td>6031</td>\n      <td>DB00174</td>\n      <td>NaN</td>\n      <td>Asparagine</td>\n      <td>34055</td>\n      <td>ASN_L</td>\n      <td>asn_l</td>\n    </tr>\n    <tr>\n      <th>228337</th>\n      <td>species_10533327</td>\n      <td>n</td>\n      <td>R-DME-2064204</td>\n      <td>Reactome EntityWithAccessionedSequence</td>\n      <td>17196</td>\n      <td>P07207</td>\n      <td>NaN</td>\n      <td>NaN</td>\n      <td>6267</td>\n      <td>NaN</td>\n      <td>...</td>\n      <td>L-Asparagine</td>\n      <td>(2S)-2-amino-3-carbamoylpropanoic acid</td>\n      <td>FDB000787</td>\n      <td>6031</td>\n      <td>DB00174</td>\n      <td>NaN</td>\n      <td>Asparagine</td>\n      <td>34055</td>\n      <td>ASN_L</td>\n      <td>asn_l</td>\n    </tr>\n    <tr>\n      <th>228403</th>\n      <td>species_10539805</td>\n      <td>n</td>\n      <td>R-DME-3791130</td>\n      <td>Reactome EntityWithAccessionedSequence</td>\n      <td>17196</td>\n      <td>P07207</td>\n      <td>NaN</td>\n      <td>NaN</td>\n      <td>6267</td>\n      <td>NaN</td>\n      <td>...</td>\n      <td>L-Asparagine</td>\n      <td>(2S)-2-amino-3-carbamoylpropanoic acid</td>\n      <td>FDB000787</td>\n      <td>6031</td>\n      <td>DB00174</td>\n      <td>NaN</td>\n      <td>Asparagine</td>\n      <td>34055</td>\n      <td>ASN_L</td>\n      <td>asn_l</td>\n    </tr>\n    <tr>\n      <th>233731</th>\n      <td>species_10055695</td>\n      <td>apc</td>\n      <td>R-BTA-5246690</td>\n      <td>Reactome EntityWithAccessionedSequence</td>\n      <td>17158</td>\n      <td>A0A3Q1LMC7</td>\n      <td>NaN</td>\n      <td>NaN</td>\n      <td>880</td>\n      <td>NaN</td>\n      <td>...</td>\n      <td>APC</td>\n      <td>5-{[1-({[(19S)-10,19-diethyl-19-hydroxy-14,18-...</td>\n      <td>FDB031000</td>\n      <td>857</td>\n      <td>DB03587</td>\n      <td>NaN</td>\n      <td>Methylglyoxal</td>\n      <td>35307</td>\n      <td>MTHGXL</td>\n      <td>mthgxl</td>\n    </tr>\n  </tbody>\n</table>\n<p>430 rows × 24 columns</p>\n</div>"
     },
     "execution_count": 24,
     "metadata": {},
     "output_type": "execute_result"
    }
   ],
   "source": [
    "df_reactome_metabolites[df_reactome_metabolites.vmh_id.str.lower() == df_reactome_metabolites.unified_abbreviation]"
   ]
  },
  {
   "cell_type": "code",
   "execution_count": 25,
   "outputs": [
    {
     "data": {
      "text/plain": "              species_id species_name species_reactome_id  \\\n361       species_158543          gsh        R-ALL-158543   \n381      species_1247892          gsh       R-ALL-1247892   \n382        species_29450          gsh         R-ALL-29450   \n390       species_162756   udp-glcnac        R-ALL-162756   \n674      species_5635947          ade       R-ALL-5635947   \n...                  ...          ...                 ...   \n139958   species_2066770          dha       R-ALL-2066770   \n147500   species_2162231       glcnac       R-ALL-2162231   \n155616   species_2872443          na+       R-ALL-2872443   \n169184   species_8939024       coa-sh       R-ALL-8939024   \n193735  species_10060217          trh        R-BTA-444548   \n\n                                   entity_type  CHEBI uniprot ensembl GRAC  \\\n361                      Reactome SimpleEntity  16856     NaN     NaN  NaN   \n381                      Reactome SimpleEntity  16856     NaN     NaN  NaN   \n382                      Reactome SimpleEntity  16856     NaN     NaN  NaN   \n390                      Reactome SimpleEntity  16264     NaN     NaN  NaN   \n674                      Reactome SimpleEntity  16708     NaN     NaN  NaN   \n...                                        ...    ...     ...     ...  ...   \n139958                   Reactome SimpleEntity  28125     NaN     NaN  NaN   \n147500                   Reactome SimpleEntity  17411     NaN     NaN  NaN   \n155616                   Reactome SimpleEntity  29101     NaN     NaN  NaN   \n169184                   Reactome SimpleEntity  15346     NaN     NaN  NaN   \n193735  Reactome EntityWithAccessionedSequence  35940  A6QM11     NaN  NaN   \n\n       pubchem ncbi  ...                                     name  \\\n361     124886  NaN  ...                              Glutathione   \n381     124886  NaN  ...                              Glutathione   \n382     124886  NaN  ...                              Glutathione   \n390     445675  NaN  ...  Uridine diphosphate-N-acetylglucosamine   \n674        190  NaN  ...                                  Adenine   \n...        ...  ...  ...                                      ...   \n139958    5881  NaN  ...                   Dehydroepiandrosterone   \n147500  439174  NaN  ...                   N-Acetyl-D-glucosamine   \n155616     923  NaN  ...                                   Sodium   \n169184   87642  NaN  ...                               Coenzyme A   \n193735  638678  NaN  ...            Thyrotropin releasing hormone   \n\n                                                    iupac   foodb_id  \\\n361     (2S)-2-amino-4-{[(1R)-1-[(carboxymethyl)carbam...  FDB001498   \n381     (2S)-2-amino-4-{[(1R)-1-[(carboxymethyl)carbam...  FDB001498   \n382     (2S)-2-amino-4-{[(1R)-1-[(carboxymethyl)carbam...  FDB001498   \n390     [({[(2R,3S,4R,5R)-5-(2,4-dioxo-1,2,3,4-tetrahy...  FDB021930   \n674                                      7H-purin-6-amine  FDB012266   \n...                                                   ...        ...   \n139958  (1S,2R,5S,10R,11S,15S)-5-hydroxy-2,15-dimethyl...  FDB021808   \n147500  N-[(3R,4R,5S,6R)-2,4,5-trihydroxy-6-(hydroxyme...  FDB008032   \n155616                                     sodium(1+) ion  FDB003523   \n169184  {[(2R,3S,4R,5R)-5-(6-amino-9H-purin-9-yl)-4-hy...  FDB022614   \n193735  (2S)-N-[(2S)-1-[(2S)-2-carbamoylpyrrolidin-1-y...  FDB023753   \n\n       chemspider_id drugbank_id pdb_id            wikipedia_id bigg_id  \\\n361           111188     DB00143    NaN             Glutathione   33669   \n381           111188     DB00143    NaN             Glutathione   33669   \n382           111188     DB00143    NaN             Glutathione   33669   \n390           393240     DB03397    NaN                     NaN   33638   \n674              185     DB00173    NaN                 Adenine   34039   \n...              ...         ...    ...                     ...     ...   \n139958       8036443     DB01708    NaN  Dehydroepiandrosterone   37131   \n147500        388319         NaN    NaN                     NaN   34006   \n155616           899         NaN    NaN                  Sodium   37376   \n169184           NaN     DB01992    NaN              Coenzyme_A     NaN   \n193735        554166     DB09421    NaN              Protirelin     NaN   \n\n             vmh_id unified_abbreviation  \n361             F6P                gthrd  \n381             F6P                gthrd  \n382             F6P                gthrd  \n390            UDPG               uacgam  \n674     7DHCHSTEROL                  ade  \n...             ...                  ...  \n139958       56DURA                crvnc  \n147500          ORN                acgam  \n155616            K                  na1  \n169184      XOL24OH                  coa  \n193735       BDG2HC               c03958  \n\n[138 rows x 24 columns]",
      "text/html": "<div>\n<style scoped>\n    .dataframe tbody tr th:only-of-type {\n        vertical-align: middle;\n    }\n\n    .dataframe tbody tr th {\n        vertical-align: top;\n    }\n\n    .dataframe thead th {\n        text-align: right;\n    }\n</style>\n<table border=\"1\" class=\"dataframe\">\n  <thead>\n    <tr style=\"text-align: right;\">\n      <th></th>\n      <th>species_id</th>\n      <th>species_name</th>\n      <th>species_reactome_id</th>\n      <th>entity_type</th>\n      <th>CHEBI</th>\n      <th>uniprot</th>\n      <th>ensembl</th>\n      <th>GRAC</th>\n      <th>pubchem</th>\n      <th>ncbi</th>\n      <th>...</th>\n      <th>name</th>\n      <th>iupac</th>\n      <th>foodb_id</th>\n      <th>chemspider_id</th>\n      <th>drugbank_id</th>\n      <th>pdb_id</th>\n      <th>wikipedia_id</th>\n      <th>bigg_id</th>\n      <th>vmh_id</th>\n      <th>unified_abbreviation</th>\n    </tr>\n  </thead>\n  <tbody>\n    <tr>\n      <th>361</th>\n      <td>species_158543</td>\n      <td>gsh</td>\n      <td>R-ALL-158543</td>\n      <td>Reactome SimpleEntity</td>\n      <td>16856</td>\n      <td>NaN</td>\n      <td>NaN</td>\n      <td>NaN</td>\n      <td>124886</td>\n      <td>NaN</td>\n      <td>...</td>\n      <td>Glutathione</td>\n      <td>(2S)-2-amino-4-{[(1R)-1-[(carboxymethyl)carbam...</td>\n      <td>FDB001498</td>\n      <td>111188</td>\n      <td>DB00143</td>\n      <td>NaN</td>\n      <td>Glutathione</td>\n      <td>33669</td>\n      <td>F6P</td>\n      <td>gthrd</td>\n    </tr>\n    <tr>\n      <th>381</th>\n      <td>species_1247892</td>\n      <td>gsh</td>\n      <td>R-ALL-1247892</td>\n      <td>Reactome SimpleEntity</td>\n      <td>16856</td>\n      <td>NaN</td>\n      <td>NaN</td>\n      <td>NaN</td>\n      <td>124886</td>\n      <td>NaN</td>\n      <td>...</td>\n      <td>Glutathione</td>\n      <td>(2S)-2-amino-4-{[(1R)-1-[(carboxymethyl)carbam...</td>\n      <td>FDB001498</td>\n      <td>111188</td>\n      <td>DB00143</td>\n      <td>NaN</td>\n      <td>Glutathione</td>\n      <td>33669</td>\n      <td>F6P</td>\n      <td>gthrd</td>\n    </tr>\n    <tr>\n      <th>382</th>\n      <td>species_29450</td>\n      <td>gsh</td>\n      <td>R-ALL-29450</td>\n      <td>Reactome SimpleEntity</td>\n      <td>16856</td>\n      <td>NaN</td>\n      <td>NaN</td>\n      <td>NaN</td>\n      <td>124886</td>\n      <td>NaN</td>\n      <td>...</td>\n      <td>Glutathione</td>\n      <td>(2S)-2-amino-4-{[(1R)-1-[(carboxymethyl)carbam...</td>\n      <td>FDB001498</td>\n      <td>111188</td>\n      <td>DB00143</td>\n      <td>NaN</td>\n      <td>Glutathione</td>\n      <td>33669</td>\n      <td>F6P</td>\n      <td>gthrd</td>\n    </tr>\n    <tr>\n      <th>390</th>\n      <td>species_162756</td>\n      <td>udp-glcnac</td>\n      <td>R-ALL-162756</td>\n      <td>Reactome SimpleEntity</td>\n      <td>16264</td>\n      <td>NaN</td>\n      <td>NaN</td>\n      <td>NaN</td>\n      <td>445675</td>\n      <td>NaN</td>\n      <td>...</td>\n      <td>Uridine diphosphate-N-acetylglucosamine</td>\n      <td>[({[(2R,3S,4R,5R)-5-(2,4-dioxo-1,2,3,4-tetrahy...</td>\n      <td>FDB021930</td>\n      <td>393240</td>\n      <td>DB03397</td>\n      <td>NaN</td>\n      <td>NaN</td>\n      <td>33638</td>\n      <td>UDPG</td>\n      <td>uacgam</td>\n    </tr>\n    <tr>\n      <th>674</th>\n      <td>species_5635947</td>\n      <td>ade</td>\n      <td>R-ALL-5635947</td>\n      <td>Reactome SimpleEntity</td>\n      <td>16708</td>\n      <td>NaN</td>\n      <td>NaN</td>\n      <td>NaN</td>\n      <td>190</td>\n      <td>NaN</td>\n      <td>...</td>\n      <td>Adenine</td>\n      <td>7H-purin-6-amine</td>\n      <td>FDB012266</td>\n      <td>185</td>\n      <td>DB00173</td>\n      <td>NaN</td>\n      <td>Adenine</td>\n      <td>34039</td>\n      <td>7DHCHSTEROL</td>\n      <td>ade</td>\n    </tr>\n    <tr>\n      <th>...</th>\n      <td>...</td>\n      <td>...</td>\n      <td>...</td>\n      <td>...</td>\n      <td>...</td>\n      <td>...</td>\n      <td>...</td>\n      <td>...</td>\n      <td>...</td>\n      <td>...</td>\n      <td>...</td>\n      <td>...</td>\n      <td>...</td>\n      <td>...</td>\n      <td>...</td>\n      <td>...</td>\n      <td>...</td>\n      <td>...</td>\n      <td>...</td>\n      <td>...</td>\n      <td>...</td>\n    </tr>\n    <tr>\n      <th>139958</th>\n      <td>species_2066770</td>\n      <td>dha</td>\n      <td>R-ALL-2066770</td>\n      <td>Reactome SimpleEntity</td>\n      <td>28125</td>\n      <td>NaN</td>\n      <td>NaN</td>\n      <td>NaN</td>\n      <td>5881</td>\n      <td>NaN</td>\n      <td>...</td>\n      <td>Dehydroepiandrosterone</td>\n      <td>(1S,2R,5S,10R,11S,15S)-5-hydroxy-2,15-dimethyl...</td>\n      <td>FDB021808</td>\n      <td>8036443</td>\n      <td>DB01708</td>\n      <td>NaN</td>\n      <td>Dehydroepiandrosterone</td>\n      <td>37131</td>\n      <td>56DURA</td>\n      <td>crvnc</td>\n    </tr>\n    <tr>\n      <th>147500</th>\n      <td>species_2162231</td>\n      <td>glcnac</td>\n      <td>R-ALL-2162231</td>\n      <td>Reactome SimpleEntity</td>\n      <td>17411</td>\n      <td>NaN</td>\n      <td>NaN</td>\n      <td>NaN</td>\n      <td>439174</td>\n      <td>NaN</td>\n      <td>...</td>\n      <td>N-Acetyl-D-glucosamine</td>\n      <td>N-[(3R,4R,5S,6R)-2,4,5-trihydroxy-6-(hydroxyme...</td>\n      <td>FDB008032</td>\n      <td>388319</td>\n      <td>NaN</td>\n      <td>NaN</td>\n      <td>NaN</td>\n      <td>34006</td>\n      <td>ORN</td>\n      <td>acgam</td>\n    </tr>\n    <tr>\n      <th>155616</th>\n      <td>species_2872443</td>\n      <td>na+</td>\n      <td>R-ALL-2872443</td>\n      <td>Reactome SimpleEntity</td>\n      <td>29101</td>\n      <td>NaN</td>\n      <td>NaN</td>\n      <td>NaN</td>\n      <td>923</td>\n      <td>NaN</td>\n      <td>...</td>\n      <td>Sodium</td>\n      <td>sodium(1+) ion</td>\n      <td>FDB003523</td>\n      <td>899</td>\n      <td>NaN</td>\n      <td>NaN</td>\n      <td>Sodium</td>\n      <td>37376</td>\n      <td>K</td>\n      <td>na1</td>\n    </tr>\n    <tr>\n      <th>169184</th>\n      <td>species_8939024</td>\n      <td>coa-sh</td>\n      <td>R-ALL-8939024</td>\n      <td>Reactome SimpleEntity</td>\n      <td>15346</td>\n      <td>NaN</td>\n      <td>NaN</td>\n      <td>NaN</td>\n      <td>87642</td>\n      <td>NaN</td>\n      <td>...</td>\n      <td>Coenzyme A</td>\n      <td>{[(2R,3S,4R,5R)-5-(6-amino-9H-purin-9-yl)-4-hy...</td>\n      <td>FDB022614</td>\n      <td>NaN</td>\n      <td>DB01992</td>\n      <td>NaN</td>\n      <td>Coenzyme_A</td>\n      <td>NaN</td>\n      <td>XOL24OH</td>\n      <td>coa</td>\n    </tr>\n    <tr>\n      <th>193735</th>\n      <td>species_10060217</td>\n      <td>trh</td>\n      <td>R-BTA-444548</td>\n      <td>Reactome EntityWithAccessionedSequence</td>\n      <td>35940</td>\n      <td>A6QM11</td>\n      <td>NaN</td>\n      <td>NaN</td>\n      <td>638678</td>\n      <td>NaN</td>\n      <td>...</td>\n      <td>Thyrotropin releasing hormone</td>\n      <td>(2S)-N-[(2S)-1-[(2S)-2-carbamoylpyrrolidin-1-y...</td>\n      <td>FDB023753</td>\n      <td>554166</td>\n      <td>DB09421</td>\n      <td>NaN</td>\n      <td>Protirelin</td>\n      <td>NaN</td>\n      <td>BDG2HC</td>\n      <td>c03958</td>\n    </tr>\n  </tbody>\n</table>\n<p>138 rows × 24 columns</p>\n</div>"
     },
     "execution_count": 25,
     "metadata": {},
     "output_type": "execute_result"
    }
   ],
   "source": [
    "df_reactome_metabolites[(df_reactome_metabolites.vmh_id.notna()) & (df_reactome_metabolites.vmh_id.str.lower() != df_reactome_metabolites.unified_abbreviation)]"
   ],
   "metadata": {
    "collapsed": false,
    "pycharm": {
     "name": "#%%\n"
    }
   }
  },
  {
   "cell_type": "markdown",
   "source": [
    "&rarr; There are 430 metabolites for which the new found abbreviations match the already known ones, and 138 metabolites for which the abbreviations differ. Will have to take a look at these metabolites manually to see which abbreviation is the correct one."
   ],
   "metadata": {
    "collapsed": false,
    "pycharm": {
     "name": "#%% md\n"
    }
   }
  },
  {
   "cell_type": "code",
   "execution_count": 26,
   "id": "a23d17d9-ef52-4db8-a1ad-9917f04ce8d8",
   "metadata": {
    "pycharm": {
     "name": "#%%\n"
    }
   },
   "outputs": [
    {
     "data": {
      "text/plain": "species_id              190732\nspecies_name            190731\nspecies_reactome_id     190732\nentity_type             190732\nCHEBI                     7338\nuniprot                 127191\nensembl                   1257\nGRAC                       513\npubchem                    968\nncbi                        28\nmirbase                     46\nENA                         42\nKEGG                       814\nhmdb_id                    955\nname                       955\niupac                      949\nfoodb_id                   802\nchemspider_id              787\ndrugbank_id                496\npdb_id                      37\nwikipedia_id               743\nbigg_id                    455\nvmh_id                     568\nunified_abbreviation      4240\ndtype: int64"
     },
     "execution_count": 26,
     "metadata": {},
     "output_type": "execute_result"
    }
   ],
   "source": [
    "df_reactome_metabolites.count()"
   ]
  },
  {
   "cell_type": "markdown",
   "source": [
    "&rarr; 4240 metabolites could be matched in total (see unified_abbreviations), which is a lot more than the 568 vmh_ids we had in the beginning"
   ],
   "metadata": {
    "collapsed": false,
    "pycharm": {
     "name": "#%% md\n"
    }
   }
  },
  {
   "cell_type": "code",
   "execution_count": 26,
   "id": "8fd49dc8-3900-420e-9870-8ad72f982eef",
   "metadata": {
    "pycharm": {
     "name": "#%%\n"
    }
   },
   "outputs": [],
   "source": []
  }
 ],
 "metadata": {
  "kernelspec": {
   "display_name": "Python 3 (ipykernel)",
   "language": "python",
   "name": "python3"
  },
  "language_info": {
   "codemirror_mode": {
    "name": "ipython",
    "version": 3
   },
   "file_extension": ".py",
   "mimetype": "text/x-python",
   "name": "python",
   "nbconvert_exporter": "python",
   "pygments_lexer": "ipython3",
   "version": "3.8.12"
  }
 },
 "nbformat": 4,
 "nbformat_minor": 5
}