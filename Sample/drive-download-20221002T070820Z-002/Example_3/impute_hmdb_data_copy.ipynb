{
 "cells": [
  {
   "cell_type": "markdown",
   "id": "c46705f4-d164-4d61-9ab5-e7877ba2c216",
   "metadata": {
    "pycharm": {
     "name": "#%% md\n"
    }
   },
   "source": [
    "Metabolome Microbiome Network  \n",
    "\n",
    "# Impute Reactome Species with HMDB Information"
   ]
  },
  {
   "cell_type": "code",
   "execution_count": 1,
   "id": "22336401-a126-44a4-be06-e7348ef365fb",
   "metadata": {
    "pycharm": {
     "name": "#%%\n"
    }
   },
   "outputs": [],
   "source": [
    "import xml.etree.ElementTree as ET\n",
    "import pandas as pd"
   ]
  },
  {
   "cell_type": "code",
   "execution_count": 2,
   "id": "3e9c62a4-3601-44ce-af68-120c35feaf1b",
   "metadata": {
    "pycharm": {
     "name": "#%%\n"
    }
   },
   "outputs": [],
   "source": [
    "tree = ET.parse('hmdb_metabolites.xml')\n",
    "root = tree.getroot()"
   ]
  },
  {
   "cell_type": "code",
   "execution_count": 4,
   "id": "e44f5c81-f050-4295-941b-2217a8736e04",
   "metadata": {
    "pycharm": {
     "name": "#%%\n"
    }
   },
   "outputs": [],
   "source": [
    "# This parsing step will take quite some time (few minutes) as the hmdb_metabolites.xml files is pretty big\n",
    "hmdb_synonyms = {}\n",
    "hmdb_mets = [['name', 'hmdb_id', 'iupac', 'kegg_id', 'foodb_id', 'chemspider_id', 'drugbank_id', 'pdb_id',\n",
    "             'chebi_id', 'pubchem_compound_id', 'wikipedia_id', 'bigg_id', 'vmh_id']]\n",
    "\n",
    "for child in root:\n",
    "    synonym_set = set()\n",
    "    \n",
    "    for elem in child:\n",
    "        if elem.tag == r'{http://www.hmdb.ca}name':\n",
    "            name = elem.text\n",
    "            synonym_set.add(name)\n",
    "\n",
    "        if elem.tag == r'{http://www.hmdb.ca}synonyms':\n",
    "            for synonym in elem:\n",
    "                if synonym.text != name:\n",
    "                    synonym_set.add(synonym.text)\n",
    "                    synonym_set.add(synonym.text.lower())\n",
    "\n",
    "        if elem.tag == r'{http://www.hmdb.ca}accession':\n",
    "            hmdb_id = elem.text\n",
    "\n",
    "        if elem.tag == r'{http://www.hmdb.ca}iupac_name':\n",
    "            iupac_id = elem.text\n",
    "\n",
    "        if elem.tag == r'{http://www.hmdb.ca}kegg_id':\n",
    "            kegg_id = elem.text\n",
    "\n",
    "        if elem.tag == r'{http://www.hmdb.ca}foodb_id':\n",
    "            foodb_id = elem.text\n",
    "\n",
    "        if elem.tag == r'{http://www.hmdb.ca}chemspider_id':\n",
    "            chemspider_id = elem.text\n",
    "\n",
    "        if elem.tag == r'{http://www.hmdb.ca}drugbank_id':\n",
    "            drugbank_id = elem.text\n",
    "\n",
    "        if elem.tag == r'{http://www.hmdb.ca}pdb_id':\n",
    "            pdb_id = elem.text\n",
    "\n",
    "        if elem.tag == r'{http://www.hmdb.ca}chebi_id':\n",
    "            chebi_id = elem.text\n",
    "\n",
    "        if elem.tag == r'{http://www.hmdb.ca}pubchem_compound_id':\n",
    "            pubchem_id = elem.text\n",
    "\n",
    "        if elem.tag == r'{http://www.hmdb.ca}wikipedia_id':\n",
    "            wikipedia_id = elem.text\n",
    "\n",
    "        if elem.tag == r'{http://www.hmdb.ca}bigg_id':\n",
    "            bigg_id = elem.text\n",
    "\n",
    "        if elem.tag == r'{http://www.hmdb.ca}vmh_id':\n",
    "            vmh_id = elem.text\n",
    "            \n",
    "    hmdb_synonyms.update({hmdb_id: synonym_set})\n",
    "    \n",
    "    metabolite = [name, hmdb_id, iupac_id, kegg_id, foodb_id, chemspider_id, drugbank_id, pdb_id, chebi_id, pubchem_id, wikipedia_id, bigg_id, vmh_id]\n",
    "    hmdb_mets.append(metabolite)"
   ]
  },
  {
   "cell_type": "code",
   "execution_count": 5,
   "id": "25b37c16-c9fd-4b0e-a9ff-288ea94408e9",
   "metadata": {
    "pycharm": {
     "name": "#%%\n"
    }
   },
   "outputs": [],
   "source": [
    "df_hmbd = pd.DataFrame(hmdb_mets[1:], columns=hmdb_mets[0])"
   ]
  },
  {
   "cell_type": "code",
   "execution_count": 11,
   "id": "0dd0b687-02cb-4c34-946d-1141f40314fc",
   "metadata": {
    "pycharm": {
     "name": "#%%\n"
    }
   },
   "outputs": [],
   "source": [
    "species_reactome = pd.read_csv('extracted_reactome_data/reactome_species.csv', dtype=str)"
   ]
  },
  {
   "cell_type": "code",
   "execution_count": 12,
   "id": "c7fa1014-da51-4dcc-a15a-3f7c3d57f25d",
   "metadata": {
    "pycharm": {
     "name": "#%%\n"
    }
   },
   "outputs": [
    {
     "data": {
      "text/plain": "              species_id                                       species_name  \\\n0       species_10637177  PEX2:PEX10:PEX12:PEX5S,L:Ub:UBE2D1,2,3:PEX13:P...   \n1       species_10603252                                         UBE2D1,2,3   \n2       species_10603252                                         UBE2D1,2,3   \n3       species_10603252                                         UBE2D1,2,3   \n4       species_10635551                          RNF152:RRAGA:GDP:Ub:UBE2N   \n...                  ...                                                ...   \n238513  species_10318510              Class I Peroxisomal Membrane Proteins   \n238514  species_10318510              Class I Peroxisomal Membrane Proteins   \n238515  species_10318510              Class I Peroxisomal Membrane Proteins   \n238516  species_10318510              Class I Peroxisomal Membrane Proteins   \n238517  species_10318512                                  PEX19:class I PMP   \n\n       species_reactome_id          entity_type CHEBI     uniprot ensembl  \\\n0            R-CEL-8953942     Reactome Complex   NaN         NaN     NaN   \n1            R-CEL-1234120  Reactome DefinedSet   NaN      P35129     NaN   \n2            R-CEL-1234120  Reactome DefinedSet   NaN      Q9U1U4     NaN   \n3            R-CEL-1234120  Reactome DefinedSet   NaN      Q20617     NaN   \n4            R-CEL-8938812     Reactome Complex   NaN         NaN     NaN   \n...                    ...                  ...   ...         ...     ...   \n238513       R-DRE-9603783  Reactome DefinedSet   NaN      E7FBD9     NaN   \n238514       R-DRE-9603783  Reactome DefinedSet   NaN  A0A2R8QFW3     NaN   \n238515       R-DRE-9603783  Reactome DefinedSet   NaN      F1RBL0     NaN   \n238516       R-DRE-9603783  Reactome DefinedSet   NaN      E9QH31     NaN   \n238517       R-DRE-9603787     Reactome Complex   NaN         NaN     NaN   \n\n       GRAC pubchem ncbi mirbase  ENA KEGG  \n0       NaN     NaN  NaN     NaN  NaN  NaN  \n1       NaN     NaN  NaN     NaN  NaN  NaN  \n2       NaN     NaN  NaN     NaN  NaN  NaN  \n3       NaN     NaN  NaN     NaN  NaN  NaN  \n4       NaN     NaN  NaN     NaN  NaN  NaN  \n...     ...     ...  ...     ...  ...  ...  \n238513  NaN     NaN  NaN     NaN  NaN  NaN  \n238514  NaN     NaN  NaN     NaN  NaN  NaN  \n238515  NaN     NaN  NaN     NaN  NaN  NaN  \n238516  NaN     NaN  NaN     NaN  NaN  NaN  \n238517  NaN     NaN  NaN     NaN  NaN  NaN  \n\n[238518 rows x 13 columns]",
      "text/html": "<div>\n<style scoped>\n    .dataframe tbody tr th:only-of-type {\n        vertical-align: middle;\n    }\n\n    .dataframe tbody tr th {\n        vertical-align: top;\n    }\n\n    .dataframe thead th {\n        text-align: right;\n    }\n</style>\n<table border=\"1\" class=\"dataframe\">\n  <thead>\n    <tr style=\"text-align: right;\">\n      <th></th>\n      <th>species_id</th>\n      <th>species_name</th>\n      <th>species_reactome_id</th>\n      <th>entity_type</th>\n      <th>CHEBI</th>\n      <th>uniprot</th>\n      <th>ensembl</th>\n      <th>GRAC</th>\n      <th>pubchem</th>\n      <th>ncbi</th>\n      <th>mirbase</th>\n      <th>ENA</th>\n      <th>KEGG</th>\n    </tr>\n  </thead>\n  <tbody>\n    <tr>\n      <th>0</th>\n      <td>species_10637177</td>\n      <td>PEX2:PEX10:PEX12:PEX5S,L:Ub:UBE2D1,2,3:PEX13:P...</td>\n      <td>R-CEL-8953942</td>\n      <td>Reactome Complex</td>\n      <td>NaN</td>\n      <td>NaN</td>\n      <td>NaN</td>\n      <td>NaN</td>\n      <td>NaN</td>\n      <td>NaN</td>\n      <td>NaN</td>\n      <td>NaN</td>\n      <td>NaN</td>\n    </tr>\n    <tr>\n      <th>1</th>\n      <td>species_10603252</td>\n      <td>UBE2D1,2,3</td>\n      <td>R-CEL-1234120</td>\n      <td>Reactome DefinedSet</td>\n      <td>NaN</td>\n      <td>P35129</td>\n      <td>NaN</td>\n      <td>NaN</td>\n      <td>NaN</td>\n      <td>NaN</td>\n      <td>NaN</td>\n      <td>NaN</td>\n      <td>NaN</td>\n    </tr>\n    <tr>\n      <th>2</th>\n      <td>species_10603252</td>\n      <td>UBE2D1,2,3</td>\n      <td>R-CEL-1234120</td>\n      <td>Reactome DefinedSet</td>\n      <td>NaN</td>\n      <td>Q9U1U4</td>\n      <td>NaN</td>\n      <td>NaN</td>\n      <td>NaN</td>\n      <td>NaN</td>\n      <td>NaN</td>\n      <td>NaN</td>\n      <td>NaN</td>\n    </tr>\n    <tr>\n      <th>3</th>\n      <td>species_10603252</td>\n      <td>UBE2D1,2,3</td>\n      <td>R-CEL-1234120</td>\n      <td>Reactome DefinedSet</td>\n      <td>NaN</td>\n      <td>Q20617</td>\n      <td>NaN</td>\n      <td>NaN</td>\n      <td>NaN</td>\n      <td>NaN</td>\n      <td>NaN</td>\n      <td>NaN</td>\n      <td>NaN</td>\n    </tr>\n    <tr>\n      <th>4</th>\n      <td>species_10635551</td>\n      <td>RNF152:RRAGA:GDP:Ub:UBE2N</td>\n      <td>R-CEL-8938812</td>\n      <td>Reactome Complex</td>\n      <td>NaN</td>\n      <td>NaN</td>\n      <td>NaN</td>\n      <td>NaN</td>\n      <td>NaN</td>\n      <td>NaN</td>\n      <td>NaN</td>\n      <td>NaN</td>\n      <td>NaN</td>\n    </tr>\n    <tr>\n      <th>...</th>\n      <td>...</td>\n      <td>...</td>\n      <td>...</td>\n      <td>...</td>\n      <td>...</td>\n      <td>...</td>\n      <td>...</td>\n      <td>...</td>\n      <td>...</td>\n      <td>...</td>\n      <td>...</td>\n      <td>...</td>\n      <td>...</td>\n    </tr>\n    <tr>\n      <th>238513</th>\n      <td>species_10318510</td>\n      <td>Class I Peroxisomal Membrane Proteins</td>\n      <td>R-DRE-9603783</td>\n      <td>Reactome DefinedSet</td>\n      <td>NaN</td>\n      <td>E7FBD9</td>\n      <td>NaN</td>\n      <td>NaN</td>\n      <td>NaN</td>\n      <td>NaN</td>\n      <td>NaN</td>\n      <td>NaN</td>\n      <td>NaN</td>\n    </tr>\n    <tr>\n      <th>238514</th>\n      <td>species_10318510</td>\n      <td>Class I Peroxisomal Membrane Proteins</td>\n      <td>R-DRE-9603783</td>\n      <td>Reactome DefinedSet</td>\n      <td>NaN</td>\n      <td>A0A2R8QFW3</td>\n      <td>NaN</td>\n      <td>NaN</td>\n      <td>NaN</td>\n      <td>NaN</td>\n      <td>NaN</td>\n      <td>NaN</td>\n      <td>NaN</td>\n    </tr>\n    <tr>\n      <th>238515</th>\n      <td>species_10318510</td>\n      <td>Class I Peroxisomal Membrane Proteins</td>\n      <td>R-DRE-9603783</td>\n      <td>Reactome DefinedSet</td>\n      <td>NaN</td>\n      <td>F1RBL0</td>\n      <td>NaN</td>\n      <td>NaN</td>\n      <td>NaN</td>\n      <td>NaN</td>\n      <td>NaN</td>\n      <td>NaN</td>\n      <td>NaN</td>\n    </tr>\n    <tr>\n      <th>238516</th>\n      <td>species_10318510</td>\n      <td>Class I Peroxisomal Membrane Proteins</td>\n      <td>R-DRE-9603783</td>\n      <td>Reactome DefinedSet</td>\n      <td>NaN</td>\n      <td>E9QH31</td>\n      <td>NaN</td>\n      <td>NaN</td>\n      <td>NaN</td>\n      <td>NaN</td>\n      <td>NaN</td>\n      <td>NaN</td>\n      <td>NaN</td>\n    </tr>\n    <tr>\n      <th>238517</th>\n      <td>species_10318512</td>\n      <td>PEX19:class I PMP</td>\n      <td>R-DRE-9603787</td>\n      <td>Reactome Complex</td>\n      <td>NaN</td>\n      <td>NaN</td>\n      <td>NaN</td>\n      <td>NaN</td>\n      <td>NaN</td>\n      <td>NaN</td>\n      <td>NaN</td>\n      <td>NaN</td>\n      <td>NaN</td>\n    </tr>\n  </tbody>\n</table>\n<p>238518 rows × 13 columns</p>\n</div>"
     },
     "execution_count": 12,
     "metadata": {},
     "output_type": "execute_result"
    }
   ],
   "source": [
    "species_reactome"
   ]
  },
  {
   "cell_type": "code",
   "execution_count": 13,
   "id": "0208d13b-788c-4b7f-80be-b3b6afd9d899",
   "metadata": {
    "pycharm": {
     "name": "#%%\n"
    }
   },
   "outputs": [],
   "source": [
    "# Check for every metabolite in HMDB if the name matches any of the known synonyms and if so, return the hmdb_id\n",
    "def find_hmdb_id(name):\n",
    "    for synonym, synonym_set in hmdb_synonyms.items():\n",
    "        if name in synonym_set:\n",
    "            return synonym"
   ]
  },
  {
   "cell_type": "code",
   "execution_count": 14,
   "id": "eb7240ef-22f1-4f5e-8a21-c187f6739778",
   "metadata": {
    "pycharm": {
     "name": "#%%\n"
    }
   },
   "outputs": [],
   "source": [
    "# This step might take a very long time\n",
    "# (the efficiency of the search could definitely be improved)\n",
    "species_reactome['hmdb_id'] = species_reactome.species_name.apply(find_hmdb_id)"
   ]
  },
  {
   "cell_type": "code",
   "execution_count": 15,
   "id": "ea359bb5-b1c9-4c3c-95e3-3904956aa2b3",
   "metadata": {
    "pycharm": {
     "name": "#%%\n"
    }
   },
   "outputs": [
    {
     "data": {
      "text/plain": "              species_id species_name species_reactome_id  \\\n13        species_113582          ADP        R-ALL-113582   \n15        species_426925           PC        R-ALL-426925   \n17         species_76577          AMP         R-ALL-76577   \n23        species_113592          ATP        R-ALL-113592   \n25         species_74016         Ca2+         R-ALL-74016   \n...                  ...          ...                 ...   \n235046     species_74819          IDA         R-HSA-74819   \n236749  species_10610155        trp-2       R-CEL-2089937   \n236896   species_9996018      Elastin       R-CFA-2161232   \n238292  species_10259431      Elastin       R-DRE-2161232   \n238359  species_10074099      Elastin       R-BTA-2161232   \n\n                                   entity_type   CHEBI uniprot ensembl GRAC  \\\n13                       Reactome SimpleEntity  456216     NaN     NaN  NaN   \n15                       Reactome SimpleEntity   16110     NaN     NaN  NaN   \n17                       Reactome SimpleEntity   16027     NaN     NaN  NaN   \n23                       Reactome SimpleEntity   30616     NaN     NaN  NaN   \n25                       Reactome SimpleEntity   29108     NaN     NaN  NaN   \n...                                        ...     ...     ...     ...  ...   \n235046            Reactome GenomeEncodedEntity     NaN     NaN     NaN  NaN   \n236749  Reactome EntityWithAccessionedSequence     NaN  Q8I6Y9     NaN  NaN   \n236896                        Reactome Polymer     NaN     NaN     NaN  NaN   \n238292                        Reactome Polymer     NaN     NaN     NaN  NaN   \n238359                        Reactome Polymer     NaN     NaN     NaN  NaN   \n\n       pubchem ncbi mirbase  ENA KEGG      hmdb_id  \n13         NaN  NaN     NaN  NaN  NaN  HMDB0001341  \n15         NaN  NaN     NaN  NaN  NaN  HMDB0008102  \n17         NaN  NaN     NaN  NaN  NaN  HMDB0000045  \n23         NaN  NaN     NaN  NaN  NaN  HMDB0000538  \n25         NaN  NaN     NaN  NaN  NaN  HMDB0000464  \n...        ...  ...     ...  ...  ...          ...  \n235046     NaN  NaN     NaN  NaN  NaN  HMDB0011753  \n236749     NaN  NaN     NaN  NaN  NaN  HMDB0033188  \n236896     NaN  NaN     NaN  NaN  NaN  HMDB0041419  \n238292     NaN  NaN     NaN  NaN  NaN  HMDB0041419  \n238359     NaN  NaN     NaN  NaN  NaN  HMDB0041419  \n\n[991 rows x 14 columns]",
      "text/html": "<div>\n<style scoped>\n    .dataframe tbody tr th:only-of-type {\n        vertical-align: middle;\n    }\n\n    .dataframe tbody tr th {\n        vertical-align: top;\n    }\n\n    .dataframe thead th {\n        text-align: right;\n    }\n</style>\n<table border=\"1\" class=\"dataframe\">\n  <thead>\n    <tr style=\"text-align: right;\">\n      <th></th>\n      <th>species_id</th>\n      <th>species_name</th>\n      <th>species_reactome_id</th>\n      <th>entity_type</th>\n      <th>CHEBI</th>\n      <th>uniprot</th>\n      <th>ensembl</th>\n      <th>GRAC</th>\n      <th>pubchem</th>\n      <th>ncbi</th>\n      <th>mirbase</th>\n      <th>ENA</th>\n      <th>KEGG</th>\n      <th>hmdb_id</th>\n    </tr>\n  </thead>\n  <tbody>\n    <tr>\n      <th>13</th>\n      <td>species_113582</td>\n      <td>ADP</td>\n      <td>R-ALL-113582</td>\n      <td>Reactome SimpleEntity</td>\n      <td>456216</td>\n      <td>NaN</td>\n      <td>NaN</td>\n      <td>NaN</td>\n      <td>NaN</td>\n      <td>NaN</td>\n      <td>NaN</td>\n      <td>NaN</td>\n      <td>NaN</td>\n      <td>HMDB0001341</td>\n    </tr>\n    <tr>\n      <th>15</th>\n      <td>species_426925</td>\n      <td>PC</td>\n      <td>R-ALL-426925</td>\n      <td>Reactome SimpleEntity</td>\n      <td>16110</td>\n      <td>NaN</td>\n      <td>NaN</td>\n      <td>NaN</td>\n      <td>NaN</td>\n      <td>NaN</td>\n      <td>NaN</td>\n      <td>NaN</td>\n      <td>NaN</td>\n      <td>HMDB0008102</td>\n    </tr>\n    <tr>\n      <th>17</th>\n      <td>species_76577</td>\n      <td>AMP</td>\n      <td>R-ALL-76577</td>\n      <td>Reactome SimpleEntity</td>\n      <td>16027</td>\n      <td>NaN</td>\n      <td>NaN</td>\n      <td>NaN</td>\n      <td>NaN</td>\n      <td>NaN</td>\n      <td>NaN</td>\n      <td>NaN</td>\n      <td>NaN</td>\n      <td>HMDB0000045</td>\n    </tr>\n    <tr>\n      <th>23</th>\n      <td>species_113592</td>\n      <td>ATP</td>\n      <td>R-ALL-113592</td>\n      <td>Reactome SimpleEntity</td>\n      <td>30616</td>\n      <td>NaN</td>\n      <td>NaN</td>\n      <td>NaN</td>\n      <td>NaN</td>\n      <td>NaN</td>\n      <td>NaN</td>\n      <td>NaN</td>\n      <td>NaN</td>\n      <td>HMDB0000538</td>\n    </tr>\n    <tr>\n      <th>25</th>\n      <td>species_74016</td>\n      <td>Ca2+</td>\n      <td>R-ALL-74016</td>\n      <td>Reactome SimpleEntity</td>\n      <td>29108</td>\n      <td>NaN</td>\n      <td>NaN</td>\n      <td>NaN</td>\n      <td>NaN</td>\n      <td>NaN</td>\n      <td>NaN</td>\n      <td>NaN</td>\n      <td>NaN</td>\n      <td>HMDB0000464</td>\n    </tr>\n    <tr>\n      <th>...</th>\n      <td>...</td>\n      <td>...</td>\n      <td>...</td>\n      <td>...</td>\n      <td>...</td>\n      <td>...</td>\n      <td>...</td>\n      <td>...</td>\n      <td>...</td>\n      <td>...</td>\n      <td>...</td>\n      <td>...</td>\n      <td>...</td>\n      <td>...</td>\n    </tr>\n    <tr>\n      <th>235046</th>\n      <td>species_74819</td>\n      <td>IDA</td>\n      <td>R-HSA-74819</td>\n      <td>Reactome GenomeEncodedEntity</td>\n      <td>NaN</td>\n      <td>NaN</td>\n      <td>NaN</td>\n      <td>NaN</td>\n      <td>NaN</td>\n      <td>NaN</td>\n      <td>NaN</td>\n      <td>NaN</td>\n      <td>NaN</td>\n      <td>HMDB0011753</td>\n    </tr>\n    <tr>\n      <th>236749</th>\n      <td>species_10610155</td>\n      <td>trp-2</td>\n      <td>R-CEL-2089937</td>\n      <td>Reactome EntityWithAccessionedSequence</td>\n      <td>NaN</td>\n      <td>Q8I6Y9</td>\n      <td>NaN</td>\n      <td>NaN</td>\n      <td>NaN</td>\n      <td>NaN</td>\n      <td>NaN</td>\n      <td>NaN</td>\n      <td>NaN</td>\n      <td>HMDB0033188</td>\n    </tr>\n    <tr>\n      <th>236896</th>\n      <td>species_9996018</td>\n      <td>Elastin</td>\n      <td>R-CFA-2161232</td>\n      <td>Reactome Polymer</td>\n      <td>NaN</td>\n      <td>NaN</td>\n      <td>NaN</td>\n      <td>NaN</td>\n      <td>NaN</td>\n      <td>NaN</td>\n      <td>NaN</td>\n      <td>NaN</td>\n      <td>NaN</td>\n      <td>HMDB0041419</td>\n    </tr>\n    <tr>\n      <th>238292</th>\n      <td>species_10259431</td>\n      <td>Elastin</td>\n      <td>R-DRE-2161232</td>\n      <td>Reactome Polymer</td>\n      <td>NaN</td>\n      <td>NaN</td>\n      <td>NaN</td>\n      <td>NaN</td>\n      <td>NaN</td>\n      <td>NaN</td>\n      <td>NaN</td>\n      <td>NaN</td>\n      <td>NaN</td>\n      <td>HMDB0041419</td>\n    </tr>\n    <tr>\n      <th>238359</th>\n      <td>species_10074099</td>\n      <td>Elastin</td>\n      <td>R-BTA-2161232</td>\n      <td>Reactome Polymer</td>\n      <td>NaN</td>\n      <td>NaN</td>\n      <td>NaN</td>\n      <td>NaN</td>\n      <td>NaN</td>\n      <td>NaN</td>\n      <td>NaN</td>\n      <td>NaN</td>\n      <td>NaN</td>\n      <td>HMDB0041419</td>\n    </tr>\n  </tbody>\n</table>\n<p>991 rows × 14 columns</p>\n</div>"
     },
     "execution_count": 15,
     "metadata": {},
     "output_type": "execute_result"
    }
   ],
   "source": [
    "species_reactome[species_reactome.hmdb_id.notna()]"
   ]
  },
  {
   "cell_type": "code",
   "execution_count": 16,
   "id": "7a3c0f5c-818d-4436-a78f-647e7e84e5cb",
   "metadata": {
    "pycharm": {
     "name": "#%%\n"
    }
   },
   "outputs": [],
   "source": [
    "# Merge Reactome and HMDB metabolites\n",
    "reactome_hmdb_merge = pd.merge(species_reactome, df_hmbd, on='hmdb_id', how='left')"
   ]
  },
  {
   "cell_type": "code",
   "execution_count": 17,
   "id": "c36fff51-4f5f-4add-ab29-36e179f08130",
   "metadata": {
    "pycharm": {
     "name": "#%%\n"
    }
   },
   "outputs": [
    {
     "data": {
      "text/plain": "              species_id species_name species_reactome_id  \\\n13        species_113582          ADP        R-ALL-113582   \n15        species_426925           PC        R-ALL-426925   \n17         species_76577          AMP         R-ALL-76577   \n23        species_113592          ATP        R-ALL-113592   \n25         species_74016         Ca2+         R-ALL-74016   \n...                  ...          ...                 ...   \n235046     species_74819          IDA         R-HSA-74819   \n236749  species_10610155        trp-2       R-CEL-2089937   \n236896   species_9996018      Elastin       R-CFA-2161232   \n238292  species_10259431      Elastin       R-DRE-2161232   \n238359  species_10074099      Elastin       R-BTA-2161232   \n\n                                   entity_type   CHEBI uniprot ensembl GRAC  \\\n13                       Reactome SimpleEntity  456216     NaN     NaN  NaN   \n15                       Reactome SimpleEntity   16110     NaN     NaN  NaN   \n17                       Reactome SimpleEntity   16027     NaN     NaN  NaN   \n23                       Reactome SimpleEntity   30616     NaN     NaN  NaN   \n25                       Reactome SimpleEntity   29108     NaN     NaN  NaN   \n...                                        ...     ...     ...     ...  ...   \n235046            Reactome GenomeEncodedEntity     NaN     NaN     NaN  NaN   \n236749  Reactome EntityWithAccessionedSequence     NaN  Q8I6Y9     NaN  NaN   \n236896                        Reactome Polymer     NaN     NaN     NaN  NaN   \n238292                        Reactome Polymer     NaN     NaN     NaN  NaN   \n238359                        Reactome Polymer     NaN     NaN     NaN  NaN   \n\n       pubchem ncbi  ... kegg_id   foodb_id chemspider_id drugbank_id pdb_id  \\\n13         NaN  NaN  ...  C00008  FDB021817          5800        None   None   \n15         NaN  NaN  ...    None  FDB025293          None        None   None   \n17         NaN  NaN  ...  C00020  FDB030677          5858     DB00131   None   \n23         NaN  NaN  ...  C00002  FDB030683          5742     DB00171   None   \n25         NaN  NaN  ...  C00076  FDB003513           266        None   None   \n...        ...  ...  ...     ...        ...           ...         ...    ...   \n235046     NaN  NaN  ...  C19911  FDB028424          8557        None   None   \n236749     NaN  NaN  ...  C14416  FDB011200       4447540        None   None   \n236896     NaN  NaN  ...  C00373  FDB021364          None        None   None   \n238292     NaN  NaN  ...  C00373  FDB021364          None        None   None   \n238359     NaN  NaN  ...  C00373  FDB021364          None        None   None   \n\n       chebi_id pubchem_compound_id            wikipedia_id bigg_id vmh_id  \n13        16761                6022   Adenosine_diphosphate   33496    ADP  \n15        76073            24778936                    None    None   None  \n17        16027                6083           Adenylic_acid   33534    AMP  \n23        15422                5957  Adenosine_triphosphate   33477    ATP  \n25        29108                 271                 Calcium   33764    CA2  \n...         ...                 ...                     ...     ...    ...  \n235046    24786                8897      Iminodiacetic acid    None   None  \n236749     None             5284476                    None    None   None  \n236896     None            85083221                    None    None   None  \n238292     None            85083221                    None    None   None  \n238359     None            85083221                    None    None   None  \n\n[991 rows x 26 columns]",
      "text/html": "<div>\n<style scoped>\n    .dataframe tbody tr th:only-of-type {\n        vertical-align: middle;\n    }\n\n    .dataframe tbody tr th {\n        vertical-align: top;\n    }\n\n    .dataframe thead th {\n        text-align: right;\n    }\n</style>\n<table border=\"1\" class=\"dataframe\">\n  <thead>\n    <tr style=\"text-align: right;\">\n      <th></th>\n      <th>species_id</th>\n      <th>species_name</th>\n      <th>species_reactome_id</th>\n      <th>entity_type</th>\n      <th>CHEBI</th>\n      <th>uniprot</th>\n      <th>ensembl</th>\n      <th>GRAC</th>\n      <th>pubchem</th>\n      <th>ncbi</th>\n      <th>...</th>\n      <th>kegg_id</th>\n      <th>foodb_id</th>\n      <th>chemspider_id</th>\n      <th>drugbank_id</th>\n      <th>pdb_id</th>\n      <th>chebi_id</th>\n      <th>pubchem_compound_id</th>\n      <th>wikipedia_id</th>\n      <th>bigg_id</th>\n      <th>vmh_id</th>\n    </tr>\n  </thead>\n  <tbody>\n    <tr>\n      <th>13</th>\n      <td>species_113582</td>\n      <td>ADP</td>\n      <td>R-ALL-113582</td>\n      <td>Reactome SimpleEntity</td>\n      <td>456216</td>\n      <td>NaN</td>\n      <td>NaN</td>\n      <td>NaN</td>\n      <td>NaN</td>\n      <td>NaN</td>\n      <td>...</td>\n      <td>C00008</td>\n      <td>FDB021817</td>\n      <td>5800</td>\n      <td>None</td>\n      <td>None</td>\n      <td>16761</td>\n      <td>6022</td>\n      <td>Adenosine_diphosphate</td>\n      <td>33496</td>\n      <td>ADP</td>\n    </tr>\n    <tr>\n      <th>15</th>\n      <td>species_426925</td>\n      <td>PC</td>\n      <td>R-ALL-426925</td>\n      <td>Reactome SimpleEntity</td>\n      <td>16110</td>\n      <td>NaN</td>\n      <td>NaN</td>\n      <td>NaN</td>\n      <td>NaN</td>\n      <td>NaN</td>\n      <td>...</td>\n      <td>None</td>\n      <td>FDB025293</td>\n      <td>None</td>\n      <td>None</td>\n      <td>None</td>\n      <td>76073</td>\n      <td>24778936</td>\n      <td>None</td>\n      <td>None</td>\n      <td>None</td>\n    </tr>\n    <tr>\n      <th>17</th>\n      <td>species_76577</td>\n      <td>AMP</td>\n      <td>R-ALL-76577</td>\n      <td>Reactome SimpleEntity</td>\n      <td>16027</td>\n      <td>NaN</td>\n      <td>NaN</td>\n      <td>NaN</td>\n      <td>NaN</td>\n      <td>NaN</td>\n      <td>...</td>\n      <td>C00020</td>\n      <td>FDB030677</td>\n      <td>5858</td>\n      <td>DB00131</td>\n      <td>None</td>\n      <td>16027</td>\n      <td>6083</td>\n      <td>Adenylic_acid</td>\n      <td>33534</td>\n      <td>AMP</td>\n    </tr>\n    <tr>\n      <th>23</th>\n      <td>species_113592</td>\n      <td>ATP</td>\n      <td>R-ALL-113592</td>\n      <td>Reactome SimpleEntity</td>\n      <td>30616</td>\n      <td>NaN</td>\n      <td>NaN</td>\n      <td>NaN</td>\n      <td>NaN</td>\n      <td>NaN</td>\n      <td>...</td>\n      <td>C00002</td>\n      <td>FDB030683</td>\n      <td>5742</td>\n      <td>DB00171</td>\n      <td>None</td>\n      <td>15422</td>\n      <td>5957</td>\n      <td>Adenosine_triphosphate</td>\n      <td>33477</td>\n      <td>ATP</td>\n    </tr>\n    <tr>\n      <th>25</th>\n      <td>species_74016</td>\n      <td>Ca2+</td>\n      <td>R-ALL-74016</td>\n      <td>Reactome SimpleEntity</td>\n      <td>29108</td>\n      <td>NaN</td>\n      <td>NaN</td>\n      <td>NaN</td>\n      <td>NaN</td>\n      <td>NaN</td>\n      <td>...</td>\n      <td>C00076</td>\n      <td>FDB003513</td>\n      <td>266</td>\n      <td>None</td>\n      <td>None</td>\n      <td>29108</td>\n      <td>271</td>\n      <td>Calcium</td>\n      <td>33764</td>\n      <td>CA2</td>\n    </tr>\n    <tr>\n      <th>...</th>\n      <td>...</td>\n      <td>...</td>\n      <td>...</td>\n      <td>...</td>\n      <td>...</td>\n      <td>...</td>\n      <td>...</td>\n      <td>...</td>\n      <td>...</td>\n      <td>...</td>\n      <td>...</td>\n      <td>...</td>\n      <td>...</td>\n      <td>...</td>\n      <td>...</td>\n      <td>...</td>\n      <td>...</td>\n      <td>...</td>\n      <td>...</td>\n      <td>...</td>\n      <td>...</td>\n    </tr>\n    <tr>\n      <th>235046</th>\n      <td>species_74819</td>\n      <td>IDA</td>\n      <td>R-HSA-74819</td>\n      <td>Reactome GenomeEncodedEntity</td>\n      <td>NaN</td>\n      <td>NaN</td>\n      <td>NaN</td>\n      <td>NaN</td>\n      <td>NaN</td>\n      <td>NaN</td>\n      <td>...</td>\n      <td>C19911</td>\n      <td>FDB028424</td>\n      <td>8557</td>\n      <td>None</td>\n      <td>None</td>\n      <td>24786</td>\n      <td>8897</td>\n      <td>Iminodiacetic acid</td>\n      <td>None</td>\n      <td>None</td>\n    </tr>\n    <tr>\n      <th>236749</th>\n      <td>species_10610155</td>\n      <td>trp-2</td>\n      <td>R-CEL-2089937</td>\n      <td>Reactome EntityWithAccessionedSequence</td>\n      <td>NaN</td>\n      <td>Q8I6Y9</td>\n      <td>NaN</td>\n      <td>NaN</td>\n      <td>NaN</td>\n      <td>NaN</td>\n      <td>...</td>\n      <td>C14416</td>\n      <td>FDB011200</td>\n      <td>4447540</td>\n      <td>None</td>\n      <td>None</td>\n      <td>None</td>\n      <td>5284476</td>\n      <td>None</td>\n      <td>None</td>\n      <td>None</td>\n    </tr>\n    <tr>\n      <th>236896</th>\n      <td>species_9996018</td>\n      <td>Elastin</td>\n      <td>R-CFA-2161232</td>\n      <td>Reactome Polymer</td>\n      <td>NaN</td>\n      <td>NaN</td>\n      <td>NaN</td>\n      <td>NaN</td>\n      <td>NaN</td>\n      <td>NaN</td>\n      <td>...</td>\n      <td>C00373</td>\n      <td>FDB021364</td>\n      <td>None</td>\n      <td>None</td>\n      <td>None</td>\n      <td>None</td>\n      <td>85083221</td>\n      <td>None</td>\n      <td>None</td>\n      <td>None</td>\n    </tr>\n    <tr>\n      <th>238292</th>\n      <td>species_10259431</td>\n      <td>Elastin</td>\n      <td>R-DRE-2161232</td>\n      <td>Reactome Polymer</td>\n      <td>NaN</td>\n      <td>NaN</td>\n      <td>NaN</td>\n      <td>NaN</td>\n      <td>NaN</td>\n      <td>NaN</td>\n      <td>...</td>\n      <td>C00373</td>\n      <td>FDB021364</td>\n      <td>None</td>\n      <td>None</td>\n      <td>None</td>\n      <td>None</td>\n      <td>85083221</td>\n      <td>None</td>\n      <td>None</td>\n      <td>None</td>\n    </tr>\n    <tr>\n      <th>238359</th>\n      <td>species_10074099</td>\n      <td>Elastin</td>\n      <td>R-BTA-2161232</td>\n      <td>Reactome Polymer</td>\n      <td>NaN</td>\n      <td>NaN</td>\n      <td>NaN</td>\n      <td>NaN</td>\n      <td>NaN</td>\n      <td>NaN</td>\n      <td>...</td>\n      <td>C00373</td>\n      <td>FDB021364</td>\n      <td>None</td>\n      <td>None</td>\n      <td>None</td>\n      <td>None</td>\n      <td>85083221</td>\n      <td>None</td>\n      <td>None</td>\n      <td>None</td>\n    </tr>\n  </tbody>\n</table>\n<p>991 rows × 26 columns</p>\n</div>"
     },
     "execution_count": 17,
     "metadata": {},
     "output_type": "execute_result"
    }
   ],
   "source": [
    "reactome_hmdb_merge[reactome_hmdb_merge.name.notna()]"
   ]
  },
  {
   "cell_type": "code",
   "execution_count": 18,
   "id": "a86482fd-2f1b-418f-a999-824e60fa10a2",
   "metadata": {
    "pycharm": {
     "name": "#%%\n"
    }
   },
   "outputs": [
    {
     "name": "stdout",
     "output_type": "stream",
     "text": [
      "<class 'pandas.core.frame.DataFrame'>\n",
      "Int64Index: 238518 entries, 0 to 238517\n",
      "Data columns (total 26 columns):\n",
      " #   Column               Non-Null Count   Dtype \n",
      "---  ------               --------------   ----- \n",
      " 0   species_id           238518 non-null  object\n",
      " 1   species_name         238515 non-null  object\n",
      " 2   species_reactome_id  238518 non-null  object\n",
      " 3   entity_type          238518 non-null  object\n",
      " 4   CHEBI                8184 non-null    object\n",
      " 5   uniprot              166323 non-null  object\n",
      " 6   ensembl              1310 non-null    object\n",
      " 7   GRAC                 579 non-null     object\n",
      " 8   pubchem              30 non-null      object\n",
      " 9   ncbi                 28 non-null      object\n",
      " 10  mirbase              52 non-null      object\n",
      " 11  ENA                  42 non-null      object\n",
      " 12  KEGG                 3 non-null       object\n",
      " 13  hmdb_id              991 non-null     object\n",
      " 14  name                 991 non-null     object\n",
      " 15  iupac                985 non-null     object\n",
      " 16  kegg_id              831 non-null     object\n",
      " 17  foodb_id             826 non-null     object\n",
      " 18  chemspider_id        815 non-null     object\n",
      " 19  drugbank_id          508 non-null     object\n",
      " 20  pdb_id               42 non-null      object\n",
      " 21  chebi_id             910 non-null     object\n",
      " 22  pubchem_compound_id  973 non-null     object\n",
      " 23  wikipedia_id         762 non-null     object\n",
      " 24  bigg_id              459 non-null     object\n",
      " 25  vmh_id               574 non-null     object\n",
      "dtypes: object(26)\n",
      "memory usage: 49.1+ MB\n"
     ]
    }
   ],
   "source": [
    "reactome_hmdb_merge.info()"
   ]
  },
  {
   "cell_type": "code",
   "execution_count": 19,
   "id": "d0faa3a5-b85b-495e-8bc0-c33b85593771",
   "metadata": {
    "pycharm": {
     "name": "#%%\n"
    }
   },
   "outputs": [],
   "source": [
    "# As some identifiers occur in Reactome as well as in HMDB (e.g. CHEBI and chebi_id) it is necessary to merge the information\n",
    "reactome_hmdb_merge['CHEBI'] = reactome_hmdb_merge.apply(lambda row: row.CHEBI if pd.notna(row.CHEBI) else (row.chebi_id if pd.notna(row.chebi_id) else float('nan')), axis=1)\n",
    "reactome_hmdb_merge['KEGG'] = reactome_hmdb_merge.apply(lambda row: row.KEGG if pd.notna(row.KEGG) else (row.kegg_id if pd.notna(row.kegg_id) else float('nan')), axis=1)\n",
    "reactome_hmdb_merge['pubchem'] = reactome_hmdb_merge.apply(lambda row: row.pubchem if pd.notna(row.pubchem) else (row.pubchem_compound_id if pd.notna(row.pubchem_compound_id) else float('nan')), axis=1)"
   ]
  },
  {
   "cell_type": "code",
   "execution_count": 20,
   "id": "564515a7-0412-48ac-9b13-a24a76b6aeae",
   "metadata": {
    "pycharm": {
     "name": "#%%\n"
    }
   },
   "outputs": [
    {
     "name": "stdout",
     "output_type": "stream",
     "text": [
      "<class 'pandas.core.frame.DataFrame'>\n",
      "Int64Index: 238518 entries, 0 to 238517\n",
      "Data columns (total 26 columns):\n",
      " #   Column               Non-Null Count   Dtype \n",
      "---  ------               --------------   ----- \n",
      " 0   species_id           238518 non-null  object\n",
      " 1   species_name         238515 non-null  object\n",
      " 2   species_reactome_id  238518 non-null  object\n",
      " 3   entity_type          238518 non-null  object\n",
      " 4   CHEBI                8370 non-null    object\n",
      " 5   uniprot              166323 non-null  object\n",
      " 6   ensembl              1310 non-null    object\n",
      " 7   GRAC                 579 non-null     object\n",
      " 8   pubchem              1003 non-null    object\n",
      " 9   ncbi                 28 non-null      object\n",
      " 10  mirbase              52 non-null      object\n",
      " 11  ENA                  42 non-null      object\n",
      " 12  KEGG                 834 non-null     object\n",
      " 13  hmdb_id              991 non-null     object\n",
      " 14  name                 991 non-null     object\n",
      " 15  iupac                985 non-null     object\n",
      " 16  kegg_id              831 non-null     object\n",
      " 17  foodb_id             826 non-null     object\n",
      " 18  chemspider_id        815 non-null     object\n",
      " 19  drugbank_id          508 non-null     object\n",
      " 20  pdb_id               42 non-null      object\n",
      " 21  chebi_id             910 non-null     object\n",
      " 22  pubchem_compound_id  973 non-null     object\n",
      " 23  wikipedia_id         762 non-null     object\n",
      " 24  bigg_id              459 non-null     object\n",
      " 25  vmh_id               574 non-null     object\n",
      "dtypes: object(26)\n",
      "memory usage: 49.1+ MB\n"
     ]
    }
   ],
   "source": [
    "reactome_hmdb_merge.info()"
   ]
  },
  {
   "cell_type": "code",
   "execution_count": 21,
   "id": "33d7f91f-2660-4a65-8ef9-b521e9f49a2d",
   "metadata": {
    "pycharm": {
     "name": "#%%\n"
    }
   },
   "outputs": [],
   "source": [
    "# We drop the columns we don't need anymore\n",
    "reactome_hmdb_merge_cleaned = reactome_hmdb_merge.drop(columns=['chebi_id', 'kegg_id', 'pubchem_compound_id'])"
   ]
  },
  {
   "cell_type": "code",
   "execution_count": 32,
   "outputs": [
    {
     "data": {
      "text/plain": "              species_id                                       species_name  \\\n0       species_10637177  PEX2:PEX10:PEX12:PEX5S,L:Ub:UBE2D1,2,3:PEX13:P...   \n1       species_10603252                                         UBE2D1,2,3   \n2       species_10603252                                         UBE2D1,2,3   \n3       species_10603252                                         UBE2D1,2,3   \n4       species_10635551                          RNF152:RRAGA:GDP:Ub:UBE2N   \n...                  ...                                                ...   \n238513  species_10318510              Class I Peroxisomal Membrane Proteins   \n238514  species_10318510              Class I Peroxisomal Membrane Proteins   \n238515  species_10318510              Class I Peroxisomal Membrane Proteins   \n238516  species_10318510              Class I Peroxisomal Membrane Proteins   \n238517  species_10318512                                  PEX19:class I PMP   \n\n       species_reactome_id          entity_type CHEBI     uniprot ensembl  \\\n0            R-CEL-8953942     Reactome Complex   NaN         NaN     NaN   \n1            R-CEL-1234120  Reactome DefinedSet   NaN      P35129     NaN   \n2            R-CEL-1234120  Reactome DefinedSet   NaN      Q9U1U4     NaN   \n3            R-CEL-1234120  Reactome DefinedSet   NaN      Q20617     NaN   \n4            R-CEL-8938812     Reactome Complex   NaN         NaN     NaN   \n...                    ...                  ...   ...         ...     ...   \n238513       R-DRE-9603783  Reactome DefinedSet   NaN      E7FBD9     NaN   \n238514       R-DRE-9603783  Reactome DefinedSet   NaN  A0A2R8QFW3     NaN   \n238515       R-DRE-9603783  Reactome DefinedSet   NaN      F1RBL0     NaN   \n238516       R-DRE-9603783  Reactome DefinedSet   NaN      E9QH31     NaN   \n238517       R-DRE-9603787     Reactome Complex   NaN         NaN     NaN   \n\n       GRAC pubchem ncbi  ... hmdb_id  name iupac foodb_id chemspider_id  \\\n0       NaN     NaN  NaN  ...    None  None  None     None          None   \n1       NaN     NaN  NaN  ...    None  None  None     None          None   \n2       NaN     NaN  NaN  ...    None  None  None     None          None   \n3       NaN     NaN  NaN  ...    None  None  None     None          None   \n4       NaN     NaN  NaN  ...    None  None  None     None          None   \n...     ...     ...  ...  ...     ...   ...   ...      ...           ...   \n238513  NaN     NaN  NaN  ...    None  None  None     None          None   \n238514  NaN     NaN  NaN  ...    None  None  None     None          None   \n238515  NaN     NaN  NaN  ...    None  None  None     None          None   \n238516  NaN     NaN  NaN  ...    None  None  None     None          None   \n238517  NaN     NaN  NaN  ...    None  None  None     None          None   \n\n       drugbank_id pdb_id wikipedia_id bigg_id vmh_id  \n0             None   None         None    None   None  \n1             None   None         None    None   None  \n2             None   None         None    None   None  \n3             None   None         None    None   None  \n4             None   None         None    None   None  \n...            ...    ...          ...     ...    ...  \n238513        None   None         None    None   None  \n238514        None   None         None    None   None  \n238515        None   None         None    None   None  \n238516        None   None         None    None   None  \n238517        None   None         None    None   None  \n\n[238518 rows x 23 columns]",
      "text/html": "<div>\n<style scoped>\n    .dataframe tbody tr th:only-of-type {\n        vertical-align: middle;\n    }\n\n    .dataframe tbody tr th {\n        vertical-align: top;\n    }\n\n    .dataframe thead th {\n        text-align: right;\n    }\n</style>\n<table border=\"1\" class=\"dataframe\">\n  <thead>\n    <tr style=\"text-align: right;\">\n      <th></th>\n      <th>species_id</th>\n      <th>species_name</th>\n      <th>species_reactome_id</th>\n      <th>entity_type</th>\n      <th>CHEBI</th>\n      <th>uniprot</th>\n      <th>ensembl</th>\n      <th>GRAC</th>\n      <th>pubchem</th>\n      <th>ncbi</th>\n      <th>...</th>\n      <th>hmdb_id</th>\n      <th>name</th>\n      <th>iupac</th>\n      <th>foodb_id</th>\n      <th>chemspider_id</th>\n      <th>drugbank_id</th>\n      <th>pdb_id</th>\n      <th>wikipedia_id</th>\n      <th>bigg_id</th>\n      <th>vmh_id</th>\n    </tr>\n  </thead>\n  <tbody>\n    <tr>\n      <th>0</th>\n      <td>species_10637177</td>\n      <td>PEX2:PEX10:PEX12:PEX5S,L:Ub:UBE2D1,2,3:PEX13:P...</td>\n      <td>R-CEL-8953942</td>\n      <td>Reactome Complex</td>\n      <td>NaN</td>\n      <td>NaN</td>\n      <td>NaN</td>\n      <td>NaN</td>\n      <td>NaN</td>\n      <td>NaN</td>\n      <td>...</td>\n      <td>None</td>\n      <td>None</td>\n      <td>None</td>\n      <td>None</td>\n      <td>None</td>\n      <td>None</td>\n      <td>None</td>\n      <td>None</td>\n      <td>None</td>\n      <td>None</td>\n    </tr>\n    <tr>\n      <th>1</th>\n      <td>species_10603252</td>\n      <td>UBE2D1,2,3</td>\n      <td>R-CEL-1234120</td>\n      <td>Reactome DefinedSet</td>\n      <td>NaN</td>\n      <td>P35129</td>\n      <td>NaN</td>\n      <td>NaN</td>\n      <td>NaN</td>\n      <td>NaN</td>\n      <td>...</td>\n      <td>None</td>\n      <td>None</td>\n      <td>None</td>\n      <td>None</td>\n      <td>None</td>\n      <td>None</td>\n      <td>None</td>\n      <td>None</td>\n      <td>None</td>\n      <td>None</td>\n    </tr>\n    <tr>\n      <th>2</th>\n      <td>species_10603252</td>\n      <td>UBE2D1,2,3</td>\n      <td>R-CEL-1234120</td>\n      <td>Reactome DefinedSet</td>\n      <td>NaN</td>\n      <td>Q9U1U4</td>\n      <td>NaN</td>\n      <td>NaN</td>\n      <td>NaN</td>\n      <td>NaN</td>\n      <td>...</td>\n      <td>None</td>\n      <td>None</td>\n      <td>None</td>\n      <td>None</td>\n      <td>None</td>\n      <td>None</td>\n      <td>None</td>\n      <td>None</td>\n      <td>None</td>\n      <td>None</td>\n    </tr>\n    <tr>\n      <th>3</th>\n      <td>species_10603252</td>\n      <td>UBE2D1,2,3</td>\n      <td>R-CEL-1234120</td>\n      <td>Reactome DefinedSet</td>\n      <td>NaN</td>\n      <td>Q20617</td>\n      <td>NaN</td>\n      <td>NaN</td>\n      <td>NaN</td>\n      <td>NaN</td>\n      <td>...</td>\n      <td>None</td>\n      <td>None</td>\n      <td>None</td>\n      <td>None</td>\n      <td>None</td>\n      <td>None</td>\n      <td>None</td>\n      <td>None</td>\n      <td>None</td>\n      <td>None</td>\n    </tr>\n    <tr>\n      <th>4</th>\n      <td>species_10635551</td>\n      <td>RNF152:RRAGA:GDP:Ub:UBE2N</td>\n      <td>R-CEL-8938812</td>\n      <td>Reactome Complex</td>\n      <td>NaN</td>\n      <td>NaN</td>\n      <td>NaN</td>\n      <td>NaN</td>\n      <td>NaN</td>\n      <td>NaN</td>\n      <td>...</td>\n      <td>None</td>\n      <td>None</td>\n      <td>None</td>\n      <td>None</td>\n      <td>None</td>\n      <td>None</td>\n      <td>None</td>\n      <td>None</td>\n      <td>None</td>\n      <td>None</td>\n    </tr>\n    <tr>\n      <th>...</th>\n      <td>...</td>\n      <td>...</td>\n      <td>...</td>\n      <td>...</td>\n      <td>...</td>\n      <td>...</td>\n      <td>...</td>\n      <td>...</td>\n      <td>...</td>\n      <td>...</td>\n      <td>...</td>\n      <td>...</td>\n      <td>...</td>\n      <td>...</td>\n      <td>...</td>\n      <td>...</td>\n      <td>...</td>\n      <td>...</td>\n      <td>...</td>\n      <td>...</td>\n      <td>...</td>\n    </tr>\n    <tr>\n      <th>238513</th>\n      <td>species_10318510</td>\n      <td>Class I Peroxisomal Membrane Proteins</td>\n      <td>R-DRE-9603783</td>\n      <td>Reactome DefinedSet</td>\n      <td>NaN</td>\n      <td>E7FBD9</td>\n      <td>NaN</td>\n      <td>NaN</td>\n      <td>NaN</td>\n      <td>NaN</td>\n      <td>...</td>\n      <td>None</td>\n      <td>None</td>\n      <td>None</td>\n      <td>None</td>\n      <td>None</td>\n      <td>None</td>\n      <td>None</td>\n      <td>None</td>\n      <td>None</td>\n      <td>None</td>\n    </tr>\n    <tr>\n      <th>238514</th>\n      <td>species_10318510</td>\n      <td>Class I Peroxisomal Membrane Proteins</td>\n      <td>R-DRE-9603783</td>\n      <td>Reactome DefinedSet</td>\n      <td>NaN</td>\n      <td>A0A2R8QFW3</td>\n      <td>NaN</td>\n      <td>NaN</td>\n      <td>NaN</td>\n      <td>NaN</td>\n      <td>...</td>\n      <td>None</td>\n      <td>None</td>\n      <td>None</td>\n      <td>None</td>\n      <td>None</td>\n      <td>None</td>\n      <td>None</td>\n      <td>None</td>\n      <td>None</td>\n      <td>None</td>\n    </tr>\n    <tr>\n      <th>238515</th>\n      <td>species_10318510</td>\n      <td>Class I Peroxisomal Membrane Proteins</td>\n      <td>R-DRE-9603783</td>\n      <td>Reactome DefinedSet</td>\n      <td>NaN</td>\n      <td>F1RBL0</td>\n      <td>NaN</td>\n      <td>NaN</td>\n      <td>NaN</td>\n      <td>NaN</td>\n      <td>...</td>\n      <td>None</td>\n      <td>None</td>\n      <td>None</td>\n      <td>None</td>\n      <td>None</td>\n      <td>None</td>\n      <td>None</td>\n      <td>None</td>\n      <td>None</td>\n      <td>None</td>\n    </tr>\n    <tr>\n      <th>238516</th>\n      <td>species_10318510</td>\n      <td>Class I Peroxisomal Membrane Proteins</td>\n      <td>R-DRE-9603783</td>\n      <td>Reactome DefinedSet</td>\n      <td>NaN</td>\n      <td>E9QH31</td>\n      <td>NaN</td>\n      <td>NaN</td>\n      <td>NaN</td>\n      <td>NaN</td>\n      <td>...</td>\n      <td>None</td>\n      <td>None</td>\n      <td>None</td>\n      <td>None</td>\n      <td>None</td>\n      <td>None</td>\n      <td>None</td>\n      <td>None</td>\n      <td>None</td>\n      <td>None</td>\n    </tr>\n    <tr>\n      <th>238517</th>\n      <td>species_10318512</td>\n      <td>PEX19:class I PMP</td>\n      <td>R-DRE-9603787</td>\n      <td>Reactome Complex</td>\n      <td>NaN</td>\n      <td>NaN</td>\n      <td>NaN</td>\n      <td>NaN</td>\n      <td>NaN</td>\n      <td>NaN</td>\n      <td>...</td>\n      <td>None</td>\n      <td>None</td>\n      <td>None</td>\n      <td>None</td>\n      <td>None</td>\n      <td>None</td>\n      <td>None</td>\n      <td>None</td>\n      <td>None</td>\n      <td>None</td>\n    </tr>\n  </tbody>\n</table>\n<p>238518 rows × 23 columns</p>\n</div>"
     },
     "execution_count": 32,
     "metadata": {},
     "output_type": "execute_result"
    }
   ],
   "source": [
    "reactome_hmdb_merge_cleaned"
   ],
   "metadata": {
    "collapsed": false,
    "pycharm": {
     "name": "#%%\n"
    }
   }
  },
  {
   "cell_type": "markdown",
   "source": [
    "&rarr; As we can see we have been able to match 991 metabolites to HMDB"
   ],
   "metadata": {
    "collapsed": false,
    "pycharm": {
     "name": "#%% md\n"
    }
   }
  },
  {
   "cell_type": "code",
   "execution_count": null,
   "outputs": [],
   "source": [],
   "metadata": {
    "collapsed": false,
    "pycharm": {
     "name": "#%%\n"
    }
   }
  }
 ],
 "metadata": {
  "kernelspec": {
   "display_name": "Python 3 (ipykernel)",
   "language": "python",
   "name": "python3"
  },
  "language_info": {
   "codemirror_mode": {
    "name": "ipython",
    "version": 3
   },
   "file_extension": ".py",
   "mimetype": "text/x-python",
   "name": "python",
   "nbconvert_exporter": "python",
   "pygments_lexer": "ipython3",
   "version": "3.8.12"
  }
 },
 "nbformat": 4,
 "nbformat_minor": 5
}