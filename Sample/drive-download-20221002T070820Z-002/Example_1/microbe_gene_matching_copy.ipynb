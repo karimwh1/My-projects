{
 "cells": [
  {
   "cell_type": "markdown",
   "source": [
    "Micromet Network\n",
    "# Match Microbe Genes and Microbe Reactions\n",
    "\n",
    "&rarr; Goal: match microbes to reactions via the genes involved"
   ],
   "metadata": {
    "collapsed": false,
    "pycharm": {
     "name": "#%% md\n"
    }
   }
  },
  {
   "cell_type": "code",
   "execution_count": 1,
   "outputs": [],
   "source": [
    "import pandas as pd"
   ],
   "metadata": {
    "collapsed": false,
    "pycharm": {
     "name": "#%%\n"
    }
   }
  },
  {
   "cell_type": "code",
   "execution_count": 2,
   "metadata": {
    "pycharm": {
     "name": "#%%\n"
    }
   },
   "outputs": [],
   "source": [
    "gene_reactions_file_path = \"cleaned_tables/gene_reactions_cleaned.csv\"\n",
    "microbe_genes_file_path = \"/Users/vivy/PycharmProjects/NutritionDiseaseKnowledgeGraph/Databases/VMH/Genes/vmh_genes_from_microbe_all.csv\""
   ]
  },
  {
   "cell_type": "code",
   "execution_count": 3,
   "metadata": {
    "pycharm": {
     "name": "#%%\n"
    }
   },
   "outputs": [],
   "source": [
    "gene_reactions = pd.read_csv(gene_reactions_file_path)\n",
    "microbe_genes = pd.read_csv(microbe_genes_file_path)"
   ]
  },
  {
   "cell_type": "code",
   "execution_count": 4,
   "metadata": {
    "pycharm": {
     "name": "#%%\n"
    }
   },
   "outputs": [
    {
     "data": {
      "text/plain": "         Unnamed: 0 reaction_abbreviation        gene_number\n0                 0             13DAMPPOX             8639.1\n1                 1             42A12BOOX             8639.1\n2                 2              NMPTRCOX             8639.1\n3                 3             13DAMPPOX               26.1\n4                 4             42A12BOOX               26.1\n...             ...                   ...                ...\n2133292     2133292                 GALt4   521000.6.peg.536\n2133293     2133293                 GALt4  500637.6.peg.1428\n2133294     2133294                 GALt4  500637.6.peg.4927\n2133295     2133295                 GALt4  471874.6.peg.2439\n2133296     2133296                 GALt4  762983.3.peg.1596\n\n[2133297 rows x 3 columns]",
      "text/html": "<div>\n<style scoped>\n    .dataframe tbody tr th:only-of-type {\n        vertical-align: middle;\n    }\n\n    .dataframe tbody tr th {\n        vertical-align: top;\n    }\n\n    .dataframe thead th {\n        text-align: right;\n    }\n</style>\n<table border=\"1\" class=\"dataframe\">\n  <thead>\n    <tr style=\"text-align: right;\">\n      <th></th>\n      <th>Unnamed: 0</th>\n      <th>reaction_abbreviation</th>\n      <th>gene_number</th>\n    </tr>\n  </thead>\n  <tbody>\n    <tr>\n      <th>0</th>\n      <td>0</td>\n      <td>13DAMPPOX</td>\n      <td>8639.1</td>\n    </tr>\n    <tr>\n      <th>1</th>\n      <td>1</td>\n      <td>42A12BOOX</td>\n      <td>8639.1</td>\n    </tr>\n    <tr>\n      <th>2</th>\n      <td>2</td>\n      <td>NMPTRCOX</td>\n      <td>8639.1</td>\n    </tr>\n    <tr>\n      <th>3</th>\n      <td>3</td>\n      <td>13DAMPPOX</td>\n      <td>26.1</td>\n    </tr>\n    <tr>\n      <th>4</th>\n      <td>4</td>\n      <td>42A12BOOX</td>\n      <td>26.1</td>\n    </tr>\n    <tr>\n      <th>...</th>\n      <td>...</td>\n      <td>...</td>\n      <td>...</td>\n    </tr>\n    <tr>\n      <th>2133292</th>\n      <td>2133292</td>\n      <td>GALt4</td>\n      <td>521000.6.peg.536</td>\n    </tr>\n    <tr>\n      <th>2133293</th>\n      <td>2133293</td>\n      <td>GALt4</td>\n      <td>500637.6.peg.1428</td>\n    </tr>\n    <tr>\n      <th>2133294</th>\n      <td>2133294</td>\n      <td>GALt4</td>\n      <td>500637.6.peg.4927</td>\n    </tr>\n    <tr>\n      <th>2133295</th>\n      <td>2133295</td>\n      <td>GALt4</td>\n      <td>471874.6.peg.2439</td>\n    </tr>\n    <tr>\n      <th>2133296</th>\n      <td>2133296</td>\n      <td>GALt4</td>\n      <td>762983.3.peg.1596</td>\n    </tr>\n  </tbody>\n</table>\n<p>2133297 rows × 3 columns</p>\n</div>"
     },
     "execution_count": 4,
     "metadata": {},
     "output_type": "execute_result"
    }
   ],
   "source": [
    "gene_reactions"
   ]
  },
  {
   "cell_type": "code",
   "execution_count": 5,
   "metadata": {
    "pycharm": {
     "name": "#%%\n"
    }
   },
   "outputs": [
    {
     "data": {
      "text/plain": "        Unnamed: 0         gene_number                            microbe\n0                1    592010.4.peg.619   Abiotrophia_defectiva_ATCC_49176\n1                2     592010.4.peg.75   Abiotrophia_defectiva_ATCC_49176\n2                3    592010.4.peg.380   Abiotrophia_defectiva_ATCC_49176\n3                4   592010.4.peg.2638   Abiotrophia_defectiva_ATCC_49176\n4                5   592010.4.peg.1101   Abiotrophia_defectiva_ATCC_49176\n...            ...                 ...                                ...\n639136          33  1002368.3.peg.1541  Yokenella_regensburgei_ATCC_43003\n639137          34  1002368.3.peg.1542  Yokenella_regensburgei_ATCC_43003\n639138          35  1002368.3.peg.1543  Yokenella_regensburgei_ATCC_43003\n639139          36  1002368.3.peg.1435  Yokenella_regensburgei_ATCC_43003\n639140          37    g.23117.CDS.2157  Yokenella_regensburgei_ATCC_43003\n\n[639141 rows x 3 columns]",
      "text/html": "<div>\n<style scoped>\n    .dataframe tbody tr th:only-of-type {\n        vertical-align: middle;\n    }\n\n    .dataframe tbody tr th {\n        vertical-align: top;\n    }\n\n    .dataframe thead th {\n        text-align: right;\n    }\n</style>\n<table border=\"1\" class=\"dataframe\">\n  <thead>\n    <tr style=\"text-align: right;\">\n      <th></th>\n      <th>Unnamed: 0</th>\n      <th>gene_number</th>\n      <th>microbe</th>\n    </tr>\n  </thead>\n  <tbody>\n    <tr>\n      <th>0</th>\n      <td>1</td>\n      <td>592010.4.peg.619</td>\n      <td>Abiotrophia_defectiva_ATCC_49176</td>\n    </tr>\n    <tr>\n      <th>1</th>\n      <td>2</td>\n      <td>592010.4.peg.75</td>\n      <td>Abiotrophia_defectiva_ATCC_49176</td>\n    </tr>\n    <tr>\n      <th>2</th>\n      <td>3</td>\n      <td>592010.4.peg.380</td>\n      <td>Abiotrophia_defectiva_ATCC_49176</td>\n    </tr>\n    <tr>\n      <th>3</th>\n      <td>4</td>\n      <td>592010.4.peg.2638</td>\n      <td>Abiotrophia_defectiva_ATCC_49176</td>\n    </tr>\n    <tr>\n      <th>4</th>\n      <td>5</td>\n      <td>592010.4.peg.1101</td>\n      <td>Abiotrophia_defectiva_ATCC_49176</td>\n    </tr>\n    <tr>\n      <th>...</th>\n      <td>...</td>\n      <td>...</td>\n      <td>...</td>\n    </tr>\n    <tr>\n      <th>639136</th>\n      <td>33</td>\n      <td>1002368.3.peg.1541</td>\n      <td>Yokenella_regensburgei_ATCC_43003</td>\n    </tr>\n    <tr>\n      <th>639137</th>\n      <td>34</td>\n      <td>1002368.3.peg.1542</td>\n      <td>Yokenella_regensburgei_ATCC_43003</td>\n    </tr>\n    <tr>\n      <th>639138</th>\n      <td>35</td>\n      <td>1002368.3.peg.1543</td>\n      <td>Yokenella_regensburgei_ATCC_43003</td>\n    </tr>\n    <tr>\n      <th>639139</th>\n      <td>36</td>\n      <td>1002368.3.peg.1435</td>\n      <td>Yokenella_regensburgei_ATCC_43003</td>\n    </tr>\n    <tr>\n      <th>639140</th>\n      <td>37</td>\n      <td>g.23117.CDS.2157</td>\n      <td>Yokenella_regensburgei_ATCC_43003</td>\n    </tr>\n  </tbody>\n</table>\n<p>639141 rows × 3 columns</p>\n</div>"
     },
     "execution_count": 5,
     "metadata": {},
     "output_type": "execute_result"
    }
   ],
   "source": [
    "microbe_genes"
   ]
  },
  {
   "cell_type": "code",
   "execution_count": 6,
   "metadata": {
    "pycharm": {
     "name": "#%%\n"
    }
   },
   "outputs": [
    {
     "name": "stdout",
     "output_type": "stream",
     "text": [
      "Number of matched microbe reactions: 2570205\n"
     ]
    }
   ],
   "source": [
    "df_merge = pd.merge(gene_reactions, microbe_genes, how=\"inner\", on=\"gene_number\")\n",
    "print(\"Number of matched microbe reactions: \" + str(df_merge.gene_number.count()))"
   ]
  },
  {
   "cell_type": "code",
   "execution_count": 7,
   "metadata": {
    "pycharm": {
     "name": "#%%\n"
    }
   },
   "outputs": [],
   "source": [
    "unique_genes_microbes = pd.DataFrame(microbe_genes.gene_number.unique())\n",
    "unique_genes_microbes.columns = ['gene_number_microbes']\n",
    "\n",
    "unique_genes_reactions = pd.DataFrame(gene_reactions.gene_number.unique())\n",
    "unique_genes_reactions.columns = ['gene_number_reactions']"
   ]
  },
  {
   "cell_type": "code",
   "execution_count": 8,
   "outputs": [],
   "source": [
    "df_merge = pd.merge(unique_genes_microbes, unique_genes_reactions, how=\"outer\", left_on='gene_number_microbes', right_on='gene_number_reactions')"
   ],
   "metadata": {
    "collapsed": false,
    "pycharm": {
     "name": "#%%\n"
    }
   }
  },
  {
   "cell_type": "code",
   "execution_count": 9,
   "outputs": [
    {
     "data": {
      "text/plain": "0"
     },
     "execution_count": 9,
     "metadata": {},
     "output_type": "execute_result"
    }
   ],
   "source": [
    "len(df_merge[df_merge.gene_number_reactions.isnull()])"
   ],
   "metadata": {
    "collapsed": false,
    "pycharm": {
     "name": "#%%\n"
    }
   }
  },
  {
   "cell_type": "markdown",
   "source": [
    "**&rarr; All microbe genes could be matched to a reaction**"
   ],
   "metadata": {
    "collapsed": false,
    "pycharm": {
     "name": "#%% md\n"
    }
   }
  },
  {
   "cell_type": "code",
   "execution_count": 10,
   "outputs": [
    {
     "data": {
      "text/plain": "3693"
     },
     "execution_count": 10,
     "metadata": {},
     "output_type": "execute_result"
    }
   ],
   "source": [
    "len(df_merge[df_merge.gene_number_microbes.isnull()])"
   ],
   "metadata": {
    "collapsed": false,
    "pycharm": {
     "name": "#%%\n"
    }
   }
  },
  {
   "cell_type": "code",
   "execution_count": 11,
   "outputs": [
    {
     "data": {
      "text/plain": "       gene_number_microbes gene_number_reactions\n638293                  NaN                8639.1\n638294                  NaN                  26.1\n638295                  NaN                 314.2\n638296                  NaN                 314.1\n638297                  NaN                1591.1\n...                     ...                   ...\n641981                  NaN                5973.1\n641982                  NaN                1635.1\n641983                  NaN              286297.1\n641984                  NaN               10560.1\n641985                  NaN            gap_filled\n\n[3693 rows x 2 columns]",
      "text/html": "<div>\n<style scoped>\n    .dataframe tbody tr th:only-of-type {\n        vertical-align: middle;\n    }\n\n    .dataframe tbody tr th {\n        vertical-align: top;\n    }\n\n    .dataframe thead th {\n        text-align: right;\n    }\n</style>\n<table border=\"1\" class=\"dataframe\">\n  <thead>\n    <tr style=\"text-align: right;\">\n      <th></th>\n      <th>gene_number_microbes</th>\n      <th>gene_number_reactions</th>\n    </tr>\n  </thead>\n  <tbody>\n    <tr>\n      <th>638293</th>\n      <td>NaN</td>\n      <td>8639.1</td>\n    </tr>\n    <tr>\n      <th>638294</th>\n      <td>NaN</td>\n      <td>26.1</td>\n    </tr>\n    <tr>\n      <th>638295</th>\n      <td>NaN</td>\n      <td>314.2</td>\n    </tr>\n    <tr>\n      <th>638296</th>\n      <td>NaN</td>\n      <td>314.1</td>\n    </tr>\n    <tr>\n      <th>638297</th>\n      <td>NaN</td>\n      <td>1591.1</td>\n    </tr>\n    <tr>\n      <th>...</th>\n      <td>...</td>\n      <td>...</td>\n    </tr>\n    <tr>\n      <th>641981</th>\n      <td>NaN</td>\n      <td>5973.1</td>\n    </tr>\n    <tr>\n      <th>641982</th>\n      <td>NaN</td>\n      <td>1635.1</td>\n    </tr>\n    <tr>\n      <th>641983</th>\n      <td>NaN</td>\n      <td>286297.1</td>\n    </tr>\n    <tr>\n      <th>641984</th>\n      <td>NaN</td>\n      <td>10560.1</td>\n    </tr>\n    <tr>\n      <th>641985</th>\n      <td>NaN</td>\n      <td>gap_filled</td>\n    </tr>\n  </tbody>\n</table>\n<p>3693 rows × 2 columns</p>\n</div>"
     },
     "execution_count": 11,
     "metadata": {},
     "output_type": "execute_result"
    }
   ],
   "source": [
    "df_merge[df_merge.gene_number_microbes.isnull()]"
   ],
   "metadata": {
    "collapsed": false,
    "pycharm": {
     "name": "#%%\n"
    }
   }
  },
  {
   "cell_type": "code",
   "execution_count": 12,
   "outputs": [
    {
     "data": {
      "text/plain": "Empty DataFrame\nColumns: [Unnamed: 0, gene_number, microbe]\nIndex: []",
      "text/html": "<div>\n<style scoped>\n    .dataframe tbody tr th:only-of-type {\n        vertical-align: middle;\n    }\n\n    .dataframe tbody tr th {\n        vertical-align: top;\n    }\n\n    .dataframe thead th {\n        text-align: right;\n    }\n</style>\n<table border=\"1\" class=\"dataframe\">\n  <thead>\n    <tr style=\"text-align: right;\">\n      <th></th>\n      <th>Unnamed: 0</th>\n      <th>gene_number</th>\n      <th>microbe</th>\n    </tr>\n  </thead>\n  <tbody>\n  </tbody>\n</table>\n</div>"
     },
     "execution_count": 12,
     "metadata": {},
     "output_type": "execute_result"
    }
   ],
   "source": [
    "microbe_genes[microbe_genes.gene_number == '8639.1']"
   ],
   "metadata": {
    "collapsed": false,
    "pycharm": {
     "name": "#%%\n"
    }
   }
  },
  {
   "cell_type": "markdown",
   "source": [
    "**&rarr; About 3693 reactions are not catalyzed by a microbe in this database as we can't find a corresponding microbe gene. It seems as if the genes from reactions that could not be matched are human (or from another animal)**"
   ],
   "metadata": {
    "collapsed": false,
    "pycharm": {
     "name": "#%% md\n"
    }
   }
  },
  {
   "cell_type": "code",
   "execution_count": null,
   "metadata": {
    "pycharm": {
     "name": "#%%\n"
    }
   },
   "outputs": [],
   "source": []
  }
 ],
 "metadata": {
  "kernelspec": {
   "display_name": "Python 3",
   "language": "python",
   "name": "python3"
  },
  "language_info": {
   "codemirror_mode": {
    "name": "ipython",
    "version": 3
   },
   "file_extension": ".py",
   "mimetype": "text/x-python",
   "name": "python",
   "nbconvert_exporter": "python",
   "pygments_lexer": "ipython3",
   "version": "3.7.7"
  }
 },
 "nbformat": 4,
 "nbformat_minor": 4
}