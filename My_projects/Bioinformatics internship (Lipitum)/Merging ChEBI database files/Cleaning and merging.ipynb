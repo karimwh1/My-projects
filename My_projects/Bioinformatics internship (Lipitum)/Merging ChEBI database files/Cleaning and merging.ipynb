{
 "cells": [
  {
   "cell_type": "code",
   "execution_count": 1,
   "metadata": {
    "collapsed": true
   },
   "outputs": [],
   "source": [
    "import pandas as pd"
   ]
  },
  {
   "cell_type": "code",
   "execution_count": 2,
   "outputs": [],
   "source": [
    "chebild_inchi = pd.read_csv('chebiId_inchi_3star.tsv',sep='\\t')\n",
    "chebild_compounds = pd.read_csv('compounds_3star.tsv',sep='\\t',low_memory=False)\n",
    "chebild_accession = pd.read_csv('database_accession_3star.tsv',sep='\\t')\n",
    "chebild_names = pd.read_csv('names_3star.tsv',sep='\\t')"
   ],
   "metadata": {
    "collapsed": false
   }
  },
  {
   "cell_type": "markdown",
   "source": [
    "# Cleaning the chebild inchi string database."
   ],
   "metadata": {
    "collapsed": false
   }
  },
  {
   "cell_type": "code",
   "execution_count": 3,
   "outputs": [],
   "source": [
    "chebild_inchi.columns = chebild_inchi.columns.str.lower()"
   ],
   "metadata": {
    "collapsed": false
   }
  },
  {
   "cell_type": "code",
   "execution_count": 4,
   "outputs": [
    {
     "data": {
      "text/plain": "2"
     },
     "execution_count": 4,
     "metadata": {},
     "output_type": "execute_result"
    }
   ],
   "source": [
    "chebild_inchi.duplicated().sum()"
   ],
   "metadata": {
    "collapsed": false
   }
  },
  {
   "cell_type": "code",
   "execution_count": 5,
   "outputs": [],
   "source": [
    "chebild_inchi.drop_duplicates(inplace=True)"
   ],
   "metadata": {
    "collapsed": false
   }
  },
  {
   "cell_type": "code",
   "execution_count": 6,
   "outputs": [],
   "source": [
    "chebild_inchi.head()\n",
    "chebild_inchi.rename(columns={'inchi':'inchi_string'},inplace=True)"
   ],
   "metadata": {
    "collapsed": false
   }
  },
  {
   "cell_type": "code",
   "execution_count": 7,
   "outputs": [
    {
     "data": {
      "text/plain": "   chebi_id                                       inchi_string\n0        90  InChI=1S/C15H14O6/c16-8-4-11(18)9-6-13(20)15(2...\n1       165  InChI=1S/C10H16O/c1-9(2)7-4-5-10(3,6-7)8(9)11/...\n2       776  InChI=1S/C18H22O3/c1-18-7-6-13-12-5-3-11(19)8-...\n3       943    InChI=1S/C7H3Cl2N/c8-6-2-1-3-7(9)5(6)4-10/h1-3H\n4      1148  InChI=1S/C4H8O3/c1-2-3(5)4(6)7/h3,5H,2H2,1H3,(...",
      "text/html": "<div>\n<style scoped>\n    .dataframe tbody tr th:only-of-type {\n        vertical-align: middle;\n    }\n\n    .dataframe tbody tr th {\n        vertical-align: top;\n    }\n\n    .dataframe thead th {\n        text-align: right;\n    }\n</style>\n<table border=\"1\" class=\"dataframe\">\n  <thead>\n    <tr style=\"text-align: right;\">\n      <th></th>\n      <th>chebi_id</th>\n      <th>inchi_string</th>\n    </tr>\n  </thead>\n  <tbody>\n    <tr>\n      <th>0</th>\n      <td>90</td>\n      <td>InChI=1S/C15H14O6/c16-8-4-11(18)9-6-13(20)15(2...</td>\n    </tr>\n    <tr>\n      <th>1</th>\n      <td>165</td>\n      <td>InChI=1S/C10H16O/c1-9(2)7-4-5-10(3,6-7)8(9)11/...</td>\n    </tr>\n    <tr>\n      <th>2</th>\n      <td>776</td>\n      <td>InChI=1S/C18H22O3/c1-18-7-6-13-12-5-3-11(19)8-...</td>\n    </tr>\n    <tr>\n      <th>3</th>\n      <td>943</td>\n      <td>InChI=1S/C7H3Cl2N/c8-6-2-1-3-7(9)5(6)4-10/h1-3H</td>\n    </tr>\n    <tr>\n      <th>4</th>\n      <td>1148</td>\n      <td>InChI=1S/C4H8O3/c1-2-3(5)4(6)7/h3,5H,2H2,1H3,(...</td>\n    </tr>\n  </tbody>\n</table>\n</div>"
     },
     "execution_count": 7,
     "metadata": {},
     "output_type": "execute_result"
    }
   ],
   "source": [
    "chebild_inchi.head()"
   ],
   "metadata": {
    "collapsed": false
   }
  },
  {
   "cell_type": "markdown",
   "source": [
    "# Cleaning compounds dataset"
   ],
   "metadata": {
    "collapsed": false
   }
  },
  {
   "cell_type": "code",
   "execution_count": 10,
   "outputs": [
    {
     "data": {
      "text/plain": "     ID STATUS CHEBI_ACCESSION         SOURCE  PARENT_ID          NAME  \\\n0  4798      C      CHEBI:4798  KEGG COMPOUND        NaN    entacapone   \n1  2341      C      CHEBI:2341  KEGG COMPOUND        NaN       AACOCF3   \n2  3223      C      CHEBI:3223  KEGG COMPOUND        NaN     buspirone   \n3  8028      C      CHEBI:8028  KEGG COMPOUND        NaN  perphenazine   \n4  3423      C      CHEBI:3423  KEGG COMPOUND        NaN    carmustine   \n\n                                          DEFINITION MODIFIED_ON CREATED_BY  \\\n0  A monocarboxylic acid amide that is N,N-diethy...  2017-02-22      CHEBI   \n1  A fatty acid derivative that is arachidonic ac...  2015-01-22      CHEBI   \n2  An azaspiro compound that is 8-azaspiro[4.5]de...  2018-02-21      CHEBI   \n3  A phenothiazine derivative in which the phenot...  2017-02-22      CHEBI   \n4  A member of the class of N-nitrosoureas that i...  2017-02-22      CHEBI   \n\n   STAR  \n0     3  \n1     3  \n2     3  \n3     3  \n4     3  ",
      "text/html": "<div>\n<style scoped>\n    .dataframe tbody tr th:only-of-type {\n        vertical-align: middle;\n    }\n\n    .dataframe tbody tr th {\n        vertical-align: top;\n    }\n\n    .dataframe thead th {\n        text-align: right;\n    }\n</style>\n<table border=\"1\" class=\"dataframe\">\n  <thead>\n    <tr style=\"text-align: right;\">\n      <th></th>\n      <th>ID</th>\n      <th>STATUS</th>\n      <th>CHEBI_ACCESSION</th>\n      <th>SOURCE</th>\n      <th>PARENT_ID</th>\n      <th>NAME</th>\n      <th>DEFINITION</th>\n      <th>MODIFIED_ON</th>\n      <th>CREATED_BY</th>\n      <th>STAR</th>\n    </tr>\n  </thead>\n  <tbody>\n    <tr>\n      <th>0</th>\n      <td>4798</td>\n      <td>C</td>\n      <td>CHEBI:4798</td>\n      <td>KEGG COMPOUND</td>\n      <td>NaN</td>\n      <td>entacapone</td>\n      <td>A monocarboxylic acid amide that is N,N-diethy...</td>\n      <td>2017-02-22</td>\n      <td>CHEBI</td>\n      <td>3</td>\n    </tr>\n    <tr>\n      <th>1</th>\n      <td>2341</td>\n      <td>C</td>\n      <td>CHEBI:2341</td>\n      <td>KEGG COMPOUND</td>\n      <td>NaN</td>\n      <td>AACOCF3</td>\n      <td>A fatty acid derivative that is arachidonic ac...</td>\n      <td>2015-01-22</td>\n      <td>CHEBI</td>\n      <td>3</td>\n    </tr>\n    <tr>\n      <th>2</th>\n      <td>3223</td>\n      <td>C</td>\n      <td>CHEBI:3223</td>\n      <td>KEGG COMPOUND</td>\n      <td>NaN</td>\n      <td>buspirone</td>\n      <td>An azaspiro compound that is 8-azaspiro[4.5]de...</td>\n      <td>2018-02-21</td>\n      <td>CHEBI</td>\n      <td>3</td>\n    </tr>\n    <tr>\n      <th>3</th>\n      <td>8028</td>\n      <td>C</td>\n      <td>CHEBI:8028</td>\n      <td>KEGG COMPOUND</td>\n      <td>NaN</td>\n      <td>perphenazine</td>\n      <td>A phenothiazine derivative in which the phenot...</td>\n      <td>2017-02-22</td>\n      <td>CHEBI</td>\n      <td>3</td>\n    </tr>\n    <tr>\n      <th>4</th>\n      <td>3423</td>\n      <td>C</td>\n      <td>CHEBI:3423</td>\n      <td>KEGG COMPOUND</td>\n      <td>NaN</td>\n      <td>carmustine</td>\n      <td>A member of the class of N-nitrosoureas that i...</td>\n      <td>2017-02-22</td>\n      <td>CHEBI</td>\n      <td>3</td>\n    </tr>\n  </tbody>\n</table>\n</div>"
     },
     "execution_count": 10,
     "metadata": {},
     "output_type": "execute_result"
    }
   ],
   "source": [
    "chebild_compounds.head()"
   ],
   "metadata": {
    "collapsed": false
   }
  },
  {
   "cell_type": "code",
   "execution_count": 11,
   "outputs": [],
   "source": [
    "chebild_compounds.columns =chebild_compounds.columns.str.lower()"
   ],
   "metadata": {
    "collapsed": false
   }
  },
  {
   "cell_type": "code",
   "execution_count": 12,
   "outputs": [
    {
     "data": {
      "text/plain": "     id status chebi_accession         source  parent_id          name  \\\n0  4798      C      CHEBI:4798  KEGG COMPOUND        NaN    entacapone   \n1  2341      C      CHEBI:2341  KEGG COMPOUND        NaN       AACOCF3   \n2  3223      C      CHEBI:3223  KEGG COMPOUND        NaN     buspirone   \n3  8028      C      CHEBI:8028  KEGG COMPOUND        NaN  perphenazine   \n4  3423      C      CHEBI:3423  KEGG COMPOUND        NaN    carmustine   \n\n                                          definition modified_on created_by  \\\n0  A monocarboxylic acid amide that is N,N-diethy...  2017-02-22      CHEBI   \n1  A fatty acid derivative that is arachidonic ac...  2015-01-22      CHEBI   \n2  An azaspiro compound that is 8-azaspiro[4.5]de...  2018-02-21      CHEBI   \n3  A phenothiazine derivative in which the phenot...  2017-02-22      CHEBI   \n4  A member of the class of N-nitrosoureas that i...  2017-02-22      CHEBI   \n\n   star  \n0     3  \n1     3  \n2     3  \n3     3  \n4     3  ",
      "text/html": "<div>\n<style scoped>\n    .dataframe tbody tr th:only-of-type {\n        vertical-align: middle;\n    }\n\n    .dataframe tbody tr th {\n        vertical-align: top;\n    }\n\n    .dataframe thead th {\n        text-align: right;\n    }\n</style>\n<table border=\"1\" class=\"dataframe\">\n  <thead>\n    <tr style=\"text-align: right;\">\n      <th></th>\n      <th>id</th>\n      <th>status</th>\n      <th>chebi_accession</th>\n      <th>source</th>\n      <th>parent_id</th>\n      <th>name</th>\n      <th>definition</th>\n      <th>modified_on</th>\n      <th>created_by</th>\n      <th>star</th>\n    </tr>\n  </thead>\n  <tbody>\n    <tr>\n      <th>0</th>\n      <td>4798</td>\n      <td>C</td>\n      <td>CHEBI:4798</td>\n      <td>KEGG COMPOUND</td>\n      <td>NaN</td>\n      <td>entacapone</td>\n      <td>A monocarboxylic acid amide that is N,N-diethy...</td>\n      <td>2017-02-22</td>\n      <td>CHEBI</td>\n      <td>3</td>\n    </tr>\n    <tr>\n      <th>1</th>\n      <td>2341</td>\n      <td>C</td>\n      <td>CHEBI:2341</td>\n      <td>KEGG COMPOUND</td>\n      <td>NaN</td>\n      <td>AACOCF3</td>\n      <td>A fatty acid derivative that is arachidonic ac...</td>\n      <td>2015-01-22</td>\n      <td>CHEBI</td>\n      <td>3</td>\n    </tr>\n    <tr>\n      <th>2</th>\n      <td>3223</td>\n      <td>C</td>\n      <td>CHEBI:3223</td>\n      <td>KEGG COMPOUND</td>\n      <td>NaN</td>\n      <td>buspirone</td>\n      <td>An azaspiro compound that is 8-azaspiro[4.5]de...</td>\n      <td>2018-02-21</td>\n      <td>CHEBI</td>\n      <td>3</td>\n    </tr>\n    <tr>\n      <th>3</th>\n      <td>8028</td>\n      <td>C</td>\n      <td>CHEBI:8028</td>\n      <td>KEGG COMPOUND</td>\n      <td>NaN</td>\n      <td>perphenazine</td>\n      <td>A phenothiazine derivative in which the phenot...</td>\n      <td>2017-02-22</td>\n      <td>CHEBI</td>\n      <td>3</td>\n    </tr>\n    <tr>\n      <th>4</th>\n      <td>3423</td>\n      <td>C</td>\n      <td>CHEBI:3423</td>\n      <td>KEGG COMPOUND</td>\n      <td>NaN</td>\n      <td>carmustine</td>\n      <td>A member of the class of N-nitrosoureas that i...</td>\n      <td>2017-02-22</td>\n      <td>CHEBI</td>\n      <td>3</td>\n    </tr>\n  </tbody>\n</table>\n</div>"
     },
     "execution_count": 12,
     "metadata": {},
     "output_type": "execute_result"
    }
   ],
   "source": [
    "chebild_compounds.head()"
   ],
   "metadata": {
    "collapsed": false
   }
  },
  {
   "cell_type": "code",
   "execution_count": 13,
   "outputs": [],
   "source": [
    "chebild_compounds.drop(columns={'status','chebi_accession','parent_id','modified_on','created_by','star'},inplace=True)"
   ],
   "metadata": {
    "collapsed": false
   }
  },
  {
   "cell_type": "code",
   "execution_count": 14,
   "outputs": [
    {
     "data": {
      "text/plain": "     id         source          name  \\\n0  4798  KEGG COMPOUND    entacapone   \n1  2341  KEGG COMPOUND       AACOCF3   \n2  3223  KEGG COMPOUND     buspirone   \n3  8028  KEGG COMPOUND  perphenazine   \n4  3423  KEGG COMPOUND    carmustine   \n\n                                          definition  \n0  A monocarboxylic acid amide that is N,N-diethy...  \n1  A fatty acid derivative that is arachidonic ac...  \n2  An azaspiro compound that is 8-azaspiro[4.5]de...  \n3  A phenothiazine derivative in which the phenot...  \n4  A member of the class of N-nitrosoureas that i...  ",
      "text/html": "<div>\n<style scoped>\n    .dataframe tbody tr th:only-of-type {\n        vertical-align: middle;\n    }\n\n    .dataframe tbody tr th {\n        vertical-align: top;\n    }\n\n    .dataframe thead th {\n        text-align: right;\n    }\n</style>\n<table border=\"1\" class=\"dataframe\">\n  <thead>\n    <tr style=\"text-align: right;\">\n      <th></th>\n      <th>id</th>\n      <th>source</th>\n      <th>name</th>\n      <th>definition</th>\n    </tr>\n  </thead>\n  <tbody>\n    <tr>\n      <th>0</th>\n      <td>4798</td>\n      <td>KEGG COMPOUND</td>\n      <td>entacapone</td>\n      <td>A monocarboxylic acid amide that is N,N-diethy...</td>\n    </tr>\n    <tr>\n      <th>1</th>\n      <td>2341</td>\n      <td>KEGG COMPOUND</td>\n      <td>AACOCF3</td>\n      <td>A fatty acid derivative that is arachidonic ac...</td>\n    </tr>\n    <tr>\n      <th>2</th>\n      <td>3223</td>\n      <td>KEGG COMPOUND</td>\n      <td>buspirone</td>\n      <td>An azaspiro compound that is 8-azaspiro[4.5]de...</td>\n    </tr>\n    <tr>\n      <th>3</th>\n      <td>8028</td>\n      <td>KEGG COMPOUND</td>\n      <td>perphenazine</td>\n      <td>A phenothiazine derivative in which the phenot...</td>\n    </tr>\n    <tr>\n      <th>4</th>\n      <td>3423</td>\n      <td>KEGG COMPOUND</td>\n      <td>carmustine</td>\n      <td>A member of the class of N-nitrosoureas that i...</td>\n    </tr>\n  </tbody>\n</table>\n</div>"
     },
     "execution_count": 14,
     "metadata": {},
     "output_type": "execute_result"
    }
   ],
   "source": [
    "chebild_compounds.head()"
   ],
   "metadata": {
    "collapsed": false
   }
  },
  {
   "cell_type": "code",
   "execution_count": 15,
   "outputs": [],
   "source": [
    "chebild_compounds.rename(columns={'id':'chebi_id'},inplace=True)"
   ],
   "metadata": {
    "collapsed": false
   }
  },
  {
   "cell_type": "code",
   "execution_count": 16,
   "outputs": [
    {
     "data": {
      "text/plain": "   chebi_id         source          name  \\\n0      4798  KEGG COMPOUND    entacapone   \n1      2341  KEGG COMPOUND       AACOCF3   \n2      3223  KEGG COMPOUND     buspirone   \n3      8028  KEGG COMPOUND  perphenazine   \n4      3423  KEGG COMPOUND    carmustine   \n\n                                          definition  \n0  A monocarboxylic acid amide that is N,N-diethy...  \n1  A fatty acid derivative that is arachidonic ac...  \n2  An azaspiro compound that is 8-azaspiro[4.5]de...  \n3  A phenothiazine derivative in which the phenot...  \n4  A member of the class of N-nitrosoureas that i...  ",
      "text/html": "<div>\n<style scoped>\n    .dataframe tbody tr th:only-of-type {\n        vertical-align: middle;\n    }\n\n    .dataframe tbody tr th {\n        vertical-align: top;\n    }\n\n    .dataframe thead th {\n        text-align: right;\n    }\n</style>\n<table border=\"1\" class=\"dataframe\">\n  <thead>\n    <tr style=\"text-align: right;\">\n      <th></th>\n      <th>chebi_id</th>\n      <th>source</th>\n      <th>name</th>\n      <th>definition</th>\n    </tr>\n  </thead>\n  <tbody>\n    <tr>\n      <th>0</th>\n      <td>4798</td>\n      <td>KEGG COMPOUND</td>\n      <td>entacapone</td>\n      <td>A monocarboxylic acid amide that is N,N-diethy...</td>\n    </tr>\n    <tr>\n      <th>1</th>\n      <td>2341</td>\n      <td>KEGG COMPOUND</td>\n      <td>AACOCF3</td>\n      <td>A fatty acid derivative that is arachidonic ac...</td>\n    </tr>\n    <tr>\n      <th>2</th>\n      <td>3223</td>\n      <td>KEGG COMPOUND</td>\n      <td>buspirone</td>\n      <td>An azaspiro compound that is 8-azaspiro[4.5]de...</td>\n    </tr>\n    <tr>\n      <th>3</th>\n      <td>8028</td>\n      <td>KEGG COMPOUND</td>\n      <td>perphenazine</td>\n      <td>A phenothiazine derivative in which the phenot...</td>\n    </tr>\n    <tr>\n      <th>4</th>\n      <td>3423</td>\n      <td>KEGG COMPOUND</td>\n      <td>carmustine</td>\n      <td>A member of the class of N-nitrosoureas that i...</td>\n    </tr>\n  </tbody>\n</table>\n</div>"
     },
     "execution_count": 16,
     "metadata": {},
     "output_type": "execute_result"
    }
   ],
   "source": [
    "chebild_compounds.head()"
   ],
   "metadata": {
    "collapsed": false
   }
  },
  {
   "cell_type": "markdown",
   "source": [
    "# Cleaning accession dataset."
   ],
   "metadata": {
    "collapsed": false
   }
  },
  {
   "cell_type": "code",
   "execution_count": 20,
   "outputs": [
    {
     "data": {
      "text/plain": "      ID  COMPOUND_ID         SOURCE                     TYPE ACCESSION_NUMBER\n0  15233        27531  KEGG COMPOUND  KEGG COMPOUND accession           C06095\n1  15256        67986  KEGG COMPOUND  KEGG COMPOUND accession           C08945\n2  15257        67986  KEGG COMPOUND      CAS Registry Number       52286-58-5\n3  15296         5381  KEGG COMPOUND  KEGG COMPOUND accession           C09753\n4  15297         5381  KEGG COMPOUND      CAS Registry Number       87440-56-0",
      "text/html": "<div>\n<style scoped>\n    .dataframe tbody tr th:only-of-type {\n        vertical-align: middle;\n    }\n\n    .dataframe tbody tr th {\n        vertical-align: top;\n    }\n\n    .dataframe thead th {\n        text-align: right;\n    }\n</style>\n<table border=\"1\" class=\"dataframe\">\n  <thead>\n    <tr style=\"text-align: right;\">\n      <th></th>\n      <th>ID</th>\n      <th>COMPOUND_ID</th>\n      <th>SOURCE</th>\n      <th>TYPE</th>\n      <th>ACCESSION_NUMBER</th>\n    </tr>\n  </thead>\n  <tbody>\n    <tr>\n      <th>0</th>\n      <td>15233</td>\n      <td>27531</td>\n      <td>KEGG COMPOUND</td>\n      <td>KEGG COMPOUND accession</td>\n      <td>C06095</td>\n    </tr>\n    <tr>\n      <th>1</th>\n      <td>15256</td>\n      <td>67986</td>\n      <td>KEGG COMPOUND</td>\n      <td>KEGG COMPOUND accession</td>\n      <td>C08945</td>\n    </tr>\n    <tr>\n      <th>2</th>\n      <td>15257</td>\n      <td>67986</td>\n      <td>KEGG COMPOUND</td>\n      <td>CAS Registry Number</td>\n      <td>52286-58-5</td>\n    </tr>\n    <tr>\n      <th>3</th>\n      <td>15296</td>\n      <td>5381</td>\n      <td>KEGG COMPOUND</td>\n      <td>KEGG COMPOUND accession</td>\n      <td>C09753</td>\n    </tr>\n    <tr>\n      <th>4</th>\n      <td>15297</td>\n      <td>5381</td>\n      <td>KEGG COMPOUND</td>\n      <td>CAS Registry Number</td>\n      <td>87440-56-0</td>\n    </tr>\n  </tbody>\n</table>\n</div>"
     },
     "execution_count": 20,
     "metadata": {},
     "output_type": "execute_result"
    }
   ],
   "source": [
    "chebild_accession.head()"
   ],
   "metadata": {
    "collapsed": false
   }
  },
  {
   "cell_type": "code",
   "execution_count": 21,
   "outputs": [
    {
     "data": {
      "text/plain": "ID                  214526\nCOMPOUND_ID          42241\nSOURCE                  41\nTYPE                    44\nACCESSION_NUMBER    173685\ndtype: int64"
     },
     "execution_count": 21,
     "metadata": {},
     "output_type": "execute_result"
    }
   ],
   "source": [
    "chebild_accession.nunique()"
   ],
   "metadata": {
    "collapsed": false
   }
  },
  {
   "cell_type": "code",
   "execution_count": 22,
   "outputs": [
    {
     "data": {
      "text/plain": "array(['KEGG COMPOUND accession', 'CAS Registry Number',\n       'GlyTouCan accession', 'FooDB accession', 'MetaCyc accession',\n       'Chemspider accession', 'HMDB accession', 'LINCS accession',\n       'UM-BBD compID', 'Beilstein Registry Number',\n       'LIPID MAPS instance accession', 'KEGG DRUG accession',\n       'Gmelin Registry Number', 'PDBeChem accession',\n       'KEGG GLYCAN accession', 'Wikipedia accession',\n       'DrugBank accession', 'MolBase accession', 'COMe accession',\n       'RESID accession', 'LIPID MAPS class accession',\n       'Reaxys Registry Number', 'PDB accession', 'Patent accession',\n       'WebElements accession', 'KNApSAcK accession', 'PubMed citation',\n       'Agricola citation', 'Chinese Abstracts citation',\n       'PubMed Central citation', 'CiteXplore citation', 'YMDB accession',\n       'ECMDB accession', 'Pesticides accession', 'SMID accession',\n       'Pubchem accession', 'ChemIDplus accession',\n       'Drug Central accession', 'FAO/WHO standards accession',\n       'PPDB accession', 'VSDB accession', 'BPDB accession', 'PPR',\n       'GlyGen accession'], dtype=object)"
     },
     "execution_count": 22,
     "metadata": {},
     "output_type": "execute_result"
    }
   ],
   "source": [
    "chebild_accession['TYPE'].unique()\n"
   ],
   "metadata": {
    "collapsed": false
   }
  },
  {
   "cell_type": "code",
   "execution_count": 23,
   "outputs": [],
   "source": [
    "chebild_accession.drop(columns={'SOURCE'},inplace=True)"
   ],
   "metadata": {
    "collapsed": false
   }
  },
  {
   "cell_type": "code",
   "execution_count": 24,
   "outputs": [],
   "source": [
    "chebild_accession.columns = chebild_accession.columns.str.lower()"
   ],
   "metadata": {
    "collapsed": false
   }
  },
  {
   "cell_type": "code",
   "execution_count": 25,
   "outputs": [
    {
     "data": {
      "text/plain": "0"
     },
     "execution_count": 25,
     "metadata": {},
     "output_type": "execute_result"
    }
   ],
   "source": [
    "chebild_accession.duplicated().sum()"
   ],
   "metadata": {
    "collapsed": false
   }
  },
  {
   "cell_type": "code",
   "execution_count": 26,
   "outputs": [
    {
     "data": {
      "text/plain": "      id  compound_id                     type accession_number\n0  15233        27531  KEGG COMPOUND accession           C06095\n1  15256        67986  KEGG COMPOUND accession           C08945\n2  15257        67986      CAS Registry Number       52286-58-5\n3  15296         5381  KEGG COMPOUND accession           C09753\n4  15297         5381      CAS Registry Number       87440-56-0",
      "text/html": "<div>\n<style scoped>\n    .dataframe tbody tr th:only-of-type {\n        vertical-align: middle;\n    }\n\n    .dataframe tbody tr th {\n        vertical-align: top;\n    }\n\n    .dataframe thead th {\n        text-align: right;\n    }\n</style>\n<table border=\"1\" class=\"dataframe\">\n  <thead>\n    <tr style=\"text-align: right;\">\n      <th></th>\n      <th>id</th>\n      <th>compound_id</th>\n      <th>type</th>\n      <th>accession_number</th>\n    </tr>\n  </thead>\n  <tbody>\n    <tr>\n      <th>0</th>\n      <td>15233</td>\n      <td>27531</td>\n      <td>KEGG COMPOUND accession</td>\n      <td>C06095</td>\n    </tr>\n    <tr>\n      <th>1</th>\n      <td>15256</td>\n      <td>67986</td>\n      <td>KEGG COMPOUND accession</td>\n      <td>C08945</td>\n    </tr>\n    <tr>\n      <th>2</th>\n      <td>15257</td>\n      <td>67986</td>\n      <td>CAS Registry Number</td>\n      <td>52286-58-5</td>\n    </tr>\n    <tr>\n      <th>3</th>\n      <td>15296</td>\n      <td>5381</td>\n      <td>KEGG COMPOUND accession</td>\n      <td>C09753</td>\n    </tr>\n    <tr>\n      <th>4</th>\n      <td>15297</td>\n      <td>5381</td>\n      <td>CAS Registry Number</td>\n      <td>87440-56-0</td>\n    </tr>\n  </tbody>\n</table>\n</div>"
     },
     "execution_count": 26,
     "metadata": {},
     "output_type": "execute_result"
    }
   ],
   "source": [
    "chebild_accession.head()"
   ],
   "metadata": {
    "collapsed": false
   }
  },
  {
   "cell_type": "markdown",
   "source": [
    "proving that compound_id is chebi id"
   ],
   "metadata": {
    "collapsed": false
   }
  },
  {
   "cell_type": "code",
   "execution_count": 27,
   "outputs": [
    {
     "data": {
      "text/plain": "True    214526\nName: compound_id, dtype: int64"
     },
     "execution_count": 27,
     "metadata": {},
     "output_type": "execute_result"
    }
   ],
   "source": [
    "chebild_accession['compound_id'].isin(chebild_compounds['chebi_id']).value_counts()"
   ],
   "metadata": {
    "collapsed": false
   }
  },
  {
   "cell_type": "code",
   "execution_count": 28,
   "outputs": [],
   "source": [
    "chebild_accession.drop(columns={'id'},inplace=True)"
   ],
   "metadata": {
    "collapsed": false
   }
  },
  {
   "cell_type": "code",
   "execution_count": 29,
   "outputs": [],
   "source": [
    "chebild_accession.rename(columns={'compound_id':'chebi_id'},inplace=True)"
   ],
   "metadata": {
    "collapsed": false
   }
  },
  {
   "cell_type": "markdown",
   "source": [
    "# Cleaning names dataset"
   ],
   "metadata": {
    "collapsed": false
   }
  },
  {
   "cell_type": "markdown",
   "source": [
    "There are duplicated rows in the compound id that corrispond to the same name with different chemical states but essentially the same compound."
   ],
   "metadata": {
    "collapsed": false
   }
  },
  {
   "cell_type": "code",
   "execution_count": 30,
   "outputs": [
    {
     "data": {
      "text/plain": "     ID  COMPOUND_ID     TYPE         SOURCE  \\\n0     2        18357  SYNONYM  KEGG COMPOUND   \n1     3        18357  SYNONYM  KEGG COMPOUND   \n2     4        18357  SYNONYM  KEGG COMPOUND   \n3     5        18357  SYNONYM  KEGG COMPOUND   \n4     9        28234  SYNONYM  KEGG COMPOUND   \n..  ...          ...      ...            ...   \n95  171          119  SYNONYM  KEGG COMPOUND   \n96  173        15412  SYNONYM  KEGG COMPOUND   \n97  174        15412  SYNONYM  KEGG COMPOUND   \n98  175          122  SYNONYM  KEGG COMPOUND   \n99  177        37600  SYNONYM  KEGG COMPOUND   \n\n                                                 NAME ADAPTED LANGUAGE  \n0                                       Noradrenaline       F       en  \n1                                     L-Noradrenaline       F       en  \n2                                      Norepinephrine       F       en  \n3                                           Arterenol       F       en  \n4   (+)-(3S,4R)-cis-3,4-Dihydroxy-3,4-dihydrofluorene       F       en  \n..                                                ...     ...      ...  \n95                                       (-)-Sympatol       F       en  \n96                                (-)-Ureidoglycolate       F       en  \n97                                (S)-Ureidoglycolate       F       en  \n98                                     (-)-Usnic acid       F       en  \n99                                     (-)-Viburnitol       F       en  \n\n[100 rows x 7 columns]",
      "text/html": "<div>\n<style scoped>\n    .dataframe tbody tr th:only-of-type {\n        vertical-align: middle;\n    }\n\n    .dataframe tbody tr th {\n        vertical-align: top;\n    }\n\n    .dataframe thead th {\n        text-align: right;\n    }\n</style>\n<table border=\"1\" class=\"dataframe\">\n  <thead>\n    <tr style=\"text-align: right;\">\n      <th></th>\n      <th>ID</th>\n      <th>COMPOUND_ID</th>\n      <th>TYPE</th>\n      <th>SOURCE</th>\n      <th>NAME</th>\n      <th>ADAPTED</th>\n      <th>LANGUAGE</th>\n    </tr>\n  </thead>\n  <tbody>\n    <tr>\n      <th>0</th>\n      <td>2</td>\n      <td>18357</td>\n      <td>SYNONYM</td>\n      <td>KEGG COMPOUND</td>\n      <td>Noradrenaline</td>\n      <td>F</td>\n      <td>en</td>\n    </tr>\n    <tr>\n      <th>1</th>\n      <td>3</td>\n      <td>18357</td>\n      <td>SYNONYM</td>\n      <td>KEGG COMPOUND</td>\n      <td>L-Noradrenaline</td>\n      <td>F</td>\n      <td>en</td>\n    </tr>\n    <tr>\n      <th>2</th>\n      <td>4</td>\n      <td>18357</td>\n      <td>SYNONYM</td>\n      <td>KEGG COMPOUND</td>\n      <td>Norepinephrine</td>\n      <td>F</td>\n      <td>en</td>\n    </tr>\n    <tr>\n      <th>3</th>\n      <td>5</td>\n      <td>18357</td>\n      <td>SYNONYM</td>\n      <td>KEGG COMPOUND</td>\n      <td>Arterenol</td>\n      <td>F</td>\n      <td>en</td>\n    </tr>\n    <tr>\n      <th>4</th>\n      <td>9</td>\n      <td>28234</td>\n      <td>SYNONYM</td>\n      <td>KEGG COMPOUND</td>\n      <td>(+)-(3S,4R)-cis-3,4-Dihydroxy-3,4-dihydrofluorene</td>\n      <td>F</td>\n      <td>en</td>\n    </tr>\n    <tr>\n      <th>...</th>\n      <td>...</td>\n      <td>...</td>\n      <td>...</td>\n      <td>...</td>\n      <td>...</td>\n      <td>...</td>\n      <td>...</td>\n    </tr>\n    <tr>\n      <th>95</th>\n      <td>171</td>\n      <td>119</td>\n      <td>SYNONYM</td>\n      <td>KEGG COMPOUND</td>\n      <td>(-)-Sympatol</td>\n      <td>F</td>\n      <td>en</td>\n    </tr>\n    <tr>\n      <th>96</th>\n      <td>173</td>\n      <td>15412</td>\n      <td>SYNONYM</td>\n      <td>KEGG COMPOUND</td>\n      <td>(-)-Ureidoglycolate</td>\n      <td>F</td>\n      <td>en</td>\n    </tr>\n    <tr>\n      <th>97</th>\n      <td>174</td>\n      <td>15412</td>\n      <td>SYNONYM</td>\n      <td>KEGG COMPOUND</td>\n      <td>(S)-Ureidoglycolate</td>\n      <td>F</td>\n      <td>en</td>\n    </tr>\n    <tr>\n      <th>98</th>\n      <td>175</td>\n      <td>122</td>\n      <td>SYNONYM</td>\n      <td>KEGG COMPOUND</td>\n      <td>(-)-Usnic acid</td>\n      <td>F</td>\n      <td>en</td>\n    </tr>\n    <tr>\n      <th>99</th>\n      <td>177</td>\n      <td>37600</td>\n      <td>SYNONYM</td>\n      <td>KEGG COMPOUND</td>\n      <td>(-)-Viburnitol</td>\n      <td>F</td>\n      <td>en</td>\n    </tr>\n  </tbody>\n</table>\n<p>100 rows × 7 columns</p>\n</div>"
     },
     "execution_count": 30,
     "metadata": {},
     "output_type": "execute_result"
    }
   ],
   "source": [
    "chebild_names.head(100)"
   ],
   "metadata": {
    "collapsed": false
   }
  },
  {
   "cell_type": "code",
   "execution_count": 31,
   "outputs": [],
   "source": [
    "chebild_names.drop_duplicates(subset='COMPOUND_ID',keep='first',inplace=True)\n"
   ],
   "metadata": {
    "collapsed": false
   }
  },
  {
   "cell_type": "code",
   "execution_count": 32,
   "outputs": [
    {
     "data": {
      "text/plain": "True     41826\nFalse    16710\nName: COMPOUND_ID, dtype: int64"
     },
     "execution_count": 32,
     "metadata": {},
     "output_type": "execute_result"
    }
   ],
   "source": [
    "chebild_names['COMPOUND_ID'].isin(chebild_accession['chebi_id']).value_counts()"
   ],
   "metadata": {
    "collapsed": false
   }
  },
  {
   "cell_type": "code",
   "execution_count": 33,
   "outputs": [],
   "source": [
    "chebild_names.columns = chebild_names.columns.str.lower()"
   ],
   "metadata": {
    "collapsed": false
   }
  },
  {
   "cell_type": "code",
   "execution_count": 34,
   "outputs": [
    {
     "data": {
      "text/plain": "    id  compound_id     type         source  \\\n0    2        18357  SYNONYM  KEGG COMPOUND   \n4    9        28234  SYNONYM  KEGG COMPOUND   \n5   11        15399  SYNONYM  KEGG COMPOUND   \n9   15        27743  SYNONYM  KEGG COMPOUND   \n10  16            7  SYNONYM  KEGG COMPOUND   \n\n                                                 name adapted language  \n0                                       Noradrenaline       F       en  \n4   (+)-(3S,4R)-cis-3,4-Dihydroxy-3,4-dihydrofluorene       F       en  \n5                                     (+)-(S)-Carvone       F       en  \n9               (+)-2,3-Dienoyl fatty acyl thioesters       F       en  \n10                                       (+)-3-Carene       F       en  ",
      "text/html": "<div>\n<style scoped>\n    .dataframe tbody tr th:only-of-type {\n        vertical-align: middle;\n    }\n\n    .dataframe tbody tr th {\n        vertical-align: top;\n    }\n\n    .dataframe thead th {\n        text-align: right;\n    }\n</style>\n<table border=\"1\" class=\"dataframe\">\n  <thead>\n    <tr style=\"text-align: right;\">\n      <th></th>\n      <th>id</th>\n      <th>compound_id</th>\n      <th>type</th>\n      <th>source</th>\n      <th>name</th>\n      <th>adapted</th>\n      <th>language</th>\n    </tr>\n  </thead>\n  <tbody>\n    <tr>\n      <th>0</th>\n      <td>2</td>\n      <td>18357</td>\n      <td>SYNONYM</td>\n      <td>KEGG COMPOUND</td>\n      <td>Noradrenaline</td>\n      <td>F</td>\n      <td>en</td>\n    </tr>\n    <tr>\n      <th>4</th>\n      <td>9</td>\n      <td>28234</td>\n      <td>SYNONYM</td>\n      <td>KEGG COMPOUND</td>\n      <td>(+)-(3S,4R)-cis-3,4-Dihydroxy-3,4-dihydrofluorene</td>\n      <td>F</td>\n      <td>en</td>\n    </tr>\n    <tr>\n      <th>5</th>\n      <td>11</td>\n      <td>15399</td>\n      <td>SYNONYM</td>\n      <td>KEGG COMPOUND</td>\n      <td>(+)-(S)-Carvone</td>\n      <td>F</td>\n      <td>en</td>\n    </tr>\n    <tr>\n      <th>9</th>\n      <td>15</td>\n      <td>27743</td>\n      <td>SYNONYM</td>\n      <td>KEGG COMPOUND</td>\n      <td>(+)-2,3-Dienoyl fatty acyl thioesters</td>\n      <td>F</td>\n      <td>en</td>\n    </tr>\n    <tr>\n      <th>10</th>\n      <td>16</td>\n      <td>7</td>\n      <td>SYNONYM</td>\n      <td>KEGG COMPOUND</td>\n      <td>(+)-3-Carene</td>\n      <td>F</td>\n      <td>en</td>\n    </tr>\n  </tbody>\n</table>\n</div>"
     },
     "execution_count": 34,
     "metadata": {},
     "output_type": "execute_result"
    }
   ],
   "source": [
    "chebild_names.head()"
   ],
   "metadata": {
    "collapsed": false
   }
  },
  {
   "cell_type": "code",
   "execution_count": 35,
   "outputs": [],
   "source": [
    "chebild_names.drop(columns={'adapted','language','id'},inplace=True)"
   ],
   "metadata": {
    "collapsed": false
   }
  },
  {
   "cell_type": "code",
   "execution_count": 36,
   "outputs": [
    {
     "data": {
      "text/plain": "array(['KEGG COMPOUND', 'ChemIDplus', 'ChEBI', 'HMDB', 'LIPID MAPS',\n       'WHO MedNet', 'KEGG DRUG', 'IUPAC', 'DrugBank',\n       'NIST Chemistry WebBook', 'UniProt', 'JCBN', 'IUBMB',\n       'Chemical Ontology', 'CBN', 'PDBeChem', 'KNApSAcK', 'COMe',\n       'UM-BBD', 'DrugCentral', 'KEGG GLYCAN', 'MolBase',\n       \"Alan Wood's Pesticides\", 'RESID', 'IUPHAR', 'MetaCyc', 'Patent',\n       'SUBMITTER', 'ChEMBL', 'PDB', 'SMID', 'LINCS', 'PubChem', 'PPDB',\n       'GlyTouCan'], dtype=object)"
     },
     "execution_count": 36,
     "metadata": {},
     "output_type": "execute_result"
    }
   ],
   "source": [
    "chebild_names['source'].unique()"
   ],
   "metadata": {
    "collapsed": false
   }
  },
  {
   "cell_type": "code",
   "execution_count": 37,
   "outputs": [
    {
     "data": {
      "text/plain": "    compound_id     type         source  \\\n0         18357  SYNONYM  KEGG COMPOUND   \n4         28234  SYNONYM  KEGG COMPOUND   \n5         15399  SYNONYM  KEGG COMPOUND   \n9         27743  SYNONYM  KEGG COMPOUND   \n10            7  SYNONYM  KEGG COMPOUND   \n\n                                                 name  \n0                                       Noradrenaline  \n4   (+)-(3S,4R)-cis-3,4-Dihydroxy-3,4-dihydrofluorene  \n5                                     (+)-(S)-Carvone  \n9               (+)-2,3-Dienoyl fatty acyl thioesters  \n10                                       (+)-3-Carene  ",
      "text/html": "<div>\n<style scoped>\n    .dataframe tbody tr th:only-of-type {\n        vertical-align: middle;\n    }\n\n    .dataframe tbody tr th {\n        vertical-align: top;\n    }\n\n    .dataframe thead th {\n        text-align: right;\n    }\n</style>\n<table border=\"1\" class=\"dataframe\">\n  <thead>\n    <tr style=\"text-align: right;\">\n      <th></th>\n      <th>compound_id</th>\n      <th>type</th>\n      <th>source</th>\n      <th>name</th>\n    </tr>\n  </thead>\n  <tbody>\n    <tr>\n      <th>0</th>\n      <td>18357</td>\n      <td>SYNONYM</td>\n      <td>KEGG COMPOUND</td>\n      <td>Noradrenaline</td>\n    </tr>\n    <tr>\n      <th>4</th>\n      <td>28234</td>\n      <td>SYNONYM</td>\n      <td>KEGG COMPOUND</td>\n      <td>(+)-(3S,4R)-cis-3,4-Dihydroxy-3,4-dihydrofluorene</td>\n    </tr>\n    <tr>\n      <th>5</th>\n      <td>15399</td>\n      <td>SYNONYM</td>\n      <td>KEGG COMPOUND</td>\n      <td>(+)-(S)-Carvone</td>\n    </tr>\n    <tr>\n      <th>9</th>\n      <td>27743</td>\n      <td>SYNONYM</td>\n      <td>KEGG COMPOUND</td>\n      <td>(+)-2,3-Dienoyl fatty acyl thioesters</td>\n    </tr>\n    <tr>\n      <th>10</th>\n      <td>7</td>\n      <td>SYNONYM</td>\n      <td>KEGG COMPOUND</td>\n      <td>(+)-3-Carene</td>\n    </tr>\n  </tbody>\n</table>\n</div>"
     },
     "execution_count": 37,
     "metadata": {},
     "output_type": "execute_result"
    }
   ],
   "source": [
    "chebild_names.head()"
   ],
   "metadata": {
    "collapsed": false
   }
  },
  {
   "cell_type": "code",
   "execution_count": 38,
   "outputs": [],
   "source": [
    "synonym = chebild_names['type']==\"SYNONYM\""
   ],
   "metadata": {
    "collapsed": false
   }
  },
  {
   "cell_type": "code",
   "execution_count": 39,
   "outputs": [],
   "source": [
    "chebild_synonym = chebild_names[synonym]"
   ],
   "metadata": {
    "collapsed": false
   }
  },
  {
   "cell_type": "code",
   "execution_count": 40,
   "outputs": [
    {
     "data": {
      "text/plain": "compound_id    31156\ntype               1\nsource            34\nname           30945\ndtype: int64"
     },
     "execution_count": 40,
     "metadata": {},
     "output_type": "execute_result"
    }
   ],
   "source": [
    "chebild_synonym.nunique()"
   ],
   "metadata": {
    "collapsed": false
   }
  },
  {
   "cell_type": "code",
   "execution_count": 45,
   "outputs": [
    {
     "name": "stderr",
     "output_type": "stream",
     "text": [
      "C:\\Users\\karim\\AppData\\Local\\Temp\\ipykernel_8512\\1888795403.py:1: SettingWithCopyWarning: \n",
      "A value is trying to be set on a copy of a slice from a DataFrame\n",
      "\n",
      "See the caveats in the documentation: https://pandas.pydata.org/pandas-docs/stable/user_guide/indexing.html#returning-a-view-versus-a-copy\n",
      "  chebild_synonym.drop(columns={'type'},inplace=True)\n"
     ]
    }
   ],
   "source": [
    "chebild_synonym.drop(columns={'type'},inplace=True)"
   ],
   "metadata": {
    "collapsed": false
   }
  },
  {
   "cell_type": "code",
   "execution_count": 42,
   "outputs": [],
   "source": [
    "chebild_synonym.head()\n",
    "chebild_synonym.to_csv('chebild_synonym.csv',index_label=False)"
   ],
   "metadata": {
    "collapsed": false
   }
  },
  {
   "cell_type": "code",
   "execution_count": 43,
   "outputs": [
    {
     "name": "stderr",
     "output_type": "stream",
     "text": [
      "C:\\Users\\karim\\AppData\\Local\\Temp\\ipykernel_8512\\3147143170.py:1: SettingWithCopyWarning: \n",
      "A value is trying to be set on a copy of a slice from a DataFrame\n",
      "\n",
      "See the caveats in the documentation: https://pandas.pydata.org/pandas-docs/stable/user_guide/indexing.html#returning-a-view-versus-a-copy\n",
      "  chebild_synonym.rename(columns={'name':'synonym'},inplace=True)\n"
     ]
    }
   ],
   "source": [
    "chebild_synonym.rename(columns={'name':'synonym'},inplace=True)"
   ],
   "metadata": {
    "collapsed": false
   }
  },
  {
   "cell_type": "code",
   "execution_count": 53,
   "outputs": [
    {
     "name": "stderr",
     "output_type": "stream",
     "text": [
      "C:\\Users\\karim\\AppData\\Local\\Temp\\ipykernel_8512\\2421267358.py:1: SettingWithCopyWarning: \n",
      "A value is trying to be set on a copy of a slice from a DataFrame\n",
      "\n",
      "See the caveats in the documentation: https://pandas.pydata.org/pandas-docs/stable/user_guide/indexing.html#returning-a-view-versus-a-copy\n",
      "  chebild_synonym.rename(columns={'compound_id':'chebi_id'},inplace=True)\n"
     ]
    }
   ],
   "source": [
    "chebild_synonym.rename(columns={'compound_id':'chebi_id'},inplace=True)"
   ],
   "metadata": {
    "collapsed": false
   }
  },
  {
   "cell_type": "code",
   "execution_count": 54,
   "outputs": [
    {
     "data": {
      "text/plain": "    chebi_id         source                                            synonym\n0      18357  KEGG COMPOUND                                      Noradrenaline\n4      28234  KEGG COMPOUND  (+)-(3S,4R)-cis-3,4-Dihydroxy-3,4-dihydrofluorene\n5      15399  KEGG COMPOUND                                    (+)-(S)-Carvone\n9      27743  KEGG COMPOUND              (+)-2,3-Dienoyl fatty acyl thioesters\n10         7  KEGG COMPOUND                                       (+)-3-Carene",
      "text/html": "<div>\n<style scoped>\n    .dataframe tbody tr th:only-of-type {\n        vertical-align: middle;\n    }\n\n    .dataframe tbody tr th {\n        vertical-align: top;\n    }\n\n    .dataframe thead th {\n        text-align: right;\n    }\n</style>\n<table border=\"1\" class=\"dataframe\">\n  <thead>\n    <tr style=\"text-align: right;\">\n      <th></th>\n      <th>chebi_id</th>\n      <th>source</th>\n      <th>synonym</th>\n    </tr>\n  </thead>\n  <tbody>\n    <tr>\n      <th>0</th>\n      <td>18357</td>\n      <td>KEGG COMPOUND</td>\n      <td>Noradrenaline</td>\n    </tr>\n    <tr>\n      <th>4</th>\n      <td>28234</td>\n      <td>KEGG COMPOUND</td>\n      <td>(+)-(3S,4R)-cis-3,4-Dihydroxy-3,4-dihydrofluorene</td>\n    </tr>\n    <tr>\n      <th>5</th>\n      <td>15399</td>\n      <td>KEGG COMPOUND</td>\n      <td>(+)-(S)-Carvone</td>\n    </tr>\n    <tr>\n      <th>9</th>\n      <td>27743</td>\n      <td>KEGG COMPOUND</td>\n      <td>(+)-2,3-Dienoyl fatty acyl thioesters</td>\n    </tr>\n    <tr>\n      <th>10</th>\n      <td>7</td>\n      <td>KEGG COMPOUND</td>\n      <td>(+)-3-Carene</td>\n    </tr>\n  </tbody>\n</table>\n</div>"
     },
     "execution_count": 54,
     "metadata": {},
     "output_type": "execute_result"
    }
   ],
   "source": [
    "chebild_synonym.head()"
   ],
   "metadata": {
    "collapsed": false
   }
  },
  {
   "cell_type": "markdown",
   "source": [
    "# Merging datasets in one file"
   ],
   "metadata": {
    "collapsed": false
   }
  },
  {
   "cell_type": "code",
   "execution_count": 55,
   "outputs": [
    {
     "data": {
      "text/plain": "   chebi_id         source          name  \\\n0      4798  KEGG COMPOUND    entacapone   \n1      2341  KEGG COMPOUND       AACOCF3   \n2      3223  KEGG COMPOUND     buspirone   \n3      8028  KEGG COMPOUND  perphenazine   \n4      3423  KEGG COMPOUND    carmustine   \n\n                                          definition  \n0  A monocarboxylic acid amide that is N,N-diethy...  \n1  A fatty acid derivative that is arachidonic ac...  \n2  An azaspiro compound that is 8-azaspiro[4.5]de...  \n3  A phenothiazine derivative in which the phenot...  \n4  A member of the class of N-nitrosoureas that i...  ",
      "text/html": "<div>\n<style scoped>\n    .dataframe tbody tr th:only-of-type {\n        vertical-align: middle;\n    }\n\n    .dataframe tbody tr th {\n        vertical-align: top;\n    }\n\n    .dataframe thead th {\n        text-align: right;\n    }\n</style>\n<table border=\"1\" class=\"dataframe\">\n  <thead>\n    <tr style=\"text-align: right;\">\n      <th></th>\n      <th>chebi_id</th>\n      <th>source</th>\n      <th>name</th>\n      <th>definition</th>\n    </tr>\n  </thead>\n  <tbody>\n    <tr>\n      <th>0</th>\n      <td>4798</td>\n      <td>KEGG COMPOUND</td>\n      <td>entacapone</td>\n      <td>A monocarboxylic acid amide that is N,N-diethy...</td>\n    </tr>\n    <tr>\n      <th>1</th>\n      <td>2341</td>\n      <td>KEGG COMPOUND</td>\n      <td>AACOCF3</td>\n      <td>A fatty acid derivative that is arachidonic ac...</td>\n    </tr>\n    <tr>\n      <th>2</th>\n      <td>3223</td>\n      <td>KEGG COMPOUND</td>\n      <td>buspirone</td>\n      <td>An azaspiro compound that is 8-azaspiro[4.5]de...</td>\n    </tr>\n    <tr>\n      <th>3</th>\n      <td>8028</td>\n      <td>KEGG COMPOUND</td>\n      <td>perphenazine</td>\n      <td>A phenothiazine derivative in which the phenot...</td>\n    </tr>\n    <tr>\n      <th>4</th>\n      <td>3423</td>\n      <td>KEGG COMPOUND</td>\n      <td>carmustine</td>\n      <td>A member of the class of N-nitrosoureas that i...</td>\n    </tr>\n  </tbody>\n</table>\n</div>"
     },
     "execution_count": 55,
     "metadata": {},
     "output_type": "execute_result"
    }
   ],
   "source": [
    "chebild_compounds.head()"
   ],
   "metadata": {
    "collapsed": false
   }
  },
  {
   "cell_type": "code",
   "execution_count": 56,
   "outputs": [
    {
     "data": {
      "text/plain": "   chebi_id                                       inchi_string\n0        90  InChI=1S/C15H14O6/c16-8-4-11(18)9-6-13(20)15(2...\n1       165  InChI=1S/C10H16O/c1-9(2)7-4-5-10(3,6-7)8(9)11/...\n2       776  InChI=1S/C18H22O3/c1-18-7-6-13-12-5-3-11(19)8-...\n3       943    InChI=1S/C7H3Cl2N/c8-6-2-1-3-7(9)5(6)4-10/h1-3H\n4      1148  InChI=1S/C4H8O3/c1-2-3(5)4(6)7/h3,5H,2H2,1H3,(...",
      "text/html": "<div>\n<style scoped>\n    .dataframe tbody tr th:only-of-type {\n        vertical-align: middle;\n    }\n\n    .dataframe tbody tr th {\n        vertical-align: top;\n    }\n\n    .dataframe thead th {\n        text-align: right;\n    }\n</style>\n<table border=\"1\" class=\"dataframe\">\n  <thead>\n    <tr style=\"text-align: right;\">\n      <th></th>\n      <th>chebi_id</th>\n      <th>inchi_string</th>\n    </tr>\n  </thead>\n  <tbody>\n    <tr>\n      <th>0</th>\n      <td>90</td>\n      <td>InChI=1S/C15H14O6/c16-8-4-11(18)9-6-13(20)15(2...</td>\n    </tr>\n    <tr>\n      <th>1</th>\n      <td>165</td>\n      <td>InChI=1S/C10H16O/c1-9(2)7-4-5-10(3,6-7)8(9)11/...</td>\n    </tr>\n    <tr>\n      <th>2</th>\n      <td>776</td>\n      <td>InChI=1S/C18H22O3/c1-18-7-6-13-12-5-3-11(19)8-...</td>\n    </tr>\n    <tr>\n      <th>3</th>\n      <td>943</td>\n      <td>InChI=1S/C7H3Cl2N/c8-6-2-1-3-7(9)5(6)4-10/h1-3H</td>\n    </tr>\n    <tr>\n      <th>4</th>\n      <td>1148</td>\n      <td>InChI=1S/C4H8O3/c1-2-3(5)4(6)7/h3,5H,2H2,1H3,(...</td>\n    </tr>\n  </tbody>\n</table>\n</div>"
     },
     "execution_count": 56,
     "metadata": {},
     "output_type": "execute_result"
    }
   ],
   "source": [
    "chebild_inchi.head()"
   ],
   "metadata": {
    "collapsed": false
   }
  },
  {
   "cell_type": "code",
   "execution_count": 57,
   "outputs": [],
   "source": [
    "compound_inchi_merge = chebild_compounds.merge(chebild_inchi,left_on='chebi_id',right_on='chebi_id',how='inner')"
   ],
   "metadata": {
    "collapsed": false
   }
  },
  {
   "cell_type": "code",
   "execution_count": 60,
   "outputs": [
    {
     "data": {
      "text/plain": "   chebi_id         source          name  \\\n0      4798  KEGG COMPOUND    entacapone   \n1      2341  KEGG COMPOUND       AACOCF3   \n2      3223  KEGG COMPOUND     buspirone   \n3      8028  KEGG COMPOUND  perphenazine   \n4      3423  KEGG COMPOUND    carmustine   \n\n                                          definition  \\\n0  A monocarboxylic acid amide that is N,N-diethy...   \n1  A fatty acid derivative that is arachidonic ac...   \n2  An azaspiro compound that is 8-azaspiro[4.5]de...   \n3  A phenothiazine derivative in which the phenot...   \n4  A member of the class of N-nitrosoureas that i...   \n\n                                        inchi_string  \n0  InChI=1S/C14H15N3O5/c1-3-16(4-2)14(20)10(8-15)...  \n1  InChI=1S/C21H31F3O/c1-2-3-4-5-6-7-8-9-10-11-12...  \n2  InChI=1S/C21H31N5O2/c27-18-16-21(6-1-2-7-21)17...  \n3  InChI=1S/C21H26ClN3OS/c22-17-6-7-21-19(16-17)2...  \n4  InChI=1S/C5H9Cl2N3O2/c6-1-3-8-5(11)10(9-12)4-2...  ",
      "text/html": "<div>\n<style scoped>\n    .dataframe tbody tr th:only-of-type {\n        vertical-align: middle;\n    }\n\n    .dataframe tbody tr th {\n        vertical-align: top;\n    }\n\n    .dataframe thead th {\n        text-align: right;\n    }\n</style>\n<table border=\"1\" class=\"dataframe\">\n  <thead>\n    <tr style=\"text-align: right;\">\n      <th></th>\n      <th>chebi_id</th>\n      <th>source</th>\n      <th>name</th>\n      <th>definition</th>\n      <th>inchi_string</th>\n    </tr>\n  </thead>\n  <tbody>\n    <tr>\n      <th>0</th>\n      <td>4798</td>\n      <td>KEGG COMPOUND</td>\n      <td>entacapone</td>\n      <td>A monocarboxylic acid amide that is N,N-diethy...</td>\n      <td>InChI=1S/C14H15N3O5/c1-3-16(4-2)14(20)10(8-15)...</td>\n    </tr>\n    <tr>\n      <th>1</th>\n      <td>2341</td>\n      <td>KEGG COMPOUND</td>\n      <td>AACOCF3</td>\n      <td>A fatty acid derivative that is arachidonic ac...</td>\n      <td>InChI=1S/C21H31F3O/c1-2-3-4-5-6-7-8-9-10-11-12...</td>\n    </tr>\n    <tr>\n      <th>2</th>\n      <td>3223</td>\n      <td>KEGG COMPOUND</td>\n      <td>buspirone</td>\n      <td>An azaspiro compound that is 8-azaspiro[4.5]de...</td>\n      <td>InChI=1S/C21H31N5O2/c27-18-16-21(6-1-2-7-21)17...</td>\n    </tr>\n    <tr>\n      <th>3</th>\n      <td>8028</td>\n      <td>KEGG COMPOUND</td>\n      <td>perphenazine</td>\n      <td>A phenothiazine derivative in which the phenot...</td>\n      <td>InChI=1S/C21H26ClN3OS/c22-17-6-7-21-19(16-17)2...</td>\n    </tr>\n    <tr>\n      <th>4</th>\n      <td>3423</td>\n      <td>KEGG COMPOUND</td>\n      <td>carmustine</td>\n      <td>A member of the class of N-nitrosoureas that i...</td>\n      <td>InChI=1S/C5H9Cl2N3O2/c6-1-3-8-5(11)10(9-12)4-2...</td>\n    </tr>\n  </tbody>\n</table>\n</div>"
     },
     "execution_count": 60,
     "metadata": {},
     "output_type": "execute_result"
    }
   ],
   "source": [
    "compound_inchi_merge.head()"
   ],
   "metadata": {
    "collapsed": false
   }
  },
  {
   "cell_type": "code",
   "execution_count": 61,
   "outputs": [],
   "source": [
    "compound_inchi_syn = compound_inchi_merge.merge(chebild_synonym,left_on=['chebi_id','source'],right_on=['chebi_id','source'],how='inner')"
   ],
   "metadata": {
    "collapsed": false
   }
  },
  {
   "cell_type": "code",
   "execution_count": 63,
   "outputs": [
    {
     "data": {
      "text/plain": "    chebi_id         source                               name  \\\n0       4798  KEGG COMPOUND                         entacapone   \n1       2341  KEGG COMPOUND                            AACOCF3   \n2       3223  KEGG COMPOUND                          buspirone   \n3       8028  KEGG COMPOUND                       perphenazine   \n4       4819  KEGG COMPOUND                        lysergamide   \n5       5672  KEGG COMPOUND                       heptan-2-one   \n6       6047  KEGG COMPOUND                     isoprothiolane   \n7       5555  KEGG COMPOUND                          guanadrel   \n8       1391  KEGG COMPOUND  3,4-methylenedioxymethamphetamine   \n9       4331  KEGG COMPOUND                          dauricine   \n10      8368  KEGG COMPOUND                        precocene I   \n11      9943  KEGG COMPOUND                        venlafaxine   \n12      9775  KEGG COMPOUND                         tubulosine   \n13      2953  KEGG COMPOUND                    azinphos-methyl   \n14      2666  KEGG COMPOUND                      amitriptyline   \n15      2440  KEGG COMPOUND                        acrovestone   \n16      8499  KEGG COMPOUND                        propranolol   \n17      5557  KEGG COMPOUND                       guanethidine   \n18       119  KEGG COMPOUND                       D-synephrine   \n19      3750  KEGG COMPOUND                         clofibrate   \n20      3764  KEGG COMPOUND                       clotrimazole   \n21      2687  KEGG COMPOUND                          amsacrine   \n22      4708  KEGG COMPOUND                          doxazosin   \n23      3687  KEGG COMPOUND                       chrysophanol   \n24      5001  KEGG COMPOUND                        fenofibrate   \n25        89  KEGG COMPOUND                       (-)-camphene   \n26      2369  KEGG COMPOUND                      abyssinone VI   \n27      2415  KEGG COMPOUND                     acetylcaranine   \n28      7735  KEGG COMPOUND                         olanzapine   \n29      2673  KEGG COMPOUND                        amobarbital   \n30      4659  KEGG COMPOUND                         disulfiram   \n31      4681  KEGG COMPOUND                         dofetilide   \n32      7856  KEGG COMPOUND                         oxybutynin   \n33      3259  KEGG COMPOUND                               CCCP   \n34      9398  KEGG COMPOUND                         tamsulosin   \n35      7852  KEGG COMPOUND                          oxycodone   \n36      7809  KEGG COMPOUND                          oxacillin   \n37      8713  KEGG COMPOUND                          quinapril   \n38     10124  KEGG COMPOUND                       zolmitriptan   \n39      5790  KEGG COMPOUND                      hydromorphone   \n40      4781  KEGG COMPOUND                            emetine   \n41      2981  KEGG COMPOUND                           baicalin   \n42      5138  KEGG COMPOUND                        fluvoxamine   \n43      4917  KEGG COMPOUND                            eugenol   \n44      3131  KEGG COMPOUND                          bithionol   \n45      2979  KEGG COMPOUND                          baicalein   \n46      9505  KEGG COMPOUND  nitro blue tetrazolium dichloride   \n47      3903  KEGG COMPOUND                          coumaphos   \n48      2674  KEGG COMPOUND                        amodiaquine   \n49      3127  KEGG COMPOUND                         bisoprolol   \n\n                                           definition  \\\n0   A monocarboxylic acid amide that is N,N-diethy...   \n1   A fatty acid derivative that is arachidonic ac...   \n2   An azaspiro compound that is 8-azaspiro[4.5]de...   \n3   A phenothiazine derivative in which the phenot...   \n4   An ergoline alkaloid comprising ergoline lacki...   \n5   A dialkyl ketone with methyl and pentyl as the...   \n6   A malonate ester that is diisopropyl malonate ...   \n7   A spiroketal resulting from the formal condens...   \n8   A member of the class of  benzodioxoles that i...   \n9   A bisbenzylisoquinoline alkaloid resulting fro...   \n10  A member of the class of chromenes that is 2H-...   \n11  A tertiary amino compound that is N,N-dimethyl...   \n12  A member of the class of beta-carbolines that ...   \n13  A member of the class of  benzotriazines that ...   \n14  An organic tricyclic compound that is 10,11-di...   \n15  A polyphenol that is isolated from Acronychia ...   \n16  A propanolamine that is propan-2-ol substitute...   \n17  A member of the class of  guanidines in which ...   \n18                    The D-enantiomer of synephrine.   \n19                 The ethyl ester of clofibric acid.   \n20  A member of the class of imidazoles that is 1H...   \n21  A sulfonamide that is N-phenylmethanesulfonami...   \n22  A member of the class of  quinazolines that is...   \n23  A trihydroxyanthraquinone that is chrysazin wi...   \n24  A chlorobenzophenone that is (4-chlorophenyl)(...   \n25  A camphene (2,2-dimethyl-3-methylenebicyclo[2....   \n26  A member of the class of chalcones that is iso...   \n27  An organic heteropentacyclic compound that is ...   \n28  A benzodiazepine that is 10H-thieno[2,3-b][1,5...   \n29  A member of the class of  barbiturates that is...   \n30  An organic disulfide that results from the for...   \n31  A tertiary amino compound that is N-ethyl-N-me...   \n32  A racemate comprising equimolar amounts of (R)...   \n33  A member of the class of monochlorobenzenes th...   \n34  A 5-(2-{[2-(2-ethoxyphenoxy)ethyl]amino}propyl...   \n35  A semisynthetic opioid of formula C18H21NO4 th...   \n36  A penicillin antibiotic carrying a 5-methyl-3-...   \n37  A member of the class of isoquinolines that is...   \n38  A member of the class of tryptamines that is N...   \n39  A  morphinane alkaloid that is a hydrogenated ...   \n40  A pyridoisoquinoline comprising emetam having ...   \n41  The glycosyloxyflavone which is the 7-O-glucur...   \n42  An oxime O-ether that is benzene substituted b...   \n43  A phenylpropanoid formally derived from guaiac...   \n44  An aryl sulfide that is diphenyl sulfide in wh...   \n45  A trihydroxyflavone with the hydroxy groups at...   \n46  An organic chloride salt having nitro blue tet...   \n47                                                NaN   \n48  A quinoline having a chloro group at the 7-pos...   \n49                                                NaN   \n\n                                         inchi_string  \\\n0   InChI=1S/C14H15N3O5/c1-3-16(4-2)14(20)10(8-15)...   \n1   InChI=1S/C21H31F3O/c1-2-3-4-5-6-7-8-9-10-11-12...   \n2   InChI=1S/C21H31N5O2/c27-18-16-21(6-1-2-7-21)17...   \n3   InChI=1S/C21H26ClN3OS/c22-17-6-7-21-19(16-17)2...   \n4   InChI=1S/C16H17N3O/c1-19-8-10(16(17)20)5-12-11...   \n5       InChI=1S/C7H14O/c1-3-4-5-6-7(2)8/h3-6H2,1-2H3   \n6   InChI=1S/C12H18O4S2/c1-7(2)15-10(13)9(11(14)16...   \n7   InChI=1S/C10H19N3O2/c11-9(12)13-6-8-7-14-10(15...   \n8   InChI=1S/C11H15NO2/c1-8(12-2)5-9-3-4-10-11(6-9...   \n9   InChI=1S/C38H44N2O6/c1-39-15-13-26-20-35(42-3)...   \n10  InChI=1S/C12H14O2/c1-12(2)7-6-9-4-5-10(13-3)8-...   \n11  InChI=1S/C17H27NO2/c1-18(2)13-16(17(19)11-5-4-...   \n12  InChI=1S/C29H37N3O3/c1-4-17-16-32-10-8-18-13-2...   \n13  InChI=1S/C10H12N3O3PS2/c1-15-17(18,16-2)19-7-1...   \n14  InChI=1S/C20H23N/c1-21(2)15-7-12-20-18-10-5-3-...   \n15  InChI=1S/C32H42O8/c1-15(2)10-12-20-27(35)23(18...   \n16  InChI=1S/C16H21NO2/c1-12(2)17-10-14(18)11-19-1...   \n17  InChI=1S/C10H22N4/c11-10(12)13-6-9-14-7-4-2-1-...   \n18  InChI=1S/C9H13NO2/c1-10-6-9(12)7-2-4-8(11)5-3-...   \n19  InChI=1S/C12H15ClO3/c1-4-15-11(14)12(2,3)16-10...   \n20  InChI=1S/C22H17ClN2/c23-21-14-8-7-13-20(21)22(...   \n21  InChI=1S/C21H19N3O3S/c1-27-20-13-14(24-28(2,25...   \n22  InChI=1S/C23H25N5O5/c1-30-18-11-14-15(12-19(18...   \n23  InChI=1S/C15H10O4/c1-7-5-9-13(11(17)6-7)15(19)...   \n24  InChI=1S/C20H21ClO4/c1-13(2)24-19(23)20(3,4)25...   \n25  InChI=1S/C10H16/c1-7-8-4-5-9(6-8)10(7,2)3/h8-9...   \n26  InChI=1S/C25H28O4/c1-16(2)5-8-19-13-18(14-20(2...   \n27  InChI=1S/C18H19NO4/c1-10(20)23-14-3-2-11-4-5-1...   \n28  InChI=1S/C17H20N4S/c1-12-11-13-16(21-9-7-20(2)...   \n29  InChI=1S/C11H18N2O3/c1-4-11(6-5-7(2)3)8(14)12-...   \n30  InChI=1S/C10H20N2S4/c1-5-11(6-2)9(13)15-16-10(...   \n31  InChI=1S/C19H27N3O5S2/c1-22(13-12-16-4-6-17(7-...   \n32  InChI=1S/C22H31NO3/c1-3-23(4-2)17-11-12-18-26-...   \n33  InChI=1S/C9H5ClN4/c10-7-2-1-3-8(4-7)13-14-9(5-...   \n34  InChI=1S/C20H28N2O5S/c1-4-26-17-7-5-6-8-18(17)...   \n35  InChI=1S/C18H21NO4/c1-19-8-7-17-14-10-3-4-12(2...   \n36  InChI=1S/C19H19N3O5S/c1-9-11(12(21-27-9)10-7-5...   \n37  InChI=1S/C25H30N2O5/c1-3-32-25(31)21(14-13-18-...   \n38  InChI=1S/C16H21N3O2/c1-19(2)6-5-12-9-17-15-4-3...   \n39  InChI=1S/C17H19NO3/c1-18-7-6-17-10-3-5-13(20)1...   \n40  InChI=1S/C29H40N2O4/c1-6-18-17-31-10-8-20-14-2...   \n41  InChI=1S/C21H18O11/c22-9-6-10(8-4-2-1-3-5-8)30...   \n42  InChI=1S/C15H21F3N2O2/c1-21-10-3-2-4-14(20-22-...   \n43  InChI=1S/C10H12O2/c1-3-4-8-5-6-9(11)10(7-8)12-...   \n44  InChI=1S/C12H6Cl4O2S/c13-5-1-7(15)11(17)9(3-5)...   \n45  InChI=1S/C15H10O5/c16-9-6-11(8-4-2-1-3-5-8)20-...   \n46  InChI=1S/C40H30N10O6.2ClH/c1-55-37-25-29(13-23...   \n47  InChI=1S/C14H16ClO5PS/c1-4-17-21(22,18-5-2)20-...   \n48  InChI=1S/C20H22ClN3O/c1-3-24(4-2)13-14-11-16(6...   \n49  InChI=1S/C18H31NO4/c1-14(2)19-11-17(20)13-23-1...   \n\n                              synonym  \n0                          Entacapone  \n1                             AACOCF3  \n2                           Buspirone  \n3                        Perphenazine  \n4                              Ergine  \n5                        Heptan-2-one  \n6                      Isoprothiolane  \n7                           Guanadrel  \n8   3,4-Methylenedioxymethamphetamine  \n9                           Dauricine  \n10                        Precocene 1  \n11                        Venlafaxine  \n12                         Tubulosine  \n13                    Azinphos methyl  \n14                      Amitriptyline  \n15                        Acrovestone  \n16                        Propranolol  \n17                       Guanethidine  \n18                       (-)-Sympatol  \n19                         Clofibrate  \n20                       Clotrimazole  \n21                          Amsacrine  \n22                          Doxazosin  \n23                       Chrysophanol  \n24                        Fenofibrate  \n25                       (-)-Comphene  \n26                      Abyssinone VI  \n27                     Acetylcaranine  \n28                         Olanzapine  \n29                        Amobarbital  \n30                         Disulfiram  \n31                         Dofetilide  \n32                         Oxybutynin  \n33                               CCCP  \n34                         Tamsulosin  \n35                          Oxycodone  \n36                          Oxacillin  \n37                          Quinapril  \n38                             311C90  \n39                      Hydromorphone  \n40                            Emetine  \n41                           Baicalin  \n42                        Fluvoxamine  \n43                            Eugenol  \n44                          Bithionol  \n45                          Baicalein  \n46             Nitro blue tetrazolium  \n47                          Coumaphos  \n48                        Amodiaquine  \n49                         Bisoprolol  ",
      "text/html": "<div>\n<style scoped>\n    .dataframe tbody tr th:only-of-type {\n        vertical-align: middle;\n    }\n\n    .dataframe tbody tr th {\n        vertical-align: top;\n    }\n\n    .dataframe thead th {\n        text-align: right;\n    }\n</style>\n<table border=\"1\" class=\"dataframe\">\n  <thead>\n    <tr style=\"text-align: right;\">\n      <th></th>\n      <th>chebi_id</th>\n      <th>source</th>\n      <th>name</th>\n      <th>definition</th>\n      <th>inchi_string</th>\n      <th>synonym</th>\n    </tr>\n  </thead>\n  <tbody>\n    <tr>\n      <th>0</th>\n      <td>4798</td>\n      <td>KEGG COMPOUND</td>\n      <td>entacapone</td>\n      <td>A monocarboxylic acid amide that is N,N-diethy...</td>\n      <td>InChI=1S/C14H15N3O5/c1-3-16(4-2)14(20)10(8-15)...</td>\n      <td>Entacapone</td>\n    </tr>\n    <tr>\n      <th>1</th>\n      <td>2341</td>\n      <td>KEGG COMPOUND</td>\n      <td>AACOCF3</td>\n      <td>A fatty acid derivative that is arachidonic ac...</td>\n      <td>InChI=1S/C21H31F3O/c1-2-3-4-5-6-7-8-9-10-11-12...</td>\n      <td>AACOCF3</td>\n    </tr>\n    <tr>\n      <th>2</th>\n      <td>3223</td>\n      <td>KEGG COMPOUND</td>\n      <td>buspirone</td>\n      <td>An azaspiro compound that is 8-azaspiro[4.5]de...</td>\n      <td>InChI=1S/C21H31N5O2/c27-18-16-21(6-1-2-7-21)17...</td>\n      <td>Buspirone</td>\n    </tr>\n    <tr>\n      <th>3</th>\n      <td>8028</td>\n      <td>KEGG COMPOUND</td>\n      <td>perphenazine</td>\n      <td>A phenothiazine derivative in which the phenot...</td>\n      <td>InChI=1S/C21H26ClN3OS/c22-17-6-7-21-19(16-17)2...</td>\n      <td>Perphenazine</td>\n    </tr>\n    <tr>\n      <th>4</th>\n      <td>4819</td>\n      <td>KEGG COMPOUND</td>\n      <td>lysergamide</td>\n      <td>An ergoline alkaloid comprising ergoline lacki...</td>\n      <td>InChI=1S/C16H17N3O/c1-19-8-10(16(17)20)5-12-11...</td>\n      <td>Ergine</td>\n    </tr>\n    <tr>\n      <th>5</th>\n      <td>5672</td>\n      <td>KEGG COMPOUND</td>\n      <td>heptan-2-one</td>\n      <td>A dialkyl ketone with methyl and pentyl as the...</td>\n      <td>InChI=1S/C7H14O/c1-3-4-5-6-7(2)8/h3-6H2,1-2H3</td>\n      <td>Heptan-2-one</td>\n    </tr>\n    <tr>\n      <th>6</th>\n      <td>6047</td>\n      <td>KEGG COMPOUND</td>\n      <td>isoprothiolane</td>\n      <td>A malonate ester that is diisopropyl malonate ...</td>\n      <td>InChI=1S/C12H18O4S2/c1-7(2)15-10(13)9(11(14)16...</td>\n      <td>Isoprothiolane</td>\n    </tr>\n    <tr>\n      <th>7</th>\n      <td>5555</td>\n      <td>KEGG COMPOUND</td>\n      <td>guanadrel</td>\n      <td>A spiroketal resulting from the formal condens...</td>\n      <td>InChI=1S/C10H19N3O2/c11-9(12)13-6-8-7-14-10(15...</td>\n      <td>Guanadrel</td>\n    </tr>\n    <tr>\n      <th>8</th>\n      <td>1391</td>\n      <td>KEGG COMPOUND</td>\n      <td>3,4-methylenedioxymethamphetamine</td>\n      <td>A member of the class of  benzodioxoles that i...</td>\n      <td>InChI=1S/C11H15NO2/c1-8(12-2)5-9-3-4-10-11(6-9...</td>\n      <td>3,4-Methylenedioxymethamphetamine</td>\n    </tr>\n    <tr>\n      <th>9</th>\n      <td>4331</td>\n      <td>KEGG COMPOUND</td>\n      <td>dauricine</td>\n      <td>A bisbenzylisoquinoline alkaloid resulting fro...</td>\n      <td>InChI=1S/C38H44N2O6/c1-39-15-13-26-20-35(42-3)...</td>\n      <td>Dauricine</td>\n    </tr>\n    <tr>\n      <th>10</th>\n      <td>8368</td>\n      <td>KEGG COMPOUND</td>\n      <td>precocene I</td>\n      <td>A member of the class of chromenes that is 2H-...</td>\n      <td>InChI=1S/C12H14O2/c1-12(2)7-6-9-4-5-10(13-3)8-...</td>\n      <td>Precocene 1</td>\n    </tr>\n    <tr>\n      <th>11</th>\n      <td>9943</td>\n      <td>KEGG COMPOUND</td>\n      <td>venlafaxine</td>\n      <td>A tertiary amino compound that is N,N-dimethyl...</td>\n      <td>InChI=1S/C17H27NO2/c1-18(2)13-16(17(19)11-5-4-...</td>\n      <td>Venlafaxine</td>\n    </tr>\n    <tr>\n      <th>12</th>\n      <td>9775</td>\n      <td>KEGG COMPOUND</td>\n      <td>tubulosine</td>\n      <td>A member of the class of beta-carbolines that ...</td>\n      <td>InChI=1S/C29H37N3O3/c1-4-17-16-32-10-8-18-13-2...</td>\n      <td>Tubulosine</td>\n    </tr>\n    <tr>\n      <th>13</th>\n      <td>2953</td>\n      <td>KEGG COMPOUND</td>\n      <td>azinphos-methyl</td>\n      <td>A member of the class of  benzotriazines that ...</td>\n      <td>InChI=1S/C10H12N3O3PS2/c1-15-17(18,16-2)19-7-1...</td>\n      <td>Azinphos methyl</td>\n    </tr>\n    <tr>\n      <th>14</th>\n      <td>2666</td>\n      <td>KEGG COMPOUND</td>\n      <td>amitriptyline</td>\n      <td>An organic tricyclic compound that is 10,11-di...</td>\n      <td>InChI=1S/C20H23N/c1-21(2)15-7-12-20-18-10-5-3-...</td>\n      <td>Amitriptyline</td>\n    </tr>\n    <tr>\n      <th>15</th>\n      <td>2440</td>\n      <td>KEGG COMPOUND</td>\n      <td>acrovestone</td>\n      <td>A polyphenol that is isolated from Acronychia ...</td>\n      <td>InChI=1S/C32H42O8/c1-15(2)10-12-20-27(35)23(18...</td>\n      <td>Acrovestone</td>\n    </tr>\n    <tr>\n      <th>16</th>\n      <td>8499</td>\n      <td>KEGG COMPOUND</td>\n      <td>propranolol</td>\n      <td>A propanolamine that is propan-2-ol substitute...</td>\n      <td>InChI=1S/C16H21NO2/c1-12(2)17-10-14(18)11-19-1...</td>\n      <td>Propranolol</td>\n    </tr>\n    <tr>\n      <th>17</th>\n      <td>5557</td>\n      <td>KEGG COMPOUND</td>\n      <td>guanethidine</td>\n      <td>A member of the class of  guanidines in which ...</td>\n      <td>InChI=1S/C10H22N4/c11-10(12)13-6-9-14-7-4-2-1-...</td>\n      <td>Guanethidine</td>\n    </tr>\n    <tr>\n      <th>18</th>\n      <td>119</td>\n      <td>KEGG COMPOUND</td>\n      <td>D-synephrine</td>\n      <td>The D-enantiomer of synephrine.</td>\n      <td>InChI=1S/C9H13NO2/c1-10-6-9(12)7-2-4-8(11)5-3-...</td>\n      <td>(-)-Sympatol</td>\n    </tr>\n    <tr>\n      <th>19</th>\n      <td>3750</td>\n      <td>KEGG COMPOUND</td>\n      <td>clofibrate</td>\n      <td>The ethyl ester of clofibric acid.</td>\n      <td>InChI=1S/C12H15ClO3/c1-4-15-11(14)12(2,3)16-10...</td>\n      <td>Clofibrate</td>\n    </tr>\n    <tr>\n      <th>20</th>\n      <td>3764</td>\n      <td>KEGG COMPOUND</td>\n      <td>clotrimazole</td>\n      <td>A member of the class of imidazoles that is 1H...</td>\n      <td>InChI=1S/C22H17ClN2/c23-21-14-8-7-13-20(21)22(...</td>\n      <td>Clotrimazole</td>\n    </tr>\n    <tr>\n      <th>21</th>\n      <td>2687</td>\n      <td>KEGG COMPOUND</td>\n      <td>amsacrine</td>\n      <td>A sulfonamide that is N-phenylmethanesulfonami...</td>\n      <td>InChI=1S/C21H19N3O3S/c1-27-20-13-14(24-28(2,25...</td>\n      <td>Amsacrine</td>\n    </tr>\n    <tr>\n      <th>22</th>\n      <td>4708</td>\n      <td>KEGG COMPOUND</td>\n      <td>doxazosin</td>\n      <td>A member of the class of  quinazolines that is...</td>\n      <td>InChI=1S/C23H25N5O5/c1-30-18-11-14-15(12-19(18...</td>\n      <td>Doxazosin</td>\n    </tr>\n    <tr>\n      <th>23</th>\n      <td>3687</td>\n      <td>KEGG COMPOUND</td>\n      <td>chrysophanol</td>\n      <td>A trihydroxyanthraquinone that is chrysazin wi...</td>\n      <td>InChI=1S/C15H10O4/c1-7-5-9-13(11(17)6-7)15(19)...</td>\n      <td>Chrysophanol</td>\n    </tr>\n    <tr>\n      <th>24</th>\n      <td>5001</td>\n      <td>KEGG COMPOUND</td>\n      <td>fenofibrate</td>\n      <td>A chlorobenzophenone that is (4-chlorophenyl)(...</td>\n      <td>InChI=1S/C20H21ClO4/c1-13(2)24-19(23)20(3,4)25...</td>\n      <td>Fenofibrate</td>\n    </tr>\n    <tr>\n      <th>25</th>\n      <td>89</td>\n      <td>KEGG COMPOUND</td>\n      <td>(-)-camphene</td>\n      <td>A camphene (2,2-dimethyl-3-methylenebicyclo[2....</td>\n      <td>InChI=1S/C10H16/c1-7-8-4-5-9(6-8)10(7,2)3/h8-9...</td>\n      <td>(-)-Comphene</td>\n    </tr>\n    <tr>\n      <th>26</th>\n      <td>2369</td>\n      <td>KEGG COMPOUND</td>\n      <td>abyssinone VI</td>\n      <td>A member of the class of chalcones that is iso...</td>\n      <td>InChI=1S/C25H28O4/c1-16(2)5-8-19-13-18(14-20(2...</td>\n      <td>Abyssinone VI</td>\n    </tr>\n    <tr>\n      <th>27</th>\n      <td>2415</td>\n      <td>KEGG COMPOUND</td>\n      <td>acetylcaranine</td>\n      <td>An organic heteropentacyclic compound that is ...</td>\n      <td>InChI=1S/C18H19NO4/c1-10(20)23-14-3-2-11-4-5-1...</td>\n      <td>Acetylcaranine</td>\n    </tr>\n    <tr>\n      <th>28</th>\n      <td>7735</td>\n      <td>KEGG COMPOUND</td>\n      <td>olanzapine</td>\n      <td>A benzodiazepine that is 10H-thieno[2,3-b][1,5...</td>\n      <td>InChI=1S/C17H20N4S/c1-12-11-13-16(21-9-7-20(2)...</td>\n      <td>Olanzapine</td>\n    </tr>\n    <tr>\n      <th>29</th>\n      <td>2673</td>\n      <td>KEGG COMPOUND</td>\n      <td>amobarbital</td>\n      <td>A member of the class of  barbiturates that is...</td>\n      <td>InChI=1S/C11H18N2O3/c1-4-11(6-5-7(2)3)8(14)12-...</td>\n      <td>Amobarbital</td>\n    </tr>\n    <tr>\n      <th>30</th>\n      <td>4659</td>\n      <td>KEGG COMPOUND</td>\n      <td>disulfiram</td>\n      <td>An organic disulfide that results from the for...</td>\n      <td>InChI=1S/C10H20N2S4/c1-5-11(6-2)9(13)15-16-10(...</td>\n      <td>Disulfiram</td>\n    </tr>\n    <tr>\n      <th>31</th>\n      <td>4681</td>\n      <td>KEGG COMPOUND</td>\n      <td>dofetilide</td>\n      <td>A tertiary amino compound that is N-ethyl-N-me...</td>\n      <td>InChI=1S/C19H27N3O5S2/c1-22(13-12-16-4-6-17(7-...</td>\n      <td>Dofetilide</td>\n    </tr>\n    <tr>\n      <th>32</th>\n      <td>7856</td>\n      <td>KEGG COMPOUND</td>\n      <td>oxybutynin</td>\n      <td>A racemate comprising equimolar amounts of (R)...</td>\n      <td>InChI=1S/C22H31NO3/c1-3-23(4-2)17-11-12-18-26-...</td>\n      <td>Oxybutynin</td>\n    </tr>\n    <tr>\n      <th>33</th>\n      <td>3259</td>\n      <td>KEGG COMPOUND</td>\n      <td>CCCP</td>\n      <td>A member of the class of monochlorobenzenes th...</td>\n      <td>InChI=1S/C9H5ClN4/c10-7-2-1-3-8(4-7)13-14-9(5-...</td>\n      <td>CCCP</td>\n    </tr>\n    <tr>\n      <th>34</th>\n      <td>9398</td>\n      <td>KEGG COMPOUND</td>\n      <td>tamsulosin</td>\n      <td>A 5-(2-{[2-(2-ethoxyphenoxy)ethyl]amino}propyl...</td>\n      <td>InChI=1S/C20H28N2O5S/c1-4-26-17-7-5-6-8-18(17)...</td>\n      <td>Tamsulosin</td>\n    </tr>\n    <tr>\n      <th>35</th>\n      <td>7852</td>\n      <td>KEGG COMPOUND</td>\n      <td>oxycodone</td>\n      <td>A semisynthetic opioid of formula C18H21NO4 th...</td>\n      <td>InChI=1S/C18H21NO4/c1-19-8-7-17-14-10-3-4-12(2...</td>\n      <td>Oxycodone</td>\n    </tr>\n    <tr>\n      <th>36</th>\n      <td>7809</td>\n      <td>KEGG COMPOUND</td>\n      <td>oxacillin</td>\n      <td>A penicillin antibiotic carrying a 5-methyl-3-...</td>\n      <td>InChI=1S/C19H19N3O5S/c1-9-11(12(21-27-9)10-7-5...</td>\n      <td>Oxacillin</td>\n    </tr>\n    <tr>\n      <th>37</th>\n      <td>8713</td>\n      <td>KEGG COMPOUND</td>\n      <td>quinapril</td>\n      <td>A member of the class of isoquinolines that is...</td>\n      <td>InChI=1S/C25H30N2O5/c1-3-32-25(31)21(14-13-18-...</td>\n      <td>Quinapril</td>\n    </tr>\n    <tr>\n      <th>38</th>\n      <td>10124</td>\n      <td>KEGG COMPOUND</td>\n      <td>zolmitriptan</td>\n      <td>A member of the class of tryptamines that is N...</td>\n      <td>InChI=1S/C16H21N3O2/c1-19(2)6-5-12-9-17-15-4-3...</td>\n      <td>311C90</td>\n    </tr>\n    <tr>\n      <th>39</th>\n      <td>5790</td>\n      <td>KEGG COMPOUND</td>\n      <td>hydromorphone</td>\n      <td>A  morphinane alkaloid that is a hydrogenated ...</td>\n      <td>InChI=1S/C17H19NO3/c1-18-7-6-17-10-3-5-13(20)1...</td>\n      <td>Hydromorphone</td>\n    </tr>\n    <tr>\n      <th>40</th>\n      <td>4781</td>\n      <td>KEGG COMPOUND</td>\n      <td>emetine</td>\n      <td>A pyridoisoquinoline comprising emetam having ...</td>\n      <td>InChI=1S/C29H40N2O4/c1-6-18-17-31-10-8-20-14-2...</td>\n      <td>Emetine</td>\n    </tr>\n    <tr>\n      <th>41</th>\n      <td>2981</td>\n      <td>KEGG COMPOUND</td>\n      <td>baicalin</td>\n      <td>The glycosyloxyflavone which is the 7-O-glucur...</td>\n      <td>InChI=1S/C21H18O11/c22-9-6-10(8-4-2-1-3-5-8)30...</td>\n      <td>Baicalin</td>\n    </tr>\n    <tr>\n      <th>42</th>\n      <td>5138</td>\n      <td>KEGG COMPOUND</td>\n      <td>fluvoxamine</td>\n      <td>An oxime O-ether that is benzene substituted b...</td>\n      <td>InChI=1S/C15H21F3N2O2/c1-21-10-3-2-4-14(20-22-...</td>\n      <td>Fluvoxamine</td>\n    </tr>\n    <tr>\n      <th>43</th>\n      <td>4917</td>\n      <td>KEGG COMPOUND</td>\n      <td>eugenol</td>\n      <td>A phenylpropanoid formally derived from guaiac...</td>\n      <td>InChI=1S/C10H12O2/c1-3-4-8-5-6-9(11)10(7-8)12-...</td>\n      <td>Eugenol</td>\n    </tr>\n    <tr>\n      <th>44</th>\n      <td>3131</td>\n      <td>KEGG COMPOUND</td>\n      <td>bithionol</td>\n      <td>An aryl sulfide that is diphenyl sulfide in wh...</td>\n      <td>InChI=1S/C12H6Cl4O2S/c13-5-1-7(15)11(17)9(3-5)...</td>\n      <td>Bithionol</td>\n    </tr>\n    <tr>\n      <th>45</th>\n      <td>2979</td>\n      <td>KEGG COMPOUND</td>\n      <td>baicalein</td>\n      <td>A trihydroxyflavone with the hydroxy groups at...</td>\n      <td>InChI=1S/C15H10O5/c16-9-6-11(8-4-2-1-3-5-8)20-...</td>\n      <td>Baicalein</td>\n    </tr>\n    <tr>\n      <th>46</th>\n      <td>9505</td>\n      <td>KEGG COMPOUND</td>\n      <td>nitro blue tetrazolium dichloride</td>\n      <td>An organic chloride salt having nitro blue tet...</td>\n      <td>InChI=1S/C40H30N10O6.2ClH/c1-55-37-25-29(13-23...</td>\n      <td>Nitro blue tetrazolium</td>\n    </tr>\n    <tr>\n      <th>47</th>\n      <td>3903</td>\n      <td>KEGG COMPOUND</td>\n      <td>coumaphos</td>\n      <td>NaN</td>\n      <td>InChI=1S/C14H16ClO5PS/c1-4-17-21(22,18-5-2)20-...</td>\n      <td>Coumaphos</td>\n    </tr>\n    <tr>\n      <th>48</th>\n      <td>2674</td>\n      <td>KEGG COMPOUND</td>\n      <td>amodiaquine</td>\n      <td>A quinoline having a chloro group at the 7-pos...</td>\n      <td>InChI=1S/C20H22ClN3O/c1-3-24(4-2)13-14-11-16(6...</td>\n      <td>Amodiaquine</td>\n    </tr>\n    <tr>\n      <th>49</th>\n      <td>3127</td>\n      <td>KEGG COMPOUND</td>\n      <td>bisoprolol</td>\n      <td>NaN</td>\n      <td>InChI=1S/C18H31NO4/c1-14(2)19-11-17(20)13-23-1...</td>\n      <td>Bisoprolol</td>\n    </tr>\n  </tbody>\n</table>\n</div>"
     },
     "execution_count": 63,
     "metadata": {},
     "output_type": "execute_result"
    }
   ],
   "source": [
    "compound_inchi_syn.head(50)"
   ],
   "metadata": {
    "collapsed": false
   }
  },
  {
   "cell_type": "code",
   "execution_count": 64,
   "outputs": [
    {
     "data": {
      "text/plain": "    chebi_id         source                                            synonym\n0      18357  KEGG COMPOUND                                      Noradrenaline\n4      28234  KEGG COMPOUND  (+)-(3S,4R)-cis-3,4-Dihydroxy-3,4-dihydrofluorene\n5      15399  KEGG COMPOUND                                    (+)-(S)-Carvone\n9      27743  KEGG COMPOUND              (+)-2,3-Dienoyl fatty acyl thioesters\n10         7  KEGG COMPOUND                                       (+)-3-Carene",
      "text/html": "<div>\n<style scoped>\n    .dataframe tbody tr th:only-of-type {\n        vertical-align: middle;\n    }\n\n    .dataframe tbody tr th {\n        vertical-align: top;\n    }\n\n    .dataframe thead th {\n        text-align: right;\n    }\n</style>\n<table border=\"1\" class=\"dataframe\">\n  <thead>\n    <tr style=\"text-align: right;\">\n      <th></th>\n      <th>chebi_id</th>\n      <th>source</th>\n      <th>synonym</th>\n    </tr>\n  </thead>\n  <tbody>\n    <tr>\n      <th>0</th>\n      <td>18357</td>\n      <td>KEGG COMPOUND</td>\n      <td>Noradrenaline</td>\n    </tr>\n    <tr>\n      <th>4</th>\n      <td>28234</td>\n      <td>KEGG COMPOUND</td>\n      <td>(+)-(3S,4R)-cis-3,4-Dihydroxy-3,4-dihydrofluorene</td>\n    </tr>\n    <tr>\n      <th>5</th>\n      <td>15399</td>\n      <td>KEGG COMPOUND</td>\n      <td>(+)-(S)-Carvone</td>\n    </tr>\n    <tr>\n      <th>9</th>\n      <td>27743</td>\n      <td>KEGG COMPOUND</td>\n      <td>(+)-2,3-Dienoyl fatty acyl thioesters</td>\n    </tr>\n    <tr>\n      <th>10</th>\n      <td>7</td>\n      <td>KEGG COMPOUND</td>\n      <td>(+)-3-Carene</td>\n    </tr>\n  </tbody>\n</table>\n</div>"
     },
     "execution_count": 64,
     "metadata": {},
     "output_type": "execute_result"
    }
   ],
   "source": [
    "chebild_synonym.head()"
   ],
   "metadata": {
    "collapsed": false
   }
  },
  {
   "cell_type": "code",
   "execution_count": 65,
   "outputs": [
    {
     "data": {
      "text/plain": "   chebi_id                     type accession_number\n0     27531  KEGG COMPOUND accession           C06095\n1     67986  KEGG COMPOUND accession           C08945\n2     67986      CAS Registry Number       52286-58-5\n3      5381  KEGG COMPOUND accession           C09753\n4      5381      CAS Registry Number       87440-56-0",
      "text/html": "<div>\n<style scoped>\n    .dataframe tbody tr th:only-of-type {\n        vertical-align: middle;\n    }\n\n    .dataframe tbody tr th {\n        vertical-align: top;\n    }\n\n    .dataframe thead th {\n        text-align: right;\n    }\n</style>\n<table border=\"1\" class=\"dataframe\">\n  <thead>\n    <tr style=\"text-align: right;\">\n      <th></th>\n      <th>chebi_id</th>\n      <th>type</th>\n      <th>accession_number</th>\n    </tr>\n  </thead>\n  <tbody>\n    <tr>\n      <th>0</th>\n      <td>27531</td>\n      <td>KEGG COMPOUND accession</td>\n      <td>C06095</td>\n    </tr>\n    <tr>\n      <th>1</th>\n      <td>67986</td>\n      <td>KEGG COMPOUND accession</td>\n      <td>C08945</td>\n    </tr>\n    <tr>\n      <th>2</th>\n      <td>67986</td>\n      <td>CAS Registry Number</td>\n      <td>52286-58-5</td>\n    </tr>\n    <tr>\n      <th>3</th>\n      <td>5381</td>\n      <td>KEGG COMPOUND accession</td>\n      <td>C09753</td>\n    </tr>\n    <tr>\n      <th>4</th>\n      <td>5381</td>\n      <td>CAS Registry Number</td>\n      <td>87440-56-0</td>\n    </tr>\n  </tbody>\n</table>\n</div>"
     },
     "execution_count": 65,
     "metadata": {},
     "output_type": "execute_result"
    }
   ],
   "source": [
    "chebild_accession.head()"
   ],
   "metadata": {
    "collapsed": false
   }
  },
  {
   "cell_type": "code",
   "execution_count": 67,
   "outputs": [
    {
     "data": {
      "text/plain": "chebi_id             42241\ntype                    44\naccession_number    173685\ndtype: int64"
     },
     "execution_count": 67,
     "metadata": {},
     "output_type": "execute_result"
    }
   ],
   "source": [
    "chebild_accession.nunique()"
   ],
   "metadata": {
    "collapsed": false
   }
  },
  {
   "cell_type": "code",
   "execution_count": 68,
   "outputs": [
    {
     "data": {
      "text/plain": "chebi_id        43934\nsource             13\nname            43934\ndefinition      37089\ninchi_string    43123\ndtype: int64"
     },
     "execution_count": 68,
     "metadata": {},
     "output_type": "execute_result"
    }
   ],
   "source": [
    "compound_inchi_merge.nunique()"
   ],
   "metadata": {
    "collapsed": false
   }
  },
  {
   "cell_type": "code",
   "execution_count": 69,
   "outputs": [],
   "source": [
    "compound_inchi_syn.head()\n",
    "compound_inchi_syn.drop(columns={'source'},inplace=True)"
   ],
   "metadata": {
    "collapsed": false
   }
  },
  {
   "cell_type": "code",
   "execution_count": 76,
   "outputs": [],
   "source": [
    "chebild_accession.drop_duplicates(subset='chebi_id',keep='first',inplace=True)"
   ],
   "metadata": {
    "collapsed": false
   }
  },
  {
   "cell_type": "code",
   "execution_count": 72,
   "outputs": [
    {
     "data": {
      "text/plain": "    chebi_id                               name  \\\n0       4798                         entacapone   \n1       2341                            AACOCF3   \n2       3223                          buspirone   \n3       8028                       perphenazine   \n4       4819                        lysergamide   \n5       5672                       heptan-2-one   \n6       6047                     isoprothiolane   \n7       5555                          guanadrel   \n8       1391  3,4-methylenedioxymethamphetamine   \n9       4331                          dauricine   \n10      8368                        precocene I   \n11      9943                        venlafaxine   \n12      9775                         tubulosine   \n13      2953                    azinphos-methyl   \n14      2666                      amitriptyline   \n15      2440                        acrovestone   \n16      8499                        propranolol   \n17      5557                       guanethidine   \n18       119                       D-synephrine   \n19      3750                         clofibrate   \n\n                                           definition  \\\n0   A monocarboxylic acid amide that is N,N-diethy...   \n1   A fatty acid derivative that is arachidonic ac...   \n2   An azaspiro compound that is 8-azaspiro[4.5]de...   \n3   A phenothiazine derivative in which the phenot...   \n4   An ergoline alkaloid comprising ergoline lacki...   \n5   A dialkyl ketone with methyl and pentyl as the...   \n6   A malonate ester that is diisopropyl malonate ...   \n7   A spiroketal resulting from the formal condens...   \n8   A member of the class of  benzodioxoles that i...   \n9   A bisbenzylisoquinoline alkaloid resulting fro...   \n10  A member of the class of chromenes that is 2H-...   \n11  A tertiary amino compound that is N,N-dimethyl...   \n12  A member of the class of beta-carbolines that ...   \n13  A member of the class of  benzotriazines that ...   \n14  An organic tricyclic compound that is 10,11-di...   \n15  A polyphenol that is isolated from Acronychia ...   \n16  A propanolamine that is propan-2-ol substitute...   \n17  A member of the class of  guanidines in which ...   \n18                    The D-enantiomer of synephrine.   \n19                 The ethyl ester of clofibric acid.   \n\n                                         inchi_string  \\\n0   InChI=1S/C14H15N3O5/c1-3-16(4-2)14(20)10(8-15)...   \n1   InChI=1S/C21H31F3O/c1-2-3-4-5-6-7-8-9-10-11-12...   \n2   InChI=1S/C21H31N5O2/c27-18-16-21(6-1-2-7-21)17...   \n3   InChI=1S/C21H26ClN3OS/c22-17-6-7-21-19(16-17)2...   \n4   InChI=1S/C16H17N3O/c1-19-8-10(16(17)20)5-12-11...   \n5       InChI=1S/C7H14O/c1-3-4-5-6-7(2)8/h3-6H2,1-2H3   \n6   InChI=1S/C12H18O4S2/c1-7(2)15-10(13)9(11(14)16...   \n7   InChI=1S/C10H19N3O2/c11-9(12)13-6-8-7-14-10(15...   \n8   InChI=1S/C11H15NO2/c1-8(12-2)5-9-3-4-10-11(6-9...   \n9   InChI=1S/C38H44N2O6/c1-39-15-13-26-20-35(42-3)...   \n10  InChI=1S/C12H14O2/c1-12(2)7-6-9-4-5-10(13-3)8-...   \n11  InChI=1S/C17H27NO2/c1-18(2)13-16(17(19)11-5-4-...   \n12  InChI=1S/C29H37N3O3/c1-4-17-16-32-10-8-18-13-2...   \n13  InChI=1S/C10H12N3O3PS2/c1-15-17(18,16-2)19-7-1...   \n14  InChI=1S/C20H23N/c1-21(2)15-7-12-20-18-10-5-3-...   \n15  InChI=1S/C32H42O8/c1-15(2)10-12-20-27(35)23(18...   \n16  InChI=1S/C16H21NO2/c1-12(2)17-10-14(18)11-19-1...   \n17  InChI=1S/C10H22N4/c11-10(12)13-6-9-14-7-4-2-1-...   \n18  InChI=1S/C9H13NO2/c1-10-6-9(12)7-2-4-8(11)5-3-...   \n19  InChI=1S/C12H15ClO3/c1-4-15-11(14)12(2,3)16-10...   \n\n                              synonym  \n0                          Entacapone  \n1                             AACOCF3  \n2                           Buspirone  \n3                        Perphenazine  \n4                              Ergine  \n5                        Heptan-2-one  \n6                      Isoprothiolane  \n7                           Guanadrel  \n8   3,4-Methylenedioxymethamphetamine  \n9                           Dauricine  \n10                        Precocene 1  \n11                        Venlafaxine  \n12                         Tubulosine  \n13                    Azinphos methyl  \n14                      Amitriptyline  \n15                        Acrovestone  \n16                        Propranolol  \n17                       Guanethidine  \n18                       (-)-Sympatol  \n19                         Clofibrate  ",
      "text/html": "<div>\n<style scoped>\n    .dataframe tbody tr th:only-of-type {\n        vertical-align: middle;\n    }\n\n    .dataframe tbody tr th {\n        vertical-align: top;\n    }\n\n    .dataframe thead th {\n        text-align: right;\n    }\n</style>\n<table border=\"1\" class=\"dataframe\">\n  <thead>\n    <tr style=\"text-align: right;\">\n      <th></th>\n      <th>chebi_id</th>\n      <th>name</th>\n      <th>definition</th>\n      <th>inchi_string</th>\n      <th>synonym</th>\n    </tr>\n  </thead>\n  <tbody>\n    <tr>\n      <th>0</th>\n      <td>4798</td>\n      <td>entacapone</td>\n      <td>A monocarboxylic acid amide that is N,N-diethy...</td>\n      <td>InChI=1S/C14H15N3O5/c1-3-16(4-2)14(20)10(8-15)...</td>\n      <td>Entacapone</td>\n    </tr>\n    <tr>\n      <th>1</th>\n      <td>2341</td>\n      <td>AACOCF3</td>\n      <td>A fatty acid derivative that is arachidonic ac...</td>\n      <td>InChI=1S/C21H31F3O/c1-2-3-4-5-6-7-8-9-10-11-12...</td>\n      <td>AACOCF3</td>\n    </tr>\n    <tr>\n      <th>2</th>\n      <td>3223</td>\n      <td>buspirone</td>\n      <td>An azaspiro compound that is 8-azaspiro[4.5]de...</td>\n      <td>InChI=1S/C21H31N5O2/c27-18-16-21(6-1-2-7-21)17...</td>\n      <td>Buspirone</td>\n    </tr>\n    <tr>\n      <th>3</th>\n      <td>8028</td>\n      <td>perphenazine</td>\n      <td>A phenothiazine derivative in which the phenot...</td>\n      <td>InChI=1S/C21H26ClN3OS/c22-17-6-7-21-19(16-17)2...</td>\n      <td>Perphenazine</td>\n    </tr>\n    <tr>\n      <th>4</th>\n      <td>4819</td>\n      <td>lysergamide</td>\n      <td>An ergoline alkaloid comprising ergoline lacki...</td>\n      <td>InChI=1S/C16H17N3O/c1-19-8-10(16(17)20)5-12-11...</td>\n      <td>Ergine</td>\n    </tr>\n    <tr>\n      <th>5</th>\n      <td>5672</td>\n      <td>heptan-2-one</td>\n      <td>A dialkyl ketone with methyl and pentyl as the...</td>\n      <td>InChI=1S/C7H14O/c1-3-4-5-6-7(2)8/h3-6H2,1-2H3</td>\n      <td>Heptan-2-one</td>\n    </tr>\n    <tr>\n      <th>6</th>\n      <td>6047</td>\n      <td>isoprothiolane</td>\n      <td>A malonate ester that is diisopropyl malonate ...</td>\n      <td>InChI=1S/C12H18O4S2/c1-7(2)15-10(13)9(11(14)16...</td>\n      <td>Isoprothiolane</td>\n    </tr>\n    <tr>\n      <th>7</th>\n      <td>5555</td>\n      <td>guanadrel</td>\n      <td>A spiroketal resulting from the formal condens...</td>\n      <td>InChI=1S/C10H19N3O2/c11-9(12)13-6-8-7-14-10(15...</td>\n      <td>Guanadrel</td>\n    </tr>\n    <tr>\n      <th>8</th>\n      <td>1391</td>\n      <td>3,4-methylenedioxymethamphetamine</td>\n      <td>A member of the class of  benzodioxoles that i...</td>\n      <td>InChI=1S/C11H15NO2/c1-8(12-2)5-9-3-4-10-11(6-9...</td>\n      <td>3,4-Methylenedioxymethamphetamine</td>\n    </tr>\n    <tr>\n      <th>9</th>\n      <td>4331</td>\n      <td>dauricine</td>\n      <td>A bisbenzylisoquinoline alkaloid resulting fro...</td>\n      <td>InChI=1S/C38H44N2O6/c1-39-15-13-26-20-35(42-3)...</td>\n      <td>Dauricine</td>\n    </tr>\n    <tr>\n      <th>10</th>\n      <td>8368</td>\n      <td>precocene I</td>\n      <td>A member of the class of chromenes that is 2H-...</td>\n      <td>InChI=1S/C12H14O2/c1-12(2)7-6-9-4-5-10(13-3)8-...</td>\n      <td>Precocene 1</td>\n    </tr>\n    <tr>\n      <th>11</th>\n      <td>9943</td>\n      <td>venlafaxine</td>\n      <td>A tertiary amino compound that is N,N-dimethyl...</td>\n      <td>InChI=1S/C17H27NO2/c1-18(2)13-16(17(19)11-5-4-...</td>\n      <td>Venlafaxine</td>\n    </tr>\n    <tr>\n      <th>12</th>\n      <td>9775</td>\n      <td>tubulosine</td>\n      <td>A member of the class of beta-carbolines that ...</td>\n      <td>InChI=1S/C29H37N3O3/c1-4-17-16-32-10-8-18-13-2...</td>\n      <td>Tubulosine</td>\n    </tr>\n    <tr>\n      <th>13</th>\n      <td>2953</td>\n      <td>azinphos-methyl</td>\n      <td>A member of the class of  benzotriazines that ...</td>\n      <td>InChI=1S/C10H12N3O3PS2/c1-15-17(18,16-2)19-7-1...</td>\n      <td>Azinphos methyl</td>\n    </tr>\n    <tr>\n      <th>14</th>\n      <td>2666</td>\n      <td>amitriptyline</td>\n      <td>An organic tricyclic compound that is 10,11-di...</td>\n      <td>InChI=1S/C20H23N/c1-21(2)15-7-12-20-18-10-5-3-...</td>\n      <td>Amitriptyline</td>\n    </tr>\n    <tr>\n      <th>15</th>\n      <td>2440</td>\n      <td>acrovestone</td>\n      <td>A polyphenol that is isolated from Acronychia ...</td>\n      <td>InChI=1S/C32H42O8/c1-15(2)10-12-20-27(35)23(18...</td>\n      <td>Acrovestone</td>\n    </tr>\n    <tr>\n      <th>16</th>\n      <td>8499</td>\n      <td>propranolol</td>\n      <td>A propanolamine that is propan-2-ol substitute...</td>\n      <td>InChI=1S/C16H21NO2/c1-12(2)17-10-14(18)11-19-1...</td>\n      <td>Propranolol</td>\n    </tr>\n    <tr>\n      <th>17</th>\n      <td>5557</td>\n      <td>guanethidine</td>\n      <td>A member of the class of  guanidines in which ...</td>\n      <td>InChI=1S/C10H22N4/c11-10(12)13-6-9-14-7-4-2-1-...</td>\n      <td>Guanethidine</td>\n    </tr>\n    <tr>\n      <th>18</th>\n      <td>119</td>\n      <td>D-synephrine</td>\n      <td>The D-enantiomer of synephrine.</td>\n      <td>InChI=1S/C9H13NO2/c1-10-6-9(12)7-2-4-8(11)5-3-...</td>\n      <td>(-)-Sympatol</td>\n    </tr>\n    <tr>\n      <th>19</th>\n      <td>3750</td>\n      <td>clofibrate</td>\n      <td>The ethyl ester of clofibric acid.</td>\n      <td>InChI=1S/C12H15ClO3/c1-4-15-11(14)12(2,3)16-10...</td>\n      <td>Clofibrate</td>\n    </tr>\n  </tbody>\n</table>\n</div>"
     },
     "execution_count": 72,
     "metadata": {},
     "output_type": "execute_result"
    }
   ],
   "source": [
    "compound_inchi_syn.head(20)"
   ],
   "metadata": {
    "collapsed": false
   }
  },
  {
   "cell_type": "code",
   "execution_count": 77,
   "outputs": [
    {
     "data": {
      "text/plain": "    chebi_id                     type accession_number\n0      27531  KEGG COMPOUND accession           C06095\n1      67986  KEGG COMPOUND accession           C08945\n3       5381  KEGG COMPOUND accession           C09753\n5       5383  KEGG COMPOUND accession           C07669\n7       5385  KEGG COMPOUND accession           C10595\n9      18259  KEGG COMPOUND accession           C03272\n11      5390      CAS Registry Number        3929-61-1\n13     17815  KEGG COMPOUND accession           C00641\n14     28234  KEGG COMPOUND accession           C07721\n15         7  KEGG COMPOUND accession           C11382\n17     15390  KEGG COMPOUND accession           C03036\n18     15393  KEGG COMPOUND accession           C01765\n20     15396  KEGG COMPOUND accession           C00808\n21        20  KEGG COMPOUND accession           C06304\n23     28429  KEGG COMPOUND accession           C02906\n25        25      CAS Registry Number         550-45-8\n27     15382  KEGG COMPOUND accession           C06099\n28        31  KEGG COMPOUND accession           C11390\n30     15402  KEGG COMPOUND accession           C00553\n32     27934  KEGG COMPOUND accession           C04165",
      "text/html": "<div>\n<style scoped>\n    .dataframe tbody tr th:only-of-type {\n        vertical-align: middle;\n    }\n\n    .dataframe tbody tr th {\n        vertical-align: top;\n    }\n\n    .dataframe thead th {\n        text-align: right;\n    }\n</style>\n<table border=\"1\" class=\"dataframe\">\n  <thead>\n    <tr style=\"text-align: right;\">\n      <th></th>\n      <th>chebi_id</th>\n      <th>type</th>\n      <th>accession_number</th>\n    </tr>\n  </thead>\n  <tbody>\n    <tr>\n      <th>0</th>\n      <td>27531</td>\n      <td>KEGG COMPOUND accession</td>\n      <td>C06095</td>\n    </tr>\n    <tr>\n      <th>1</th>\n      <td>67986</td>\n      <td>KEGG COMPOUND accession</td>\n      <td>C08945</td>\n    </tr>\n    <tr>\n      <th>3</th>\n      <td>5381</td>\n      <td>KEGG COMPOUND accession</td>\n      <td>C09753</td>\n    </tr>\n    <tr>\n      <th>5</th>\n      <td>5383</td>\n      <td>KEGG COMPOUND accession</td>\n      <td>C07669</td>\n    </tr>\n    <tr>\n      <th>7</th>\n      <td>5385</td>\n      <td>KEGG COMPOUND accession</td>\n      <td>C10595</td>\n    </tr>\n    <tr>\n      <th>9</th>\n      <td>18259</td>\n      <td>KEGG COMPOUND accession</td>\n      <td>C03272</td>\n    </tr>\n    <tr>\n      <th>11</th>\n      <td>5390</td>\n      <td>CAS Registry Number</td>\n      <td>3929-61-1</td>\n    </tr>\n    <tr>\n      <th>13</th>\n      <td>17815</td>\n      <td>KEGG COMPOUND accession</td>\n      <td>C00641</td>\n    </tr>\n    <tr>\n      <th>14</th>\n      <td>28234</td>\n      <td>KEGG COMPOUND accession</td>\n      <td>C07721</td>\n    </tr>\n    <tr>\n      <th>15</th>\n      <td>7</td>\n      <td>KEGG COMPOUND accession</td>\n      <td>C11382</td>\n    </tr>\n    <tr>\n      <th>17</th>\n      <td>15390</td>\n      <td>KEGG COMPOUND accession</td>\n      <td>C03036</td>\n    </tr>\n    <tr>\n      <th>18</th>\n      <td>15393</td>\n      <td>KEGG COMPOUND accession</td>\n      <td>C01765</td>\n    </tr>\n    <tr>\n      <th>20</th>\n      <td>15396</td>\n      <td>KEGG COMPOUND accession</td>\n      <td>C00808</td>\n    </tr>\n    <tr>\n      <th>21</th>\n      <td>20</td>\n      <td>KEGG COMPOUND accession</td>\n      <td>C06304</td>\n    </tr>\n    <tr>\n      <th>23</th>\n      <td>28429</td>\n      <td>KEGG COMPOUND accession</td>\n      <td>C02906</td>\n    </tr>\n    <tr>\n      <th>25</th>\n      <td>25</td>\n      <td>CAS Registry Number</td>\n      <td>550-45-8</td>\n    </tr>\n    <tr>\n      <th>27</th>\n      <td>15382</td>\n      <td>KEGG COMPOUND accession</td>\n      <td>C06099</td>\n    </tr>\n    <tr>\n      <th>28</th>\n      <td>31</td>\n      <td>KEGG COMPOUND accession</td>\n      <td>C11390</td>\n    </tr>\n    <tr>\n      <th>30</th>\n      <td>15402</td>\n      <td>KEGG COMPOUND accession</td>\n      <td>C00553</td>\n    </tr>\n    <tr>\n      <th>32</th>\n      <td>27934</td>\n      <td>KEGG COMPOUND accession</td>\n      <td>C04165</td>\n    </tr>\n  </tbody>\n</table>\n</div>"
     },
     "execution_count": 77,
     "metadata": {},
     "output_type": "execute_result"
    }
   ],
   "source": [
    "chebild_accession.head(20)"
   ],
   "metadata": {
    "collapsed": false
   }
  },
  {
   "cell_type": "code",
   "execution_count": 78,
   "outputs": [
    {
     "data": {
      "text/plain": "chebi_id            42241\ntype                   37\naccession_number    35160\ndtype: int64"
     },
     "execution_count": 78,
     "metadata": {},
     "output_type": "execute_result"
    }
   ],
   "source": [
    "chebild_accession.nunique()"
   ],
   "metadata": {
    "collapsed": false
   }
  },
  {
   "cell_type": "code",
   "execution_count": 79,
   "outputs": [],
   "source": [
    "test = compound_inchi_syn.merge(chebild_accession,left_on='chebi_id',right_on='chebi_id',how='inner')"
   ],
   "metadata": {
    "collapsed": false
   }
  },
  {
   "cell_type": "code",
   "execution_count": 80,
   "outputs": [
    {
     "name": "stdout",
     "output_type": "stream",
     "text": [
      "<class 'pandas.core.frame.DataFrame'>\n",
      "Int64Index: 8104 entries, 0 to 8103\n",
      "Data columns (total 7 columns):\n",
      " #   Column            Non-Null Count  Dtype \n",
      "---  ------            --------------  ----- \n",
      " 0   chebi_id          8104 non-null   int64 \n",
      " 1   name              8104 non-null   object\n",
      " 2   definition        7466 non-null   object\n",
      " 3   inchi_string      8104 non-null   object\n",
      " 4   synonym           8104 non-null   object\n",
      " 5   type              8104 non-null   object\n",
      " 6   accession_number  8104 non-null   object\n",
      "dtypes: int64(1), object(6)\n",
      "memory usage: 506.5+ KB\n"
     ]
    }
   ],
   "source": [
    "test.info()"
   ],
   "metadata": {
    "collapsed": false
   }
  },
  {
   "cell_type": "code",
   "execution_count": 81,
   "outputs": [
    {
     "data": {
      "text/plain": "    chebi_id                                 name  \\\n0       4798                           entacapone   \n1       2341                              AACOCF3   \n2       3223                            buspirone   \n3       8028                         perphenazine   \n4       4819                          lysergamide   \n..       ...                                  ...   \n95       469           1'-acetoxychavicol acetate   \n96      9212                         sparfloxacin   \n97       508  1,2-epoxy-3-(4-nitrophenoxy)propane   \n98      8055   5-methylphenazinium methyl sulfate   \n99      8075                   phenoxyacetic acid   \n\n                                           definition  \\\n0   A monocarboxylic acid amide that is N,N-diethy...   \n1   A fatty acid derivative that is arachidonic ac...   \n2   An azaspiro compound that is 8-azaspiro[4.5]de...   \n3   A phenothiazine derivative in which the phenot...   \n4   An ergoline alkaloid comprising ergoline lacki...   \n..                                                ...   \n95  An  acetate ester that is chavicol acetate sub...   \n96                                                NaN   \n97  An epoxide that is oxirane substituted by a (4...   \n98                                                NaN   \n99  A monocarboxylic acid that is the O-phenyl der...   \n\n                                         inchi_string  \\\n0   InChI=1S/C14H15N3O5/c1-3-16(4-2)14(20)10(8-15)...   \n1   InChI=1S/C21H31F3O/c1-2-3-4-5-6-7-8-9-10-11-12...   \n2   InChI=1S/C21H31N5O2/c27-18-16-21(6-1-2-7-21)17...   \n3   InChI=1S/C21H26ClN3OS/c22-17-6-7-21-19(16-17)2...   \n4   InChI=1S/C16H17N3O/c1-19-8-10(16(17)20)5-12-11...   \n..                                                ...   \n95  InChI=1S/C13H14O4/c1-4-13(17-10(3)15)11-5-7-12...   \n96  InChI=1S/C19H22F2N4O3/c1-8-5-24(6-9(2)23-8)17-...   \n97  InChI=1S/C9H9NO4/c11-10(12)7-1-3-8(4-2-7)13-5-...   \n98  InChI=1S/C13H11N2.CH4O4S/c1-15-12-8-4-2-6-10(1...   \n99  InChI=1S/C8H8O3/c9-8(10)6-11-7-4-2-1-3-5-7/h1-...   \n\n                                synonym                     type  \\\n0                            Entacapone  KEGG COMPOUND accession   \n1                               AACOCF3  KEGG COMPOUND accession   \n2                             Buspirone      CAS Registry Number   \n3                          Perphenazine      CAS Registry Number   \n4                                Ergine  KEGG COMPOUND accession   \n..                                  ...                      ...   \n95           1'-Acetoxychavicol acetate  KEGG COMPOUND accession   \n96                         Sparfloxacin  KEGG COMPOUND accession   \n97  1,2-Epoxy-3-(p-Nitrophenoxy)propane  KEGG COMPOUND accession   \n98               Phenazine methosulfate  KEGG COMPOUND accession   \n99                       Phenoxyacetate      CAS Registry Number   \n\n   accession_number  \n0            C07943  \n1            C01397  \n2        36505-84-7  \n3           58-39-9  \n4            C09160  \n..              ...  \n95           C10426  \n96           C07662  \n97           C04274  \n98           C00200  \n99         122-59-8  \n\n[100 rows x 7 columns]",
      "text/html": "<div>\n<style scoped>\n    .dataframe tbody tr th:only-of-type {\n        vertical-align: middle;\n    }\n\n    .dataframe tbody tr th {\n        vertical-align: top;\n    }\n\n    .dataframe thead th {\n        text-align: right;\n    }\n</style>\n<table border=\"1\" class=\"dataframe\">\n  <thead>\n    <tr style=\"text-align: right;\">\n      <th></th>\n      <th>chebi_id</th>\n      <th>name</th>\n      <th>definition</th>\n      <th>inchi_string</th>\n      <th>synonym</th>\n      <th>type</th>\n      <th>accession_number</th>\n    </tr>\n  </thead>\n  <tbody>\n    <tr>\n      <th>0</th>\n      <td>4798</td>\n      <td>entacapone</td>\n      <td>A monocarboxylic acid amide that is N,N-diethy...</td>\n      <td>InChI=1S/C14H15N3O5/c1-3-16(4-2)14(20)10(8-15)...</td>\n      <td>Entacapone</td>\n      <td>KEGG COMPOUND accession</td>\n      <td>C07943</td>\n    </tr>\n    <tr>\n      <th>1</th>\n      <td>2341</td>\n      <td>AACOCF3</td>\n      <td>A fatty acid derivative that is arachidonic ac...</td>\n      <td>InChI=1S/C21H31F3O/c1-2-3-4-5-6-7-8-9-10-11-12...</td>\n      <td>AACOCF3</td>\n      <td>KEGG COMPOUND accession</td>\n      <td>C01397</td>\n    </tr>\n    <tr>\n      <th>2</th>\n      <td>3223</td>\n      <td>buspirone</td>\n      <td>An azaspiro compound that is 8-azaspiro[4.5]de...</td>\n      <td>InChI=1S/C21H31N5O2/c27-18-16-21(6-1-2-7-21)17...</td>\n      <td>Buspirone</td>\n      <td>CAS Registry Number</td>\n      <td>36505-84-7</td>\n    </tr>\n    <tr>\n      <th>3</th>\n      <td>8028</td>\n      <td>perphenazine</td>\n      <td>A phenothiazine derivative in which the phenot...</td>\n      <td>InChI=1S/C21H26ClN3OS/c22-17-6-7-21-19(16-17)2...</td>\n      <td>Perphenazine</td>\n      <td>CAS Registry Number</td>\n      <td>58-39-9</td>\n    </tr>\n    <tr>\n      <th>4</th>\n      <td>4819</td>\n      <td>lysergamide</td>\n      <td>An ergoline alkaloid comprising ergoline lacki...</td>\n      <td>InChI=1S/C16H17N3O/c1-19-8-10(16(17)20)5-12-11...</td>\n      <td>Ergine</td>\n      <td>KEGG COMPOUND accession</td>\n      <td>C09160</td>\n    </tr>\n    <tr>\n      <th>...</th>\n      <td>...</td>\n      <td>...</td>\n      <td>...</td>\n      <td>...</td>\n      <td>...</td>\n      <td>...</td>\n      <td>...</td>\n    </tr>\n    <tr>\n      <th>95</th>\n      <td>469</td>\n      <td>1'-acetoxychavicol acetate</td>\n      <td>An  acetate ester that is chavicol acetate sub...</td>\n      <td>InChI=1S/C13H14O4/c1-4-13(17-10(3)15)11-5-7-12...</td>\n      <td>1'-Acetoxychavicol acetate</td>\n      <td>KEGG COMPOUND accession</td>\n      <td>C10426</td>\n    </tr>\n    <tr>\n      <th>96</th>\n      <td>9212</td>\n      <td>sparfloxacin</td>\n      <td>NaN</td>\n      <td>InChI=1S/C19H22F2N4O3/c1-8-5-24(6-9(2)23-8)17-...</td>\n      <td>Sparfloxacin</td>\n      <td>KEGG COMPOUND accession</td>\n      <td>C07662</td>\n    </tr>\n    <tr>\n      <th>97</th>\n      <td>508</td>\n      <td>1,2-epoxy-3-(4-nitrophenoxy)propane</td>\n      <td>An epoxide that is oxirane substituted by a (4...</td>\n      <td>InChI=1S/C9H9NO4/c11-10(12)7-1-3-8(4-2-7)13-5-...</td>\n      <td>1,2-Epoxy-3-(p-Nitrophenoxy)propane</td>\n      <td>KEGG COMPOUND accession</td>\n      <td>C04274</td>\n    </tr>\n    <tr>\n      <th>98</th>\n      <td>8055</td>\n      <td>5-methylphenazinium methyl sulfate</td>\n      <td>NaN</td>\n      <td>InChI=1S/C13H11N2.CH4O4S/c1-15-12-8-4-2-6-10(1...</td>\n      <td>Phenazine methosulfate</td>\n      <td>KEGG COMPOUND accession</td>\n      <td>C00200</td>\n    </tr>\n    <tr>\n      <th>99</th>\n      <td>8075</td>\n      <td>phenoxyacetic acid</td>\n      <td>A monocarboxylic acid that is the O-phenyl der...</td>\n      <td>InChI=1S/C8H8O3/c9-8(10)6-11-7-4-2-1-3-5-7/h1-...</td>\n      <td>Phenoxyacetate</td>\n      <td>CAS Registry Number</td>\n      <td>122-59-8</td>\n    </tr>\n  </tbody>\n</table>\n<p>100 rows × 7 columns</p>\n</div>"
     },
     "execution_count": 81,
     "metadata": {},
     "output_type": "execute_result"
    }
   ],
   "source": [
    "test.head(100)"
   ],
   "metadata": {
    "collapsed": false
   }
  },
  {
   "cell_type": "code",
   "execution_count": 82,
   "outputs": [],
   "source": [
    "test.to_csv('fullchebi.csv',index_label=False)"
   ],
   "metadata": {
    "collapsed": false
   }
  },
  {
   "cell_type": "code",
   "execution_count": null,
   "outputs": [],
   "source": [],
   "metadata": {
    "collapsed": false
   }
  }
 ],
 "metadata": {
  "kernelspec": {
   "display_name": "Python 3",
   "language": "python",
   "name": "python3"
  },
  "language_info": {
   "codemirror_mode": {
    "name": "ipython",
    "version": 2
   },
   "file_extension": ".py",
   "mimetype": "text/x-python",
   "name": "python",
   "nbconvert_exporter": "python",
   "pygments_lexer": "ipython2",
   "version": "2.7.6"
  }
 },
 "nbformat": 4,
 "nbformat_minor": 0
}
