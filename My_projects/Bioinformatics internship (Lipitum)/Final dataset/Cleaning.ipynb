{
 "cells": [
  {
   "cell_type": "code",
   "execution_count": 1,
   "outputs": [],
   "source": [
    "import pandas as pd"
   ],
   "metadata": {
    "collapsed": false
   }
  },
  {
   "cell_type": "code",
   "execution_count": 29,
   "outputs": [],
   "source": [
    "publications = pd.read_csv('all_chemicals.tsv',sep='\\t',header=None)\n",
    "so = pd.read_csv('test.csv')\n",
    "merge = pd.read_csv('merg_12.csv')"
   ],
   "metadata": {
    "collapsed": false
   }
  },
  {
   "cell_type": "code",
   "execution_count": 47,
   "outputs": [
    {
     "data": {
      "text/plain": "                             name                          disease_x Gender_x  \\\n0           7a-Hydroxycholesterol                          Cirrhosis     Both   \n1           2-Hydroxybutyric acid  Pyruvate Dehydrogenase Deficiency     Both   \n2           2-Hydroxybutyric acid  Pyruvate Dehydrogenase Deficiency     Both   \n3  Ortho-Hydroxyphenylacetic acid                    Phenylketonuria     Both   \n4    (S)-3-Hydroxyisobutyric acid           Diabetes Mellitus Type 2     Both   \n\n                      concentration_x                     concentration_1  \\\n0              0.054 (0.035-0.073) uM              0.054 (0.035-0.073) uM   \n1           25.0 umol/mmol creatinine           25.0 umol/mmol creatinine   \n2           25.0 umol/mmol creatinine           25.0 umol/mmol creatinine   \n3  36.5 (0-76.1) umol/mmol creatinine  36.5 (0-76.1) umol/mmol creatinine   \n4                 38.0 (33.0-43.0) uM                 38.0 (33.0-43.0) uM   \n\n  location_x                                        publication  \n0      Blood  Hahn, C., Reichel, C. & von Bergmann, K. Serum...  \n1      Urine                                        OMIM 238331  \n2      Urine                                        OMIM 238331  \n3      Urine  Monch, E., Kneer, J., Jakobs, C., Arnold, M., ...  \n4      Blood  Avogaro, A. & Bier, D. M. Contribution of 3-hy...  ",
      "text/html": "<div>\n<style scoped>\n    .dataframe tbody tr th:only-of-type {\n        vertical-align: middle;\n    }\n\n    .dataframe tbody tr th {\n        vertical-align: top;\n    }\n\n    .dataframe thead th {\n        text-align: right;\n    }\n</style>\n<table border=\"1\" class=\"dataframe\">\n  <thead>\n    <tr style=\"text-align: right;\">\n      <th></th>\n      <th>name</th>\n      <th>disease_x</th>\n      <th>Gender_x</th>\n      <th>concentration_x</th>\n      <th>concentration_1</th>\n      <th>location_x</th>\n      <th>publication</th>\n    </tr>\n  </thead>\n  <tbody>\n    <tr>\n      <th>0</th>\n      <td>7a-Hydroxycholesterol</td>\n      <td>Cirrhosis</td>\n      <td>Both</td>\n      <td>0.054 (0.035-0.073) uM</td>\n      <td>0.054 (0.035-0.073) uM</td>\n      <td>Blood</td>\n      <td>Hahn, C., Reichel, C. &amp; von Bergmann, K. Serum...</td>\n    </tr>\n    <tr>\n      <th>1</th>\n      <td>2-Hydroxybutyric acid</td>\n      <td>Pyruvate Dehydrogenase Deficiency</td>\n      <td>Both</td>\n      <td>25.0 umol/mmol creatinine</td>\n      <td>25.0 umol/mmol creatinine</td>\n      <td>Urine</td>\n      <td>OMIM 238331</td>\n    </tr>\n    <tr>\n      <th>2</th>\n      <td>2-Hydroxybutyric acid</td>\n      <td>Pyruvate Dehydrogenase Deficiency</td>\n      <td>Both</td>\n      <td>25.0 umol/mmol creatinine</td>\n      <td>25.0 umol/mmol creatinine</td>\n      <td>Urine</td>\n      <td>OMIM 238331</td>\n    </tr>\n    <tr>\n      <th>3</th>\n      <td>Ortho-Hydroxyphenylacetic acid</td>\n      <td>Phenylketonuria</td>\n      <td>Both</td>\n      <td>36.5 (0-76.1) umol/mmol creatinine</td>\n      <td>36.5 (0-76.1) umol/mmol creatinine</td>\n      <td>Urine</td>\n      <td>Monch, E., Kneer, J., Jakobs, C., Arnold, M., ...</td>\n    </tr>\n    <tr>\n      <th>4</th>\n      <td>(S)-3-Hydroxyisobutyric acid</td>\n      <td>Diabetes Mellitus Type 2</td>\n      <td>Both</td>\n      <td>38.0 (33.0-43.0) uM</td>\n      <td>38.0 (33.0-43.0) uM</td>\n      <td>Blood</td>\n      <td>Avogaro, A. &amp; Bier, D. M. Contribution of 3-hy...</td>\n    </tr>\n  </tbody>\n</table>\n</div>"
     },
     "execution_count": 47,
     "metadata": {},
     "output_type": "execute_result"
    }
   ],
   "source": [
    "merge.head()"
   ],
   "metadata": {
    "collapsed": false
   }
  },
  {
   "cell_type": "code",
   "execution_count": 30,
   "outputs": [
    {
     "data": {
      "text/plain": "                             name                          disease_x Gender_x  \\\n0           7a-Hydroxycholesterol                          Cirrhosis     Both   \n1           2-Hydroxybutyric acid  Pyruvate Dehydrogenase Deficiency     Both   \n2           2-Hydroxybutyric acid  Pyruvate Dehydrogenase Deficiency     Both   \n3  Ortho-Hydroxyphenylacetic acid                    Phenylketonuria     Both   \n4    (S)-3-Hydroxyisobutyric acid           Diabetes Mellitus Type 2     Both   \n\n                      concentration_x                     concentration_1  \\\n0              0.054 (0.035-0.073) uM              0.054 (0.035-0.073) uM   \n1           25.0 umol/mmol creatinine           25.0 umol/mmol creatinine   \n2           25.0 umol/mmol creatinine           25.0 umol/mmol creatinine   \n3  36.5 (0-76.1) umol/mmol creatinine  36.5 (0-76.1) umol/mmol creatinine   \n4                 38.0 (33.0-43.0) uM                 38.0 (33.0-43.0) uM   \n\n  location_x                                        publication  \n0      Blood  Hahn, C., Reichel, C. & von Bergmann, K. Serum...  \n1      Urine                                        OMIM 238331  \n2      Urine                                        OMIM 238331  \n3      Urine  Monch, E., Kneer, J., Jakobs, C., Arnold, M., ...  \n4      Blood  Avogaro, A. & Bier, D. M. Contribution of 3-hy...  ",
      "text/html": "<div>\n<style scoped>\n    .dataframe tbody tr th:only-of-type {\n        vertical-align: middle;\n    }\n\n    .dataframe tbody tr th {\n        vertical-align: top;\n    }\n\n    .dataframe thead th {\n        text-align: right;\n    }\n</style>\n<table border=\"1\" class=\"dataframe\">\n  <thead>\n    <tr style=\"text-align: right;\">\n      <th></th>\n      <th>name</th>\n      <th>disease_x</th>\n      <th>Gender_x</th>\n      <th>concentration_x</th>\n      <th>concentration_1</th>\n      <th>location_x</th>\n      <th>publication</th>\n    </tr>\n  </thead>\n  <tbody>\n    <tr>\n      <th>0</th>\n      <td>7a-Hydroxycholesterol</td>\n      <td>Cirrhosis</td>\n      <td>Both</td>\n      <td>0.054 (0.035-0.073) uM</td>\n      <td>0.054 (0.035-0.073) uM</td>\n      <td>Blood</td>\n      <td>Hahn, C., Reichel, C. &amp; von Bergmann, K. Serum...</td>\n    </tr>\n    <tr>\n      <th>1</th>\n      <td>2-Hydroxybutyric acid</td>\n      <td>Pyruvate Dehydrogenase Deficiency</td>\n      <td>Both</td>\n      <td>25.0 umol/mmol creatinine</td>\n      <td>25.0 umol/mmol creatinine</td>\n      <td>Urine</td>\n      <td>OMIM 238331</td>\n    </tr>\n    <tr>\n      <th>2</th>\n      <td>2-Hydroxybutyric acid</td>\n      <td>Pyruvate Dehydrogenase Deficiency</td>\n      <td>Both</td>\n      <td>25.0 umol/mmol creatinine</td>\n      <td>25.0 umol/mmol creatinine</td>\n      <td>Urine</td>\n      <td>OMIM 238331</td>\n    </tr>\n    <tr>\n      <th>3</th>\n      <td>Ortho-Hydroxyphenylacetic acid</td>\n      <td>Phenylketonuria</td>\n      <td>Both</td>\n      <td>36.5 (0-76.1) umol/mmol creatinine</td>\n      <td>36.5 (0-76.1) umol/mmol creatinine</td>\n      <td>Urine</td>\n      <td>Monch, E., Kneer, J., Jakobs, C., Arnold, M., ...</td>\n    </tr>\n    <tr>\n      <th>4</th>\n      <td>(S)-3-Hydroxyisobutyric acid</td>\n      <td>Diabetes Mellitus Type 2</td>\n      <td>Both</td>\n      <td>38.0 (33.0-43.0) uM</td>\n      <td>38.0 (33.0-43.0) uM</td>\n      <td>Blood</td>\n      <td>Avogaro, A. &amp; Bier, D. M. Contribution of 3-hy...</td>\n    </tr>\n  </tbody>\n</table>\n</div>"
     },
     "execution_count": 30,
     "metadata": {},
     "output_type": "execute_result"
    }
   ],
   "source": [
    "merge.head()"
   ],
   "metadata": {
    "collapsed": false
   }
  },
  {
   "cell_type": "code",
   "execution_count": 23,
   "outputs": [
    {
     "data": {
      "text/plain": "   0                  1    2                    3                    4   \\\n0   1  1-Methylhistidine  251              Obesity  Adult: >=18 yrs old   \n1   1  1-Methylhistidine    1               Normal  Adult: >=18 yrs old   \n2   1  1-Methylhistidine   33  Alzheimer's Disease  Adult: >=18 yrs old   \n3   1  1-Methylhistidine   34            Pregnancy  Adult: >=18 yrs old   \n4   1  1-Methylhistidine    1               Normal  Adult: >=18 yrs old   \n\n       5      6                                       7   \\\n0    Both  Urine   10.9 (0.80-21.0) umol/mmol creatinine   \n1    Both  Urine  85.8 (17.7-153.8) umol/mmol creatinine   \n2    Both  Urine   15.7 (11.7-19.7) umol/mmol creatinine   \n3  Female  Blood                                 50.0 uM   \n4    Both  Blood                                 12.7 uM   \n\n                     8    9       10  \\\n0  umol/mmol creatinine  NaN     654   \n1  umol/mmol creatinine  NaN  367200   \n2  umol/mmol creatinine  NaN     129   \n3                    uM  NaN  367357   \n4                    uM  NaN  116748   \n\n                                                  11          12  \n0  Tuma, P., Samcova, E. & Balinova, P. Determina...  15899597.0  \n1  David F. Putnam Composition and Concentrative ...         NaN  \n2  Fonteh, A. N., Harrington, R. J., Tsai, A., Li...  17031479.0  \n3                                                NaN  22494326.0  \n4  Dohm, G. L., Williams, R. T., Kasperek, G. J. ...   7061274.0  ",
      "text/html": "<div>\n<style scoped>\n    .dataframe tbody tr th:only-of-type {\n        vertical-align: middle;\n    }\n\n    .dataframe tbody tr th {\n        vertical-align: top;\n    }\n\n    .dataframe thead th {\n        text-align: right;\n    }\n</style>\n<table border=\"1\" class=\"dataframe\">\n  <thead>\n    <tr style=\"text-align: right;\">\n      <th></th>\n      <th>0</th>\n      <th>1</th>\n      <th>2</th>\n      <th>3</th>\n      <th>4</th>\n      <th>5</th>\n      <th>6</th>\n      <th>7</th>\n      <th>8</th>\n      <th>9</th>\n      <th>10</th>\n      <th>11</th>\n      <th>12</th>\n    </tr>\n  </thead>\n  <tbody>\n    <tr>\n      <th>0</th>\n      <td>1</td>\n      <td>1-Methylhistidine</td>\n      <td>251</td>\n      <td>Obesity</td>\n      <td>Adult: &gt;=18 yrs old</td>\n      <td>Both</td>\n      <td>Urine</td>\n      <td>10.9 (0.80-21.0) umol/mmol creatinine</td>\n      <td>umol/mmol creatinine</td>\n      <td>NaN</td>\n      <td>654</td>\n      <td>Tuma, P., Samcova, E. &amp; Balinova, P. Determina...</td>\n      <td>15899597.0</td>\n    </tr>\n    <tr>\n      <th>1</th>\n      <td>1</td>\n      <td>1-Methylhistidine</td>\n      <td>1</td>\n      <td>Normal</td>\n      <td>Adult: &gt;=18 yrs old</td>\n      <td>Both</td>\n      <td>Urine</td>\n      <td>85.8 (17.7-153.8) umol/mmol creatinine</td>\n      <td>umol/mmol creatinine</td>\n      <td>NaN</td>\n      <td>367200</td>\n      <td>David F. Putnam Composition and Concentrative ...</td>\n      <td>NaN</td>\n    </tr>\n    <tr>\n      <th>2</th>\n      <td>1</td>\n      <td>1-Methylhistidine</td>\n      <td>33</td>\n      <td>Alzheimer's Disease</td>\n      <td>Adult: &gt;=18 yrs old</td>\n      <td>Both</td>\n      <td>Urine</td>\n      <td>15.7 (11.7-19.7) umol/mmol creatinine</td>\n      <td>umol/mmol creatinine</td>\n      <td>NaN</td>\n      <td>129</td>\n      <td>Fonteh, A. N., Harrington, R. J., Tsai, A., Li...</td>\n      <td>17031479.0</td>\n    </tr>\n    <tr>\n      <th>3</th>\n      <td>1</td>\n      <td>1-Methylhistidine</td>\n      <td>34</td>\n      <td>Pregnancy</td>\n      <td>Adult: &gt;=18 yrs old</td>\n      <td>Female</td>\n      <td>Blood</td>\n      <td>50.0 uM</td>\n      <td>uM</td>\n      <td>NaN</td>\n      <td>367357</td>\n      <td>NaN</td>\n      <td>22494326.0</td>\n    </tr>\n    <tr>\n      <th>4</th>\n      <td>1</td>\n      <td>1-Methylhistidine</td>\n      <td>1</td>\n      <td>Normal</td>\n      <td>Adult: &gt;=18 yrs old</td>\n      <td>Both</td>\n      <td>Blood</td>\n      <td>12.7 uM</td>\n      <td>uM</td>\n      <td>NaN</td>\n      <td>116748</td>\n      <td>Dohm, G. L., Williams, R. T., Kasperek, G. J. ...</td>\n      <td>7061274.0</td>\n    </tr>\n  </tbody>\n</table>\n</div>"
     },
     "execution_count": 23,
     "metadata": {},
     "output_type": "execute_result"
    }
   ],
   "source": [
    "publications.head()"
   ],
   "metadata": {
    "collapsed": false
   }
  },
  {
   "cell_type": "code",
   "execution_count": 24,
   "outputs": [],
   "source": [
    "publications.drop(columns={0,2,3,4,5,6,7,8,9,12},axis=1,inplace=True)"
   ],
   "metadata": {
    "collapsed": false
   }
  },
  {
   "cell_type": "code",
   "execution_count": 25,
   "outputs": [
    {
     "data": {
      "text/plain": "                  1       10  \\\n0  1-Methylhistidine     654   \n1  1-Methylhistidine  367200   \n2  1-Methylhistidine     129   \n3  1-Methylhistidine  367357   \n4  1-Methylhistidine  116748   \n\n                                                  11  \n0  Tuma, P., Samcova, E. & Balinova, P. Determina...  \n1  David F. Putnam Composition and Concentrative ...  \n2  Fonteh, A. N., Harrington, R. J., Tsai, A., Li...  \n3                                                NaN  \n4  Dohm, G. L., Williams, R. T., Kasperek, G. J. ...  ",
      "text/html": "<div>\n<style scoped>\n    .dataframe tbody tr th:only-of-type {\n        vertical-align: middle;\n    }\n\n    .dataframe tbody tr th {\n        vertical-align: top;\n    }\n\n    .dataframe thead th {\n        text-align: right;\n    }\n</style>\n<table border=\"1\" class=\"dataframe\">\n  <thead>\n    <tr style=\"text-align: right;\">\n      <th></th>\n      <th>1</th>\n      <th>10</th>\n      <th>11</th>\n    </tr>\n  </thead>\n  <tbody>\n    <tr>\n      <th>0</th>\n      <td>1-Methylhistidine</td>\n      <td>654</td>\n      <td>Tuma, P., Samcova, E. &amp; Balinova, P. Determina...</td>\n    </tr>\n    <tr>\n      <th>1</th>\n      <td>1-Methylhistidine</td>\n      <td>367200</td>\n      <td>David F. Putnam Composition and Concentrative ...</td>\n    </tr>\n    <tr>\n      <th>2</th>\n      <td>1-Methylhistidine</td>\n      <td>129</td>\n      <td>Fonteh, A. N., Harrington, R. J., Tsai, A., Li...</td>\n    </tr>\n    <tr>\n      <th>3</th>\n      <td>1-Methylhistidine</td>\n      <td>367357</td>\n      <td>NaN</td>\n    </tr>\n    <tr>\n      <th>4</th>\n      <td>1-Methylhistidine</td>\n      <td>116748</td>\n      <td>Dohm, G. L., Williams, R. T., Kasperek, G. J. ...</td>\n    </tr>\n  </tbody>\n</table>\n</div>"
     },
     "execution_count": 25,
     "metadata": {},
     "output_type": "execute_result"
    }
   ],
   "source": [
    "publications.head()"
   ],
   "metadata": {
    "collapsed": false
   }
  },
  {
   "cell_type": "code",
   "execution_count": 34,
   "outputs": [
    {
     "data": {
      "text/plain": "   0                  a    2                    3                    4  \\\n0  1  1-Methylhistidine  251              Obesity  Adult: >=18 yrs old   \n1  1  1-Methylhistidine    1               Normal  Adult: >=18 yrs old   \n2  1  1-Methylhistidine   33  Alzheimer's Disease  Adult: >=18 yrs old   \n3  1  1-Methylhistidine   34            Pregnancy  Adult: >=18 yrs old   \n4  1  1-Methylhistidine    1               Normal  Adult: >=18 yrs old   \n\n        5      6                                       7  \\\n0    Both  Urine   10.9 (0.80-21.0) umol/mmol creatinine   \n1    Both  Urine  85.8 (17.7-153.8) umol/mmol creatinine   \n2    Both  Urine   15.7 (11.7-19.7) umol/mmol creatinine   \n3  Female  Blood                                 50.0 uM   \n4    Both  Blood                                 12.7 uM   \n\n                      8    9       b  \\\n0  umol/mmol creatinine  NaN     654   \n1  umol/mmol creatinine  NaN  367200   \n2  umol/mmol creatinine  NaN     129   \n3                    uM  NaN  367357   \n4                    uM  NaN  116748   \n\n                                                   c          12  \n0  Tuma, P., Samcova, E. & Balinova, P. Determina...  15899597.0  \n1  David F. Putnam Composition and Concentrative ...         NaN  \n2  Fonteh, A. N., Harrington, R. J., Tsai, A., Li...  17031479.0  \n3                                                NaN  22494326.0  \n4  Dohm, G. L., Williams, R. T., Kasperek, G. J. ...   7061274.0  ",
      "text/html": "<div>\n<style scoped>\n    .dataframe tbody tr th:only-of-type {\n        vertical-align: middle;\n    }\n\n    .dataframe tbody tr th {\n        vertical-align: top;\n    }\n\n    .dataframe thead th {\n        text-align: right;\n    }\n</style>\n<table border=\"1\" class=\"dataframe\">\n  <thead>\n    <tr style=\"text-align: right;\">\n      <th></th>\n      <th>0</th>\n      <th>a</th>\n      <th>2</th>\n      <th>3</th>\n      <th>4</th>\n      <th>5</th>\n      <th>6</th>\n      <th>7</th>\n      <th>8</th>\n      <th>9</th>\n      <th>b</th>\n      <th>c</th>\n      <th>12</th>\n    </tr>\n  </thead>\n  <tbody>\n    <tr>\n      <th>0</th>\n      <td>1</td>\n      <td>1-Methylhistidine</td>\n      <td>251</td>\n      <td>Obesity</td>\n      <td>Adult: &gt;=18 yrs old</td>\n      <td>Both</td>\n      <td>Urine</td>\n      <td>10.9 (0.80-21.0) umol/mmol creatinine</td>\n      <td>umol/mmol creatinine</td>\n      <td>NaN</td>\n      <td>654</td>\n      <td>Tuma, P., Samcova, E. &amp; Balinova, P. Determina...</td>\n      <td>15899597.0</td>\n    </tr>\n    <tr>\n      <th>1</th>\n      <td>1</td>\n      <td>1-Methylhistidine</td>\n      <td>1</td>\n      <td>Normal</td>\n      <td>Adult: &gt;=18 yrs old</td>\n      <td>Both</td>\n      <td>Urine</td>\n      <td>85.8 (17.7-153.8) umol/mmol creatinine</td>\n      <td>umol/mmol creatinine</td>\n      <td>NaN</td>\n      <td>367200</td>\n      <td>David F. Putnam Composition and Concentrative ...</td>\n      <td>NaN</td>\n    </tr>\n    <tr>\n      <th>2</th>\n      <td>1</td>\n      <td>1-Methylhistidine</td>\n      <td>33</td>\n      <td>Alzheimer's Disease</td>\n      <td>Adult: &gt;=18 yrs old</td>\n      <td>Both</td>\n      <td>Urine</td>\n      <td>15.7 (11.7-19.7) umol/mmol creatinine</td>\n      <td>umol/mmol creatinine</td>\n      <td>NaN</td>\n      <td>129</td>\n      <td>Fonteh, A. N., Harrington, R. J., Tsai, A., Li...</td>\n      <td>17031479.0</td>\n    </tr>\n    <tr>\n      <th>3</th>\n      <td>1</td>\n      <td>1-Methylhistidine</td>\n      <td>34</td>\n      <td>Pregnancy</td>\n      <td>Adult: &gt;=18 yrs old</td>\n      <td>Female</td>\n      <td>Blood</td>\n      <td>50.0 uM</td>\n      <td>uM</td>\n      <td>NaN</td>\n      <td>367357</td>\n      <td>NaN</td>\n      <td>22494326.0</td>\n    </tr>\n    <tr>\n      <th>4</th>\n      <td>1</td>\n      <td>1-Methylhistidine</td>\n      <td>1</td>\n      <td>Normal</td>\n      <td>Adult: &gt;=18 yrs old</td>\n      <td>Both</td>\n      <td>Blood</td>\n      <td>12.7 uM</td>\n      <td>uM</td>\n      <td>NaN</td>\n      <td>116748</td>\n      <td>Dohm, G. L., Williams, R. T., Kasperek, G. J. ...</td>\n      <td>7061274.0</td>\n    </tr>\n  </tbody>\n</table>\n</div>"
     },
     "execution_count": 34,
     "metadata": {},
     "output_type": "execute_result"
    }
   ],
   "source": [
    "publications.head()"
   ],
   "metadata": {
    "collapsed": false
   }
  },
  {
   "cell_type": "code",
   "execution_count": 33,
   "outputs": [],
   "source": [
    "publications.rename(columns={1:'a',10:'b',11:'c'},inplace=True)"
   ],
   "metadata": {
    "collapsed": false
   }
  },
  {
   "cell_type": "code",
   "execution_count": 27,
   "outputs": [],
   "source": [
    "publications['b']= publications['b'].astype(int)"
   ],
   "metadata": {
    "collapsed": false
   }
  },
  {
   "cell_type": "code",
   "execution_count": 28,
   "outputs": [
    {
     "data": {
      "text/plain": "                             name  chebi_id        mdbid  \\\n0           7a-Hydroxycholesterol      1296  MDB00000633   \n1           2-Hydroxybutyric acid     64552  MDB00000004   \n2  Ortho-Hydroxyphenylacetic acid     62423  MDB00000353   \n3    (S)-3-Hydroxyisobutyric acid     62638  MDB00000016   \n4           5-Aminolevulinic acid    356416  MDB00000539   \n\n                             disease  markerdb_id   Gender location  \\\n0                          Cirrhosis          545     Both    Blood   \n1  Pyruvate Dehydrogenase Deficiency       367359     Both    Urine   \n2                    Phenylketonuria         1530     Both    Urine   \n3           Diabetes Mellitus Type 2          687     Both    Blood   \n4           Eosinophilic Esophagitis       367194  Unknown    Urine   \n\n                          concentration                       concentration_1  \n0                0.054 (0.035-0.073) uM                0.054 (0.035-0.073) uM  \n1             25.0 umol/mmol creatinine             25.0 umol/mmol creatinine  \n2    36.5 (0-76.1) umol/mmol creatinine    36.5 (0-76.1) umol/mmol creatinine  \n3                   38.0 (33.0-43.0) uM                   38.0 (33.0-43.0) uM  \n4  19.2 (2.7-35.8) umol/mmol creatinine  19.2 (2.7-35.8) umol/mmol creatinine  ",
      "text/html": "<div>\n<style scoped>\n    .dataframe tbody tr th:only-of-type {\n        vertical-align: middle;\n    }\n\n    .dataframe tbody tr th {\n        vertical-align: top;\n    }\n\n    .dataframe thead th {\n        text-align: right;\n    }\n</style>\n<table border=\"1\" class=\"dataframe\">\n  <thead>\n    <tr style=\"text-align: right;\">\n      <th></th>\n      <th>name</th>\n      <th>chebi_id</th>\n      <th>mdbid</th>\n      <th>disease</th>\n      <th>markerdb_id</th>\n      <th>Gender</th>\n      <th>location</th>\n      <th>concentration</th>\n      <th>concentration_1</th>\n    </tr>\n  </thead>\n  <tbody>\n    <tr>\n      <th>0</th>\n      <td>7a-Hydroxycholesterol</td>\n      <td>1296</td>\n      <td>MDB00000633</td>\n      <td>Cirrhosis</td>\n      <td>545</td>\n      <td>Both</td>\n      <td>Blood</td>\n      <td>0.054 (0.035-0.073) uM</td>\n      <td>0.054 (0.035-0.073) uM</td>\n    </tr>\n    <tr>\n      <th>1</th>\n      <td>2-Hydroxybutyric acid</td>\n      <td>64552</td>\n      <td>MDB00000004</td>\n      <td>Pyruvate Dehydrogenase Deficiency</td>\n      <td>367359</td>\n      <td>Both</td>\n      <td>Urine</td>\n      <td>25.0 umol/mmol creatinine</td>\n      <td>25.0 umol/mmol creatinine</td>\n    </tr>\n    <tr>\n      <th>2</th>\n      <td>Ortho-Hydroxyphenylacetic acid</td>\n      <td>62423</td>\n      <td>MDB00000353</td>\n      <td>Phenylketonuria</td>\n      <td>1530</td>\n      <td>Both</td>\n      <td>Urine</td>\n      <td>36.5 (0-76.1) umol/mmol creatinine</td>\n      <td>36.5 (0-76.1) umol/mmol creatinine</td>\n    </tr>\n    <tr>\n      <th>3</th>\n      <td>(S)-3-Hydroxyisobutyric acid</td>\n      <td>62638</td>\n      <td>MDB00000016</td>\n      <td>Diabetes Mellitus Type 2</td>\n      <td>687</td>\n      <td>Both</td>\n      <td>Blood</td>\n      <td>38.0 (33.0-43.0) uM</td>\n      <td>38.0 (33.0-43.0) uM</td>\n    </tr>\n    <tr>\n      <th>4</th>\n      <td>5-Aminolevulinic acid</td>\n      <td>356416</td>\n      <td>MDB00000539</td>\n      <td>Eosinophilic Esophagitis</td>\n      <td>367194</td>\n      <td>Unknown</td>\n      <td>Urine</td>\n      <td>19.2 (2.7-35.8) umol/mmol creatinine</td>\n      <td>19.2 (2.7-35.8) umol/mmol creatinine</td>\n    </tr>\n  </tbody>\n</table>\n</div>"
     },
     "execution_count": 28,
     "metadata": {},
     "output_type": "execute_result"
    }
   ],
   "source": [
    "so.head()"
   ],
   "metadata": {
    "collapsed": false
   }
  },
  {
   "cell_type": "code",
   "execution_count": 35,
   "outputs": [],
   "source": [
    "publication_merge = merge.merge(publications,left_on='name',right_on='a',how='inner')"
   ],
   "metadata": {
    "collapsed": false
   }
  },
  {
   "cell_type": "code",
   "execution_count": 36,
   "outputs": [
    {
     "name": "stdout",
     "output_type": "stream",
     "text": [
      "<class 'pandas.core.frame.DataFrame'>\n",
      "Int64Index: 2457 entries, 0 to 2456\n",
      "Data columns (total 20 columns):\n",
      " #   Column           Non-Null Count  Dtype  \n",
      "---  ------           --------------  -----  \n",
      " 0   name             2457 non-null   object \n",
      " 1   disease_x        2457 non-null   object \n",
      " 2   Gender_x         2457 non-null   object \n",
      " 3   concentration_x  2457 non-null   object \n",
      " 4   concentration_1  2457 non-null   object \n",
      " 5   location_x       2457 non-null   object \n",
      " 6   publication      535 non-null    object \n",
      " 7   0                2457 non-null   int64  \n",
      " 8   a                2457 non-null   object \n",
      " 9   2                2457 non-null   int64  \n",
      " 10  3                2457 non-null   object \n",
      " 11  4                2456 non-null   object \n",
      " 12  5                2457 non-null   object \n",
      " 13  6                2457 non-null   object \n",
      " 14  7                2457 non-null   object \n",
      " 15  8                2457 non-null   object \n",
      " 16  9                0 non-null      object \n",
      " 17  b                2457 non-null   int64  \n",
      " 18  c                1301 non-null   object \n",
      " 19  12               2167 non-null   float64\n",
      "dtypes: float64(1), int64(3), object(16)\n",
      "memory usage: 403.1+ KB\n"
     ]
    }
   ],
   "source": [
    "publication_merge.info()"
   ],
   "metadata": {
    "collapsed": false
   }
  },
  {
   "cell_type": "code",
   "execution_count": 37,
   "outputs": [
    {
     "data": {
      "text/plain": "                    name                          disease_x Gender_x  \\\n0  7a-Hydroxycholesterol                          Cirrhosis     Both   \n1  7a-Hydroxycholesterol                          Cirrhosis     Both   \n2  2-Hydroxybutyric acid  Pyruvate Dehydrogenase Deficiency     Both   \n3  2-Hydroxybutyric acid  Pyruvate Dehydrogenase Deficiency     Both   \n4  2-Hydroxybutyric acid  Pyruvate Dehydrogenase Deficiency     Both   \n\n             concentration_x            concentration_1 location_x  \\\n0     0.054 (0.035-0.073) uM     0.054 (0.035-0.073) uM      Blood   \n1     0.054 (0.035-0.073) uM     0.054 (0.035-0.073) uM      Blood   \n2  25.0 umol/mmol creatinine  25.0 umol/mmol creatinine      Urine   \n3  25.0 umol/mmol creatinine  25.0 umol/mmol creatinine      Urine   \n4  25.0 umol/mmol creatinine  25.0 umol/mmol creatinine      Urine   \n\n                                         publication    0  \\\n0  Hahn, C., Reichel, C. & von Bergmann, K. Serum...  633   \n1  Hahn, C., Reichel, C. & von Bergmann, K. Serum...  633   \n2                                        OMIM 238331    4   \n3                                        OMIM 238331    4   \n4                                        OMIM 238331    4   \n\n                       a    2                                  3  \\\n0  7a-Hydroxycholesterol   85                          Cirrhosis   \n1  7a-Hydroxycholesterol    1                             Normal   \n2  2-Hydroxybutyric acid  286  Pyruvate Dehydrogenase Deficiency   \n3  2-Hydroxybutyric acid    1                             Normal   \n4  2-Hydroxybutyric acid   34                          Pregnancy   \n\n                     4       5      6                          7  \\\n0  Adult: >=18 yrs old    Both  Blood     0.054 (0.035-0.073) uM   \n1  Adult: >=18 yrs old    Both  Blood        0.18 (0.13-0.23) uM   \n2  Adult: >=18 yrs old    Both  Urine  25.0 umol/mmol creatinine   \n3  Adult: >=18 yrs old    Both  Urine   2.8 umol/mmol creatinine   \n4  Adult: >=18 yrs old  Female  Blood                    19.5 uM   \n\n                      8    9       b  \\\n0                    uM  NaN     545   \n1                    uM  NaN     545   \n2  umol/mmol creatinine  NaN  367359   \n3  umol/mmol creatinine  NaN  366611   \n4                    uM  NaN  367357   \n\n                                                   c          12  \n0  Hahn, C., Reichel, C. & von Bergmann, K. Serum...   8558093.0  \n1  Hahn, C., Reichel, C. & von Bergmann, K. Serum...   8558093.0  \n2                                        OMIM 238331         NaN  \n3                                                NaN  24023812.0  \n4                                                NaN  22494326.0  ",
      "text/html": "<div>\n<style scoped>\n    .dataframe tbody tr th:only-of-type {\n        vertical-align: middle;\n    }\n\n    .dataframe tbody tr th {\n        vertical-align: top;\n    }\n\n    .dataframe thead th {\n        text-align: right;\n    }\n</style>\n<table border=\"1\" class=\"dataframe\">\n  <thead>\n    <tr style=\"text-align: right;\">\n      <th></th>\n      <th>name</th>\n      <th>disease_x</th>\n      <th>Gender_x</th>\n      <th>concentration_x</th>\n      <th>concentration_1</th>\n      <th>location_x</th>\n      <th>publication</th>\n      <th>0</th>\n      <th>a</th>\n      <th>2</th>\n      <th>3</th>\n      <th>4</th>\n      <th>5</th>\n      <th>6</th>\n      <th>7</th>\n      <th>8</th>\n      <th>9</th>\n      <th>b</th>\n      <th>c</th>\n      <th>12</th>\n    </tr>\n  </thead>\n  <tbody>\n    <tr>\n      <th>0</th>\n      <td>7a-Hydroxycholesterol</td>\n      <td>Cirrhosis</td>\n      <td>Both</td>\n      <td>0.054 (0.035-0.073) uM</td>\n      <td>0.054 (0.035-0.073) uM</td>\n      <td>Blood</td>\n      <td>Hahn, C., Reichel, C. &amp; von Bergmann, K. Serum...</td>\n      <td>633</td>\n      <td>7a-Hydroxycholesterol</td>\n      <td>85</td>\n      <td>Cirrhosis</td>\n      <td>Adult: &gt;=18 yrs old</td>\n      <td>Both</td>\n      <td>Blood</td>\n      <td>0.054 (0.035-0.073) uM</td>\n      <td>uM</td>\n      <td>NaN</td>\n      <td>545</td>\n      <td>Hahn, C., Reichel, C. &amp; von Bergmann, K. Serum...</td>\n      <td>8558093.0</td>\n    </tr>\n    <tr>\n      <th>1</th>\n      <td>7a-Hydroxycholesterol</td>\n      <td>Cirrhosis</td>\n      <td>Both</td>\n      <td>0.054 (0.035-0.073) uM</td>\n      <td>0.054 (0.035-0.073) uM</td>\n      <td>Blood</td>\n      <td>Hahn, C., Reichel, C. &amp; von Bergmann, K. Serum...</td>\n      <td>633</td>\n      <td>7a-Hydroxycholesterol</td>\n      <td>1</td>\n      <td>Normal</td>\n      <td>Adult: &gt;=18 yrs old</td>\n      <td>Both</td>\n      <td>Blood</td>\n      <td>0.18 (0.13-0.23) uM</td>\n      <td>uM</td>\n      <td>NaN</td>\n      <td>545</td>\n      <td>Hahn, C., Reichel, C. &amp; von Bergmann, K. Serum...</td>\n      <td>8558093.0</td>\n    </tr>\n    <tr>\n      <th>2</th>\n      <td>2-Hydroxybutyric acid</td>\n      <td>Pyruvate Dehydrogenase Deficiency</td>\n      <td>Both</td>\n      <td>25.0 umol/mmol creatinine</td>\n      <td>25.0 umol/mmol creatinine</td>\n      <td>Urine</td>\n      <td>OMIM 238331</td>\n      <td>4</td>\n      <td>2-Hydroxybutyric acid</td>\n      <td>286</td>\n      <td>Pyruvate Dehydrogenase Deficiency</td>\n      <td>Adult: &gt;=18 yrs old</td>\n      <td>Both</td>\n      <td>Urine</td>\n      <td>25.0 umol/mmol creatinine</td>\n      <td>umol/mmol creatinine</td>\n      <td>NaN</td>\n      <td>367359</td>\n      <td>OMIM 238331</td>\n      <td>NaN</td>\n    </tr>\n    <tr>\n      <th>3</th>\n      <td>2-Hydroxybutyric acid</td>\n      <td>Pyruvate Dehydrogenase Deficiency</td>\n      <td>Both</td>\n      <td>25.0 umol/mmol creatinine</td>\n      <td>25.0 umol/mmol creatinine</td>\n      <td>Urine</td>\n      <td>OMIM 238331</td>\n      <td>4</td>\n      <td>2-Hydroxybutyric acid</td>\n      <td>1</td>\n      <td>Normal</td>\n      <td>Adult: &gt;=18 yrs old</td>\n      <td>Both</td>\n      <td>Urine</td>\n      <td>2.8 umol/mmol creatinine</td>\n      <td>umol/mmol creatinine</td>\n      <td>NaN</td>\n      <td>366611</td>\n      <td>NaN</td>\n      <td>24023812.0</td>\n    </tr>\n    <tr>\n      <th>4</th>\n      <td>2-Hydroxybutyric acid</td>\n      <td>Pyruvate Dehydrogenase Deficiency</td>\n      <td>Both</td>\n      <td>25.0 umol/mmol creatinine</td>\n      <td>25.0 umol/mmol creatinine</td>\n      <td>Urine</td>\n      <td>OMIM 238331</td>\n      <td>4</td>\n      <td>2-Hydroxybutyric acid</td>\n      <td>34</td>\n      <td>Pregnancy</td>\n      <td>Adult: &gt;=18 yrs old</td>\n      <td>Female</td>\n      <td>Blood</td>\n      <td>19.5 uM</td>\n      <td>uM</td>\n      <td>NaN</td>\n      <td>367357</td>\n      <td>NaN</td>\n      <td>22494326.0</td>\n    </tr>\n  </tbody>\n</table>\n</div>"
     },
     "execution_count": 37,
     "metadata": {},
     "output_type": "execute_result"
    }
   ],
   "source": [
    "publication_merge.head()"
   ],
   "metadata": {
    "collapsed": false
   }
  },
  {
   "cell_type": "code",
   "execution_count": 38,
   "outputs": [],
   "source": [
    "publication_merge.drop_duplicates(subset='name',keep='first',inplace=True)"
   ],
   "metadata": {
    "collapsed": false
   }
  },
  {
   "cell_type": "code",
   "execution_count": 46,
   "outputs": [
    {
     "name": "stdout",
     "output_type": "stream",
     "text": [
      "<class 'pandas.core.frame.DataFrame'>\n",
      "Int64Index: 33 entries, 0 to 2455\n",
      "Data columns (total 20 columns):\n",
      " #   Column           Non-Null Count  Dtype  \n",
      "---  ------           --------------  -----  \n",
      " 0   name             33 non-null     object \n",
      " 1   disease_x        33 non-null     object \n",
      " 2   Gender_x         33 non-null     object \n",
      " 3   concentration_x  33 non-null     object \n",
      " 4   concentration_1  33 non-null     object \n",
      " 5   location_x       33 non-null     object \n",
      " 6   publication      27 non-null     object \n",
      " 7   0                33 non-null     int64  \n",
      " 8   a                33 non-null     object \n",
      " 9   2                33 non-null     int64  \n",
      " 10  3                33 non-null     object \n",
      " 11  4                32 non-null     object \n",
      " 12  5                33 non-null     object \n",
      " 13  6                33 non-null     object \n",
      " 14  7                33 non-null     object \n",
      " 15  8                33 non-null     object \n",
      " 16  9                0 non-null      object \n",
      " 17  b                33 non-null     int64  \n",
      " 18  c                27 non-null     object \n",
      " 19  12               28 non-null     float64\n",
      "dtypes: float64(1), int64(3), object(16)\n",
      "memory usage: 5.4+ KB\n"
     ]
    }
   ],
   "source": [
    "publication_merge.info()"
   ],
   "metadata": {
    "collapsed": false
   }
  },
  {
   "cell_type": "code",
   "execution_count": 42,
   "outputs": [],
   "source": [
    "final_neo = publication_merge[['name','disease_x','Gender_x','concentration_x','concentration_1','location_x','publication','a']]"
   ],
   "metadata": {
    "collapsed": false
   }
  },
  {
   "cell_type": "code",
   "execution_count": 43,
   "outputs": [],
   "source": [
    "final_neo.to_csv('final_neo.csv',index_label=False)"
   ],
   "metadata": {
    "collapsed": false
   }
  },
  {
   "cell_type": "code",
   "execution_count": 45,
   "outputs": [
    {
     "data": {
      "text/plain": "                                   name  \\\n0                 7a-Hydroxycholesterol   \n2                 2-Hydroxybutyric acid   \n12       Ortho-Hydroxyphenylacetic acid   \n14         (S)-3-Hydroxyisobutyric acid   \n16                5-Aminolevulinic acid   \n18                        Glycylproline   \n36                Vanillylmandelic acid   \n54           5-Hydroxyindoleacetic acid   \n234                        Aflatoxin B1   \n236                    2-Methoxyestrone   \n238                          Anandamide   \n240                   Isobutyrylglycine   \n248                    Cysteinylglycine   \n250                           D-Glucose   \n410                           L-Cystine   \n476          3-Methylthiopropionic acid   \n478                            Oxytocin   \n480                      Norepinephrine   \n540                            Spermine   \n542                        Liothyronine   \n544               24-Hydroxycholesterol   \n564          Methylimidazoleacetic acid   \n566               Ureidoisobutyric acid   \n568                          Lipoxin A4   \n570                Ursodeoxycholic acid   \n576             Sulfolithocholylglycine   \n578                    Pantothenic acid   \n580                        Suberic acid   \n598                       L-Lactic acid   \n2434           N-Acetyl-L-aspartic acid   \n2442    20-Hydroxyeicosatetraenoic acid   \n2443                             5-HETE   \n2455  13(S)-hydroxyoctadecadienoic acid   \n\n                                            disease_x Gender_x  \\\n0                                           Cirrhosis     Both   \n2                   Pyruvate Dehydrogenase Deficiency     Both   \n12                                    Phenylketonuria     Both   \n14                           Diabetes Mellitus Type 2     Both   \n16                           Eosinophilic Esophagitis  Unknown   \n18                           Eosinophilic Esophagitis  Unknown   \n36                           Eosinophilic Esophagitis  Unknown   \n54                                   Carcinoid Tumors     Male   \n234                                   Reye's Syndrome     Both   \n236                                      Prolactinoma     Both   \n238                                          Epilepsy     Both   \n240                          Glutaric Acidemia Type 2  Unknown   \n248                                   Phenylketonuria     Both   \n250                                  Fanconi Syndrome   Female   \n410                    Molybdenum Cofactor Deficiency  Unknown   \n476                                         Cirrhosis     Both   \n478                             Prader Willi Syndrome  Unknown   \n480                                    Hypothyroidism     Both   \n540                                          Leukemia     Both   \n542              Proprotein Convertase 1/3 Deficiency   Female   \n544                         Mild Cognitive Impairment  Unknown   \n564                                      Mastocytosis     Both   \n566                  Beta Ureidopropionase Deficiency     Both   \n568                           Coronary Artery Disease     Both   \n570                                   Cystic Fibrosis     Both   \n576                                         Cirrhosis     Both   \n578                               Ethanol Consumption  Unknown   \n580   Medium Chain Acyl Co A Dehydrogenase Deficiency  Unknown   \n598                                Propionic Acidemia  Unknown   \n2434                                  Canavan Disease  Unknown   \n2442                           Kidney Transplantation        ↵   \n2443                             Rheumatoid Arthritis     Both   \n2455     Autosomal Dominant Polycystic Kidney Disease     Both   \n\n                                     concentration_x  \\\n0                             0.054 (0.035-0.073) uM   \n2                          25.0 umol/mmol creatinine   \n12                36.5 (0-76.1) umol/mmol creatinine   \n14                               38.0 (33.0-43.0) uM   \n16              19.2 (2.7-35.8) umol/mmol creatinine   \n18              46.3 (3.6-89.1) umol/mmol creatinine   \n36                6.9 (4.1-9.6) umol/mmol creatinine   \n54                          5.0 umol/mmol creatinine   \n234                         0.0090 (0.0080-0.014) uM   \n236         0.025 (0.020-0.030) umol/mmol creatinine   \n238                       0.0026 (0.00077-0.0043) uM   \n240                        31.2 umol/mmol creatinine   \n248                                6.0 (2.0-10.0) uM   \n250                                       2.2e+03 uM   \n410                         7.0 umol/mmol creatinine   \n476          0.097 (0.075-0.12) umol/mmol creatinine   \n478                     9.2e-06 (5.3e-06-1.3e-05) uM   \n480                     5.0e-05 (3.0e-05-7.0e-05) uM   \n540            0.46 (0.25-0.68) umol/mmol creatinine   \n542                                       4.1e-06 uM   \n544                        0.0077 (0.0066-0.0093) uM   \n564                        10.3 umol/mmol creatinine   \n566                                 3.7 (1.4-5.9) uM   \n568                           0.044 (0.037-0.051) uM   \n570                              0.48 (0.32-0.64) uM   \n576                         1.8 umol/mmol creatinine   \n578                              0.80 (0.72-0.88) uM   \n580                        22.7 umol/mmol creatinine   \n598                         4.0 umol/mmol creatinine   \n2434  2.5e+03 (1.3e+03-3.7e+03) umol/mmol creatinine   \n2442                                        <0 pg/mL   \n2443                             0.60 (0.50-0.70) uM   \n2455                             0.31 (0.25-0.37) uM   \n\n                                     concentration_1           location_x  \\\n0                             0.054 (0.035-0.073) uM                Blood   \n2                          25.0 umol/mmol creatinine                Urine   \n12                36.5 (0-76.1) umol/mmol creatinine                Urine   \n14                               38.0 (33.0-43.0) uM                Blood   \n16              19.2 (2.7-35.8) umol/mmol creatinine                Urine   \n18              46.3 (3.6-89.1) umol/mmol creatinine                Urine   \n36                6.9 (4.1-9.6) umol/mmol creatinine                Urine   \n54                          5.0 umol/mmol creatinine                Urine   \n234                         0.0090 (0.0080-0.014) uM                Blood   \n236         0.025 (0.020-0.030) umol/mmol creatinine                Urine   \n238                       0.0026 (0.00077-0.0043) uM  Cerebrospinal_Fluid   \n240                        31.2 umol/mmol creatinine                Urine   \n248                                6.0 (2.0-10.0) uM                Blood   \n250                                       2.2e+03 uM                Blood   \n410                         7.0 umol/mmol creatinine                Urine   \n476          0.097 (0.075-0.12) umol/mmol creatinine                Urine   \n478                     9.2e-06 (5.3e-06-1.3e-05) uM  Cerebrospinal_Fluid   \n480                     5.0e-05 (3.0e-05-7.0e-05) uM  Cerebrospinal_Fluid   \n540            0.46 (0.25-0.68) umol/mmol creatinine                Urine   \n542                                       4.1e-06 uM                Blood   \n544                        0.0077 (0.0066-0.0093) uM  Cerebrospinal_Fluid   \n564                        10.3 umol/mmol creatinine                Urine   \n566                                 3.7 (1.4-5.9) uM  Cerebrospinal_Fluid   \n568                           0.044 (0.037-0.051) uM                Blood   \n570                              0.48 (0.32-0.64) uM                Blood   \n576                         1.8 umol/mmol creatinine                Urine   \n578                              0.80 (0.72-0.88) uM  Cerebrospinal_Fluid   \n580                        22.7 umol/mmol creatinine                Urine   \n598                         4.0 umol/mmol creatinine                Urine   \n2434  2.5e+03 (1.3e+03-3.7e+03) umol/mmol creatinine                Urine   \n2442                                        <0 pg/mL                Serum   \n2443                             0.60 (0.50-0.70) uM                Blood   \n2455                             0.31 (0.25-0.37) uM                Blood   \n\n                                            publication  \\\n0     Hahn, C., Reichel, C. & von Bergmann, K. Serum...   \n2                                           OMIM 238331   \n12    Monch, E., Kneer, J., Jakobs, C., Arnold, M., ...   \n14    Avogaro, A. & Bier, D. M. Contribution of 3-hy...   \n16                Mordechai, Hien, and David S. Wishart   \n18                Mordechai, Hien, and David S. Wishart   \n36                Mordechai, Hien, and David S. Wishart   \n54    Ishida, J., Iizuka, R. & Yamaguchi, M. High-pe...   \n234   Tsuboi, S., Nakagawa, T., Tomita, M., Seo, T.,...   \n236   Lee, S. H., Nam, S. Y. & Chung, B. C. Altered ...   \n238                                                 NaN   \n240                                                 NaN   \n248   Perry, T. L. & Hansen, S. Cystinylglycine in p...   \n250   Late Diagnosis of Fanconi-Bickel Syndrome: Cha...   \n410                                                 NaN   \n476   Yoshida, Y. [Analysis of methionine metabolism...   \n478                                                 NaN   \n480   Sjoberg, S., Eriksson, M. & Nordin, C. L-thyro...   \n540   Lee, S. H., Suh, J. W., Chung, B. C. & Kim, S....   \n542   O'Rahilly, S., Gray, H., Humphreys, P. J., Kro...   \n544   Leoni, V., Masterman, T., Mousavi, F. S., Wret...   \n564   Martens-Lobenhoffer, J. & Neumann, H. J. Deter...   \n566   van Kuilenburg, A. B., Meinsma, R., Beke, E., ...   \n568   Brezinski, D. A., Nesto, R. W. & Serhan, C. N....   \n570   Smith, J. L., Lewindon, P. J., Hoskins, A. C.,...   \n576   Kobayashi, N., Katsumata, H., Uto, Y., Goto, J...   \n578   Dastur, D. K., Santhadevi, N., Quadros, E. V.,...   \n580   Tserng, K. Y., Jin, S. J., Kerr, D. S. & Hoppe...   \n598                                                 NaN   \n2434                                                NaN   \n2442  Dolegowska, B., Blogowski, W. & Domanski, L. I...   \n2443  Chavis, C., Fraissinet, L., Chanez, P., Thomas...   \n2455  Wang, D., Strandgaard, S., Borresen, M. L., Lu...   \n\n                                      a  \n0                 7a-Hydroxycholesterol  \n2                 2-Hydroxybutyric acid  \n12       Ortho-Hydroxyphenylacetic acid  \n14         (S)-3-Hydroxyisobutyric acid  \n16                5-Aminolevulinic acid  \n18                        Glycylproline  \n36                Vanillylmandelic acid  \n54           5-Hydroxyindoleacetic acid  \n234                        Aflatoxin B1  \n236                    2-Methoxyestrone  \n238                          Anandamide  \n240                   Isobutyrylglycine  \n248                    Cysteinylglycine  \n250                           D-Glucose  \n410                           L-Cystine  \n476          3-Methylthiopropionic acid  \n478                            Oxytocin  \n480                      Norepinephrine  \n540                            Spermine  \n542                        Liothyronine  \n544               24-Hydroxycholesterol  \n564          Methylimidazoleacetic acid  \n566               Ureidoisobutyric acid  \n568                          Lipoxin A4  \n570                Ursodeoxycholic acid  \n576             Sulfolithocholylglycine  \n578                    Pantothenic acid  \n580                        Suberic acid  \n598                       L-Lactic acid  \n2434           N-Acetyl-L-aspartic acid  \n2442    20-Hydroxyeicosatetraenoic acid  \n2443                             5-HETE  \n2455  13(S)-hydroxyoctadecadienoic acid  ",
      "text/html": "<div>\n<style scoped>\n    .dataframe tbody tr th:only-of-type {\n        vertical-align: middle;\n    }\n\n    .dataframe tbody tr th {\n        vertical-align: top;\n    }\n\n    .dataframe thead th {\n        text-align: right;\n    }\n</style>\n<table border=\"1\" class=\"dataframe\">\n  <thead>\n    <tr style=\"text-align: right;\">\n      <th></th>\n      <th>name</th>\n      <th>disease_x</th>\n      <th>Gender_x</th>\n      <th>concentration_x</th>\n      <th>concentration_1</th>\n      <th>location_x</th>\n      <th>publication</th>\n      <th>a</th>\n    </tr>\n  </thead>\n  <tbody>\n    <tr>\n      <th>0</th>\n      <td>7a-Hydroxycholesterol</td>\n      <td>Cirrhosis</td>\n      <td>Both</td>\n      <td>0.054 (0.035-0.073) uM</td>\n      <td>0.054 (0.035-0.073) uM</td>\n      <td>Blood</td>\n      <td>Hahn, C., Reichel, C. &amp; von Bergmann, K. Serum...</td>\n      <td>7a-Hydroxycholesterol</td>\n    </tr>\n    <tr>\n      <th>2</th>\n      <td>2-Hydroxybutyric acid</td>\n      <td>Pyruvate Dehydrogenase Deficiency</td>\n      <td>Both</td>\n      <td>25.0 umol/mmol creatinine</td>\n      <td>25.0 umol/mmol creatinine</td>\n      <td>Urine</td>\n      <td>OMIM 238331</td>\n      <td>2-Hydroxybutyric acid</td>\n    </tr>\n    <tr>\n      <th>12</th>\n      <td>Ortho-Hydroxyphenylacetic acid</td>\n      <td>Phenylketonuria</td>\n      <td>Both</td>\n      <td>36.5 (0-76.1) umol/mmol creatinine</td>\n      <td>36.5 (0-76.1) umol/mmol creatinine</td>\n      <td>Urine</td>\n      <td>Monch, E., Kneer, J., Jakobs, C., Arnold, M., ...</td>\n      <td>Ortho-Hydroxyphenylacetic acid</td>\n    </tr>\n    <tr>\n      <th>14</th>\n      <td>(S)-3-Hydroxyisobutyric acid</td>\n      <td>Diabetes Mellitus Type 2</td>\n      <td>Both</td>\n      <td>38.0 (33.0-43.0) uM</td>\n      <td>38.0 (33.0-43.0) uM</td>\n      <td>Blood</td>\n      <td>Avogaro, A. &amp; Bier, D. M. Contribution of 3-hy...</td>\n      <td>(S)-3-Hydroxyisobutyric acid</td>\n    </tr>\n    <tr>\n      <th>16</th>\n      <td>5-Aminolevulinic acid</td>\n      <td>Eosinophilic Esophagitis</td>\n      <td>Unknown</td>\n      <td>19.2 (2.7-35.8) umol/mmol creatinine</td>\n      <td>19.2 (2.7-35.8) umol/mmol creatinine</td>\n      <td>Urine</td>\n      <td>Mordechai, Hien, and David S. Wishart</td>\n      <td>5-Aminolevulinic acid</td>\n    </tr>\n    <tr>\n      <th>18</th>\n      <td>Glycylproline</td>\n      <td>Eosinophilic Esophagitis</td>\n      <td>Unknown</td>\n      <td>46.3 (3.6-89.1) umol/mmol creatinine</td>\n      <td>46.3 (3.6-89.1) umol/mmol creatinine</td>\n      <td>Urine</td>\n      <td>Mordechai, Hien, and David S. Wishart</td>\n      <td>Glycylproline</td>\n    </tr>\n    <tr>\n      <th>36</th>\n      <td>Vanillylmandelic acid</td>\n      <td>Eosinophilic Esophagitis</td>\n      <td>Unknown</td>\n      <td>6.9 (4.1-9.6) umol/mmol creatinine</td>\n      <td>6.9 (4.1-9.6) umol/mmol creatinine</td>\n      <td>Urine</td>\n      <td>Mordechai, Hien, and David S. Wishart</td>\n      <td>Vanillylmandelic acid</td>\n    </tr>\n    <tr>\n      <th>54</th>\n      <td>5-Hydroxyindoleacetic acid</td>\n      <td>Carcinoid Tumors</td>\n      <td>Male</td>\n      <td>5.0 umol/mmol creatinine</td>\n      <td>5.0 umol/mmol creatinine</td>\n      <td>Urine</td>\n      <td>Ishida, J., Iizuka, R. &amp; Yamaguchi, M. High-pe...</td>\n      <td>5-Hydroxyindoleacetic acid</td>\n    </tr>\n    <tr>\n      <th>234</th>\n      <td>Aflatoxin B1</td>\n      <td>Reye's Syndrome</td>\n      <td>Both</td>\n      <td>0.0090 (0.0080-0.014) uM</td>\n      <td>0.0090 (0.0080-0.014) uM</td>\n      <td>Blood</td>\n      <td>Tsuboi, S., Nakagawa, T., Tomita, M., Seo, T.,...</td>\n      <td>Aflatoxin B1</td>\n    </tr>\n    <tr>\n      <th>236</th>\n      <td>2-Methoxyestrone</td>\n      <td>Prolactinoma</td>\n      <td>Both</td>\n      <td>0.025 (0.020-0.030) umol/mmol creatinine</td>\n      <td>0.025 (0.020-0.030) umol/mmol creatinine</td>\n      <td>Urine</td>\n      <td>Lee, S. H., Nam, S. Y. &amp; Chung, B. C. Altered ...</td>\n      <td>2-Methoxyestrone</td>\n    </tr>\n    <tr>\n      <th>238</th>\n      <td>Anandamide</td>\n      <td>Epilepsy</td>\n      <td>Both</td>\n      <td>0.0026 (0.00077-0.0043) uM</td>\n      <td>0.0026 (0.00077-0.0043) uM</td>\n      <td>Cerebrospinal_Fluid</td>\n      <td>NaN</td>\n      <td>Anandamide</td>\n    </tr>\n    <tr>\n      <th>240</th>\n      <td>Isobutyrylglycine</td>\n      <td>Glutaric Acidemia Type 2</td>\n      <td>Unknown</td>\n      <td>31.2 umol/mmol creatinine</td>\n      <td>31.2 umol/mmol creatinine</td>\n      <td>Urine</td>\n      <td>NaN</td>\n      <td>Isobutyrylglycine</td>\n    </tr>\n    <tr>\n      <th>248</th>\n      <td>Cysteinylglycine</td>\n      <td>Phenylketonuria</td>\n      <td>Both</td>\n      <td>6.0 (2.0-10.0) uM</td>\n      <td>6.0 (2.0-10.0) uM</td>\n      <td>Blood</td>\n      <td>Perry, T. L. &amp; Hansen, S. Cystinylglycine in p...</td>\n      <td>Cysteinylglycine</td>\n    </tr>\n    <tr>\n      <th>250</th>\n      <td>D-Glucose</td>\n      <td>Fanconi Syndrome</td>\n      <td>Female</td>\n      <td>2.2e+03 uM</td>\n      <td>2.2e+03 uM</td>\n      <td>Blood</td>\n      <td>Late Diagnosis of Fanconi-Bickel Syndrome: Cha...</td>\n      <td>D-Glucose</td>\n    </tr>\n    <tr>\n      <th>410</th>\n      <td>L-Cystine</td>\n      <td>Molybdenum Cofactor Deficiency</td>\n      <td>Unknown</td>\n      <td>7.0 umol/mmol creatinine</td>\n      <td>7.0 umol/mmol creatinine</td>\n      <td>Urine</td>\n      <td>NaN</td>\n      <td>L-Cystine</td>\n    </tr>\n    <tr>\n      <th>476</th>\n      <td>3-Methylthiopropionic acid</td>\n      <td>Cirrhosis</td>\n      <td>Both</td>\n      <td>0.097 (0.075-0.12) umol/mmol creatinine</td>\n      <td>0.097 (0.075-0.12) umol/mmol creatinine</td>\n      <td>Urine</td>\n      <td>Yoshida, Y. [Analysis of methionine metabolism...</td>\n      <td>3-Methylthiopropionic acid</td>\n    </tr>\n    <tr>\n      <th>478</th>\n      <td>Oxytocin</td>\n      <td>Prader Willi Syndrome</td>\n      <td>Unknown</td>\n      <td>9.2e-06 (5.3e-06-1.3e-05) uM</td>\n      <td>9.2e-06 (5.3e-06-1.3e-05) uM</td>\n      <td>Cerebrospinal_Fluid</td>\n      <td>NaN</td>\n      <td>Oxytocin</td>\n    </tr>\n    <tr>\n      <th>480</th>\n      <td>Norepinephrine</td>\n      <td>Hypothyroidism</td>\n      <td>Both</td>\n      <td>5.0e-05 (3.0e-05-7.0e-05) uM</td>\n      <td>5.0e-05 (3.0e-05-7.0e-05) uM</td>\n      <td>Cerebrospinal_Fluid</td>\n      <td>Sjoberg, S., Eriksson, M. &amp; Nordin, C. L-thyro...</td>\n      <td>Norepinephrine</td>\n    </tr>\n    <tr>\n      <th>540</th>\n      <td>Spermine</td>\n      <td>Leukemia</td>\n      <td>Both</td>\n      <td>0.46 (0.25-0.68) umol/mmol creatinine</td>\n      <td>0.46 (0.25-0.68) umol/mmol creatinine</td>\n      <td>Urine</td>\n      <td>Lee, S. H., Suh, J. W., Chung, B. C. &amp; Kim, S....</td>\n      <td>Spermine</td>\n    </tr>\n    <tr>\n      <th>542</th>\n      <td>Liothyronine</td>\n      <td>Proprotein Convertase 1/3 Deficiency</td>\n      <td>Female</td>\n      <td>4.1e-06 uM</td>\n      <td>4.1e-06 uM</td>\n      <td>Blood</td>\n      <td>O'Rahilly, S., Gray, H., Humphreys, P. J., Kro...</td>\n      <td>Liothyronine</td>\n    </tr>\n    <tr>\n      <th>544</th>\n      <td>24-Hydroxycholesterol</td>\n      <td>Mild Cognitive Impairment</td>\n      <td>Unknown</td>\n      <td>0.0077 (0.0066-0.0093) uM</td>\n      <td>0.0077 (0.0066-0.0093) uM</td>\n      <td>Cerebrospinal_Fluid</td>\n      <td>Leoni, V., Masterman, T., Mousavi, F. S., Wret...</td>\n      <td>24-Hydroxycholesterol</td>\n    </tr>\n    <tr>\n      <th>564</th>\n      <td>Methylimidazoleacetic acid</td>\n      <td>Mastocytosis</td>\n      <td>Both</td>\n      <td>10.3 umol/mmol creatinine</td>\n      <td>10.3 umol/mmol creatinine</td>\n      <td>Urine</td>\n      <td>Martens-Lobenhoffer, J. &amp; Neumann, H. J. Deter...</td>\n      <td>Methylimidazoleacetic acid</td>\n    </tr>\n    <tr>\n      <th>566</th>\n      <td>Ureidoisobutyric acid</td>\n      <td>Beta Ureidopropionase Deficiency</td>\n      <td>Both</td>\n      <td>3.7 (1.4-5.9) uM</td>\n      <td>3.7 (1.4-5.9) uM</td>\n      <td>Cerebrospinal_Fluid</td>\n      <td>van Kuilenburg, A. B., Meinsma, R., Beke, E., ...</td>\n      <td>Ureidoisobutyric acid</td>\n    </tr>\n    <tr>\n      <th>568</th>\n      <td>Lipoxin A4</td>\n      <td>Coronary Artery Disease</td>\n      <td>Both</td>\n      <td>0.044 (0.037-0.051) uM</td>\n      <td>0.044 (0.037-0.051) uM</td>\n      <td>Blood</td>\n      <td>Brezinski, D. A., Nesto, R. W. &amp; Serhan, C. N....</td>\n      <td>Lipoxin A4</td>\n    </tr>\n    <tr>\n      <th>570</th>\n      <td>Ursodeoxycholic acid</td>\n      <td>Cystic Fibrosis</td>\n      <td>Both</td>\n      <td>0.48 (0.32-0.64) uM</td>\n      <td>0.48 (0.32-0.64) uM</td>\n      <td>Blood</td>\n      <td>Smith, J. L., Lewindon, P. J., Hoskins, A. C.,...</td>\n      <td>Ursodeoxycholic acid</td>\n    </tr>\n    <tr>\n      <th>576</th>\n      <td>Sulfolithocholylglycine</td>\n      <td>Cirrhosis</td>\n      <td>Both</td>\n      <td>1.8 umol/mmol creatinine</td>\n      <td>1.8 umol/mmol creatinine</td>\n      <td>Urine</td>\n      <td>Kobayashi, N., Katsumata, H., Uto, Y., Goto, J...</td>\n      <td>Sulfolithocholylglycine</td>\n    </tr>\n    <tr>\n      <th>578</th>\n      <td>Pantothenic acid</td>\n      <td>Ethanol Consumption</td>\n      <td>Unknown</td>\n      <td>0.80 (0.72-0.88) uM</td>\n      <td>0.80 (0.72-0.88) uM</td>\n      <td>Cerebrospinal_Fluid</td>\n      <td>Dastur, D. K., Santhadevi, N., Quadros, E. V.,...</td>\n      <td>Pantothenic acid</td>\n    </tr>\n    <tr>\n      <th>580</th>\n      <td>Suberic acid</td>\n      <td>Medium Chain Acyl Co A Dehydrogenase Deficiency</td>\n      <td>Unknown</td>\n      <td>22.7 umol/mmol creatinine</td>\n      <td>22.7 umol/mmol creatinine</td>\n      <td>Urine</td>\n      <td>Tserng, K. Y., Jin, S. J., Kerr, D. S. &amp; Hoppe...</td>\n      <td>Suberic acid</td>\n    </tr>\n    <tr>\n      <th>598</th>\n      <td>L-Lactic acid</td>\n      <td>Propionic Acidemia</td>\n      <td>Unknown</td>\n      <td>4.0 umol/mmol creatinine</td>\n      <td>4.0 umol/mmol creatinine</td>\n      <td>Urine</td>\n      <td>NaN</td>\n      <td>L-Lactic acid</td>\n    </tr>\n    <tr>\n      <th>2434</th>\n      <td>N-Acetyl-L-aspartic acid</td>\n      <td>Canavan Disease</td>\n      <td>Unknown</td>\n      <td>2.5e+03 (1.3e+03-3.7e+03) umol/mmol creatinine</td>\n      <td>2.5e+03 (1.3e+03-3.7e+03) umol/mmol creatinine</td>\n      <td>Urine</td>\n      <td>NaN</td>\n      <td>N-Acetyl-L-aspartic acid</td>\n    </tr>\n    <tr>\n      <th>2442</th>\n      <td>20-Hydroxyeicosatetraenoic acid</td>\n      <td>Kidney Transplantation</td>\n      <td>↵</td>\n      <td>&lt;0 pg/mL</td>\n      <td>&lt;0 pg/mL</td>\n      <td>Serum</td>\n      <td>Dolegowska, B., Blogowski, W. &amp; Domanski, L. I...</td>\n      <td>20-Hydroxyeicosatetraenoic acid</td>\n    </tr>\n    <tr>\n      <th>2443</th>\n      <td>5-HETE</td>\n      <td>Rheumatoid Arthritis</td>\n      <td>Both</td>\n      <td>0.60 (0.50-0.70) uM</td>\n      <td>0.60 (0.50-0.70) uM</td>\n      <td>Blood</td>\n      <td>Chavis, C., Fraissinet, L., Chanez, P., Thomas...</td>\n      <td>5-HETE</td>\n    </tr>\n    <tr>\n      <th>2455</th>\n      <td>13(S)-hydroxyoctadecadienoic acid</td>\n      <td>Autosomal Dominant Polycystic Kidney Disease</td>\n      <td>Both</td>\n      <td>0.31 (0.25-0.37) uM</td>\n      <td>0.31 (0.25-0.37) uM</td>\n      <td>Blood</td>\n      <td>Wang, D., Strandgaard, S., Borresen, M. L., Lu...</td>\n      <td>13(S)-hydroxyoctadecadienoic acid</td>\n    </tr>\n  </tbody>\n</table>\n</div>"
     },
     "execution_count": 45,
     "metadata": {},
     "output_type": "execute_result"
    }
   ],
   "source": [
    "fof = pd.read_csv('final_neo.csv')\n",
    "fof"
   ],
   "metadata": {
    "collapsed": false
   }
  },
  {
   "cell_type": "code",
   "execution_count": 32,
   "outputs": [],
   "source": [
    "publication_merge.rename(columns={'c':'publication'},inplace=True)\n",
    "publication_merge.head()\n",
    "publication_merge['publication_1']=publication_merge['publication']"
   ],
   "metadata": {
    "collapsed": false
   }
  },
  {
   "cell_type": "code",
   "execution_count": 38,
   "outputs": [
    {
     "data": {
      "text/plain": "                              name  chebi_id        mdbid  \\\n0            7a-Hydroxycholesterol      1296  MDB00000633   \n2            2-Hydroxybutyric acid     64552  MDB00000004   \n3   Ortho-Hydroxyphenylacetic acid     62423  MDB00000353   \n8     (S)-3-Hydroxyisobutyric acid     62638  MDB00000016   \n12           5-Aminolevulinic acid    356416  MDB00000539   \n\n                              disease  markerdb_id   Gender location  \\\n0                           Cirrhosis          545     Both    Blood   \n2   Pyruvate Dehydrogenase Deficiency       367359     Both    Urine   \n3                     Phenylketonuria         1530     Both    Urine   \n8            Diabetes Mellitus Type 2          687     Both    Blood   \n12           Eosinophilic Esophagitis       367194  Unknown    Urine   \n\n                           concentration  \\\n0                 0.054 (0.035-0.073) uM   \n2              25.0 umol/mmol creatinine   \n3     36.5 (0-76.1) umol/mmol creatinine   \n8                    38.0 (33.0-43.0) uM   \n12  19.2 (2.7-35.8) umol/mmol creatinine   \n\n                         concentration_1  \\\n0                 0.054 (0.035-0.073) uM   \n2              25.0 umol/mmol creatinine   \n3     36.5 (0-76.1) umol/mmol creatinine   \n8                    38.0 (33.0-43.0) uM   \n12  19.2 (2.7-35.8) umol/mmol creatinine   \n\n                                          publication  \\\n0   Hahn, C., Reichel, C. & von Bergmann, K. Serum...   \n2                                         OMIM 238331   \n3   Monch, E., Kneer, J., Jakobs, C., Arnold, M., ...   \n8   Avogaro, A. & Bier, D. M. Contribution of 3-hy...   \n12              Mordechai, Hien, and David S. Wishart   \n\n                                        publication_1  \n0   Hahn, C., Reichel, C. & von Bergmann, K. Serum...  \n2                                         OMIM 238331  \n3   Monch, E., Kneer, J., Jakobs, C., Arnold, M., ...  \n8   Avogaro, A. & Bier, D. M. Contribution of 3-hy...  \n12              Mordechai, Hien, and David S. Wishart  ",
      "text/html": "<div>\n<style scoped>\n    .dataframe tbody tr th:only-of-type {\n        vertical-align: middle;\n    }\n\n    .dataframe tbody tr th {\n        vertical-align: top;\n    }\n\n    .dataframe thead th {\n        text-align: right;\n    }\n</style>\n<table border=\"1\" class=\"dataframe\">\n  <thead>\n    <tr style=\"text-align: right;\">\n      <th></th>\n      <th>name</th>\n      <th>chebi_id</th>\n      <th>mdbid</th>\n      <th>disease</th>\n      <th>markerdb_id</th>\n      <th>Gender</th>\n      <th>location</th>\n      <th>concentration</th>\n      <th>concentration_1</th>\n      <th>publication</th>\n      <th>publication_1</th>\n    </tr>\n  </thead>\n  <tbody>\n    <tr>\n      <th>0</th>\n      <td>7a-Hydroxycholesterol</td>\n      <td>1296</td>\n      <td>MDB00000633</td>\n      <td>Cirrhosis</td>\n      <td>545</td>\n      <td>Both</td>\n      <td>Blood</td>\n      <td>0.054 (0.035-0.073) uM</td>\n      <td>0.054 (0.035-0.073) uM</td>\n      <td>Hahn, C., Reichel, C. &amp; von Bergmann, K. Serum...</td>\n      <td>Hahn, C., Reichel, C. &amp; von Bergmann, K. Serum...</td>\n    </tr>\n    <tr>\n      <th>2</th>\n      <td>2-Hydroxybutyric acid</td>\n      <td>64552</td>\n      <td>MDB00000004</td>\n      <td>Pyruvate Dehydrogenase Deficiency</td>\n      <td>367359</td>\n      <td>Both</td>\n      <td>Urine</td>\n      <td>25.0 umol/mmol creatinine</td>\n      <td>25.0 umol/mmol creatinine</td>\n      <td>OMIM 238331</td>\n      <td>OMIM 238331</td>\n    </tr>\n    <tr>\n      <th>3</th>\n      <td>Ortho-Hydroxyphenylacetic acid</td>\n      <td>62423</td>\n      <td>MDB00000353</td>\n      <td>Phenylketonuria</td>\n      <td>1530</td>\n      <td>Both</td>\n      <td>Urine</td>\n      <td>36.5 (0-76.1) umol/mmol creatinine</td>\n      <td>36.5 (0-76.1) umol/mmol creatinine</td>\n      <td>Monch, E., Kneer, J., Jakobs, C., Arnold, M., ...</td>\n      <td>Monch, E., Kneer, J., Jakobs, C., Arnold, M., ...</td>\n    </tr>\n    <tr>\n      <th>8</th>\n      <td>(S)-3-Hydroxyisobutyric acid</td>\n      <td>62638</td>\n      <td>MDB00000016</td>\n      <td>Diabetes Mellitus Type 2</td>\n      <td>687</td>\n      <td>Both</td>\n      <td>Blood</td>\n      <td>38.0 (33.0-43.0) uM</td>\n      <td>38.0 (33.0-43.0) uM</td>\n      <td>Avogaro, A. &amp; Bier, D. M. Contribution of 3-hy...</td>\n      <td>Avogaro, A. &amp; Bier, D. M. Contribution of 3-hy...</td>\n    </tr>\n    <tr>\n      <th>12</th>\n      <td>5-Aminolevulinic acid</td>\n      <td>356416</td>\n      <td>MDB00000539</td>\n      <td>Eosinophilic Esophagitis</td>\n      <td>367194</td>\n      <td>Unknown</td>\n      <td>Urine</td>\n      <td>19.2 (2.7-35.8) umol/mmol creatinine</td>\n      <td>19.2 (2.7-35.8) umol/mmol creatinine</td>\n      <td>Mordechai, Hien, and David S. Wishart</td>\n      <td>Mordechai, Hien, and David S. Wishart</td>\n    </tr>\n  </tbody>\n</table>\n</div>"
     },
     "execution_count": 38,
     "metadata": {},
     "output_type": "execute_result"
    }
   ],
   "source": [
    "publication_merge.head()"
   ],
   "metadata": {
    "collapsed": false
   }
  },
  {
   "cell_type": "code",
   "execution_count": 40,
   "outputs": [],
   "source": [
    "publication_merge.to_csv('Ll.csv')"
   ],
   "metadata": {
    "collapsed": false
   }
  },
  {
   "cell_type": "code",
   "execution_count": 41,
   "outputs": [],
   "source": [
    "j = pd.read_csv('Ll.csv')"
   ],
   "metadata": {
    "collapsed": false
   }
  },
  {
   "cell_type": "code",
   "execution_count": 42,
   "outputs": [
    {
     "data": {
      "text/plain": "   Unnamed: 0                            name  chebi_id        mdbid  \\\n0           0           7a-Hydroxycholesterol      1296  MDB00000633   \n1           2           2-Hydroxybutyric acid     64552  MDB00000004   \n2           3  Ortho-Hydroxyphenylacetic acid     62423  MDB00000353   \n3           8    (S)-3-Hydroxyisobutyric acid     62638  MDB00000016   \n4          12           5-Aminolevulinic acid    356416  MDB00000539   \n\n                             disease  markerdb_id   Gender location  \\\n0                          Cirrhosis          545     Both    Blood   \n1  Pyruvate Dehydrogenase Deficiency       367359     Both    Urine   \n2                    Phenylketonuria         1530     Both    Urine   \n3           Diabetes Mellitus Type 2          687     Both    Blood   \n4           Eosinophilic Esophagitis       367194  Unknown    Urine   \n\n                          concentration                       concentration_1  \\\n0                0.054 (0.035-0.073) uM                0.054 (0.035-0.073) uM   \n1             25.0 umol/mmol creatinine             25.0 umol/mmol creatinine   \n2    36.5 (0-76.1) umol/mmol creatinine    36.5 (0-76.1) umol/mmol creatinine   \n3                   38.0 (33.0-43.0) uM                   38.0 (33.0-43.0) uM   \n4  19.2 (2.7-35.8) umol/mmol creatinine  19.2 (2.7-35.8) umol/mmol creatinine   \n\n                                         publication  \\\n0  Hahn, C., Reichel, C. & von Bergmann, K. Serum...   \n1                                        OMIM 238331   \n2  Monch, E., Kneer, J., Jakobs, C., Arnold, M., ...   \n3  Avogaro, A. & Bier, D. M. Contribution of 3-hy...   \n4              Mordechai, Hien, and David S. Wishart   \n\n                                       publication_1  \n0  Hahn, C., Reichel, C. & von Bergmann, K. Serum...  \n1                                        OMIM 238331  \n2  Monch, E., Kneer, J., Jakobs, C., Arnold, M., ...  \n3  Avogaro, A. & Bier, D. M. Contribution of 3-hy...  \n4              Mordechai, Hien, and David S. Wishart  ",
      "text/html": "<div>\n<style scoped>\n    .dataframe tbody tr th:only-of-type {\n        vertical-align: middle;\n    }\n\n    .dataframe tbody tr th {\n        vertical-align: top;\n    }\n\n    .dataframe thead th {\n        text-align: right;\n    }\n</style>\n<table border=\"1\" class=\"dataframe\">\n  <thead>\n    <tr style=\"text-align: right;\">\n      <th></th>\n      <th>Unnamed: 0</th>\n      <th>name</th>\n      <th>chebi_id</th>\n      <th>mdbid</th>\n      <th>disease</th>\n      <th>markerdb_id</th>\n      <th>Gender</th>\n      <th>location</th>\n      <th>concentration</th>\n      <th>concentration_1</th>\n      <th>publication</th>\n      <th>publication_1</th>\n    </tr>\n  </thead>\n  <tbody>\n    <tr>\n      <th>0</th>\n      <td>0</td>\n      <td>7a-Hydroxycholesterol</td>\n      <td>1296</td>\n      <td>MDB00000633</td>\n      <td>Cirrhosis</td>\n      <td>545</td>\n      <td>Both</td>\n      <td>Blood</td>\n      <td>0.054 (0.035-0.073) uM</td>\n      <td>0.054 (0.035-0.073) uM</td>\n      <td>Hahn, C., Reichel, C. &amp; von Bergmann, K. Serum...</td>\n      <td>Hahn, C., Reichel, C. &amp; von Bergmann, K. Serum...</td>\n    </tr>\n    <tr>\n      <th>1</th>\n      <td>2</td>\n      <td>2-Hydroxybutyric acid</td>\n      <td>64552</td>\n      <td>MDB00000004</td>\n      <td>Pyruvate Dehydrogenase Deficiency</td>\n      <td>367359</td>\n      <td>Both</td>\n      <td>Urine</td>\n      <td>25.0 umol/mmol creatinine</td>\n      <td>25.0 umol/mmol creatinine</td>\n      <td>OMIM 238331</td>\n      <td>OMIM 238331</td>\n    </tr>\n    <tr>\n      <th>2</th>\n      <td>3</td>\n      <td>Ortho-Hydroxyphenylacetic acid</td>\n      <td>62423</td>\n      <td>MDB00000353</td>\n      <td>Phenylketonuria</td>\n      <td>1530</td>\n      <td>Both</td>\n      <td>Urine</td>\n      <td>36.5 (0-76.1) umol/mmol creatinine</td>\n      <td>36.5 (0-76.1) umol/mmol creatinine</td>\n      <td>Monch, E., Kneer, J., Jakobs, C., Arnold, M., ...</td>\n      <td>Monch, E., Kneer, J., Jakobs, C., Arnold, M., ...</td>\n    </tr>\n    <tr>\n      <th>3</th>\n      <td>8</td>\n      <td>(S)-3-Hydroxyisobutyric acid</td>\n      <td>62638</td>\n      <td>MDB00000016</td>\n      <td>Diabetes Mellitus Type 2</td>\n      <td>687</td>\n      <td>Both</td>\n      <td>Blood</td>\n      <td>38.0 (33.0-43.0) uM</td>\n      <td>38.0 (33.0-43.0) uM</td>\n      <td>Avogaro, A. &amp; Bier, D. M. Contribution of 3-hy...</td>\n      <td>Avogaro, A. &amp; Bier, D. M. Contribution of 3-hy...</td>\n    </tr>\n    <tr>\n      <th>4</th>\n      <td>12</td>\n      <td>5-Aminolevulinic acid</td>\n      <td>356416</td>\n      <td>MDB00000539</td>\n      <td>Eosinophilic Esophagitis</td>\n      <td>367194</td>\n      <td>Unknown</td>\n      <td>Urine</td>\n      <td>19.2 (2.7-35.8) umol/mmol creatinine</td>\n      <td>19.2 (2.7-35.8) umol/mmol creatinine</td>\n      <td>Mordechai, Hien, and David S. Wishart</td>\n      <td>Mordechai, Hien, and David S. Wishart</td>\n    </tr>\n  </tbody>\n</table>\n</div>"
     },
     "execution_count": 42,
     "metadata": {},
     "output_type": "execute_result"
    }
   ],
   "source": [
    "j.head()"
   ],
   "metadata": {
    "collapsed": false
   }
  },
  {
   "cell_type": "code",
   "execution_count": 45,
   "outputs": [],
   "source": [
    "j.rename(columns={'Unnamed: 0':'number'},inplace=True)"
   ],
   "metadata": {
    "collapsed": false
   }
  },
  {
   "cell_type": "code",
   "execution_count": 46,
   "outputs": [],
   "source": [
    "j.to_csv('last.csv',index_label=False)"
   ],
   "metadata": {
    "collapsed": false
   }
  },
  {
   "cell_type": "code",
   "execution_count": 3,
   "outputs": [],
   "source": [
    "final = pd.read_csv('last.csv')\n",
    "biomakers = pd.read_csv('biomarkers_final.csv')"
   ],
   "metadata": {
    "collapsed": false
   }
  },
  {
   "cell_type": "code",
   "execution_count": 8,
   "outputs": [
    {
     "name": "stdout",
     "output_type": "stream",
     "text": [
      "<class 'pandas.core.frame.DataFrame'>\n",
      "Int64Index: 33 entries, 0 to 32\n",
      "Data columns (total 12 columns):\n",
      " #   Column           Non-Null Count  Dtype \n",
      "---  ------           --------------  ----- \n",
      " 0   number           33 non-null     int64 \n",
      " 1   name             33 non-null     object\n",
      " 2   chebi_id         33 non-null     int64 \n",
      " 3   mdbid            33 non-null     object\n",
      " 4   disease          33 non-null     object\n",
      " 5   markerdb_id      33 non-null     int64 \n",
      " 6   Gender           33 non-null     object\n",
      " 7   location         33 non-null     object\n",
      " 8   concentration    33 non-null     object\n",
      " 9   concentration_1  33 non-null     object\n",
      " 10  publication      27 non-null     object\n",
      " 11  publication_1    27 non-null     object\n",
      "dtypes: int64(3), object(9)\n",
      "memory usage: 3.4+ KB\n"
     ]
    }
   ],
   "source": [
    "final.info()"
   ],
   "metadata": {
    "collapsed": false
   }
  },
  {
   "cell_type": "code",
   "execution_count": 4,
   "outputs": [
    {
     "data": {
      "text/plain": "   number                            name  chebi_id        mdbid  \\\n0       0           7a-Hydroxycholesterol      1296  MDB00000633   \n1       2           2-Hydroxybutyric acid     64552  MDB00000004   \n2       3  Ortho-Hydroxyphenylacetic acid     62423  MDB00000353   \n3       8    (S)-3-Hydroxyisobutyric acid     62638  MDB00000016   \n4      12           5-Aminolevulinic acid    356416  MDB00000539   \n\n                             disease  markerdb_id   Gender location  \\\n0                          Cirrhosis          545     Both    Blood   \n1  Pyruvate Dehydrogenase Deficiency       367359     Both    Urine   \n2                    Phenylketonuria         1530     Both    Urine   \n3           Diabetes Mellitus Type 2          687     Both    Blood   \n4           Eosinophilic Esophagitis       367194  Unknown    Urine   \n\n                          concentration                       concentration_1  \\\n0                0.054 (0.035-0.073) uM                0.054 (0.035-0.073) uM   \n1             25.0 umol/mmol creatinine             25.0 umol/mmol creatinine   \n2    36.5 (0-76.1) umol/mmol creatinine    36.5 (0-76.1) umol/mmol creatinine   \n3                   38.0 (33.0-43.0) uM                   38.0 (33.0-43.0) uM   \n4  19.2 (2.7-35.8) umol/mmol creatinine  19.2 (2.7-35.8) umol/mmol creatinine   \n\n                                         publication  \\\n0  Hahn, C., Reichel, C. & von Bergmann, K. Serum...   \n1                                        OMIM 238331   \n2  Monch, E., Kneer, J., Jakobs, C., Arnold, M., ...   \n3  Avogaro, A. & Bier, D. M. Contribution of 3-hy...   \n4              Mordechai, Hien, and David S. Wishart   \n\n                                       publication_1  \n0  Hahn, C., Reichel, C. & von Bergmann, K. Serum...  \n1                                        OMIM 238331  \n2  Monch, E., Kneer, J., Jakobs, C., Arnold, M., ...  \n3  Avogaro, A. & Bier, D. M. Contribution of 3-hy...  \n4              Mordechai, Hien, and David S. Wishart  ",
      "text/html": "<div>\n<style scoped>\n    .dataframe tbody tr th:only-of-type {\n        vertical-align: middle;\n    }\n\n    .dataframe tbody tr th {\n        vertical-align: top;\n    }\n\n    .dataframe thead th {\n        text-align: right;\n    }\n</style>\n<table border=\"1\" class=\"dataframe\">\n  <thead>\n    <tr style=\"text-align: right;\">\n      <th></th>\n      <th>number</th>\n      <th>name</th>\n      <th>chebi_id</th>\n      <th>mdbid</th>\n      <th>disease</th>\n      <th>markerdb_id</th>\n      <th>Gender</th>\n      <th>location</th>\n      <th>concentration</th>\n      <th>concentration_1</th>\n      <th>publication</th>\n      <th>publication_1</th>\n    </tr>\n  </thead>\n  <tbody>\n    <tr>\n      <th>0</th>\n      <td>0</td>\n      <td>7a-Hydroxycholesterol</td>\n      <td>1296</td>\n      <td>MDB00000633</td>\n      <td>Cirrhosis</td>\n      <td>545</td>\n      <td>Both</td>\n      <td>Blood</td>\n      <td>0.054 (0.035-0.073) uM</td>\n      <td>0.054 (0.035-0.073) uM</td>\n      <td>Hahn, C., Reichel, C. &amp; von Bergmann, K. Serum...</td>\n      <td>Hahn, C., Reichel, C. &amp; von Bergmann, K. Serum...</td>\n    </tr>\n    <tr>\n      <th>1</th>\n      <td>2</td>\n      <td>2-Hydroxybutyric acid</td>\n      <td>64552</td>\n      <td>MDB00000004</td>\n      <td>Pyruvate Dehydrogenase Deficiency</td>\n      <td>367359</td>\n      <td>Both</td>\n      <td>Urine</td>\n      <td>25.0 umol/mmol creatinine</td>\n      <td>25.0 umol/mmol creatinine</td>\n      <td>OMIM 238331</td>\n      <td>OMIM 238331</td>\n    </tr>\n    <tr>\n      <th>2</th>\n      <td>3</td>\n      <td>Ortho-Hydroxyphenylacetic acid</td>\n      <td>62423</td>\n      <td>MDB00000353</td>\n      <td>Phenylketonuria</td>\n      <td>1530</td>\n      <td>Both</td>\n      <td>Urine</td>\n      <td>36.5 (0-76.1) umol/mmol creatinine</td>\n      <td>36.5 (0-76.1) umol/mmol creatinine</td>\n      <td>Monch, E., Kneer, J., Jakobs, C., Arnold, M., ...</td>\n      <td>Monch, E., Kneer, J., Jakobs, C., Arnold, M., ...</td>\n    </tr>\n    <tr>\n      <th>3</th>\n      <td>8</td>\n      <td>(S)-3-Hydroxyisobutyric acid</td>\n      <td>62638</td>\n      <td>MDB00000016</td>\n      <td>Diabetes Mellitus Type 2</td>\n      <td>687</td>\n      <td>Both</td>\n      <td>Blood</td>\n      <td>38.0 (33.0-43.0) uM</td>\n      <td>38.0 (33.0-43.0) uM</td>\n      <td>Avogaro, A. &amp; Bier, D. M. Contribution of 3-hy...</td>\n      <td>Avogaro, A. &amp; Bier, D. M. Contribution of 3-hy...</td>\n    </tr>\n    <tr>\n      <th>4</th>\n      <td>12</td>\n      <td>5-Aminolevulinic acid</td>\n      <td>356416</td>\n      <td>MDB00000539</td>\n      <td>Eosinophilic Esophagitis</td>\n      <td>367194</td>\n      <td>Unknown</td>\n      <td>Urine</td>\n      <td>19.2 (2.7-35.8) umol/mmol creatinine</td>\n      <td>19.2 (2.7-35.8) umol/mmol creatinine</td>\n      <td>Mordechai, Hien, and David S. Wishart</td>\n      <td>Mordechai, Hien, and David S. Wishart</td>\n    </tr>\n  </tbody>\n</table>\n</div>"
     },
     "execution_count": 4,
     "metadata": {},
     "output_type": "execute_result"
    }
   ],
   "source": [
    "final.head()"
   ],
   "metadata": {
    "collapsed": false
   }
  },
  {
   "cell_type": "code",
   "execution_count": 5,
   "outputs": [
    {
     "data": {
      "text/plain": "                                     name_of_disease abbreviation_of_disease  \\\n0  Glycine Encephalopathy/ Nonketotic Hyperglycin...                     NKH   \n1           Gyrate Atrophy of the Choroid And Retina                    GACR   \n2                          Maple Syrup Urine Disease                    MSUD   \n3  Neonatal Intrahepatic Cholestasis caused by Ci...                   NICCD   \n4                                 Hypermethioninemia                    HMET   \n\n                type_of_disease  \\\n0  Inherited metabolic disorder   \n1  Inherited metabolic disorder   \n2  Inherited metabolic disorder   \n3  Inherited metabolic disorder   \n4  Inherited metabolic disorder   \n\n                                    notes_of_disease  \\\n0  About 80 percent of cases of glycine encephalo...   \n1  Decreased activity of ornithine-delta-aminotra...   \n2  In plasma increased levels of allo-isoleucine,...   \n3  Blood-elevated acetylcarnitine (C2), palmitoyl...   \n4  A deficiency of any of these enzymes (i.e. MAT...   \n\n                                           phenotype  \\\n0  1) Neonatal (classic) presentation-The neonata...   \n1                                                NaN   \n2  1) Classic and intermediate MSUD. 2)There are ...   \n3  The two phenotypes of citrin deficiency are ci...   \n4                                                NaN   \n\n                    organ_affected  cheblid_of_biomarker  \\\n0                   Nervous system               15428.0   \n1                      Muscle, eye               17203.0   \n2                   Nervous system               16414.0   \n3                            Liver               16857.0   \n4  Nervous system,  liver,  muscle               16643.0   \n\n                            description_of_biomarker fullname_of_biomarker  \\\n0  Human Metabolome Database (HMDB): Glycine is a...               Glycine   \n1  Human Metabolome Database (HMDB): L-proline is...             L-Proline   \n2  Human Metabolome Database (HMDB): Valine (abbr...              L-Valine   \n3  Human Metabolome Database (HMDB): Threonine is...           L-Threonine   \n4  Human Metabolome Database (HMDB): Methionine i...          L-Methionine   \n\n  abbreviation_of_biomarker  ... value_of_biomarker normal_conc_of_biomarker  \\\n0                       gly  ...          Increased            180.00-740.00   \n1                     pro_L  ...          Increased           95.00 - 320.00   \n2                     val_L  ...          Increased                65.00-215   \n3                     thr_L  ...          Increased                 25 - 150   \n4                     met_L  ...          Increased              10.00-38.00   \n\n  ramedis_of_biomarker range_conc_of_biomarker biocyc_biomarker  \\\n0                  NaN          550.00-1350.00              GLY   \n1                  NaN                830-1360              PRO   \n2        125, 133, 337         210.00 - 650.00              VAL   \n3                  NaN                     NaN              THR   \n4                  NaN           56.00 -170.00              MET   \n\n                                     smile_biomarker hmdb_biomarker  \\\n0              [H][N+]([H])([H])C([H])([H])C([O-])=O    HMDB0000123   \n1  [H]C1([H])C([H])([H])[N+]([H])([H])[C@]([H])(C...    HMDB0000162   \n2  [H]C([H])([H])C([H])(C([H])([H])[H])[C@@]([H])...    HMDB0000883   \n3  [H]O[C@]([H])(C([H])([H])[H])[C@@]([H])(C([O-]...    HMDB0000167   \n4  [H]C([H])([H])SC([H])([H])C([H])([H])[C@@]([H]...    HMDB0000696   \n\n  reconMap3_biomarker food_db_biomarker pubChemId_biomarker  \n0                 gly         FDB000484               750.0  \n1               pro_L         FDB000570            145742.0  \n2               val_L         FDB000465              6287.0  \n3               thr_L         FDB011999              6288.0  \n4               met_L         FDB012683              6137.0  \n\n[5 rows x 24 columns]",
      "text/html": "<div>\n<style scoped>\n    .dataframe tbody tr th:only-of-type {\n        vertical-align: middle;\n    }\n\n    .dataframe tbody tr th {\n        vertical-align: top;\n    }\n\n    .dataframe thead th {\n        text-align: right;\n    }\n</style>\n<table border=\"1\" class=\"dataframe\">\n  <thead>\n    <tr style=\"text-align: right;\">\n      <th></th>\n      <th>name_of_disease</th>\n      <th>abbreviation_of_disease</th>\n      <th>type_of_disease</th>\n      <th>notes_of_disease</th>\n      <th>phenotype</th>\n      <th>organ_affected</th>\n      <th>cheblid_of_biomarker</th>\n      <th>description_of_biomarker</th>\n      <th>fullname_of_biomarker</th>\n      <th>abbreviation_of_biomarker</th>\n      <th>...</th>\n      <th>value_of_biomarker</th>\n      <th>normal_conc_of_biomarker</th>\n      <th>ramedis_of_biomarker</th>\n      <th>range_conc_of_biomarker</th>\n      <th>biocyc_biomarker</th>\n      <th>smile_biomarker</th>\n      <th>hmdb_biomarker</th>\n      <th>reconMap3_biomarker</th>\n      <th>food_db_biomarker</th>\n      <th>pubChemId_biomarker</th>\n    </tr>\n  </thead>\n  <tbody>\n    <tr>\n      <th>0</th>\n      <td>Glycine Encephalopathy/ Nonketotic Hyperglycin...</td>\n      <td>NKH</td>\n      <td>Inherited metabolic disorder</td>\n      <td>About 80 percent of cases of glycine encephalo...</td>\n      <td>1) Neonatal (classic) presentation-The neonata...</td>\n      <td>Nervous system</td>\n      <td>15428.0</td>\n      <td>Human Metabolome Database (HMDB): Glycine is a...</td>\n      <td>Glycine</td>\n      <td>gly</td>\n      <td>...</td>\n      <td>Increased</td>\n      <td>180.00-740.00</td>\n      <td>NaN</td>\n      <td>550.00-1350.00</td>\n      <td>GLY</td>\n      <td>[H][N+]([H])([H])C([H])([H])C([O-])=O</td>\n      <td>HMDB0000123</td>\n      <td>gly</td>\n      <td>FDB000484</td>\n      <td>750.0</td>\n    </tr>\n    <tr>\n      <th>1</th>\n      <td>Gyrate Atrophy of the Choroid And Retina</td>\n      <td>GACR</td>\n      <td>Inherited metabolic disorder</td>\n      <td>Decreased activity of ornithine-delta-aminotra...</td>\n      <td>NaN</td>\n      <td>Muscle, eye</td>\n      <td>17203.0</td>\n      <td>Human Metabolome Database (HMDB): L-proline is...</td>\n      <td>L-Proline</td>\n      <td>pro_L</td>\n      <td>...</td>\n      <td>Increased</td>\n      <td>95.00 - 320.00</td>\n      <td>NaN</td>\n      <td>830-1360</td>\n      <td>PRO</td>\n      <td>[H]C1([H])C([H])([H])[N+]([H])([H])[C@]([H])(C...</td>\n      <td>HMDB0000162</td>\n      <td>pro_L</td>\n      <td>FDB000570</td>\n      <td>145742.0</td>\n    </tr>\n    <tr>\n      <th>2</th>\n      <td>Maple Syrup Urine Disease</td>\n      <td>MSUD</td>\n      <td>Inherited metabolic disorder</td>\n      <td>In plasma increased levels of allo-isoleucine,...</td>\n      <td>1) Classic and intermediate MSUD. 2)There are ...</td>\n      <td>Nervous system</td>\n      <td>16414.0</td>\n      <td>Human Metabolome Database (HMDB): Valine (abbr...</td>\n      <td>L-Valine</td>\n      <td>val_L</td>\n      <td>...</td>\n      <td>Increased</td>\n      <td>65.00-215</td>\n      <td>125, 133, 337</td>\n      <td>210.00 - 650.00</td>\n      <td>VAL</td>\n      <td>[H]C([H])([H])C([H])(C([H])([H])[H])[C@@]([H])...</td>\n      <td>HMDB0000883</td>\n      <td>val_L</td>\n      <td>FDB000465</td>\n      <td>6287.0</td>\n    </tr>\n    <tr>\n      <th>3</th>\n      <td>Neonatal Intrahepatic Cholestasis caused by Ci...</td>\n      <td>NICCD</td>\n      <td>Inherited metabolic disorder</td>\n      <td>Blood-elevated acetylcarnitine (C2), palmitoyl...</td>\n      <td>The two phenotypes of citrin deficiency are ci...</td>\n      <td>Liver</td>\n      <td>16857.0</td>\n      <td>Human Metabolome Database (HMDB): Threonine is...</td>\n      <td>L-Threonine</td>\n      <td>thr_L</td>\n      <td>...</td>\n      <td>Increased</td>\n      <td>25 - 150</td>\n      <td>NaN</td>\n      <td>NaN</td>\n      <td>THR</td>\n      <td>[H]O[C@]([H])(C([H])([H])[H])[C@@]([H])(C([O-]...</td>\n      <td>HMDB0000167</td>\n      <td>thr_L</td>\n      <td>FDB011999</td>\n      <td>6288.0</td>\n    </tr>\n    <tr>\n      <th>4</th>\n      <td>Hypermethioninemia</td>\n      <td>HMET</td>\n      <td>Inherited metabolic disorder</td>\n      <td>A deficiency of any of these enzymes (i.e. MAT...</td>\n      <td>NaN</td>\n      <td>Nervous system,  liver,  muscle</td>\n      <td>16643.0</td>\n      <td>Human Metabolome Database (HMDB): Methionine i...</td>\n      <td>L-Methionine</td>\n      <td>met_L</td>\n      <td>...</td>\n      <td>Increased</td>\n      <td>10.00-38.00</td>\n      <td>NaN</td>\n      <td>56.00 -170.00</td>\n      <td>MET</td>\n      <td>[H]C([H])([H])SC([H])([H])C([H])([H])[C@@]([H]...</td>\n      <td>HMDB0000696</td>\n      <td>met_L</td>\n      <td>FDB012683</td>\n      <td>6137.0</td>\n    </tr>\n  </tbody>\n</table>\n<p>5 rows × 24 columns</p>\n</div>"
     },
     "execution_count": 5,
     "metadata": {},
     "output_type": "execute_result"
    }
   ],
   "source": [
    "biomakers.head()"
   ],
   "metadata": {
    "collapsed": false
   }
  },
  {
   "cell_type": "code",
   "execution_count": 15,
   "outputs": [],
   "source": [
    "bio_merg = biomakers[['name_of_disease','fullname_of_biomarker','cheblid_of_biomarker']]"
   ],
   "metadata": {
    "collapsed": false
   }
  },
  {
   "cell_type": "code",
   "execution_count": 16,
   "outputs": [
    {
     "data": {
      "text/plain": "                                     name_of_disease fullname_of_biomarker  \\\n0  Glycine Encephalopathy/ Nonketotic Hyperglycin...               Glycine   \n1           Gyrate Atrophy of the Choroid And Retina             L-Proline   \n2                          Maple Syrup Urine Disease              L-Valine   \n3  Neonatal Intrahepatic Cholestasis caused by Ci...           L-Threonine   \n4                                 Hypermethioninemia          L-Methionine   \n\n   cheblid_of_biomarker  \n0               15428.0  \n1               17203.0  \n2               16414.0  \n3               16857.0  \n4               16643.0  ",
      "text/html": "<div>\n<style scoped>\n    .dataframe tbody tr th:only-of-type {\n        vertical-align: middle;\n    }\n\n    .dataframe tbody tr th {\n        vertical-align: top;\n    }\n\n    .dataframe thead th {\n        text-align: right;\n    }\n</style>\n<table border=\"1\" class=\"dataframe\">\n  <thead>\n    <tr style=\"text-align: right;\">\n      <th></th>\n      <th>name_of_disease</th>\n      <th>fullname_of_biomarker</th>\n      <th>cheblid_of_biomarker</th>\n    </tr>\n  </thead>\n  <tbody>\n    <tr>\n      <th>0</th>\n      <td>Glycine Encephalopathy/ Nonketotic Hyperglycin...</td>\n      <td>Glycine</td>\n      <td>15428.0</td>\n    </tr>\n    <tr>\n      <th>1</th>\n      <td>Gyrate Atrophy of the Choroid And Retina</td>\n      <td>L-Proline</td>\n      <td>17203.0</td>\n    </tr>\n    <tr>\n      <th>2</th>\n      <td>Maple Syrup Urine Disease</td>\n      <td>L-Valine</td>\n      <td>16414.0</td>\n    </tr>\n    <tr>\n      <th>3</th>\n      <td>Neonatal Intrahepatic Cholestasis caused by Ci...</td>\n      <td>L-Threonine</td>\n      <td>16857.0</td>\n    </tr>\n    <tr>\n      <th>4</th>\n      <td>Hypermethioninemia</td>\n      <td>L-Methionine</td>\n      <td>16643.0</td>\n    </tr>\n  </tbody>\n</table>\n</div>"
     },
     "execution_count": 16,
     "metadata": {},
     "output_type": "execute_result"
    }
   ],
   "source": [
    "bio_merg.head()"
   ],
   "metadata": {
    "collapsed": false
   }
  },
  {
   "cell_type": "code",
   "execution_count": 17,
   "outputs": [
    {
     "name": "stderr",
     "output_type": "stream",
     "text": [
      "C:\\Users\\karim\\AppData\\Local\\Temp\\ipykernel_20320\\2190569897.py:1: SettingWithCopyWarning: \n",
      "A value is trying to be set on a copy of a slice from a DataFrame\n",
      "\n",
      "See the caveats in the documentation: https://pandas.pydata.org/pandas-docs/stable/user_guide/indexing.html#returning-a-view-versus-a-copy\n",
      "  bio_merg.rename(columns={'name_of_disease':'disease','fullname_of_biomarker':'name','cheblid_of_biomarker':'chebi_id'},inplace=True)\n"
     ]
    }
   ],
   "source": [
    "bio_merg.rename(columns={'name_of_disease':'disease','fullname_of_biomarker':'name','cheblid_of_biomarker':'chebi_id'},inplace=True)"
   ],
   "metadata": {
    "collapsed": false
   }
  },
  {
   "cell_type": "code",
   "execution_count": 18,
   "outputs": [
    {
     "name": "stdout",
     "output_type": "stream",
     "text": [
      "<class 'pandas.core.frame.DataFrame'>\n",
      "RangeIndex: 115 entries, 0 to 114\n",
      "Data columns (total 3 columns):\n",
      " #   Column    Non-Null Count  Dtype  \n",
      "---  ------    --------------  -----  \n",
      " 0   disease   115 non-null    object \n",
      " 1   name      115 non-null    object \n",
      " 2   chebi_id  67 non-null     float64\n",
      "dtypes: float64(1), object(2)\n",
      "memory usage: 2.8+ KB\n"
     ]
    }
   ],
   "source": [
    "bio_merg.info()"
   ],
   "metadata": {
    "collapsed": false
   }
  },
  {
   "cell_type": "code",
   "execution_count": 19,
   "outputs": [],
   "source": [
    "merge = bio_merg.merge(final,how='inner')"
   ],
   "metadata": {
    "collapsed": false
   }
  },
  {
   "cell_type": "code",
   "execution_count": 20,
   "outputs": [
    {
     "name": "stdout",
     "output_type": "stream",
     "text": [
      "<class 'pandas.core.frame.DataFrame'>\n",
      "Index: 0 entries\n",
      "Data columns (total 14 columns):\n",
      " #   Column           Non-Null Count  Dtype  \n",
      "---  ------           --------------  -----  \n",
      " 0   disease_x        0 non-null      object \n",
      " 1   name_x           0 non-null      object \n",
      " 2   chebi_id         0 non-null      float64\n",
      " 3   number           0 non-null      int64  \n",
      " 4   name_y           0 non-null      object \n",
      " 5   mdbid            0 non-null      object \n",
      " 6   disease_y        0 non-null      object \n",
      " 7   markerdb_id      0 non-null      int64  \n",
      " 8   Gender           0 non-null      object \n",
      " 9   location         0 non-null      object \n",
      " 10  concentration    0 non-null      object \n",
      " 11  concentration_1  0 non-null      object \n",
      " 12  publication      0 non-null      object \n",
      " 13  publication_1    0 non-null      object \n",
      "dtypes: float64(1), int64(2), object(11)\n",
      "memory usage: 0.0+ bytes\n"
     ]
    }
   ],
   "source": [
    "merge.info()"
   ],
   "metadata": {
    "collapsed": false
   }
  },
  {
   "cell_type": "code",
   "execution_count": 2,
   "outputs": [],
   "source": [
    "last = pd.read_csv('last.csv')"
   ],
   "metadata": {
    "collapsed": false
   }
  },
  {
   "cell_type": "code",
   "execution_count": 3,
   "outputs": [
    {
     "data": {
      "text/plain": "   number                            name  chebi_id        mdbid  \\\n0       0           7a-Hydroxycholesterol      1296  MDB00000633   \n1       2           2-Hydroxybutyric acid     64552  MDB00000004   \n2       3  Ortho-Hydroxyphenylacetic acid     62423  MDB00000353   \n3       8    (S)-3-Hydroxyisobutyric acid     62638  MDB00000016   \n4      12           5-Aminolevulinic acid    356416  MDB00000539   \n\n                             disease  markerdb_id   Gender location  \\\n0                          Cirrhosis          545     Both    Blood   \n1  Pyruvate Dehydrogenase Deficiency       367359     Both    Urine   \n2                    Phenylketonuria         1530     Both    Urine   \n3           Diabetes Mellitus Type 2          687     Both    Blood   \n4           Eosinophilic Esophagitis       367194  Unknown    Urine   \n\n                          concentration                       concentration_1  \\\n0                0.054 (0.035-0.073) uM                0.054 (0.035-0.073) uM   \n1             25.0 umol/mmol creatinine             25.0 umol/mmol creatinine   \n2    36.5 (0-76.1) umol/mmol creatinine    36.5 (0-76.1) umol/mmol creatinine   \n3                   38.0 (33.0-43.0) uM                   38.0 (33.0-43.0) uM   \n4  19.2 (2.7-35.8) umol/mmol creatinine  19.2 (2.7-35.8) umol/mmol creatinine   \n\n                                         publication  \\\n0  Hahn, C., Reichel, C. & von Bergmann, K. Serum...   \n1                                        OMIM 238331   \n2  Monch, E., Kneer, J., Jakobs, C., Arnold, M., ...   \n3  Avogaro, A. & Bier, D. M. Contribution of 3-hy...   \n4              Mordechai, Hien, and David S. Wishart   \n\n                                       publication_1  \n0  Hahn, C., Reichel, C. & von Bergmann, K. Serum...  \n1                                        OMIM 238331  \n2  Monch, E., Kneer, J., Jakobs, C., Arnold, M., ...  \n3  Avogaro, A. & Bier, D. M. Contribution of 3-hy...  \n4              Mordechai, Hien, and David S. Wishart  ",
      "text/html": "<div>\n<style scoped>\n    .dataframe tbody tr th:only-of-type {\n        vertical-align: middle;\n    }\n\n    .dataframe tbody tr th {\n        vertical-align: top;\n    }\n\n    .dataframe thead th {\n        text-align: right;\n    }\n</style>\n<table border=\"1\" class=\"dataframe\">\n  <thead>\n    <tr style=\"text-align: right;\">\n      <th></th>\n      <th>number</th>\n      <th>name</th>\n      <th>chebi_id</th>\n      <th>mdbid</th>\n      <th>disease</th>\n      <th>markerdb_id</th>\n      <th>Gender</th>\n      <th>location</th>\n      <th>concentration</th>\n      <th>concentration_1</th>\n      <th>publication</th>\n      <th>publication_1</th>\n    </tr>\n  </thead>\n  <tbody>\n    <tr>\n      <th>0</th>\n      <td>0</td>\n      <td>7a-Hydroxycholesterol</td>\n      <td>1296</td>\n      <td>MDB00000633</td>\n      <td>Cirrhosis</td>\n      <td>545</td>\n      <td>Both</td>\n      <td>Blood</td>\n      <td>0.054 (0.035-0.073) uM</td>\n      <td>0.054 (0.035-0.073) uM</td>\n      <td>Hahn, C., Reichel, C. &amp; von Bergmann, K. Serum...</td>\n      <td>Hahn, C., Reichel, C. &amp; von Bergmann, K. Serum...</td>\n    </tr>\n    <tr>\n      <th>1</th>\n      <td>2</td>\n      <td>2-Hydroxybutyric acid</td>\n      <td>64552</td>\n      <td>MDB00000004</td>\n      <td>Pyruvate Dehydrogenase Deficiency</td>\n      <td>367359</td>\n      <td>Both</td>\n      <td>Urine</td>\n      <td>25.0 umol/mmol creatinine</td>\n      <td>25.0 umol/mmol creatinine</td>\n      <td>OMIM 238331</td>\n      <td>OMIM 238331</td>\n    </tr>\n    <tr>\n      <th>2</th>\n      <td>3</td>\n      <td>Ortho-Hydroxyphenylacetic acid</td>\n      <td>62423</td>\n      <td>MDB00000353</td>\n      <td>Phenylketonuria</td>\n      <td>1530</td>\n      <td>Both</td>\n      <td>Urine</td>\n      <td>36.5 (0-76.1) umol/mmol creatinine</td>\n      <td>36.5 (0-76.1) umol/mmol creatinine</td>\n      <td>Monch, E., Kneer, J., Jakobs, C., Arnold, M., ...</td>\n      <td>Monch, E., Kneer, J., Jakobs, C., Arnold, M., ...</td>\n    </tr>\n    <tr>\n      <th>3</th>\n      <td>8</td>\n      <td>(S)-3-Hydroxyisobutyric acid</td>\n      <td>62638</td>\n      <td>MDB00000016</td>\n      <td>Diabetes Mellitus Type 2</td>\n      <td>687</td>\n      <td>Both</td>\n      <td>Blood</td>\n      <td>38.0 (33.0-43.0) uM</td>\n      <td>38.0 (33.0-43.0) uM</td>\n      <td>Avogaro, A. &amp; Bier, D. M. Contribution of 3-hy...</td>\n      <td>Avogaro, A. &amp; Bier, D. M. Contribution of 3-hy...</td>\n    </tr>\n    <tr>\n      <th>4</th>\n      <td>12</td>\n      <td>5-Aminolevulinic acid</td>\n      <td>356416</td>\n      <td>MDB00000539</td>\n      <td>Eosinophilic Esophagitis</td>\n      <td>367194</td>\n      <td>Unknown</td>\n      <td>Urine</td>\n      <td>19.2 (2.7-35.8) umol/mmol creatinine</td>\n      <td>19.2 (2.7-35.8) umol/mmol creatinine</td>\n      <td>Mordechai, Hien, and David S. Wishart</td>\n      <td>Mordechai, Hien, and David S. Wishart</td>\n    </tr>\n  </tbody>\n</table>\n</div>"
     },
     "execution_count": 3,
     "metadata": {},
     "output_type": "execute_result"
    }
   ],
   "source": [
    "last.head()"
   ],
   "metadata": {
    "collapsed": false
   }
  },
  {
   "cell_type": "code",
   "execution_count": 5,
   "outputs": [],
   "source": [
    "last.drop(columns={'number','chebi_id','mdbid','markerdb_id','concentration_1','publication_1'},inplace=True)"
   ],
   "metadata": {
    "collapsed": false
   }
  },
  {
   "cell_type": "code",
   "execution_count": 18,
   "outputs": [],
   "source": [
    "last.fillna(\"Unkown\",inplace=True)"
   ],
   "metadata": {
    "collapsed": false
   }
  },
  {
   "cell_type": "code",
   "execution_count": 19,
   "outputs": [],
   "source": [
    "last.to_csv('neonew.csv',index_label=False)\n"
   ],
   "metadata": {
    "collapsed": false
   }
  },
  {
   "cell_type": "code",
   "execution_count": 20,
   "outputs": [],
   "source": [
    "dk = pd.read_csv('neonew.csv')"
   ],
   "metadata": {
    "collapsed": false
   }
  },
  {
   "cell_type": "code",
   "execution_count": 21,
   "outputs": [
    {
     "data": {
      "text/plain": "                              name  \\\n0            7a-Hydroxycholesterol   \n1            2-Hydroxybutyric acid   \n2   Ortho-Hydroxyphenylacetic acid   \n3     (S)-3-Hydroxyisobutyric acid   \n4            5-Aminolevulinic acid   \n5                    Glycylproline   \n6            Vanillylmandelic acid   \n7       5-Hydroxyindoleacetic acid   \n8                     Aflatoxin B1   \n9                 2-Methoxyestrone   \n10                      Anandamide   \n11               Isobutyrylglycine   \n12                Cysteinylglycine   \n13                       D-Glucose   \n14                       L-Cystine   \n15      3-Methylthiopropionic acid   \n16                        Oxytocin   \n17                  Norepinephrine   \n18                        Spermine   \n19                    Liothyronine   \n20           24-Hydroxycholesterol   \n21      Methylimidazoleacetic acid   \n22           Ureidoisobutyric acid   \n23                      Lipoxin A4   \n24            Ursodeoxycholic acid   \n25         Sulfolithocholylglycine   \n26                Pantothenic acid   \n27                    Suberic acid   \n28                   L-Lactic acid   \n29        N-Acetyl-L-aspartic acid   \n\n                                            disease   Gender  \\\n0                                         Cirrhosis     Both   \n1                 Pyruvate Dehydrogenase Deficiency     Both   \n2                                   Phenylketonuria     Both   \n3                          Diabetes Mellitus Type 2     Both   \n4                          Eosinophilic Esophagitis  Unknown   \n5                          Eosinophilic Esophagitis  Unknown   \n6                          Eosinophilic Esophagitis  Unknown   \n7                                  Carcinoid Tumors     Male   \n8                                   Reye's Syndrome     Both   \n9                                      Prolactinoma     Both   \n10                                         Epilepsy     Both   \n11                         Glutaric Acidemia Type 2  Unknown   \n12                                  Phenylketonuria     Both   \n13                                 Fanconi Syndrome   Female   \n14                   Molybdenum Cofactor Deficiency  Unknown   \n15                                        Cirrhosis     Both   \n16                            Prader Willi Syndrome  Unknown   \n17                                   Hypothyroidism     Both   \n18                                         Leukemia     Both   \n19             Proprotein Convertase 1/3 Deficiency   Female   \n20                        Mild Cognitive Impairment  Unknown   \n21                                     Mastocytosis     Both   \n22                 Beta Ureidopropionase Deficiency     Both   \n23                          Coronary Artery Disease     Both   \n24                                  Cystic Fibrosis     Both   \n25                                        Cirrhosis     Both   \n26                              Ethanol Consumption  Unknown   \n27  Medium Chain Acyl Co A Dehydrogenase Deficiency  Unknown   \n28                               Propionic Acidemia  Unknown   \n29                                  Canavan Disease  Unknown   \n\n               location                                   concentration  \\\n0                 Blood                          0.054 (0.035-0.073) uM   \n1                 Urine                       25.0 umol/mmol creatinine   \n2                 Urine              36.5 (0-76.1) umol/mmol creatinine   \n3                 Blood                             38.0 (33.0-43.0) uM   \n4                 Urine            19.2 (2.7-35.8) umol/mmol creatinine   \n5                 Urine            46.3 (3.6-89.1) umol/mmol creatinine   \n6                 Urine              6.9 (4.1-9.6) umol/mmol creatinine   \n7                 Urine                        5.0 umol/mmol creatinine   \n8                 Blood                        0.0090 (0.0080-0.014) uM   \n9                 Urine        0.025 (0.020-0.030) umol/mmol creatinine   \n10  Cerebrospinal_Fluid                      0.0026 (0.00077-0.0043) uM   \n11                Urine                       31.2 umol/mmol creatinine   \n12                Blood                               6.0 (2.0-10.0) uM   \n13                Blood                                      2.2e+03 uM   \n14                Urine                        7.0 umol/mmol creatinine   \n15                Urine         0.097 (0.075-0.12) umol/mmol creatinine   \n16  Cerebrospinal_Fluid                    9.2e-06 (5.3e-06-1.3e-05) uM   \n17  Cerebrospinal_Fluid                    5.0e-05 (3.0e-05-7.0e-05) uM   \n18                Urine           0.46 (0.25-0.68) umol/mmol creatinine   \n19                Blood                                      4.1e-06 uM   \n20  Cerebrospinal_Fluid                       0.0077 (0.0066-0.0093) uM   \n21                Urine                       10.3 umol/mmol creatinine   \n22  Cerebrospinal_Fluid                                3.7 (1.4-5.9) uM   \n23                Blood                          0.044 (0.037-0.051) uM   \n24                Blood                             0.48 (0.32-0.64) uM   \n25                Urine                        1.8 umol/mmol creatinine   \n26  Cerebrospinal_Fluid                             0.80 (0.72-0.88) uM   \n27                Urine                       22.7 umol/mmol creatinine   \n28                Urine                        4.0 umol/mmol creatinine   \n29                Urine  2.5e+03 (1.3e+03-3.7e+03) umol/mmol creatinine   \n\n                                          publication  \n0   Hahn, C., Reichel, C. & von Bergmann, K. Serum...  \n1                                         OMIM 238331  \n2   Monch, E., Kneer, J., Jakobs, C., Arnold, M., ...  \n3   Avogaro, A. & Bier, D. M. Contribution of 3-hy...  \n4               Mordechai, Hien, and David S. Wishart  \n5               Mordechai, Hien, and David S. Wishart  \n6               Mordechai, Hien, and David S. Wishart  \n7   Ishida, J., Iizuka, R. & Yamaguchi, M. High-pe...  \n8   Tsuboi, S., Nakagawa, T., Tomita, M., Seo, T.,...  \n9   Lee, S. H., Nam, S. Y. & Chung, B. C. Altered ...  \n10                                             Unkown  \n11                                             Unkown  \n12  Perry, T. L. & Hansen, S. Cystinylglycine in p...  \n13  Late Diagnosis of Fanconi-Bickel Syndrome: Cha...  \n14                                             Unkown  \n15  Yoshida, Y. [Analysis of methionine metabolism...  \n16                                             Unkown  \n17  Sjoberg, S., Eriksson, M. & Nordin, C. L-thyro...  \n18  Lee, S. H., Suh, J. W., Chung, B. C. & Kim, S....  \n19  O'Rahilly, S., Gray, H., Humphreys, P. J., Kro...  \n20  Leoni, V., Masterman, T., Mousavi, F. S., Wret...  \n21  Martens-Lobenhoffer, J. & Neumann, H. J. Deter...  \n22  van Kuilenburg, A. B., Meinsma, R., Beke, E., ...  \n23  Brezinski, D. A., Nesto, R. W. & Serhan, C. N....  \n24  Smith, J. L., Lewindon, P. J., Hoskins, A. C.,...  \n25  Kobayashi, N., Katsumata, H., Uto, Y., Goto, J...  \n26  Dastur, D. K., Santhadevi, N., Quadros, E. V.,...  \n27  Tserng, K. Y., Jin, S. J., Kerr, D. S. & Hoppe...  \n28                                             Unkown  \n29                                             Unkown  ",
      "text/html": "<div>\n<style scoped>\n    .dataframe tbody tr th:only-of-type {\n        vertical-align: middle;\n    }\n\n    .dataframe tbody tr th {\n        vertical-align: top;\n    }\n\n    .dataframe thead th {\n        text-align: right;\n    }\n</style>\n<table border=\"1\" class=\"dataframe\">\n  <thead>\n    <tr style=\"text-align: right;\">\n      <th></th>\n      <th>name</th>\n      <th>disease</th>\n      <th>Gender</th>\n      <th>location</th>\n      <th>concentration</th>\n      <th>publication</th>\n    </tr>\n  </thead>\n  <tbody>\n    <tr>\n      <th>0</th>\n      <td>7a-Hydroxycholesterol</td>\n      <td>Cirrhosis</td>\n      <td>Both</td>\n      <td>Blood</td>\n      <td>0.054 (0.035-0.073) uM</td>\n      <td>Hahn, C., Reichel, C. &amp; von Bergmann, K. Serum...</td>\n    </tr>\n    <tr>\n      <th>1</th>\n      <td>2-Hydroxybutyric acid</td>\n      <td>Pyruvate Dehydrogenase Deficiency</td>\n      <td>Both</td>\n      <td>Urine</td>\n      <td>25.0 umol/mmol creatinine</td>\n      <td>OMIM 238331</td>\n    </tr>\n    <tr>\n      <th>2</th>\n      <td>Ortho-Hydroxyphenylacetic acid</td>\n      <td>Phenylketonuria</td>\n      <td>Both</td>\n      <td>Urine</td>\n      <td>36.5 (0-76.1) umol/mmol creatinine</td>\n      <td>Monch, E., Kneer, J., Jakobs, C., Arnold, M., ...</td>\n    </tr>\n    <tr>\n      <th>3</th>\n      <td>(S)-3-Hydroxyisobutyric acid</td>\n      <td>Diabetes Mellitus Type 2</td>\n      <td>Both</td>\n      <td>Blood</td>\n      <td>38.0 (33.0-43.0) uM</td>\n      <td>Avogaro, A. &amp; Bier, D. M. Contribution of 3-hy...</td>\n    </tr>\n    <tr>\n      <th>4</th>\n      <td>5-Aminolevulinic acid</td>\n      <td>Eosinophilic Esophagitis</td>\n      <td>Unknown</td>\n      <td>Urine</td>\n      <td>19.2 (2.7-35.8) umol/mmol creatinine</td>\n      <td>Mordechai, Hien, and David S. Wishart</td>\n    </tr>\n    <tr>\n      <th>5</th>\n      <td>Glycylproline</td>\n      <td>Eosinophilic Esophagitis</td>\n      <td>Unknown</td>\n      <td>Urine</td>\n      <td>46.3 (3.6-89.1) umol/mmol creatinine</td>\n      <td>Mordechai, Hien, and David S. Wishart</td>\n    </tr>\n    <tr>\n      <th>6</th>\n      <td>Vanillylmandelic acid</td>\n      <td>Eosinophilic Esophagitis</td>\n      <td>Unknown</td>\n      <td>Urine</td>\n      <td>6.9 (4.1-9.6) umol/mmol creatinine</td>\n      <td>Mordechai, Hien, and David S. Wishart</td>\n    </tr>\n    <tr>\n      <th>7</th>\n      <td>5-Hydroxyindoleacetic acid</td>\n      <td>Carcinoid Tumors</td>\n      <td>Male</td>\n      <td>Urine</td>\n      <td>5.0 umol/mmol creatinine</td>\n      <td>Ishida, J., Iizuka, R. &amp; Yamaguchi, M. High-pe...</td>\n    </tr>\n    <tr>\n      <th>8</th>\n      <td>Aflatoxin B1</td>\n      <td>Reye's Syndrome</td>\n      <td>Both</td>\n      <td>Blood</td>\n      <td>0.0090 (0.0080-0.014) uM</td>\n      <td>Tsuboi, S., Nakagawa, T., Tomita, M., Seo, T.,...</td>\n    </tr>\n    <tr>\n      <th>9</th>\n      <td>2-Methoxyestrone</td>\n      <td>Prolactinoma</td>\n      <td>Both</td>\n      <td>Urine</td>\n      <td>0.025 (0.020-0.030) umol/mmol creatinine</td>\n      <td>Lee, S. H., Nam, S. Y. &amp; Chung, B. C. Altered ...</td>\n    </tr>\n    <tr>\n      <th>10</th>\n      <td>Anandamide</td>\n      <td>Epilepsy</td>\n      <td>Both</td>\n      <td>Cerebrospinal_Fluid</td>\n      <td>0.0026 (0.00077-0.0043) uM</td>\n      <td>Unkown</td>\n    </tr>\n    <tr>\n      <th>11</th>\n      <td>Isobutyrylglycine</td>\n      <td>Glutaric Acidemia Type 2</td>\n      <td>Unknown</td>\n      <td>Urine</td>\n      <td>31.2 umol/mmol creatinine</td>\n      <td>Unkown</td>\n    </tr>\n    <tr>\n      <th>12</th>\n      <td>Cysteinylglycine</td>\n      <td>Phenylketonuria</td>\n      <td>Both</td>\n      <td>Blood</td>\n      <td>6.0 (2.0-10.0) uM</td>\n      <td>Perry, T. L. &amp; Hansen, S. Cystinylglycine in p...</td>\n    </tr>\n    <tr>\n      <th>13</th>\n      <td>D-Glucose</td>\n      <td>Fanconi Syndrome</td>\n      <td>Female</td>\n      <td>Blood</td>\n      <td>2.2e+03 uM</td>\n      <td>Late Diagnosis of Fanconi-Bickel Syndrome: Cha...</td>\n    </tr>\n    <tr>\n      <th>14</th>\n      <td>L-Cystine</td>\n      <td>Molybdenum Cofactor Deficiency</td>\n      <td>Unknown</td>\n      <td>Urine</td>\n      <td>7.0 umol/mmol creatinine</td>\n      <td>Unkown</td>\n    </tr>\n    <tr>\n      <th>15</th>\n      <td>3-Methylthiopropionic acid</td>\n      <td>Cirrhosis</td>\n      <td>Both</td>\n      <td>Urine</td>\n      <td>0.097 (0.075-0.12) umol/mmol creatinine</td>\n      <td>Yoshida, Y. [Analysis of methionine metabolism...</td>\n    </tr>\n    <tr>\n      <th>16</th>\n      <td>Oxytocin</td>\n      <td>Prader Willi Syndrome</td>\n      <td>Unknown</td>\n      <td>Cerebrospinal_Fluid</td>\n      <td>9.2e-06 (5.3e-06-1.3e-05) uM</td>\n      <td>Unkown</td>\n    </tr>\n    <tr>\n      <th>17</th>\n      <td>Norepinephrine</td>\n      <td>Hypothyroidism</td>\n      <td>Both</td>\n      <td>Cerebrospinal_Fluid</td>\n      <td>5.0e-05 (3.0e-05-7.0e-05) uM</td>\n      <td>Sjoberg, S., Eriksson, M. &amp; Nordin, C. L-thyro...</td>\n    </tr>\n    <tr>\n      <th>18</th>\n      <td>Spermine</td>\n      <td>Leukemia</td>\n      <td>Both</td>\n      <td>Urine</td>\n      <td>0.46 (0.25-0.68) umol/mmol creatinine</td>\n      <td>Lee, S. H., Suh, J. W., Chung, B. C. &amp; Kim, S....</td>\n    </tr>\n    <tr>\n      <th>19</th>\n      <td>Liothyronine</td>\n      <td>Proprotein Convertase 1/3 Deficiency</td>\n      <td>Female</td>\n      <td>Blood</td>\n      <td>4.1e-06 uM</td>\n      <td>O'Rahilly, S., Gray, H., Humphreys, P. J., Kro...</td>\n    </tr>\n    <tr>\n      <th>20</th>\n      <td>24-Hydroxycholesterol</td>\n      <td>Mild Cognitive Impairment</td>\n      <td>Unknown</td>\n      <td>Cerebrospinal_Fluid</td>\n      <td>0.0077 (0.0066-0.0093) uM</td>\n      <td>Leoni, V., Masterman, T., Mousavi, F. S., Wret...</td>\n    </tr>\n    <tr>\n      <th>21</th>\n      <td>Methylimidazoleacetic acid</td>\n      <td>Mastocytosis</td>\n      <td>Both</td>\n      <td>Urine</td>\n      <td>10.3 umol/mmol creatinine</td>\n      <td>Martens-Lobenhoffer, J. &amp; Neumann, H. J. Deter...</td>\n    </tr>\n    <tr>\n      <th>22</th>\n      <td>Ureidoisobutyric acid</td>\n      <td>Beta Ureidopropionase Deficiency</td>\n      <td>Both</td>\n      <td>Cerebrospinal_Fluid</td>\n      <td>3.7 (1.4-5.9) uM</td>\n      <td>van Kuilenburg, A. B., Meinsma, R., Beke, E., ...</td>\n    </tr>\n    <tr>\n      <th>23</th>\n      <td>Lipoxin A4</td>\n      <td>Coronary Artery Disease</td>\n      <td>Both</td>\n      <td>Blood</td>\n      <td>0.044 (0.037-0.051) uM</td>\n      <td>Brezinski, D. A., Nesto, R. W. &amp; Serhan, C. N....</td>\n    </tr>\n    <tr>\n      <th>24</th>\n      <td>Ursodeoxycholic acid</td>\n      <td>Cystic Fibrosis</td>\n      <td>Both</td>\n      <td>Blood</td>\n      <td>0.48 (0.32-0.64) uM</td>\n      <td>Smith, J. L., Lewindon, P. J., Hoskins, A. C.,...</td>\n    </tr>\n    <tr>\n      <th>25</th>\n      <td>Sulfolithocholylglycine</td>\n      <td>Cirrhosis</td>\n      <td>Both</td>\n      <td>Urine</td>\n      <td>1.8 umol/mmol creatinine</td>\n      <td>Kobayashi, N., Katsumata, H., Uto, Y., Goto, J...</td>\n    </tr>\n    <tr>\n      <th>26</th>\n      <td>Pantothenic acid</td>\n      <td>Ethanol Consumption</td>\n      <td>Unknown</td>\n      <td>Cerebrospinal_Fluid</td>\n      <td>0.80 (0.72-0.88) uM</td>\n      <td>Dastur, D. K., Santhadevi, N., Quadros, E. V.,...</td>\n    </tr>\n    <tr>\n      <th>27</th>\n      <td>Suberic acid</td>\n      <td>Medium Chain Acyl Co A Dehydrogenase Deficiency</td>\n      <td>Unknown</td>\n      <td>Urine</td>\n      <td>22.7 umol/mmol creatinine</td>\n      <td>Tserng, K. Y., Jin, S. J., Kerr, D. S. &amp; Hoppe...</td>\n    </tr>\n    <tr>\n      <th>28</th>\n      <td>L-Lactic acid</td>\n      <td>Propionic Acidemia</td>\n      <td>Unknown</td>\n      <td>Urine</td>\n      <td>4.0 umol/mmol creatinine</td>\n      <td>Unkown</td>\n    </tr>\n    <tr>\n      <th>29</th>\n      <td>N-Acetyl-L-aspartic acid</td>\n      <td>Canavan Disease</td>\n      <td>Unknown</td>\n      <td>Urine</td>\n      <td>2.5e+03 (1.3e+03-3.7e+03) umol/mmol creatinine</td>\n      <td>Unkown</td>\n    </tr>\n  </tbody>\n</table>\n</div>"
     },
     "execution_count": 21,
     "metadata": {},
     "output_type": "execute_result"
    }
   ],
   "source": [
    "dk.head(30)"
   ],
   "metadata": {
    "collapsed": false
   }
  },
  {
   "cell_type": "code",
   "execution_count": null,
   "outputs": [],
   "source": [],
   "metadata": {
    "collapsed": false
   }
  }
 ],
 "metadata": {
  "kernelspec": {
   "display_name": "Python 3",
   "language": "python",
   "name": "python3"
  },
  "language_info": {
   "codemirror_mode": {
    "name": "ipython",
    "version": 2
   },
   "file_extension": ".py",
   "mimetype": "text/x-python",
   "name": "python",
   "nbconvert_exporter": "python",
   "pygments_lexer": "ipython2",
   "version": "2.7.6"
  }
 },
 "nbformat": 4,
 "nbformat_minor": 0
}
