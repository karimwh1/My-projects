{
 "cells": [
  {
   "cell_type": "markdown",
   "id": "1c07738f",
   "metadata": {},
   "source": [
    "# Python Basics\n",
    "\n",
    "---\n",
    "\n",
    "This exercise will cover the most important concepts you will need for the following exercises.\n",
    "\n",
    "In addition to some basic programming concepts and python data types you should try to understand the way [`pandas`](https://pandas.pydata.org/pandas-docs/stable/?v=20221024100222), [`numpy`](https://numpy.org/doc/stable/reference/?v=20221024100222) and [`matplotlib`](https://matplotlib.org/stable/users/index.html) work, as these define the data types and visualization tools we mostly work with. Additionally, we will use functions from [`scipy`](https://docs.scipy.org/doc/scipy/reference/?v=20221024100222), but since these have no specific interface, we did not include it in this exercise.\n",
    "\n",
    "We recommend solving the exercises with the help of the introduction you got during the lecture, as the basics to solve were covered there.\n",
    "\n",
    "If you feel like you need additional practice, there are many open source resources with additional exercises.\n",
    "\n",
    "---\n",
    "\n",
    "Some general notes on the structure of **all** exercises you will encounter during the course of this seminar:\n",
    "* task descriptions contain all steps you need to take to get to the solution\n",
    "* pieces of code *you* need to write are always marked by a `# TODO` comment\n",
    "* functions to use mentioned in task descriptions are either taken from packages or provided by use\n",
    "    * functions from packages are always well documented $\\Rightarrow$ leverage documentation\n",
    "    * functions provided by us should be easy to understand, if not feel free to ask away\n",
    "    * if you get stuck in general, there are great places like [stackoverflow](https://stackoverflow.com/) to help you\n",
    "\n",
    "---\n",
    "\n",
    "Even though we don't have code submissions, we highly encourage you to follow good coding practices. Some basics are:\n",
    "* well-named variables, e.g. something like 'corr_mat' for a correlation matrix instead of just 'c'\n",
    "* comment your code - this helps not only other people to understand what you were doing but also yourself when coming back at a later time point\n",
    "* jupyter notebooks are a good entry point, but lack some reproducibility features, in particular make sure you don't use variables or packages before you define/import them (this will trigger an exception when you restart the kernel and run the code in order)\n",
    "\n",
    "For python the extensive guidelines are called ['PEP'](https://peps.python.org/pep-0000/) with the most famous being PEP 20, also called 'The Zen of Python', which can be invoked by calling \n",
    "```python\n",
    "import this\n",
    "```\n"
   ]
  },
  {
   "cell_type": "code",
   "execution_count": 1,
   "id": "94137a84",
   "metadata": {},
   "outputs": [],
   "source": [
    "import numpy as np\n",
    "import pandas as pd\n",
    "import matplotlib.pyplot as plt\n",
    "\n",
    "%matplotlib inline"
   ]
  },
  {
   "cell_type": "markdown",
   "id": "fcd27cb0",
   "metadata": {},
   "source": [
    "## Basic Concepts\n",
    "\n",
    "---\n",
    "\n",
    "Please note that we do not cover all data types and concepts here. \n",
    "\n",
    "If you are interested in getting more in depth with python here are some recommended resources:\n",
    "* **TODO**\n"
   ]
  },
  {
   "cell_type": "markdown",
   "id": "c0f887e8",
   "metadata": {},
   "source": [
    "### lists\n",
    "\n",
    "#### Tasks\n",
    "1. generate a list which contains the following elements in order: 1, 'a', 2, 'b', 3, 'c', 4\n",
    "2. *loop* over the list elements with an index-based **while-loop** and count the number of digits and number (this requires *conditional* statements)\n",
    "3. *loop* over the list elements with a **for-loop** without using a range/indices and compute the sum of all numerical values"
   ]
  },
  {
   "cell_type": "code",
   "execution_count": 3,
   "id": "65209ae4",
   "metadata": {},
   "outputs": [],
   "source": [
    "elements = [1, 'a', 2, 'b', 3, 'c', 4]"
   ]
  },
  {
   "cell_type": "code",
   "execution_count": 4,
   "id": "a0365c35",
   "metadata": {},
   "outputs": [
    {
     "name": "stdout",
     "output_type": "stream",
     "text": [
      "number of digits: 4, number of characters: 3\n"
     ]
    }
   ],
   "source": [
    "# number of numerical values\n",
    "n_digits = 0\n",
    "# number of character values\n",
    "n_chars = 0\n",
    "i = 0\n",
    "while i < len(elements): \n",
    "    if isinstance(elements[i], str):\n",
    "        n_chars += 1\n",
    "    else:\n",
    "        n_digits += 1\n",
    "    i += 1\n",
    "    \n",
    "print(f\"number of digits: {n_digits}, number of characters: {n_chars}\")"
   ]
  },
  {
   "cell_type": "code",
   "execution_count": 5,
   "id": "3a39554c",
   "metadata": {},
   "outputs": [
    {
     "name": "stdout",
     "output_type": "stream",
     "text": [
      "sum of all digits: 10\n"
     ]
    }
   ],
   "source": [
    "sum_digits = 0\n",
    "for elem in elements:\n",
    "    if isinstance(elem, int):\n",
    "        sum_digits += elem\n",
    "    \n",
    "print(f\"sum of all digits: {sum_digits}\")"
   ]
  },
  {
   "cell_type": "markdown",
   "id": "c31caf8f",
   "metadata": {},
   "source": [
    "### dict\n",
    "\n",
    "#### Tasks\n",
    "1. invert the dictionary x $\\Rightarrow$ the result should contain digits as keys and letters as values\n",
    "2. using the *inverted* dictionary, print the letter corresponding to *even* digits"
   ]
  },
  {
   "cell_type": "code",
   "execution_count": 7,
   "id": "ba4cb417",
   "metadata": {},
   "outputs": [],
   "source": [
    "x = {\n",
    "    'a': 1,\n",
    "    'b': 2,\n",
    "    'c': 3,\n",
    "    'd': 4\n",
    "}"
   ]
  },
  {
   "cell_type": "code",
   "execution_count": 8,
   "id": "86e6f406",
   "metadata": {},
   "outputs": [
    {
     "name": "stdout",
     "output_type": "stream",
     "text": [
      "{1: 'a', 2: 'b', 3: 'c', 4: 'd'}\n"
     ]
    }
   ],
   "source": [
    "x_inv = {val: key for key, val in x.items()}\n",
    "print(x_inv)"
   ]
  },
  {
   "cell_type": "code",
   "execution_count": 9,
   "id": "6bad474c",
   "metadata": {},
   "outputs": [
    {
     "name": "stdout",
     "output_type": "stream",
     "text": [
      "b\n",
      "d\n"
     ]
    }
   ],
   "source": [
    "for key, val in x_inv.items():\n",
    "    if key % 2 == 0:\n",
    "        print(val)"
   ]
  },
  {
   "cell_type": "markdown",
   "id": "2a1623dd",
   "metadata": {},
   "source": [
    "## Pandas\n",
    "\n",
    "---\n",
    "\n",
    "#### Tasks\n",
    "1. extract the 'species' column from the iris data frame and store it in a new variable\n",
    "2. drop the 'species' column from the original data frame\n",
    "3. extract all *sepal* features from the new data frame\n",
    "4. extract all rows coming from *setosa* samples"
   ]
  },
  {
   "cell_type": "code",
   "execution_count": 10,
   "id": "f6f6d9e2",
   "metadata": {},
   "outputs": [],
   "source": [
    "iris = pd.read_csv('https://raw.githubusercontent.com/mwaskom/seaborn-data/master/iris.csv')"
   ]
  },
  {
   "cell_type": "code",
   "execution_count": 11,
   "id": "c1ed2002",
   "metadata": {},
   "outputs": [
    {
     "name": "stdout",
     "output_type": "stream",
     "text": [
      "0         setosa\n",
      "1         setosa\n",
      "2         setosa\n",
      "3         setosa\n",
      "4         setosa\n",
      "         ...    \n",
      "145    virginica\n",
      "146    virginica\n",
      "147    virginica\n",
      "148    virginica\n",
      "149    virginica\n",
      "Name: species, Length: 150, dtype: object\n"
     ]
    }
   ],
   "source": [
    "species = iris[\"species\"]\n",
    "print(species)"
   ]
  },
  {
   "cell_type": "code",
   "execution_count": 12,
   "id": "f471d72c",
   "metadata": {},
   "outputs": [
    {
     "name": "stdout",
     "output_type": "stream",
     "text": [
      "     sepal_length  sepal_width  petal_length  petal_width\n",
      "0             5.1          3.5           1.4          0.2\n",
      "1             4.9          3.0           1.4          0.2\n",
      "2             4.7          3.2           1.3          0.2\n",
      "3             4.6          3.1           1.5          0.2\n",
      "4             5.0          3.6           1.4          0.2\n",
      "..            ...          ...           ...          ...\n",
      "145           6.7          3.0           5.2          2.3\n",
      "146           6.3          2.5           5.0          1.9\n",
      "147           6.5          3.0           5.2          2.0\n",
      "148           6.2          3.4           5.4          2.3\n",
      "149           5.9          3.0           5.1          1.8\n",
      "\n",
      "[150 rows x 4 columns]\n"
     ]
    }
   ],
   "source": [
    "data = iris.drop(columns=[\"species\"]) # TODO\n",
    "print(data)"
   ]
  },
  {
   "cell_type": "code",
   "execution_count": 13,
   "id": "d0d68d66",
   "metadata": {},
   "outputs": [
    {
     "name": "stdout",
     "output_type": "stream",
     "text": [
      "     sepal_length  sepal_width\n",
      "0             5.1          3.5\n",
      "1             4.9          3.0\n",
      "2             4.7          3.2\n",
      "3             4.6          3.1\n",
      "4             5.0          3.6\n",
      "..            ...          ...\n",
      "145           6.7          3.0\n",
      "146           6.3          2.5\n",
      "147           6.5          3.0\n",
      "148           6.2          3.4\n",
      "149           5.9          3.0\n",
      "\n",
      "[150 rows x 2 columns]\n"
     ]
    }
   ],
   "source": [
    "sepal_features_df = data.loc[:, [\"sepal_length\", \"sepal_width\"]]\n",
    "sepal_features_df"
   ]
  },
  {
   "cell_type": "code",
   "execution_count": 15,
   "id": "7398b1ae",
   "metadata": {
    "scrolled": true
   },
   "outputs": [
    {
     "data": {
      "text/html": [
       "<div>\n",
       "<style scoped>\n",
       "    .dataframe tbody tr th:only-of-type {\n",
       "        vertical-align: middle;\n",
       "    }\n",
       "\n",
       "    .dataframe tbody tr th {\n",
       "        vertical-align: top;\n",
       "    }\n",
       "\n",
       "    .dataframe thead th {\n",
       "        text-align: right;\n",
       "    }\n",
       "</style>\n",
       "<table border=\"1\" class=\"dataframe\">\n",
       "  <thead>\n",
       "    <tr style=\"text-align: right;\">\n",
       "      <th></th>\n",
       "      <th>sepal_length</th>\n",
       "      <th>sepal_width</th>\n",
       "      <th>petal_length</th>\n",
       "      <th>petal_width</th>\n",
       "    </tr>\n",
       "  </thead>\n",
       "  <tbody>\n",
       "    <tr>\n",
       "      <th>0</th>\n",
       "      <td>5.1</td>\n",
       "      <td>3.5</td>\n",
       "      <td>1.4</td>\n",
       "      <td>0.2</td>\n",
       "    </tr>\n",
       "    <tr>\n",
       "      <th>1</th>\n",
       "      <td>4.9</td>\n",
       "      <td>3.0</td>\n",
       "      <td>1.4</td>\n",
       "      <td>0.2</td>\n",
       "    </tr>\n",
       "    <tr>\n",
       "      <th>2</th>\n",
       "      <td>4.7</td>\n",
       "      <td>3.2</td>\n",
       "      <td>1.3</td>\n",
       "      <td>0.2</td>\n",
       "    </tr>\n",
       "    <tr>\n",
       "      <th>3</th>\n",
       "      <td>4.6</td>\n",
       "      <td>3.1</td>\n",
       "      <td>1.5</td>\n",
       "      <td>0.2</td>\n",
       "    </tr>\n",
       "    <tr>\n",
       "      <th>4</th>\n",
       "      <td>5.0</td>\n",
       "      <td>3.6</td>\n",
       "      <td>1.4</td>\n",
       "      <td>0.2</td>\n",
       "    </tr>\n",
       "    <tr>\n",
       "      <th>5</th>\n",
       "      <td>5.4</td>\n",
       "      <td>3.9</td>\n",
       "      <td>1.7</td>\n",
       "      <td>0.4</td>\n",
       "    </tr>\n",
       "    <tr>\n",
       "      <th>6</th>\n",
       "      <td>4.6</td>\n",
       "      <td>3.4</td>\n",
       "      <td>1.4</td>\n",
       "      <td>0.3</td>\n",
       "    </tr>\n",
       "    <tr>\n",
       "      <th>7</th>\n",
       "      <td>5.0</td>\n",
       "      <td>3.4</td>\n",
       "      <td>1.5</td>\n",
       "      <td>0.2</td>\n",
       "    </tr>\n",
       "    <tr>\n",
       "      <th>8</th>\n",
       "      <td>4.4</td>\n",
       "      <td>2.9</td>\n",
       "      <td>1.4</td>\n",
       "      <td>0.2</td>\n",
       "    </tr>\n",
       "    <tr>\n",
       "      <th>9</th>\n",
       "      <td>4.9</td>\n",
       "      <td>3.1</td>\n",
       "      <td>1.5</td>\n",
       "      <td>0.1</td>\n",
       "    </tr>\n",
       "    <tr>\n",
       "      <th>10</th>\n",
       "      <td>5.4</td>\n",
       "      <td>3.7</td>\n",
       "      <td>1.5</td>\n",
       "      <td>0.2</td>\n",
       "    </tr>\n",
       "    <tr>\n",
       "      <th>11</th>\n",
       "      <td>4.8</td>\n",
       "      <td>3.4</td>\n",
       "      <td>1.6</td>\n",
       "      <td>0.2</td>\n",
       "    </tr>\n",
       "    <tr>\n",
       "      <th>12</th>\n",
       "      <td>4.8</td>\n",
       "      <td>3.0</td>\n",
       "      <td>1.4</td>\n",
       "      <td>0.1</td>\n",
       "    </tr>\n",
       "    <tr>\n",
       "      <th>13</th>\n",
       "      <td>4.3</td>\n",
       "      <td>3.0</td>\n",
       "      <td>1.1</td>\n",
       "      <td>0.1</td>\n",
       "    </tr>\n",
       "    <tr>\n",
       "      <th>14</th>\n",
       "      <td>5.8</td>\n",
       "      <td>4.0</td>\n",
       "      <td>1.2</td>\n",
       "      <td>0.2</td>\n",
       "    </tr>\n",
       "    <tr>\n",
       "      <th>15</th>\n",
       "      <td>5.7</td>\n",
       "      <td>4.4</td>\n",
       "      <td>1.5</td>\n",
       "      <td>0.4</td>\n",
       "    </tr>\n",
       "    <tr>\n",
       "      <th>16</th>\n",
       "      <td>5.4</td>\n",
       "      <td>3.9</td>\n",
       "      <td>1.3</td>\n",
       "      <td>0.4</td>\n",
       "    </tr>\n",
       "    <tr>\n",
       "      <th>17</th>\n",
       "      <td>5.1</td>\n",
       "      <td>3.5</td>\n",
       "      <td>1.4</td>\n",
       "      <td>0.3</td>\n",
       "    </tr>\n",
       "    <tr>\n",
       "      <th>18</th>\n",
       "      <td>5.7</td>\n",
       "      <td>3.8</td>\n",
       "      <td>1.7</td>\n",
       "      <td>0.3</td>\n",
       "    </tr>\n",
       "    <tr>\n",
       "      <th>19</th>\n",
       "      <td>5.1</td>\n",
       "      <td>3.8</td>\n",
       "      <td>1.5</td>\n",
       "      <td>0.3</td>\n",
       "    </tr>\n",
       "    <tr>\n",
       "      <th>20</th>\n",
       "      <td>5.4</td>\n",
       "      <td>3.4</td>\n",
       "      <td>1.7</td>\n",
       "      <td>0.2</td>\n",
       "    </tr>\n",
       "    <tr>\n",
       "      <th>21</th>\n",
       "      <td>5.1</td>\n",
       "      <td>3.7</td>\n",
       "      <td>1.5</td>\n",
       "      <td>0.4</td>\n",
       "    </tr>\n",
       "    <tr>\n",
       "      <th>22</th>\n",
       "      <td>4.6</td>\n",
       "      <td>3.6</td>\n",
       "      <td>1.0</td>\n",
       "      <td>0.2</td>\n",
       "    </tr>\n",
       "    <tr>\n",
       "      <th>23</th>\n",
       "      <td>5.1</td>\n",
       "      <td>3.3</td>\n",
       "      <td>1.7</td>\n",
       "      <td>0.5</td>\n",
       "    </tr>\n",
       "    <tr>\n",
       "      <th>24</th>\n",
       "      <td>4.8</td>\n",
       "      <td>3.4</td>\n",
       "      <td>1.9</td>\n",
       "      <td>0.2</td>\n",
       "    </tr>\n",
       "    <tr>\n",
       "      <th>25</th>\n",
       "      <td>5.0</td>\n",
       "      <td>3.0</td>\n",
       "      <td>1.6</td>\n",
       "      <td>0.2</td>\n",
       "    </tr>\n",
       "    <tr>\n",
       "      <th>26</th>\n",
       "      <td>5.0</td>\n",
       "      <td>3.4</td>\n",
       "      <td>1.6</td>\n",
       "      <td>0.4</td>\n",
       "    </tr>\n",
       "    <tr>\n",
       "      <th>27</th>\n",
       "      <td>5.2</td>\n",
       "      <td>3.5</td>\n",
       "      <td>1.5</td>\n",
       "      <td>0.2</td>\n",
       "    </tr>\n",
       "    <tr>\n",
       "      <th>28</th>\n",
       "      <td>5.2</td>\n",
       "      <td>3.4</td>\n",
       "      <td>1.4</td>\n",
       "      <td>0.2</td>\n",
       "    </tr>\n",
       "    <tr>\n",
       "      <th>29</th>\n",
       "      <td>4.7</td>\n",
       "      <td>3.2</td>\n",
       "      <td>1.6</td>\n",
       "      <td>0.2</td>\n",
       "    </tr>\n",
       "    <tr>\n",
       "      <th>30</th>\n",
       "      <td>4.8</td>\n",
       "      <td>3.1</td>\n",
       "      <td>1.6</td>\n",
       "      <td>0.2</td>\n",
       "    </tr>\n",
       "    <tr>\n",
       "      <th>31</th>\n",
       "      <td>5.4</td>\n",
       "      <td>3.4</td>\n",
       "      <td>1.5</td>\n",
       "      <td>0.4</td>\n",
       "    </tr>\n",
       "    <tr>\n",
       "      <th>32</th>\n",
       "      <td>5.2</td>\n",
       "      <td>4.1</td>\n",
       "      <td>1.5</td>\n",
       "      <td>0.1</td>\n",
       "    </tr>\n",
       "    <tr>\n",
       "      <th>33</th>\n",
       "      <td>5.5</td>\n",
       "      <td>4.2</td>\n",
       "      <td>1.4</td>\n",
       "      <td>0.2</td>\n",
       "    </tr>\n",
       "    <tr>\n",
       "      <th>34</th>\n",
       "      <td>4.9</td>\n",
       "      <td>3.1</td>\n",
       "      <td>1.5</td>\n",
       "      <td>0.2</td>\n",
       "    </tr>\n",
       "    <tr>\n",
       "      <th>35</th>\n",
       "      <td>5.0</td>\n",
       "      <td>3.2</td>\n",
       "      <td>1.2</td>\n",
       "      <td>0.2</td>\n",
       "    </tr>\n",
       "    <tr>\n",
       "      <th>36</th>\n",
       "      <td>5.5</td>\n",
       "      <td>3.5</td>\n",
       "      <td>1.3</td>\n",
       "      <td>0.2</td>\n",
       "    </tr>\n",
       "    <tr>\n",
       "      <th>37</th>\n",
       "      <td>4.9</td>\n",
       "      <td>3.6</td>\n",
       "      <td>1.4</td>\n",
       "      <td>0.1</td>\n",
       "    </tr>\n",
       "    <tr>\n",
       "      <th>38</th>\n",
       "      <td>4.4</td>\n",
       "      <td>3.0</td>\n",
       "      <td>1.3</td>\n",
       "      <td>0.2</td>\n",
       "    </tr>\n",
       "    <tr>\n",
       "      <th>39</th>\n",
       "      <td>5.1</td>\n",
       "      <td>3.4</td>\n",
       "      <td>1.5</td>\n",
       "      <td>0.2</td>\n",
       "    </tr>\n",
       "    <tr>\n",
       "      <th>40</th>\n",
       "      <td>5.0</td>\n",
       "      <td>3.5</td>\n",
       "      <td>1.3</td>\n",
       "      <td>0.3</td>\n",
       "    </tr>\n",
       "    <tr>\n",
       "      <th>41</th>\n",
       "      <td>4.5</td>\n",
       "      <td>2.3</td>\n",
       "      <td>1.3</td>\n",
       "      <td>0.3</td>\n",
       "    </tr>\n",
       "    <tr>\n",
       "      <th>42</th>\n",
       "      <td>4.4</td>\n",
       "      <td>3.2</td>\n",
       "      <td>1.3</td>\n",
       "      <td>0.2</td>\n",
       "    </tr>\n",
       "    <tr>\n",
       "      <th>43</th>\n",
       "      <td>5.0</td>\n",
       "      <td>3.5</td>\n",
       "      <td>1.6</td>\n",
       "      <td>0.6</td>\n",
       "    </tr>\n",
       "    <tr>\n",
       "      <th>44</th>\n",
       "      <td>5.1</td>\n",
       "      <td>3.8</td>\n",
       "      <td>1.9</td>\n",
       "      <td>0.4</td>\n",
       "    </tr>\n",
       "    <tr>\n",
       "      <th>45</th>\n",
       "      <td>4.8</td>\n",
       "      <td>3.0</td>\n",
       "      <td>1.4</td>\n",
       "      <td>0.3</td>\n",
       "    </tr>\n",
       "    <tr>\n",
       "      <th>46</th>\n",
       "      <td>5.1</td>\n",
       "      <td>3.8</td>\n",
       "      <td>1.6</td>\n",
       "      <td>0.2</td>\n",
       "    </tr>\n",
       "    <tr>\n",
       "      <th>47</th>\n",
       "      <td>4.6</td>\n",
       "      <td>3.2</td>\n",
       "      <td>1.4</td>\n",
       "      <td>0.2</td>\n",
       "    </tr>\n",
       "    <tr>\n",
       "      <th>48</th>\n",
       "      <td>5.3</td>\n",
       "      <td>3.7</td>\n",
       "      <td>1.5</td>\n",
       "      <td>0.2</td>\n",
       "    </tr>\n",
       "    <tr>\n",
       "      <th>49</th>\n",
       "      <td>5.0</td>\n",
       "      <td>3.3</td>\n",
       "      <td>1.4</td>\n",
       "      <td>0.2</td>\n",
       "    </tr>\n",
       "  </tbody>\n",
       "</table>\n",
       "</div>"
      ],
      "text/plain": [
       "    sepal_length  sepal_width  petal_length  petal_width\n",
       "0            5.1          3.5           1.4          0.2\n",
       "1            4.9          3.0           1.4          0.2\n",
       "2            4.7          3.2           1.3          0.2\n",
       "3            4.6          3.1           1.5          0.2\n",
       "4            5.0          3.6           1.4          0.2\n",
       "5            5.4          3.9           1.7          0.4\n",
       "6            4.6          3.4           1.4          0.3\n",
       "7            5.0          3.4           1.5          0.2\n",
       "8            4.4          2.9           1.4          0.2\n",
       "9            4.9          3.1           1.5          0.1\n",
       "10           5.4          3.7           1.5          0.2\n",
       "11           4.8          3.4           1.6          0.2\n",
       "12           4.8          3.0           1.4          0.1\n",
       "13           4.3          3.0           1.1          0.1\n",
       "14           5.8          4.0           1.2          0.2\n",
       "15           5.7          4.4           1.5          0.4\n",
       "16           5.4          3.9           1.3          0.4\n",
       "17           5.1          3.5           1.4          0.3\n",
       "18           5.7          3.8           1.7          0.3\n",
       "19           5.1          3.8           1.5          0.3\n",
       "20           5.4          3.4           1.7          0.2\n",
       "21           5.1          3.7           1.5          0.4\n",
       "22           4.6          3.6           1.0          0.2\n",
       "23           5.1          3.3           1.7          0.5\n",
       "24           4.8          3.4           1.9          0.2\n",
       "25           5.0          3.0           1.6          0.2\n",
       "26           5.0          3.4           1.6          0.4\n",
       "27           5.2          3.5           1.5          0.2\n",
       "28           5.2          3.4           1.4          0.2\n",
       "29           4.7          3.2           1.6          0.2\n",
       "30           4.8          3.1           1.6          0.2\n",
       "31           5.4          3.4           1.5          0.4\n",
       "32           5.2          4.1           1.5          0.1\n",
       "33           5.5          4.2           1.4          0.2\n",
       "34           4.9          3.1           1.5          0.2\n",
       "35           5.0          3.2           1.2          0.2\n",
       "36           5.5          3.5           1.3          0.2\n",
       "37           4.9          3.6           1.4          0.1\n",
       "38           4.4          3.0           1.3          0.2\n",
       "39           5.1          3.4           1.5          0.2\n",
       "40           5.0          3.5           1.3          0.3\n",
       "41           4.5          2.3           1.3          0.3\n",
       "42           4.4          3.2           1.3          0.2\n",
       "43           5.0          3.5           1.6          0.6\n",
       "44           5.1          3.8           1.9          0.4\n",
       "45           4.8          3.0           1.4          0.3\n",
       "46           5.1          3.8           1.6          0.2\n",
       "47           4.6          3.2           1.4          0.2\n",
       "48           5.3          3.7           1.5          0.2\n",
       "49           5.0          3.3           1.4          0.2"
      ]
     },
     "execution_count": 15,
     "metadata": {},
     "output_type": "execute_result"
    }
   ],
   "source": [
    "setosa_df = data.loc[species == \"setosa\", :]\n",
    "setosa_df"
   ]
  },
  {
   "cell_type": "markdown",
   "id": "bc3ea1f8",
   "metadata": {},
   "source": [
    "## NumPy\n",
    "\n",
    "---\n",
    "\n",
    "These tasks are very similar to the above ones, but this time using numpy instead of pandas.\n",
    "\n",
    "The reason we show you this way as well is that while pandas is a very convenient framework (that builds on numpy), it has some drawbacks with respect to performance and some frameworks, like scipy, will automatically convert pandas input to numpy data types.\n",
    "\n",
    "#### Tasks\n",
    "1. extract all *sepal* features from the new data frame\n",
    "2. extract all rows coming from *setosa* samples\n",
    "3. extract all *sepal* features coming from *setosa or virginica* samples"
   ]
  },
  {
   "cell_type": "code",
   "execution_count": 17,
   "id": "b040017a",
   "metadata": {},
   "outputs": [],
   "source": [
    "np_data = data.values\n",
    "columns = data.columns.values\n",
    "\n",
    "np_species = species.values"
   ]
  },
  {
   "cell_type": "code",
   "execution_count": 18,
   "id": "c16bbd5d",
   "metadata": {},
   "outputs": [
    {
     "name": "stdout",
     "output_type": "stream",
     "text": [
      "(50, 4)\n"
     ]
    }
   ],
   "source": [
    "setosa_data = np_data[np_species == \"setosa\", :]\n",
    "print(setosa_data.shape)"
   ]
  },
  {
   "cell_type": "code",
   "execution_count": 19,
   "id": "5cde1b54",
   "metadata": {},
   "outputs": [
    {
     "name": "stdout",
     "output_type": "stream",
     "text": [
      "(150, 2)\n"
     ]
    }
   ],
   "source": [
    "sepal_columns = [col.startswith(\"sepal\") for col in columns]\n",
    "sepal_data = np_data[:, sepal_columns]\n",
    "print(sepal_data.shape)"
   ]
  },
  {
   "cell_type": "markdown",
   "id": "b2a42e58",
   "metadata": {},
   "source": [
    "## Matplotlib\n",
    "\n",
    "---\n",
    "\n",
    "NOTE: You can do these exercise either using pandas or numpy.\n",
    "\n",
    "#### Tasks\n",
    "1. plot the *sepal* features for *all* samples and color them by *species*\n",
    "2. plot a histogram of *petal_length* of all *setosa* samples\n",
    "3. plot a histogram of *petal_length* of *all* samples and color by *species*"
   ]
  },
  {
   "cell_type": "code",
   "execution_count": 46,
   "id": "a5ac7e1a",
   "metadata": {},
   "outputs": [
    {
     "data": {
      "image/png": "[encoded data removed]",
      "text/plain": [
       "<Figure size 432x288 with 1 Axes>"
      ]
     },
     "metadata": {
      "needs_background": "dark"
     },
     "output_type": "display_data"
    }
   ],
   "source": [
    "for spec in [\"setosa\", \"versicolor\", \"virginica\"]:\n",
    "    # NOTE: if you call plt.plot multiple times without explicitly closing the figure\n",
    "    #       it will automatically cycle through colors. For visibility you only have\n",
    "    #       to pass a label for the legend\n",
    "    plt.scatter(\n",
    "        data.loc[species == spec, \"sepal_width\"], data.loc[species == spec, \"sepal_length\"],\n",
    "        label=spec)\n",
    "\n",
    "plt.xlabel(\"Sepal Width\")\n",
    "plt.ylabel(\"Sepal Length\")\n",
    "    \n",
    "plt.legend(loc=\"upper right\", bbox_to_anchor=(1.37, 1.03))\n",
    "plt.show()"
   ]
  },
  {
   "cell_type": "code",
   "execution_count": 29,
   "id": "a38563d0",
   "metadata": {},
   "outputs": [
    {
     "data": {
      "image/png": "[encoded data removed]",
      "text/plain": [
       "<Figure size 432x288 with 1 Axes>"
      ]
     },
     "metadata": {
      "needs_background": "dark"
     },
     "output_type": "display_data"
    }
   ],
   "source": [
    "plt.hist(np_data[np_species == \"setosa\", columns == \"petal_length\"])\n",
    "\n",
    "plt.xlabel(\"Petal Length\")\n",
    "plt.ylabel(\"Count\")\n",
    "\n",
    "plt.show()"
   ]
  },
  {
   "cell_type": "code",
   "execution_count": 45,
   "id": "12e4f9f3",
   "metadata": {},
   "outputs": [
    {
     "data": {
      "image/png": "[encoded data removed]",
      "text/plain": [
       "<Figure size 432x288 with 1 Axes>"
      ]
     },
     "metadata": {
      "needs_background": "dark"
     },
     "output_type": "display_data"
    }
   ],
   "source": [
    "# here we need to use a matplotlib axis in order to properly plot the different colors\n",
    "# into one plot\n",
    "fig, ax = plt.subplots()\n",
    "\n",
    "ax.hist(\n",
    "    np_data[np_species == \"setosa\", columns == \"petal_length\"],\n",
    "    color=\"tab:blue\", alpha=.5, label=\"setosa\")\n",
    "ax.hist(\n",
    "    np_data[np_species == \"virginica\", columns == \"petal_length\"],\n",
    "    color=\"tab:green\", alpha=.5, label=\"virginica\")\n",
    "ax.hist(\n",
    "    np_data[np_species == \"versicolor\", columns == \"petal_length\"],\n",
    "    color=\"tab:orange\", alpha=.5, label=\"versicolor\")\n",
    "    \n",
    "plt.xlabel(\"Petal Length\")\n",
    "plt.ylabel(\"Count\")\n",
    "\n",
    "plt.legend(loc=\"upper right\", bbox_to_anchor=(1.37, 1.03))\n",
    "plt.show()"
   ]
  }
 ],
 "metadata": {
  "kernelspec": {
   "display_name": "Python 3 (ipykernel)",
   "language": "python",
   "name": "python3"
  },
  "language_info": {
   "codemirror_mode": {
    "name": "ipython",
    "version": 3
   },
   "file_extension": ".py",
   "mimetype": "text/x-python",
   "name": "python",
   "nbconvert_exporter": "python",
   "pygments_lexer": "ipython3",
   "version": "3.8.11"
  }
 },
 "nbformat": 4,
 "nbformat_minor": 5
}
