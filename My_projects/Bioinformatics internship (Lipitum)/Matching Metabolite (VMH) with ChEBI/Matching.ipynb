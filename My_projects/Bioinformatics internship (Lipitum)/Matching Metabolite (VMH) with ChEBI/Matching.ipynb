{
 "cells": [
  {
   "cell_type": "code",
   "execution_count": 3,
   "metadata": {
    "collapsed": true
   },
   "outputs": [],
   "source": [
    "import pandas as pd\n",
    "from functools import reduce"
   ]
  },
  {
   "cell_type": "code",
   "execution_count": 4,
   "outputs": [],
   "source": [
    "chebi = pd.read_csv('full_chebi.csv')\n",
    "metabo = pd.read_csv('metabolites_syn.csv')"
   ],
   "metadata": {
    "collapsed": false
   }
  },
  {
   "cell_type": "markdown",
   "source": [
    "# Merging"
   ],
   "metadata": {
    "collapsed": false
   }
  },
  {
   "cell_type": "markdown",
   "source": [
    "Checking different aspects of the two datasets."
   ],
   "metadata": {
    "collapsed": false
   }
  },
  {
   "cell_type": "code",
   "execution_count": 5,
   "outputs": [
    {
     "name": "stdout",
     "output_type": "stream",
     "text": [
      "<class 'pandas.core.frame.DataFrame'>\n",
      "Int64Index: 8104 entries, 0 to 8103\n",
      "Data columns (total 7 columns):\n",
      " #   Column            Non-Null Count  Dtype \n",
      "---  ------            --------------  ----- \n",
      " 0   chebi_id          8104 non-null   int64 \n",
      " 1   name              8104 non-null   object\n",
      " 2   definition        7466 non-null   object\n",
      " 3   inchi_string      8104 non-null   object\n",
      " 4   synonym           8104 non-null   object\n",
      " 5   type              8104 non-null   object\n",
      " 6   accession_number  8104 non-null   object\n",
      "dtypes: int64(1), object(6)\n",
      "memory usage: 506.5+ KB\n"
     ]
    }
   ],
   "source": [
    "chebi.info()"
   ],
   "metadata": {
    "collapsed": false
   }
  },
  {
   "cell_type": "code",
   "execution_count": 6,
   "outputs": [
    {
     "name": "stdout",
     "output_type": "stream",
     "text": [
      "<class 'pandas.core.frame.DataFrame'>\n",
      "Int64Index: 8104 entries, 0 to 8103\n",
      "Data columns (total 7 columns):\n",
      " #   Column            Non-Null Count  Dtype \n",
      "---  ------            --------------  ----- \n",
      " 0   chebi_id          8104 non-null   int64 \n",
      " 1   name              8104 non-null   object\n",
      " 2   definition        7466 non-null   object\n",
      " 3   inchi_string      8104 non-null   object\n",
      " 4   synonym           8104 non-null   object\n",
      " 5   type              8104 non-null   object\n",
      " 6   accession_number  8104 non-null   object\n",
      "dtypes: int64(1), object(6)\n",
      "memory usage: 506.5+ KB\n"
     ]
    }
   ],
   "source": [
    "chebi.info()"
   ],
   "metadata": {
    "collapsed": false
   }
  },
  {
   "cell_type": "code",
   "execution_count": 59,
   "outputs": [],
   "source": [
    "chebi.drop_duplicates(subset='name',keep='first',inplace=True)"
   ],
   "metadata": {
    "collapsed": false
   }
  },
  {
   "cell_type": "code",
   "execution_count": 60,
   "outputs": [
    {
     "name": "stdout",
     "output_type": "stream",
     "text": [
      "<class 'pandas.core.frame.DataFrame'>\n",
      "Int64Index: 8104 entries, 0 to 8103\n",
      "Data columns (total 7 columns):\n",
      " #   Column            Non-Null Count  Dtype \n",
      "---  ------            --------------  ----- \n",
      " 0   chebi_id          8104 non-null   int64 \n",
      " 1   name              8104 non-null   object\n",
      " 2   definition        7466 non-null   object\n",
      " 3   inchi_string      8104 non-null   object\n",
      " 4   synonym           8104 non-null   object\n",
      " 5   type              8104 non-null   object\n",
      " 6   accession_number  8104 non-null   object\n",
      "dtypes: int64(1), object(6)\n",
      "memory usage: 506.5+ KB\n"
     ]
    }
   ],
   "source": [
    "chebi.info()"
   ],
   "metadata": {
    "collapsed": false
   }
  },
  {
   "cell_type": "code",
   "execution_count": 7,
   "outputs": [
    {
     "name": "stdout",
     "output_type": "stream",
     "text": [
      "<class 'pandas.core.frame.DataFrame'>\n",
      "RangeIndex: 5607 entries, 0 to 5606\n",
      "Data columns (total 14 columns):\n",
      " #   Column                   Non-Null Count  Dtype  \n",
      "---  ------                   --------------  -----  \n",
      " 0   abbreviation_metabolite  5607 non-null   object \n",
      " 1   casregistry_metabolite   1274 non-null   object \n",
      " 2   cheblid_metabolite       1549 non-null   float64\n",
      " 3   description_metabolite   1711 non-null   object \n",
      " 4   fullname_metabolite      5607 non-null   object \n",
      " 5   hmdb_metabolite          1736 non-null   object \n",
      " 6   inchikey_metabolite      3042 non-null   object \n",
      " 7   inchistring_metabolite   2985 non-null   object \n",
      " 8   keggid_metabolite        1883 non-null   object \n",
      " 9   biocyc_metabolite        864 non-null    object \n",
      " 10  food_db_metabolite       1355 non-null   object \n",
      " 11  reconmap3_metabolite     2349 non-null   object \n",
      " 12  smile_metabolite         3277 non-null   object \n",
      " 13  synonyms_metabolite      1488 non-null   object \n",
      "dtypes: float64(1), object(13)\n",
      "memory usage: 613.4+ KB\n"
     ]
    }
   ],
   "source": [
    "metabo.info()"
   ],
   "metadata": {
    "collapsed": false
   }
  },
  {
   "cell_type": "code",
   "execution_count": 57,
   "outputs": [],
   "source": [
    "metabo.drop_duplicates(subset='fullname_metabolite',keep='first',inplace=True)"
   ],
   "metadata": {
    "collapsed": false
   }
  },
  {
   "cell_type": "code",
   "execution_count": 58,
   "outputs": [
    {
     "name": "stdout",
     "output_type": "stream",
     "text": [
      "<class 'pandas.core.frame.DataFrame'>\n",
      "Int64Index: 5522 entries, 0 to 5606\n",
      "Data columns (total 14 columns):\n",
      " #   Column                   Non-Null Count  Dtype  \n",
      "---  ------                   --------------  -----  \n",
      " 0   abbreviation_metabolite  5522 non-null   object \n",
      " 1   casregistry_metabolite   1239 non-null   object \n",
      " 2   cheblid_metabolite       1509 non-null   float64\n",
      " 3   description_metabolite   1665 non-null   object \n",
      " 4   fullname_metabolite      5522 non-null   object \n",
      " 5   hmdb_metabolite          1689 non-null   object \n",
      " 6   inchikey_metabolite      2991 non-null   object \n",
      " 7   inchistring_metabolite   2937 non-null   object \n",
      " 8   keggid_metabolite        1837 non-null   object \n",
      " 9   biocyc_metabolite        839 non-null    object \n",
      " 10  food_db_metabolite       1319 non-null   object \n",
      " 11  reconmap3_metabolite     2302 non-null   object \n",
      " 12  smile_metabolite         3221 non-null   object \n",
      " 13  synonyms_metabolite      1451 non-null   object \n",
      "dtypes: float64(1), object(13)\n",
      "memory usage: 647.1+ KB\n"
     ]
    }
   ],
   "source": [
    "metabo.info()"
   ],
   "metadata": {
    "collapsed": false
   }
  },
  {
   "cell_type": "code",
   "execution_count": 10,
   "outputs": [
    {
     "data": {
      "text/plain": "   abbreviation_metabolite casregistry_metabolite  cheblid_metabolite  \\\n0                   10fthf              2800-34-2             15637.0   \n1               10fthf5glu                    NaN                 NaN   \n2               10fthf6glu                    NaN                 NaN   \n3               10fthf7glu                    NaN                 NaN   \n4             10m3hddcaACP                    NaN                 NaN   \n..                     ...                    ...                 ...   \n95                1agpg120                    NaN                 NaN   \n96                1agpg140                    NaN                 NaN   \n97                1agpg141                    NaN                 NaN   \n98                1agpg160                    NaN                 NaN   \n99                1agpg161                    NaN                 NaN   \n\n                               description_metabolite  \\\n0   Human Metabolome Database (HMDB): 10-Formyltet...   \n1                                                 NaN   \n2                                                 NaN   \n3                                                 NaN   \n4                                                 NaN   \n..                                                ...   \n95                                                NaN   \n96                                                NaN   \n97                                                NaN   \n98                                                NaN   \n99                                                NaN   \n\n                              fullname_metabolite hmdb_metabolite  \\\n0                       10-Formyltetrahydrofolate     HMDB0000972   \n1              10-Formyltetrahydrofolate-[Glu](5)             NaN   \n2              10-Formyltetrahydrofolate-[Glu](6)             NaN   \n3              10-Formyltetrahydrofolate-[Glu](7)             NaN   \n4              10-methyl-3-hydroxy-dodecanoyl-ACP             NaN   \n..                                            ...             ...   \n95  1-Acyl-sn-glycero-3-phosphoglycerol (n-C12:0)             NaN   \n96  1-Acyl-sn-glycero-3-phosphoglycerol (n-C14:0)             NaN   \n97  1-Acyl-sn-glycero-3-phosphoglycerol (n-C14:1)             NaN   \n98  1-Acyl-sn-glycero-3-phosphoglycerol (n-C16:0)             NaN   \n99  1-Acyl-sn-glycero-3-phosphoglycerol (n-C16:1)             NaN   \n\n            inchikey_metabolite  \\\n0   AUFGTPPARQZWDO-YUZLPWPTSA-L   \n1   RGSLBOWMZCMTRA-UHFFFAOYSA-H   \n2   SFFBEUFYOPMKMV-CWMPVMSNSA-G   \n3   VTHHVZBTNSHUDD-UHFFFAOYSA-F   \n4                           NaN   \n..                          ...   \n95                          NaN   \n96                          NaN   \n97                          NaN   \n98                          NaN   \n99                          NaN   \n\n                               inchistring_metabolite keggid_metabolite  \\\n0   InChI=1S/C20H23N7O7/c21-20-25-16-15(18(32)26-2...            C00234   \n1   InChI=1S/C40H51N11O19/c41-40-49-32-31(37(66)50...               NaN   \n2   InChI=1S/C45H58N12O22/c46-45-55-36-35(38(67)56...               NaN   \n3   InChI=1S/C50H65N13O25/c51-50-61-40-39(47(84)62...               NaN   \n4                                                 NaN               NaN   \n..                                                ...               ...   \n95                                                NaN               NaN   \n96                                                NaN               NaN   \n97                                                NaN               NaN   \n98                                                NaN               NaN   \n99                                                NaN               NaN   \n\n   biocyc_metabolite food_db_metabolite reconmap3_metabolite  \\\n0      10-FORMYL-THF          FDB022345               10fthf   \n1                NaN                NaN           10fthf5glu   \n2                NaN                NaN           10fthf6glu   \n3                NaN                NaN           10fthf7glu   \n4                NaN                NaN                  NaN   \n..               ...                ...                  ...   \n95               NaN                NaN                  NaN   \n96               NaN                NaN                  NaN   \n97               NaN                NaN                  NaN   \n98               NaN                NaN                  NaN   \n99               NaN                NaN                  NaN   \n\n                                     smile_metabolite  \\\n0   [H]OC1=NC(=NC2=C1N([H])C([H])(C([H])([H])N(C([...   \n1   [H]OC1=NC(=N[H])N([H])C2=C1N([H])C([H])(C([H])...   \n2   [H]OC(=O)C([H])(N=C([O-])C([H])([H])C([H])([H]...   \n3   [H]OC1=NC(=N[H])N([H])C2=C1N([H])C([H])(C([H])...   \n4                                                 NaN   \n..                                                ...   \n95                                                NaN   \n96                                                NaN   \n97                                                NaN   \n98                                                NaN   \n99                                                NaN   \n\n                                  synonyms_metabolite  \n0   10-Formyl-THF***10-Formyltetrahydrofolic acid*...  \n1                                                 NaN  \n2                                                 NaN  \n3                                                 NaN  \n4                                                 NaN  \n..                                                ...  \n95                                                NaN  \n96                                                NaN  \n97                                                NaN  \n98                                                NaN  \n99                                                NaN  \n\n[100 rows x 14 columns]",
      "text/html": "<div>\n<style scoped>\n    .dataframe tbody tr th:only-of-type {\n        vertical-align: middle;\n    }\n\n    .dataframe tbody tr th {\n        vertical-align: top;\n    }\n\n    .dataframe thead th {\n        text-align: right;\n    }\n</style>\n<table border=\"1\" class=\"dataframe\">\n  <thead>\n    <tr style=\"text-align: right;\">\n      <th></th>\n      <th>abbreviation_metabolite</th>\n      <th>casregistry_metabolite</th>\n      <th>cheblid_metabolite</th>\n      <th>description_metabolite</th>\n      <th>fullname_metabolite</th>\n      <th>hmdb_metabolite</th>\n      <th>inchikey_metabolite</th>\n      <th>inchistring_metabolite</th>\n      <th>keggid_metabolite</th>\n      <th>biocyc_metabolite</th>\n      <th>food_db_metabolite</th>\n      <th>reconmap3_metabolite</th>\n      <th>smile_metabolite</th>\n      <th>synonyms_metabolite</th>\n    </tr>\n  </thead>\n  <tbody>\n    <tr>\n      <th>0</th>\n      <td>10fthf</td>\n      <td>2800-34-2</td>\n      <td>15637.0</td>\n      <td>Human Metabolome Database (HMDB): 10-Formyltet...</td>\n      <td>10-Formyltetrahydrofolate</td>\n      <td>HMDB0000972</td>\n      <td>AUFGTPPARQZWDO-YUZLPWPTSA-L</td>\n      <td>InChI=1S/C20H23N7O7/c21-20-25-16-15(18(32)26-2...</td>\n      <td>C00234</td>\n      <td>10-FORMYL-THF</td>\n      <td>FDB022345</td>\n      <td>10fthf</td>\n      <td>[H]OC1=NC(=NC2=C1N([H])C([H])(C([H])([H])N(C([...</td>\n      <td>10-Formyl-THF***10-Formyltetrahydrofolic acid*...</td>\n    </tr>\n    <tr>\n      <th>1</th>\n      <td>10fthf5glu</td>\n      <td>NaN</td>\n      <td>NaN</td>\n      <td>NaN</td>\n      <td>10-Formyltetrahydrofolate-[Glu](5)</td>\n      <td>NaN</td>\n      <td>RGSLBOWMZCMTRA-UHFFFAOYSA-H</td>\n      <td>InChI=1S/C40H51N11O19/c41-40-49-32-31(37(66)50...</td>\n      <td>NaN</td>\n      <td>NaN</td>\n      <td>NaN</td>\n      <td>10fthf5glu</td>\n      <td>[H]OC1=NC(=N[H])N([H])C2=C1N([H])C([H])(C([H])...</td>\n      <td>NaN</td>\n    </tr>\n    <tr>\n      <th>2</th>\n      <td>10fthf6glu</td>\n      <td>NaN</td>\n      <td>NaN</td>\n      <td>NaN</td>\n      <td>10-Formyltetrahydrofolate-[Glu](6)</td>\n      <td>NaN</td>\n      <td>SFFBEUFYOPMKMV-CWMPVMSNSA-G</td>\n      <td>InChI=1S/C45H58N12O22/c46-45-55-36-35(38(67)56...</td>\n      <td>NaN</td>\n      <td>NaN</td>\n      <td>NaN</td>\n      <td>10fthf6glu</td>\n      <td>[H]OC(=O)C([H])(N=C([O-])C([H])([H])C([H])([H]...</td>\n      <td>NaN</td>\n    </tr>\n    <tr>\n      <th>3</th>\n      <td>10fthf7glu</td>\n      <td>NaN</td>\n      <td>NaN</td>\n      <td>NaN</td>\n      <td>10-Formyltetrahydrofolate-[Glu](7)</td>\n      <td>NaN</td>\n      <td>VTHHVZBTNSHUDD-UHFFFAOYSA-F</td>\n      <td>InChI=1S/C50H65N13O25/c51-50-61-40-39(47(84)62...</td>\n      <td>NaN</td>\n      <td>NaN</td>\n      <td>NaN</td>\n      <td>10fthf7glu</td>\n      <td>[H]OC1=NC(=N[H])N([H])C2=C1N([H])C([H])(C([H])...</td>\n      <td>NaN</td>\n    </tr>\n    <tr>\n      <th>4</th>\n      <td>10m3hddcaACP</td>\n      <td>NaN</td>\n      <td>NaN</td>\n      <td>NaN</td>\n      <td>10-methyl-3-hydroxy-dodecanoyl-ACP</td>\n      <td>NaN</td>\n      <td>NaN</td>\n      <td>NaN</td>\n      <td>NaN</td>\n      <td>NaN</td>\n      <td>NaN</td>\n      <td>NaN</td>\n      <td>NaN</td>\n      <td>NaN</td>\n    </tr>\n    <tr>\n      <th>...</th>\n      <td>...</td>\n      <td>...</td>\n      <td>...</td>\n      <td>...</td>\n      <td>...</td>\n      <td>...</td>\n      <td>...</td>\n      <td>...</td>\n      <td>...</td>\n      <td>...</td>\n      <td>...</td>\n      <td>...</td>\n      <td>...</td>\n      <td>...</td>\n    </tr>\n    <tr>\n      <th>95</th>\n      <td>1agpg120</td>\n      <td>NaN</td>\n      <td>NaN</td>\n      <td>NaN</td>\n      <td>1-Acyl-sn-glycero-3-phosphoglycerol (n-C12:0)</td>\n      <td>NaN</td>\n      <td>NaN</td>\n      <td>NaN</td>\n      <td>NaN</td>\n      <td>NaN</td>\n      <td>NaN</td>\n      <td>NaN</td>\n      <td>NaN</td>\n      <td>NaN</td>\n    </tr>\n    <tr>\n      <th>96</th>\n      <td>1agpg140</td>\n      <td>NaN</td>\n      <td>NaN</td>\n      <td>NaN</td>\n      <td>1-Acyl-sn-glycero-3-phosphoglycerol (n-C14:0)</td>\n      <td>NaN</td>\n      <td>NaN</td>\n      <td>NaN</td>\n      <td>NaN</td>\n      <td>NaN</td>\n      <td>NaN</td>\n      <td>NaN</td>\n      <td>NaN</td>\n      <td>NaN</td>\n    </tr>\n    <tr>\n      <th>97</th>\n      <td>1agpg141</td>\n      <td>NaN</td>\n      <td>NaN</td>\n      <td>NaN</td>\n      <td>1-Acyl-sn-glycero-3-phosphoglycerol (n-C14:1)</td>\n      <td>NaN</td>\n      <td>NaN</td>\n      <td>NaN</td>\n      <td>NaN</td>\n      <td>NaN</td>\n      <td>NaN</td>\n      <td>NaN</td>\n      <td>NaN</td>\n      <td>NaN</td>\n    </tr>\n    <tr>\n      <th>98</th>\n      <td>1agpg160</td>\n      <td>NaN</td>\n      <td>NaN</td>\n      <td>NaN</td>\n      <td>1-Acyl-sn-glycero-3-phosphoglycerol (n-C16:0)</td>\n      <td>NaN</td>\n      <td>NaN</td>\n      <td>NaN</td>\n      <td>NaN</td>\n      <td>NaN</td>\n      <td>NaN</td>\n      <td>NaN</td>\n      <td>NaN</td>\n      <td>NaN</td>\n    </tr>\n    <tr>\n      <th>99</th>\n      <td>1agpg161</td>\n      <td>NaN</td>\n      <td>NaN</td>\n      <td>NaN</td>\n      <td>1-Acyl-sn-glycero-3-phosphoglycerol (n-C16:1)</td>\n      <td>NaN</td>\n      <td>NaN</td>\n      <td>NaN</td>\n      <td>NaN</td>\n      <td>NaN</td>\n      <td>NaN</td>\n      <td>NaN</td>\n      <td>NaN</td>\n      <td>NaN</td>\n    </tr>\n  </tbody>\n</table>\n<p>100 rows × 14 columns</p>\n</div>"
     },
     "execution_count": 10,
     "metadata": {},
     "output_type": "execute_result"
    }
   ],
   "source": [
    "metabo.head(100)"
   ],
   "metadata": {
    "collapsed": false
   }
  },
  {
   "cell_type": "code",
   "execution_count": 11,
   "outputs": [
    {
     "data": {
      "text/plain": "False    8103\nTrue        1\nName: name, dtype: int64"
     },
     "execution_count": 11,
     "metadata": {},
     "output_type": "execute_result"
    }
   ],
   "source": [
    "chebi['name'].isin(metabo['abbreviation_metabolite']).value_counts()"
   ],
   "metadata": {
    "collapsed": false
   }
  },
  {
   "cell_type": "code",
   "execution_count": 12,
   "outputs": [
    {
     "data": {
      "text/plain": "False    8096\nTrue        8\nName: name, dtype: int64"
     },
     "execution_count": 12,
     "metadata": {},
     "output_type": "execute_result"
    }
   ],
   "source": [
    "chebi['name'].isin(metabo['fullname_metabolite']).value_counts()"
   ],
   "metadata": {
    "collapsed": false
   }
  },
  {
   "cell_type": "code",
   "execution_count": 13,
   "outputs": [
    {
     "data": {
      "text/plain": "False    8103\nTrue        1\nName: synonym, dtype: int64"
     },
     "execution_count": 13,
     "metadata": {},
     "output_type": "execute_result"
    }
   ],
   "source": [
    "chebi['synonym'].isin(metabo['synonyms_metabolite']).value_counts()"
   ],
   "metadata": {
    "collapsed": false
   }
  },
  {
   "cell_type": "code",
   "execution_count": 14,
   "outputs": [
    {
     "data": {
      "text/plain": "False    8102\nTrue        2\nName: synonym, dtype: int64"
     },
     "execution_count": 14,
     "metadata": {},
     "output_type": "execute_result"
    }
   ],
   "source": [
    "chebi['synonym'].isin(metabo['abbreviation_metabolite']).value_counts()"
   ],
   "metadata": {
    "collapsed": false
   }
  },
  {
   "cell_type": "code",
   "execution_count": 15,
   "outputs": [
    {
     "data": {
      "text/plain": "False    7945\nTrue      159\nName: inchi_string, dtype: int64"
     },
     "execution_count": 15,
     "metadata": {},
     "output_type": "execute_result"
    }
   ],
   "source": [
    "chebi['inchi_string'].isin(metabo['inchistring_metabolite']).value_counts()"
   ],
   "metadata": {
    "collapsed": false
   }
  },
  {
   "cell_type": "markdown",
   "source": [
    "Matching on inchistring."
   ],
   "metadata": {
    "collapsed": false
   }
  },
  {
   "cell_type": "code",
   "execution_count": 16,
   "outputs": [],
   "source": [
    "metabo_chebi_inch = metabo.merge(chebi,left_on='inchistring_metabolite',right_on='inchi_string',how='inner')"
   ],
   "metadata": {
    "collapsed": false
   }
  },
  {
   "cell_type": "code",
   "execution_count": 17,
   "outputs": [
    {
     "name": "stdout",
     "output_type": "stream",
     "text": [
      "<class 'pandas.core.frame.DataFrame'>\n",
      "Int64Index: 163 entries, 0 to 162\n",
      "Data columns (total 21 columns):\n",
      " #   Column                   Non-Null Count  Dtype  \n",
      "---  ------                   --------------  -----  \n",
      " 0   abbreviation_metabolite  163 non-null    object \n",
      " 1   casregistry_metabolite   100 non-null    object \n",
      " 2   cheblid_metabolite       122 non-null    float64\n",
      " 3   description_metabolite   120 non-null    object \n",
      " 4   fullname_metabolite      163 non-null    object \n",
      " 5   hmdb_metabolite          122 non-null    object \n",
      " 6   inchikey_metabolite      159 non-null    object \n",
      " 7   inchistring_metabolite   163 non-null    object \n",
      " 8   keggid_metabolite        105 non-null    object \n",
      " 9   biocyc_metabolite        51 non-null     object \n",
      " 10  food_db_metabolite       95 non-null     object \n",
      " 11  reconmap3_metabolite     102 non-null    object \n",
      " 12  smile_metabolite         156 non-null    object \n",
      " 13  synonyms_metabolite      118 non-null    object \n",
      " 14  chebi_id                 163 non-null    int64  \n",
      " 15  name                     163 non-null    object \n",
      " 16  definition               148 non-null    object \n",
      " 17  inchi_string             163 non-null    object \n",
      " 18  synonym                  163 non-null    object \n",
      " 19  type                     163 non-null    object \n",
      " 20  accession_number         163 non-null    object \n",
      "dtypes: float64(1), int64(1), object(19)\n",
      "memory usage: 28.0+ KB\n"
     ]
    }
   ],
   "source": [
    "metabo_chebi_inch.info()"
   ],
   "metadata": {
    "collapsed": false
   }
  },
  {
   "cell_type": "code",
   "execution_count": 18,
   "outputs": [
    {
     "data": {
      "text/plain": "   abbreviation_metabolite casregistry_metabolite  cheblid_metabolite  \\\n0             20ahchsterol               516-72-3              1296.0   \n1                    xol7a                    NaN             17500.0   \n2                 2dp6mobq                    NaN             50773.0   \n3                    2dr5p            102916-66-5             16132.0   \n4                      2hb               600-15-7              1148.0   \n5                  2hxic_L                    NaN                 NaN   \n6                2hyoxplac               614-75-5             28478.0   \n7                  2mp2coa              6008-91-9             27754.0   \n8                    2ohed                    NaN              1254.0   \n9                   3a2opp                    NaN              1449.0   \n10                    3amp                    NaN                 NaN   \n11                   3bcrn                    NaN             84842.0   \n12                 3hddcoa             72059-49-5             27668.0   \n13                3hexdcoa                    NaN                 NaN   \n14                 HC01397             35106-50-4             27402.0   \n15               3hibutcoa                    NaN             15481.0   \n16                    3hmp              2068-83-9             37373.0   \n17                  3ivcoa                    NaN                 NaN   \n18                 3oddcoa             78303-19-2             27868.0   \n19                3ohodcoa             86370-20-9                 NaN   \n\n                               description_metabolite  \\\n0   Human Metabolome Database (HMDB): 20 alpha-hyd...   \n1   Human Metabolome Database (HMDB): 7alpha-hydro...   \n2   Human Metabolome Database (HMDB): This compoun...   \n3   Human Metabolome Database (HMDB): Deoxyribose ...   \n4   Human Metabolome Database (HMDB): 2-Hydroxybut...   \n5                                                 NaN   \n6   Human Metabolome Database (HMDB): Ortho-hydrox...   \n7   Human Metabolome Database (HMDB): Methacrylyl-...   \n8                                                 NaN   \n9                                                 NaN   \n10                                                NaN   \n11                                                NaN   \n12  Human Metabolome Database (HMDB): (S)-3-Hydrox...   \n13                                                NaN   \n14  Human Metabolome Database (HMDB): (S)-3-Hydrox...   \n15                                                NaN   \n16  Human Metabolome Database (HMDB): (S)-3-Hydrox...   \n17                                                NaN   \n18  Human Metabolome Database (HMDB): 3-Oxododecan...   \n19  Human Metabolome Database (HMDB): 3-Oxooctadec...   \n\n                        fullname_metabolite hmdb_metabolite  \\\n0                20alpha-Hydroxycholesterol     HMDB0006283   \n1                     7a-Hydroxycholesterol     HMDB0001496   \n2   2-Decaprenyl-6-methoxy-1,4-benzoquinone     HMDB0060248   \n3                   Deoxyribose 5-phosphate     HMDB0001031   \n4                     2-Hydroxybutyric acid     HMDB0000008   \n5                     2-Hydroxy-Isocaproate             NaN   \n6            Ortho-Hydroxyphenylacetic acid     HMDB0000669   \n7                           Methacrylyl-CoA     HMDB0001011   \n8                2-Oxohept-3-ene-1,7-dioate             NaN   \n9             3-Amino-2-oxopropyl phosphate             NaN   \n10                3-Adenosine Monophosphate             NaN   \n11              3-Hydroxy Butyryl Carnitine     HMDB0062735   \n12              (S)-3-Hydroxydodecanoyl-CoA     HMDB0003936   \n13         3-Hydroxyhexadecanoyl Coenzyme A             NaN   \n14            (S)-3-Hydroxyhexadecanoyl-CoA     HMDB0003932   \n15       (S)-3-Hydroxyisobutyryl Coenzyme A             NaN   \n16             (S)-3-Hydroxyisobutyric acid     HMDB0000023   \n17           3-Hydroxyisovaleryl Coenzyme A             NaN   \n18                      3-Oxododecanoyl-CoA     HMDB0003937   \n19                    3-Oxooctadecanoyl-CoA     HMDB0006498   \n\n            inchikey_metabolite  \\\n0   MCKLJFJEQRYRQT-APGJSSKUSA-N   \n1   MCKLJFJEQRYRQT-APGJSSKUSA-N   \n2   POYJNCVGTDCCPK-RDSVHMIISA-N   \n3   KKZFLSZAWCYPOC-PYHARJCCSA-L   \n4   AFENDNXGAFYKQO-UHFFFAOYSA-M   \n5   LVRFTAZAXQPQHI-UHFFFAOYSA-M   \n6   CCVYRRGZDBSHFU-UHFFFAOYSA-M   \n7   NPALUEYCDZWBOV-NDZSKPAWSA-J   \n8                           NaN   \n9                           NaN   \n10  LNQVTSROQXJCDD-KQYNXXCUSA-L   \n11  UEFRDQSMQXDWTO-UHFFFAOYSA-N   \n12  IJFLXRCJWPKGKJ-LXIXEQKWSA-J   \n13  DEHLMTDDPWDRDR-BCIKBWLNSA-J   \n14  DEHLMTDDPWDRDR-BCIKBWLNSA-J   \n15  WWEOGFZEFHPUAM-UQCJFRAESA-J   \n16  DBXBTMSZEOQQDU-VKHMYHEASA-M   \n17  PEVZKILCBDEOBT-CITAKDKDSA-J   \n18  HQANBZHVWIDNQZ-GMHMEAMDSA-J   \n19  LGOGWHDPDVAUNY-LFZQUHGESA-J   \n\n                               inchistring_metabolite keggid_metabolite  \\\n0   InChI=1S/C27H46O2/c1-18(2)7-6-14-27(5,29)24-11...            C05500   \n1   InChI=1S/C27H46O2/c1-18(2)7-6-14-27(5,29)24-11...            C03594   \n2   InChI=1S/C57H86O3/c1-44(2)22-13-23-45(3)24-14-...               NaN   \n3   InChI=1S/C5H11O7P/c6-3-1-5(7)12-4(3)2-11-13(8,...            C00673   \n4   InChI=1S/C4H8O3/c1-2-3(5)4(6)7/h3,5H,2H2,1H3,(...            C05984   \n5   InChI=1S/C6H12O3/c1-4(2)3-5(7)6(8)9/h4-5,7H,3H...               NaN   \n6   InChI=1S/C8H8O3/c9-7-4-2-1-3-6(7)5-8(10)11/h1-...            C05852   \n7   InChI=1S/C25H40N7O17P3S/c1-13(2)24(37)53-8-7-2...            C03460   \n8   InChI=1S/C7H8O5/c8-5(7(11)12)3-1-2-4-6(9)10/h1...            C03063   \n9   InChI=1S/C3H8NO5P/c4-1-3(5)2-9-10(6,7)8/h1-2,4...               NaN   \n10  InChI=1S/C10H14N5O7P/c11-8-5-9(13-2-12-8)15(3-...               NaN   \n11  InChI=1S/C11H21NO5/c1-8(13)5-11(16)17-9(6-10(1...               NaN   \n12  InChI=1S/C33H58N7O18P3S/c1-4-5-6-7-8-9-10-11-2...            C05262   \n13  InChI=1S/C37H66N7O18P3S/c1-4-5-6-7-8-9-10-11-1...               NaN   \n14  InChI=1S/C37H66N7O18P3S/c1-4-5-6-7-8-9-10-11-1...            C05258   \n15  InChI=1S/C25H42N7O18P3S/c1-13(8-33)24(38)54-7-...            C04047   \n16  InChI=1S/C4H8O3/c1-3(2-5)4(6)7/h3,5H,2H2,1H3,(...            C06001   \n17  InChI=1S/C26H44N7O18P3S/c1-25(2,20(37)23(38)29...               NaN   \n18  InChI=1S/C33H56N7O18P3S/c1-4-5-6-7-8-9-10-11-2...            C05263   \n19  InChI=1S/C39H68N7O18P3S/c1-4-5-6-7-8-9-10-11-1...            C16216   \n\n          biocyc_metabolite  ... reconmap3_metabolite  \\\n0   20A-HYDROXY-CHOLESTEROL  ...         20ahchsterol   \n1                   CPD-266  ...                xol7a   \n2                 CPD-11659  ...             2dp6mobq   \n3           DEOXY-RIBOSE-5P  ...                2dr5p   \n4                  CPD-3564  ...                  2hb   \n5                       NaN  ...                  NaN   \n6                       NaN  ...            2hyoxplac   \n7           METHACRYLYL-COA  ...              2mp2coa   \n8                       NaN  ...                  NaN   \n9                       NaN  ...                  NaN   \n10                      NaN  ...                  NaN   \n11                      NaN  ...                3bcrn   \n12                      NaN  ...              3hddcoa   \n13                      NaN  ...             3hexdcoa   \n14                      NaN  ...              HC01397   \n15                      NaN  ...            3hibutcoa   \n16    3-HYDROXY-ISOBUTYRATE  ...                 3hmp   \n17                      NaN  ...               3ivcoa   \n18                      NaN  ...              3oddcoa   \n19                      NaN  ...             3ohodcoa   \n\n                                     smile_metabolite  \\\n0   [H]O[C@]1([H])C([H])([H])C2=C([H])C([H])([H])[...   \n1   [H]O[C@]1([H])C([H])([H])C2=C([H])C([H])([H])[...   \n2   [H]C(=C(C([H])([H])[H])C([H])([H])[H])C([H])([...   \n3   [H]OC1([H])O[C@]([H])(C([H])([H])OP([O-])([O-]...   \n4      [H]OC([H])(C([O-])=O)C([H])([H])C([H])([H])[H]   \n5   [H]OC([H])(C([O-])=O)C([H])([H])C([H])(C([H])(...   \n6   [H]OC1=C([H])C([H])=C([H])C([H])=C1C([H])([H])...   \n7   [H]O[C@@]([H])(C(=O)N([H])C([H])([H])C([H])([H...   \n8                                                 NaN   \n9                                                 NaN   \n10  [H]OC([H])([H])[C@@]1([H])O[C@@]([H])(N2C([H])...   \n11  [H]OC([H])(C([H])([H])[H])C([H])([H])C(=O)OC([...   \n12  [H]O[C@@]([H])(C(=O)N([H])C([H])([H])C([H])([H...   \n13  [H]O[C@@]([H])(C(=O)N([H])C([H])([H])C([H])([H...   \n14  [H]O[C@@]([H])(C(=O)N([H])C([H])([H])C([H])([H...   \n15  [H]OC([H])([H])[C@@]([H])(C(=O)SC([H])([H])C([...   \n16  [H]OC([H])([H])[C@@]([H])(C([O-])=O)C([H])([H]...   \n17  [H]O[C@@]([H])(C(=O)N([H])C([H])([H])C([H])([H...   \n18  [H]O[C@@]([H])(C(=O)N([H])C([H])([H])C([H])([H...   \n19  [H]O[C@@]([H])(C(=O)N([H])C([H])([H])C([H])([H...   \n\n                                  synonyms_metabolite chebi_id  \\\n0   (3beta,20R)-Cholest-5-ene-3,20-diol***20-Hydro...     1296   \n1   7 alpha-Hydroxycholesterol***7-a-Hydroxycholes...     1296   \n2   2-[(2E,6E,10E,14E,18E,22E,26E,30E,34E)-3,7,11,...    50773   \n3   2-Deoxy-alpha-D-ribose 5-phosphate***2-Deoxy-a...    62877   \n4   2-Hydroxybutanoic acid***alpha-Hydroxybutanoic...    64552   \n5                                                 NaN   133577   \n6   (O-Hydroxyphenyl)acetic acid***2'-Hydroxypheny...    62423   \n7   2-Methylprop-2-enoyl-CoA***2-Methylprop-2-enoy...    62500   \n8                                                 NaN     1254   \n9                                                 NaN     1449   \n10                                                NaN    60880   \n11  3-Hydroxybutyryl-L-carnitine***3-Hydroxybutyry...    72995   \n12  (S)-3-Hydroxydodecanoyl-coenzyme A***(S)-3-Hyd...    62558   \n13                                                NaN    62613   \n14  (S)-3-Hydroxyhexadecanoyl-coenzyme A***(S)-3-H...    62613   \n15                                                NaN    62611   \n16  (S)-3-Hydroxy-2-methylpropanoic acid***(S)-3-H...    62638   \n17                                                NaN    62555   \n18      3-Oxododecanoyl-coenzyme A***3-Oxolauroyl-CoA    62615   \n19  3-Ketostearoyl-CoA***3-Ketostearoyl-coenzyme A...    71407   \n\n                                       name  \\\n0                     20-hydroxycholesterol   \n1                     20-hydroxycholesterol   \n2   2-decaprenyl-6-methoxy-1,4-benzoquinone   \n3    2-deoxy-D-ribofuranose 5-phosphate(2-)   \n4                         2-hydroxybutyrate   \n5                2-hydroxy-4-methylvalerate   \n6                  (2-hydroxyphenyl)acetate   \n7                       methacrylyl-CoA(4-)   \n8             cis-2-oxohept-3-enedioic acid   \n9             3-amino-2-oxopropyl phosphate   \n10                               3'-AMP(2-)   \n11                3-hydroxybutyrylcarnitine   \n12             (S)-3-hydroxylauroyl-CoA(4-)   \n13           (S)-3-hydroxypalmitoyl-CoA(4-)   \n14           (S)-3-hydroxypalmitoyl-CoA(4-)   \n15          (S)-3-hydroxyisobutyryl-CoA(4-)   \n16                 (S)-3-hydroxyisobutyrate   \n17              3-hydroxyisovaleryl-CoA(4-)   \n18                     3-oxolauroyl-CoA(4-)   \n19                3-oxooctadecanoyl-CoA(4-)   \n\n                                           definition  \\\n0   An oxysterol that is cholesterol substituted b...   \n1   An oxysterol that is cholesterol substituted b...   \n2                                                 NaN   \n3   An organophosphate oxoanion obtained by deprot...   \n4   A hydroxy fatty acid anion that is the conjuga...   \n5   A 2-hydroxy fatty acid anion that is the conju...   \n6   The monocarboxylic acid anion formed from (2-h...   \n7   Tetraanion of methacrylyl-CoA arising from dep...   \n8        The cis-isomer of 2-oxohept-3-enedioic acid.   \n9   A oxoalkyl phosphate having 3-amino-2-oxopropy...   \n10  The organophosphate oxoanion which results fro...   \n11  An O-acylcarnitine having 3-hydroxybutyryl as ...   \n12  Tetraanion of (S)-3-hydroxylauroyl-CoA arising...   \n13  An acyl-CoA oxoanion arising from deprotonatio...   \n14  An acyl-CoA oxoanion arising from deprotonatio...   \n15  An acyl-CoA(-) oxoanion arising from deprotona...   \n16  The hydroxy fatty acid anion that is formed by...   \n17  An acyl-CoA oxoanion resulting from the remova...   \n18  An acyl-CoA(4-) oxoanion arising from deproton...   \n19  A 3-oxo-fatty acyl-CoA(4-) arising from deprot...   \n\n                                         inchi_string  \\\n0   InChI=1S/C27H46O2/c1-18(2)7-6-14-27(5,29)24-11...   \n1   InChI=1S/C27H46O2/c1-18(2)7-6-14-27(5,29)24-11...   \n2   InChI=1S/C57H86O3/c1-44(2)22-13-23-45(3)24-14-...   \n3   InChI=1S/C5H11O7P/c6-3-1-5(7)12-4(3)2-11-13(8,...   \n4   InChI=1S/C4H8O3/c1-2-3(5)4(6)7/h3,5H,2H2,1H3,(...   \n5   InChI=1S/C6H12O3/c1-4(2)3-5(7)6(8)9/h4-5,7H,3H...   \n6   InChI=1S/C8H8O3/c9-7-4-2-1-3-6(7)5-8(10)11/h1-...   \n7   InChI=1S/C25H40N7O17P3S/c1-13(2)24(37)53-8-7-2...   \n8   InChI=1S/C7H8O5/c8-5(7(11)12)3-1-2-4-6(9)10/h1...   \n9   InChI=1S/C3H8NO5P/c4-1-3(5)2-9-10(6,7)8/h1-2,4...   \n10  InChI=1S/C10H14N5O7P/c11-8-5-9(13-2-12-8)15(3-...   \n11  InChI=1S/C11H21NO5/c1-8(13)5-11(16)17-9(6-10(1...   \n12  InChI=1S/C33H58N7O18P3S/c1-4-5-6-7-8-9-10-11-2...   \n13  InChI=1S/C37H66N7O18P3S/c1-4-5-6-7-8-9-10-11-1...   \n14  InChI=1S/C37H66N7O18P3S/c1-4-5-6-7-8-9-10-11-1...   \n15  InChI=1S/C25H42N7O18P3S/c1-13(8-33)24(38)54-7-...   \n16  InChI=1S/C4H8O3/c1-3(2-5)4(6)7/h3,5H,2H2,1H3,(...   \n17  InChI=1S/C26H44N7O18P3S/c1-25(2,20(37)23(38)29...   \n18  InChI=1S/C33H56N7O18P3S/c1-4-5-6-7-8-9-10-11-2...   \n19  InChI=1S/C39H68N7O18P3S/c1-4-5-6-7-8-9-10-11-1...   \n\n                                              synonym  \\\n0                          20alpha-Hydroxycholesterol   \n1                          20alpha-Hydroxycholesterol   \n2   2-[(2E,6E,10E,14E,18E,22E,26E,30E,34E)-3,7,11,...   \n3   [(2R,3S)-3,5-dihydroxyoxolan-2-yl]methyl phosp...   \n4                              alpha-hydroxybutanoate   \n5                            alpha-hydroxyisocaproate   \n6                    2-hydroxybenzeneacetic acid (1-)   \n7                        2-methylprop-2-enoyl-CoA(4-)   \n8                               2-Oxohept-3-enedioate   \n9                       3-Amino-2-oxopropyl phosphate   \n10                      adenine-3'-monophosphate (2-)   \n11                       beta-hydroxybutyrylcarnitine   \n12                   (S)-3-Hydroxydodecanoyl-CoA (4-)   \n13                 (SS)-3-hydroxyhexadecanoyl-CoA(4-)   \n14                 (SS)-3-hydroxyhexadecanoyl-CoA(4-)   \n15                   (S)-3-hydroxyisobutanoyl-CoA(4-)   \n16                   (S)-3-hydroxy-2-methylpropanoate   \n17                3-hydroxy-3-methylbutanoyl-CoA (4-)   \n18                            3-oxododecanoyl-CoA(4-)   \n19                             3-ketostearoyl-CoA(4-)   \n\n                         type          accession_number  \n0     KEGG COMPOUND accession                    C05500  \n1     KEGG COMPOUND accession                    C05500  \n2   Beilstein Registry Number                   2688027  \n3           MetaCyc accession           DEOXY-RIBOSE-5P  \n4      Reaxys Registry Number                   3661492  \n5      Reaxys Registry Number                   5729843  \n6      Reaxys Registry Number                   3665522  \n7           MetaCyc accession           METHACRYLYL-COA  \n8     KEGG COMPOUND accession                    C03063  \n9     KEGG COMPOUND accession                    C11638  \n10          MetaCyc accession                  CPD-3706  \n11            PubMed citation                  23315938  \n12          MetaCyc accession                 CPD0-2107  \n13          MetaCyc accession                 CPD0-2232  \n14          MetaCyc accession                 CPD0-2232  \n15          MetaCyc accession                 CPD-12173  \n16    KEGG COMPOUND accession                    C06001  \n17          MetaCyc accession  3-HYDROXY-ISOVALERYL-COA  \n18          MetaCyc accession                 CPD0-2105  \n19          MetaCyc accession                 CPD-10260  \n\n[20 rows x 21 columns]",
      "text/html": "<div>\n<style scoped>\n    .dataframe tbody tr th:only-of-type {\n        vertical-align: middle;\n    }\n\n    .dataframe tbody tr th {\n        vertical-align: top;\n    }\n\n    .dataframe thead th {\n        text-align: right;\n    }\n</style>\n<table border=\"1\" class=\"dataframe\">\n  <thead>\n    <tr style=\"text-align: right;\">\n      <th></th>\n      <th>abbreviation_metabolite</th>\n      <th>casregistry_metabolite</th>\n      <th>cheblid_metabolite</th>\n      <th>description_metabolite</th>\n      <th>fullname_metabolite</th>\n      <th>hmdb_metabolite</th>\n      <th>inchikey_metabolite</th>\n      <th>inchistring_metabolite</th>\n      <th>keggid_metabolite</th>\n      <th>biocyc_metabolite</th>\n      <th>...</th>\n      <th>reconmap3_metabolite</th>\n      <th>smile_metabolite</th>\n      <th>synonyms_metabolite</th>\n      <th>chebi_id</th>\n      <th>name</th>\n      <th>definition</th>\n      <th>inchi_string</th>\n      <th>synonym</th>\n      <th>type</th>\n      <th>accession_number</th>\n    </tr>\n  </thead>\n  <tbody>\n    <tr>\n      <th>0</th>\n      <td>20ahchsterol</td>\n      <td>516-72-3</td>\n      <td>1296.0</td>\n      <td>Human Metabolome Database (HMDB): 20 alpha-hyd...</td>\n      <td>20alpha-Hydroxycholesterol</td>\n      <td>HMDB0006283</td>\n      <td>MCKLJFJEQRYRQT-APGJSSKUSA-N</td>\n      <td>InChI=1S/C27H46O2/c1-18(2)7-6-14-27(5,29)24-11...</td>\n      <td>C05500</td>\n      <td>20A-HYDROXY-CHOLESTEROL</td>\n      <td>...</td>\n      <td>20ahchsterol</td>\n      <td>[H]O[C@]1([H])C([H])([H])C2=C([H])C([H])([H])[...</td>\n      <td>(3beta,20R)-Cholest-5-ene-3,20-diol***20-Hydro...</td>\n      <td>1296</td>\n      <td>20-hydroxycholesterol</td>\n      <td>An oxysterol that is cholesterol substituted b...</td>\n      <td>InChI=1S/C27H46O2/c1-18(2)7-6-14-27(5,29)24-11...</td>\n      <td>20alpha-Hydroxycholesterol</td>\n      <td>KEGG COMPOUND accession</td>\n      <td>C05500</td>\n    </tr>\n    <tr>\n      <th>1</th>\n      <td>xol7a</td>\n      <td>NaN</td>\n      <td>17500.0</td>\n      <td>Human Metabolome Database (HMDB): 7alpha-hydro...</td>\n      <td>7a-Hydroxycholesterol</td>\n      <td>HMDB0001496</td>\n      <td>MCKLJFJEQRYRQT-APGJSSKUSA-N</td>\n      <td>InChI=1S/C27H46O2/c1-18(2)7-6-14-27(5,29)24-11...</td>\n      <td>C03594</td>\n      <td>CPD-266</td>\n      <td>...</td>\n      <td>xol7a</td>\n      <td>[H]O[C@]1([H])C([H])([H])C2=C([H])C([H])([H])[...</td>\n      <td>7 alpha-Hydroxycholesterol***7-a-Hydroxycholes...</td>\n      <td>1296</td>\n      <td>20-hydroxycholesterol</td>\n      <td>An oxysterol that is cholesterol substituted b...</td>\n      <td>InChI=1S/C27H46O2/c1-18(2)7-6-14-27(5,29)24-11...</td>\n      <td>20alpha-Hydroxycholesterol</td>\n      <td>KEGG COMPOUND accession</td>\n      <td>C05500</td>\n    </tr>\n    <tr>\n      <th>2</th>\n      <td>2dp6mobq</td>\n      <td>NaN</td>\n      <td>50773.0</td>\n      <td>Human Metabolome Database (HMDB): This compoun...</td>\n      <td>2-Decaprenyl-6-methoxy-1,4-benzoquinone</td>\n      <td>HMDB0060248</td>\n      <td>POYJNCVGTDCCPK-RDSVHMIISA-N</td>\n      <td>InChI=1S/C57H86O3/c1-44(2)22-13-23-45(3)24-14-...</td>\n      <td>NaN</td>\n      <td>CPD-11659</td>\n      <td>...</td>\n      <td>2dp6mobq</td>\n      <td>[H]C(=C(C([H])([H])[H])C([H])([H])[H])C([H])([...</td>\n      <td>2-[(2E,6E,10E,14E,18E,22E,26E,30E,34E)-3,7,11,...</td>\n      <td>50773</td>\n      <td>2-decaprenyl-6-methoxy-1,4-benzoquinone</td>\n      <td>NaN</td>\n      <td>InChI=1S/C57H86O3/c1-44(2)22-13-23-45(3)24-14-...</td>\n      <td>2-[(2E,6E,10E,14E,18E,22E,26E,30E,34E)-3,7,11,...</td>\n      <td>Beilstein Registry Number</td>\n      <td>2688027</td>\n    </tr>\n    <tr>\n      <th>3</th>\n      <td>2dr5p</td>\n      <td>102916-66-5</td>\n      <td>16132.0</td>\n      <td>Human Metabolome Database (HMDB): Deoxyribose ...</td>\n      <td>Deoxyribose 5-phosphate</td>\n      <td>HMDB0001031</td>\n      <td>KKZFLSZAWCYPOC-PYHARJCCSA-L</td>\n      <td>InChI=1S/C5H11O7P/c6-3-1-5(7)12-4(3)2-11-13(8,...</td>\n      <td>C00673</td>\n      <td>DEOXY-RIBOSE-5P</td>\n      <td>...</td>\n      <td>2dr5p</td>\n      <td>[H]OC1([H])O[C@]([H])(C([H])([H])OP([O-])([O-]...</td>\n      <td>2-Deoxy-alpha-D-ribose 5-phosphate***2-Deoxy-a...</td>\n      <td>62877</td>\n      <td>2-deoxy-D-ribofuranose 5-phosphate(2-)</td>\n      <td>An organophosphate oxoanion obtained by deprot...</td>\n      <td>InChI=1S/C5H11O7P/c6-3-1-5(7)12-4(3)2-11-13(8,...</td>\n      <td>[(2R,3S)-3,5-dihydroxyoxolan-2-yl]methyl phosp...</td>\n      <td>MetaCyc accession</td>\n      <td>DEOXY-RIBOSE-5P</td>\n    </tr>\n    <tr>\n      <th>4</th>\n      <td>2hb</td>\n      <td>600-15-7</td>\n      <td>1148.0</td>\n      <td>Human Metabolome Database (HMDB): 2-Hydroxybut...</td>\n      <td>2-Hydroxybutyric acid</td>\n      <td>HMDB0000008</td>\n      <td>AFENDNXGAFYKQO-UHFFFAOYSA-M</td>\n      <td>InChI=1S/C4H8O3/c1-2-3(5)4(6)7/h3,5H,2H2,1H3,(...</td>\n      <td>C05984</td>\n      <td>CPD-3564</td>\n      <td>...</td>\n      <td>2hb</td>\n      <td>[H]OC([H])(C([O-])=O)C([H])([H])C([H])([H])[H]</td>\n      <td>2-Hydroxybutanoic acid***alpha-Hydroxybutanoic...</td>\n      <td>64552</td>\n      <td>2-hydroxybutyrate</td>\n      <td>A hydroxy fatty acid anion that is the conjuga...</td>\n      <td>InChI=1S/C4H8O3/c1-2-3(5)4(6)7/h3,5H,2H2,1H3,(...</td>\n      <td>alpha-hydroxybutanoate</td>\n      <td>Reaxys Registry Number</td>\n      <td>3661492</td>\n    </tr>\n    <tr>\n      <th>5</th>\n      <td>2hxic_L</td>\n      <td>NaN</td>\n      <td>NaN</td>\n      <td>NaN</td>\n      <td>2-Hydroxy-Isocaproate</td>\n      <td>NaN</td>\n      <td>LVRFTAZAXQPQHI-UHFFFAOYSA-M</td>\n      <td>InChI=1S/C6H12O3/c1-4(2)3-5(7)6(8)9/h4-5,7H,3H...</td>\n      <td>NaN</td>\n      <td>NaN</td>\n      <td>...</td>\n      <td>NaN</td>\n      <td>[H]OC([H])(C([O-])=O)C([H])([H])C([H])(C([H])(...</td>\n      <td>NaN</td>\n      <td>133577</td>\n      <td>2-hydroxy-4-methylvalerate</td>\n      <td>A 2-hydroxy fatty acid anion that is the conju...</td>\n      <td>InChI=1S/C6H12O3/c1-4(2)3-5(7)6(8)9/h4-5,7H,3H...</td>\n      <td>alpha-hydroxyisocaproate</td>\n      <td>Reaxys Registry Number</td>\n      <td>5729843</td>\n    </tr>\n    <tr>\n      <th>6</th>\n      <td>2hyoxplac</td>\n      <td>614-75-5</td>\n      <td>28478.0</td>\n      <td>Human Metabolome Database (HMDB): Ortho-hydrox...</td>\n      <td>Ortho-Hydroxyphenylacetic acid</td>\n      <td>HMDB0000669</td>\n      <td>CCVYRRGZDBSHFU-UHFFFAOYSA-M</td>\n      <td>InChI=1S/C8H8O3/c9-7-4-2-1-3-6(7)5-8(10)11/h1-...</td>\n      <td>C05852</td>\n      <td>NaN</td>\n      <td>...</td>\n      <td>2hyoxplac</td>\n      <td>[H]OC1=C([H])C([H])=C([H])C([H])=C1C([H])([H])...</td>\n      <td>(O-Hydroxyphenyl)acetic acid***2'-Hydroxypheny...</td>\n      <td>62423</td>\n      <td>(2-hydroxyphenyl)acetate</td>\n      <td>The monocarboxylic acid anion formed from (2-h...</td>\n      <td>InChI=1S/C8H8O3/c9-7-4-2-1-3-6(7)5-8(10)11/h1-...</td>\n      <td>2-hydroxybenzeneacetic acid (1-)</td>\n      <td>Reaxys Registry Number</td>\n      <td>3665522</td>\n    </tr>\n    <tr>\n      <th>7</th>\n      <td>2mp2coa</td>\n      <td>6008-91-9</td>\n      <td>27754.0</td>\n      <td>Human Metabolome Database (HMDB): Methacrylyl-...</td>\n      <td>Methacrylyl-CoA</td>\n      <td>HMDB0001011</td>\n      <td>NPALUEYCDZWBOV-NDZSKPAWSA-J</td>\n      <td>InChI=1S/C25H40N7O17P3S/c1-13(2)24(37)53-8-7-2...</td>\n      <td>C03460</td>\n      <td>METHACRYLYL-COA</td>\n      <td>...</td>\n      <td>2mp2coa</td>\n      <td>[H]O[C@@]([H])(C(=O)N([H])C([H])([H])C([H])([H...</td>\n      <td>2-Methylprop-2-enoyl-CoA***2-Methylprop-2-enoy...</td>\n      <td>62500</td>\n      <td>methacrylyl-CoA(4-)</td>\n      <td>Tetraanion of methacrylyl-CoA arising from dep...</td>\n      <td>InChI=1S/C25H40N7O17P3S/c1-13(2)24(37)53-8-7-2...</td>\n      <td>2-methylprop-2-enoyl-CoA(4-)</td>\n      <td>MetaCyc accession</td>\n      <td>METHACRYLYL-COA</td>\n    </tr>\n    <tr>\n      <th>8</th>\n      <td>2ohed</td>\n      <td>NaN</td>\n      <td>1254.0</td>\n      <td>NaN</td>\n      <td>2-Oxohept-3-ene-1,7-dioate</td>\n      <td>NaN</td>\n      <td>NaN</td>\n      <td>InChI=1S/C7H8O5/c8-5(7(11)12)3-1-2-4-6(9)10/h1...</td>\n      <td>C03063</td>\n      <td>NaN</td>\n      <td>...</td>\n      <td>NaN</td>\n      <td>NaN</td>\n      <td>NaN</td>\n      <td>1254</td>\n      <td>cis-2-oxohept-3-enedioic acid</td>\n      <td>The cis-isomer of 2-oxohept-3-enedioic acid.</td>\n      <td>InChI=1S/C7H8O5/c8-5(7(11)12)3-1-2-4-6(9)10/h1...</td>\n      <td>2-Oxohept-3-enedioate</td>\n      <td>KEGG COMPOUND accession</td>\n      <td>C03063</td>\n    </tr>\n    <tr>\n      <th>9</th>\n      <td>3a2opp</td>\n      <td>NaN</td>\n      <td>1449.0</td>\n      <td>NaN</td>\n      <td>3-Amino-2-oxopropyl phosphate</td>\n      <td>NaN</td>\n      <td>NaN</td>\n      <td>InChI=1S/C3H8NO5P/c4-1-3(5)2-9-10(6,7)8/h1-2,4...</td>\n      <td>NaN</td>\n      <td>NaN</td>\n      <td>...</td>\n      <td>NaN</td>\n      <td>NaN</td>\n      <td>NaN</td>\n      <td>1449</td>\n      <td>3-amino-2-oxopropyl phosphate</td>\n      <td>A oxoalkyl phosphate having 3-amino-2-oxopropy...</td>\n      <td>InChI=1S/C3H8NO5P/c4-1-3(5)2-9-10(6,7)8/h1-2,4...</td>\n      <td>3-Amino-2-oxopropyl phosphate</td>\n      <td>KEGG COMPOUND accession</td>\n      <td>C11638</td>\n    </tr>\n    <tr>\n      <th>10</th>\n      <td>3amp</td>\n      <td>NaN</td>\n      <td>NaN</td>\n      <td>NaN</td>\n      <td>3-Adenosine Monophosphate</td>\n      <td>NaN</td>\n      <td>LNQVTSROQXJCDD-KQYNXXCUSA-L</td>\n      <td>InChI=1S/C10H14N5O7P/c11-8-5-9(13-2-12-8)15(3-...</td>\n      <td>NaN</td>\n      <td>NaN</td>\n      <td>...</td>\n      <td>NaN</td>\n      <td>[H]OC([H])([H])[C@@]1([H])O[C@@]([H])(N2C([H])...</td>\n      <td>NaN</td>\n      <td>60880</td>\n      <td>3'-AMP(2-)</td>\n      <td>The organophosphate oxoanion which results fro...</td>\n      <td>InChI=1S/C10H14N5O7P/c11-8-5-9(13-2-12-8)15(3-...</td>\n      <td>adenine-3'-monophosphate (2-)</td>\n      <td>MetaCyc accession</td>\n      <td>CPD-3706</td>\n    </tr>\n    <tr>\n      <th>11</th>\n      <td>3bcrn</td>\n      <td>NaN</td>\n      <td>84842.0</td>\n      <td>NaN</td>\n      <td>3-Hydroxy Butyryl Carnitine</td>\n      <td>HMDB0062735</td>\n      <td>UEFRDQSMQXDWTO-UHFFFAOYSA-N</td>\n      <td>InChI=1S/C11H21NO5/c1-8(13)5-11(16)17-9(6-10(1...</td>\n      <td>NaN</td>\n      <td>NaN</td>\n      <td>...</td>\n      <td>3bcrn</td>\n      <td>[H]OC([H])(C([H])([H])[H])C([H])([H])C(=O)OC([...</td>\n      <td>3-Hydroxybutyryl-L-carnitine***3-Hydroxybutyry...</td>\n      <td>72995</td>\n      <td>3-hydroxybutyrylcarnitine</td>\n      <td>An O-acylcarnitine having 3-hydroxybutyryl as ...</td>\n      <td>InChI=1S/C11H21NO5/c1-8(13)5-11(16)17-9(6-10(1...</td>\n      <td>beta-hydroxybutyrylcarnitine</td>\n      <td>PubMed citation</td>\n      <td>23315938</td>\n    </tr>\n    <tr>\n      <th>12</th>\n      <td>3hddcoa</td>\n      <td>72059-49-5</td>\n      <td>27668.0</td>\n      <td>Human Metabolome Database (HMDB): (S)-3-Hydrox...</td>\n      <td>(S)-3-Hydroxydodecanoyl-CoA</td>\n      <td>HMDB0003936</td>\n      <td>IJFLXRCJWPKGKJ-LXIXEQKWSA-J</td>\n      <td>InChI=1S/C33H58N7O18P3S/c1-4-5-6-7-8-9-10-11-2...</td>\n      <td>C05262</td>\n      <td>NaN</td>\n      <td>...</td>\n      <td>3hddcoa</td>\n      <td>[H]O[C@@]([H])(C(=O)N([H])C([H])([H])C([H])([H...</td>\n      <td>(S)-3-Hydroxydodecanoyl-coenzyme A***(S)-3-Hyd...</td>\n      <td>62558</td>\n      <td>(S)-3-hydroxylauroyl-CoA(4-)</td>\n      <td>Tetraanion of (S)-3-hydroxylauroyl-CoA arising...</td>\n      <td>InChI=1S/C33H58N7O18P3S/c1-4-5-6-7-8-9-10-11-2...</td>\n      <td>(S)-3-Hydroxydodecanoyl-CoA (4-)</td>\n      <td>MetaCyc accession</td>\n      <td>CPD0-2107</td>\n    </tr>\n    <tr>\n      <th>13</th>\n      <td>3hexdcoa</td>\n      <td>NaN</td>\n      <td>NaN</td>\n      <td>NaN</td>\n      <td>3-Hydroxyhexadecanoyl Coenzyme A</td>\n      <td>NaN</td>\n      <td>DEHLMTDDPWDRDR-BCIKBWLNSA-J</td>\n      <td>InChI=1S/C37H66N7O18P3S/c1-4-5-6-7-8-9-10-11-1...</td>\n      <td>NaN</td>\n      <td>NaN</td>\n      <td>...</td>\n      <td>3hexdcoa</td>\n      <td>[H]O[C@@]([H])(C(=O)N([H])C([H])([H])C([H])([H...</td>\n      <td>NaN</td>\n      <td>62613</td>\n      <td>(S)-3-hydroxypalmitoyl-CoA(4-)</td>\n      <td>An acyl-CoA oxoanion arising from deprotonatio...</td>\n      <td>InChI=1S/C37H66N7O18P3S/c1-4-5-6-7-8-9-10-11-1...</td>\n      <td>(SS)-3-hydroxyhexadecanoyl-CoA(4-)</td>\n      <td>MetaCyc accession</td>\n      <td>CPD0-2232</td>\n    </tr>\n    <tr>\n      <th>14</th>\n      <td>HC01397</td>\n      <td>35106-50-4</td>\n      <td>27402.0</td>\n      <td>Human Metabolome Database (HMDB): (S)-3-Hydrox...</td>\n      <td>(S)-3-Hydroxyhexadecanoyl-CoA</td>\n      <td>HMDB0003932</td>\n      <td>DEHLMTDDPWDRDR-BCIKBWLNSA-J</td>\n      <td>InChI=1S/C37H66N7O18P3S/c1-4-5-6-7-8-9-10-11-1...</td>\n      <td>C05258</td>\n      <td>NaN</td>\n      <td>...</td>\n      <td>HC01397</td>\n      <td>[H]O[C@@]([H])(C(=O)N([H])C([H])([H])C([H])([H...</td>\n      <td>(S)-3-Hydroxyhexadecanoyl-coenzyme A***(S)-3-H...</td>\n      <td>62613</td>\n      <td>(S)-3-hydroxypalmitoyl-CoA(4-)</td>\n      <td>An acyl-CoA oxoanion arising from deprotonatio...</td>\n      <td>InChI=1S/C37H66N7O18P3S/c1-4-5-6-7-8-9-10-11-1...</td>\n      <td>(SS)-3-hydroxyhexadecanoyl-CoA(4-)</td>\n      <td>MetaCyc accession</td>\n      <td>CPD0-2232</td>\n    </tr>\n    <tr>\n      <th>15</th>\n      <td>3hibutcoa</td>\n      <td>NaN</td>\n      <td>15481.0</td>\n      <td>NaN</td>\n      <td>(S)-3-Hydroxyisobutyryl Coenzyme A</td>\n      <td>NaN</td>\n      <td>WWEOGFZEFHPUAM-UQCJFRAESA-J</td>\n      <td>InChI=1S/C25H42N7O18P3S/c1-13(8-33)24(38)54-7-...</td>\n      <td>C04047</td>\n      <td>NaN</td>\n      <td>...</td>\n      <td>3hibutcoa</td>\n      <td>[H]OC([H])([H])[C@@]([H])(C(=O)SC([H])([H])C([...</td>\n      <td>NaN</td>\n      <td>62611</td>\n      <td>(S)-3-hydroxyisobutyryl-CoA(4-)</td>\n      <td>An acyl-CoA(-) oxoanion arising from deprotona...</td>\n      <td>InChI=1S/C25H42N7O18P3S/c1-13(8-33)24(38)54-7-...</td>\n      <td>(S)-3-hydroxyisobutanoyl-CoA(4-)</td>\n      <td>MetaCyc accession</td>\n      <td>CPD-12173</td>\n    </tr>\n    <tr>\n      <th>16</th>\n      <td>3hmp</td>\n      <td>2068-83-9</td>\n      <td>37373.0</td>\n      <td>Human Metabolome Database (HMDB): (S)-3-Hydrox...</td>\n      <td>(S)-3-Hydroxyisobutyric acid</td>\n      <td>HMDB0000023</td>\n      <td>DBXBTMSZEOQQDU-VKHMYHEASA-M</td>\n      <td>InChI=1S/C4H8O3/c1-3(2-5)4(6)7/h3,5H,2H2,1H3,(...</td>\n      <td>C06001</td>\n      <td>3-HYDROXY-ISOBUTYRATE</td>\n      <td>...</td>\n      <td>3hmp</td>\n      <td>[H]OC([H])([H])[C@@]([H])(C([O-])=O)C([H])([H]...</td>\n      <td>(S)-3-Hydroxy-2-methylpropanoic acid***(S)-3-H...</td>\n      <td>62638</td>\n      <td>(S)-3-hydroxyisobutyrate</td>\n      <td>The hydroxy fatty acid anion that is formed by...</td>\n      <td>InChI=1S/C4H8O3/c1-3(2-5)4(6)7/h3,5H,2H2,1H3,(...</td>\n      <td>(S)-3-hydroxy-2-methylpropanoate</td>\n      <td>KEGG COMPOUND accession</td>\n      <td>C06001</td>\n    </tr>\n    <tr>\n      <th>17</th>\n      <td>3ivcoa</td>\n      <td>NaN</td>\n      <td>NaN</td>\n      <td>NaN</td>\n      <td>3-Hydroxyisovaleryl Coenzyme A</td>\n      <td>NaN</td>\n      <td>PEVZKILCBDEOBT-CITAKDKDSA-J</td>\n      <td>InChI=1S/C26H44N7O18P3S/c1-25(2,20(37)23(38)29...</td>\n      <td>NaN</td>\n      <td>NaN</td>\n      <td>...</td>\n      <td>3ivcoa</td>\n      <td>[H]O[C@@]([H])(C(=O)N([H])C([H])([H])C([H])([H...</td>\n      <td>NaN</td>\n      <td>62555</td>\n      <td>3-hydroxyisovaleryl-CoA(4-)</td>\n      <td>An acyl-CoA oxoanion resulting from the remova...</td>\n      <td>InChI=1S/C26H44N7O18P3S/c1-25(2,20(37)23(38)29...</td>\n      <td>3-hydroxy-3-methylbutanoyl-CoA (4-)</td>\n      <td>MetaCyc accession</td>\n      <td>3-HYDROXY-ISOVALERYL-COA</td>\n    </tr>\n    <tr>\n      <th>18</th>\n      <td>3oddcoa</td>\n      <td>78303-19-2</td>\n      <td>27868.0</td>\n      <td>Human Metabolome Database (HMDB): 3-Oxododecan...</td>\n      <td>3-Oxododecanoyl-CoA</td>\n      <td>HMDB0003937</td>\n      <td>HQANBZHVWIDNQZ-GMHMEAMDSA-J</td>\n      <td>InChI=1S/C33H56N7O18P3S/c1-4-5-6-7-8-9-10-11-2...</td>\n      <td>C05263</td>\n      <td>NaN</td>\n      <td>...</td>\n      <td>3oddcoa</td>\n      <td>[H]O[C@@]([H])(C(=O)N([H])C([H])([H])C([H])([H...</td>\n      <td>3-Oxododecanoyl-coenzyme A***3-Oxolauroyl-CoA</td>\n      <td>62615</td>\n      <td>3-oxolauroyl-CoA(4-)</td>\n      <td>An acyl-CoA(4-) oxoanion arising from deproton...</td>\n      <td>InChI=1S/C33H56N7O18P3S/c1-4-5-6-7-8-9-10-11-2...</td>\n      <td>3-oxododecanoyl-CoA(4-)</td>\n      <td>MetaCyc accession</td>\n      <td>CPD0-2105</td>\n    </tr>\n    <tr>\n      <th>19</th>\n      <td>3ohodcoa</td>\n      <td>86370-20-9</td>\n      <td>NaN</td>\n      <td>Human Metabolome Database (HMDB): 3-Oxooctadec...</td>\n      <td>3-Oxooctadecanoyl-CoA</td>\n      <td>HMDB0006498</td>\n      <td>LGOGWHDPDVAUNY-LFZQUHGESA-J</td>\n      <td>InChI=1S/C39H68N7O18P3S/c1-4-5-6-7-8-9-10-11-1...</td>\n      <td>C16216</td>\n      <td>NaN</td>\n      <td>...</td>\n      <td>3ohodcoa</td>\n      <td>[H]O[C@@]([H])(C(=O)N([H])C([H])([H])C([H])([H...</td>\n      <td>3-Ketostearoyl-CoA***3-Ketostearoyl-coenzyme A...</td>\n      <td>71407</td>\n      <td>3-oxooctadecanoyl-CoA(4-)</td>\n      <td>A 3-oxo-fatty acyl-CoA(4-) arising from deprot...</td>\n      <td>InChI=1S/C39H68N7O18P3S/c1-4-5-6-7-8-9-10-11-1...</td>\n      <td>3-ketostearoyl-CoA(4-)</td>\n      <td>MetaCyc accession</td>\n      <td>CPD-10260</td>\n    </tr>\n  </tbody>\n</table>\n<p>20 rows × 21 columns</p>\n</div>"
     },
     "execution_count": 18,
     "metadata": {},
     "output_type": "execute_result"
    }
   ],
   "source": [
    "metabo_chebi_inch.head(20)"
   ],
   "metadata": {
    "collapsed": false
   }
  },
  {
   "cell_type": "code",
   "execution_count": 19,
   "outputs": [],
   "source": [
    "metabo_chebi = metabo.merge(chebi,left_on='cheblid_metabolite',right_on='chebi_id',how='inner')"
   ],
   "metadata": {
    "collapsed": false
   }
  },
  {
   "cell_type": "code",
   "execution_count": 20,
   "outputs": [
    {
     "name": "stdout",
     "output_type": "stream",
     "text": [
      "<class 'pandas.core.frame.DataFrame'>\n",
      "Int64Index: 149 entries, 0 to 148\n",
      "Data columns (total 21 columns):\n",
      " #   Column                   Non-Null Count  Dtype  \n",
      "---  ------                   --------------  -----  \n",
      " 0   abbreviation_metabolite  149 non-null    object \n",
      " 1   casregistry_metabolite   102 non-null    object \n",
      " 2   cheblid_metabolite       149 non-null    float64\n",
      " 3   description_metabolite   130 non-null    object \n",
      " 4   fullname_metabolite      149 non-null    object \n",
      " 5   hmdb_metabolite          131 non-null    object \n",
      " 6   inchikey_metabolite      139 non-null    object \n",
      " 7   inchistring_metabolite   139 non-null    object \n",
      " 8   keggid_metabolite        124 non-null    object \n",
      " 9   biocyc_metabolite        52 non-null     object \n",
      " 10  food_db_metabolite       97 non-null     object \n",
      " 11  reconmap3_metabolite     92 non-null     object \n",
      " 12  smile_metabolite         135 non-null    object \n",
      " 13  synonyms_metabolite      125 non-null    object \n",
      " 14  chebi_id                 149 non-null    int64  \n",
      " 15  name                     149 non-null    object \n",
      " 16  definition               133 non-null    object \n",
      " 17  inchi_string             149 non-null    object \n",
      " 18  synonym                  149 non-null    object \n",
      " 19  type                     149 non-null    object \n",
      " 20  accession_number         149 non-null    object \n",
      "dtypes: float64(1), int64(1), object(19)\n",
      "memory usage: 25.6+ KB\n"
     ]
    }
   ],
   "source": [
    "metabo_chebi.info()"
   ],
   "metadata": {
    "collapsed": false
   }
  },
  {
   "cell_type": "markdown",
   "source": [
    "Merging based on cas, kegg, hmdb."
   ],
   "metadata": {
    "collapsed": false
   }
  },
  {
   "cell_type": "code",
   "execution_count": 21,
   "outputs": [
    {
     "data": {
      "text/plain": "   chebi_id          name                                         definition  \\\n0      4798    entacapone  A monocarboxylic acid amide that is N,N-diethy...   \n1      2341       AACOCF3  A fatty acid derivative that is arachidonic ac...   \n2      3223     buspirone  An azaspiro compound that is 8-azaspiro[4.5]de...   \n3      8028  perphenazine  A phenothiazine derivative in which the phenot...   \n4      4819   lysergamide  An ergoline alkaloid comprising ergoline lacki...   \n\n                                        inchi_string       synonym  \\\n0  InChI=1S/C14H15N3O5/c1-3-16(4-2)14(20)10(8-15)...    Entacapone   \n1  InChI=1S/C21H31F3O/c1-2-3-4-5-6-7-8-9-10-11-12...       AACOCF3   \n2  InChI=1S/C21H31N5O2/c27-18-16-21(6-1-2-7-21)17...     Buspirone   \n3  InChI=1S/C21H26ClN3OS/c22-17-6-7-21-19(16-17)2...  Perphenazine   \n4  InChI=1S/C16H17N3O/c1-19-8-10(16(17)20)5-12-11...        Ergine   \n\n                      type accession_number  \n0  KEGG COMPOUND accession           C07943  \n1  KEGG COMPOUND accession           C01397  \n2      CAS Registry Number       36505-84-7  \n3      CAS Registry Number          58-39-9  \n4  KEGG COMPOUND accession           C09160  ",
      "text/html": "<div>\n<style scoped>\n    .dataframe tbody tr th:only-of-type {\n        vertical-align: middle;\n    }\n\n    .dataframe tbody tr th {\n        vertical-align: top;\n    }\n\n    .dataframe thead th {\n        text-align: right;\n    }\n</style>\n<table border=\"1\" class=\"dataframe\">\n  <thead>\n    <tr style=\"text-align: right;\">\n      <th></th>\n      <th>chebi_id</th>\n      <th>name</th>\n      <th>definition</th>\n      <th>inchi_string</th>\n      <th>synonym</th>\n      <th>type</th>\n      <th>accession_number</th>\n    </tr>\n  </thead>\n  <tbody>\n    <tr>\n      <th>0</th>\n      <td>4798</td>\n      <td>entacapone</td>\n      <td>A monocarboxylic acid amide that is N,N-diethy...</td>\n      <td>InChI=1S/C14H15N3O5/c1-3-16(4-2)14(20)10(8-15)...</td>\n      <td>Entacapone</td>\n      <td>KEGG COMPOUND accession</td>\n      <td>C07943</td>\n    </tr>\n    <tr>\n      <th>1</th>\n      <td>2341</td>\n      <td>AACOCF3</td>\n      <td>A fatty acid derivative that is arachidonic ac...</td>\n      <td>InChI=1S/C21H31F3O/c1-2-3-4-5-6-7-8-9-10-11-12...</td>\n      <td>AACOCF3</td>\n      <td>KEGG COMPOUND accession</td>\n      <td>C01397</td>\n    </tr>\n    <tr>\n      <th>2</th>\n      <td>3223</td>\n      <td>buspirone</td>\n      <td>An azaspiro compound that is 8-azaspiro[4.5]de...</td>\n      <td>InChI=1S/C21H31N5O2/c27-18-16-21(6-1-2-7-21)17...</td>\n      <td>Buspirone</td>\n      <td>CAS Registry Number</td>\n      <td>36505-84-7</td>\n    </tr>\n    <tr>\n      <th>3</th>\n      <td>8028</td>\n      <td>perphenazine</td>\n      <td>A phenothiazine derivative in which the phenot...</td>\n      <td>InChI=1S/C21H26ClN3OS/c22-17-6-7-21-19(16-17)2...</td>\n      <td>Perphenazine</td>\n      <td>CAS Registry Number</td>\n      <td>58-39-9</td>\n    </tr>\n    <tr>\n      <th>4</th>\n      <td>4819</td>\n      <td>lysergamide</td>\n      <td>An ergoline alkaloid comprising ergoline lacki...</td>\n      <td>InChI=1S/C16H17N3O/c1-19-8-10(16(17)20)5-12-11...</td>\n      <td>Ergine</td>\n      <td>KEGG COMPOUND accession</td>\n      <td>C09160</td>\n    </tr>\n  </tbody>\n</table>\n</div>"
     },
     "execution_count": 21,
     "metadata": {},
     "output_type": "execute_result"
    }
   ],
   "source": [
    "chebi.head()"
   ],
   "metadata": {
    "collapsed": false
   }
  },
  {
   "cell_type": "code",
   "execution_count": 22,
   "outputs": [
    {
     "data": {
      "text/plain": "array(['KEGG COMPOUND accession', 'CAS Registry Number',\n       'FooDB accession', 'PubMed citation', 'Beilstein Registry Number',\n       'Reaxys Registry Number', 'MolBase accession',\n       'PDBeChem accession', 'Gmelin Registry Number', 'UM-BBD compID',\n       'WebElements accession', 'KNApSAcK accession',\n       'KEGG DRUG accession', 'Patent accession',\n       'LIPID MAPS instance accession', 'DrugBank accession',\n       'MetaCyc accession', 'RESID accession', 'KEGG GLYCAN accession',\n       'GlyTouCan accession', 'Wikipedia accession',\n       'Chemspider accession', 'PDB accession', 'HMDB accession',\n       'Agricola citation', 'SMID accession', 'Pesticides accession',\n       'Drug Central accession', 'LINCS accession', 'Pubchem accession',\n       'ChemIDplus accession', 'Chinese Abstracts citation'], dtype=object)"
     },
     "execution_count": 22,
     "metadata": {},
     "output_type": "execute_result"
    }
   ],
   "source": [
    "chebi['type'].unique()"
   ],
   "metadata": {
    "collapsed": false
   }
  },
  {
   "cell_type": "markdown",
   "source": [
    "Filtering the data set into 3 new datasets for the next merging step"
   ],
   "metadata": {
    "collapsed": false
   }
  },
  {
   "cell_type": "code",
   "execution_count": 23,
   "outputs": [],
   "source": [
    "cas = chebi['type']==\"CAS Registry Number\"\n",
    "kegg = chebi['type']==\"KEGG COMPOUND accession\"\n",
    "hmdb = chebi['type']==\"HMDB accession\""
   ],
   "metadata": {
    "collapsed": false
   }
  },
  {
   "cell_type": "code",
   "execution_count": 24,
   "outputs": [],
   "source": [
    "chebi_cas = chebi[cas]\n",
    "chebi_kegg = chebi[kegg]\n",
    "chebi_hmdb = chebi[hmdb]"
   ],
   "metadata": {
    "collapsed": false
   }
  },
  {
   "cell_type": "code",
   "execution_count": 25,
   "outputs": [
    {
     "name": "stdout",
     "output_type": "stream",
     "text": [
      "<class 'pandas.core.frame.DataFrame'>\n",
      "Int64Index: 1074 entries, 2 to 8097\n",
      "Data columns (total 7 columns):\n",
      " #   Column            Non-Null Count  Dtype \n",
      "---  ------            --------------  ----- \n",
      " 0   chebi_id          1074 non-null   int64 \n",
      " 1   name              1074 non-null   object\n",
      " 2   definition        953 non-null    object\n",
      " 3   inchi_string      1074 non-null   object\n",
      " 4   synonym           1074 non-null   object\n",
      " 5   type              1074 non-null   object\n",
      " 6   accession_number  1074 non-null   object\n",
      "dtypes: int64(1), object(6)\n",
      "memory usage: 67.1+ KB\n"
     ]
    }
   ],
   "source": [
    "chebi_cas.info()"
   ],
   "metadata": {
    "collapsed": false
   }
  },
  {
   "cell_type": "code",
   "execution_count": 26,
   "outputs": [
    {
     "data": {
      "text/plain": "    chebi_id          name                                         definition  \\\n2       3223     buspirone  An azaspiro compound that is 8-azaspiro[4.5]de...   \n3       8028  perphenazine  A phenothiazine derivative in which the phenot...   \n5       5672  heptan-2-one  A dialkyl ketone with methyl and pentyl as the...   \n9       4331     dauricine  A bisbenzylisoquinoline alkaloid resulting fro...   \n11      9943   venlafaxine  A tertiary amino compound that is N,N-dimethyl...   \n\n                                         inchi_string       synonym  \\\n2   InChI=1S/C21H31N5O2/c27-18-16-21(6-1-2-7-21)17...     Buspirone   \n3   InChI=1S/C21H26ClN3OS/c22-17-6-7-21-19(16-17)2...  Perphenazine   \n5       InChI=1S/C7H14O/c1-3-4-5-6-7(2)8/h3-6H2,1-2H3  Heptan-2-one   \n9   InChI=1S/C38H44N2O6/c1-39-15-13-26-20-35(42-3)...     Dauricine   \n11  InChI=1S/C17H27NO2/c1-18(2)13-16(17(19)11-5-4-...   Venlafaxine   \n\n                   type accession_number  \n2   CAS Registry Number       36505-84-7  \n3   CAS Registry Number          58-39-9  \n5   CAS Registry Number         110-43-0  \n9   CAS Registry Number         524-17-4  \n11  CAS Registry Number       93413-69-5  ",
      "text/html": "<div>\n<style scoped>\n    .dataframe tbody tr th:only-of-type {\n        vertical-align: middle;\n    }\n\n    .dataframe tbody tr th {\n        vertical-align: top;\n    }\n\n    .dataframe thead th {\n        text-align: right;\n    }\n</style>\n<table border=\"1\" class=\"dataframe\">\n  <thead>\n    <tr style=\"text-align: right;\">\n      <th></th>\n      <th>chebi_id</th>\n      <th>name</th>\n      <th>definition</th>\n      <th>inchi_string</th>\n      <th>synonym</th>\n      <th>type</th>\n      <th>accession_number</th>\n    </tr>\n  </thead>\n  <tbody>\n    <tr>\n      <th>2</th>\n      <td>3223</td>\n      <td>buspirone</td>\n      <td>An azaspiro compound that is 8-azaspiro[4.5]de...</td>\n      <td>InChI=1S/C21H31N5O2/c27-18-16-21(6-1-2-7-21)17...</td>\n      <td>Buspirone</td>\n      <td>CAS Registry Number</td>\n      <td>36505-84-7</td>\n    </tr>\n    <tr>\n      <th>3</th>\n      <td>8028</td>\n      <td>perphenazine</td>\n      <td>A phenothiazine derivative in which the phenot...</td>\n      <td>InChI=1S/C21H26ClN3OS/c22-17-6-7-21-19(16-17)2...</td>\n      <td>Perphenazine</td>\n      <td>CAS Registry Number</td>\n      <td>58-39-9</td>\n    </tr>\n    <tr>\n      <th>5</th>\n      <td>5672</td>\n      <td>heptan-2-one</td>\n      <td>A dialkyl ketone with methyl and pentyl as the...</td>\n      <td>InChI=1S/C7H14O/c1-3-4-5-6-7(2)8/h3-6H2,1-2H3</td>\n      <td>Heptan-2-one</td>\n      <td>CAS Registry Number</td>\n      <td>110-43-0</td>\n    </tr>\n    <tr>\n      <th>9</th>\n      <td>4331</td>\n      <td>dauricine</td>\n      <td>A bisbenzylisoquinoline alkaloid resulting fro...</td>\n      <td>InChI=1S/C38H44N2O6/c1-39-15-13-26-20-35(42-3)...</td>\n      <td>Dauricine</td>\n      <td>CAS Registry Number</td>\n      <td>524-17-4</td>\n    </tr>\n    <tr>\n      <th>11</th>\n      <td>9943</td>\n      <td>venlafaxine</td>\n      <td>A tertiary amino compound that is N,N-dimethyl...</td>\n      <td>InChI=1S/C17H27NO2/c1-18(2)13-16(17(19)11-5-4-...</td>\n      <td>Venlafaxine</td>\n      <td>CAS Registry Number</td>\n      <td>93413-69-5</td>\n    </tr>\n  </tbody>\n</table>\n</div>"
     },
     "execution_count": 26,
     "metadata": {},
     "output_type": "execute_result"
    }
   ],
   "source": [
    "chebi_cas.head()"
   ],
   "metadata": {
    "collapsed": false
   }
  },
  {
   "cell_type": "code",
   "execution_count": 26,
   "outputs": [],
   "source": [],
   "metadata": {
    "collapsed": false
   }
  },
  {
   "cell_type": "markdown",
   "source": [
    "Merging CAS with Metabo"
   ],
   "metadata": {
    "collapsed": false
   }
  },
  {
   "cell_type": "code",
   "execution_count": 27,
   "outputs": [
    {
     "data": {
      "text/plain": "  abbreviation_metabolite casregistry_metabolite  cheblid_metabolite  \\\n0                  10fthf              2800-34-2             15637.0   \n1              10fthf5glu                    NaN                 NaN   \n2              10fthf6glu                    NaN                 NaN   \n3              10fthf7glu                    NaN                 NaN   \n4            10m3hddcaACP                    NaN                 NaN   \n\n                              description_metabolite  \\\n0  Human Metabolome Database (HMDB): 10-Formyltet...   \n1                                                NaN   \n2                                                NaN   \n3                                                NaN   \n4                                                NaN   \n\n                  fullname_metabolite hmdb_metabolite  \\\n0           10-Formyltetrahydrofolate     HMDB0000972   \n1  10-Formyltetrahydrofolate-[Glu](5)             NaN   \n2  10-Formyltetrahydrofolate-[Glu](6)             NaN   \n3  10-Formyltetrahydrofolate-[Glu](7)             NaN   \n4  10-methyl-3-hydroxy-dodecanoyl-ACP             NaN   \n\n           inchikey_metabolite  \\\n0  AUFGTPPARQZWDO-YUZLPWPTSA-L   \n1  RGSLBOWMZCMTRA-UHFFFAOYSA-H   \n2  SFFBEUFYOPMKMV-CWMPVMSNSA-G   \n3  VTHHVZBTNSHUDD-UHFFFAOYSA-F   \n4                          NaN   \n\n                              inchistring_metabolite keggid_metabolite  \\\n0  InChI=1S/C20H23N7O7/c21-20-25-16-15(18(32)26-2...            C00234   \n1  InChI=1S/C40H51N11O19/c41-40-49-32-31(37(66)50...               NaN   \n2  InChI=1S/C45H58N12O22/c46-45-55-36-35(38(67)56...               NaN   \n3  InChI=1S/C50H65N13O25/c51-50-61-40-39(47(84)62...               NaN   \n4                                                NaN               NaN   \n\n  biocyc_metabolite food_db_metabolite reconmap3_metabolite  \\\n0     10-FORMYL-THF          FDB022345               10fthf   \n1               NaN                NaN           10fthf5glu   \n2               NaN                NaN           10fthf6glu   \n3               NaN                NaN           10fthf7glu   \n4               NaN                NaN                  NaN   \n\n                                    smile_metabolite  \\\n0  [H]OC1=NC(=NC2=C1N([H])C([H])(C([H])([H])N(C([...   \n1  [H]OC1=NC(=N[H])N([H])C2=C1N([H])C([H])(C([H])...   \n2  [H]OC(=O)C([H])(N=C([O-])C([H])([H])C([H])([H]...   \n3  [H]OC1=NC(=N[H])N([H])C2=C1N([H])C([H])(C([H])...   \n4                                                NaN   \n\n                                 synonyms_metabolite  \n0  10-Formyl-THF***10-Formyltetrahydrofolic acid*...  \n1                                                NaN  \n2                                                NaN  \n3                                                NaN  \n4                                                NaN  ",
      "text/html": "<div>\n<style scoped>\n    .dataframe tbody tr th:only-of-type {\n        vertical-align: middle;\n    }\n\n    .dataframe tbody tr th {\n        vertical-align: top;\n    }\n\n    .dataframe thead th {\n        text-align: right;\n    }\n</style>\n<table border=\"1\" class=\"dataframe\">\n  <thead>\n    <tr style=\"text-align: right;\">\n      <th></th>\n      <th>abbreviation_metabolite</th>\n      <th>casregistry_metabolite</th>\n      <th>cheblid_metabolite</th>\n      <th>description_metabolite</th>\n      <th>fullname_metabolite</th>\n      <th>hmdb_metabolite</th>\n      <th>inchikey_metabolite</th>\n      <th>inchistring_metabolite</th>\n      <th>keggid_metabolite</th>\n      <th>biocyc_metabolite</th>\n      <th>food_db_metabolite</th>\n      <th>reconmap3_metabolite</th>\n      <th>smile_metabolite</th>\n      <th>synonyms_metabolite</th>\n    </tr>\n  </thead>\n  <tbody>\n    <tr>\n      <th>0</th>\n      <td>10fthf</td>\n      <td>2800-34-2</td>\n      <td>15637.0</td>\n      <td>Human Metabolome Database (HMDB): 10-Formyltet...</td>\n      <td>10-Formyltetrahydrofolate</td>\n      <td>HMDB0000972</td>\n      <td>AUFGTPPARQZWDO-YUZLPWPTSA-L</td>\n      <td>InChI=1S/C20H23N7O7/c21-20-25-16-15(18(32)26-2...</td>\n      <td>C00234</td>\n      <td>10-FORMYL-THF</td>\n      <td>FDB022345</td>\n      <td>10fthf</td>\n      <td>[H]OC1=NC(=NC2=C1N([H])C([H])(C([H])([H])N(C([...</td>\n      <td>10-Formyl-THF***10-Formyltetrahydrofolic acid*...</td>\n    </tr>\n    <tr>\n      <th>1</th>\n      <td>10fthf5glu</td>\n      <td>NaN</td>\n      <td>NaN</td>\n      <td>NaN</td>\n      <td>10-Formyltetrahydrofolate-[Glu](5)</td>\n      <td>NaN</td>\n      <td>RGSLBOWMZCMTRA-UHFFFAOYSA-H</td>\n      <td>InChI=1S/C40H51N11O19/c41-40-49-32-31(37(66)50...</td>\n      <td>NaN</td>\n      <td>NaN</td>\n      <td>NaN</td>\n      <td>10fthf5glu</td>\n      <td>[H]OC1=NC(=N[H])N([H])C2=C1N([H])C([H])(C([H])...</td>\n      <td>NaN</td>\n    </tr>\n    <tr>\n      <th>2</th>\n      <td>10fthf6glu</td>\n      <td>NaN</td>\n      <td>NaN</td>\n      <td>NaN</td>\n      <td>10-Formyltetrahydrofolate-[Glu](6)</td>\n      <td>NaN</td>\n      <td>SFFBEUFYOPMKMV-CWMPVMSNSA-G</td>\n      <td>InChI=1S/C45H58N12O22/c46-45-55-36-35(38(67)56...</td>\n      <td>NaN</td>\n      <td>NaN</td>\n      <td>NaN</td>\n      <td>10fthf6glu</td>\n      <td>[H]OC(=O)C([H])(N=C([O-])C([H])([H])C([H])([H]...</td>\n      <td>NaN</td>\n    </tr>\n    <tr>\n      <th>3</th>\n      <td>10fthf7glu</td>\n      <td>NaN</td>\n      <td>NaN</td>\n      <td>NaN</td>\n      <td>10-Formyltetrahydrofolate-[Glu](7)</td>\n      <td>NaN</td>\n      <td>VTHHVZBTNSHUDD-UHFFFAOYSA-F</td>\n      <td>InChI=1S/C50H65N13O25/c51-50-61-40-39(47(84)62...</td>\n      <td>NaN</td>\n      <td>NaN</td>\n      <td>NaN</td>\n      <td>10fthf7glu</td>\n      <td>[H]OC1=NC(=N[H])N([H])C2=C1N([H])C([H])(C([H])...</td>\n      <td>NaN</td>\n    </tr>\n    <tr>\n      <th>4</th>\n      <td>10m3hddcaACP</td>\n      <td>NaN</td>\n      <td>NaN</td>\n      <td>NaN</td>\n      <td>10-methyl-3-hydroxy-dodecanoyl-ACP</td>\n      <td>NaN</td>\n      <td>NaN</td>\n      <td>NaN</td>\n      <td>NaN</td>\n      <td>NaN</td>\n      <td>NaN</td>\n      <td>NaN</td>\n      <td>NaN</td>\n      <td>NaN</td>\n    </tr>\n  </tbody>\n</table>\n</div>"
     },
     "execution_count": 27,
     "metadata": {},
     "output_type": "execute_result"
    }
   ],
   "source": [
    "metabo.head()"
   ],
   "metadata": {
    "collapsed": false
   }
  },
  {
   "cell_type": "code",
   "execution_count": 28,
   "outputs": [],
   "source": [
    "metabo_chebi_cas = metabo.merge(chebi_cas,left_on='casregistry_metabolite',right_on='accession_number',how='inner')"
   ],
   "metadata": {
    "collapsed": false
   }
  },
  {
   "cell_type": "code",
   "execution_count": 29,
   "outputs": [
    {
     "name": "stdout",
     "output_type": "stream",
     "text": [
      "<class 'pandas.core.frame.DataFrame'>\n",
      "Int64Index: 23 entries, 0 to 22\n",
      "Data columns (total 21 columns):\n",
      " #   Column                   Non-Null Count  Dtype  \n",
      "---  ------                   --------------  -----  \n",
      " 0   abbreviation_metabolite  23 non-null     object \n",
      " 1   casregistry_metabolite   23 non-null     object \n",
      " 2   cheblid_metabolite       22 non-null     float64\n",
      " 3   description_metabolite   22 non-null     object \n",
      " 4   fullname_metabolite      23 non-null     object \n",
      " 5   hmdb_metabolite          22 non-null     object \n",
      " 6   inchikey_metabolite      23 non-null     object \n",
      " 7   inchistring_metabolite   23 non-null     object \n",
      " 8   keggid_metabolite        22 non-null     object \n",
      " 9   biocyc_metabolite        13 non-null     object \n",
      " 10  food_db_metabolite       19 non-null     object \n",
      " 11  reconmap3_metabolite     13 non-null     object \n",
      " 12  smile_metabolite         22 non-null     object \n",
      " 13  synonyms_metabolite      21 non-null     object \n",
      " 14  chebi_id                 23 non-null     int64  \n",
      " 15  name                     23 non-null     object \n",
      " 16  definition               22 non-null     object \n",
      " 17  inchi_string             23 non-null     object \n",
      " 18  synonym                  23 non-null     object \n",
      " 19  type                     23 non-null     object \n",
      " 20  accession_number         23 non-null     object \n",
      "dtypes: float64(1), int64(1), object(19)\n",
      "memory usage: 4.0+ KB\n"
     ]
    }
   ],
   "source": [
    "metabo_chebi_cas.info()"
   ],
   "metadata": {
    "collapsed": false
   }
  },
  {
   "cell_type": "markdown",
   "source": [
    "Merging kegg with Metabo"
   ],
   "metadata": {
    "collapsed": false
   }
  },
  {
   "cell_type": "code",
   "execution_count": 30,
   "outputs": [],
   "source": [
    "metabo_chebi_kegg = metabo.merge(chebi_kegg,left_on='keggid_metabolite',right_on='accession_number',how='inner')"
   ],
   "metadata": {
    "collapsed": false
   }
  },
  {
   "cell_type": "code",
   "execution_count": 31,
   "outputs": [
    {
     "name": "stdout",
     "output_type": "stream",
     "text": [
      "<class 'pandas.core.frame.DataFrame'>\n",
      "Int64Index: 116 entries, 0 to 115\n",
      "Data columns (total 21 columns):\n",
      " #   Column                   Non-Null Count  Dtype  \n",
      "---  ------                   --------------  -----  \n",
      " 0   abbreviation_metabolite  116 non-null    object \n",
      " 1   casregistry_metabolite   66 non-null     object \n",
      " 2   cheblid_metabolite       80 non-null     float64\n",
      " 3   description_metabolite   92 non-null     object \n",
      " 4   fullname_metabolite      116 non-null    object \n",
      " 5   hmdb_metabolite          92 non-null     object \n",
      " 6   inchikey_metabolite      100 non-null    object \n",
      " 7   inchistring_metabolite   101 non-null    object \n",
      " 8   keggid_metabolite        116 non-null    object \n",
      " 9   biocyc_metabolite        33 non-null     object \n",
      " 10  food_db_metabolite       74 non-null     object \n",
      " 11  reconmap3_metabolite     69 non-null     object \n",
      " 12  smile_metabolite         98 non-null     object \n",
      " 13  synonyms_metabolite      83 non-null     object \n",
      " 14  chebi_id                 116 non-null    int64  \n",
      " 15  name                     116 non-null    object \n",
      " 16  definition               98 non-null     object \n",
      " 17  inchi_string             116 non-null    object \n",
      " 18  synonym                  116 non-null    object \n",
      " 19  type                     116 non-null    object \n",
      " 20  accession_number         116 non-null    object \n",
      "dtypes: float64(1), int64(1), object(19)\n",
      "memory usage: 19.9+ KB\n"
     ]
    }
   ],
   "source": [
    "metabo_chebi_kegg.info()"
   ],
   "metadata": {
    "collapsed": false
   }
  },
  {
   "cell_type": "code",
   "execution_count": 32,
   "outputs": [
    {
     "data": {
      "text/plain": "  abbreviation_metabolite casregistry_metabolite  cheblid_metabolite  \\\n0                  1p3h5c             22573-88-2             27391.0   \n1                  1pyr5c             64199-88-8               371.0   \n2            20ahchsterol               516-72-3              1296.0   \n3                 24dhhed                    NaN             58936.0   \n4                     2hb               600-15-7              1148.0   \n\n                              description_metabolite  \\\n0  Human Metabolome Database (HMDB): Pyrroline hy...   \n1                                                NaN   \n2  Human Metabolome Database (HMDB): 20 alpha-hyd...   \n3                                                NaN   \n4  Human Metabolome Database (HMDB): 2-Hydroxybut...   \n\n                fullname_metabolite hmdb_metabolite  \\\n0  Pyrroline hydroxycarboxylic acid     HMDB0001369   \n1         1-Pyrroline-5-Carboxylate             NaN   \n2        20alpha-Hydroxycholesterol     HMDB0006283   \n3     2,4-Dihydroxyhept-2-enedioate             NaN   \n4             2-Hydroxybutyric acid     HMDB0000008   \n\n           inchikey_metabolite  \\\n0  WFOFKRKDDKGRIK-IUYQGCFVSA-M   \n1  DWAKNKKXGALPNW-UHFFFAOYSA-M   \n2  MCKLJFJEQRYRQT-APGJSSKUSA-N   \n3                          NaN   \n4  AFENDNXGAFYKQO-UHFFFAOYSA-M   \n\n                              inchistring_metabolite keggid_metabolite  \\\n0  InChI=1S/C5H7NO3/c7-3-1-4(5(8)9)6-2-3/h2-4,7H,...            C04281   \n1  InChI=1S/C5H7NO2/c7-5(8)4-2-1-3-6-4/h3-4H,1-2H...            C03912   \n2  InChI=1S/C27H46O2/c1-18(2)7-6-14-27(5,29)24-11...            C05500   \n3  InChI=1S/C7H10O6/c8-4(1-2-6(10)11)3-5(9)7(12)1...            C06201   \n4  InChI=1S/C4H8O3/c1-2-3(5)4(6)7/h3,5H,2H2,1H3,(...            C05984   \n\n               biocyc_metabolite  ... reconmap3_metabolite  \\\n0  PYRROLINE-HYDROXY-CARBOXYLATE  ...               1p3h5c   \n1                            NaN  ...               1pyr5c   \n2        20A-HYDROXY-CHOLESTEROL  ...         20ahchsterol   \n3                            NaN  ...                  NaN   \n4                       CPD-3564  ...                  2hb   \n\n                                    smile_metabolite  \\\n0  [H]O[C@@]1([H])C([H])=N[C@]([H])(C([O-])=O)C1(...   \n1      [H]C1=NC([H])(C([O-])=O)C([H])([H])C1([H])[H]   \n2  [H]O[C@]1([H])C([H])([H])C2=C([H])C([H])([H])[...   \n3                                                NaN   \n4     [H]OC([H])(C([O-])=O)C([H])([H])C([H])([H])[H]   \n\n                                 synonyms_metabolite chebi_id  \\\n0  3-Hydroxy-L-1-pyrroline-5-carboxylate***L-1-Py...     6151   \n1                                                NaN      371   \n2  (3beta,20R)-Cholest-5-ene-3,20-diol***20-Hydro...     1296   \n3                                                NaN      915   \n4  2-Hydroxybutanoic acid***alpha-Hydroxybutanoic...     1148   \n\n                                              name  \\\n0  (3R,5S)-1-pyrroline-3-hydroxy-5-carboxylic acid   \n1                (S)-1-pyrroline-5-carboxylic acid   \n2                            20-hydroxycholesterol   \n3                2,4-dihydroxyhept-2-enedioic acid   \n4                            2-hydroxybutyric acid   \n\n                                          definition  \\\n0                                                NaN   \n1  A 1-pyrroline-5-carboxylic acid in which the c...   \n2  An oxysterol that is cholesterol substituted b...   \n3  A heptenedioic acid having the C=C double bond...   \n4  A hydroxybutyric acid having a single hydroxyl...   \n\n                                        inchi_string  \\\n0  InChI=1S/C5H7NO3/c7-3-1-4(5(8)9)6-2-3/h2-4,7H,...   \n1  InChI=1S/C5H7NO2/c7-5(8)4-2-1-3-6-4/h3-4H,1-2H...   \n2  InChI=1S/C27H46O2/c1-18(2)7-6-14-27(5,29)24-11...   \n3  InChI=1S/C7H10O6/c8-4(1-2-6(10)11)3-5(9)7(12)1...   \n4  InChI=1S/C4H8O3/c1-2-3(5)4(6)7/h3,5H,2H2,1H3,(...   \n\n                                 synonym                     type  \\\n0  L-1-Pyrroline-3-hydroxy-5-carboxylate  KEGG COMPOUND accession   \n1          (S)-1-Pyrroline-5-carboxylate  KEGG COMPOUND accession   \n2             20alpha-Hydroxycholesterol  KEGG COMPOUND accession   \n3          2,4-Dihydroxyhept-2-enedioate  KEGG COMPOUND accession   \n4                  2-Hydroxybutyric acid  KEGG COMPOUND accession   \n\n  accession_number  \n0           C04281  \n1           C03912  \n2           C05500  \n3           C06201  \n4           C05984  \n\n[5 rows x 21 columns]",
      "text/html": "<div>\n<style scoped>\n    .dataframe tbody tr th:only-of-type {\n        vertical-align: middle;\n    }\n\n    .dataframe tbody tr th {\n        vertical-align: top;\n    }\n\n    .dataframe thead th {\n        text-align: right;\n    }\n</style>\n<table border=\"1\" class=\"dataframe\">\n  <thead>\n    <tr style=\"text-align: right;\">\n      <th></th>\n      <th>abbreviation_metabolite</th>\n      <th>casregistry_metabolite</th>\n      <th>cheblid_metabolite</th>\n      <th>description_metabolite</th>\n      <th>fullname_metabolite</th>\n      <th>hmdb_metabolite</th>\n      <th>inchikey_metabolite</th>\n      <th>inchistring_metabolite</th>\n      <th>keggid_metabolite</th>\n      <th>biocyc_metabolite</th>\n      <th>...</th>\n      <th>reconmap3_metabolite</th>\n      <th>smile_metabolite</th>\n      <th>synonyms_metabolite</th>\n      <th>chebi_id</th>\n      <th>name</th>\n      <th>definition</th>\n      <th>inchi_string</th>\n      <th>synonym</th>\n      <th>type</th>\n      <th>accession_number</th>\n    </tr>\n  </thead>\n  <tbody>\n    <tr>\n      <th>0</th>\n      <td>1p3h5c</td>\n      <td>22573-88-2</td>\n      <td>27391.0</td>\n      <td>Human Metabolome Database (HMDB): Pyrroline hy...</td>\n      <td>Pyrroline hydroxycarboxylic acid</td>\n      <td>HMDB0001369</td>\n      <td>WFOFKRKDDKGRIK-IUYQGCFVSA-M</td>\n      <td>InChI=1S/C5H7NO3/c7-3-1-4(5(8)9)6-2-3/h2-4,7H,...</td>\n      <td>C04281</td>\n      <td>PYRROLINE-HYDROXY-CARBOXYLATE</td>\n      <td>...</td>\n      <td>1p3h5c</td>\n      <td>[H]O[C@@]1([H])C([H])=N[C@]([H])(C([O-])=O)C1(...</td>\n      <td>3-Hydroxy-L-1-pyrroline-5-carboxylate***L-1-Py...</td>\n      <td>6151</td>\n      <td>(3R,5S)-1-pyrroline-3-hydroxy-5-carboxylic acid</td>\n      <td>NaN</td>\n      <td>InChI=1S/C5H7NO3/c7-3-1-4(5(8)9)6-2-3/h2-4,7H,...</td>\n      <td>L-1-Pyrroline-3-hydroxy-5-carboxylate</td>\n      <td>KEGG COMPOUND accession</td>\n      <td>C04281</td>\n    </tr>\n    <tr>\n      <th>1</th>\n      <td>1pyr5c</td>\n      <td>64199-88-8</td>\n      <td>371.0</td>\n      <td>NaN</td>\n      <td>1-Pyrroline-5-Carboxylate</td>\n      <td>NaN</td>\n      <td>DWAKNKKXGALPNW-UHFFFAOYSA-M</td>\n      <td>InChI=1S/C5H7NO2/c7-5(8)4-2-1-3-6-4/h3-4H,1-2H...</td>\n      <td>C03912</td>\n      <td>NaN</td>\n      <td>...</td>\n      <td>1pyr5c</td>\n      <td>[H]C1=NC([H])(C([O-])=O)C([H])([H])C1([H])[H]</td>\n      <td>NaN</td>\n      <td>371</td>\n      <td>(S)-1-pyrroline-5-carboxylic acid</td>\n      <td>A 1-pyrroline-5-carboxylic acid in which the c...</td>\n      <td>InChI=1S/C5H7NO2/c7-5(8)4-2-1-3-6-4/h3-4H,1-2H...</td>\n      <td>(S)-1-Pyrroline-5-carboxylate</td>\n      <td>KEGG COMPOUND accession</td>\n      <td>C03912</td>\n    </tr>\n    <tr>\n      <th>2</th>\n      <td>20ahchsterol</td>\n      <td>516-72-3</td>\n      <td>1296.0</td>\n      <td>Human Metabolome Database (HMDB): 20 alpha-hyd...</td>\n      <td>20alpha-Hydroxycholesterol</td>\n      <td>HMDB0006283</td>\n      <td>MCKLJFJEQRYRQT-APGJSSKUSA-N</td>\n      <td>InChI=1S/C27H46O2/c1-18(2)7-6-14-27(5,29)24-11...</td>\n      <td>C05500</td>\n      <td>20A-HYDROXY-CHOLESTEROL</td>\n      <td>...</td>\n      <td>20ahchsterol</td>\n      <td>[H]O[C@]1([H])C([H])([H])C2=C([H])C([H])([H])[...</td>\n      <td>(3beta,20R)-Cholest-5-ene-3,20-diol***20-Hydro...</td>\n      <td>1296</td>\n      <td>20-hydroxycholesterol</td>\n      <td>An oxysterol that is cholesterol substituted b...</td>\n      <td>InChI=1S/C27H46O2/c1-18(2)7-6-14-27(5,29)24-11...</td>\n      <td>20alpha-Hydroxycholesterol</td>\n      <td>KEGG COMPOUND accession</td>\n      <td>C05500</td>\n    </tr>\n    <tr>\n      <th>3</th>\n      <td>24dhhed</td>\n      <td>NaN</td>\n      <td>58936.0</td>\n      <td>NaN</td>\n      <td>2,4-Dihydroxyhept-2-enedioate</td>\n      <td>NaN</td>\n      <td>NaN</td>\n      <td>InChI=1S/C7H10O6/c8-4(1-2-6(10)11)3-5(9)7(12)1...</td>\n      <td>C06201</td>\n      <td>NaN</td>\n      <td>...</td>\n      <td>NaN</td>\n      <td>NaN</td>\n      <td>NaN</td>\n      <td>915</td>\n      <td>2,4-dihydroxyhept-2-enedioic acid</td>\n      <td>A heptenedioic acid having the C=C double bond...</td>\n      <td>InChI=1S/C7H10O6/c8-4(1-2-6(10)11)3-5(9)7(12)1...</td>\n      <td>2,4-Dihydroxyhept-2-enedioate</td>\n      <td>KEGG COMPOUND accession</td>\n      <td>C06201</td>\n    </tr>\n    <tr>\n      <th>4</th>\n      <td>2hb</td>\n      <td>600-15-7</td>\n      <td>1148.0</td>\n      <td>Human Metabolome Database (HMDB): 2-Hydroxybut...</td>\n      <td>2-Hydroxybutyric acid</td>\n      <td>HMDB0000008</td>\n      <td>AFENDNXGAFYKQO-UHFFFAOYSA-M</td>\n      <td>InChI=1S/C4H8O3/c1-2-3(5)4(6)7/h3,5H,2H2,1H3,(...</td>\n      <td>C05984</td>\n      <td>CPD-3564</td>\n      <td>...</td>\n      <td>2hb</td>\n      <td>[H]OC([H])(C([O-])=O)C([H])([H])C([H])([H])[H]</td>\n      <td>2-Hydroxybutanoic acid***alpha-Hydroxybutanoic...</td>\n      <td>1148</td>\n      <td>2-hydroxybutyric acid</td>\n      <td>A hydroxybutyric acid having a single hydroxyl...</td>\n      <td>InChI=1S/C4H8O3/c1-2-3(5)4(6)7/h3,5H,2H2,1H3,(...</td>\n      <td>2-Hydroxybutyric acid</td>\n      <td>KEGG COMPOUND accession</td>\n      <td>C05984</td>\n    </tr>\n  </tbody>\n</table>\n<p>5 rows × 21 columns</p>\n</div>"
     },
     "execution_count": 32,
     "metadata": {},
     "output_type": "execute_result"
    }
   ],
   "source": [
    "metabo_chebi_kegg.head()"
   ],
   "metadata": {
    "collapsed": false
   }
  },
  {
   "cell_type": "markdown",
   "source": [
    "Merging hmdb with metabo"
   ],
   "metadata": {
    "collapsed": false
   }
  },
  {
   "cell_type": "code",
   "execution_count": 33,
   "outputs": [],
   "source": [
    "metabo_chebi_hmdb = metabo.merge(chebi_hmdb,left_on='hmdb_metabolite',right_on='accession_number',how='inner')"
   ],
   "metadata": {
    "collapsed": false
   }
  },
  {
   "cell_type": "code",
   "execution_count": 34,
   "outputs": [
    {
     "name": "stdout",
     "output_type": "stream",
     "text": [
      "<class 'pandas.core.frame.DataFrame'>\n",
      "Int64Index: 11 entries, 0 to 10\n",
      "Data columns (total 21 columns):\n",
      " #   Column                   Non-Null Count  Dtype  \n",
      "---  ------                   --------------  -----  \n",
      " 0   abbreviation_metabolite  11 non-null     object \n",
      " 1   casregistry_metabolite   7 non-null      object \n",
      " 2   cheblid_metabolite       6 non-null      float64\n",
      " 3   description_metabolite   11 non-null     object \n",
      " 4   fullname_metabolite      11 non-null     object \n",
      " 5   hmdb_metabolite          11 non-null     object \n",
      " 6   inchikey_metabolite      10 non-null     object \n",
      " 7   inchistring_metabolite   9 non-null      object \n",
      " 8   keggid_metabolite        4 non-null      object \n",
      " 9   biocyc_metabolite        1 non-null      object \n",
      " 10  food_db_metabolite       10 non-null     object \n",
      " 11  reconmap3_metabolite     7 non-null      object \n",
      " 12  smile_metabolite         10 non-null     object \n",
      " 13  synonyms_metabolite      10 non-null     object \n",
      " 14  chebi_id                 11 non-null     int64  \n",
      " 15  name                     11 non-null     object \n",
      " 16  definition               11 non-null     object \n",
      " 17  inchi_string             11 non-null     object \n",
      " 18  synonym                  11 non-null     object \n",
      " 19  type                     11 non-null     object \n",
      " 20  accession_number         11 non-null     object \n",
      "dtypes: float64(1), int64(1), object(19)\n",
      "memory usage: 1.9+ KB\n"
     ]
    }
   ],
   "source": [
    "metabo_chebi_hmdb.info()"
   ],
   "metadata": {
    "collapsed": false
   }
  },
  {
   "cell_type": "code",
   "execution_count": 35,
   "outputs": [
    {
     "data": {
      "text/plain": "  abbreviation_metabolite casregistry_metabolite  cheblid_metabolite  \\\n0          ahandrostanglc                    NaN             37451.0   \n1                  CE4969             15926-18-8             70979.0   \n2              dcsptn1coa             30960-17-9                 NaN   \n3                dmhepcoa                    NaN                 NaN   \n4                  glyleu               869-19-2            185298.0   \n\n                              description_metabolite  \\\n0  Human Metabolome Database (HMDB): Etiocholanol...   \n1  Human Metabolome Database (HMDB): Isobutyrylgl...   \n2  Human Metabolome Database (HMDB): (4Z,7Z,10Z,1...   \n3  Human Metabolome Database (HMDB): 2,6 dimethyl...   \n4  Human Metabolome Database (HMDB): Glycyl-l-leu...   \n\n                  fullname_metabolite hmdb_metabolite  \\\n0         Etiocholanolone glucuronide     HMDB0004484   \n1                   Isobutyrylglycine     HMDB0000730   \n2  Docosa-4,7,10,13,16-pentaenoyl CoA     HMDB0006513   \n3           2,6-Dimethylheptanoyl-CoA     HMDB0006258   \n4                       Glycylleucine     HMDB0000759   \n\n           inchikey_metabolite  \\\n0  VFUIRAVTUVCQTF-SDHZCXLISA-N   \n1  DCICDMMXFIELDF-UHFFFAOYSA-M   \n2  QKBTYZDPVNTERQ-UWVCYPHHSA-J   \n3  GPXWBKWDXPBLKS-MKXQCCAMSA-J   \n4  DKEXFJVMVGETOO-LURJTMIESA-N   \n\n                              inchistring_metabolite keggid_metabolite  \\\n0  InChI=1S/C25H38O8/c1-24-9-7-13(32-23-20(29)18(...            C11136   \n1  InChI=1S/C6H11NO3/c1-4(2)6(10)7-3-5(8)9/h4H,3H...               NaN   \n2  InChI=1S/C43H68N7O17P3S/c1-4-5-6-7-8-9-10-11-1...            C16173   \n3  InChI=1S/C30H52N7O17P3S/c1-17(2)7-6-8-18(3)29(...               NaN   \n4  InChI=1S/C8H16N2O3/c1-5(2)3-6(8(12)13)10-7(11)...            C02155   \n\n     biocyc_metabolite  ... reconmap3_metabolite  \\\n0  Beta-D-Glucuronides  ...       ahandrostanglc   \n1                  NaN  ...               CE4969   \n2                  NaN  ...           dcsptn1coa   \n3                  NaN  ...                  NaN   \n4                  NaN  ...                  NaN   \n\n                                    smile_metabolite  \\\n0  [H]OC(=O)[C@@]1([H])O[C@@]([H])(O[C@]2([H])C([...   \n1  [H]N(C(=O)C([H])(C([H])([H])[H])C([H])([H])[H]...   \n2  [H]O[C@@]([H])(C(=O)N([H])C([H])([H])C([H])([H...   \n3  [H]OC([H])(C(=O)N([H])C([H])([H])C([H])([H])C(...   \n4  [H]N(C(=O)C([H])([H])[N+]([H])([H])[H])[C@]([H...   \n\n                                 synonyms_metabolite chebi_id  \\\n0  3alpha-Hydroxyetiocholan-17-one 3-glucosiduron...   133504   \n1  Isobutanoylglycine***N-Isobutanoylglycine***N-...   133610   \n2  (4Z,7Z,10Z,13Z,16Z)-docosapentaenoyl-CoA***(4Z...    76450   \n3                                       2,6-DMeH-CoA    87182   \n4  G-L***GL***Gly-L-leu***Glycylleucine***Glycyl-...    73514   \n\n                                       name  \\\n0             etiocholanolone 3-glucuronide   \n1                     N-isobutyrylglycinate   \n2  (4Z,7Z,10Z,13Z,16Z)-docosapentaenoyl-CoA   \n3            (2S)-2,6-dimethylheptanoyl-CoA   \n4                                   Gly-Leu   \n\n                                          definition  \\\n0  A steroid glucosiduronic acid having etiochola...   \n1  A monocarboxylic acid anion that is the conjug...   \n2  An unsaturated fatty acyl-CoA that results fro...   \n3  The 2S stereoisomer of 2,6-dimethylheptanoyl-CoA.   \n4  A dipeptide composed of glycine and L-leucine ...   \n\n                                        inchi_string  \\\n0  InChI=1S/C25H38O8/c1-24-9-7-13(32-23-20(29)18(...   \n1  InChI=1S/C6H11NO3/c1-4(2)6(10)7-3-5(8)9/h4H,3H...   \n2  InChI=1S/C43H68N7O17P3S/c1-4-5-6-7-8-9-10-11-1...   \n3  InChI=1S/C30H52N7O17P3S/c1-17(2)7-6-8-18(3)29(...   \n4  InChI=1S/C8H16N2O3/c1-5(2)3-6(8(12)13)10-7(11)...   \n\n                                           synonym            type  \\\n0                      etiocholanolone glucuronide  HMDB accession   \n1                             isobutanoylglycinate  HMDB accession   \n2  (4Z,7Z,10Z,13Z,16Z)-docosapentaenoyl-coenzyme A  HMDB accession   \n3            (2S)-2,6-dimethylheptanoyl-coenzyme A  HMDB accession   \n4                                        Gly-L-Leu  HMDB accession   \n\n  accession_number  \n0      HMDB0004484  \n1      HMDB0000730  \n2      HMDB0006513  \n3      HMDB0006258  \n4      HMDB0000759  \n\n[5 rows x 21 columns]",
      "text/html": "<div>\n<style scoped>\n    .dataframe tbody tr th:only-of-type {\n        vertical-align: middle;\n    }\n\n    .dataframe tbody tr th {\n        vertical-align: top;\n    }\n\n    .dataframe thead th {\n        text-align: right;\n    }\n</style>\n<table border=\"1\" class=\"dataframe\">\n  <thead>\n    <tr style=\"text-align: right;\">\n      <th></th>\n      <th>abbreviation_metabolite</th>\n      <th>casregistry_metabolite</th>\n      <th>cheblid_metabolite</th>\n      <th>description_metabolite</th>\n      <th>fullname_metabolite</th>\n      <th>hmdb_metabolite</th>\n      <th>inchikey_metabolite</th>\n      <th>inchistring_metabolite</th>\n      <th>keggid_metabolite</th>\n      <th>biocyc_metabolite</th>\n      <th>...</th>\n      <th>reconmap3_metabolite</th>\n      <th>smile_metabolite</th>\n      <th>synonyms_metabolite</th>\n      <th>chebi_id</th>\n      <th>name</th>\n      <th>definition</th>\n      <th>inchi_string</th>\n      <th>synonym</th>\n      <th>type</th>\n      <th>accession_number</th>\n    </tr>\n  </thead>\n  <tbody>\n    <tr>\n      <th>0</th>\n      <td>ahandrostanglc</td>\n      <td>NaN</td>\n      <td>37451.0</td>\n      <td>Human Metabolome Database (HMDB): Etiocholanol...</td>\n      <td>Etiocholanolone glucuronide</td>\n      <td>HMDB0004484</td>\n      <td>VFUIRAVTUVCQTF-SDHZCXLISA-N</td>\n      <td>InChI=1S/C25H38O8/c1-24-9-7-13(32-23-20(29)18(...</td>\n      <td>C11136</td>\n      <td>Beta-D-Glucuronides</td>\n      <td>...</td>\n      <td>ahandrostanglc</td>\n      <td>[H]OC(=O)[C@@]1([H])O[C@@]([H])(O[C@]2([H])C([...</td>\n      <td>3alpha-Hydroxyetiocholan-17-one 3-glucosiduron...</td>\n      <td>133504</td>\n      <td>etiocholanolone 3-glucuronide</td>\n      <td>A steroid glucosiduronic acid having etiochola...</td>\n      <td>InChI=1S/C25H38O8/c1-24-9-7-13(32-23-20(29)18(...</td>\n      <td>etiocholanolone glucuronide</td>\n      <td>HMDB accession</td>\n      <td>HMDB0004484</td>\n    </tr>\n    <tr>\n      <th>1</th>\n      <td>CE4969</td>\n      <td>15926-18-8</td>\n      <td>70979.0</td>\n      <td>Human Metabolome Database (HMDB): Isobutyrylgl...</td>\n      <td>Isobutyrylglycine</td>\n      <td>HMDB0000730</td>\n      <td>DCICDMMXFIELDF-UHFFFAOYSA-M</td>\n      <td>InChI=1S/C6H11NO3/c1-4(2)6(10)7-3-5(8)9/h4H,3H...</td>\n      <td>NaN</td>\n      <td>NaN</td>\n      <td>...</td>\n      <td>CE4969</td>\n      <td>[H]N(C(=O)C([H])(C([H])([H])[H])C([H])([H])[H]...</td>\n      <td>Isobutanoylglycine***N-Isobutanoylglycine***N-...</td>\n      <td>133610</td>\n      <td>N-isobutyrylglycinate</td>\n      <td>A monocarboxylic acid anion that is the conjug...</td>\n      <td>InChI=1S/C6H11NO3/c1-4(2)6(10)7-3-5(8)9/h4H,3H...</td>\n      <td>isobutanoylglycinate</td>\n      <td>HMDB accession</td>\n      <td>HMDB0000730</td>\n    </tr>\n    <tr>\n      <th>2</th>\n      <td>dcsptn1coa</td>\n      <td>30960-17-9</td>\n      <td>NaN</td>\n      <td>Human Metabolome Database (HMDB): (4Z,7Z,10Z,1...</td>\n      <td>Docosa-4,7,10,13,16-pentaenoyl CoA</td>\n      <td>HMDB0006513</td>\n      <td>QKBTYZDPVNTERQ-UWVCYPHHSA-J</td>\n      <td>InChI=1S/C43H68N7O17P3S/c1-4-5-6-7-8-9-10-11-1...</td>\n      <td>C16173</td>\n      <td>NaN</td>\n      <td>...</td>\n      <td>dcsptn1coa</td>\n      <td>[H]O[C@@]([H])(C(=O)N([H])C([H])([H])C([H])([H...</td>\n      <td>(4Z,7Z,10Z,13Z,16Z)-docosapentaenoyl-CoA***(4Z...</td>\n      <td>76450</td>\n      <td>(4Z,7Z,10Z,13Z,16Z)-docosapentaenoyl-CoA</td>\n      <td>An unsaturated fatty acyl-CoA that results fro...</td>\n      <td>InChI=1S/C43H68N7O17P3S/c1-4-5-6-7-8-9-10-11-1...</td>\n      <td>(4Z,7Z,10Z,13Z,16Z)-docosapentaenoyl-coenzyme A</td>\n      <td>HMDB accession</td>\n      <td>HMDB0006513</td>\n    </tr>\n    <tr>\n      <th>3</th>\n      <td>dmhepcoa</td>\n      <td>NaN</td>\n      <td>NaN</td>\n      <td>Human Metabolome Database (HMDB): 2,6 dimethyl...</td>\n      <td>2,6-Dimethylheptanoyl-CoA</td>\n      <td>HMDB0006258</td>\n      <td>GPXWBKWDXPBLKS-MKXQCCAMSA-J</td>\n      <td>InChI=1S/C30H52N7O17P3S/c1-17(2)7-6-8-18(3)29(...</td>\n      <td>NaN</td>\n      <td>NaN</td>\n      <td>...</td>\n      <td>NaN</td>\n      <td>[H]OC([H])(C(=O)N([H])C([H])([H])C([H])([H])C(...</td>\n      <td>2,6-DMeH-CoA</td>\n      <td>87182</td>\n      <td>(2S)-2,6-dimethylheptanoyl-CoA</td>\n      <td>The 2S stereoisomer of 2,6-dimethylheptanoyl-CoA.</td>\n      <td>InChI=1S/C30H52N7O17P3S/c1-17(2)7-6-8-18(3)29(...</td>\n      <td>(2S)-2,6-dimethylheptanoyl-coenzyme A</td>\n      <td>HMDB accession</td>\n      <td>HMDB0006258</td>\n    </tr>\n    <tr>\n      <th>4</th>\n      <td>glyleu</td>\n      <td>869-19-2</td>\n      <td>185298.0</td>\n      <td>Human Metabolome Database (HMDB): Glycyl-l-leu...</td>\n      <td>Glycylleucine</td>\n      <td>HMDB0000759</td>\n      <td>DKEXFJVMVGETOO-LURJTMIESA-N</td>\n      <td>InChI=1S/C8H16N2O3/c1-5(2)3-6(8(12)13)10-7(11)...</td>\n      <td>C02155</td>\n      <td>NaN</td>\n      <td>...</td>\n      <td>NaN</td>\n      <td>[H]N(C(=O)C([H])([H])[N+]([H])([H])[H])[C@]([H...</td>\n      <td>G-L***GL***Gly-L-leu***Glycylleucine***Glycyl-...</td>\n      <td>73514</td>\n      <td>Gly-Leu</td>\n      <td>A dipeptide composed of glycine and L-leucine ...</td>\n      <td>InChI=1S/C8H16N2O3/c1-5(2)3-6(8(12)13)10-7(11)...</td>\n      <td>Gly-L-Leu</td>\n      <td>HMDB accession</td>\n      <td>HMDB0000759</td>\n    </tr>\n  </tbody>\n</table>\n<p>5 rows × 21 columns</p>\n</div>"
     },
     "execution_count": 35,
     "metadata": {},
     "output_type": "execute_result"
    }
   ],
   "source": [
    "metabo_chebi_hmdb.head()"
   ],
   "metadata": {
    "collapsed": false
   }
  },
  {
   "cell_type": "markdown",
   "source": [
    "Merging using abbreviaition and name"
   ],
   "metadata": {
    "collapsed": false
   }
  },
  {
   "cell_type": "code",
   "execution_count": 36,
   "outputs": [
    {
     "data": {
      "text/plain": "  abbreviation_metabolite casregistry_metabolite  cheblid_metabolite  \\\n0                  10fthf              2800-34-2             15637.0   \n1              10fthf5glu                    NaN                 NaN   \n2              10fthf6glu                    NaN                 NaN   \n3              10fthf7glu                    NaN                 NaN   \n4            10m3hddcaACP                    NaN                 NaN   \n\n                              description_metabolite  \\\n0  Human Metabolome Database (HMDB): 10-Formyltet...   \n1                                                NaN   \n2                                                NaN   \n3                                                NaN   \n4                                                NaN   \n\n                  fullname_metabolite hmdb_metabolite  \\\n0           10-Formyltetrahydrofolate     HMDB0000972   \n1  10-Formyltetrahydrofolate-[Glu](5)             NaN   \n2  10-Formyltetrahydrofolate-[Glu](6)             NaN   \n3  10-Formyltetrahydrofolate-[Glu](7)             NaN   \n4  10-methyl-3-hydroxy-dodecanoyl-ACP             NaN   \n\n           inchikey_metabolite  \\\n0  AUFGTPPARQZWDO-YUZLPWPTSA-L   \n1  RGSLBOWMZCMTRA-UHFFFAOYSA-H   \n2  SFFBEUFYOPMKMV-CWMPVMSNSA-G   \n3  VTHHVZBTNSHUDD-UHFFFAOYSA-F   \n4                          NaN   \n\n                              inchistring_metabolite keggid_metabolite  \\\n0  InChI=1S/C20H23N7O7/c21-20-25-16-15(18(32)26-2...            C00234   \n1  InChI=1S/C40H51N11O19/c41-40-49-32-31(37(66)50...               NaN   \n2  InChI=1S/C45H58N12O22/c46-45-55-36-35(38(67)56...               NaN   \n3  InChI=1S/C50H65N13O25/c51-50-61-40-39(47(84)62...               NaN   \n4                                                NaN               NaN   \n\n  biocyc_metabolite food_db_metabolite reconmap3_metabolite  \\\n0     10-FORMYL-THF          FDB022345               10fthf   \n1               NaN                NaN           10fthf5glu   \n2               NaN                NaN           10fthf6glu   \n3               NaN                NaN           10fthf7glu   \n4               NaN                NaN                  NaN   \n\n                                    smile_metabolite  \\\n0  [H]OC1=NC(=NC2=C1N([H])C([H])(C([H])([H])N(C([...   \n1  [H]OC1=NC(=N[H])N([H])C2=C1N([H])C([H])(C([H])...   \n2  [H]OC(=O)C([H])(N=C([O-])C([H])([H])C([H])([H]...   \n3  [H]OC1=NC(=N[H])N([H])C2=C1N([H])C([H])(C([H])...   \n4                                                NaN   \n\n                                 synonyms_metabolite  \n0  10-Formyl-THF***10-Formyltetrahydrofolic acid*...  \n1                                                NaN  \n2                                                NaN  \n3                                                NaN  \n4                                                NaN  ",
      "text/html": "<div>\n<style scoped>\n    .dataframe tbody tr th:only-of-type {\n        vertical-align: middle;\n    }\n\n    .dataframe tbody tr th {\n        vertical-align: top;\n    }\n\n    .dataframe thead th {\n        text-align: right;\n    }\n</style>\n<table border=\"1\" class=\"dataframe\">\n  <thead>\n    <tr style=\"text-align: right;\">\n      <th></th>\n      <th>abbreviation_metabolite</th>\n      <th>casregistry_metabolite</th>\n      <th>cheblid_metabolite</th>\n      <th>description_metabolite</th>\n      <th>fullname_metabolite</th>\n      <th>hmdb_metabolite</th>\n      <th>inchikey_metabolite</th>\n      <th>inchistring_metabolite</th>\n      <th>keggid_metabolite</th>\n      <th>biocyc_metabolite</th>\n      <th>food_db_metabolite</th>\n      <th>reconmap3_metabolite</th>\n      <th>smile_metabolite</th>\n      <th>synonyms_metabolite</th>\n    </tr>\n  </thead>\n  <tbody>\n    <tr>\n      <th>0</th>\n      <td>10fthf</td>\n      <td>2800-34-2</td>\n      <td>15637.0</td>\n      <td>Human Metabolome Database (HMDB): 10-Formyltet...</td>\n      <td>10-Formyltetrahydrofolate</td>\n      <td>HMDB0000972</td>\n      <td>AUFGTPPARQZWDO-YUZLPWPTSA-L</td>\n      <td>InChI=1S/C20H23N7O7/c21-20-25-16-15(18(32)26-2...</td>\n      <td>C00234</td>\n      <td>10-FORMYL-THF</td>\n      <td>FDB022345</td>\n      <td>10fthf</td>\n      <td>[H]OC1=NC(=NC2=C1N([H])C([H])(C([H])([H])N(C([...</td>\n      <td>10-Formyl-THF***10-Formyltetrahydrofolic acid*...</td>\n    </tr>\n    <tr>\n      <th>1</th>\n      <td>10fthf5glu</td>\n      <td>NaN</td>\n      <td>NaN</td>\n      <td>NaN</td>\n      <td>10-Formyltetrahydrofolate-[Glu](5)</td>\n      <td>NaN</td>\n      <td>RGSLBOWMZCMTRA-UHFFFAOYSA-H</td>\n      <td>InChI=1S/C40H51N11O19/c41-40-49-32-31(37(66)50...</td>\n      <td>NaN</td>\n      <td>NaN</td>\n      <td>NaN</td>\n      <td>10fthf5glu</td>\n      <td>[H]OC1=NC(=N[H])N([H])C2=C1N([H])C([H])(C([H])...</td>\n      <td>NaN</td>\n    </tr>\n    <tr>\n      <th>2</th>\n      <td>10fthf6glu</td>\n      <td>NaN</td>\n      <td>NaN</td>\n      <td>NaN</td>\n      <td>10-Formyltetrahydrofolate-[Glu](6)</td>\n      <td>NaN</td>\n      <td>SFFBEUFYOPMKMV-CWMPVMSNSA-G</td>\n      <td>InChI=1S/C45H58N12O22/c46-45-55-36-35(38(67)56...</td>\n      <td>NaN</td>\n      <td>NaN</td>\n      <td>NaN</td>\n      <td>10fthf6glu</td>\n      <td>[H]OC(=O)C([H])(N=C([O-])C([H])([H])C([H])([H]...</td>\n      <td>NaN</td>\n    </tr>\n    <tr>\n      <th>3</th>\n      <td>10fthf7glu</td>\n      <td>NaN</td>\n      <td>NaN</td>\n      <td>NaN</td>\n      <td>10-Formyltetrahydrofolate-[Glu](7)</td>\n      <td>NaN</td>\n      <td>VTHHVZBTNSHUDD-UHFFFAOYSA-F</td>\n      <td>InChI=1S/C50H65N13O25/c51-50-61-40-39(47(84)62...</td>\n      <td>NaN</td>\n      <td>NaN</td>\n      <td>NaN</td>\n      <td>10fthf7glu</td>\n      <td>[H]OC1=NC(=N[H])N([H])C2=C1N([H])C([H])(C([H])...</td>\n      <td>NaN</td>\n    </tr>\n    <tr>\n      <th>4</th>\n      <td>10m3hddcaACP</td>\n      <td>NaN</td>\n      <td>NaN</td>\n      <td>NaN</td>\n      <td>10-methyl-3-hydroxy-dodecanoyl-ACP</td>\n      <td>NaN</td>\n      <td>NaN</td>\n      <td>NaN</td>\n      <td>NaN</td>\n      <td>NaN</td>\n      <td>NaN</td>\n      <td>NaN</td>\n      <td>NaN</td>\n      <td>NaN</td>\n    </tr>\n  </tbody>\n</table>\n</div>"
     },
     "execution_count": 36,
     "metadata": {},
     "output_type": "execute_result"
    }
   ],
   "source": [
    "metabo.head()"
   ],
   "metadata": {
    "collapsed": false
   }
  },
  {
   "cell_type": "code",
   "execution_count": 37,
   "outputs": [
    {
     "data": {
      "text/plain": "   chebi_id          name                                         definition  \\\n0      4798    entacapone  A monocarboxylic acid amide that is N,N-diethy...   \n1      2341       AACOCF3  A fatty acid derivative that is arachidonic ac...   \n2      3223     buspirone  An azaspiro compound that is 8-azaspiro[4.5]de...   \n3      8028  perphenazine  A phenothiazine derivative in which the phenot...   \n4      4819   lysergamide  An ergoline alkaloid comprising ergoline lacki...   \n\n                                        inchi_string       synonym  \\\n0  InChI=1S/C14H15N3O5/c1-3-16(4-2)14(20)10(8-15)...    Entacapone   \n1  InChI=1S/C21H31F3O/c1-2-3-4-5-6-7-8-9-10-11-12...       AACOCF3   \n2  InChI=1S/C21H31N5O2/c27-18-16-21(6-1-2-7-21)17...     Buspirone   \n3  InChI=1S/C21H26ClN3OS/c22-17-6-7-21-19(16-17)2...  Perphenazine   \n4  InChI=1S/C16H17N3O/c1-19-8-10(16(17)20)5-12-11...        Ergine   \n\n                      type accession_number  \n0  KEGG COMPOUND accession           C07943  \n1  KEGG COMPOUND accession           C01397  \n2      CAS Registry Number       36505-84-7  \n3      CAS Registry Number          58-39-9  \n4  KEGG COMPOUND accession           C09160  ",
      "text/html": "<div>\n<style scoped>\n    .dataframe tbody tr th:only-of-type {\n        vertical-align: middle;\n    }\n\n    .dataframe tbody tr th {\n        vertical-align: top;\n    }\n\n    .dataframe thead th {\n        text-align: right;\n    }\n</style>\n<table border=\"1\" class=\"dataframe\">\n  <thead>\n    <tr style=\"text-align: right;\">\n      <th></th>\n      <th>chebi_id</th>\n      <th>name</th>\n      <th>definition</th>\n      <th>inchi_string</th>\n      <th>synonym</th>\n      <th>type</th>\n      <th>accession_number</th>\n    </tr>\n  </thead>\n  <tbody>\n    <tr>\n      <th>0</th>\n      <td>4798</td>\n      <td>entacapone</td>\n      <td>A monocarboxylic acid amide that is N,N-diethy...</td>\n      <td>InChI=1S/C14H15N3O5/c1-3-16(4-2)14(20)10(8-15)...</td>\n      <td>Entacapone</td>\n      <td>KEGG COMPOUND accession</td>\n      <td>C07943</td>\n    </tr>\n    <tr>\n      <th>1</th>\n      <td>2341</td>\n      <td>AACOCF3</td>\n      <td>A fatty acid derivative that is arachidonic ac...</td>\n      <td>InChI=1S/C21H31F3O/c1-2-3-4-5-6-7-8-9-10-11-12...</td>\n      <td>AACOCF3</td>\n      <td>KEGG COMPOUND accession</td>\n      <td>C01397</td>\n    </tr>\n    <tr>\n      <th>2</th>\n      <td>3223</td>\n      <td>buspirone</td>\n      <td>An azaspiro compound that is 8-azaspiro[4.5]de...</td>\n      <td>InChI=1S/C21H31N5O2/c27-18-16-21(6-1-2-7-21)17...</td>\n      <td>Buspirone</td>\n      <td>CAS Registry Number</td>\n      <td>36505-84-7</td>\n    </tr>\n    <tr>\n      <th>3</th>\n      <td>8028</td>\n      <td>perphenazine</td>\n      <td>A phenothiazine derivative in which the phenot...</td>\n      <td>InChI=1S/C21H26ClN3OS/c22-17-6-7-21-19(16-17)2...</td>\n      <td>Perphenazine</td>\n      <td>CAS Registry Number</td>\n      <td>58-39-9</td>\n    </tr>\n    <tr>\n      <th>4</th>\n      <td>4819</td>\n      <td>lysergamide</td>\n      <td>An ergoline alkaloid comprising ergoline lacki...</td>\n      <td>InChI=1S/C16H17N3O/c1-19-8-10(16(17)20)5-12-11...</td>\n      <td>Ergine</td>\n      <td>KEGG COMPOUND accession</td>\n      <td>C09160</td>\n    </tr>\n  </tbody>\n</table>\n</div>"
     },
     "execution_count": 37,
     "metadata": {},
     "output_type": "execute_result"
    }
   ],
   "source": [
    "chebi.head()"
   ],
   "metadata": {
    "collapsed": false
   }
  },
  {
   "cell_type": "markdown",
   "source": [
    "merging syn with syn"
   ],
   "metadata": {
    "collapsed": false
   }
  },
  {
   "cell_type": "code",
   "execution_count": 38,
   "outputs": [],
   "source": [
    "metabo_chebi_syn = metabo.merge(chebi,left_on='synonyms_metabolite',right_on='synonym',how='inner')"
   ],
   "metadata": {
    "collapsed": false
   }
  },
  {
   "cell_type": "code",
   "execution_count": 39,
   "outputs": [
    {
     "data": {
      "text/plain": "  abbreviation_metabolite casregistry_metabolite  cheblid_metabolite  \\\n0                  M00405                    NaN               783.0   \n\n                              description_metabolite  \\\n0  Human Metabolome Database (HMDB): 17alpha,20al...   \n\n            fullname_metabolite hmdb_metabolite          inchikey_metabolite  \\\n0  17a,20a-Dihydroxycholesterol     HMDB0006764  PRZXKPDANWDCNC-DEFXBDIRSA-N   \n\n                              inchistring_metabolite keggid_metabolite  \\\n0  InChI=1S/C27H46O3/c1-18(2)7-6-13-26(5,29)27(30...            C05499   \n\n  biocyc_metabolite  ... reconmap3_metabolite  \\\n0               NaN  ...                  NaN   \n\n                                    smile_metabolite  \\\n0  [H]O[C@]1([H])C([H])([H])C2=C([H])C([H])([H])C...   \n\n                    synonyms_metabolite chebi_id  \\\n0  17alpha,20alpha-Dihydroxycholesterol      783   \n\n                                    name  \\\n0  (20R)-17alpha,20-dihydroxycholesterol   \n\n                                          definition  \\\n0  An  oxysterol that is  cholesterol substituted...   \n\n                                        inchi_string  \\\n0  InChI=1S/C27H46O3/c1-18(2)7-6-13-26(5,29)27(30...   \n\n                                synonym                     type  \\\n0  17alpha,20alpha-Dihydroxycholesterol  KEGG COMPOUND accession   \n\n  accession_number  \n0           C05499  \n\n[1 rows x 21 columns]",
      "text/html": "<div>\n<style scoped>\n    .dataframe tbody tr th:only-of-type {\n        vertical-align: middle;\n    }\n\n    .dataframe tbody tr th {\n        vertical-align: top;\n    }\n\n    .dataframe thead th {\n        text-align: right;\n    }\n</style>\n<table border=\"1\" class=\"dataframe\">\n  <thead>\n    <tr style=\"text-align: right;\">\n      <th></th>\n      <th>abbreviation_metabolite</th>\n      <th>casregistry_metabolite</th>\n      <th>cheblid_metabolite</th>\n      <th>description_metabolite</th>\n      <th>fullname_metabolite</th>\n      <th>hmdb_metabolite</th>\n      <th>inchikey_metabolite</th>\n      <th>inchistring_metabolite</th>\n      <th>keggid_metabolite</th>\n      <th>biocyc_metabolite</th>\n      <th>...</th>\n      <th>reconmap3_metabolite</th>\n      <th>smile_metabolite</th>\n      <th>synonyms_metabolite</th>\n      <th>chebi_id</th>\n      <th>name</th>\n      <th>definition</th>\n      <th>inchi_string</th>\n      <th>synonym</th>\n      <th>type</th>\n      <th>accession_number</th>\n    </tr>\n  </thead>\n  <tbody>\n    <tr>\n      <th>0</th>\n      <td>M00405</td>\n      <td>NaN</td>\n      <td>783.0</td>\n      <td>Human Metabolome Database (HMDB): 17alpha,20al...</td>\n      <td>17a,20a-Dihydroxycholesterol</td>\n      <td>HMDB0006764</td>\n      <td>PRZXKPDANWDCNC-DEFXBDIRSA-N</td>\n      <td>InChI=1S/C27H46O3/c1-18(2)7-6-13-26(5,29)27(30...</td>\n      <td>C05499</td>\n      <td>NaN</td>\n      <td>...</td>\n      <td>NaN</td>\n      <td>[H]O[C@]1([H])C([H])([H])C2=C([H])C([H])([H])C...</td>\n      <td>17alpha,20alpha-Dihydroxycholesterol</td>\n      <td>783</td>\n      <td>(20R)-17alpha,20-dihydroxycholesterol</td>\n      <td>An  oxysterol that is  cholesterol substituted...</td>\n      <td>InChI=1S/C27H46O3/c1-18(2)7-6-13-26(5,29)27(30...</td>\n      <td>17alpha,20alpha-Dihydroxycholesterol</td>\n      <td>KEGG COMPOUND accession</td>\n      <td>C05499</td>\n    </tr>\n  </tbody>\n</table>\n<p>1 rows × 21 columns</p>\n</div>"
     },
     "execution_count": 39,
     "metadata": {},
     "output_type": "execute_result"
    }
   ],
   "source": [
    "metabo_chebi_syn.head()"
   ],
   "metadata": {
    "collapsed": false
   }
  },
  {
   "cell_type": "markdown",
   "source": [
    "Mering name with name/syn"
   ],
   "metadata": {
    "collapsed": false
   }
  },
  {
   "cell_type": "code",
   "execution_count": 40,
   "outputs": [],
   "source": [
    "metabo_chebi_name = metabo.merge(chebi,left_on='synonyms_metabolite',right_on='name',how='inner')"
   ],
   "metadata": {
    "collapsed": false
   }
  },
  {
   "cell_type": "code",
   "execution_count": 41,
   "outputs": [
    {
     "data": {
      "text/plain": "Empty DataFrame\nColumns: [abbreviation_metabolite, casregistry_metabolite, cheblid_metabolite, description_metabolite, fullname_metabolite, hmdb_metabolite, inchikey_metabolite, inchistring_metabolite, keggid_metabolite, biocyc_metabolite, food_db_metabolite, reconmap3_metabolite, smile_metabolite, synonyms_metabolite, chebi_id, name, definition, inchi_string, synonym, type, accession_number]\nIndex: []\n\n[0 rows x 21 columns]",
      "text/html": "<div>\n<style scoped>\n    .dataframe tbody tr th:only-of-type {\n        vertical-align: middle;\n    }\n\n    .dataframe tbody tr th {\n        vertical-align: top;\n    }\n\n    .dataframe thead th {\n        text-align: right;\n    }\n</style>\n<table border=\"1\" class=\"dataframe\">\n  <thead>\n    <tr style=\"text-align: right;\">\n      <th></th>\n      <th>abbreviation_metabolite</th>\n      <th>casregistry_metabolite</th>\n      <th>cheblid_metabolite</th>\n      <th>description_metabolite</th>\n      <th>fullname_metabolite</th>\n      <th>hmdb_metabolite</th>\n      <th>inchikey_metabolite</th>\n      <th>inchistring_metabolite</th>\n      <th>keggid_metabolite</th>\n      <th>biocyc_metabolite</th>\n      <th>...</th>\n      <th>reconmap3_metabolite</th>\n      <th>smile_metabolite</th>\n      <th>synonyms_metabolite</th>\n      <th>chebi_id</th>\n      <th>name</th>\n      <th>definition</th>\n      <th>inchi_string</th>\n      <th>synonym</th>\n      <th>type</th>\n      <th>accession_number</th>\n    </tr>\n  </thead>\n  <tbody>\n  </tbody>\n</table>\n<p>0 rows × 21 columns</p>\n</div>"
     },
     "execution_count": 41,
     "metadata": {},
     "output_type": "execute_result"
    }
   ],
   "source": [
    "metabo_chebi_name.head()"
   ],
   "metadata": {
    "collapsed": false
   }
  },
  {
   "cell_type": "code",
   "execution_count": 42,
   "outputs": [
    {
     "data": {
      "text/plain": "  abbreviation_metabolite casregistry_metabolite  cheblid_metabolite  \\\n0                  C04805             70608-72-9             28209.0   \n1                  CE7231                    NaN                 NaN   \n2                  glycys                    NaN                 NaN   \n3                  hoacoa                    NaN                 NaN   \n4                  M00304                    NaN             72779.0   \n\n                              description_metabolite  fullname_metabolite  \\\n0  Human Metabolome Database (HMDB): 5-hydroxyeic...               5-HETE   \n1                                                NaN               7-HETE   \n2                                                NaN              Gly-Cys   \n3                                                NaN  3-hydroxyadipyl-CoA   \n4  Human Metabolome Database (HMDB): 11-trans-LTE...        11-trans-LTE4   \n\n  hmdb_metabolite          inchikey_metabolite  \\\n0     HMDB0011134  KGIJOOYOSFUGPC-HSFOLRKZSA-M   \n1             NaN                          NaN   \n2             NaN                          NaN   \n3             NaN                          NaN   \n4     HMDB0062286  OTZRAYGBFWZKMX-DVFCZEDWSA-N   \n\n                              inchistring_metabolite keggid_metabolite  \\\n0  InChI=1S/C20H32O3/c1-2-3-4-5-6-7-8-9-10-11-12-...            C04805   \n1                                                NaN               NaN   \n2                                                NaN               NaN   \n3                                                NaN            C14145   \n4  InChI=1S/C23H37NO5S/c1-2-3-4-5-6-7-8-9-10-11-1...               NaN   \n\n  biocyc_metabolite  ... reconmap3_metabolite  \\\n0               NaN  ...               C04805   \n1               NaN  ...                  NaN   \n2               NaN  ...                  NaN   \n3               NaN  ...                  NaN   \n4               NaN  ...                  NaN   \n\n                                    smile_metabolite  \\\n0  [H]O[C@]([H])(C(\\[H])=C(/[H])\\C(\\[H])=C(\\[H])C...   \n1                                                NaN   \n2                                                NaN   \n3                                                NaN   \n4  [H]OC(=O)C([H])([H])C([H])([H])C([H])([H])[C@]...   \n\n                                 synonyms_metabolite chebi_id  \\\n0  (5S,6E,8Z,11Z,14Z)-5-Hydroxyeicosa-6,8,11,14-t...    60943   \n1                                                NaN   137344   \n2                                                NaN    73890   \n3                                                NaN    71038   \n4  11-trans-Leukotriene e4***11t-LTE4***5S-Hydrox...    72779   \n\n                  name                                         definition  \\\n0               5-HETE  A HETE having a 5-hydroxy group and (6E)-, (8Z...   \n1               7-HETE  A HETE that is arachidonic acid carrying a hyd...   \n2              Gly-Cys  A dipeptide formed from glycine and L-cysteine...   \n3  3-hydroxyadipyl-CoA  An acyl-CoA that results from formal condensat...   \n4        11-trans-LTE4  A leukotriene that is the 11-trans-isomer of l...   \n\n                                        inchi_string  \\\n0  InChI=1S/C20H32O3/c1-2-3-4-5-6-7-8-9-10-11-12-...   \n1  InChI=1S/C20H32O3/c1-2-3-4-5-6-7-8-9-10-11-13-...   \n2  InChI=1S/C5H10N2O3S/c6-1-4(8)7-3(2-11)5(9)10/h...   \n3  InChI=1S/C27H44N7O20P3S/c1-27(2,22(41)25(42)30...   \n4  InChI=1S/C23H37NO5S/c1-2-3-4-5-6-7-8-9-10-11-1...   \n\n                                           synonym  \\\n0    5-hydroxy-6E,8Z,11Z,14Z-eicosatetraenoic acid   \n1  7-hydroxy-(5Z,8Z,11Z,14Z)-eicosatetraenoic acid   \n2                                        Gly-L-Cys   \n3                             3-hydroxyadipoyl-CoA   \n4                                         11t-LTE4   \n\n                            type     accession_number  \n0  LIPID MAPS instance accession         LMFA03060084  \n1         Reaxys Registry Number             24193914  \n2         Reaxys Registry Number              1709363  \n3              MetaCyc accession  3-HYDROXYADIPYL-COA  \n4                PubMed citation              6895224  \n\n[5 rows x 21 columns]",
      "text/html": "<div>\n<style scoped>\n    .dataframe tbody tr th:only-of-type {\n        vertical-align: middle;\n    }\n\n    .dataframe tbody tr th {\n        vertical-align: top;\n    }\n\n    .dataframe thead th {\n        text-align: right;\n    }\n</style>\n<table border=\"1\" class=\"dataframe\">\n  <thead>\n    <tr style=\"text-align: right;\">\n      <th></th>\n      <th>abbreviation_metabolite</th>\n      <th>casregistry_metabolite</th>\n      <th>cheblid_metabolite</th>\n      <th>description_metabolite</th>\n      <th>fullname_metabolite</th>\n      <th>hmdb_metabolite</th>\n      <th>inchikey_metabolite</th>\n      <th>inchistring_metabolite</th>\n      <th>keggid_metabolite</th>\n      <th>biocyc_metabolite</th>\n      <th>...</th>\n      <th>reconmap3_metabolite</th>\n      <th>smile_metabolite</th>\n      <th>synonyms_metabolite</th>\n      <th>chebi_id</th>\n      <th>name</th>\n      <th>definition</th>\n      <th>inchi_string</th>\n      <th>synonym</th>\n      <th>type</th>\n      <th>accession_number</th>\n    </tr>\n  </thead>\n  <tbody>\n    <tr>\n      <th>0</th>\n      <td>C04805</td>\n      <td>70608-72-9</td>\n      <td>28209.0</td>\n      <td>Human Metabolome Database (HMDB): 5-hydroxyeic...</td>\n      <td>5-HETE</td>\n      <td>HMDB0011134</td>\n      <td>KGIJOOYOSFUGPC-HSFOLRKZSA-M</td>\n      <td>InChI=1S/C20H32O3/c1-2-3-4-5-6-7-8-9-10-11-12-...</td>\n      <td>C04805</td>\n      <td>NaN</td>\n      <td>...</td>\n      <td>C04805</td>\n      <td>[H]O[C@]([H])(C(\\[H])=C(/[H])\\C(\\[H])=C(\\[H])C...</td>\n      <td>(5S,6E,8Z,11Z,14Z)-5-Hydroxyeicosa-6,8,11,14-t...</td>\n      <td>60943</td>\n      <td>5-HETE</td>\n      <td>A HETE having a 5-hydroxy group and (6E)-, (8Z...</td>\n      <td>InChI=1S/C20H32O3/c1-2-3-4-5-6-7-8-9-10-11-12-...</td>\n      <td>5-hydroxy-6E,8Z,11Z,14Z-eicosatetraenoic acid</td>\n      <td>LIPID MAPS instance accession</td>\n      <td>LMFA03060084</td>\n    </tr>\n    <tr>\n      <th>1</th>\n      <td>CE7231</td>\n      <td>NaN</td>\n      <td>NaN</td>\n      <td>NaN</td>\n      <td>7-HETE</td>\n      <td>NaN</td>\n      <td>NaN</td>\n      <td>NaN</td>\n      <td>NaN</td>\n      <td>NaN</td>\n      <td>...</td>\n      <td>NaN</td>\n      <td>NaN</td>\n      <td>NaN</td>\n      <td>137344</td>\n      <td>7-HETE</td>\n      <td>A HETE that is arachidonic acid carrying a hyd...</td>\n      <td>InChI=1S/C20H32O3/c1-2-3-4-5-6-7-8-9-10-11-13-...</td>\n      <td>7-hydroxy-(5Z,8Z,11Z,14Z)-eicosatetraenoic acid</td>\n      <td>Reaxys Registry Number</td>\n      <td>24193914</td>\n    </tr>\n    <tr>\n      <th>2</th>\n      <td>glycys</td>\n      <td>NaN</td>\n      <td>NaN</td>\n      <td>NaN</td>\n      <td>Gly-Cys</td>\n      <td>NaN</td>\n      <td>NaN</td>\n      <td>NaN</td>\n      <td>NaN</td>\n      <td>NaN</td>\n      <td>...</td>\n      <td>NaN</td>\n      <td>NaN</td>\n      <td>NaN</td>\n      <td>73890</td>\n      <td>Gly-Cys</td>\n      <td>A dipeptide formed from glycine and L-cysteine...</td>\n      <td>InChI=1S/C5H10N2O3S/c6-1-4(8)7-3(2-11)5(9)10/h...</td>\n      <td>Gly-L-Cys</td>\n      <td>Reaxys Registry Number</td>\n      <td>1709363</td>\n    </tr>\n    <tr>\n      <th>3</th>\n      <td>hoacoa</td>\n      <td>NaN</td>\n      <td>NaN</td>\n      <td>NaN</td>\n      <td>3-hydroxyadipyl-CoA</td>\n      <td>NaN</td>\n      <td>NaN</td>\n      <td>NaN</td>\n      <td>C14145</td>\n      <td>NaN</td>\n      <td>...</td>\n      <td>NaN</td>\n      <td>NaN</td>\n      <td>NaN</td>\n      <td>71038</td>\n      <td>3-hydroxyadipyl-CoA</td>\n      <td>An acyl-CoA that results from formal condensat...</td>\n      <td>InChI=1S/C27H44N7O20P3S/c1-27(2,22(41)25(42)30...</td>\n      <td>3-hydroxyadipoyl-CoA</td>\n      <td>MetaCyc accession</td>\n      <td>3-HYDROXYADIPYL-COA</td>\n    </tr>\n    <tr>\n      <th>4</th>\n      <td>M00304</td>\n      <td>NaN</td>\n      <td>72779.0</td>\n      <td>Human Metabolome Database (HMDB): 11-trans-LTE...</td>\n      <td>11-trans-LTE4</td>\n      <td>HMDB0062286</td>\n      <td>OTZRAYGBFWZKMX-DVFCZEDWSA-N</td>\n      <td>InChI=1S/C23H37NO5S/c1-2-3-4-5-6-7-8-9-10-11-1...</td>\n      <td>NaN</td>\n      <td>NaN</td>\n      <td>...</td>\n      <td>NaN</td>\n      <td>[H]OC(=O)C([H])([H])C([H])([H])C([H])([H])[C@]...</td>\n      <td>11-trans-Leukotriene e4***11t-LTE4***5S-Hydrox...</td>\n      <td>72779</td>\n      <td>11-trans-LTE4</td>\n      <td>A leukotriene that is the 11-trans-isomer of l...</td>\n      <td>InChI=1S/C23H37NO5S/c1-2-3-4-5-6-7-8-9-10-11-1...</td>\n      <td>11t-LTE4</td>\n      <td>PubMed citation</td>\n      <td>6895224</td>\n    </tr>\n  </tbody>\n</table>\n<p>5 rows × 21 columns</p>\n</div>"
     },
     "execution_count": 42,
     "metadata": {},
     "output_type": "execute_result"
    }
   ],
   "source": [
    "metabo_chebi_name2 = metabo.merge(chebi,left_on='fullname_metabolite',right_on='name',how='inner')\n",
    "metabo_chebi_name2.head()"
   ],
   "metadata": {
    "collapsed": false
   }
  },
  {
   "cell_type": "code",
   "execution_count": 43,
   "outputs": [
    {
     "data": {
      "text/plain": "  abbreviation_metabolite casregistry_metabolite  cheblid_metabolite  \\\n0              nifedipine             21829-25-4              7565.0   \n\n  description_metabolite fullname_metabolite hmdb_metabolite  \\\n0                    NaN          Nifedipine             NaN   \n\n           inchikey_metabolite  \\\n0  HYIMSNHJOBLJNT-UHFFFAOYSA-N   \n\n                              inchistring_metabolite keggid_metabolite  \\\n0  InChI=1S/C17H18N2O6/c1-9-13(16(20)24-3)15(14(1...            C07266   \n\n  biocyc_metabolite  ... reconmap3_metabolite  \\\n0               NaN  ...           nifedipine   \n\n                                    smile_metabolite synonyms_metabolite  \\\n0  [H]N1C(=C(C(=O)OC([H])([H])[H])C([H])(C2=C(C([...                 NaN   \n\n  chebi_id        name definition  \\\n0     7565  nifedipine        NaN   \n\n                                        inchi_string     synonym  \\\n0  InChI=1S/C17H18N2O6/c1-9-13(16(20)24-3)15(14(1...  Nifedipine   \n\n                      type accession_number  \n0  KEGG COMPOUND accession           C07266  \n\n[1 rows x 21 columns]",
      "text/html": "<div>\n<style scoped>\n    .dataframe tbody tr th:only-of-type {\n        vertical-align: middle;\n    }\n\n    .dataframe tbody tr th {\n        vertical-align: top;\n    }\n\n    .dataframe thead th {\n        text-align: right;\n    }\n</style>\n<table border=\"1\" class=\"dataframe\">\n  <thead>\n    <tr style=\"text-align: right;\">\n      <th></th>\n      <th>abbreviation_metabolite</th>\n      <th>casregistry_metabolite</th>\n      <th>cheblid_metabolite</th>\n      <th>description_metabolite</th>\n      <th>fullname_metabolite</th>\n      <th>hmdb_metabolite</th>\n      <th>inchikey_metabolite</th>\n      <th>inchistring_metabolite</th>\n      <th>keggid_metabolite</th>\n      <th>biocyc_metabolite</th>\n      <th>...</th>\n      <th>reconmap3_metabolite</th>\n      <th>smile_metabolite</th>\n      <th>synonyms_metabolite</th>\n      <th>chebi_id</th>\n      <th>name</th>\n      <th>definition</th>\n      <th>inchi_string</th>\n      <th>synonym</th>\n      <th>type</th>\n      <th>accession_number</th>\n    </tr>\n  </thead>\n  <tbody>\n    <tr>\n      <th>0</th>\n      <td>nifedipine</td>\n      <td>21829-25-4</td>\n      <td>7565.0</td>\n      <td>NaN</td>\n      <td>Nifedipine</td>\n      <td>NaN</td>\n      <td>HYIMSNHJOBLJNT-UHFFFAOYSA-N</td>\n      <td>InChI=1S/C17H18N2O6/c1-9-13(16(20)24-3)15(14(1...</td>\n      <td>C07266</td>\n      <td>NaN</td>\n      <td>...</td>\n      <td>nifedipine</td>\n      <td>[H]N1C(=C(C(=O)OC([H])([H])[H])C([H])(C2=C(C([...</td>\n      <td>NaN</td>\n      <td>7565</td>\n      <td>nifedipine</td>\n      <td>NaN</td>\n      <td>InChI=1S/C17H18N2O6/c1-9-13(16(20)24-3)15(14(1...</td>\n      <td>Nifedipine</td>\n      <td>KEGG COMPOUND accession</td>\n      <td>C07266</td>\n    </tr>\n  </tbody>\n</table>\n<p>1 rows × 21 columns</p>\n</div>"
     },
     "execution_count": 43,
     "metadata": {},
     "output_type": "execute_result"
    }
   ],
   "source": [
    "metabo_chebi_name3 = metabo.merge(chebi,left_on='abbreviation_metabolite',right_on='name',how='inner')\n",
    "metabo_chebi_name3.head()"
   ],
   "metadata": {
    "collapsed": false
   }
  },
  {
   "cell_type": "code",
   "execution_count": 44,
   "outputs": [
    {
     "data": {
      "text/plain": "  abbreviation_metabolite casregistry_metabolite  cheblid_metabolite  \\\n0                  M00405                    NaN               783.0   \n\n                              description_metabolite  \\\n0  Human Metabolome Database (HMDB): 17alpha,20al...   \n\n            fullname_metabolite hmdb_metabolite          inchikey_metabolite  \\\n0  17a,20a-Dihydroxycholesterol     HMDB0006764  PRZXKPDANWDCNC-DEFXBDIRSA-N   \n\n                              inchistring_metabolite keggid_metabolite  \\\n0  InChI=1S/C27H46O3/c1-18(2)7-6-13-26(5,29)27(30...            C05499   \n\n  biocyc_metabolite  ... reconmap3_metabolite  \\\n0               NaN  ...                  NaN   \n\n                                    smile_metabolite  \\\n0  [H]O[C@]1([H])C([H])([H])C2=C([H])C([H])([H])C...   \n\n                    synonyms_metabolite chebi_id  \\\n0  17alpha,20alpha-Dihydroxycholesterol      783   \n\n                                    name  \\\n0  (20R)-17alpha,20-dihydroxycholesterol   \n\n                                          definition  \\\n0  An  oxysterol that is  cholesterol substituted...   \n\n                                        inchi_string  \\\n0  InChI=1S/C27H46O3/c1-18(2)7-6-13-26(5,29)27(30...   \n\n                                synonym                     type  \\\n0  17alpha,20alpha-Dihydroxycholesterol  KEGG COMPOUND accession   \n\n  accession_number  \n0           C05499  \n\n[1 rows x 21 columns]",
      "text/html": "<div>\n<style scoped>\n    .dataframe tbody tr th:only-of-type {\n        vertical-align: middle;\n    }\n\n    .dataframe tbody tr th {\n        vertical-align: top;\n    }\n\n    .dataframe thead th {\n        text-align: right;\n    }\n</style>\n<table border=\"1\" class=\"dataframe\">\n  <thead>\n    <tr style=\"text-align: right;\">\n      <th></th>\n      <th>abbreviation_metabolite</th>\n      <th>casregistry_metabolite</th>\n      <th>cheblid_metabolite</th>\n      <th>description_metabolite</th>\n      <th>fullname_metabolite</th>\n      <th>hmdb_metabolite</th>\n      <th>inchikey_metabolite</th>\n      <th>inchistring_metabolite</th>\n      <th>keggid_metabolite</th>\n      <th>biocyc_metabolite</th>\n      <th>...</th>\n      <th>reconmap3_metabolite</th>\n      <th>smile_metabolite</th>\n      <th>synonyms_metabolite</th>\n      <th>chebi_id</th>\n      <th>name</th>\n      <th>definition</th>\n      <th>inchi_string</th>\n      <th>synonym</th>\n      <th>type</th>\n      <th>accession_number</th>\n    </tr>\n  </thead>\n  <tbody>\n    <tr>\n      <th>0</th>\n      <td>M00405</td>\n      <td>NaN</td>\n      <td>783.0</td>\n      <td>Human Metabolome Database (HMDB): 17alpha,20al...</td>\n      <td>17a,20a-Dihydroxycholesterol</td>\n      <td>HMDB0006764</td>\n      <td>PRZXKPDANWDCNC-DEFXBDIRSA-N</td>\n      <td>InChI=1S/C27H46O3/c1-18(2)7-6-13-26(5,29)27(30...</td>\n      <td>C05499</td>\n      <td>NaN</td>\n      <td>...</td>\n      <td>NaN</td>\n      <td>[H]O[C@]1([H])C([H])([H])C2=C([H])C([H])([H])C...</td>\n      <td>17alpha,20alpha-Dihydroxycholesterol</td>\n      <td>783</td>\n      <td>(20R)-17alpha,20-dihydroxycholesterol</td>\n      <td>An  oxysterol that is  cholesterol substituted...</td>\n      <td>InChI=1S/C27H46O3/c1-18(2)7-6-13-26(5,29)27(30...</td>\n      <td>17alpha,20alpha-Dihydroxycholesterol</td>\n      <td>KEGG COMPOUND accession</td>\n      <td>C05499</td>\n    </tr>\n  </tbody>\n</table>\n<p>1 rows × 21 columns</p>\n</div>"
     },
     "execution_count": 44,
     "metadata": {},
     "output_type": "execute_result"
    }
   ],
   "source": [
    "metabo_chebi_name4 = metabo.merge(chebi,left_on='synonyms_metabolite',right_on='synonym',how='inner')\n",
    "metabo_chebi_name4.head()"
   ],
   "metadata": {
    "collapsed": false
   }
  },
  {
   "cell_type": "markdown",
   "source": [
    "# Final Data Set"
   ],
   "metadata": {
    "collapsed": false
   }
  },
  {
   "cell_type": "code",
   "execution_count": 45,
   "outputs": [
    {
     "data": {
      "text/plain": "  abbreviation_metabolite casregistry_metabolite  cheblid_metabolite  \\\n0                  M00405                    NaN               783.0   \n\n                              description_metabolite  \\\n0  Human Metabolome Database (HMDB): 17alpha,20al...   \n\n            fullname_metabolite hmdb_metabolite          inchikey_metabolite  \\\n0  17a,20a-Dihydroxycholesterol     HMDB0006764  PRZXKPDANWDCNC-DEFXBDIRSA-N   \n\n                              inchistring_metabolite keggid_metabolite  \\\n0  InChI=1S/C27H46O3/c1-18(2)7-6-13-26(5,29)27(30...            C05499   \n\n  biocyc_metabolite  ... reconmap3_metabolite  \\\n0               NaN  ...                  NaN   \n\n                                    smile_metabolite  \\\n0  [H]O[C@]1([H])C([H])([H])C2=C([H])C([H])([H])C...   \n\n                    synonyms_metabolite chebi_id  \\\n0  17alpha,20alpha-Dihydroxycholesterol      783   \n\n                                    name  \\\n0  (20R)-17alpha,20-dihydroxycholesterol   \n\n                                          definition  \\\n0  An  oxysterol that is  cholesterol substituted...   \n\n                                        inchi_string  \\\n0  InChI=1S/C27H46O3/c1-18(2)7-6-13-26(5,29)27(30...   \n\n                                synonym                     type  \\\n0  17alpha,20alpha-Dihydroxycholesterol  KEGG COMPOUND accession   \n\n  accession_number  \n0           C05499  \n\n[1 rows x 21 columns]",
      "text/html": "<div>\n<style scoped>\n    .dataframe tbody tr th:only-of-type {\n        vertical-align: middle;\n    }\n\n    .dataframe tbody tr th {\n        vertical-align: top;\n    }\n\n    .dataframe thead th {\n        text-align: right;\n    }\n</style>\n<table border=\"1\" class=\"dataframe\">\n  <thead>\n    <tr style=\"text-align: right;\">\n      <th></th>\n      <th>abbreviation_metabolite</th>\n      <th>casregistry_metabolite</th>\n      <th>cheblid_metabolite</th>\n      <th>description_metabolite</th>\n      <th>fullname_metabolite</th>\n      <th>hmdb_metabolite</th>\n      <th>inchikey_metabolite</th>\n      <th>inchistring_metabolite</th>\n      <th>keggid_metabolite</th>\n      <th>biocyc_metabolite</th>\n      <th>...</th>\n      <th>reconmap3_metabolite</th>\n      <th>smile_metabolite</th>\n      <th>synonyms_metabolite</th>\n      <th>chebi_id</th>\n      <th>name</th>\n      <th>definition</th>\n      <th>inchi_string</th>\n      <th>synonym</th>\n      <th>type</th>\n      <th>accession_number</th>\n    </tr>\n  </thead>\n  <tbody>\n    <tr>\n      <th>0</th>\n      <td>M00405</td>\n      <td>NaN</td>\n      <td>783.0</td>\n      <td>Human Metabolome Database (HMDB): 17alpha,20al...</td>\n      <td>17a,20a-Dihydroxycholesterol</td>\n      <td>HMDB0006764</td>\n      <td>PRZXKPDANWDCNC-DEFXBDIRSA-N</td>\n      <td>InChI=1S/C27H46O3/c1-18(2)7-6-13-26(5,29)27(30...</td>\n      <td>C05499</td>\n      <td>NaN</td>\n      <td>...</td>\n      <td>NaN</td>\n      <td>[H]O[C@]1([H])C([H])([H])C2=C([H])C([H])([H])C...</td>\n      <td>17alpha,20alpha-Dihydroxycholesterol</td>\n      <td>783</td>\n      <td>(20R)-17alpha,20-dihydroxycholesterol</td>\n      <td>An  oxysterol that is  cholesterol substituted...</td>\n      <td>InChI=1S/C27H46O3/c1-18(2)7-6-13-26(5,29)27(30...</td>\n      <td>17alpha,20alpha-Dihydroxycholesterol</td>\n      <td>KEGG COMPOUND accession</td>\n      <td>C05499</td>\n    </tr>\n  </tbody>\n</table>\n<p>1 rows × 21 columns</p>\n</div>"
     },
     "execution_count": 45,
     "metadata": {},
     "output_type": "execute_result"
    }
   ],
   "source": [
    "metabo_chebi_inch\n",
    "metabo_chebi_syn\n",
    "metabo_chebi_kegg\n",
    "metabo_chebi_hmdb\n",
    "metabo_chebi_cas\n",
    "metabo_chebi_name2\n",
    "metabo_chebi_name3\n",
    "metabo_chebi_name4"
   ],
   "metadata": {
    "collapsed": false
   }
  },
  {
   "cell_type": "code",
   "execution_count": 46,
   "outputs": [],
   "source": [
    "dataframe =[metabo_chebi_inch,metabo_chebi_syn,metabo_chebi_kegg,metabo_chebi_hmdb,metabo_chebi_cas,metabo_chebi_name2,metabo_chebi_name3,metabo_chebi_name4]"
   ],
   "metadata": {
    "collapsed": false
   }
  },
  {
   "cell_type": "code",
   "execution_count": 47,
   "outputs": [],
   "source": [
    "final_dataset = pd.concat([metabo_chebi_inch,metabo_chebi_syn,metabo_chebi_kegg,metabo_chebi_hmdb,metabo_chebi_cas,metabo_chebi_name2,metabo_chebi_name3,metabo_chebi_name4])"
   ],
   "metadata": {
    "collapsed": false
   }
  },
  {
   "cell_type": "code",
   "execution_count": 48,
   "outputs": [
    {
     "name": "stdout",
     "output_type": "stream",
     "text": [
      "<class 'pandas.core.frame.DataFrame'>\n",
      "Int64Index: 324 entries, 0 to 0\n",
      "Data columns (total 21 columns):\n",
      " #   Column                   Non-Null Count  Dtype  \n",
      "---  ------                   --------------  -----  \n",
      " 0   abbreviation_metabolite  324 non-null    object \n",
      " 1   casregistry_metabolite   200 non-null    object \n",
      " 2   cheblid_metabolite       237 non-null    float64\n",
      " 3   description_metabolite   252 non-null    object \n",
      " 4   fullname_metabolite      324 non-null    object \n",
      " 5   hmdb_metabolite          254 non-null    object \n",
      " 6   inchikey_metabolite      300 non-null    object \n",
      " 7   inchistring_metabolite   304 non-null    object \n",
      " 8   keggid_metabolite        255 non-null    object \n",
      " 9   biocyc_metabolite        98 non-null     object \n",
      " 10  food_db_metabolite       201 non-null    object \n",
      " 11  reconmap3_metabolite     194 non-null    object \n",
      " 12  smile_metabolite         294 non-null    object \n",
      " 13  synonyms_metabolite      238 non-null    object \n",
      " 14  chebi_id                 324 non-null    int64  \n",
      " 15  name                     324 non-null    object \n",
      " 16  definition               289 non-null    object \n",
      " 17  inchi_string             324 non-null    object \n",
      " 18  synonym                  324 non-null    object \n",
      " 19  type                     324 non-null    object \n",
      " 20  accession_number         324 non-null    object \n",
      "dtypes: float64(1), int64(1), object(19)\n",
      "memory usage: 55.7+ KB\n"
     ]
    }
   ],
   "source": [
    "final_dataset.info()"
   ],
   "metadata": {
    "collapsed": false
   }
  },
  {
   "cell_type": "code",
   "execution_count": 49,
   "outputs": [
    {
     "data": {
      "text/plain": "59"
     },
     "execution_count": 49,
     "metadata": {},
     "output_type": "execute_result"
    }
   ],
   "source": [
    "final_dataset.duplicated().sum()"
   ],
   "metadata": {
    "collapsed": false
   }
  },
  {
   "cell_type": "code",
   "execution_count": 50,
   "outputs": [],
   "source": [
    "final_dataset.drop_duplicates(inplace=True)"
   ],
   "metadata": {
    "collapsed": false
   }
  },
  {
   "cell_type": "code",
   "execution_count": 51,
   "outputs": [
    {
     "name": "stdout",
     "output_type": "stream",
     "text": [
      "<class 'pandas.core.frame.DataFrame'>\n",
      "Int64Index: 265 entries, 0 to 7\n",
      "Data columns (total 21 columns):\n",
      " #   Column                   Non-Null Count  Dtype  \n",
      "---  ------                   --------------  -----  \n",
      " 0   abbreviation_metabolite  265 non-null    object \n",
      " 1   casregistry_metabolite   154 non-null    object \n",
      " 2   cheblid_metabolite       183 non-null    float64\n",
      " 3   description_metabolite   198 non-null    object \n",
      " 4   fullname_metabolite      265 non-null    object \n",
      " 5   hmdb_metabolite          200 non-null    object \n",
      " 6   inchikey_metabolite      242 non-null    object \n",
      " 7   inchistring_metabolite   245 non-null    object \n",
      " 8   keggid_metabolite        202 non-null    object \n",
      " 9   biocyc_metabolite        80 non-null     object \n",
      " 10  food_db_metabolite       161 non-null    object \n",
      " 11  reconmap3_metabolite     162 non-null    object \n",
      " 12  smile_metabolite         237 non-null    object \n",
      " 13  synonyms_metabolite      188 non-null    object \n",
      " 14  chebi_id                 265 non-null    int64  \n",
      " 15  name                     265 non-null    object \n",
      " 16  definition               238 non-null    object \n",
      " 17  inchi_string             265 non-null    object \n",
      " 18  synonym                  265 non-null    object \n",
      " 19  type                     265 non-null    object \n",
      " 20  accession_number         265 non-null    object \n",
      "dtypes: float64(1), int64(1), object(19)\n",
      "memory usage: 45.5+ KB\n"
     ]
    }
   ],
   "source": [
    "final_dataset.info()"
   ],
   "metadata": {
    "collapsed": false
   }
  },
  {
   "cell_type": "code",
   "execution_count": 54,
   "outputs": [],
   "source": [
    "final_dataset.drop_duplicates(subset='name',keep='first',inplace=True)"
   ],
   "metadata": {
    "collapsed": false
   }
  },
  {
   "cell_type": "code",
   "execution_count": 55,
   "outputs": [
    {
     "name": "stdout",
     "output_type": "stream",
     "text": [
      "<class 'pandas.core.frame.DataFrame'>\n",
      "Int64Index: 257 entries, 0 to 7\n",
      "Data columns (total 21 columns):\n",
      " #   Column                   Non-Null Count  Dtype  \n",
      "---  ------                   --------------  -----  \n",
      " 0   abbreviation_metabolite  257 non-null    object \n",
      " 1   casregistry_metabolite   151 non-null    object \n",
      " 2   cheblid_metabolite       179 non-null    float64\n",
      " 3   description_metabolite   191 non-null    object \n",
      " 4   fullname_metabolite      257 non-null    object \n",
      " 5   hmdb_metabolite          193 non-null    object \n",
      " 6   inchikey_metabolite      234 non-null    object \n",
      " 7   inchistring_metabolite   238 non-null    object \n",
      " 8   keggid_metabolite        194 non-null    object \n",
      " 9   biocyc_metabolite        78 non-null     object \n",
      " 10  food_db_metabolite       156 non-null    object \n",
      " 11  reconmap3_metabolite     156 non-null    object \n",
      " 12  smile_metabolite         230 non-null    object \n",
      " 13  synonyms_metabolite      182 non-null    object \n",
      " 14  chebi_id                 257 non-null    int64  \n",
      " 15  name                     257 non-null    object \n",
      " 16  definition               231 non-null    object \n",
      " 17  inchi_string             257 non-null    object \n",
      " 18  synonym                  257 non-null    object \n",
      " 19  type                     257 non-null    object \n",
      " 20  accession_number         257 non-null    object \n",
      "dtypes: float64(1), int64(1), object(19)\n",
      "memory usage: 44.2+ KB\n"
     ]
    }
   ],
   "source": [
    "final_dataset.info()"
   ],
   "metadata": {
    "collapsed": false
   }
  },
  {
   "cell_type": "code",
   "execution_count": 51,
   "outputs": [],
   "source": [
    "final_dataset.to_csv('final_dataset.csv',index_label=False)"
   ],
   "metadata": {
    "collapsed": false
   }
  },
  {
   "cell_type": "code",
   "execution_count": null,
   "outputs": [],
   "source": [],
   "metadata": {
    "collapsed": false
   }
  }
 ],
 "metadata": {
  "kernelspec": {
   "display_name": "Python 3",
   "language": "python",
   "name": "python3"
  },
  "language_info": {
   "codemirror_mode": {
    "name": "ipython",
    "version": 2
   },
   "file_extension": ".py",
   "mimetype": "text/x-python",
   "name": "python",
   "nbconvert_exporter": "python",
   "pygments_lexer": "ipython2",
   "version": "2.7.6"
  }
 },
 "nbformat": 4,
 "nbformat_minor": 0
}
