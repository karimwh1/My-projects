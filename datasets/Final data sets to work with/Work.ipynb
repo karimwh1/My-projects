{
 "cells": [
  {
   "cell_type": "code",
   "execution_count": 1,
   "metadata": {
    "collapsed": true
   },
   "outputs": [],
   "source": [
    "import pandas as pd"
   ]
  },
  {
   "cell_type": "code",
   "execution_count": 2,
   "outputs": [],
   "source": [
    "bio = pd.read_csv('biomarkers_final.csv')\n",
    "metabo = pd.read_csv('metabolites.csv')"
   ],
   "metadata": {
    "collapsed": false
   }
  },
  {
   "cell_type": "code",
   "execution_count": 5,
   "outputs": [],
   "source": [
    "bio.head()\n",
    "bio_m = bio[['smile_biomarker','inchikey_of_biomarker','inchistring_of_biomarker','casregistry_of_biomarker','fullname_of_biomarker','cheblid_of_biomarker','name_of_disease']]"
   ],
   "metadata": {
    "collapsed": false
   }
  },
  {
   "cell_type": "code",
   "execution_count": 7,
   "outputs": [
    {
     "data": {
      "text/plain": "                                     smile_biomarker  \\\n0              [H][N+]([H])([H])C([H])([H])C([O-])=O   \n1  [H]C1([H])C([H])([H])[N+]([H])([H])[C@]([H])(C...   \n2  [H]C([H])([H])C([H])(C([H])([H])[H])[C@@]([H])...   \n3  [H]O[C@]([H])(C([H])([H])[H])[C@@]([H])(C([O-]...   \n4  [H]C([H])([H])SC([H])([H])C([H])([H])[C@@]([H]...   \n\n         inchikey_of_biomarker  \\\n0  DHMQDGOQFOQNFH-UHFFFAOYSA-N   \n1  ONIBWKKTOPOVIA-BYPYZUCNSA-N   \n2  KZSNJWFQEVHDMF-BYPYZUCNSA-N   \n3  AYFVYJQAPQTCCC-GBXIJSLDSA-N   \n4  FFEARJCKVFRZRR-BYPYZUCNSA-N   \n\n                            inchistring_of_biomarker casregistry_of_biomarker  \\\n0         InChI=1S/C2H5NO2/c3-1-2(4)5/h1,3H2,(H,4,5)                  56-40-6   \n1  InChI=1S/C5H9NO2/c7-5(8)4-2-1-3-6-4/h4,6H,1-3H...                 147-85-3   \n2  InChI=1S/C5H11NO2/c1-3(2)4(6)5(7)8/h3-4H,6H2,1...                  72-18-4   \n3  InChI=1S/C4H9NO3/c1-2(6)3(5)4(7)8/h2-3,6H,5H2,...                  72-19-5   \n4  InChI=1S/C5H11NO2S/c1-9-3-2-4(6)5(7)8/h4H,2-3,...                  63-68-3   \n\n  fullname_of_biomarker  cheblid_of_biomarker  \\\n0               Glycine               15428.0   \n1             L-Proline               17203.0   \n2              L-Valine               16414.0   \n3           L-Threonine               16857.0   \n4          L-Methionine               16643.0   \n\n                                     name_of_disease  \n0  Glycine Encephalopathy/ Nonketotic Hyperglycin...  \n1           Gyrate Atrophy of the Choroid And Retina  \n2                          Maple Syrup Urine Disease  \n3  Neonatal Intrahepatic Cholestasis caused by Ci...  \n4                                 Hypermethioninemia  ",
      "text/html": "<div>\n<style scoped>\n    .dataframe tbody tr th:only-of-type {\n        vertical-align: middle;\n    }\n\n    .dataframe tbody tr th {\n        vertical-align: top;\n    }\n\n    .dataframe thead th {\n        text-align: right;\n    }\n</style>\n<table border=\"1\" class=\"dataframe\">\n  <thead>\n    <tr style=\"text-align: right;\">\n      <th></th>\n      <th>smile_biomarker</th>\n      <th>inchikey_of_biomarker</th>\n      <th>inchistring_of_biomarker</th>\n      <th>casregistry_of_biomarker</th>\n      <th>fullname_of_biomarker</th>\n      <th>cheblid_of_biomarker</th>\n      <th>name_of_disease</th>\n    </tr>\n  </thead>\n  <tbody>\n    <tr>\n      <th>0</th>\n      <td>[H][N+]([H])([H])C([H])([H])C([O-])=O</td>\n      <td>DHMQDGOQFOQNFH-UHFFFAOYSA-N</td>\n      <td>InChI=1S/C2H5NO2/c3-1-2(4)5/h1,3H2,(H,4,5)</td>\n      <td>56-40-6</td>\n      <td>Glycine</td>\n      <td>15428.0</td>\n      <td>Glycine Encephalopathy/ Nonketotic Hyperglycin...</td>\n    </tr>\n    <tr>\n      <th>1</th>\n      <td>[H]C1([H])C([H])([H])[N+]([H])([H])[C@]([H])(C...</td>\n      <td>ONIBWKKTOPOVIA-BYPYZUCNSA-N</td>\n      <td>InChI=1S/C5H9NO2/c7-5(8)4-2-1-3-6-4/h4,6H,1-3H...</td>\n      <td>147-85-3</td>\n      <td>L-Proline</td>\n      <td>17203.0</td>\n      <td>Gyrate Atrophy of the Choroid And Retina</td>\n    </tr>\n    <tr>\n      <th>2</th>\n      <td>[H]C([H])([H])C([H])(C([H])([H])[H])[C@@]([H])...</td>\n      <td>KZSNJWFQEVHDMF-BYPYZUCNSA-N</td>\n      <td>InChI=1S/C5H11NO2/c1-3(2)4(6)5(7)8/h3-4H,6H2,1...</td>\n      <td>72-18-4</td>\n      <td>L-Valine</td>\n      <td>16414.0</td>\n      <td>Maple Syrup Urine Disease</td>\n    </tr>\n    <tr>\n      <th>3</th>\n      <td>[H]O[C@]([H])(C([H])([H])[H])[C@@]([H])(C([O-]...</td>\n      <td>AYFVYJQAPQTCCC-GBXIJSLDSA-N</td>\n      <td>InChI=1S/C4H9NO3/c1-2(6)3(5)4(7)8/h2-3,6H,5H2,...</td>\n      <td>72-19-5</td>\n      <td>L-Threonine</td>\n      <td>16857.0</td>\n      <td>Neonatal Intrahepatic Cholestasis caused by Ci...</td>\n    </tr>\n    <tr>\n      <th>4</th>\n      <td>[H]C([H])([H])SC([H])([H])C([H])([H])[C@@]([H]...</td>\n      <td>FFEARJCKVFRZRR-BYPYZUCNSA-N</td>\n      <td>InChI=1S/C5H11NO2S/c1-9-3-2-4(6)5(7)8/h4H,2-3,...</td>\n      <td>63-68-3</td>\n      <td>L-Methionine</td>\n      <td>16643.0</td>\n      <td>Hypermethioninemia</td>\n    </tr>\n  </tbody>\n</table>\n</div>"
     },
     "execution_count": 7,
     "metadata": {},
     "output_type": "execute_result"
    }
   ],
   "source": [
    "bio_m.head()"
   ],
   "metadata": {
    "collapsed": false
   }
  },
  {
   "cell_type": "code",
   "execution_count": 3,
   "outputs": [
    {
     "data": {
      "text/plain": "  casregistry_metabolite  cheblid_metabolite  \\\n0              2800-34-2             15637.0   \n1                    NaN                 NaN   \n2                    NaN                 NaN   \n3                    NaN                 NaN   \n4                    NaN                 NaN   \n\n                              description_metabolite  \\\n0  Human Metabolome Database (HMDB): 10-Formyltet...   \n1                                                NaN   \n2                                                NaN   \n3                                                NaN   \n4                                                NaN   \n\n                  fullName_metabolite hmdb_metabolite  \\\n0           10-Formyltetrahydrofolate     HMDB0000972   \n1  10-Formyltetrahydrofolate-[Glu](5)             NaN   \n2  10-Formyltetrahydrofolate-[Glu](6)             NaN   \n3  10-Formyltetrahydrofolate-[Glu](7)             NaN   \n4  10-methyl-3-hydroxy-dodecanoyl-ACP             NaN   \n\n           inchiKey_metabolite  \\\n0  AUFGTPPARQZWDO-YUZLPWPTSA-L   \n1  RGSLBOWMZCMTRA-UHFFFAOYSA-H   \n2  SFFBEUFYOPMKMV-CWMPVMSNSA-G   \n3  VTHHVZBTNSHUDD-UHFFFAOYSA-F   \n4                          NaN   \n\n                              inchiString_metabolite keggid_metabolite  \\\n0  InChI=1S/C20H23N7O7/c21-20-25-16-15(18(32)26-2...            C00234   \n1  InChI=1S/C40H51N11O19/c41-40-49-32-31(37(66)50...               NaN   \n2  InChI=1S/C45H58N12O22/c46-45-55-36-35(38(67)56...               NaN   \n3  InChI=1S/C50H65N13O25/c51-50-61-40-39(47(84)62...               NaN   \n4                                                NaN               NaN   \n\n  biocyc_metabolite food_db_metabolite reconmap3_metabolite  \\\n0     10-FORMYL-THF          FDB022345               10fthf   \n1               NaN                NaN           10fthf5glu   \n2               NaN                NaN           10fthf6glu   \n3               NaN                NaN           10fthf7glu   \n4               NaN                NaN                  NaN   \n\n                                    smile_metabolite  \n0  [H]OC1=NC(=NC2=C1N([H])C([H])(C([H])([H])N(C([...  \n1  [H]OC1=NC(=N[H])N([H])C2=C1N([H])C([H])(C([H])...  \n2  [H]OC(=O)C([H])(N=C([O-])C([H])([H])C([H])([H]...  \n3  [H]OC1=NC(=N[H])N([H])C2=C1N([H])C([H])(C([H])...  \n4                                                NaN  ",
      "text/html": "<div>\n<style scoped>\n    .dataframe tbody tr th:only-of-type {\n        vertical-align: middle;\n    }\n\n    .dataframe tbody tr th {\n        vertical-align: top;\n    }\n\n    .dataframe thead th {\n        text-align: right;\n    }\n</style>\n<table border=\"1\" class=\"dataframe\">\n  <thead>\n    <tr style=\"text-align: right;\">\n      <th></th>\n      <th>casregistry_metabolite</th>\n      <th>cheblid_metabolite</th>\n      <th>description_metabolite</th>\n      <th>fullName_metabolite</th>\n      <th>hmdb_metabolite</th>\n      <th>inchiKey_metabolite</th>\n      <th>inchiString_metabolite</th>\n      <th>keggid_metabolite</th>\n      <th>biocyc_metabolite</th>\n      <th>food_db_metabolite</th>\n      <th>reconmap3_metabolite</th>\n      <th>smile_metabolite</th>\n    </tr>\n  </thead>\n  <tbody>\n    <tr>\n      <th>0</th>\n      <td>2800-34-2</td>\n      <td>15637.0</td>\n      <td>Human Metabolome Database (HMDB): 10-Formyltet...</td>\n      <td>10-Formyltetrahydrofolate</td>\n      <td>HMDB0000972</td>\n      <td>AUFGTPPARQZWDO-YUZLPWPTSA-L</td>\n      <td>InChI=1S/C20H23N7O7/c21-20-25-16-15(18(32)26-2...</td>\n      <td>C00234</td>\n      <td>10-FORMYL-THF</td>\n      <td>FDB022345</td>\n      <td>10fthf</td>\n      <td>[H]OC1=NC(=NC2=C1N([H])C([H])(C([H])([H])N(C([...</td>\n    </tr>\n    <tr>\n      <th>1</th>\n      <td>NaN</td>\n      <td>NaN</td>\n      <td>NaN</td>\n      <td>10-Formyltetrahydrofolate-[Glu](5)</td>\n      <td>NaN</td>\n      <td>RGSLBOWMZCMTRA-UHFFFAOYSA-H</td>\n      <td>InChI=1S/C40H51N11O19/c41-40-49-32-31(37(66)50...</td>\n      <td>NaN</td>\n      <td>NaN</td>\n      <td>NaN</td>\n      <td>10fthf5glu</td>\n      <td>[H]OC1=NC(=N[H])N([H])C2=C1N([H])C([H])(C([H])...</td>\n    </tr>\n    <tr>\n      <th>2</th>\n      <td>NaN</td>\n      <td>NaN</td>\n      <td>NaN</td>\n      <td>10-Formyltetrahydrofolate-[Glu](6)</td>\n      <td>NaN</td>\n      <td>SFFBEUFYOPMKMV-CWMPVMSNSA-G</td>\n      <td>InChI=1S/C45H58N12O22/c46-45-55-36-35(38(67)56...</td>\n      <td>NaN</td>\n      <td>NaN</td>\n      <td>NaN</td>\n      <td>10fthf6glu</td>\n      <td>[H]OC(=O)C([H])(N=C([O-])C([H])([H])C([H])([H]...</td>\n    </tr>\n    <tr>\n      <th>3</th>\n      <td>NaN</td>\n      <td>NaN</td>\n      <td>NaN</td>\n      <td>10-Formyltetrahydrofolate-[Glu](7)</td>\n      <td>NaN</td>\n      <td>VTHHVZBTNSHUDD-UHFFFAOYSA-F</td>\n      <td>InChI=1S/C50H65N13O25/c51-50-61-40-39(47(84)62...</td>\n      <td>NaN</td>\n      <td>NaN</td>\n      <td>NaN</td>\n      <td>10fthf7glu</td>\n      <td>[H]OC1=NC(=N[H])N([H])C2=C1N([H])C([H])(C([H])...</td>\n    </tr>\n    <tr>\n      <th>4</th>\n      <td>NaN</td>\n      <td>NaN</td>\n      <td>NaN</td>\n      <td>10-methyl-3-hydroxy-dodecanoyl-ACP</td>\n      <td>NaN</td>\n      <td>NaN</td>\n      <td>NaN</td>\n      <td>NaN</td>\n      <td>NaN</td>\n      <td>NaN</td>\n      <td>NaN</td>\n      <td>NaN</td>\n    </tr>\n  </tbody>\n</table>\n</div>"
     },
     "execution_count": 3,
     "metadata": {},
     "output_type": "execute_result"
    }
   ],
   "source": [
    "metabo.head()"
   ],
   "metadata": {
    "collapsed": false
   }
  },
  {
   "cell_type": "code",
   "execution_count": 12,
   "outputs": [
    {
     "data": {
      "text/plain": "Empty DataFrame\nColumns: [casregistry_metabolite, cheblid_metabolite, description_metabolite, fullName_metabolite, hmdb_metabolite, inchiKey_metabolite, inchiString_metabolite, keggid_metabolite, biocyc_metabolite, food_db_metabolite, reconmap3_metabolite, smile_metabolite, smile_biomarker, inchikey_of_biomarker, inchistring_of_biomarker, casregistry_of_biomarker, fullname_of_biomarker, cheblid_of_biomarker, name_of_disease]\nIndex: []",
      "text/html": "<div>\n<style scoped>\n    .dataframe tbody tr th:only-of-type {\n        vertical-align: middle;\n    }\n\n    .dataframe tbody tr th {\n        vertical-align: top;\n    }\n\n    .dataframe thead th {\n        text-align: right;\n    }\n</style>\n<table border=\"1\" class=\"dataframe\">\n  <thead>\n    <tr style=\"text-align: right;\">\n      <th></th>\n      <th>casregistry_metabolite</th>\n      <th>cheblid_metabolite</th>\n      <th>description_metabolite</th>\n      <th>fullName_metabolite</th>\n      <th>hmdb_metabolite</th>\n      <th>inchiKey_metabolite</th>\n      <th>inchiString_metabolite</th>\n      <th>keggid_metabolite</th>\n      <th>biocyc_metabolite</th>\n      <th>food_db_metabolite</th>\n      <th>reconmap3_metabolite</th>\n      <th>smile_metabolite</th>\n      <th>smile_biomarker</th>\n      <th>inchikey_of_biomarker</th>\n      <th>inchistring_of_biomarker</th>\n      <th>casregistry_of_biomarker</th>\n      <th>fullname_of_biomarker</th>\n      <th>cheblid_of_biomarker</th>\n      <th>name_of_disease</th>\n    </tr>\n  </thead>\n  <tbody>\n  </tbody>\n</table>\n</div>"
     },
     "execution_count": 12,
     "metadata": {},
     "output_type": "execute_result"
    }
   ],
   "source": [
    "metabo.merge(bio_m,left_on='smile_metabolite',right_on='smile_biomarker',how='inner')"
   ],
   "metadata": {
    "collapsed": false
   }
  },
  {
   "cell_type": "code",
   "execution_count": null,
   "outputs": [],
   "source": [],
   "metadata": {
    "collapsed": false
   }
  }
 ],
 "metadata": {
  "kernelspec": {
   "display_name": "Python 3",
   "language": "python",
   "name": "python3"
  },
  "language_info": {
   "codemirror_mode": {
    "name": "ipython",
    "version": 2
   },
   "file_extension": ".py",
   "mimetype": "text/x-python",
   "name": "python",
   "nbconvert_exporter": "python",
   "pygments_lexer": "ipython2",
   "version": "2.7.6"
  }
 },
 "nbformat": 4,
 "nbformat_minor": 0
}
