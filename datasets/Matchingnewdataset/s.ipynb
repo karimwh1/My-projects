{
 "cells": [
  {
   "cell_type": "code",
   "execution_count": 1,
   "metadata": {
    "collapsed": true
   },
   "outputs": [],
   "source": [
    "from pprint import pprint\n",
    "import pandas as pd\n",
    "import json\n",
    "import ast\n",
    "import os"
   ]
  },
  {
   "cell_type": "code",
   "execution_count": 2,
   "outputs": [],
   "source": [
    "final_dataset = pd.read_csv('final_dataset.csv')"
   ],
   "metadata": {
    "collapsed": false
   }
  },
  {
   "cell_type": "code",
   "execution_count": 5,
   "outputs": [],
   "source": [
    "with open('markerdb_chemicals_api_query.txt','r',encoding=\"utf8\")as file:\n",
    "    data = ast.literal_eval(file.read())"
   ],
   "metadata": {
    "collapsed": false
   }
  },
  {
   "cell_type": "code",
   "execution_count": 6,
   "outputs": [
    {
     "data": {
      "text/plain": "list"
     },
     "execution_count": 6,
     "metadata": {},
     "output_type": "execute_result"
    }
   ],
   "source": [
    "type(data)"
   ],
   "metadata": {
    "collapsed": false
   }
  },
  {
   "cell_type": "code",
   "execution_count": 7,
   "outputs": [
    {
     "data": {
      "text/plain": "dict"
     },
     "execution_count": 7,
     "metadata": {},
     "output_type": "execute_result"
    }
   ],
   "source": [
    "type(data[0])"
   ],
   "metadata": {
    "collapsed": false
   }
  },
  {
   "cell_type": "code",
   "execution_count": 8,
   "outputs": [
    {
     "data": {
      "text/plain": "dict_keys(['compound', 'abnormal_concentration', 'normal_concentration'])"
     },
     "execution_count": 8,
     "metadata": {},
     "output_type": "execute_result"
    }
   ],
   "source": [
    "data[0].keys()"
   ],
   "metadata": {
    "collapsed": false
   }
  },
  {
   "cell_type": "code",
   "execution_count": 11,
   "outputs": [
    {
     "data": {
      "text/plain": "dict"
     },
     "execution_count": 11,
     "metadata": {},
     "output_type": "execute_result"
    }
   ],
   "source": [
    "type(data[0]['compound'])"
   ],
   "metadata": {
    "collapsed": false
   }
  },
  {
   "cell_type": "code",
   "execution_count": 13,
   "outputs": [
    {
     "data": {
      "text/plain": "dict_keys(['id', 'name', 'description', 'created_at', 'updated_at', 'source', 'molecule_type', 'hmdb', 'review_date', 'moldb_smiles', 'moldb_formula', 'moldb_inchi', 'moldb_inchikey', 'moldb_iupac', 'moldb_logp', 'moldb_pka', 'moldb_average_mass', 'moldb_mono_mass', 'moldb_alogps_solubility', 'moldb_alogps_logp', 'moldb_alogps_logs', 'moldb_acceptor_count', 'moldb_donor_count', 'moldb_rotatable_bond_count', 'moldb_polar_surface_area', 'moldb_refractivity', 'moldb_polarizability', 'moldb_traditional_iupac', 'moldb_formal_charge', 'moldb_physiological_charge', 'moldb_pka_strongest_basic', 'moldb_pka_strongest_acidic', 'moldb_bioavailability', 'moldb_number_of_rings', 'moldb_rule_of_five', 'moldb_ghose_filter', 'moldb_veber_rule', 'moldb_mddr_like_rule', 'exported', 'mdbid', 'panel_single', 'info_source', 'panel_marker_id'])"
     },
     "execution_count": 13,
     "metadata": {},
     "output_type": "execute_result"
    }
   ],
   "source": [
    "data[0]['compound'].keys()"
   ],
   "metadata": {
    "collapsed": false
   }
  },
  {
   "cell_type": "code",
   "execution_count": 14,
   "outputs": [],
   "source": [
    "compounds = [entry['compound']for entry in data]\n"
   ],
   "metadata": {
    "collapsed": false
   }
  },
  {
   "cell_type": "code",
   "execution_count": 15,
   "outputs": [],
   "source": [
    "df = pd.DataFrame(compounds)"
   ],
   "metadata": {
    "collapsed": false
   }
  },
  {
   "cell_type": "code",
   "execution_count": 16,
   "outputs": [
    {
     "name": "stdout",
     "output_type": "stream",
     "text": [
      "<class 'pandas.core.frame.DataFrame'>\n",
      "RangeIndex: 878 entries, 0 to 877\n",
      "Data columns (total 43 columns):\n",
      " #   Column                      Non-Null Count  Dtype \n",
      "---  ------                      --------------  ----- \n",
      " 0   id                          878 non-null    int64 \n",
      " 1   name                        878 non-null    object\n",
      " 2   description                 878 non-null    object\n",
      " 3   created_at                  2 non-null      object\n",
      " 4   updated_at                  878 non-null    object\n",
      " 5   source                      0 non-null      object\n",
      " 6   molecule_type               0 non-null      object\n",
      " 7   hmdb                        878 non-null    object\n",
      " 8   review_date                 0 non-null      object\n",
      " 9   moldb_smiles                878 non-null    object\n",
      " 10  moldb_formula               878 non-null    object\n",
      " 11  moldb_inchi                 878 non-null    object\n",
      " 12  moldb_inchikey              878 non-null    object\n",
      " 13  moldb_iupac                 876 non-null    object\n",
      " 14  moldb_logp                  875 non-null    object\n",
      " 15  moldb_pka                   353 non-null    object\n",
      " 16  moldb_average_mass          878 non-null    object\n",
      " 17  moldb_mono_mass             878 non-null    object\n",
      " 18  moldb_alogps_solubility     842 non-null    object\n",
      " 19  moldb_alogps_logp           842 non-null    object\n",
      " 20  moldb_alogps_logs           842 non-null    object\n",
      " 21  moldb_acceptor_count        876 non-null    object\n",
      " 22  moldb_donor_count           876 non-null    object\n",
      " 23  moldb_rotatable_bond_count  875 non-null    object\n",
      " 24  moldb_polar_surface_area    876 non-null    object\n",
      " 25  moldb_refractivity          875 non-null    object\n",
      " 26  moldb_polarizability        876 non-null    object\n",
      " 27  moldb_traditional_iupac     876 non-null    object\n",
      " 28  moldb_formal_charge         877 non-null    object\n",
      " 29  moldb_physiological_charge  876 non-null    object\n",
      " 30  moldb_pka_strongest_basic   789 non-null    object\n",
      " 31  moldb_pka_strongest_acidic  843 non-null    object\n",
      " 32  moldb_bioavailability       875 non-null    object\n",
      " 33  moldb_number_of_rings       875 non-null    object\n",
      " 34  moldb_rule_of_five          877 non-null    object\n",
      " 35  moldb_ghose_filter          877 non-null    object\n",
      " 36  moldb_veber_rule            875 non-null    object\n",
      " 37  moldb_mddr_like_rule        875 non-null    object\n",
      " 38  exported                    878 non-null    bool  \n",
      " 39  mdbid                       878 non-null    object\n",
      " 40  panel_single                878 non-null    object\n",
      " 41  info_source                 878 non-null    object\n",
      " 42  panel_marker_id             824 non-null    object\n",
      "dtypes: bool(1), int64(1), object(41)\n",
      "memory usage: 289.1+ KB\n"
     ]
    }
   ],
   "source": [
    "df.info()"
   ],
   "metadata": {
    "collapsed": false
   }
  },
  {
   "cell_type": "code",
   "execution_count": 18,
   "outputs": [
    {
     "data": {
      "text/plain": "   id                       name  \\\n0   1          1-Methylhistidine   \n1   2         1,3-Diaminopropane   \n2   4      2-Hydroxybutyric acid   \n3   5           2-Methoxyestrone   \n4   6  (R)-3-Hydroxybutyric acid   \n\n                                         description created_at  \\\n0  1-Methylhistidine, also known as 1-MHis or 1MH...       None   \n1  1,3-Diaminopropane, also known as trimethylene...       None   \n2  2-Hydroxybutyric acid (CAS: 600-15-7), also kn...       None   \n3  2-Methoxyestrone is a steroid derivative that ...       None   \n4  (R)-3-Hydroxybutyric acid is a butyric acid su...       None   \n\n                 updated_at source molecule_type         hmdb review_date  \\\n0  2022-04-24T04:40:33.000Z   None          None  HMDB0000001        None   \n1  2020-10-12T21:49:46.000Z   None          None  HMDB0000002        None   \n2  2022-04-24T04:40:34.000Z   None          None  HMDB0000008        None   \n3  2020-10-07T20:05:50.000Z   None          None  HMDB0000010        None   \n4  2020-11-05T15:09:55.000Z   None          None  HMDB0000011        None   \n\n                                        moldb_smiles  ...  \\\n0                        CN1C=NC(C[C@H](N)C(O)=O)=C1  ...   \n1                                              NCCCN  ...   \n2                                       CCC(O)C(O)=O  ...   \n3  [H][C@@]12CCC(=O)[C@@]1(C)CC[C@]1([H])C3=C(CC[...  ...   \n4                                  C[C@@H](O)CC(O)=O  ...   \n\n  moldb_number_of_rings moldb_rule_of_five moldb_ghose_filter  \\\n0                     1                  1                  0   \n1                     0                  1                  0   \n2                     0                  1                  0   \n3                     4                  1                  1   \n4                     0                  1                  0   \n\n  moldb_veber_rule moldb_mddr_like_rule exported        mdbid panel_single  \\\n0                0                    0     True  MDB00000001        panel   \n1                0                    0     True  MDB00000002        panel   \n2                0                    0     True  MDB00000004        panel   \n3                0                    0     True  MDB00000005       single   \n4                0                    0     True  MDB00000006        panel   \n\n                                         info_source  \\\n0  This text was researched, composed and written...   \n1  This text was researched, composed and written...   \n2  This text was researched, composed and written...   \n3  This text was researched, composed and written...   \n4  This text was researched, composed and written...   \n\n                                     panel_marker_id  \n0  5184,5199,5206,5236,5288,5291,5313,5338,5440,5441  \n1                                               5300  \n2                                     5338,5440,5497  \n3                                               None  \n4  5173,5179,5183,5199,5200,5212,5237,5269,5305,5...  \n\n[5 rows x 43 columns]",
      "text/html": "<div>\n<style scoped>\n    .dataframe tbody tr th:only-of-type {\n        vertical-align: middle;\n    }\n\n    .dataframe tbody tr th {\n        vertical-align: top;\n    }\n\n    .dataframe thead th {\n        text-align: right;\n    }\n</style>\n<table border=\"1\" class=\"dataframe\">\n  <thead>\n    <tr style=\"text-align: right;\">\n      <th></th>\n      <th>id</th>\n      <th>name</th>\n      <th>description</th>\n      <th>created_at</th>\n      <th>updated_at</th>\n      <th>source</th>\n      <th>molecule_type</th>\n      <th>hmdb</th>\n      <th>review_date</th>\n      <th>moldb_smiles</th>\n      <th>...</th>\n      <th>moldb_number_of_rings</th>\n      <th>moldb_rule_of_five</th>\n      <th>moldb_ghose_filter</th>\n      <th>moldb_veber_rule</th>\n      <th>moldb_mddr_like_rule</th>\n      <th>exported</th>\n      <th>mdbid</th>\n      <th>panel_single</th>\n      <th>info_source</th>\n      <th>panel_marker_id</th>\n    </tr>\n  </thead>\n  <tbody>\n    <tr>\n      <th>0</th>\n      <td>1</td>\n      <td>1-Methylhistidine</td>\n      <td>1-Methylhistidine, also known as 1-MHis or 1MH...</td>\n      <td>None</td>\n      <td>2022-04-24T04:40:33.000Z</td>\n      <td>None</td>\n      <td>None</td>\n      <td>HMDB0000001</td>\n      <td>None</td>\n      <td>CN1C=NC(C[C@H](N)C(O)=O)=C1</td>\n      <td>...</td>\n      <td>1</td>\n      <td>1</td>\n      <td>0</td>\n      <td>0</td>\n      <td>0</td>\n      <td>True</td>\n      <td>MDB00000001</td>\n      <td>panel</td>\n      <td>This text was researched, composed and written...</td>\n      <td>5184,5199,5206,5236,5288,5291,5313,5338,5440,5441</td>\n    </tr>\n    <tr>\n      <th>1</th>\n      <td>2</td>\n      <td>1,3-Diaminopropane</td>\n      <td>1,3-Diaminopropane, also known as trimethylene...</td>\n      <td>None</td>\n      <td>2020-10-12T21:49:46.000Z</td>\n      <td>None</td>\n      <td>None</td>\n      <td>HMDB0000002</td>\n      <td>None</td>\n      <td>NCCCN</td>\n      <td>...</td>\n      <td>0</td>\n      <td>1</td>\n      <td>0</td>\n      <td>0</td>\n      <td>0</td>\n      <td>True</td>\n      <td>MDB00000002</td>\n      <td>panel</td>\n      <td>This text was researched, composed and written...</td>\n      <td>5300</td>\n    </tr>\n    <tr>\n      <th>2</th>\n      <td>4</td>\n      <td>2-Hydroxybutyric acid</td>\n      <td>2-Hydroxybutyric acid (CAS: 600-15-7), also kn...</td>\n      <td>None</td>\n      <td>2022-04-24T04:40:34.000Z</td>\n      <td>None</td>\n      <td>None</td>\n      <td>HMDB0000008</td>\n      <td>None</td>\n      <td>CCC(O)C(O)=O</td>\n      <td>...</td>\n      <td>0</td>\n      <td>1</td>\n      <td>0</td>\n      <td>0</td>\n      <td>0</td>\n      <td>True</td>\n      <td>MDB00000004</td>\n      <td>panel</td>\n      <td>This text was researched, composed and written...</td>\n      <td>5338,5440,5497</td>\n    </tr>\n    <tr>\n      <th>3</th>\n      <td>5</td>\n      <td>2-Methoxyestrone</td>\n      <td>2-Methoxyestrone is a steroid derivative that ...</td>\n      <td>None</td>\n      <td>2020-10-07T20:05:50.000Z</td>\n      <td>None</td>\n      <td>None</td>\n      <td>HMDB0000010</td>\n      <td>None</td>\n      <td>[H][C@@]12CCC(=O)[C@@]1(C)CC[C@]1([H])C3=C(CC[...</td>\n      <td>...</td>\n      <td>4</td>\n      <td>1</td>\n      <td>1</td>\n      <td>0</td>\n      <td>0</td>\n      <td>True</td>\n      <td>MDB00000005</td>\n      <td>single</td>\n      <td>This text was researched, composed and written...</td>\n      <td>None</td>\n    </tr>\n    <tr>\n      <th>4</th>\n      <td>6</td>\n      <td>(R)-3-Hydroxybutyric acid</td>\n      <td>(R)-3-Hydroxybutyric acid is a butyric acid su...</td>\n      <td>None</td>\n      <td>2020-11-05T15:09:55.000Z</td>\n      <td>None</td>\n      <td>None</td>\n      <td>HMDB0000011</td>\n      <td>None</td>\n      <td>C[C@@H](O)CC(O)=O</td>\n      <td>...</td>\n      <td>0</td>\n      <td>1</td>\n      <td>0</td>\n      <td>0</td>\n      <td>0</td>\n      <td>True</td>\n      <td>MDB00000006</td>\n      <td>panel</td>\n      <td>This text was researched, composed and written...</td>\n      <td>5173,5179,5183,5199,5200,5212,5237,5269,5305,5...</td>\n    </tr>\n  </tbody>\n</table>\n<p>5 rows × 43 columns</p>\n</div>"
     },
     "execution_count": 18,
     "metadata": {},
     "output_type": "execute_result"
    }
   ],
   "source": [
    "df.head()"
   ],
   "metadata": {
    "collapsed": false
   }
  },
  {
   "cell_type": "code",
   "execution_count": 19,
   "outputs": [
    {
     "name": "stdout",
     "output_type": "stream",
     "text": [
      "<class 'pandas.core.frame.DataFrame'>\n",
      "RangeIndex: 878 entries, 0 to 877\n",
      "Data columns (total 43 columns):\n",
      " #   Column                      Non-Null Count  Dtype \n",
      "---  ------                      --------------  ----- \n",
      " 0   id                          878 non-null    int64 \n",
      " 1   name                        878 non-null    object\n",
      " 2   description                 878 non-null    object\n",
      " 3   created_at                  2 non-null      object\n",
      " 4   updated_at                  878 non-null    object\n",
      " 5   source                      0 non-null      object\n",
      " 6   molecule_type               0 non-null      object\n",
      " 7   hmdb                        878 non-null    object\n",
      " 8   review_date                 0 non-null      object\n",
      " 9   moldb_smiles                878 non-null    object\n",
      " 10  moldb_formula               878 non-null    object\n",
      " 11  moldb_inchi                 878 non-null    object\n",
      " 12  moldb_inchikey              878 non-null    object\n",
      " 13  moldb_iupac                 876 non-null    object\n",
      " 14  moldb_logp                  875 non-null    object\n",
      " 15  moldb_pka                   353 non-null    object\n",
      " 16  moldb_average_mass          878 non-null    object\n",
      " 17  moldb_mono_mass             878 non-null    object\n",
      " 18  moldb_alogps_solubility     842 non-null    object\n",
      " 19  moldb_alogps_logp           842 non-null    object\n",
      " 20  moldb_alogps_logs           842 non-null    object\n",
      " 21  moldb_acceptor_count        876 non-null    object\n",
      " 22  moldb_donor_count           876 non-null    object\n",
      " 23  moldb_rotatable_bond_count  875 non-null    object\n",
      " 24  moldb_polar_surface_area    876 non-null    object\n",
      " 25  moldb_refractivity          875 non-null    object\n",
      " 26  moldb_polarizability        876 non-null    object\n",
      " 27  moldb_traditional_iupac     876 non-null    object\n",
      " 28  moldb_formal_charge         877 non-null    object\n",
      " 29  moldb_physiological_charge  876 non-null    object\n",
      " 30  moldb_pka_strongest_basic   789 non-null    object\n",
      " 31  moldb_pka_strongest_acidic  843 non-null    object\n",
      " 32  moldb_bioavailability       875 non-null    object\n",
      " 33  moldb_number_of_rings       875 non-null    object\n",
      " 34  moldb_rule_of_five          877 non-null    object\n",
      " 35  moldb_ghose_filter          877 non-null    object\n",
      " 36  moldb_veber_rule            875 non-null    object\n",
      " 37  moldb_mddr_like_rule        875 non-null    object\n",
      " 38  exported                    878 non-null    bool  \n",
      " 39  mdbid                       878 non-null    object\n",
      " 40  panel_single                878 non-null    object\n",
      " 41  info_source                 878 non-null    object\n",
      " 42  panel_marker_id             824 non-null    object\n",
      "dtypes: bool(1), int64(1), object(41)\n",
      "memory usage: 289.1+ KB\n"
     ]
    }
   ],
   "source": [
    "df.info()"
   ],
   "metadata": {
    "collapsed": false
   }
  },
  {
   "cell_type": "code",
   "execution_count": 22,
   "outputs": [],
   "source": [
    "df.drop(columns={'created_at','updated_at','source','molecule_type','review_date','review_date','exported','info_source','panel_single','id'},inplace=True)"
   ],
   "metadata": {
    "collapsed": false
   }
  },
  {
   "cell_type": "code",
   "execution_count": 23,
   "outputs": [
    {
     "data": {
      "text/plain": "                        name  \\\n0          1-Methylhistidine   \n1         1,3-Diaminopropane   \n2      2-Hydroxybutyric acid   \n3           2-Methoxyestrone   \n4  (R)-3-Hydroxybutyric acid   \n\n                                         description         hmdb  \\\n0  1-Methylhistidine, also known as 1-MHis or 1MH...  HMDB0000001   \n1  1,3-Diaminopropane, also known as trimethylene...  HMDB0000002   \n2  2-Hydroxybutyric acid (CAS: 600-15-7), also kn...  HMDB0000008   \n3  2-Methoxyestrone is a steroid derivative that ...  HMDB0000010   \n4  (R)-3-Hydroxybutyric acid is a butyric acid su...  HMDB0000011   \n\n                                        moldb_smiles moldb_formula  \\\n0                        CN1C=NC(C[C@H](N)C(O)=O)=C1     C7H11N3O2   \n1                                              NCCCN       C3H10N2   \n2                                       CCC(O)C(O)=O        C4H8O3   \n3  [H][C@@]12CCC(=O)[C@@]1(C)CC[C@]1([H])C3=C(CC[...      C19H24O3   \n4                                  C[C@@H](O)CC(O)=O        C4H8O3   \n\n                                         moldb_inchi  \\\n0  1S/C7H11N3O2/c1-10-3-5(9-4-10)2-6(8)7(11)12/h3...   \n1                       1S/C3H10N2/c4-2-1-3-5/h1-5H2   \n2     1S/C4H8O3/c1-2-3(5)4(6)7/h3,5H,2H2,1H3,(H,6,7)   \n3  1S/C19H24O3/c1-19-8-7-12-13(15(19)5-6-18(19)21...   \n4  1S/C4H8O3/c1-3(5)2-4(6)7/h3,5H,2H2,1H3,(H,6,7)...   \n\n                moldb_inchikey  \\\n0  BRMWTNUJHUMWMS-LURJTMIESA-N   \n1  XFNJVJPLKCPIBV-UHFFFAOYSA-N   \n2  AFENDNXGAFYKQO-UHFFFAOYSA-N   \n3  WHEUWNKSCXYKBU-QPWUGHHJSA-N   \n4  WHBMMWSBFZVSSR-GSVOUGTGSA-N   \n\n                                         moldb_iupac            moldb_logp  \\\n0  2-amino-3-(1-methyl-1H-imidazol-4-yl)propanoic...   -3.0704187479965057   \n1                                propane-1,3-diamine          -1.362482935   \n2                        (2S)-2-hydroxybutanoic acid  0.050692876999999914   \n3  (1S,10R,11S,15S)-5-hydroxy-4-methoxy-15-methyl...     4.151357768333334   \n4                        (3R)-3-hydroxybutanoic acid  -0.38700599933333335   \n\n            moldb_pka  ... moldb_pka_strongest_basic  \\\n0                None  ...           9.2503166513801   \n1                None  ...        10.169241483553524   \n2  14.293154365104638  ...       -3.7935876935907205   \n3  19.957534419499726  ...       -4.8825219384223155   \n4  15.695695082377142  ...       -2.6205133689113183   \n\n  moldb_pka_strongest_acidic moldb_bioavailability moldb_number_of_rings  \\\n0         1.9645875066516765                     1                     1   \n1                       None                     1                     0   \n2          3.989998858113875                     1                     0   \n3         10.290800079568816                     1                     4   \n4          4.406291419798768                     1                     0   \n\n  moldb_rule_of_five moldb_ghose_filter moldb_veber_rule moldb_mddr_like_rule  \\\n0                  1                  0                0                    0   \n1                  1                  0                0                    0   \n2                  1                  0                0                    0   \n3                  1                  1                0                    0   \n4                  1                  0                0                    0   \n\n         mdbid                                    panel_marker_id  \n0  MDB00000001  5184,5199,5206,5236,5288,5291,5313,5338,5440,5441  \n1  MDB00000002                                               5300  \n2  MDB00000004                                     5338,5440,5497  \n3  MDB00000005                                               None  \n4  MDB00000006  5173,5179,5183,5199,5200,5212,5237,5269,5305,5...  \n\n[5 rows x 34 columns]",
      "text/html": "<div>\n<style scoped>\n    .dataframe tbody tr th:only-of-type {\n        vertical-align: middle;\n    }\n\n    .dataframe tbody tr th {\n        vertical-align: top;\n    }\n\n    .dataframe thead th {\n        text-align: right;\n    }\n</style>\n<table border=\"1\" class=\"dataframe\">\n  <thead>\n    <tr style=\"text-align: right;\">\n      <th></th>\n      <th>name</th>\n      <th>description</th>\n      <th>hmdb</th>\n      <th>moldb_smiles</th>\n      <th>moldb_formula</th>\n      <th>moldb_inchi</th>\n      <th>moldb_inchikey</th>\n      <th>moldb_iupac</th>\n      <th>moldb_logp</th>\n      <th>moldb_pka</th>\n      <th>...</th>\n      <th>moldb_pka_strongest_basic</th>\n      <th>moldb_pka_strongest_acidic</th>\n      <th>moldb_bioavailability</th>\n      <th>moldb_number_of_rings</th>\n      <th>moldb_rule_of_five</th>\n      <th>moldb_ghose_filter</th>\n      <th>moldb_veber_rule</th>\n      <th>moldb_mddr_like_rule</th>\n      <th>mdbid</th>\n      <th>panel_marker_id</th>\n    </tr>\n  </thead>\n  <tbody>\n    <tr>\n      <th>0</th>\n      <td>1-Methylhistidine</td>\n      <td>1-Methylhistidine, also known as 1-MHis or 1MH...</td>\n      <td>HMDB0000001</td>\n      <td>CN1C=NC(C[C@H](N)C(O)=O)=C1</td>\n      <td>C7H11N3O2</td>\n      <td>1S/C7H11N3O2/c1-10-3-5(9-4-10)2-6(8)7(11)12/h3...</td>\n      <td>BRMWTNUJHUMWMS-LURJTMIESA-N</td>\n      <td>2-amino-3-(1-methyl-1H-imidazol-4-yl)propanoic...</td>\n      <td>-3.0704187479965057</td>\n      <td>None</td>\n      <td>...</td>\n      <td>9.2503166513801</td>\n      <td>1.9645875066516765</td>\n      <td>1</td>\n      <td>1</td>\n      <td>1</td>\n      <td>0</td>\n      <td>0</td>\n      <td>0</td>\n      <td>MDB00000001</td>\n      <td>5184,5199,5206,5236,5288,5291,5313,5338,5440,5441</td>\n    </tr>\n    <tr>\n      <th>1</th>\n      <td>1,3-Diaminopropane</td>\n      <td>1,3-Diaminopropane, also known as trimethylene...</td>\n      <td>HMDB0000002</td>\n      <td>NCCCN</td>\n      <td>C3H10N2</td>\n      <td>1S/C3H10N2/c4-2-1-3-5/h1-5H2</td>\n      <td>XFNJVJPLKCPIBV-UHFFFAOYSA-N</td>\n      <td>propane-1,3-diamine</td>\n      <td>-1.362482935</td>\n      <td>None</td>\n      <td>...</td>\n      <td>10.169241483553524</td>\n      <td>None</td>\n      <td>1</td>\n      <td>0</td>\n      <td>1</td>\n      <td>0</td>\n      <td>0</td>\n      <td>0</td>\n      <td>MDB00000002</td>\n      <td>5300</td>\n    </tr>\n    <tr>\n      <th>2</th>\n      <td>2-Hydroxybutyric acid</td>\n      <td>2-Hydroxybutyric acid (CAS: 600-15-7), also kn...</td>\n      <td>HMDB0000008</td>\n      <td>CCC(O)C(O)=O</td>\n      <td>C4H8O3</td>\n      <td>1S/C4H8O3/c1-2-3(5)4(6)7/h3,5H,2H2,1H3,(H,6,7)</td>\n      <td>AFENDNXGAFYKQO-UHFFFAOYSA-N</td>\n      <td>(2S)-2-hydroxybutanoic acid</td>\n      <td>0.050692876999999914</td>\n      <td>14.293154365104638</td>\n      <td>...</td>\n      <td>-3.7935876935907205</td>\n      <td>3.989998858113875</td>\n      <td>1</td>\n      <td>0</td>\n      <td>1</td>\n      <td>0</td>\n      <td>0</td>\n      <td>0</td>\n      <td>MDB00000004</td>\n      <td>5338,5440,5497</td>\n    </tr>\n    <tr>\n      <th>3</th>\n      <td>2-Methoxyestrone</td>\n      <td>2-Methoxyestrone is a steroid derivative that ...</td>\n      <td>HMDB0000010</td>\n      <td>[H][C@@]12CCC(=O)[C@@]1(C)CC[C@]1([H])C3=C(CC[...</td>\n      <td>C19H24O3</td>\n      <td>1S/C19H24O3/c1-19-8-7-12-13(15(19)5-6-18(19)21...</td>\n      <td>WHEUWNKSCXYKBU-QPWUGHHJSA-N</td>\n      <td>(1S,10R,11S,15S)-5-hydroxy-4-methoxy-15-methyl...</td>\n      <td>4.151357768333334</td>\n      <td>19.957534419499726</td>\n      <td>...</td>\n      <td>-4.8825219384223155</td>\n      <td>10.290800079568816</td>\n      <td>1</td>\n      <td>4</td>\n      <td>1</td>\n      <td>1</td>\n      <td>0</td>\n      <td>0</td>\n      <td>MDB00000005</td>\n      <td>None</td>\n    </tr>\n    <tr>\n      <th>4</th>\n      <td>(R)-3-Hydroxybutyric acid</td>\n      <td>(R)-3-Hydroxybutyric acid is a butyric acid su...</td>\n      <td>HMDB0000011</td>\n      <td>C[C@@H](O)CC(O)=O</td>\n      <td>C4H8O3</td>\n      <td>1S/C4H8O3/c1-3(5)2-4(6)7/h3,5H,2H2,1H3,(H,6,7)...</td>\n      <td>WHBMMWSBFZVSSR-GSVOUGTGSA-N</td>\n      <td>(3R)-3-hydroxybutanoic acid</td>\n      <td>-0.38700599933333335</td>\n      <td>15.695695082377142</td>\n      <td>...</td>\n      <td>-2.6205133689113183</td>\n      <td>4.406291419798768</td>\n      <td>1</td>\n      <td>0</td>\n      <td>1</td>\n      <td>0</td>\n      <td>0</td>\n      <td>0</td>\n      <td>MDB00000006</td>\n      <td>5173,5179,5183,5199,5200,5212,5237,5269,5305,5...</td>\n    </tr>\n  </tbody>\n</table>\n<p>5 rows × 34 columns</p>\n</div>"
     },
     "execution_count": 23,
     "metadata": {},
     "output_type": "execute_result"
    }
   ],
   "source": [
    "df.head()"
   ],
   "metadata": {
    "collapsed": false
   }
  },
  {
   "cell_type": "code",
   "execution_count": 25,
   "outputs": [],
   "source": [
    "df.to_csv('marker_db.csv',index_label=False)"
   ],
   "metadata": {
    "collapsed": false
   }
  },
  {
   "cell_type": "code",
   "execution_count": 2,
   "outputs": [],
   "source": [
    "dh = pd.read_csv('marker_db.csv')"
   ],
   "metadata": {
    "collapsed": false
   }
  },
  {
   "cell_type": "code",
   "execution_count": 3,
   "outputs": [
    {
     "data": {
      "text/plain": "                        name  \\\n0          1-Methylhistidine   \n1         1,3-Diaminopropane   \n2      2-Hydroxybutyric acid   \n3           2-Methoxyestrone   \n4  (R)-3-Hydroxybutyric acid   \n\n                                         description         hmdb  \\\n0  1-Methylhistidine, also known as 1-MHis or 1MH...  HMDB0000001   \n1  1,3-Diaminopropane, also known as trimethylene...  HMDB0000002   \n2  2-Hydroxybutyric acid (CAS: 600-15-7), also kn...  HMDB0000008   \n3  2-Methoxyestrone is a steroid derivative that ...  HMDB0000010   \n4  (R)-3-Hydroxybutyric acid is a butyric acid su...  HMDB0000011   \n\n                                        moldb_smiles moldb_formula  \\\n0                        CN1C=NC(C[C@H](N)C(O)=O)=C1     C7H11N3O2   \n1                                              NCCCN       C3H10N2   \n2                                       CCC(O)C(O)=O        C4H8O3   \n3  [H][C@@]12CCC(=O)[C@@]1(C)CC[C@]1([H])C3=C(CC[...      C19H24O3   \n4                                  C[C@@H](O)CC(O)=O        C4H8O3   \n\n                                         moldb_inchi  \\\n0  1S/C7H11N3O2/c1-10-3-5(9-4-10)2-6(8)7(11)12/h3...   \n1                       1S/C3H10N2/c4-2-1-3-5/h1-5H2   \n2     1S/C4H8O3/c1-2-3(5)4(6)7/h3,5H,2H2,1H3,(H,6,7)   \n3  1S/C19H24O3/c1-19-8-7-12-13(15(19)5-6-18(19)21...   \n4  1S/C4H8O3/c1-3(5)2-4(6)7/h3,5H,2H2,1H3,(H,6,7)...   \n\n                moldb_inchikey  \\\n0  BRMWTNUJHUMWMS-LURJTMIESA-N   \n1  XFNJVJPLKCPIBV-UHFFFAOYSA-N   \n2  AFENDNXGAFYKQO-UHFFFAOYSA-N   \n3  WHEUWNKSCXYKBU-QPWUGHHJSA-N   \n4  WHBMMWSBFZVSSR-GSVOUGTGSA-N   \n\n                                         moldb_iupac  moldb_logp  moldb_pka  \\\n0  2-amino-3-(1-methyl-1H-imidazol-4-yl)propanoic...   -3.070419        NaN   \n1                                propane-1,3-diamine   -1.362483        NaN   \n2                        (2S)-2-hydroxybutanoic acid    0.050693  14.293154   \n3  (1S,10R,11S,15S)-5-hydroxy-4-methoxy-15-methyl...    4.151358  19.957534   \n4                        (3R)-3-hydroxybutanoic acid   -0.387006  15.695695   \n\n   ...  moldb_pka_strongest_basic  moldb_pka_strongest_acidic  \\\n0  ...                   9.250317                    1.964588   \n1  ...                  10.169241                         NaN   \n2  ...                  -3.793588                    3.989999   \n3  ...                  -4.882522                   10.290800   \n4  ...                  -2.620513                    4.406291   \n\n  moldb_bioavailability  moldb_number_of_rings  moldb_rule_of_five  \\\n0                   1.0                    1.0                 1.0   \n1                   1.0                    0.0                 1.0   \n2                   1.0                    0.0                 1.0   \n3                   1.0                    4.0                 1.0   \n4                   1.0                    0.0                 1.0   \n\n   moldb_ghose_filter  moldb_veber_rule  moldb_mddr_like_rule        mdbid  \\\n0                 0.0               0.0                   0.0  MDB00000001   \n1                 0.0               0.0                   0.0  MDB00000002   \n2                 0.0               0.0                   0.0  MDB00000004   \n3                 1.0               0.0                   0.0  MDB00000005   \n4                 0.0               0.0                   0.0  MDB00000006   \n\n                                     panel_marker_id  \n0  5184,5199,5206,5236,5288,5291,5313,5338,5440,5441  \n1                                               5300  \n2                                     5338,5440,5497  \n3                                                NaN  \n4  5173,5179,5183,5199,5200,5212,5237,5269,5305,5...  \n\n[5 rows x 34 columns]",
      "text/html": "<div>\n<style scoped>\n    .dataframe tbody tr th:only-of-type {\n        vertical-align: middle;\n    }\n\n    .dataframe tbody tr th {\n        vertical-align: top;\n    }\n\n    .dataframe thead th {\n        text-align: right;\n    }\n</style>\n<table border=\"1\" class=\"dataframe\">\n  <thead>\n    <tr style=\"text-align: right;\">\n      <th></th>\n      <th>name</th>\n      <th>description</th>\n      <th>hmdb</th>\n      <th>moldb_smiles</th>\n      <th>moldb_formula</th>\n      <th>moldb_inchi</th>\n      <th>moldb_inchikey</th>\n      <th>moldb_iupac</th>\n      <th>moldb_logp</th>\n      <th>moldb_pka</th>\n      <th>...</th>\n      <th>moldb_pka_strongest_basic</th>\n      <th>moldb_pka_strongest_acidic</th>\n      <th>moldb_bioavailability</th>\n      <th>moldb_number_of_rings</th>\n      <th>moldb_rule_of_five</th>\n      <th>moldb_ghose_filter</th>\n      <th>moldb_veber_rule</th>\n      <th>moldb_mddr_like_rule</th>\n      <th>mdbid</th>\n      <th>panel_marker_id</th>\n    </tr>\n  </thead>\n  <tbody>\n    <tr>\n      <th>0</th>\n      <td>1-Methylhistidine</td>\n      <td>1-Methylhistidine, also known as 1-MHis or 1MH...</td>\n      <td>HMDB0000001</td>\n      <td>CN1C=NC(C[C@H](N)C(O)=O)=C1</td>\n      <td>C7H11N3O2</td>\n      <td>1S/C7H11N3O2/c1-10-3-5(9-4-10)2-6(8)7(11)12/h3...</td>\n      <td>BRMWTNUJHUMWMS-LURJTMIESA-N</td>\n      <td>2-amino-3-(1-methyl-1H-imidazol-4-yl)propanoic...</td>\n      <td>-3.070419</td>\n      <td>NaN</td>\n      <td>...</td>\n      <td>9.250317</td>\n      <td>1.964588</td>\n      <td>1.0</td>\n      <td>1.0</td>\n      <td>1.0</td>\n      <td>0.0</td>\n      <td>0.0</td>\n      <td>0.0</td>\n      <td>MDB00000001</td>\n      <td>5184,5199,5206,5236,5288,5291,5313,5338,5440,5441</td>\n    </tr>\n    <tr>\n      <th>1</th>\n      <td>1,3-Diaminopropane</td>\n      <td>1,3-Diaminopropane, also known as trimethylene...</td>\n      <td>HMDB0000002</td>\n      <td>NCCCN</td>\n      <td>C3H10N2</td>\n      <td>1S/C3H10N2/c4-2-1-3-5/h1-5H2</td>\n      <td>XFNJVJPLKCPIBV-UHFFFAOYSA-N</td>\n      <td>propane-1,3-diamine</td>\n      <td>-1.362483</td>\n      <td>NaN</td>\n      <td>...</td>\n      <td>10.169241</td>\n      <td>NaN</td>\n      <td>1.0</td>\n      <td>0.0</td>\n      <td>1.0</td>\n      <td>0.0</td>\n      <td>0.0</td>\n      <td>0.0</td>\n      <td>MDB00000002</td>\n      <td>5300</td>\n    </tr>\n    <tr>\n      <th>2</th>\n      <td>2-Hydroxybutyric acid</td>\n      <td>2-Hydroxybutyric acid (CAS: 600-15-7), also kn...</td>\n      <td>HMDB0000008</td>\n      <td>CCC(O)C(O)=O</td>\n      <td>C4H8O3</td>\n      <td>1S/C4H8O3/c1-2-3(5)4(6)7/h3,5H,2H2,1H3,(H,6,7)</td>\n      <td>AFENDNXGAFYKQO-UHFFFAOYSA-N</td>\n      <td>(2S)-2-hydroxybutanoic acid</td>\n      <td>0.050693</td>\n      <td>14.293154</td>\n      <td>...</td>\n      <td>-3.793588</td>\n      <td>3.989999</td>\n      <td>1.0</td>\n      <td>0.0</td>\n      <td>1.0</td>\n      <td>0.0</td>\n      <td>0.0</td>\n      <td>0.0</td>\n      <td>MDB00000004</td>\n      <td>5338,5440,5497</td>\n    </tr>\n    <tr>\n      <th>3</th>\n      <td>2-Methoxyestrone</td>\n      <td>2-Methoxyestrone is a steroid derivative that ...</td>\n      <td>HMDB0000010</td>\n      <td>[H][C@@]12CCC(=O)[C@@]1(C)CC[C@]1([H])C3=C(CC[...</td>\n      <td>C19H24O3</td>\n      <td>1S/C19H24O3/c1-19-8-7-12-13(15(19)5-6-18(19)21...</td>\n      <td>WHEUWNKSCXYKBU-QPWUGHHJSA-N</td>\n      <td>(1S,10R,11S,15S)-5-hydroxy-4-methoxy-15-methyl...</td>\n      <td>4.151358</td>\n      <td>19.957534</td>\n      <td>...</td>\n      <td>-4.882522</td>\n      <td>10.290800</td>\n      <td>1.0</td>\n      <td>4.0</td>\n      <td>1.0</td>\n      <td>1.0</td>\n      <td>0.0</td>\n      <td>0.0</td>\n      <td>MDB00000005</td>\n      <td>NaN</td>\n    </tr>\n    <tr>\n      <th>4</th>\n      <td>(R)-3-Hydroxybutyric acid</td>\n      <td>(R)-3-Hydroxybutyric acid is a butyric acid su...</td>\n      <td>HMDB0000011</td>\n      <td>C[C@@H](O)CC(O)=O</td>\n      <td>C4H8O3</td>\n      <td>1S/C4H8O3/c1-3(5)2-4(6)7/h3,5H,2H2,1H3,(H,6,7)...</td>\n      <td>WHBMMWSBFZVSSR-GSVOUGTGSA-N</td>\n      <td>(3R)-3-hydroxybutanoic acid</td>\n      <td>-0.387006</td>\n      <td>15.695695</td>\n      <td>...</td>\n      <td>-2.620513</td>\n      <td>4.406291</td>\n      <td>1.0</td>\n      <td>0.0</td>\n      <td>1.0</td>\n      <td>0.0</td>\n      <td>0.0</td>\n      <td>0.0</td>\n      <td>MDB00000006</td>\n      <td>5173,5179,5183,5199,5200,5212,5237,5269,5305,5...</td>\n    </tr>\n  </tbody>\n</table>\n<p>5 rows × 34 columns</p>\n</div>"
     },
     "execution_count": 3,
     "metadata": {},
     "output_type": "execute_result"
    }
   ],
   "source": [
    "dh.head()"
   ],
   "metadata": {
    "collapsed": false
   }
  },
  {
   "cell_type": "code",
   "execution_count": 4,
   "outputs": [
    {
     "name": "stdout",
     "output_type": "stream",
     "text": [
      "<class 'pandas.core.frame.DataFrame'>\n",
      "Int64Index: 878 entries, 0 to 877\n",
      "Data columns (total 34 columns):\n",
      " #   Column                      Non-Null Count  Dtype  \n",
      "---  ------                      --------------  -----  \n",
      " 0   name                        878 non-null    object \n",
      " 1   description                 878 non-null    object \n",
      " 2   hmdb                        878 non-null    object \n",
      " 3   moldb_smiles                878 non-null    object \n",
      " 4   moldb_formula               878 non-null    object \n",
      " 5   moldb_inchi                 878 non-null    object \n",
      " 6   moldb_inchikey              878 non-null    object \n",
      " 7   moldb_iupac                 876 non-null    object \n",
      " 8   moldb_logp                  875 non-null    float64\n",
      " 9   moldb_pka                   353 non-null    float64\n",
      " 10  moldb_average_mass          878 non-null    float64\n",
      " 11  moldb_mono_mass             878 non-null    float64\n",
      " 12  moldb_alogps_solubility     842 non-null    object \n",
      " 13  moldb_alogps_logp           842 non-null    float64\n",
      " 14  moldb_alogps_logs           842 non-null    float64\n",
      " 15  moldb_acceptor_count        876 non-null    float64\n",
      " 16  moldb_donor_count           876 non-null    float64\n",
      " 17  moldb_rotatable_bond_count  875 non-null    float64\n",
      " 18  moldb_polar_surface_area    876 non-null    float64\n",
      " 19  moldb_refractivity          875 non-null    float64\n",
      " 20  moldb_polarizability        876 non-null    float64\n",
      " 21  moldb_traditional_iupac     876 non-null    object \n",
      " 22  moldb_formal_charge         877 non-null    float64\n",
      " 23  moldb_physiological_charge  876 non-null    float64\n",
      " 24  moldb_pka_strongest_basic   789 non-null    float64\n",
      " 25  moldb_pka_strongest_acidic  843 non-null    float64\n",
      " 26  moldb_bioavailability       875 non-null    float64\n",
      " 27  moldb_number_of_rings       875 non-null    float64\n",
      " 28  moldb_rule_of_five          877 non-null    float64\n",
      " 29  moldb_ghose_filter          877 non-null    float64\n",
      " 30  moldb_veber_rule            875 non-null    float64\n",
      " 31  moldb_mddr_like_rule        875 non-null    float64\n",
      " 32  mdbid                       878 non-null    object \n",
      " 33  panel_marker_id             824 non-null    object \n",
      "dtypes: float64(22), object(12)\n",
      "memory usage: 240.1+ KB\n"
     ]
    }
   ],
   "source": [
    "dh.info()"
   ],
   "metadata": {
    "collapsed": false
   }
  },
  {
   "cell_type": "code",
   "execution_count": null,
   "outputs": [],
   "source": [],
   "metadata": {
    "collapsed": false
   }
  }
 ],
 "metadata": {
  "kernelspec": {
   "display_name": "Python 3",
   "language": "python",
   "name": "python3"
  },
  "language_info": {
   "codemirror_mode": {
    "name": "ipython",
    "version": 2
   },
   "file_extension": ".py",
   "mimetype": "text/x-python",
   "name": "python",
   "nbconvert_exporter": "python",
   "pygments_lexer": "ipython2",
   "version": "2.7.6"
  }
 },
 "nbformat": 4,
 "nbformat_minor": 0
}
