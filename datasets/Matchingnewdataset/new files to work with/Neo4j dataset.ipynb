{
 "cells": [
  {
   "cell_type": "code",
   "execution_count": 1,
   "metadata": {
    "collapsed": true
   },
   "outputs": [],
   "source": [
    "import pandas as pd"
   ]
  },
  {
   "cell_type": "code",
   "execution_count": 2,
   "outputs": [],
   "source": [
    "marker = pd.read_csv('marker_db.csv')\n",
    "disease = pd.read_csv('markerdb_f.csv')\n",
    "final = pd.read_csv('final_dataset.csv')\n",
    "merge = pd.read_csv('final_merge.csv')\n",
    "merge_1 = pd.read_csv('final_merge_1.csv')\n",
    "marker_final = pd.read_csv('final_marker.csv')"
   ],
   "metadata": {
    "collapsed": false
   }
  },
  {
   "cell_type": "code",
   "execution_count": 3,
   "outputs": [
    {
     "data": {
      "text/plain": "                        name  \\\n0          1-Methylhistidine   \n1         1,3-Diaminopropane   \n2      2-Hydroxybutyric acid   \n3           2-Methoxyestrone   \n4  (R)-3-Hydroxybutyric acid   \n\n                                         description         hmdb  \\\n0  1-Methylhistidine, also known as 1-MHis or 1MH...  HMDB0000001   \n1  1,3-Diaminopropane, also known as trimethylene...  HMDB0000002   \n2  2-Hydroxybutyric acid (CAS: 600-15-7), also kn...  HMDB0000008   \n3  2-Methoxyestrone is a steroid derivative that ...  HMDB0000010   \n4  (R)-3-Hydroxybutyric acid is a butyric acid su...  HMDB0000011   \n\n                                        moldb_smiles moldb_formula  \\\n0                        CN1C=NC(C[C@H](N)C(O)=O)=C1     C7H11N3O2   \n1                                              NCCCN       C3H10N2   \n2                                       CCC(O)C(O)=O        C4H8O3   \n3  [H][C@@]12CCC(=O)[C@@]1(C)CC[C@]1([H])C3=C(CC[...      C19H24O3   \n4                                  C[C@@H](O)CC(O)=O        C4H8O3   \n\n                                         moldb_inchi  \\\n0  1S/C7H11N3O2/c1-10-3-5(9-4-10)2-6(8)7(11)12/h3...   \n1                       1S/C3H10N2/c4-2-1-3-5/h1-5H2   \n2     1S/C4H8O3/c1-2-3(5)4(6)7/h3,5H,2H2,1H3,(H,6,7)   \n3  1S/C19H24O3/c1-19-8-7-12-13(15(19)5-6-18(19)21...   \n4  1S/C4H8O3/c1-3(5)2-4(6)7/h3,5H,2H2,1H3,(H,6,7)...   \n\n                moldb_inchikey  \\\n0  BRMWTNUJHUMWMS-LURJTMIESA-N   \n1  XFNJVJPLKCPIBV-UHFFFAOYSA-N   \n2  AFENDNXGAFYKQO-UHFFFAOYSA-N   \n3  WHEUWNKSCXYKBU-QPWUGHHJSA-N   \n4  WHBMMWSBFZVSSR-GSVOUGTGSA-N   \n\n                                         moldb_iupac  moldb_logp  moldb_pka  \\\n0  2-amino-3-(1-methyl-1H-imidazol-4-yl)propanoic...   -3.070419        NaN   \n1                                propane-1,3-diamine   -1.362483        NaN   \n2                        (2S)-2-hydroxybutanoic acid    0.050693  14.293154   \n3  (1S,10R,11S,15S)-5-hydroxy-4-methoxy-15-methyl...    4.151358  19.957534   \n4                        (3R)-3-hydroxybutanoic acid   -0.387006  15.695695   \n\n   ...  moldb_pka_strongest_basic  moldb_pka_strongest_acidic  \\\n0  ...                   9.250317                    1.964588   \n1  ...                  10.169241                         NaN   \n2  ...                  -3.793588                    3.989999   \n3  ...                  -4.882522                   10.290800   \n4  ...                  -2.620513                    4.406291   \n\n  moldb_bioavailability  moldb_number_of_rings  moldb_rule_of_five  \\\n0                   1.0                    1.0                 1.0   \n1                   1.0                    0.0                 1.0   \n2                   1.0                    0.0                 1.0   \n3                   1.0                    4.0                 1.0   \n4                   1.0                    0.0                 1.0   \n\n   moldb_ghose_filter  moldb_veber_rule  moldb_mddr_like_rule        mdbid  \\\n0                 0.0               0.0                   0.0  MDB00000001   \n1                 0.0               0.0                   0.0  MDB00000002   \n2                 0.0               0.0                   0.0  MDB00000004   \n3                 1.0               0.0                   0.0  MDB00000005   \n4                 0.0               0.0                   0.0  MDB00000006   \n\n                                     panel_marker_id  \n0  5184,5199,5206,5236,5288,5291,5313,5338,5440,5441  \n1                                               5300  \n2                                     5338,5440,5497  \n3                                                NaN  \n4  5173,5179,5183,5199,5200,5212,5237,5269,5305,5...  \n\n[5 rows x 34 columns]",
      "text/html": "<div>\n<style scoped>\n    .dataframe tbody tr th:only-of-type {\n        vertical-align: middle;\n    }\n\n    .dataframe tbody tr th {\n        vertical-align: top;\n    }\n\n    .dataframe thead th {\n        text-align: right;\n    }\n</style>\n<table border=\"1\" class=\"dataframe\">\n  <thead>\n    <tr style=\"text-align: right;\">\n      <th></th>\n      <th>name</th>\n      <th>description</th>\n      <th>hmdb</th>\n      <th>moldb_smiles</th>\n      <th>moldb_formula</th>\n      <th>moldb_inchi</th>\n      <th>moldb_inchikey</th>\n      <th>moldb_iupac</th>\n      <th>moldb_logp</th>\n      <th>moldb_pka</th>\n      <th>...</th>\n      <th>moldb_pka_strongest_basic</th>\n      <th>moldb_pka_strongest_acidic</th>\n      <th>moldb_bioavailability</th>\n      <th>moldb_number_of_rings</th>\n      <th>moldb_rule_of_five</th>\n      <th>moldb_ghose_filter</th>\n      <th>moldb_veber_rule</th>\n      <th>moldb_mddr_like_rule</th>\n      <th>mdbid</th>\n      <th>panel_marker_id</th>\n    </tr>\n  </thead>\n  <tbody>\n    <tr>\n      <th>0</th>\n      <td>1-Methylhistidine</td>\n      <td>1-Methylhistidine, also known as 1-MHis or 1MH...</td>\n      <td>HMDB0000001</td>\n      <td>CN1C=NC(C[C@H](N)C(O)=O)=C1</td>\n      <td>C7H11N3O2</td>\n      <td>1S/C7H11N3O2/c1-10-3-5(9-4-10)2-6(8)7(11)12/h3...</td>\n      <td>BRMWTNUJHUMWMS-LURJTMIESA-N</td>\n      <td>2-amino-3-(1-methyl-1H-imidazol-4-yl)propanoic...</td>\n      <td>-3.070419</td>\n      <td>NaN</td>\n      <td>...</td>\n      <td>9.250317</td>\n      <td>1.964588</td>\n      <td>1.0</td>\n      <td>1.0</td>\n      <td>1.0</td>\n      <td>0.0</td>\n      <td>0.0</td>\n      <td>0.0</td>\n      <td>MDB00000001</td>\n      <td>5184,5199,5206,5236,5288,5291,5313,5338,5440,5441</td>\n    </tr>\n    <tr>\n      <th>1</th>\n      <td>1,3-Diaminopropane</td>\n      <td>1,3-Diaminopropane, also known as trimethylene...</td>\n      <td>HMDB0000002</td>\n      <td>NCCCN</td>\n      <td>C3H10N2</td>\n      <td>1S/C3H10N2/c4-2-1-3-5/h1-5H2</td>\n      <td>XFNJVJPLKCPIBV-UHFFFAOYSA-N</td>\n      <td>propane-1,3-diamine</td>\n      <td>-1.362483</td>\n      <td>NaN</td>\n      <td>...</td>\n      <td>10.169241</td>\n      <td>NaN</td>\n      <td>1.0</td>\n      <td>0.0</td>\n      <td>1.0</td>\n      <td>0.0</td>\n      <td>0.0</td>\n      <td>0.0</td>\n      <td>MDB00000002</td>\n      <td>5300</td>\n    </tr>\n    <tr>\n      <th>2</th>\n      <td>2-Hydroxybutyric acid</td>\n      <td>2-Hydroxybutyric acid (CAS: 600-15-7), also kn...</td>\n      <td>HMDB0000008</td>\n      <td>CCC(O)C(O)=O</td>\n      <td>C4H8O3</td>\n      <td>1S/C4H8O3/c1-2-3(5)4(6)7/h3,5H,2H2,1H3,(H,6,7)</td>\n      <td>AFENDNXGAFYKQO-UHFFFAOYSA-N</td>\n      <td>(2S)-2-hydroxybutanoic acid</td>\n      <td>0.050693</td>\n      <td>14.293154</td>\n      <td>...</td>\n      <td>-3.793588</td>\n      <td>3.989999</td>\n      <td>1.0</td>\n      <td>0.0</td>\n      <td>1.0</td>\n      <td>0.0</td>\n      <td>0.0</td>\n      <td>0.0</td>\n      <td>MDB00000004</td>\n      <td>5338,5440,5497</td>\n    </tr>\n    <tr>\n      <th>3</th>\n      <td>2-Methoxyestrone</td>\n      <td>2-Methoxyestrone is a steroid derivative that ...</td>\n      <td>HMDB0000010</td>\n      <td>[H][C@@]12CCC(=O)[C@@]1(C)CC[C@]1([H])C3=C(CC[...</td>\n      <td>C19H24O3</td>\n      <td>1S/C19H24O3/c1-19-8-7-12-13(15(19)5-6-18(19)21...</td>\n      <td>WHEUWNKSCXYKBU-QPWUGHHJSA-N</td>\n      <td>(1S,10R,11S,15S)-5-hydroxy-4-methoxy-15-methyl...</td>\n      <td>4.151358</td>\n      <td>19.957534</td>\n      <td>...</td>\n      <td>-4.882522</td>\n      <td>10.290800</td>\n      <td>1.0</td>\n      <td>4.0</td>\n      <td>1.0</td>\n      <td>1.0</td>\n      <td>0.0</td>\n      <td>0.0</td>\n      <td>MDB00000005</td>\n      <td>NaN</td>\n    </tr>\n    <tr>\n      <th>4</th>\n      <td>(R)-3-Hydroxybutyric acid</td>\n      <td>(R)-3-Hydroxybutyric acid is a butyric acid su...</td>\n      <td>HMDB0000011</td>\n      <td>C[C@@H](O)CC(O)=O</td>\n      <td>C4H8O3</td>\n      <td>1S/C4H8O3/c1-3(5)2-4(6)7/h3,5H,2H2,1H3,(H,6,7)...</td>\n      <td>WHBMMWSBFZVSSR-GSVOUGTGSA-N</td>\n      <td>(3R)-3-hydroxybutanoic acid</td>\n      <td>-0.387006</td>\n      <td>15.695695</td>\n      <td>...</td>\n      <td>-2.620513</td>\n      <td>4.406291</td>\n      <td>1.0</td>\n      <td>0.0</td>\n      <td>1.0</td>\n      <td>0.0</td>\n      <td>0.0</td>\n      <td>0.0</td>\n      <td>MDB00000006</td>\n      <td>5173,5179,5183,5199,5200,5212,5237,5269,5305,5...</td>\n    </tr>\n  </tbody>\n</table>\n<p>5 rows × 34 columns</p>\n</div>"
     },
     "execution_count": 3,
     "metadata": {},
     "output_type": "execute_result"
    }
   ],
   "source": [
    "marker.head()"
   ],
   "metadata": {
    "collapsed": false
   }
  },
  {
   "cell_type": "code",
   "execution_count": 4,
   "outputs": [],
   "source": [
    "marker_final = marker_final.reset_index(drop=True)"
   ],
   "metadata": {
    "collapsed": false
   }
  },
  {
   "cell_type": "code",
   "execution_count": 5,
   "outputs": [
    {
     "data": {
      "text/plain": "                             name  chebi_id        mdbid  \\\n0           7a-Hydroxycholesterol      1296  MDB00000633   \n1           2-Hydroxybutyric acid     64552  MDB00000004   \n2  Ortho-Hydroxyphenylacetic acid     62423  MDB00000353   \n3    (S)-3-Hydroxyisobutyric acid     62638  MDB00000016   \n4           5-Aminolevulinic acid    356416  MDB00000539   \n\n                             disease  markerdb_id   Gender location  \\\n0                          Cirrhosis          545     Both    Blood   \n1  Pyruvate Dehydrogenase Deficiency       367359     Both    Urine   \n2                    Phenylketonuria         1530     Both    Urine   \n3           Diabetes Mellitus Type 2          687     Both    Blood   \n4           Eosinophilic Esophagitis       367194  Unknown    Urine   \n\n                          concentration  \n0                0.054 (0.035-0.073) uM  \n1             25.0 umol/mmol creatinine  \n2    36.5 (0-76.1) umol/mmol creatinine  \n3                   38.0 (33.0-43.0) uM  \n4  19.2 (2.7-35.8) umol/mmol creatinine  ",
      "text/html": "<div>\n<style scoped>\n    .dataframe tbody tr th:only-of-type {\n        vertical-align: middle;\n    }\n\n    .dataframe tbody tr th {\n        vertical-align: top;\n    }\n\n    .dataframe thead th {\n        text-align: right;\n    }\n</style>\n<table border=\"1\" class=\"dataframe\">\n  <thead>\n    <tr style=\"text-align: right;\">\n      <th></th>\n      <th>name</th>\n      <th>chebi_id</th>\n      <th>mdbid</th>\n      <th>disease</th>\n      <th>markerdb_id</th>\n      <th>Gender</th>\n      <th>location</th>\n      <th>concentration</th>\n    </tr>\n  </thead>\n  <tbody>\n    <tr>\n      <th>0</th>\n      <td>7a-Hydroxycholesterol</td>\n      <td>1296</td>\n      <td>MDB00000633</td>\n      <td>Cirrhosis</td>\n      <td>545</td>\n      <td>Both</td>\n      <td>Blood</td>\n      <td>0.054 (0.035-0.073) uM</td>\n    </tr>\n    <tr>\n      <th>1</th>\n      <td>2-Hydroxybutyric acid</td>\n      <td>64552</td>\n      <td>MDB00000004</td>\n      <td>Pyruvate Dehydrogenase Deficiency</td>\n      <td>367359</td>\n      <td>Both</td>\n      <td>Urine</td>\n      <td>25.0 umol/mmol creatinine</td>\n    </tr>\n    <tr>\n      <th>2</th>\n      <td>Ortho-Hydroxyphenylacetic acid</td>\n      <td>62423</td>\n      <td>MDB00000353</td>\n      <td>Phenylketonuria</td>\n      <td>1530</td>\n      <td>Both</td>\n      <td>Urine</td>\n      <td>36.5 (0-76.1) umol/mmol creatinine</td>\n    </tr>\n    <tr>\n      <th>3</th>\n      <td>(S)-3-Hydroxyisobutyric acid</td>\n      <td>62638</td>\n      <td>MDB00000016</td>\n      <td>Diabetes Mellitus Type 2</td>\n      <td>687</td>\n      <td>Both</td>\n      <td>Blood</td>\n      <td>38.0 (33.0-43.0) uM</td>\n    </tr>\n    <tr>\n      <th>4</th>\n      <td>5-Aminolevulinic acid</td>\n      <td>356416</td>\n      <td>MDB00000539</td>\n      <td>Eosinophilic Esophagitis</td>\n      <td>367194</td>\n      <td>Unknown</td>\n      <td>Urine</td>\n      <td>19.2 (2.7-35.8) umol/mmol creatinine</td>\n    </tr>\n  </tbody>\n</table>\n</div>"
     },
     "execution_count": 5,
     "metadata": {},
     "output_type": "execute_result"
    }
   ],
   "source": [
    "marker_final.head()"
   ],
   "metadata": {
    "collapsed": false
   }
  },
  {
   "cell_type": "code",
   "execution_count": 6,
   "outputs": [
    {
     "data": {
      "text/plain": "                    name  value                            disease  \\\n0      1-Methylhistidine     33                Alzheimer's Disease   \n1      1-Methylhistidine   5988             Preeclampsia/Eclampsia   \n2      1-Methylhistidine     83             Chronic Kidney Disease   \n3     1,3-Diaminopropane    207                           Leukemia   \n4  2-Hydroxybutyric acid    286  Pyruvate Dehydrogenase Deficiency   \n\n                   age  Gender location  \\\n0  Adult: >=18 yrs old    Both    Urine   \n1  Adult: >=18 yrs old  Female    Blood   \n2  Adult: >=18 yrs old    Both    Blood   \n3  Adult: >=18 yrs old    Both    Urine   \n4  Adult: >=18 yrs old    Both    Urine   \n\n                           concentration  markerdb_id  \\\n0  15.7 (11.7-19.7) umol/mmol creatinine          129   \n1                                50.7 uM       367357   \n2                    28.8 (10.6-47.0) uM          958   \n3   0.96 (0.12-2.1) umol/mmol creatinine         1173   \n4              25.0 umol/mmol creatinine       367359   \n\n                                              method          id  \n0  Fonteh, A. N., Harrington, R. J., Tsai, A., Li...  17031479.0  \n1                                                NaN  22494326.0  \n2  Raj, D. S., Ouwendyk, M., Francoeur, R. & Pier...  10838467.0  \n3  Lee, S. H., Suh, J. W., Chung, B. C. & Kim, S....   9464484.0  \n4                                        OMIM 238331         NaN  ",
      "text/html": "<div>\n<style scoped>\n    .dataframe tbody tr th:only-of-type {\n        vertical-align: middle;\n    }\n\n    .dataframe tbody tr th {\n        vertical-align: top;\n    }\n\n    .dataframe thead th {\n        text-align: right;\n    }\n</style>\n<table border=\"1\" class=\"dataframe\">\n  <thead>\n    <tr style=\"text-align: right;\">\n      <th></th>\n      <th>name</th>\n      <th>value</th>\n      <th>disease</th>\n      <th>age</th>\n      <th>Gender</th>\n      <th>location</th>\n      <th>concentration</th>\n      <th>markerdb_id</th>\n      <th>method</th>\n      <th>id</th>\n    </tr>\n  </thead>\n  <tbody>\n    <tr>\n      <th>0</th>\n      <td>1-Methylhistidine</td>\n      <td>33</td>\n      <td>Alzheimer's Disease</td>\n      <td>Adult: &gt;=18 yrs old</td>\n      <td>Both</td>\n      <td>Urine</td>\n      <td>15.7 (11.7-19.7) umol/mmol creatinine</td>\n      <td>129</td>\n      <td>Fonteh, A. N., Harrington, R. J., Tsai, A., Li...</td>\n      <td>17031479.0</td>\n    </tr>\n    <tr>\n      <th>1</th>\n      <td>1-Methylhistidine</td>\n      <td>5988</td>\n      <td>Preeclampsia/Eclampsia</td>\n      <td>Adult: &gt;=18 yrs old</td>\n      <td>Female</td>\n      <td>Blood</td>\n      <td>50.7 uM</td>\n      <td>367357</td>\n      <td>NaN</td>\n      <td>22494326.0</td>\n    </tr>\n    <tr>\n      <th>2</th>\n      <td>1-Methylhistidine</td>\n      <td>83</td>\n      <td>Chronic Kidney Disease</td>\n      <td>Adult: &gt;=18 yrs old</td>\n      <td>Both</td>\n      <td>Blood</td>\n      <td>28.8 (10.6-47.0) uM</td>\n      <td>958</td>\n      <td>Raj, D. S., Ouwendyk, M., Francoeur, R. &amp; Pier...</td>\n      <td>10838467.0</td>\n    </tr>\n    <tr>\n      <th>3</th>\n      <td>1,3-Diaminopropane</td>\n      <td>207</td>\n      <td>Leukemia</td>\n      <td>Adult: &gt;=18 yrs old</td>\n      <td>Both</td>\n      <td>Urine</td>\n      <td>0.96 (0.12-2.1) umol/mmol creatinine</td>\n      <td>1173</td>\n      <td>Lee, S. H., Suh, J. W., Chung, B. C. &amp; Kim, S....</td>\n      <td>9464484.0</td>\n    </tr>\n    <tr>\n      <th>4</th>\n      <td>2-Hydroxybutyric acid</td>\n      <td>286</td>\n      <td>Pyruvate Dehydrogenase Deficiency</td>\n      <td>Adult: &gt;=18 yrs old</td>\n      <td>Both</td>\n      <td>Urine</td>\n      <td>25.0 umol/mmol creatinine</td>\n      <td>367359</td>\n      <td>OMIM 238331</td>\n      <td>NaN</td>\n    </tr>\n  </tbody>\n</table>\n</div>"
     },
     "execution_count": 6,
     "metadata": {},
     "output_type": "execute_result"
    }
   ],
   "source": [
    "disease.head()\n"
   ],
   "metadata": {
    "collapsed": false
   }
  },
  {
   "cell_type": "code",
   "execution_count": 7,
   "outputs": [
    {
     "data": {
      "text/plain": "                    name  value                            disease  \\\n0      1-Methylhistidine     33                Alzheimer's Disease   \n1      1-Methylhistidine   5988             Preeclampsia/Eclampsia   \n2      1-Methylhistidine     83             Chronic Kidney Disease   \n3     1,3-Diaminopropane    207                           Leukemia   \n4  2-Hydroxybutyric acid    286  Pyruvate Dehydrogenase Deficiency   \n\n                   age  Gender location  \\\n0  Adult: >=18 yrs old    Both    Urine   \n1  Adult: >=18 yrs old  Female    Blood   \n2  Adult: >=18 yrs old    Both    Blood   \n3  Adult: >=18 yrs old    Both    Urine   \n4  Adult: >=18 yrs old    Both    Urine   \n\n                           concentration  markerdb_id  \\\n0  15.7 (11.7-19.7) umol/mmol creatinine          129   \n1                                50.7 uM       367357   \n2                    28.8 (10.6-47.0) uM          958   \n3   0.96 (0.12-2.1) umol/mmol creatinine         1173   \n4              25.0 umol/mmol creatinine       367359   \n\n                                              method          id  \n0  Fonteh, A. N., Harrington, R. J., Tsai, A., Li...  17031479.0  \n1                                                NaN  22494326.0  \n2  Raj, D. S., Ouwendyk, M., Francoeur, R. & Pier...  10838467.0  \n3  Lee, S. H., Suh, J. W., Chung, B. C. & Kim, S....   9464484.0  \n4                                        OMIM 238331         NaN  ",
      "text/html": "<div>\n<style scoped>\n    .dataframe tbody tr th:only-of-type {\n        vertical-align: middle;\n    }\n\n    .dataframe tbody tr th {\n        vertical-align: top;\n    }\n\n    .dataframe thead th {\n        text-align: right;\n    }\n</style>\n<table border=\"1\" class=\"dataframe\">\n  <thead>\n    <tr style=\"text-align: right;\">\n      <th></th>\n      <th>name</th>\n      <th>value</th>\n      <th>disease</th>\n      <th>age</th>\n      <th>Gender</th>\n      <th>location</th>\n      <th>concentration</th>\n      <th>markerdb_id</th>\n      <th>method</th>\n      <th>id</th>\n    </tr>\n  </thead>\n  <tbody>\n    <tr>\n      <th>0</th>\n      <td>1-Methylhistidine</td>\n      <td>33</td>\n      <td>Alzheimer's Disease</td>\n      <td>Adult: &gt;=18 yrs old</td>\n      <td>Both</td>\n      <td>Urine</td>\n      <td>15.7 (11.7-19.7) umol/mmol creatinine</td>\n      <td>129</td>\n      <td>Fonteh, A. N., Harrington, R. J., Tsai, A., Li...</td>\n      <td>17031479.0</td>\n    </tr>\n    <tr>\n      <th>1</th>\n      <td>1-Methylhistidine</td>\n      <td>5988</td>\n      <td>Preeclampsia/Eclampsia</td>\n      <td>Adult: &gt;=18 yrs old</td>\n      <td>Female</td>\n      <td>Blood</td>\n      <td>50.7 uM</td>\n      <td>367357</td>\n      <td>NaN</td>\n      <td>22494326.0</td>\n    </tr>\n    <tr>\n      <th>2</th>\n      <td>1-Methylhistidine</td>\n      <td>83</td>\n      <td>Chronic Kidney Disease</td>\n      <td>Adult: &gt;=18 yrs old</td>\n      <td>Both</td>\n      <td>Blood</td>\n      <td>28.8 (10.6-47.0) uM</td>\n      <td>958</td>\n      <td>Raj, D. S., Ouwendyk, M., Francoeur, R. &amp; Pier...</td>\n      <td>10838467.0</td>\n    </tr>\n    <tr>\n      <th>3</th>\n      <td>1,3-Diaminopropane</td>\n      <td>207</td>\n      <td>Leukemia</td>\n      <td>Adult: &gt;=18 yrs old</td>\n      <td>Both</td>\n      <td>Urine</td>\n      <td>0.96 (0.12-2.1) umol/mmol creatinine</td>\n      <td>1173</td>\n      <td>Lee, S. H., Suh, J. W., Chung, B. C. &amp; Kim, S....</td>\n      <td>9464484.0</td>\n    </tr>\n    <tr>\n      <th>4</th>\n      <td>2-Hydroxybutyric acid</td>\n      <td>286</td>\n      <td>Pyruvate Dehydrogenase Deficiency</td>\n      <td>Adult: &gt;=18 yrs old</td>\n      <td>Both</td>\n      <td>Urine</td>\n      <td>25.0 umol/mmol creatinine</td>\n      <td>367359</td>\n      <td>OMIM 238331</td>\n      <td>NaN</td>\n    </tr>\n  </tbody>\n</table>\n</div>"
     },
     "execution_count": 7,
     "metadata": {},
     "output_type": "execute_result"
    }
   ],
   "source": [
    "disease.head()"
   ],
   "metadata": {
    "collapsed": false
   }
  },
  {
   "cell_type": "code",
   "execution_count": 8,
   "outputs": [
    {
     "data": {
      "text/plain": "   Unnamed: 0             fullname_metabolite  chebi_id  \\\n0           0           7a-Hydroxycholesterol      1296   \n1           1           2-Hydroxybutyric acid     64552   \n2           2           2-Hydroxybutyric acid      1148   \n3           3  Ortho-Hydroxyphenylacetic acid     62423   \n4           4    (S)-3-Hydroxyisobutyric acid     62638   \n\n           inchikey_metabolite  \\\n0  MCKLJFJEQRYRQT-APGJSSKUSA-N   \n1  AFENDNXGAFYKQO-UHFFFAOYSA-M   \n2  AFENDNXGAFYKQO-UHFFFAOYSA-M   \n3  CCVYRRGZDBSHFU-UHFFFAOYSA-M   \n4  DBXBTMSZEOQQDU-VKHMYHEASA-M   \n\n                              inchistring_metabolite  \\\n0  InChI=1S/C27H46O2/c1-18(2)7-6-14-27(5,29)24-11...   \n1  InChI=1S/C4H8O3/c1-2-3(5)4(6)7/h3,5H,2H2,1H3,(...   \n2  InChI=1S/C4H8O3/c1-2-3(5)4(6)7/h3,5H,2H2,1H3,(...   \n3  InChI=1S/C8H8O3/c9-7-4-2-1-3-6(7)5-8(10)11/h1-...   \n4  InChI=1S/C4H8O3/c1-3(2-5)4(6)7/h3,5H,2H2,1H3,(...   \n\n                                    smile_metabolite  \\\n0  [H]O[C@]1([H])C([H])([H])C2=C([H])C([H])([H])[...   \n1     [H]OC([H])(C([O-])=O)C([H])([H])C([H])([H])[H]   \n2     [H]OC([H])(C([O-])=O)C([H])([H])C([H])([H])[H]   \n3  [H]OC1=C([H])C([H])=C([H])C([H])=C1C([H])([H])...   \n4  [H]OC([H])([H])[C@@]([H])(C([O-])=O)C([H])([H]...   \n\n                             name  \\\n0           7a-Hydroxycholesterol   \n1           2-Hydroxybutyric acid   \n2           2-Hydroxybutyric acid   \n3  Ortho-Hydroxyphenylacetic acid   \n4    (S)-3-Hydroxyisobutyric acid   \n\n                                         description        mdbid moldb_inchi  \\\n0  7alpha-hydroxycholesterol or 7a-hydroxycholest...  MDB00000633         NaN   \n1  2-Hydroxybutyric acid (CAS: 600-15-7), also kn...  MDB00000004         NaN   \n2  2-Hydroxybutyric acid (CAS: 600-15-7), also kn...  MDB00000004         NaN   \n3  ortho-Hydroxyphenylacetic acid, also known as ...  MDB00000353         NaN   \n4  (S)-3-Hydroxyisobutyric (3-HIBA) acid is an or...  MDB00000016         NaN   \n\n  moldb_inchikey  \n0            NaN  \n1            NaN  \n2            NaN  \n3            NaN  \n4            NaN  ",
      "text/html": "<div>\n<style scoped>\n    .dataframe tbody tr th:only-of-type {\n        vertical-align: middle;\n    }\n\n    .dataframe tbody tr th {\n        vertical-align: top;\n    }\n\n    .dataframe thead th {\n        text-align: right;\n    }\n</style>\n<table border=\"1\" class=\"dataframe\">\n  <thead>\n    <tr style=\"text-align: right;\">\n      <th></th>\n      <th>Unnamed: 0</th>\n      <th>fullname_metabolite</th>\n      <th>chebi_id</th>\n      <th>inchikey_metabolite</th>\n      <th>inchistring_metabolite</th>\n      <th>smile_metabolite</th>\n      <th>name</th>\n      <th>description</th>\n      <th>mdbid</th>\n      <th>moldb_inchi</th>\n      <th>moldb_inchikey</th>\n    </tr>\n  </thead>\n  <tbody>\n    <tr>\n      <th>0</th>\n      <td>0</td>\n      <td>7a-Hydroxycholesterol</td>\n      <td>1296</td>\n      <td>MCKLJFJEQRYRQT-APGJSSKUSA-N</td>\n      <td>InChI=1S/C27H46O2/c1-18(2)7-6-14-27(5,29)24-11...</td>\n      <td>[H]O[C@]1([H])C([H])([H])C2=C([H])C([H])([H])[...</td>\n      <td>7a-Hydroxycholesterol</td>\n      <td>7alpha-hydroxycholesterol or 7a-hydroxycholest...</td>\n      <td>MDB00000633</td>\n      <td>NaN</td>\n      <td>NaN</td>\n    </tr>\n    <tr>\n      <th>1</th>\n      <td>1</td>\n      <td>2-Hydroxybutyric acid</td>\n      <td>64552</td>\n      <td>AFENDNXGAFYKQO-UHFFFAOYSA-M</td>\n      <td>InChI=1S/C4H8O3/c1-2-3(5)4(6)7/h3,5H,2H2,1H3,(...</td>\n      <td>[H]OC([H])(C([O-])=O)C([H])([H])C([H])([H])[H]</td>\n      <td>2-Hydroxybutyric acid</td>\n      <td>2-Hydroxybutyric acid (CAS: 600-15-7), also kn...</td>\n      <td>MDB00000004</td>\n      <td>NaN</td>\n      <td>NaN</td>\n    </tr>\n    <tr>\n      <th>2</th>\n      <td>2</td>\n      <td>2-Hydroxybutyric acid</td>\n      <td>1148</td>\n      <td>AFENDNXGAFYKQO-UHFFFAOYSA-M</td>\n      <td>InChI=1S/C4H8O3/c1-2-3(5)4(6)7/h3,5H,2H2,1H3,(...</td>\n      <td>[H]OC([H])(C([O-])=O)C([H])([H])C([H])([H])[H]</td>\n      <td>2-Hydroxybutyric acid</td>\n      <td>2-Hydroxybutyric acid (CAS: 600-15-7), also kn...</td>\n      <td>MDB00000004</td>\n      <td>NaN</td>\n      <td>NaN</td>\n    </tr>\n    <tr>\n      <th>3</th>\n      <td>3</td>\n      <td>Ortho-Hydroxyphenylacetic acid</td>\n      <td>62423</td>\n      <td>CCVYRRGZDBSHFU-UHFFFAOYSA-M</td>\n      <td>InChI=1S/C8H8O3/c9-7-4-2-1-3-6(7)5-8(10)11/h1-...</td>\n      <td>[H]OC1=C([H])C([H])=C([H])C([H])=C1C([H])([H])...</td>\n      <td>Ortho-Hydroxyphenylacetic acid</td>\n      <td>ortho-Hydroxyphenylacetic acid, also known as ...</td>\n      <td>MDB00000353</td>\n      <td>NaN</td>\n      <td>NaN</td>\n    </tr>\n    <tr>\n      <th>4</th>\n      <td>4</td>\n      <td>(S)-3-Hydroxyisobutyric acid</td>\n      <td>62638</td>\n      <td>DBXBTMSZEOQQDU-VKHMYHEASA-M</td>\n      <td>InChI=1S/C4H8O3/c1-3(2-5)4(6)7/h3,5H,2H2,1H3,(...</td>\n      <td>[H]OC([H])([H])[C@@]([H])(C([O-])=O)C([H])([H]...</td>\n      <td>(S)-3-Hydroxyisobutyric acid</td>\n      <td>(S)-3-Hydroxyisobutyric (3-HIBA) acid is an or...</td>\n      <td>MDB00000016</td>\n      <td>NaN</td>\n      <td>NaN</td>\n    </tr>\n  </tbody>\n</table>\n</div>"
     },
     "execution_count": 8,
     "metadata": {},
     "output_type": "execute_result"
    }
   ],
   "source": [
    "merge.head()"
   ],
   "metadata": {
    "collapsed": false
   }
  },
  {
   "cell_type": "code",
   "execution_count": 9,
   "outputs": [
    {
     "data": {
      "text/plain": "                             name  chebi_id        mdbid  \\\n0           7a-Hydroxycholesterol      1296  MDB00000633   \n1           2-Hydroxybutyric acid     64552  MDB00000004   \n5  Ortho-Hydroxyphenylacetic acid     62423  MDB00000353   \n6    (S)-3-Hydroxyisobutyric acid     62638  MDB00000016   \n7           5-Aminolevulinic acid    356416  MDB00000539   \n\n                             disease  markerdb_id  \n0                          Cirrhosis          545  \n1  Pyruvate Dehydrogenase Deficiency       367359  \n5                    Phenylketonuria         1530  \n6           Diabetes Mellitus Type 2          687  \n7           Eosinophilic Esophagitis       367194  ",
      "text/html": "<div>\n<style scoped>\n    .dataframe tbody tr th:only-of-type {\n        vertical-align: middle;\n    }\n\n    .dataframe tbody tr th {\n        vertical-align: top;\n    }\n\n    .dataframe thead th {\n        text-align: right;\n    }\n</style>\n<table border=\"1\" class=\"dataframe\">\n  <thead>\n    <tr style=\"text-align: right;\">\n      <th></th>\n      <th>name</th>\n      <th>chebi_id</th>\n      <th>mdbid</th>\n      <th>disease</th>\n      <th>markerdb_id</th>\n    </tr>\n  </thead>\n  <tbody>\n    <tr>\n      <th>0</th>\n      <td>7a-Hydroxycholesterol</td>\n      <td>1296</td>\n      <td>MDB00000633</td>\n      <td>Cirrhosis</td>\n      <td>545</td>\n    </tr>\n    <tr>\n      <th>1</th>\n      <td>2-Hydroxybutyric acid</td>\n      <td>64552</td>\n      <td>MDB00000004</td>\n      <td>Pyruvate Dehydrogenase Deficiency</td>\n      <td>367359</td>\n    </tr>\n    <tr>\n      <th>5</th>\n      <td>Ortho-Hydroxyphenylacetic acid</td>\n      <td>62423</td>\n      <td>MDB00000353</td>\n      <td>Phenylketonuria</td>\n      <td>1530</td>\n    </tr>\n    <tr>\n      <th>6</th>\n      <td>(S)-3-Hydroxyisobutyric acid</td>\n      <td>62638</td>\n      <td>MDB00000016</td>\n      <td>Diabetes Mellitus Type 2</td>\n      <td>687</td>\n    </tr>\n    <tr>\n      <th>7</th>\n      <td>5-Aminolevulinic acid</td>\n      <td>356416</td>\n      <td>MDB00000539</td>\n      <td>Eosinophilic Esophagitis</td>\n      <td>367194</td>\n    </tr>\n  </tbody>\n</table>\n</div>"
     },
     "execution_count": 9,
     "metadata": {},
     "output_type": "execute_result"
    }
   ],
   "source": [
    "merge_1.head()"
   ],
   "metadata": {
    "collapsed": false
   }
  },
  {
   "cell_type": "code",
   "execution_count": 10,
   "outputs": [],
   "source": [
    "final_marker = merge_1.merge(disease,on=('name','markerdb_id'),how='inner')"
   ],
   "metadata": {
    "collapsed": false
   }
  },
  {
   "cell_type": "code",
   "execution_count": 11,
   "outputs": [
    {
     "data": {
      "text/plain": "                             name  chebi_id        mdbid  \\\n0           7a-Hydroxycholesterol      1296  MDB00000633   \n1           2-Hydroxybutyric acid     64552  MDB00000004   \n2  Ortho-Hydroxyphenylacetic acid     62423  MDB00000353   \n3    (S)-3-Hydroxyisobutyric acid     62638  MDB00000016   \n4           5-Aminolevulinic acid    356416  MDB00000539   \n\n                           disease_x  markerdb_id  value  \\\n0                          Cirrhosis          545     85   \n1  Pyruvate Dehydrogenase Deficiency       367359    286   \n2                    Phenylketonuria         1530    267   \n3           Diabetes Mellitus Type 2          687    115   \n4           Eosinophilic Esophagitis       367194   5823   \n\n                           disease_y                     age   Gender  \\\n0                          Cirrhosis     Adult: >=18 yrs old     Both   \n1  Pyruvate Dehydrogenase Deficiency     Adult: >=18 yrs old     Both   \n2                    Phenylketonuria     Newborn: 0 day-1 wk     Both   \n3           Diabetes Mellitus Type 2     Adult: >=18 yrs old     Both   \n4           Eosinophilic Esophagitis  Children: 2-17 yrs old  Unknown   \n\n  location                         concentration  \\\n0    Blood                0.054 (0.035-0.073) uM   \n1    Urine             25.0 umol/mmol creatinine   \n2    Urine    36.5 (0-76.1) umol/mmol creatinine   \n3    Blood                   38.0 (33.0-43.0) uM   \n4    Urine  19.2 (2.7-35.8) umol/mmol creatinine   \n\n                                              method         id  \n0  Hahn, C., Reichel, C. & von Bergmann, K. Serum...  8558093.0  \n1                                        OMIM 238331        NaN  \n2  Monch, E., Kneer, J., Jakobs, C., Arnold, M., ...  2091926.0  \n3  Avogaro, A. & Bier, D. M. Contribution of 3-hy...  2614280.0  \n4              Mordechai, Hien, and David S. Wishart        NaN  ",
      "text/html": "<div>\n<style scoped>\n    .dataframe tbody tr th:only-of-type {\n        vertical-align: middle;\n    }\n\n    .dataframe tbody tr th {\n        vertical-align: top;\n    }\n\n    .dataframe thead th {\n        text-align: right;\n    }\n</style>\n<table border=\"1\" class=\"dataframe\">\n  <thead>\n    <tr style=\"text-align: right;\">\n      <th></th>\n      <th>name</th>\n      <th>chebi_id</th>\n      <th>mdbid</th>\n      <th>disease_x</th>\n      <th>markerdb_id</th>\n      <th>value</th>\n      <th>disease_y</th>\n      <th>age</th>\n      <th>Gender</th>\n      <th>location</th>\n      <th>concentration</th>\n      <th>method</th>\n      <th>id</th>\n    </tr>\n  </thead>\n  <tbody>\n    <tr>\n      <th>0</th>\n      <td>7a-Hydroxycholesterol</td>\n      <td>1296</td>\n      <td>MDB00000633</td>\n      <td>Cirrhosis</td>\n      <td>545</td>\n      <td>85</td>\n      <td>Cirrhosis</td>\n      <td>Adult: &gt;=18 yrs old</td>\n      <td>Both</td>\n      <td>Blood</td>\n      <td>0.054 (0.035-0.073) uM</td>\n      <td>Hahn, C., Reichel, C. &amp; von Bergmann, K. Serum...</td>\n      <td>8558093.0</td>\n    </tr>\n    <tr>\n      <th>1</th>\n      <td>2-Hydroxybutyric acid</td>\n      <td>64552</td>\n      <td>MDB00000004</td>\n      <td>Pyruvate Dehydrogenase Deficiency</td>\n      <td>367359</td>\n      <td>286</td>\n      <td>Pyruvate Dehydrogenase Deficiency</td>\n      <td>Adult: &gt;=18 yrs old</td>\n      <td>Both</td>\n      <td>Urine</td>\n      <td>25.0 umol/mmol creatinine</td>\n      <td>OMIM 238331</td>\n      <td>NaN</td>\n    </tr>\n    <tr>\n      <th>2</th>\n      <td>Ortho-Hydroxyphenylacetic acid</td>\n      <td>62423</td>\n      <td>MDB00000353</td>\n      <td>Phenylketonuria</td>\n      <td>1530</td>\n      <td>267</td>\n      <td>Phenylketonuria</td>\n      <td>Newborn: 0 day-1 wk</td>\n      <td>Both</td>\n      <td>Urine</td>\n      <td>36.5 (0-76.1) umol/mmol creatinine</td>\n      <td>Monch, E., Kneer, J., Jakobs, C., Arnold, M., ...</td>\n      <td>2091926.0</td>\n    </tr>\n    <tr>\n      <th>3</th>\n      <td>(S)-3-Hydroxyisobutyric acid</td>\n      <td>62638</td>\n      <td>MDB00000016</td>\n      <td>Diabetes Mellitus Type 2</td>\n      <td>687</td>\n      <td>115</td>\n      <td>Diabetes Mellitus Type 2</td>\n      <td>Adult: &gt;=18 yrs old</td>\n      <td>Both</td>\n      <td>Blood</td>\n      <td>38.0 (33.0-43.0) uM</td>\n      <td>Avogaro, A. &amp; Bier, D. M. Contribution of 3-hy...</td>\n      <td>2614280.0</td>\n    </tr>\n    <tr>\n      <th>4</th>\n      <td>5-Aminolevulinic acid</td>\n      <td>356416</td>\n      <td>MDB00000539</td>\n      <td>Eosinophilic Esophagitis</td>\n      <td>367194</td>\n      <td>5823</td>\n      <td>Eosinophilic Esophagitis</td>\n      <td>Children: 2-17 yrs old</td>\n      <td>Unknown</td>\n      <td>Urine</td>\n      <td>19.2 (2.7-35.8) umol/mmol creatinine</td>\n      <td>Mordechai, Hien, and David S. Wishart</td>\n      <td>NaN</td>\n    </tr>\n  </tbody>\n</table>\n</div>"
     },
     "execution_count": 11,
     "metadata": {},
     "output_type": "execute_result"
    }
   ],
   "source": [
    "final_marker.head()"
   ],
   "metadata": {
    "collapsed": false
   }
  },
  {
   "cell_type": "code",
   "execution_count": 12,
   "outputs": [
    {
     "data": {
      "text/plain": "0"
     },
     "execution_count": 12,
     "metadata": {},
     "output_type": "execute_result"
    }
   ],
   "source": [
    "final_marker.duplicated().sum()"
   ],
   "metadata": {
    "collapsed": false
   }
  },
  {
   "cell_type": "code",
   "execution_count": 13,
   "outputs": [],
   "source": [
    "marker_final.to_csv('final_marker.csv',index=False)"
   ],
   "metadata": {
    "collapsed": false
   }
  },
  {
   "cell_type": "code",
   "execution_count": 14,
   "outputs": [],
   "source": [
    "mar = pd.read_csv('final_marker.csv')"
   ],
   "metadata": {
    "collapsed": false
   }
  },
  {
   "cell_type": "code",
   "execution_count": 15,
   "outputs": [
    {
     "data": {
      "text/plain": "                             name  chebi_id        mdbid  \\\n0           7a-Hydroxycholesterol      1296  MDB00000633   \n1           2-Hydroxybutyric acid     64552  MDB00000004   \n2  Ortho-Hydroxyphenylacetic acid     62423  MDB00000353   \n3    (S)-3-Hydroxyisobutyric acid     62638  MDB00000016   \n4           5-Aminolevulinic acid    356416  MDB00000539   \n\n                             disease  markerdb_id   Gender location  \\\n0                          Cirrhosis          545     Both    Blood   \n1  Pyruvate Dehydrogenase Deficiency       367359     Both    Urine   \n2                    Phenylketonuria         1530     Both    Urine   \n3           Diabetes Mellitus Type 2          687     Both    Blood   \n4           Eosinophilic Esophagitis       367194  Unknown    Urine   \n\n                          concentration  \n0                0.054 (0.035-0.073) uM  \n1             25.0 umol/mmol creatinine  \n2    36.5 (0-76.1) umol/mmol creatinine  \n3                   38.0 (33.0-43.0) uM  \n4  19.2 (2.7-35.8) umol/mmol creatinine  ",
      "text/html": "<div>\n<style scoped>\n    .dataframe tbody tr th:only-of-type {\n        vertical-align: middle;\n    }\n\n    .dataframe tbody tr th {\n        vertical-align: top;\n    }\n\n    .dataframe thead th {\n        text-align: right;\n    }\n</style>\n<table border=\"1\" class=\"dataframe\">\n  <thead>\n    <tr style=\"text-align: right;\">\n      <th></th>\n      <th>name</th>\n      <th>chebi_id</th>\n      <th>mdbid</th>\n      <th>disease</th>\n      <th>markerdb_id</th>\n      <th>Gender</th>\n      <th>location</th>\n      <th>concentration</th>\n    </tr>\n  </thead>\n  <tbody>\n    <tr>\n      <th>0</th>\n      <td>7a-Hydroxycholesterol</td>\n      <td>1296</td>\n      <td>MDB00000633</td>\n      <td>Cirrhosis</td>\n      <td>545</td>\n      <td>Both</td>\n      <td>Blood</td>\n      <td>0.054 (0.035-0.073) uM</td>\n    </tr>\n    <tr>\n      <th>1</th>\n      <td>2-Hydroxybutyric acid</td>\n      <td>64552</td>\n      <td>MDB00000004</td>\n      <td>Pyruvate Dehydrogenase Deficiency</td>\n      <td>367359</td>\n      <td>Both</td>\n      <td>Urine</td>\n      <td>25.0 umol/mmol creatinine</td>\n    </tr>\n    <tr>\n      <th>2</th>\n      <td>Ortho-Hydroxyphenylacetic acid</td>\n      <td>62423</td>\n      <td>MDB00000353</td>\n      <td>Phenylketonuria</td>\n      <td>1530</td>\n      <td>Both</td>\n      <td>Urine</td>\n      <td>36.5 (0-76.1) umol/mmol creatinine</td>\n    </tr>\n    <tr>\n      <th>3</th>\n      <td>(S)-3-Hydroxyisobutyric acid</td>\n      <td>62638</td>\n      <td>MDB00000016</td>\n      <td>Diabetes Mellitus Type 2</td>\n      <td>687</td>\n      <td>Both</td>\n      <td>Blood</td>\n      <td>38.0 (33.0-43.0) uM</td>\n    </tr>\n    <tr>\n      <th>4</th>\n      <td>5-Aminolevulinic acid</td>\n      <td>356416</td>\n      <td>MDB00000539</td>\n      <td>Eosinophilic Esophagitis</td>\n      <td>367194</td>\n      <td>Unknown</td>\n      <td>Urine</td>\n      <td>19.2 (2.7-35.8) umol/mmol creatinine</td>\n    </tr>\n  </tbody>\n</table>\n</div>"
     },
     "execution_count": 15,
     "metadata": {},
     "output_type": "execute_result"
    }
   ],
   "source": [
    "mar.head()"
   ],
   "metadata": {
    "collapsed": false
   }
  },
  {
   "cell_type": "code",
   "execution_count": 16,
   "outputs": [],
   "source": [
    "mar['concentration_1']=mar['concentration']"
   ],
   "metadata": {
    "collapsed": false
   }
  },
  {
   "cell_type": "code",
   "execution_count": 17,
   "outputs": [
    {
     "data": {
      "text/plain": "                             name  chebi_id        mdbid  \\\n0           7a-Hydroxycholesterol      1296  MDB00000633   \n1           2-Hydroxybutyric acid     64552  MDB00000004   \n2  Ortho-Hydroxyphenylacetic acid     62423  MDB00000353   \n3    (S)-3-Hydroxyisobutyric acid     62638  MDB00000016   \n4           5-Aminolevulinic acid    356416  MDB00000539   \n\n                             disease  markerdb_id   Gender location  \\\n0                          Cirrhosis          545     Both    Blood   \n1  Pyruvate Dehydrogenase Deficiency       367359     Both    Urine   \n2                    Phenylketonuria         1530     Both    Urine   \n3           Diabetes Mellitus Type 2          687     Both    Blood   \n4           Eosinophilic Esophagitis       367194  Unknown    Urine   \n\n                          concentration                       concentration_1  \n0                0.054 (0.035-0.073) uM                0.054 (0.035-0.073) uM  \n1             25.0 umol/mmol creatinine             25.0 umol/mmol creatinine  \n2    36.5 (0-76.1) umol/mmol creatinine    36.5 (0-76.1) umol/mmol creatinine  \n3                   38.0 (33.0-43.0) uM                   38.0 (33.0-43.0) uM  \n4  19.2 (2.7-35.8) umol/mmol creatinine  19.2 (2.7-35.8) umol/mmol creatinine  ",
      "text/html": "<div>\n<style scoped>\n    .dataframe tbody tr th:only-of-type {\n        vertical-align: middle;\n    }\n\n    .dataframe tbody tr th {\n        vertical-align: top;\n    }\n\n    .dataframe thead th {\n        text-align: right;\n    }\n</style>\n<table border=\"1\" class=\"dataframe\">\n  <thead>\n    <tr style=\"text-align: right;\">\n      <th></th>\n      <th>name</th>\n      <th>chebi_id</th>\n      <th>mdbid</th>\n      <th>disease</th>\n      <th>markerdb_id</th>\n      <th>Gender</th>\n      <th>location</th>\n      <th>concentration</th>\n      <th>concentration_1</th>\n    </tr>\n  </thead>\n  <tbody>\n    <tr>\n      <th>0</th>\n      <td>7a-Hydroxycholesterol</td>\n      <td>1296</td>\n      <td>MDB00000633</td>\n      <td>Cirrhosis</td>\n      <td>545</td>\n      <td>Both</td>\n      <td>Blood</td>\n      <td>0.054 (0.035-0.073) uM</td>\n      <td>0.054 (0.035-0.073) uM</td>\n    </tr>\n    <tr>\n      <th>1</th>\n      <td>2-Hydroxybutyric acid</td>\n      <td>64552</td>\n      <td>MDB00000004</td>\n      <td>Pyruvate Dehydrogenase Deficiency</td>\n      <td>367359</td>\n      <td>Both</td>\n      <td>Urine</td>\n      <td>25.0 umol/mmol creatinine</td>\n      <td>25.0 umol/mmol creatinine</td>\n    </tr>\n    <tr>\n      <th>2</th>\n      <td>Ortho-Hydroxyphenylacetic acid</td>\n      <td>62423</td>\n      <td>MDB00000353</td>\n      <td>Phenylketonuria</td>\n      <td>1530</td>\n      <td>Both</td>\n      <td>Urine</td>\n      <td>36.5 (0-76.1) umol/mmol creatinine</td>\n      <td>36.5 (0-76.1) umol/mmol creatinine</td>\n    </tr>\n    <tr>\n      <th>3</th>\n      <td>(S)-3-Hydroxyisobutyric acid</td>\n      <td>62638</td>\n      <td>MDB00000016</td>\n      <td>Diabetes Mellitus Type 2</td>\n      <td>687</td>\n      <td>Both</td>\n      <td>Blood</td>\n      <td>38.0 (33.0-43.0) uM</td>\n      <td>38.0 (33.0-43.0) uM</td>\n    </tr>\n    <tr>\n      <th>4</th>\n      <td>5-Aminolevulinic acid</td>\n      <td>356416</td>\n      <td>MDB00000539</td>\n      <td>Eosinophilic Esophagitis</td>\n      <td>367194</td>\n      <td>Unknown</td>\n      <td>Urine</td>\n      <td>19.2 (2.7-35.8) umol/mmol creatinine</td>\n      <td>19.2 (2.7-35.8) umol/mmol creatinine</td>\n    </tr>\n  </tbody>\n</table>\n</div>"
     },
     "execution_count": 17,
     "metadata": {},
     "output_type": "execute_result"
    }
   ],
   "source": [
    "mar.head()"
   ],
   "metadata": {
    "collapsed": false
   }
  },
  {
   "cell_type": "code",
   "execution_count": 18,
   "outputs": [
    {
     "name": "stdout",
     "output_type": "stream",
     "text": [
      "<class 'pandas.core.frame.DataFrame'>\n",
      "RangeIndex: 38 entries, 0 to 37\n",
      "Data columns (total 9 columns):\n",
      " #   Column           Non-Null Count  Dtype \n",
      "---  ------           --------------  ----- \n",
      " 0   name             38 non-null     object\n",
      " 1   chebi_id         38 non-null     int64 \n",
      " 2   mdbid            38 non-null     object\n",
      " 3   disease          38 non-null     object\n",
      " 4   markerdb_id      38 non-null     int64 \n",
      " 5   Gender           38 non-null     object\n",
      " 6   location         38 non-null     object\n",
      " 7   concentration    38 non-null     object\n",
      " 8   concentration_1  38 non-null     object\n",
      "dtypes: int64(2), object(7)\n",
      "memory usage: 2.8+ KB\n"
     ]
    }
   ],
   "source": [
    "mar.info()"
   ],
   "metadata": {
    "collapsed": false
   }
  },
  {
   "cell_type": "code",
   "execution_count": 13,
   "outputs": [],
   "source": [
    "mar.to_csv('test.csv',index_label=False)"
   ],
   "metadata": {
    "collapsed": false
   }
  },
  {
   "cell_type": "code",
   "execution_count": null,
   "outputs": [],
   "source": [],
   "metadata": {
    "collapsed": false
   }
  }
 ],
 "metadata": {
  "kernelspec": {
   "display_name": "Python 3",
   "language": "python",
   "name": "python3"
  },
  "language_info": {
   "codemirror_mode": {
    "name": "ipython",
    "version": 2
   },
   "file_extension": ".py",
   "mimetype": "text/x-python",
   "name": "python",
   "nbconvert_exporter": "python",
   "pygments_lexer": "ipython2",
   "version": "2.7.6"
  }
 },
 "nbformat": 4,
 "nbformat_minor": 0
}
