{
 "cells": [
  {
   "cell_type": "code",
   "execution_count": 67,
   "metadata": {
    "collapsed": true
   },
   "outputs": [],
   "source": [
    "import pandas as pd\n",
    "from pprint import pprint"
   ]
  },
  {
   "cell_type": "code",
   "execution_count": 68,
   "outputs": [],
   "source": [
    "marker = pd.read_csv('marker_db.csv')\n",
    "dataset = pd.read_csv('final_dataset.csv')\n",
    "biomarker = pd.read_csv('biomarkers_final.csv')"
   ],
   "metadata": {
    "collapsed": false
   }
  },
  {
   "cell_type": "code",
   "execution_count": 69,
   "outputs": [
    {
     "data": {
      "text/plain": "                                     name_of_disease abbreviation_of_disease  \\\n0  Glycine Encephalopathy/ Nonketotic Hyperglycin...                     NKH   \n1           Gyrate Atrophy of the Choroid And Retina                    GACR   \n2                          Maple Syrup Urine Disease                    MSUD   \n3  Neonatal Intrahepatic Cholestasis caused by Ci...                   NICCD   \n4                                 Hypermethioninemia                    HMET   \n\n                type_of_disease  \\\n0  Inherited metabolic disorder   \n1  Inherited metabolic disorder   \n2  Inherited metabolic disorder   \n3  Inherited metabolic disorder   \n4  Inherited metabolic disorder   \n\n                                    notes_of_disease  \\\n0  About 80 percent of cases of glycine encephalo...   \n1  Decreased activity of ornithine-delta-aminotra...   \n2  In plasma increased levels of allo-isoleucine,...   \n3  Blood-elevated acetylcarnitine (C2), palmitoyl...   \n4  A deficiency of any of these enzymes (i.e. MAT...   \n\n                                           phenotype  \\\n0  1) Neonatal (classic) presentation-The neonata...   \n1                                                NaN   \n2  1) Classic and intermediate MSUD. 2)There are ...   \n3  The two phenotypes of citrin deficiency are ci...   \n4                                                NaN   \n\n                    organ_affected  cheblid_of_biomarker  \\\n0                   Nervous system               15428.0   \n1                      Muscle, eye               17203.0   \n2                   Nervous system               16414.0   \n3                            Liver               16857.0   \n4  Nervous system,  liver,  muscle               16643.0   \n\n                            description_of_biomarker fullname_of_biomarker  \\\n0  Human Metabolome Database (HMDB): Glycine is a...               Glycine   \n1  Human Metabolome Database (HMDB): L-proline is...             L-Proline   \n2  Human Metabolome Database (HMDB): Valine (abbr...              L-Valine   \n3  Human Metabolome Database (HMDB): Threonine is...           L-Threonine   \n4  Human Metabolome Database (HMDB): Methionine i...          L-Methionine   \n\n  abbreviation_of_biomarker  ... value_of_biomarker normal_conc_of_biomarker  \\\n0                       gly  ...          Increased            180.00-740.00   \n1                     pro_L  ...          Increased           95.00 - 320.00   \n2                     val_L  ...          Increased                65.00-215   \n3                     thr_L  ...          Increased                 25 - 150   \n4                     met_L  ...          Increased              10.00-38.00   \n\n  ramedis_of_biomarker range_conc_of_biomarker biocyc_biomarker  \\\n0                  NaN          550.00-1350.00              GLY   \n1                  NaN                830-1360              PRO   \n2        125, 133, 337         210.00 - 650.00              VAL   \n3                  NaN                     NaN              THR   \n4                  NaN           56.00 -170.00              MET   \n\n                                     smile_biomarker hmdb_biomarker  \\\n0              [H][N+]([H])([H])C([H])([H])C([O-])=O    HMDB0000123   \n1  [H]C1([H])C([H])([H])[N+]([H])([H])[C@]([H])(C...    HMDB0000162   \n2  [H]C([H])([H])C([H])(C([H])([H])[H])[C@@]([H])...    HMDB0000883   \n3  [H]O[C@]([H])(C([H])([H])[H])[C@@]([H])(C([O-]...    HMDB0000167   \n4  [H]C([H])([H])SC([H])([H])C([H])([H])[C@@]([H]...    HMDB0000696   \n\n  reconMap3_biomarker food_db_biomarker pubChemId_biomarker  \n0                 gly         FDB000484               750.0  \n1               pro_L         FDB000570            145742.0  \n2               val_L         FDB000465              6287.0  \n3               thr_L         FDB011999              6288.0  \n4               met_L         FDB012683              6137.0  \n\n[5 rows x 24 columns]",
      "text/html": "<div>\n<style scoped>\n    .dataframe tbody tr th:only-of-type {\n        vertical-align: middle;\n    }\n\n    .dataframe tbody tr th {\n        vertical-align: top;\n    }\n\n    .dataframe thead th {\n        text-align: right;\n    }\n</style>\n<table border=\"1\" class=\"dataframe\">\n  <thead>\n    <tr style=\"text-align: right;\">\n      <th></th>\n      <th>name_of_disease</th>\n      <th>abbreviation_of_disease</th>\n      <th>type_of_disease</th>\n      <th>notes_of_disease</th>\n      <th>phenotype</th>\n      <th>organ_affected</th>\n      <th>cheblid_of_biomarker</th>\n      <th>description_of_biomarker</th>\n      <th>fullname_of_biomarker</th>\n      <th>abbreviation_of_biomarker</th>\n      <th>...</th>\n      <th>value_of_biomarker</th>\n      <th>normal_conc_of_biomarker</th>\n      <th>ramedis_of_biomarker</th>\n      <th>range_conc_of_biomarker</th>\n      <th>biocyc_biomarker</th>\n      <th>smile_biomarker</th>\n      <th>hmdb_biomarker</th>\n      <th>reconMap3_biomarker</th>\n      <th>food_db_biomarker</th>\n      <th>pubChemId_biomarker</th>\n    </tr>\n  </thead>\n  <tbody>\n    <tr>\n      <th>0</th>\n      <td>Glycine Encephalopathy/ Nonketotic Hyperglycin...</td>\n      <td>NKH</td>\n      <td>Inherited metabolic disorder</td>\n      <td>About 80 percent of cases of glycine encephalo...</td>\n      <td>1) Neonatal (classic) presentation-The neonata...</td>\n      <td>Nervous system</td>\n      <td>15428.0</td>\n      <td>Human Metabolome Database (HMDB): Glycine is a...</td>\n      <td>Glycine</td>\n      <td>gly</td>\n      <td>...</td>\n      <td>Increased</td>\n      <td>180.00-740.00</td>\n      <td>NaN</td>\n      <td>550.00-1350.00</td>\n      <td>GLY</td>\n      <td>[H][N+]([H])([H])C([H])([H])C([O-])=O</td>\n      <td>HMDB0000123</td>\n      <td>gly</td>\n      <td>FDB000484</td>\n      <td>750.0</td>\n    </tr>\n    <tr>\n      <th>1</th>\n      <td>Gyrate Atrophy of the Choroid And Retina</td>\n      <td>GACR</td>\n      <td>Inherited metabolic disorder</td>\n      <td>Decreased activity of ornithine-delta-aminotra...</td>\n      <td>NaN</td>\n      <td>Muscle, eye</td>\n      <td>17203.0</td>\n      <td>Human Metabolome Database (HMDB): L-proline is...</td>\n      <td>L-Proline</td>\n      <td>pro_L</td>\n      <td>...</td>\n      <td>Increased</td>\n      <td>95.00 - 320.00</td>\n      <td>NaN</td>\n      <td>830-1360</td>\n      <td>PRO</td>\n      <td>[H]C1([H])C([H])([H])[N+]([H])([H])[C@]([H])(C...</td>\n      <td>HMDB0000162</td>\n      <td>pro_L</td>\n      <td>FDB000570</td>\n      <td>145742.0</td>\n    </tr>\n    <tr>\n      <th>2</th>\n      <td>Maple Syrup Urine Disease</td>\n      <td>MSUD</td>\n      <td>Inherited metabolic disorder</td>\n      <td>In plasma increased levels of allo-isoleucine,...</td>\n      <td>1) Classic and intermediate MSUD. 2)There are ...</td>\n      <td>Nervous system</td>\n      <td>16414.0</td>\n      <td>Human Metabolome Database (HMDB): Valine (abbr...</td>\n      <td>L-Valine</td>\n      <td>val_L</td>\n      <td>...</td>\n      <td>Increased</td>\n      <td>65.00-215</td>\n      <td>125, 133, 337</td>\n      <td>210.00 - 650.00</td>\n      <td>VAL</td>\n      <td>[H]C([H])([H])C([H])(C([H])([H])[H])[C@@]([H])...</td>\n      <td>HMDB0000883</td>\n      <td>val_L</td>\n      <td>FDB000465</td>\n      <td>6287.0</td>\n    </tr>\n    <tr>\n      <th>3</th>\n      <td>Neonatal Intrahepatic Cholestasis caused by Ci...</td>\n      <td>NICCD</td>\n      <td>Inherited metabolic disorder</td>\n      <td>Blood-elevated acetylcarnitine (C2), palmitoyl...</td>\n      <td>The two phenotypes of citrin deficiency are ci...</td>\n      <td>Liver</td>\n      <td>16857.0</td>\n      <td>Human Metabolome Database (HMDB): Threonine is...</td>\n      <td>L-Threonine</td>\n      <td>thr_L</td>\n      <td>...</td>\n      <td>Increased</td>\n      <td>25 - 150</td>\n      <td>NaN</td>\n      <td>NaN</td>\n      <td>THR</td>\n      <td>[H]O[C@]([H])(C([H])([H])[H])[C@@]([H])(C([O-]...</td>\n      <td>HMDB0000167</td>\n      <td>thr_L</td>\n      <td>FDB011999</td>\n      <td>6288.0</td>\n    </tr>\n    <tr>\n      <th>4</th>\n      <td>Hypermethioninemia</td>\n      <td>HMET</td>\n      <td>Inherited metabolic disorder</td>\n      <td>A deficiency of any of these enzymes (i.e. MAT...</td>\n      <td>NaN</td>\n      <td>Nervous system,  liver,  muscle</td>\n      <td>16643.0</td>\n      <td>Human Metabolome Database (HMDB): Methionine i...</td>\n      <td>L-Methionine</td>\n      <td>met_L</td>\n      <td>...</td>\n      <td>Increased</td>\n      <td>10.00-38.00</td>\n      <td>NaN</td>\n      <td>56.00 -170.00</td>\n      <td>MET</td>\n      <td>[H]C([H])([H])SC([H])([H])C([H])([H])[C@@]([H]...</td>\n      <td>HMDB0000696</td>\n      <td>met_L</td>\n      <td>FDB012683</td>\n      <td>6137.0</td>\n    </tr>\n  </tbody>\n</table>\n<p>5 rows × 24 columns</p>\n</div>"
     },
     "execution_count": 69,
     "metadata": {},
     "output_type": "execute_result"
    }
   ],
   "source": [
    "biomarker.head()"
   ],
   "metadata": {
    "collapsed": false
   }
  },
  {
   "cell_type": "code",
   "execution_count": 70,
   "outputs": [
    {
     "data": {
      "text/plain": "  abbreviation_metabolite casregistry_metabolite  cheblid_metabolite  \\\n0            20ahchsterol               516-72-3              1296.0   \n1                   xol7a                    NaN             17500.0   \n2                2dp6mobq                    NaN             50773.0   \n3                   2dr5p            102916-66-5             16132.0   \n4                     2hb               600-15-7              1148.0   \n\n                              description_metabolite  \\\n0  Human Metabolome Database (HMDB): 20 alpha-hyd...   \n1  Human Metabolome Database (HMDB): 7alpha-hydro...   \n2  Human Metabolome Database (HMDB): This compoun...   \n3  Human Metabolome Database (HMDB): Deoxyribose ...   \n4  Human Metabolome Database (HMDB): 2-Hydroxybut...   \n\n                       fullname_metabolite hmdb_metabolite  \\\n0               20alpha-Hydroxycholesterol     HMDB0006283   \n1                    7a-Hydroxycholesterol     HMDB0001496   \n2  2-Decaprenyl-6-methoxy-1,4-benzoquinone     HMDB0060248   \n3                  Deoxyribose 5-phosphate     HMDB0001031   \n4                    2-Hydroxybutyric acid     HMDB0000008   \n\n           inchikey_metabolite  \\\n0  MCKLJFJEQRYRQT-APGJSSKUSA-N   \n1  MCKLJFJEQRYRQT-APGJSSKUSA-N   \n2  POYJNCVGTDCCPK-RDSVHMIISA-N   \n3  KKZFLSZAWCYPOC-PYHARJCCSA-L   \n4  AFENDNXGAFYKQO-UHFFFAOYSA-M   \n\n                              inchistring_metabolite keggid_metabolite  \\\n0  InChI=1S/C27H46O2/c1-18(2)7-6-14-27(5,29)24-11...            C05500   \n1  InChI=1S/C27H46O2/c1-18(2)7-6-14-27(5,29)24-11...            C03594   \n2  InChI=1S/C57H86O3/c1-44(2)22-13-23-45(3)24-14-...               NaN   \n3  InChI=1S/C5H11O7P/c6-3-1-5(7)12-4(3)2-11-13(8,...            C00673   \n4  InChI=1S/C4H8O3/c1-2-3(5)4(6)7/h3,5H,2H2,1H3,(...            C05984   \n\n         biocyc_metabolite  ... reconmap3_metabolite  \\\n0  20A-HYDROXY-CHOLESTEROL  ...         20ahchsterol   \n1                  CPD-266  ...                xol7a   \n2                CPD-11659  ...             2dp6mobq   \n3          DEOXY-RIBOSE-5P  ...                2dr5p   \n4                 CPD-3564  ...                  2hb   \n\n                                    smile_metabolite  \\\n0  [H]O[C@]1([H])C([H])([H])C2=C([H])C([H])([H])[...   \n1  [H]O[C@]1([H])C([H])([H])C2=C([H])C([H])([H])[...   \n2  [H]C(=C(C([H])([H])[H])C([H])([H])[H])C([H])([...   \n3  [H]OC1([H])O[C@]([H])(C([H])([H])OP([O-])([O-]...   \n4     [H]OC([H])(C([O-])=O)C([H])([H])C([H])([H])[H]   \n\n                                 synonyms_metabolite chebi_id  \\\n0  (3beta,20R)-Cholest-5-ene-3,20-diol***20-Hydro...     1296   \n1  7 alpha-Hydroxycholesterol***7-a-Hydroxycholes...     1296   \n2  2-[(2E,6E,10E,14E,18E,22E,26E,30E,34E)-3,7,11,...    50773   \n3  2-Deoxy-alpha-D-ribose 5-phosphate***2-Deoxy-a...    62877   \n4  2-Hydroxybutanoic acid***alpha-Hydroxybutanoic...    64552   \n\n                                      name  \\\n0                    20-hydroxycholesterol   \n1                    20-hydroxycholesterol   \n2  2-decaprenyl-6-methoxy-1,4-benzoquinone   \n3   2-deoxy-D-ribofuranose 5-phosphate(2-)   \n4                        2-hydroxybutyrate   \n\n                                          definition  \\\n0  An oxysterol that is cholesterol substituted b...   \n1  An oxysterol that is cholesterol substituted b...   \n2                                                NaN   \n3  An organophosphate oxoanion obtained by deprot...   \n4  A hydroxy fatty acid anion that is the conjuga...   \n\n                                        inchi_string  \\\n0  InChI=1S/C27H46O2/c1-18(2)7-6-14-27(5,29)24-11...   \n1  InChI=1S/C27H46O2/c1-18(2)7-6-14-27(5,29)24-11...   \n2  InChI=1S/C57H86O3/c1-44(2)22-13-23-45(3)24-14-...   \n3  InChI=1S/C5H11O7P/c6-3-1-5(7)12-4(3)2-11-13(8,...   \n4  InChI=1S/C4H8O3/c1-2-3(5)4(6)7/h3,5H,2H2,1H3,(...   \n\n                                             synonym  \\\n0                         20alpha-Hydroxycholesterol   \n1                         20alpha-Hydroxycholesterol   \n2  2-[(2E,6E,10E,14E,18E,22E,26E,30E,34E)-3,7,11,...   \n3  [(2R,3S)-3,5-dihydroxyoxolan-2-yl]methyl phosp...   \n4                             alpha-hydroxybutanoate   \n\n                        type accession_number  \n0    KEGG COMPOUND accession           C05500  \n1    KEGG COMPOUND accession           C05500  \n2  Beilstein Registry Number          2688027  \n3          MetaCyc accession  DEOXY-RIBOSE-5P  \n4     Reaxys Registry Number          3661492  \n\n[5 rows x 21 columns]",
      "text/html": "<div>\n<style scoped>\n    .dataframe tbody tr th:only-of-type {\n        vertical-align: middle;\n    }\n\n    .dataframe tbody tr th {\n        vertical-align: top;\n    }\n\n    .dataframe thead th {\n        text-align: right;\n    }\n</style>\n<table border=\"1\" class=\"dataframe\">\n  <thead>\n    <tr style=\"text-align: right;\">\n      <th></th>\n      <th>abbreviation_metabolite</th>\n      <th>casregistry_metabolite</th>\n      <th>cheblid_metabolite</th>\n      <th>description_metabolite</th>\n      <th>fullname_metabolite</th>\n      <th>hmdb_metabolite</th>\n      <th>inchikey_metabolite</th>\n      <th>inchistring_metabolite</th>\n      <th>keggid_metabolite</th>\n      <th>biocyc_metabolite</th>\n      <th>...</th>\n      <th>reconmap3_metabolite</th>\n      <th>smile_metabolite</th>\n      <th>synonyms_metabolite</th>\n      <th>chebi_id</th>\n      <th>name</th>\n      <th>definition</th>\n      <th>inchi_string</th>\n      <th>synonym</th>\n      <th>type</th>\n      <th>accession_number</th>\n    </tr>\n  </thead>\n  <tbody>\n    <tr>\n      <th>0</th>\n      <td>20ahchsterol</td>\n      <td>516-72-3</td>\n      <td>1296.0</td>\n      <td>Human Metabolome Database (HMDB): 20 alpha-hyd...</td>\n      <td>20alpha-Hydroxycholesterol</td>\n      <td>HMDB0006283</td>\n      <td>MCKLJFJEQRYRQT-APGJSSKUSA-N</td>\n      <td>InChI=1S/C27H46O2/c1-18(2)7-6-14-27(5,29)24-11...</td>\n      <td>C05500</td>\n      <td>20A-HYDROXY-CHOLESTEROL</td>\n      <td>...</td>\n      <td>20ahchsterol</td>\n      <td>[H]O[C@]1([H])C([H])([H])C2=C([H])C([H])([H])[...</td>\n      <td>(3beta,20R)-Cholest-5-ene-3,20-diol***20-Hydro...</td>\n      <td>1296</td>\n      <td>20-hydroxycholesterol</td>\n      <td>An oxysterol that is cholesterol substituted b...</td>\n      <td>InChI=1S/C27H46O2/c1-18(2)7-6-14-27(5,29)24-11...</td>\n      <td>20alpha-Hydroxycholesterol</td>\n      <td>KEGG COMPOUND accession</td>\n      <td>C05500</td>\n    </tr>\n    <tr>\n      <th>1</th>\n      <td>xol7a</td>\n      <td>NaN</td>\n      <td>17500.0</td>\n      <td>Human Metabolome Database (HMDB): 7alpha-hydro...</td>\n      <td>7a-Hydroxycholesterol</td>\n      <td>HMDB0001496</td>\n      <td>MCKLJFJEQRYRQT-APGJSSKUSA-N</td>\n      <td>InChI=1S/C27H46O2/c1-18(2)7-6-14-27(5,29)24-11...</td>\n      <td>C03594</td>\n      <td>CPD-266</td>\n      <td>...</td>\n      <td>xol7a</td>\n      <td>[H]O[C@]1([H])C([H])([H])C2=C([H])C([H])([H])[...</td>\n      <td>7 alpha-Hydroxycholesterol***7-a-Hydroxycholes...</td>\n      <td>1296</td>\n      <td>20-hydroxycholesterol</td>\n      <td>An oxysterol that is cholesterol substituted b...</td>\n      <td>InChI=1S/C27H46O2/c1-18(2)7-6-14-27(5,29)24-11...</td>\n      <td>20alpha-Hydroxycholesterol</td>\n      <td>KEGG COMPOUND accession</td>\n      <td>C05500</td>\n    </tr>\n    <tr>\n      <th>2</th>\n      <td>2dp6mobq</td>\n      <td>NaN</td>\n      <td>50773.0</td>\n      <td>Human Metabolome Database (HMDB): This compoun...</td>\n      <td>2-Decaprenyl-6-methoxy-1,4-benzoquinone</td>\n      <td>HMDB0060248</td>\n      <td>POYJNCVGTDCCPK-RDSVHMIISA-N</td>\n      <td>InChI=1S/C57H86O3/c1-44(2)22-13-23-45(3)24-14-...</td>\n      <td>NaN</td>\n      <td>CPD-11659</td>\n      <td>...</td>\n      <td>2dp6mobq</td>\n      <td>[H]C(=C(C([H])([H])[H])C([H])([H])[H])C([H])([...</td>\n      <td>2-[(2E,6E,10E,14E,18E,22E,26E,30E,34E)-3,7,11,...</td>\n      <td>50773</td>\n      <td>2-decaprenyl-6-methoxy-1,4-benzoquinone</td>\n      <td>NaN</td>\n      <td>InChI=1S/C57H86O3/c1-44(2)22-13-23-45(3)24-14-...</td>\n      <td>2-[(2E,6E,10E,14E,18E,22E,26E,30E,34E)-3,7,11,...</td>\n      <td>Beilstein Registry Number</td>\n      <td>2688027</td>\n    </tr>\n    <tr>\n      <th>3</th>\n      <td>2dr5p</td>\n      <td>102916-66-5</td>\n      <td>16132.0</td>\n      <td>Human Metabolome Database (HMDB): Deoxyribose ...</td>\n      <td>Deoxyribose 5-phosphate</td>\n      <td>HMDB0001031</td>\n      <td>KKZFLSZAWCYPOC-PYHARJCCSA-L</td>\n      <td>InChI=1S/C5H11O7P/c6-3-1-5(7)12-4(3)2-11-13(8,...</td>\n      <td>C00673</td>\n      <td>DEOXY-RIBOSE-5P</td>\n      <td>...</td>\n      <td>2dr5p</td>\n      <td>[H]OC1([H])O[C@]([H])(C([H])([H])OP([O-])([O-]...</td>\n      <td>2-Deoxy-alpha-D-ribose 5-phosphate***2-Deoxy-a...</td>\n      <td>62877</td>\n      <td>2-deoxy-D-ribofuranose 5-phosphate(2-)</td>\n      <td>An organophosphate oxoanion obtained by deprot...</td>\n      <td>InChI=1S/C5H11O7P/c6-3-1-5(7)12-4(3)2-11-13(8,...</td>\n      <td>[(2R,3S)-3,5-dihydroxyoxolan-2-yl]methyl phosp...</td>\n      <td>MetaCyc accession</td>\n      <td>DEOXY-RIBOSE-5P</td>\n    </tr>\n    <tr>\n      <th>4</th>\n      <td>2hb</td>\n      <td>600-15-7</td>\n      <td>1148.0</td>\n      <td>Human Metabolome Database (HMDB): 2-Hydroxybut...</td>\n      <td>2-Hydroxybutyric acid</td>\n      <td>HMDB0000008</td>\n      <td>AFENDNXGAFYKQO-UHFFFAOYSA-M</td>\n      <td>InChI=1S/C4H8O3/c1-2-3(5)4(6)7/h3,5H,2H2,1H3,(...</td>\n      <td>C05984</td>\n      <td>CPD-3564</td>\n      <td>...</td>\n      <td>2hb</td>\n      <td>[H]OC([H])(C([O-])=O)C([H])([H])C([H])([H])[H]</td>\n      <td>2-Hydroxybutanoic acid***alpha-Hydroxybutanoic...</td>\n      <td>64552</td>\n      <td>2-hydroxybutyrate</td>\n      <td>A hydroxy fatty acid anion that is the conjuga...</td>\n      <td>InChI=1S/C4H8O3/c1-2-3(5)4(6)7/h3,5H,2H2,1H3,(...</td>\n      <td>alpha-hydroxybutanoate</td>\n      <td>Reaxys Registry Number</td>\n      <td>3661492</td>\n    </tr>\n  </tbody>\n</table>\n<p>5 rows × 21 columns</p>\n</div>"
     },
     "execution_count": 70,
     "metadata": {},
     "output_type": "execute_result"
    }
   ],
   "source": [
    "dataset.head()"
   ],
   "metadata": {
    "collapsed": false
   }
  },
  {
   "cell_type": "code",
   "execution_count": 71,
   "outputs": [],
   "source": [
    "marker.head()\n",
    "marker_name = marker[['name','description','mdbid']]\n",
    "marker_inchi = marker[['name','description','mdbid','moldb_inchi','moldb_inchikey',]]\n",
    "marker_smile = marker[['name','description','mdbid','moldb_smiles']]\n"
   ],
   "metadata": {
    "collapsed": false
   }
  },
  {
   "cell_type": "code",
   "execution_count": 72,
   "outputs": [
    {
     "data": {
      "text/plain": "                                     name_of_disease abbreviation_of_disease  \\\n0  Glycine Encephalopathy/ Nonketotic Hyperglycin...                     NKH   \n1           Gyrate Atrophy of the Choroid And Retina                    GACR   \n2                          Maple Syrup Urine Disease                    MSUD   \n3  Neonatal Intrahepatic Cholestasis caused by Ci...                   NICCD   \n4                                 Hypermethioninemia                    HMET   \n\n                type_of_disease  \\\n0  Inherited metabolic disorder   \n1  Inherited metabolic disorder   \n2  Inherited metabolic disorder   \n3  Inherited metabolic disorder   \n4  Inherited metabolic disorder   \n\n                                    notes_of_disease  \\\n0  About 80 percent of cases of glycine encephalo...   \n1  Decreased activity of ornithine-delta-aminotra...   \n2  In plasma increased levels of allo-isoleucine,...   \n3  Blood-elevated acetylcarnitine (C2), palmitoyl...   \n4  A deficiency of any of these enzymes (i.e. MAT...   \n\n                                           phenotype  \\\n0  1) Neonatal (classic) presentation-The neonata...   \n1                                                NaN   \n2  1) Classic and intermediate MSUD. 2)There are ...   \n3  The two phenotypes of citrin deficiency are ci...   \n4                                                NaN   \n\n                    organ_affected  cheblid_of_biomarker  \\\n0                   Nervous system               15428.0   \n1                      Muscle, eye               17203.0   \n2                   Nervous system               16414.0   \n3                            Liver               16857.0   \n4  Nervous system,  liver,  muscle               16643.0   \n\n                            description_of_biomarker fullname_of_biomarker  \\\n0  Human Metabolome Database (HMDB): Glycine is a...               Glycine   \n1  Human Metabolome Database (HMDB): L-proline is...             L-Proline   \n2  Human Metabolome Database (HMDB): Valine (abbr...              L-Valine   \n3  Human Metabolome Database (HMDB): Threonine is...           L-Threonine   \n4  Human Metabolome Database (HMDB): Methionine i...          L-Methionine   \n\n  abbreviation_of_biomarker  ... value_of_biomarker normal_conc_of_biomarker  \\\n0                       gly  ...          Increased            180.00-740.00   \n1                     pro_L  ...          Increased           95.00 - 320.00   \n2                     val_L  ...          Increased                65.00-215   \n3                     thr_L  ...          Increased                 25 - 150   \n4                     met_L  ...          Increased              10.00-38.00   \n\n  ramedis_of_biomarker range_conc_of_biomarker biocyc_biomarker  \\\n0                  NaN          550.00-1350.00              GLY   \n1                  NaN                830-1360              PRO   \n2        125, 133, 337         210.00 - 650.00              VAL   \n3                  NaN                     NaN              THR   \n4                  NaN           56.00 -170.00              MET   \n\n                                     smile_biomarker hmdb_biomarker  \\\n0              [H][N+]([H])([H])C([H])([H])C([O-])=O    HMDB0000123   \n1  [H]C1([H])C([H])([H])[N+]([H])([H])[C@]([H])(C...    HMDB0000162   \n2  [H]C([H])([H])C([H])(C([H])([H])[H])[C@@]([H])...    HMDB0000883   \n3  [H]O[C@]([H])(C([H])([H])[H])[C@@]([H])(C([O-]...    HMDB0000167   \n4  [H]C([H])([H])SC([H])([H])C([H])([H])[C@@]([H]...    HMDB0000696   \n\n  reconMap3_biomarker food_db_biomarker pubChemId_biomarker  \n0                 gly         FDB000484               750.0  \n1               pro_L         FDB000570            145742.0  \n2               val_L         FDB000465              6287.0  \n3               thr_L         FDB011999              6288.0  \n4               met_L         FDB012683              6137.0  \n\n[5 rows x 24 columns]",
      "text/html": "<div>\n<style scoped>\n    .dataframe tbody tr th:only-of-type {\n        vertical-align: middle;\n    }\n\n    .dataframe tbody tr th {\n        vertical-align: top;\n    }\n\n    .dataframe thead th {\n        text-align: right;\n    }\n</style>\n<table border=\"1\" class=\"dataframe\">\n  <thead>\n    <tr style=\"text-align: right;\">\n      <th></th>\n      <th>name_of_disease</th>\n      <th>abbreviation_of_disease</th>\n      <th>type_of_disease</th>\n      <th>notes_of_disease</th>\n      <th>phenotype</th>\n      <th>organ_affected</th>\n      <th>cheblid_of_biomarker</th>\n      <th>description_of_biomarker</th>\n      <th>fullname_of_biomarker</th>\n      <th>abbreviation_of_biomarker</th>\n      <th>...</th>\n      <th>value_of_biomarker</th>\n      <th>normal_conc_of_biomarker</th>\n      <th>ramedis_of_biomarker</th>\n      <th>range_conc_of_biomarker</th>\n      <th>biocyc_biomarker</th>\n      <th>smile_biomarker</th>\n      <th>hmdb_biomarker</th>\n      <th>reconMap3_biomarker</th>\n      <th>food_db_biomarker</th>\n      <th>pubChemId_biomarker</th>\n    </tr>\n  </thead>\n  <tbody>\n    <tr>\n      <th>0</th>\n      <td>Glycine Encephalopathy/ Nonketotic Hyperglycin...</td>\n      <td>NKH</td>\n      <td>Inherited metabolic disorder</td>\n      <td>About 80 percent of cases of glycine encephalo...</td>\n      <td>1) Neonatal (classic) presentation-The neonata...</td>\n      <td>Nervous system</td>\n      <td>15428.0</td>\n      <td>Human Metabolome Database (HMDB): Glycine is a...</td>\n      <td>Glycine</td>\n      <td>gly</td>\n      <td>...</td>\n      <td>Increased</td>\n      <td>180.00-740.00</td>\n      <td>NaN</td>\n      <td>550.00-1350.00</td>\n      <td>GLY</td>\n      <td>[H][N+]([H])([H])C([H])([H])C([O-])=O</td>\n      <td>HMDB0000123</td>\n      <td>gly</td>\n      <td>FDB000484</td>\n      <td>750.0</td>\n    </tr>\n    <tr>\n      <th>1</th>\n      <td>Gyrate Atrophy of the Choroid And Retina</td>\n      <td>GACR</td>\n      <td>Inherited metabolic disorder</td>\n      <td>Decreased activity of ornithine-delta-aminotra...</td>\n      <td>NaN</td>\n      <td>Muscle, eye</td>\n      <td>17203.0</td>\n      <td>Human Metabolome Database (HMDB): L-proline is...</td>\n      <td>L-Proline</td>\n      <td>pro_L</td>\n      <td>...</td>\n      <td>Increased</td>\n      <td>95.00 - 320.00</td>\n      <td>NaN</td>\n      <td>830-1360</td>\n      <td>PRO</td>\n      <td>[H]C1([H])C([H])([H])[N+]([H])([H])[C@]([H])(C...</td>\n      <td>HMDB0000162</td>\n      <td>pro_L</td>\n      <td>FDB000570</td>\n      <td>145742.0</td>\n    </tr>\n    <tr>\n      <th>2</th>\n      <td>Maple Syrup Urine Disease</td>\n      <td>MSUD</td>\n      <td>Inherited metabolic disorder</td>\n      <td>In plasma increased levels of allo-isoleucine,...</td>\n      <td>1) Classic and intermediate MSUD. 2)There are ...</td>\n      <td>Nervous system</td>\n      <td>16414.0</td>\n      <td>Human Metabolome Database (HMDB): Valine (abbr...</td>\n      <td>L-Valine</td>\n      <td>val_L</td>\n      <td>...</td>\n      <td>Increased</td>\n      <td>65.00-215</td>\n      <td>125, 133, 337</td>\n      <td>210.00 - 650.00</td>\n      <td>VAL</td>\n      <td>[H]C([H])([H])C([H])(C([H])([H])[H])[C@@]([H])...</td>\n      <td>HMDB0000883</td>\n      <td>val_L</td>\n      <td>FDB000465</td>\n      <td>6287.0</td>\n    </tr>\n    <tr>\n      <th>3</th>\n      <td>Neonatal Intrahepatic Cholestasis caused by Ci...</td>\n      <td>NICCD</td>\n      <td>Inherited metabolic disorder</td>\n      <td>Blood-elevated acetylcarnitine (C2), palmitoyl...</td>\n      <td>The two phenotypes of citrin deficiency are ci...</td>\n      <td>Liver</td>\n      <td>16857.0</td>\n      <td>Human Metabolome Database (HMDB): Threonine is...</td>\n      <td>L-Threonine</td>\n      <td>thr_L</td>\n      <td>...</td>\n      <td>Increased</td>\n      <td>25 - 150</td>\n      <td>NaN</td>\n      <td>NaN</td>\n      <td>THR</td>\n      <td>[H]O[C@]([H])(C([H])([H])[H])[C@@]([H])(C([O-]...</td>\n      <td>HMDB0000167</td>\n      <td>thr_L</td>\n      <td>FDB011999</td>\n      <td>6288.0</td>\n    </tr>\n    <tr>\n      <th>4</th>\n      <td>Hypermethioninemia</td>\n      <td>HMET</td>\n      <td>Inherited metabolic disorder</td>\n      <td>A deficiency of any of these enzymes (i.e. MAT...</td>\n      <td>NaN</td>\n      <td>Nervous system,  liver,  muscle</td>\n      <td>16643.0</td>\n      <td>Human Metabolome Database (HMDB): Methionine i...</td>\n      <td>L-Methionine</td>\n      <td>met_L</td>\n      <td>...</td>\n      <td>Increased</td>\n      <td>10.00-38.00</td>\n      <td>NaN</td>\n      <td>56.00 -170.00</td>\n      <td>MET</td>\n      <td>[H]C([H])([H])SC([H])([H])C([H])([H])[C@@]([H]...</td>\n      <td>HMDB0000696</td>\n      <td>met_L</td>\n      <td>FDB012683</td>\n      <td>6137.0</td>\n    </tr>\n  </tbody>\n</table>\n<p>5 rows × 24 columns</p>\n</div>"
     },
     "execution_count": 72,
     "metadata": {},
     "output_type": "execute_result"
    }
   ],
   "source": [
    "biomarker.head()"
   ],
   "metadata": {
    "collapsed": false
   }
  },
  {
   "cell_type": "markdown",
   "source": [],
   "metadata": {
    "collapsed": false
   }
  },
  {
   "cell_type": "code",
   "execution_count": 73,
   "outputs": [
    {
     "data": {
      "text/plain": "                        name  \\\n0          1-Methylhistidine   \n1         1,3-Diaminopropane   \n2      2-Hydroxybutyric acid   \n3           2-Methoxyestrone   \n4  (R)-3-Hydroxybutyric acid   \n\n                                         description         hmdb  \\\n0  1-Methylhistidine, also known as 1-MHis or 1MH...  HMDB0000001   \n1  1,3-Diaminopropane, also known as trimethylene...  HMDB0000002   \n2  2-Hydroxybutyric acid (CAS: 600-15-7), also kn...  HMDB0000008   \n3  2-Methoxyestrone is a steroid derivative that ...  HMDB0000010   \n4  (R)-3-Hydroxybutyric acid is a butyric acid su...  HMDB0000011   \n\n                                        moldb_smiles moldb_formula  \\\n0                        CN1C=NC(C[C@H](N)C(O)=O)=C1     C7H11N3O2   \n1                                              NCCCN       C3H10N2   \n2                                       CCC(O)C(O)=O        C4H8O3   \n3  [H][C@@]12CCC(=O)[C@@]1(C)CC[C@]1([H])C3=C(CC[...      C19H24O3   \n4                                  C[C@@H](O)CC(O)=O        C4H8O3   \n\n                                         moldb_inchi  \\\n0  1S/C7H11N3O2/c1-10-3-5(9-4-10)2-6(8)7(11)12/h3...   \n1                       1S/C3H10N2/c4-2-1-3-5/h1-5H2   \n2     1S/C4H8O3/c1-2-3(5)4(6)7/h3,5H,2H2,1H3,(H,6,7)   \n3  1S/C19H24O3/c1-19-8-7-12-13(15(19)5-6-18(19)21...   \n4  1S/C4H8O3/c1-3(5)2-4(6)7/h3,5H,2H2,1H3,(H,6,7)...   \n\n                moldb_inchikey  \\\n0  BRMWTNUJHUMWMS-LURJTMIESA-N   \n1  XFNJVJPLKCPIBV-UHFFFAOYSA-N   \n2  AFENDNXGAFYKQO-UHFFFAOYSA-N   \n3  WHEUWNKSCXYKBU-QPWUGHHJSA-N   \n4  WHBMMWSBFZVSSR-GSVOUGTGSA-N   \n\n                                         moldb_iupac  moldb_logp  moldb_pka  \\\n0  2-amino-3-(1-methyl-1H-imidazol-4-yl)propanoic...   -3.070419        NaN   \n1                                propane-1,3-diamine   -1.362483        NaN   \n2                        (2S)-2-hydroxybutanoic acid    0.050693  14.293154   \n3  (1S,10R,11S,15S)-5-hydroxy-4-methoxy-15-methyl...    4.151358  19.957534   \n4                        (3R)-3-hydroxybutanoic acid   -0.387006  15.695695   \n\n   ...  moldb_pka_strongest_basic  moldb_pka_strongest_acidic  \\\n0  ...                   9.250317                    1.964588   \n1  ...                  10.169241                         NaN   \n2  ...                  -3.793588                    3.989999   \n3  ...                  -4.882522                   10.290800   \n4  ...                  -2.620513                    4.406291   \n\n  moldb_bioavailability  moldb_number_of_rings  moldb_rule_of_five  \\\n0                   1.0                    1.0                 1.0   \n1                   1.0                    0.0                 1.0   \n2                   1.0                    0.0                 1.0   \n3                   1.0                    4.0                 1.0   \n4                   1.0                    0.0                 1.0   \n\n   moldb_ghose_filter  moldb_veber_rule  moldb_mddr_like_rule        mdbid  \\\n0                 0.0               0.0                   0.0  MDB00000001   \n1                 0.0               0.0                   0.0  MDB00000002   \n2                 0.0               0.0                   0.0  MDB00000004   \n3                 1.0               0.0                   0.0  MDB00000005   \n4                 0.0               0.0                   0.0  MDB00000006   \n\n                                     panel_marker_id  \n0  5184,5199,5206,5236,5288,5291,5313,5338,5440,5441  \n1                                               5300  \n2                                     5338,5440,5497  \n3                                                NaN  \n4  5173,5179,5183,5199,5200,5212,5237,5269,5305,5...  \n\n[5 rows x 34 columns]",
      "text/html": "<div>\n<style scoped>\n    .dataframe tbody tr th:only-of-type {\n        vertical-align: middle;\n    }\n\n    .dataframe tbody tr th {\n        vertical-align: top;\n    }\n\n    .dataframe thead th {\n        text-align: right;\n    }\n</style>\n<table border=\"1\" class=\"dataframe\">\n  <thead>\n    <tr style=\"text-align: right;\">\n      <th></th>\n      <th>name</th>\n      <th>description</th>\n      <th>hmdb</th>\n      <th>moldb_smiles</th>\n      <th>moldb_formula</th>\n      <th>moldb_inchi</th>\n      <th>moldb_inchikey</th>\n      <th>moldb_iupac</th>\n      <th>moldb_logp</th>\n      <th>moldb_pka</th>\n      <th>...</th>\n      <th>moldb_pka_strongest_basic</th>\n      <th>moldb_pka_strongest_acidic</th>\n      <th>moldb_bioavailability</th>\n      <th>moldb_number_of_rings</th>\n      <th>moldb_rule_of_five</th>\n      <th>moldb_ghose_filter</th>\n      <th>moldb_veber_rule</th>\n      <th>moldb_mddr_like_rule</th>\n      <th>mdbid</th>\n      <th>panel_marker_id</th>\n    </tr>\n  </thead>\n  <tbody>\n    <tr>\n      <th>0</th>\n      <td>1-Methylhistidine</td>\n      <td>1-Methylhistidine, also known as 1-MHis or 1MH...</td>\n      <td>HMDB0000001</td>\n      <td>CN1C=NC(C[C@H](N)C(O)=O)=C1</td>\n      <td>C7H11N3O2</td>\n      <td>1S/C7H11N3O2/c1-10-3-5(9-4-10)2-6(8)7(11)12/h3...</td>\n      <td>BRMWTNUJHUMWMS-LURJTMIESA-N</td>\n      <td>2-amino-3-(1-methyl-1H-imidazol-4-yl)propanoic...</td>\n      <td>-3.070419</td>\n      <td>NaN</td>\n      <td>...</td>\n      <td>9.250317</td>\n      <td>1.964588</td>\n      <td>1.0</td>\n      <td>1.0</td>\n      <td>1.0</td>\n      <td>0.0</td>\n      <td>0.0</td>\n      <td>0.0</td>\n      <td>MDB00000001</td>\n      <td>5184,5199,5206,5236,5288,5291,5313,5338,5440,5441</td>\n    </tr>\n    <tr>\n      <th>1</th>\n      <td>1,3-Diaminopropane</td>\n      <td>1,3-Diaminopropane, also known as trimethylene...</td>\n      <td>HMDB0000002</td>\n      <td>NCCCN</td>\n      <td>C3H10N2</td>\n      <td>1S/C3H10N2/c4-2-1-3-5/h1-5H2</td>\n      <td>XFNJVJPLKCPIBV-UHFFFAOYSA-N</td>\n      <td>propane-1,3-diamine</td>\n      <td>-1.362483</td>\n      <td>NaN</td>\n      <td>...</td>\n      <td>10.169241</td>\n      <td>NaN</td>\n      <td>1.0</td>\n      <td>0.0</td>\n      <td>1.0</td>\n      <td>0.0</td>\n      <td>0.0</td>\n      <td>0.0</td>\n      <td>MDB00000002</td>\n      <td>5300</td>\n    </tr>\n    <tr>\n      <th>2</th>\n      <td>2-Hydroxybutyric acid</td>\n      <td>2-Hydroxybutyric acid (CAS: 600-15-7), also kn...</td>\n      <td>HMDB0000008</td>\n      <td>CCC(O)C(O)=O</td>\n      <td>C4H8O3</td>\n      <td>1S/C4H8O3/c1-2-3(5)4(6)7/h3,5H,2H2,1H3,(H,6,7)</td>\n      <td>AFENDNXGAFYKQO-UHFFFAOYSA-N</td>\n      <td>(2S)-2-hydroxybutanoic acid</td>\n      <td>0.050693</td>\n      <td>14.293154</td>\n      <td>...</td>\n      <td>-3.793588</td>\n      <td>3.989999</td>\n      <td>1.0</td>\n      <td>0.0</td>\n      <td>1.0</td>\n      <td>0.0</td>\n      <td>0.0</td>\n      <td>0.0</td>\n      <td>MDB00000004</td>\n      <td>5338,5440,5497</td>\n    </tr>\n    <tr>\n      <th>3</th>\n      <td>2-Methoxyestrone</td>\n      <td>2-Methoxyestrone is a steroid derivative that ...</td>\n      <td>HMDB0000010</td>\n      <td>[H][C@@]12CCC(=O)[C@@]1(C)CC[C@]1([H])C3=C(CC[...</td>\n      <td>C19H24O3</td>\n      <td>1S/C19H24O3/c1-19-8-7-12-13(15(19)5-6-18(19)21...</td>\n      <td>WHEUWNKSCXYKBU-QPWUGHHJSA-N</td>\n      <td>(1S,10R,11S,15S)-5-hydroxy-4-methoxy-15-methyl...</td>\n      <td>4.151358</td>\n      <td>19.957534</td>\n      <td>...</td>\n      <td>-4.882522</td>\n      <td>10.290800</td>\n      <td>1.0</td>\n      <td>4.0</td>\n      <td>1.0</td>\n      <td>1.0</td>\n      <td>0.0</td>\n      <td>0.0</td>\n      <td>MDB00000005</td>\n      <td>NaN</td>\n    </tr>\n    <tr>\n      <th>4</th>\n      <td>(R)-3-Hydroxybutyric acid</td>\n      <td>(R)-3-Hydroxybutyric acid is a butyric acid su...</td>\n      <td>HMDB0000011</td>\n      <td>C[C@@H](O)CC(O)=O</td>\n      <td>C4H8O3</td>\n      <td>1S/C4H8O3/c1-3(5)2-4(6)7/h3,5H,2H2,1H3,(H,6,7)...</td>\n      <td>WHBMMWSBFZVSSR-GSVOUGTGSA-N</td>\n      <td>(3R)-3-hydroxybutanoic acid</td>\n      <td>-0.387006</td>\n      <td>15.695695</td>\n      <td>...</td>\n      <td>-2.620513</td>\n      <td>4.406291</td>\n      <td>1.0</td>\n      <td>0.0</td>\n      <td>1.0</td>\n      <td>0.0</td>\n      <td>0.0</td>\n      <td>0.0</td>\n      <td>MDB00000006</td>\n      <td>5173,5179,5183,5199,5200,5212,5237,5269,5305,5...</td>\n    </tr>\n  </tbody>\n</table>\n<p>5 rows × 34 columns</p>\n</div>"
     },
     "execution_count": 73,
     "metadata": {},
     "output_type": "execute_result"
    }
   ],
   "source": [
    "marker.head()"
   ],
   "metadata": {
    "collapsed": false
   }
  },
  {
   "cell_type": "code",
   "execution_count": 74,
   "outputs": [
    {
     "data": {
      "text/plain": "                        name  \\\n0          1-Methylhistidine   \n1         1,3-Diaminopropane   \n2      2-Hydroxybutyric acid   \n3           2-Methoxyestrone   \n4  (R)-3-Hydroxybutyric acid   \n\n                                         description         hmdb  \\\n0  1-Methylhistidine, also known as 1-MHis or 1MH...  HMDB0000001   \n1  1,3-Diaminopropane, also known as trimethylene...  HMDB0000002   \n2  2-Hydroxybutyric acid (CAS: 600-15-7), also kn...  HMDB0000008   \n3  2-Methoxyestrone is a steroid derivative that ...  HMDB0000010   \n4  (R)-3-Hydroxybutyric acid is a butyric acid su...  HMDB0000011   \n\n                                        moldb_smiles moldb_formula  \\\n0                        CN1C=NC(C[C@H](N)C(O)=O)=C1     C7H11N3O2   \n1                                              NCCCN       C3H10N2   \n2                                       CCC(O)C(O)=O        C4H8O3   \n3  [H][C@@]12CCC(=O)[C@@]1(C)CC[C@]1([H])C3=C(CC[...      C19H24O3   \n4                                  C[C@@H](O)CC(O)=O        C4H8O3   \n\n                                         moldb_inchi  \\\n0  1S/C7H11N3O2/c1-10-3-5(9-4-10)2-6(8)7(11)12/h3...   \n1                       1S/C3H10N2/c4-2-1-3-5/h1-5H2   \n2     1S/C4H8O3/c1-2-3(5)4(6)7/h3,5H,2H2,1H3,(H,6,7)   \n3  1S/C19H24O3/c1-19-8-7-12-13(15(19)5-6-18(19)21...   \n4  1S/C4H8O3/c1-3(5)2-4(6)7/h3,5H,2H2,1H3,(H,6,7)...   \n\n                moldb_inchikey  \\\n0  BRMWTNUJHUMWMS-LURJTMIESA-N   \n1  XFNJVJPLKCPIBV-UHFFFAOYSA-N   \n2  AFENDNXGAFYKQO-UHFFFAOYSA-N   \n3  WHEUWNKSCXYKBU-QPWUGHHJSA-N   \n4  WHBMMWSBFZVSSR-GSVOUGTGSA-N   \n\n                                         moldb_iupac  moldb_logp  moldb_pka  \\\n0  2-amino-3-(1-methyl-1H-imidazol-4-yl)propanoic...   -3.070419        NaN   \n1                                propane-1,3-diamine   -1.362483        NaN   \n2                        (2S)-2-hydroxybutanoic acid    0.050693  14.293154   \n3  (1S,10R,11S,15S)-5-hydroxy-4-methoxy-15-methyl...    4.151358  19.957534   \n4                        (3R)-3-hydroxybutanoic acid   -0.387006  15.695695   \n\n   ...  moldb_pka_strongest_basic  moldb_pka_strongest_acidic  \\\n0  ...                   9.250317                    1.964588   \n1  ...                  10.169241                         NaN   \n2  ...                  -3.793588                    3.989999   \n3  ...                  -4.882522                   10.290800   \n4  ...                  -2.620513                    4.406291   \n\n  moldb_bioavailability  moldb_number_of_rings  moldb_rule_of_five  \\\n0                   1.0                    1.0                 1.0   \n1                   1.0                    0.0                 1.0   \n2                   1.0                    0.0                 1.0   \n3                   1.0                    4.0                 1.0   \n4                   1.0                    0.0                 1.0   \n\n   moldb_ghose_filter  moldb_veber_rule  moldb_mddr_like_rule        mdbid  \\\n0                 0.0               0.0                   0.0  MDB00000001   \n1                 0.0               0.0                   0.0  MDB00000002   \n2                 0.0               0.0                   0.0  MDB00000004   \n3                 1.0               0.0                   0.0  MDB00000005   \n4                 0.0               0.0                   0.0  MDB00000006   \n\n                                     panel_marker_id  \n0  5184,5199,5206,5236,5288,5291,5313,5338,5440,5441  \n1                                               5300  \n2                                     5338,5440,5497  \n3                                                NaN  \n4  5173,5179,5183,5199,5200,5212,5237,5269,5305,5...  \n\n[5 rows x 34 columns]",
      "text/html": "<div>\n<style scoped>\n    .dataframe tbody tr th:only-of-type {\n        vertical-align: middle;\n    }\n\n    .dataframe tbody tr th {\n        vertical-align: top;\n    }\n\n    .dataframe thead th {\n        text-align: right;\n    }\n</style>\n<table border=\"1\" class=\"dataframe\">\n  <thead>\n    <tr style=\"text-align: right;\">\n      <th></th>\n      <th>name</th>\n      <th>description</th>\n      <th>hmdb</th>\n      <th>moldb_smiles</th>\n      <th>moldb_formula</th>\n      <th>moldb_inchi</th>\n      <th>moldb_inchikey</th>\n      <th>moldb_iupac</th>\n      <th>moldb_logp</th>\n      <th>moldb_pka</th>\n      <th>...</th>\n      <th>moldb_pka_strongest_basic</th>\n      <th>moldb_pka_strongest_acidic</th>\n      <th>moldb_bioavailability</th>\n      <th>moldb_number_of_rings</th>\n      <th>moldb_rule_of_five</th>\n      <th>moldb_ghose_filter</th>\n      <th>moldb_veber_rule</th>\n      <th>moldb_mddr_like_rule</th>\n      <th>mdbid</th>\n      <th>panel_marker_id</th>\n    </tr>\n  </thead>\n  <tbody>\n    <tr>\n      <th>0</th>\n      <td>1-Methylhistidine</td>\n      <td>1-Methylhistidine, also known as 1-MHis or 1MH...</td>\n      <td>HMDB0000001</td>\n      <td>CN1C=NC(C[C@H](N)C(O)=O)=C1</td>\n      <td>C7H11N3O2</td>\n      <td>1S/C7H11N3O2/c1-10-3-5(9-4-10)2-6(8)7(11)12/h3...</td>\n      <td>BRMWTNUJHUMWMS-LURJTMIESA-N</td>\n      <td>2-amino-3-(1-methyl-1H-imidazol-4-yl)propanoic...</td>\n      <td>-3.070419</td>\n      <td>NaN</td>\n      <td>...</td>\n      <td>9.250317</td>\n      <td>1.964588</td>\n      <td>1.0</td>\n      <td>1.0</td>\n      <td>1.0</td>\n      <td>0.0</td>\n      <td>0.0</td>\n      <td>0.0</td>\n      <td>MDB00000001</td>\n      <td>5184,5199,5206,5236,5288,5291,5313,5338,5440,5441</td>\n    </tr>\n    <tr>\n      <th>1</th>\n      <td>1,3-Diaminopropane</td>\n      <td>1,3-Diaminopropane, also known as trimethylene...</td>\n      <td>HMDB0000002</td>\n      <td>NCCCN</td>\n      <td>C3H10N2</td>\n      <td>1S/C3H10N2/c4-2-1-3-5/h1-5H2</td>\n      <td>XFNJVJPLKCPIBV-UHFFFAOYSA-N</td>\n      <td>propane-1,3-diamine</td>\n      <td>-1.362483</td>\n      <td>NaN</td>\n      <td>...</td>\n      <td>10.169241</td>\n      <td>NaN</td>\n      <td>1.0</td>\n      <td>0.0</td>\n      <td>1.0</td>\n      <td>0.0</td>\n      <td>0.0</td>\n      <td>0.0</td>\n      <td>MDB00000002</td>\n      <td>5300</td>\n    </tr>\n    <tr>\n      <th>2</th>\n      <td>2-Hydroxybutyric acid</td>\n      <td>2-Hydroxybutyric acid (CAS: 600-15-7), also kn...</td>\n      <td>HMDB0000008</td>\n      <td>CCC(O)C(O)=O</td>\n      <td>C4H8O3</td>\n      <td>1S/C4H8O3/c1-2-3(5)4(6)7/h3,5H,2H2,1H3,(H,6,7)</td>\n      <td>AFENDNXGAFYKQO-UHFFFAOYSA-N</td>\n      <td>(2S)-2-hydroxybutanoic acid</td>\n      <td>0.050693</td>\n      <td>14.293154</td>\n      <td>...</td>\n      <td>-3.793588</td>\n      <td>3.989999</td>\n      <td>1.0</td>\n      <td>0.0</td>\n      <td>1.0</td>\n      <td>0.0</td>\n      <td>0.0</td>\n      <td>0.0</td>\n      <td>MDB00000004</td>\n      <td>5338,5440,5497</td>\n    </tr>\n    <tr>\n      <th>3</th>\n      <td>2-Methoxyestrone</td>\n      <td>2-Methoxyestrone is a steroid derivative that ...</td>\n      <td>HMDB0000010</td>\n      <td>[H][C@@]12CCC(=O)[C@@]1(C)CC[C@]1([H])C3=C(CC[...</td>\n      <td>C19H24O3</td>\n      <td>1S/C19H24O3/c1-19-8-7-12-13(15(19)5-6-18(19)21...</td>\n      <td>WHEUWNKSCXYKBU-QPWUGHHJSA-N</td>\n      <td>(1S,10R,11S,15S)-5-hydroxy-4-methoxy-15-methyl...</td>\n      <td>4.151358</td>\n      <td>19.957534</td>\n      <td>...</td>\n      <td>-4.882522</td>\n      <td>10.290800</td>\n      <td>1.0</td>\n      <td>4.0</td>\n      <td>1.0</td>\n      <td>1.0</td>\n      <td>0.0</td>\n      <td>0.0</td>\n      <td>MDB00000005</td>\n      <td>NaN</td>\n    </tr>\n    <tr>\n      <th>4</th>\n      <td>(R)-3-Hydroxybutyric acid</td>\n      <td>(R)-3-Hydroxybutyric acid is a butyric acid su...</td>\n      <td>HMDB0000011</td>\n      <td>C[C@@H](O)CC(O)=O</td>\n      <td>C4H8O3</td>\n      <td>1S/C4H8O3/c1-3(5)2-4(6)7/h3,5H,2H2,1H3,(H,6,7)...</td>\n      <td>WHBMMWSBFZVSSR-GSVOUGTGSA-N</td>\n      <td>(3R)-3-hydroxybutanoic acid</td>\n      <td>-0.387006</td>\n      <td>15.695695</td>\n      <td>...</td>\n      <td>-2.620513</td>\n      <td>4.406291</td>\n      <td>1.0</td>\n      <td>0.0</td>\n      <td>1.0</td>\n      <td>0.0</td>\n      <td>0.0</td>\n      <td>0.0</td>\n      <td>MDB00000006</td>\n      <td>5173,5179,5183,5199,5200,5212,5237,5269,5305,5...</td>\n    </tr>\n  </tbody>\n</table>\n<p>5 rows × 34 columns</p>\n</div>"
     },
     "execution_count": 74,
     "metadata": {},
     "output_type": "execute_result"
    }
   ],
   "source": [
    "marker.head()"
   ],
   "metadata": {
    "collapsed": false
   }
  },
  {
   "cell_type": "code",
   "execution_count": 75,
   "outputs": [
    {
     "data": {
      "text/plain": "  abbreviation_metabolite casregistry_metabolite  cheblid_metabolite  \\\n0            20ahchsterol               516-72-3              1296.0   \n1                   xol7a                    NaN             17500.0   \n2                2dp6mobq                    NaN             50773.0   \n3                   2dr5p            102916-66-5             16132.0   \n4                     2hb               600-15-7              1148.0   \n\n                              description_metabolite  \\\n0  Human Metabolome Database (HMDB): 20 alpha-hyd...   \n1  Human Metabolome Database (HMDB): 7alpha-hydro...   \n2  Human Metabolome Database (HMDB): This compoun...   \n3  Human Metabolome Database (HMDB): Deoxyribose ...   \n4  Human Metabolome Database (HMDB): 2-Hydroxybut...   \n\n                       fullname_metabolite hmdb_metabolite  \\\n0               20alpha-Hydroxycholesterol     HMDB0006283   \n1                    7a-Hydroxycholesterol     HMDB0001496   \n2  2-Decaprenyl-6-methoxy-1,4-benzoquinone     HMDB0060248   \n3                  Deoxyribose 5-phosphate     HMDB0001031   \n4                    2-Hydroxybutyric acid     HMDB0000008   \n\n           inchikey_metabolite  \\\n0  MCKLJFJEQRYRQT-APGJSSKUSA-N   \n1  MCKLJFJEQRYRQT-APGJSSKUSA-N   \n2  POYJNCVGTDCCPK-RDSVHMIISA-N   \n3  KKZFLSZAWCYPOC-PYHARJCCSA-L   \n4  AFENDNXGAFYKQO-UHFFFAOYSA-M   \n\n                              inchistring_metabolite keggid_metabolite  \\\n0  InChI=1S/C27H46O2/c1-18(2)7-6-14-27(5,29)24-11...            C05500   \n1  InChI=1S/C27H46O2/c1-18(2)7-6-14-27(5,29)24-11...            C03594   \n2  InChI=1S/C57H86O3/c1-44(2)22-13-23-45(3)24-14-...               NaN   \n3  InChI=1S/C5H11O7P/c6-3-1-5(7)12-4(3)2-11-13(8,...            C00673   \n4  InChI=1S/C4H8O3/c1-2-3(5)4(6)7/h3,5H,2H2,1H3,(...            C05984   \n\n         biocyc_metabolite  ... reconmap3_metabolite  \\\n0  20A-HYDROXY-CHOLESTEROL  ...         20ahchsterol   \n1                  CPD-266  ...                xol7a   \n2                CPD-11659  ...             2dp6mobq   \n3          DEOXY-RIBOSE-5P  ...                2dr5p   \n4                 CPD-3564  ...                  2hb   \n\n                                    smile_metabolite  \\\n0  [H]O[C@]1([H])C([H])([H])C2=C([H])C([H])([H])[...   \n1  [H]O[C@]1([H])C([H])([H])C2=C([H])C([H])([H])[...   \n2  [H]C(=C(C([H])([H])[H])C([H])([H])[H])C([H])([...   \n3  [H]OC1([H])O[C@]([H])(C([H])([H])OP([O-])([O-]...   \n4     [H]OC([H])(C([O-])=O)C([H])([H])C([H])([H])[H]   \n\n                                 synonyms_metabolite chebi_id  \\\n0  (3beta,20R)-Cholest-5-ene-3,20-diol***20-Hydro...     1296   \n1  7 alpha-Hydroxycholesterol***7-a-Hydroxycholes...     1296   \n2  2-[(2E,6E,10E,14E,18E,22E,26E,30E,34E)-3,7,11,...    50773   \n3  2-Deoxy-alpha-D-ribose 5-phosphate***2-Deoxy-a...    62877   \n4  2-Hydroxybutanoic acid***alpha-Hydroxybutanoic...    64552   \n\n                                      name  \\\n0                    20-hydroxycholesterol   \n1                    20-hydroxycholesterol   \n2  2-decaprenyl-6-methoxy-1,4-benzoquinone   \n3   2-deoxy-D-ribofuranose 5-phosphate(2-)   \n4                        2-hydroxybutyrate   \n\n                                          definition  \\\n0  An oxysterol that is cholesterol substituted b...   \n1  An oxysterol that is cholesterol substituted b...   \n2                                                NaN   \n3  An organophosphate oxoanion obtained by deprot...   \n4  A hydroxy fatty acid anion that is the conjuga...   \n\n                                        inchi_string  \\\n0  InChI=1S/C27H46O2/c1-18(2)7-6-14-27(5,29)24-11...   \n1  InChI=1S/C27H46O2/c1-18(2)7-6-14-27(5,29)24-11...   \n2  InChI=1S/C57H86O3/c1-44(2)22-13-23-45(3)24-14-...   \n3  InChI=1S/C5H11O7P/c6-3-1-5(7)12-4(3)2-11-13(8,...   \n4  InChI=1S/C4H8O3/c1-2-3(5)4(6)7/h3,5H,2H2,1H3,(...   \n\n                                             synonym  \\\n0                         20alpha-Hydroxycholesterol   \n1                         20alpha-Hydroxycholesterol   \n2  2-[(2E,6E,10E,14E,18E,22E,26E,30E,34E)-3,7,11,...   \n3  [(2R,3S)-3,5-dihydroxyoxolan-2-yl]methyl phosp...   \n4                             alpha-hydroxybutanoate   \n\n                        type accession_number  \n0    KEGG COMPOUND accession           C05500  \n1    KEGG COMPOUND accession           C05500  \n2  Beilstein Registry Number          2688027  \n3          MetaCyc accession  DEOXY-RIBOSE-5P  \n4     Reaxys Registry Number          3661492  \n\n[5 rows x 21 columns]",
      "text/html": "<div>\n<style scoped>\n    .dataframe tbody tr th:only-of-type {\n        vertical-align: middle;\n    }\n\n    .dataframe tbody tr th {\n        vertical-align: top;\n    }\n\n    .dataframe thead th {\n        text-align: right;\n    }\n</style>\n<table border=\"1\" class=\"dataframe\">\n  <thead>\n    <tr style=\"text-align: right;\">\n      <th></th>\n      <th>abbreviation_metabolite</th>\n      <th>casregistry_metabolite</th>\n      <th>cheblid_metabolite</th>\n      <th>description_metabolite</th>\n      <th>fullname_metabolite</th>\n      <th>hmdb_metabolite</th>\n      <th>inchikey_metabolite</th>\n      <th>inchistring_metabolite</th>\n      <th>keggid_metabolite</th>\n      <th>biocyc_metabolite</th>\n      <th>...</th>\n      <th>reconmap3_metabolite</th>\n      <th>smile_metabolite</th>\n      <th>synonyms_metabolite</th>\n      <th>chebi_id</th>\n      <th>name</th>\n      <th>definition</th>\n      <th>inchi_string</th>\n      <th>synonym</th>\n      <th>type</th>\n      <th>accession_number</th>\n    </tr>\n  </thead>\n  <tbody>\n    <tr>\n      <th>0</th>\n      <td>20ahchsterol</td>\n      <td>516-72-3</td>\n      <td>1296.0</td>\n      <td>Human Metabolome Database (HMDB): 20 alpha-hyd...</td>\n      <td>20alpha-Hydroxycholesterol</td>\n      <td>HMDB0006283</td>\n      <td>MCKLJFJEQRYRQT-APGJSSKUSA-N</td>\n      <td>InChI=1S/C27H46O2/c1-18(2)7-6-14-27(5,29)24-11...</td>\n      <td>C05500</td>\n      <td>20A-HYDROXY-CHOLESTEROL</td>\n      <td>...</td>\n      <td>20ahchsterol</td>\n      <td>[H]O[C@]1([H])C([H])([H])C2=C([H])C([H])([H])[...</td>\n      <td>(3beta,20R)-Cholest-5-ene-3,20-diol***20-Hydro...</td>\n      <td>1296</td>\n      <td>20-hydroxycholesterol</td>\n      <td>An oxysterol that is cholesterol substituted b...</td>\n      <td>InChI=1S/C27H46O2/c1-18(2)7-6-14-27(5,29)24-11...</td>\n      <td>20alpha-Hydroxycholesterol</td>\n      <td>KEGG COMPOUND accession</td>\n      <td>C05500</td>\n    </tr>\n    <tr>\n      <th>1</th>\n      <td>xol7a</td>\n      <td>NaN</td>\n      <td>17500.0</td>\n      <td>Human Metabolome Database (HMDB): 7alpha-hydro...</td>\n      <td>7a-Hydroxycholesterol</td>\n      <td>HMDB0001496</td>\n      <td>MCKLJFJEQRYRQT-APGJSSKUSA-N</td>\n      <td>InChI=1S/C27H46O2/c1-18(2)7-6-14-27(5,29)24-11...</td>\n      <td>C03594</td>\n      <td>CPD-266</td>\n      <td>...</td>\n      <td>xol7a</td>\n      <td>[H]O[C@]1([H])C([H])([H])C2=C([H])C([H])([H])[...</td>\n      <td>7 alpha-Hydroxycholesterol***7-a-Hydroxycholes...</td>\n      <td>1296</td>\n      <td>20-hydroxycholesterol</td>\n      <td>An oxysterol that is cholesterol substituted b...</td>\n      <td>InChI=1S/C27H46O2/c1-18(2)7-6-14-27(5,29)24-11...</td>\n      <td>20alpha-Hydroxycholesterol</td>\n      <td>KEGG COMPOUND accession</td>\n      <td>C05500</td>\n    </tr>\n    <tr>\n      <th>2</th>\n      <td>2dp6mobq</td>\n      <td>NaN</td>\n      <td>50773.0</td>\n      <td>Human Metabolome Database (HMDB): This compoun...</td>\n      <td>2-Decaprenyl-6-methoxy-1,4-benzoquinone</td>\n      <td>HMDB0060248</td>\n      <td>POYJNCVGTDCCPK-RDSVHMIISA-N</td>\n      <td>InChI=1S/C57H86O3/c1-44(2)22-13-23-45(3)24-14-...</td>\n      <td>NaN</td>\n      <td>CPD-11659</td>\n      <td>...</td>\n      <td>2dp6mobq</td>\n      <td>[H]C(=C(C([H])([H])[H])C([H])([H])[H])C([H])([...</td>\n      <td>2-[(2E,6E,10E,14E,18E,22E,26E,30E,34E)-3,7,11,...</td>\n      <td>50773</td>\n      <td>2-decaprenyl-6-methoxy-1,4-benzoquinone</td>\n      <td>NaN</td>\n      <td>InChI=1S/C57H86O3/c1-44(2)22-13-23-45(3)24-14-...</td>\n      <td>2-[(2E,6E,10E,14E,18E,22E,26E,30E,34E)-3,7,11,...</td>\n      <td>Beilstein Registry Number</td>\n      <td>2688027</td>\n    </tr>\n    <tr>\n      <th>3</th>\n      <td>2dr5p</td>\n      <td>102916-66-5</td>\n      <td>16132.0</td>\n      <td>Human Metabolome Database (HMDB): Deoxyribose ...</td>\n      <td>Deoxyribose 5-phosphate</td>\n      <td>HMDB0001031</td>\n      <td>KKZFLSZAWCYPOC-PYHARJCCSA-L</td>\n      <td>InChI=1S/C5H11O7P/c6-3-1-5(7)12-4(3)2-11-13(8,...</td>\n      <td>C00673</td>\n      <td>DEOXY-RIBOSE-5P</td>\n      <td>...</td>\n      <td>2dr5p</td>\n      <td>[H]OC1([H])O[C@]([H])(C([H])([H])OP([O-])([O-]...</td>\n      <td>2-Deoxy-alpha-D-ribose 5-phosphate***2-Deoxy-a...</td>\n      <td>62877</td>\n      <td>2-deoxy-D-ribofuranose 5-phosphate(2-)</td>\n      <td>An organophosphate oxoanion obtained by deprot...</td>\n      <td>InChI=1S/C5H11O7P/c6-3-1-5(7)12-4(3)2-11-13(8,...</td>\n      <td>[(2R,3S)-3,5-dihydroxyoxolan-2-yl]methyl phosp...</td>\n      <td>MetaCyc accession</td>\n      <td>DEOXY-RIBOSE-5P</td>\n    </tr>\n    <tr>\n      <th>4</th>\n      <td>2hb</td>\n      <td>600-15-7</td>\n      <td>1148.0</td>\n      <td>Human Metabolome Database (HMDB): 2-Hydroxybut...</td>\n      <td>2-Hydroxybutyric acid</td>\n      <td>HMDB0000008</td>\n      <td>AFENDNXGAFYKQO-UHFFFAOYSA-M</td>\n      <td>InChI=1S/C4H8O3/c1-2-3(5)4(6)7/h3,5H,2H2,1H3,(...</td>\n      <td>C05984</td>\n      <td>CPD-3564</td>\n      <td>...</td>\n      <td>2hb</td>\n      <td>[H]OC([H])(C([O-])=O)C([H])([H])C([H])([H])[H]</td>\n      <td>2-Hydroxybutanoic acid***alpha-Hydroxybutanoic...</td>\n      <td>64552</td>\n      <td>2-hydroxybutyrate</td>\n      <td>A hydroxy fatty acid anion that is the conjuga...</td>\n      <td>InChI=1S/C4H8O3/c1-2-3(5)4(6)7/h3,5H,2H2,1H3,(...</td>\n      <td>alpha-hydroxybutanoate</td>\n      <td>Reaxys Registry Number</td>\n      <td>3661492</td>\n    </tr>\n  </tbody>\n</table>\n<p>5 rows × 21 columns</p>\n</div>"
     },
     "execution_count": 75,
     "metadata": {},
     "output_type": "execute_result"
    }
   ],
   "source": [
    "dataset.head()"
   ],
   "metadata": {
    "collapsed": false
   }
  },
  {
   "cell_type": "code",
   "execution_count": 76,
   "outputs": [],
   "source": [
    "dataset_id = dataset[['fullname_metabolite','chebi_id','inchikey_metabolite','inchistring_metabolite','smile_metabolite']]"
   ],
   "metadata": {
    "collapsed": false
   }
  },
  {
   "cell_type": "code",
   "execution_count": 77,
   "outputs": [
    {
     "name": "stdout",
     "output_type": "stream",
     "text": [
      "<class 'pandas.core.frame.DataFrame'>\n",
      "Int64Index: 265 entries, 0 to 7\n",
      "Data columns (total 21 columns):\n",
      " #   Column                   Non-Null Count  Dtype  \n",
      "---  ------                   --------------  -----  \n",
      " 0   abbreviation_metabolite  265 non-null    object \n",
      " 1   casregistry_metabolite   154 non-null    object \n",
      " 2   cheblid_metabolite       183 non-null    float64\n",
      " 3   description_metabolite   198 non-null    object \n",
      " 4   fullname_metabolite      265 non-null    object \n",
      " 5   hmdb_metabolite          200 non-null    object \n",
      " 6   inchikey_metabolite      242 non-null    object \n",
      " 7   inchistring_metabolite   245 non-null    object \n",
      " 8   keggid_metabolite        202 non-null    object \n",
      " 9   biocyc_metabolite        80 non-null     object \n",
      " 10  food_db_metabolite       161 non-null    object \n",
      " 11  reconmap3_metabolite     162 non-null    object \n",
      " 12  smile_metabolite         237 non-null    object \n",
      " 13  synonyms_metabolite      188 non-null    object \n",
      " 14  chebi_id                 265 non-null    int64  \n",
      " 15  name                     265 non-null    object \n",
      " 16  definition               238 non-null    object \n",
      " 17  inchi_string             265 non-null    object \n",
      " 18  synonym                  265 non-null    object \n",
      " 19  type                     265 non-null    object \n",
      " 20  accession_number         265 non-null    object \n",
      "dtypes: float64(1), int64(1), object(19)\n",
      "memory usage: 45.5+ KB\n"
     ]
    }
   ],
   "source": [
    "dataset.info()"
   ],
   "metadata": {
    "collapsed": false
   }
  },
  {
   "cell_type": "code",
   "execution_count": 78,
   "outputs": [
    {
     "data": {
      "text/plain": "                        name  \\\n0          1-Methylhistidine   \n1         1,3-Diaminopropane   \n2      2-Hydroxybutyric acid   \n3           2-Methoxyestrone   \n4  (R)-3-Hydroxybutyric acid   \n\n                                         description        mdbid  \\\n0  1-Methylhistidine, also known as 1-MHis or 1MH...  MDB00000001   \n1  1,3-Diaminopropane, also known as trimethylene...  MDB00000002   \n2  2-Hydroxybutyric acid (CAS: 600-15-7), also kn...  MDB00000004   \n3  2-Methoxyestrone is a steroid derivative that ...  MDB00000005   \n4  (R)-3-Hydroxybutyric acid is a butyric acid su...  MDB00000006   \n\n                                         moldb_inchi  \\\n0  1S/C7H11N3O2/c1-10-3-5(9-4-10)2-6(8)7(11)12/h3...   \n1                       1S/C3H10N2/c4-2-1-3-5/h1-5H2   \n2     1S/C4H8O3/c1-2-3(5)4(6)7/h3,5H,2H2,1H3,(H,6,7)   \n3  1S/C19H24O3/c1-19-8-7-12-13(15(19)5-6-18(19)21...   \n4  1S/C4H8O3/c1-3(5)2-4(6)7/h3,5H,2H2,1H3,(H,6,7)...   \n\n                moldb_inchikey  \n0  BRMWTNUJHUMWMS-LURJTMIESA-N  \n1  XFNJVJPLKCPIBV-UHFFFAOYSA-N  \n2  AFENDNXGAFYKQO-UHFFFAOYSA-N  \n3  WHEUWNKSCXYKBU-QPWUGHHJSA-N  \n4  WHBMMWSBFZVSSR-GSVOUGTGSA-N  ",
      "text/html": "<div>\n<style scoped>\n    .dataframe tbody tr th:only-of-type {\n        vertical-align: middle;\n    }\n\n    .dataframe tbody tr th {\n        vertical-align: top;\n    }\n\n    .dataframe thead th {\n        text-align: right;\n    }\n</style>\n<table border=\"1\" class=\"dataframe\">\n  <thead>\n    <tr style=\"text-align: right;\">\n      <th></th>\n      <th>name</th>\n      <th>description</th>\n      <th>mdbid</th>\n      <th>moldb_inchi</th>\n      <th>moldb_inchikey</th>\n    </tr>\n  </thead>\n  <tbody>\n    <tr>\n      <th>0</th>\n      <td>1-Methylhistidine</td>\n      <td>1-Methylhistidine, also known as 1-MHis or 1MH...</td>\n      <td>MDB00000001</td>\n      <td>1S/C7H11N3O2/c1-10-3-5(9-4-10)2-6(8)7(11)12/h3...</td>\n      <td>BRMWTNUJHUMWMS-LURJTMIESA-N</td>\n    </tr>\n    <tr>\n      <th>1</th>\n      <td>1,3-Diaminopropane</td>\n      <td>1,3-Diaminopropane, also known as trimethylene...</td>\n      <td>MDB00000002</td>\n      <td>1S/C3H10N2/c4-2-1-3-5/h1-5H2</td>\n      <td>XFNJVJPLKCPIBV-UHFFFAOYSA-N</td>\n    </tr>\n    <tr>\n      <th>2</th>\n      <td>2-Hydroxybutyric acid</td>\n      <td>2-Hydroxybutyric acid (CAS: 600-15-7), also kn...</td>\n      <td>MDB00000004</td>\n      <td>1S/C4H8O3/c1-2-3(5)4(6)7/h3,5H,2H2,1H3,(H,6,7)</td>\n      <td>AFENDNXGAFYKQO-UHFFFAOYSA-N</td>\n    </tr>\n    <tr>\n      <th>3</th>\n      <td>2-Methoxyestrone</td>\n      <td>2-Methoxyestrone is a steroid derivative that ...</td>\n      <td>MDB00000005</td>\n      <td>1S/C19H24O3/c1-19-8-7-12-13(15(19)5-6-18(19)21...</td>\n      <td>WHEUWNKSCXYKBU-QPWUGHHJSA-N</td>\n    </tr>\n    <tr>\n      <th>4</th>\n      <td>(R)-3-Hydroxybutyric acid</td>\n      <td>(R)-3-Hydroxybutyric acid is a butyric acid su...</td>\n      <td>MDB00000006</td>\n      <td>1S/C4H8O3/c1-3(5)2-4(6)7/h3,5H,2H2,1H3,(H,6,7)...</td>\n      <td>WHBMMWSBFZVSSR-GSVOUGTGSA-N</td>\n    </tr>\n  </tbody>\n</table>\n</div>"
     },
     "execution_count": 78,
     "metadata": {},
     "output_type": "execute_result"
    }
   ],
   "source": [
    "marker_inchi.head()"
   ],
   "metadata": {
    "collapsed": false
   }
  },
  {
   "cell_type": "code",
   "execution_count": 79,
   "outputs": [],
   "source": [
    "merge_1 = dataset_id.merge(marker_name,left_on='fullname_metabolite',right_on='name',how='inner')"
   ],
   "metadata": {
    "collapsed": false
   }
  },
  {
   "cell_type": "code",
   "execution_count": 80,
   "outputs": [],
   "source": [
    "merge_2 = dataset_id.merge(marker_inchi,left_on=['inchikey_metabolite'],right_on=['moldb_inchikey'],how='inner')"
   ],
   "metadata": {
    "collapsed": false
   }
  },
  {
   "cell_type": "code",
   "execution_count": 81,
   "outputs": [],
   "source": [
    "merge_3 = dataset_id.merge(marker_inchi,left_on=['inchistring_metabolite'],right_on=['moldb_inchi'],how='inner')\n"
   ],
   "metadata": {
    "collapsed": false
   }
  },
  {
   "cell_type": "code",
   "execution_count": 82,
   "outputs": [],
   "source": [
    "merge_4 = dataset_id.merge(marker_smile,left_on=['smile_metabolite'],right_on=['moldb_smiles'],how='inner')"
   ],
   "metadata": {
    "collapsed": false
   }
  },
  {
   "cell_type": "code",
   "execution_count": 83,
   "outputs": [
    {
     "name": "stdout",
     "output_type": "stream",
     "text": [
      "<class 'pandas.core.frame.DataFrame'>\n",
      "Int64Index: 36 entries, 0 to 35\n",
      "Data columns (total 8 columns):\n",
      " #   Column                  Non-Null Count  Dtype \n",
      "---  ------                  --------------  ----- \n",
      " 0   fullname_metabolite     36 non-null     object\n",
      " 1   chebi_id                36 non-null     int64 \n",
      " 2   inchikey_metabolite     36 non-null     object\n",
      " 3   inchistring_metabolite  36 non-null     object\n",
      " 4   smile_metabolite        36 non-null     object\n",
      " 5   name                    36 non-null     object\n",
      " 6   description             36 non-null     object\n",
      " 7   mdbid                   36 non-null     object\n",
      "dtypes: int64(1), object(7)\n",
      "memory usage: 2.5+ KB\n"
     ]
    }
   ],
   "source": [
    "merge_1.info()"
   ],
   "metadata": {
    "collapsed": false
   }
  },
  {
   "cell_type": "code",
   "execution_count": 84,
   "outputs": [
    {
     "name": "stdout",
     "output_type": "stream",
     "text": [
      "<class 'pandas.core.frame.DataFrame'>\n",
      "Int64Index: 13 entries, 0 to 12\n",
      "Data columns (total 10 columns):\n",
      " #   Column                  Non-Null Count  Dtype \n",
      "---  ------                  --------------  ----- \n",
      " 0   fullname_metabolite     13 non-null     object\n",
      " 1   chebi_id                13 non-null     int64 \n",
      " 2   inchikey_metabolite     13 non-null     object\n",
      " 3   inchistring_metabolite  13 non-null     object\n",
      " 4   smile_metabolite        13 non-null     object\n",
      " 5   name                    13 non-null     object\n",
      " 6   description             13 non-null     object\n",
      " 7   mdbid                   13 non-null     object\n",
      " 8   moldb_inchi             13 non-null     object\n",
      " 9   moldb_inchikey          13 non-null     object\n",
      "dtypes: int64(1), object(9)\n",
      "memory usage: 1.1+ KB\n"
     ]
    }
   ],
   "source": [
    "merge_2.info()"
   ],
   "metadata": {
    "collapsed": false
   }
  },
  {
   "cell_type": "code",
   "execution_count": 85,
   "outputs": [
    {
     "name": "stdout",
     "output_type": "stream",
     "text": [
      "<class 'pandas.core.frame.DataFrame'>\n",
      "Index: 0 entries\n",
      "Data columns (total 10 columns):\n",
      " #   Column                  Non-Null Count  Dtype \n",
      "---  ------                  --------------  ----- \n",
      " 0   fullname_metabolite     0 non-null      object\n",
      " 1   chebi_id                0 non-null      int64 \n",
      " 2   inchikey_metabolite     0 non-null      object\n",
      " 3   inchistring_metabolite  0 non-null      object\n",
      " 4   smile_metabolite        0 non-null      object\n",
      " 5   name                    0 non-null      object\n",
      " 6   description             0 non-null      object\n",
      " 7   mdbid                   0 non-null      object\n",
      " 8   moldb_inchi             0 non-null      object\n",
      " 9   moldb_inchikey          0 non-null      object\n",
      "dtypes: int64(1), object(9)\n",
      "memory usage: 0.0+ bytes\n"
     ]
    }
   ],
   "source": [
    "merge_3.info()"
   ],
   "metadata": {
    "collapsed": false
   }
  },
  {
   "cell_type": "code",
   "execution_count": 86,
   "outputs": [
    {
     "name": "stdout",
     "output_type": "stream",
     "text": [
      "<class 'pandas.core.frame.DataFrame'>\n",
      "Index: 0 entries\n",
      "Data columns (total 9 columns):\n",
      " #   Column                  Non-Null Count  Dtype \n",
      "---  ------                  --------------  ----- \n",
      " 0   fullname_metabolite     0 non-null      object\n",
      " 1   chebi_id                0 non-null      int64 \n",
      " 2   inchikey_metabolite     0 non-null      object\n",
      " 3   inchistring_metabolite  0 non-null      object\n",
      " 4   smile_metabolite        0 non-null      object\n",
      " 5   name                    0 non-null      object\n",
      " 6   description             0 non-null      object\n",
      " 7   mdbid                   0 non-null      object\n",
      " 8   moldb_smiles            0 non-null      object\n",
      "dtypes: int64(1), object(8)\n",
      "memory usage: 0.0+ bytes\n"
     ]
    }
   ],
   "source": [
    "merge_4.info()"
   ],
   "metadata": {
    "collapsed": false
   }
  },
  {
   "cell_type": "code",
   "execution_count": 87,
   "outputs": [],
   "source": [
    "frames = [merge_1,merge_2]"
   ],
   "metadata": {
    "collapsed": false
   }
  },
  {
   "cell_type": "code",
   "execution_count": 88,
   "outputs": [],
   "source": [
    "marker_final = pd.concat(frames)"
   ],
   "metadata": {
    "collapsed": false
   }
  },
  {
   "cell_type": "code",
   "execution_count": 89,
   "outputs": [
    {
     "name": "stdout",
     "output_type": "stream",
     "text": [
      "<class 'pandas.core.frame.DataFrame'>\n",
      "Int64Index: 49 entries, 0 to 12\n",
      "Data columns (total 10 columns):\n",
      " #   Column                  Non-Null Count  Dtype \n",
      "---  ------                  --------------  ----- \n",
      " 0   fullname_metabolite     49 non-null     object\n",
      " 1   chebi_id                49 non-null     int64 \n",
      " 2   inchikey_metabolite     49 non-null     object\n",
      " 3   inchistring_metabolite  49 non-null     object\n",
      " 4   smile_metabolite        49 non-null     object\n",
      " 5   name                    49 non-null     object\n",
      " 6   description             49 non-null     object\n",
      " 7   mdbid                   49 non-null     object\n",
      " 8   moldb_inchi             13 non-null     object\n",
      " 9   moldb_inchikey          13 non-null     object\n",
      "dtypes: int64(1), object(9)\n",
      "memory usage: 4.2+ KB\n"
     ]
    }
   ],
   "source": [
    "marker_final.info()"
   ],
   "metadata": {
    "collapsed": false
   }
  },
  {
   "cell_type": "code",
   "execution_count": 90,
   "outputs": [
    {
     "data": {
      "text/plain": "0"
     },
     "execution_count": 90,
     "metadata": {},
     "output_type": "execute_result"
    }
   ],
   "source": [
    "marker.duplicated().sum()"
   ],
   "metadata": {
    "collapsed": false
   }
  },
  {
   "cell_type": "code",
   "execution_count": 91,
   "outputs": [],
   "source": [
    "marker_final.to_csv('final_merge.csv')"
   ],
   "metadata": {
    "collapsed": false
   }
  },
  {
   "cell_type": "code",
   "execution_count": 92,
   "outputs": [],
   "source": [
    "disease = pd.read_csv('markerdb_f.csv')"
   ],
   "metadata": {
    "collapsed": false
   }
  },
  {
   "cell_type": "code",
   "execution_count": 93,
   "outputs": [
    {
     "data": {
      "text/plain": "                    name  value                            disease  \\\n0      1-Methylhistidine     33                Alzheimer's Disease   \n1      1-Methylhistidine   5988             Preeclampsia/Eclampsia   \n2      1-Methylhistidine     83             Chronic Kidney Disease   \n3     1,3-Diaminopropane    207                           Leukemia   \n4  2-Hydroxybutyric acid    286  Pyruvate Dehydrogenase Deficiency   \n\n                   age  Gender location  \\\n0  Adult: >=18 yrs old    Both    Urine   \n1  Adult: >=18 yrs old  Female    Blood   \n2  Adult: >=18 yrs old    Both    Blood   \n3  Adult: >=18 yrs old    Both    Urine   \n4  Adult: >=18 yrs old    Both    Urine   \n\n                           concentration  markerdb_id  \\\n0  15.7 (11.7-19.7) umol/mmol creatinine          129   \n1                                50.7 uM       367357   \n2                    28.8 (10.6-47.0) uM          958   \n3   0.96 (0.12-2.1) umol/mmol creatinine         1173   \n4              25.0 umol/mmol creatinine       367359   \n\n                                              method          id  \n0  Fonteh, A. N., Harrington, R. J., Tsai, A., Li...  17031479.0  \n1                                                NaN  22494326.0  \n2  Raj, D. S., Ouwendyk, M., Francoeur, R. & Pier...  10838467.0  \n3  Lee, S. H., Suh, J. W., Chung, B. C. & Kim, S....   9464484.0  \n4                                        OMIM 238331         NaN  ",
      "text/html": "<div>\n<style scoped>\n    .dataframe tbody tr th:only-of-type {\n        vertical-align: middle;\n    }\n\n    .dataframe tbody tr th {\n        vertical-align: top;\n    }\n\n    .dataframe thead th {\n        text-align: right;\n    }\n</style>\n<table border=\"1\" class=\"dataframe\">\n  <thead>\n    <tr style=\"text-align: right;\">\n      <th></th>\n      <th>name</th>\n      <th>value</th>\n      <th>disease</th>\n      <th>age</th>\n      <th>Gender</th>\n      <th>location</th>\n      <th>concentration</th>\n      <th>markerdb_id</th>\n      <th>method</th>\n      <th>id</th>\n    </tr>\n  </thead>\n  <tbody>\n    <tr>\n      <th>0</th>\n      <td>1-Methylhistidine</td>\n      <td>33</td>\n      <td>Alzheimer's Disease</td>\n      <td>Adult: &gt;=18 yrs old</td>\n      <td>Both</td>\n      <td>Urine</td>\n      <td>15.7 (11.7-19.7) umol/mmol creatinine</td>\n      <td>129</td>\n      <td>Fonteh, A. N., Harrington, R. J., Tsai, A., Li...</td>\n      <td>17031479.0</td>\n    </tr>\n    <tr>\n      <th>1</th>\n      <td>1-Methylhistidine</td>\n      <td>5988</td>\n      <td>Preeclampsia/Eclampsia</td>\n      <td>Adult: &gt;=18 yrs old</td>\n      <td>Female</td>\n      <td>Blood</td>\n      <td>50.7 uM</td>\n      <td>367357</td>\n      <td>NaN</td>\n      <td>22494326.0</td>\n    </tr>\n    <tr>\n      <th>2</th>\n      <td>1-Methylhistidine</td>\n      <td>83</td>\n      <td>Chronic Kidney Disease</td>\n      <td>Adult: &gt;=18 yrs old</td>\n      <td>Both</td>\n      <td>Blood</td>\n      <td>28.8 (10.6-47.0) uM</td>\n      <td>958</td>\n      <td>Raj, D. S., Ouwendyk, M., Francoeur, R. &amp; Pier...</td>\n      <td>10838467.0</td>\n    </tr>\n    <tr>\n      <th>3</th>\n      <td>1,3-Diaminopropane</td>\n      <td>207</td>\n      <td>Leukemia</td>\n      <td>Adult: &gt;=18 yrs old</td>\n      <td>Both</td>\n      <td>Urine</td>\n      <td>0.96 (0.12-2.1) umol/mmol creatinine</td>\n      <td>1173</td>\n      <td>Lee, S. H., Suh, J. W., Chung, B. C. &amp; Kim, S....</td>\n      <td>9464484.0</td>\n    </tr>\n    <tr>\n      <th>4</th>\n      <td>2-Hydroxybutyric acid</td>\n      <td>286</td>\n      <td>Pyruvate Dehydrogenase Deficiency</td>\n      <td>Adult: &gt;=18 yrs old</td>\n      <td>Both</td>\n      <td>Urine</td>\n      <td>25.0 umol/mmol creatinine</td>\n      <td>367359</td>\n      <td>OMIM 238331</td>\n      <td>NaN</td>\n    </tr>\n  </tbody>\n</table>\n</div>"
     },
     "execution_count": 93,
     "metadata": {},
     "output_type": "execute_result"
    }
   ],
   "source": [
    "disease.head()"
   ],
   "metadata": {
    "collapsed": false
   }
  },
  {
   "cell_type": "code",
   "execution_count": 65,
   "outputs": [],
   "source": [
    "marker_disease = disease[['name','disease','markerdb_id']]"
   ],
   "metadata": {
    "collapsed": false
   }
  },
  {
   "cell_type": "code",
   "execution_count": 68,
   "outputs": [
    {
     "data": {
      "text/plain": "                    name                            disease  markerdb_id\n0      1-Methylhistidine                Alzheimer's Disease          129\n1      1-Methylhistidine             Preeclampsia/Eclampsia       367357\n2      1-Methylhistidine             Chronic Kidney Disease          958\n3     1,3-Diaminopropane                           Leukemia         1173\n4  2-Hydroxybutyric acid  Pyruvate Dehydrogenase Deficiency       367359",
      "text/html": "<div>\n<style scoped>\n    .dataframe tbody tr th:only-of-type {\n        vertical-align: middle;\n    }\n\n    .dataframe tbody tr th {\n        vertical-align: top;\n    }\n\n    .dataframe thead th {\n        text-align: right;\n    }\n</style>\n<table border=\"1\" class=\"dataframe\">\n  <thead>\n    <tr style=\"text-align: right;\">\n      <th></th>\n      <th>name</th>\n      <th>disease</th>\n      <th>markerdb_id</th>\n    </tr>\n  </thead>\n  <tbody>\n    <tr>\n      <th>0</th>\n      <td>1-Methylhistidine</td>\n      <td>Alzheimer's Disease</td>\n      <td>129</td>\n    </tr>\n    <tr>\n      <th>1</th>\n      <td>1-Methylhistidine</td>\n      <td>Preeclampsia/Eclampsia</td>\n      <td>367357</td>\n    </tr>\n    <tr>\n      <th>2</th>\n      <td>1-Methylhistidine</td>\n      <td>Chronic Kidney Disease</td>\n      <td>958</td>\n    </tr>\n    <tr>\n      <th>3</th>\n      <td>1,3-Diaminopropane</td>\n      <td>Leukemia</td>\n      <td>1173</td>\n    </tr>\n    <tr>\n      <th>4</th>\n      <td>2-Hydroxybutyric acid</td>\n      <td>Pyruvate Dehydrogenase Deficiency</td>\n      <td>367359</td>\n    </tr>\n  </tbody>\n</table>\n</div>"
     },
     "execution_count": 68,
     "metadata": {},
     "output_type": "execute_result"
    }
   ],
   "source": [
    "marker_disease.head()"
   ],
   "metadata": {
    "collapsed": false
   }
  },
  {
   "cell_type": "code",
   "execution_count": 70,
   "outputs": [
    {
     "name": "stderr",
     "output_type": "stream",
     "text": [
      "C:\\Users\\karim\\AppData\\Local\\Temp\\ipykernel_15036\\1025884622.py:1: SettingWithCopyWarning: \n",
      "A value is trying to be set on a copy of a slice from a DataFrame.\n",
      "Try using .loc[row_indexer,col_indexer] = value instead\n",
      "\n",
      "See the caveats in the documentation: https://pandas.pydata.org/pandas-docs/stable/user_guide/indexing.html#returning-a-view-versus-a-copy\n",
      "  marker_disease['markerdb_id']=marker_disease['markerdb_id'].astype(str)\n"
     ]
    }
   ],
   "source": [
    "marker_disease['markerdb_id']=marker_disease['markerdb_id'].astype(str)"
   ],
   "metadata": {
    "collapsed": false
   }
  },
  {
   "cell_type": "code",
   "execution_count": 71,
   "outputs": [
    {
     "name": "stdout",
     "output_type": "stream",
     "text": [
      "<class 'pandas.core.frame.DataFrame'>\n",
      "RangeIndex: 1759 entries, 0 to 1758\n",
      "Data columns (total 3 columns):\n",
      " #   Column       Non-Null Count  Dtype \n",
      "---  ------       --------------  ----- \n",
      " 0   name         1759 non-null   object\n",
      " 1   disease      1759 non-null   object\n",
      " 2   markerdb_id  1759 non-null   object\n",
      "dtypes: object(3)\n",
      "memory usage: 41.4+ KB\n"
     ]
    }
   ],
   "source": [
    "marker_disease.info()"
   ],
   "metadata": {
    "collapsed": false
   }
  },
  {
   "cell_type": "code",
   "execution_count": 48,
   "outputs": [
    {
     "data": {
      "text/plain": "              fullname_metabolite  chebi_id          inchikey_metabolite  \\\n0           7a-Hydroxycholesterol      1296  MCKLJFJEQRYRQT-APGJSSKUSA-N   \n1           2-Hydroxybutyric acid     64552  AFENDNXGAFYKQO-UHFFFAOYSA-M   \n2           2-Hydroxybutyric acid      1148  AFENDNXGAFYKQO-UHFFFAOYSA-M   \n3  Ortho-Hydroxyphenylacetic acid     62423  CCVYRRGZDBSHFU-UHFFFAOYSA-M   \n4    (S)-3-Hydroxyisobutyric acid     62638  DBXBTMSZEOQQDU-VKHMYHEASA-M   \n\n                              inchistring_metabolite  \\\n0  InChI=1S/C27H46O2/c1-18(2)7-6-14-27(5,29)24-11...   \n1  InChI=1S/C4H8O3/c1-2-3(5)4(6)7/h3,5H,2H2,1H3,(...   \n2  InChI=1S/C4H8O3/c1-2-3(5)4(6)7/h3,5H,2H2,1H3,(...   \n3  InChI=1S/C8H8O3/c9-7-4-2-1-3-6(7)5-8(10)11/h1-...   \n4  InChI=1S/C4H8O3/c1-3(2-5)4(6)7/h3,5H,2H2,1H3,(...   \n\n                                    smile_metabolite  \\\n0  [H]O[C@]1([H])C([H])([H])C2=C([H])C([H])([H])[...   \n1     [H]OC([H])(C([O-])=O)C([H])([H])C([H])([H])[H]   \n2     [H]OC([H])(C([O-])=O)C([H])([H])C([H])([H])[H]   \n3  [H]OC1=C([H])C([H])=C([H])C([H])=C1C([H])([H])...   \n4  [H]OC([H])([H])[C@@]([H])(C([O-])=O)C([H])([H]...   \n\n                             name  \\\n0           7a-Hydroxycholesterol   \n1           2-Hydroxybutyric acid   \n2           2-Hydroxybutyric acid   \n3  Ortho-Hydroxyphenylacetic acid   \n4    (S)-3-Hydroxyisobutyric acid   \n\n                                         description        mdbid moldb_inchi  \\\n0  7alpha-hydroxycholesterol or 7a-hydroxycholest...  MDB00000633         NaN   \n1  2-Hydroxybutyric acid (CAS: 600-15-7), also kn...  MDB00000004         NaN   \n2  2-Hydroxybutyric acid (CAS: 600-15-7), also kn...  MDB00000004         NaN   \n3  ortho-Hydroxyphenylacetic acid, also known as ...  MDB00000353         NaN   \n4  (S)-3-Hydroxyisobutyric (3-HIBA) acid is an or...  MDB00000016         NaN   \n\n  moldb_inchikey  \n0            NaN  \n1            NaN  \n2            NaN  \n3            NaN  \n4            NaN  ",
      "text/html": "<div>\n<style scoped>\n    .dataframe tbody tr th:only-of-type {\n        vertical-align: middle;\n    }\n\n    .dataframe tbody tr th {\n        vertical-align: top;\n    }\n\n    .dataframe thead th {\n        text-align: right;\n    }\n</style>\n<table border=\"1\" class=\"dataframe\">\n  <thead>\n    <tr style=\"text-align: right;\">\n      <th></th>\n      <th>fullname_metabolite</th>\n      <th>chebi_id</th>\n      <th>inchikey_metabolite</th>\n      <th>inchistring_metabolite</th>\n      <th>smile_metabolite</th>\n      <th>name</th>\n      <th>description</th>\n      <th>mdbid</th>\n      <th>moldb_inchi</th>\n      <th>moldb_inchikey</th>\n    </tr>\n  </thead>\n  <tbody>\n    <tr>\n      <th>0</th>\n      <td>7a-Hydroxycholesterol</td>\n      <td>1296</td>\n      <td>MCKLJFJEQRYRQT-APGJSSKUSA-N</td>\n      <td>InChI=1S/C27H46O2/c1-18(2)7-6-14-27(5,29)24-11...</td>\n      <td>[H]O[C@]1([H])C([H])([H])C2=C([H])C([H])([H])[...</td>\n      <td>7a-Hydroxycholesterol</td>\n      <td>7alpha-hydroxycholesterol or 7a-hydroxycholest...</td>\n      <td>MDB00000633</td>\n      <td>NaN</td>\n      <td>NaN</td>\n    </tr>\n    <tr>\n      <th>1</th>\n      <td>2-Hydroxybutyric acid</td>\n      <td>64552</td>\n      <td>AFENDNXGAFYKQO-UHFFFAOYSA-M</td>\n      <td>InChI=1S/C4H8O3/c1-2-3(5)4(6)7/h3,5H,2H2,1H3,(...</td>\n      <td>[H]OC([H])(C([O-])=O)C([H])([H])C([H])([H])[H]</td>\n      <td>2-Hydroxybutyric acid</td>\n      <td>2-Hydroxybutyric acid (CAS: 600-15-7), also kn...</td>\n      <td>MDB00000004</td>\n      <td>NaN</td>\n      <td>NaN</td>\n    </tr>\n    <tr>\n      <th>2</th>\n      <td>2-Hydroxybutyric acid</td>\n      <td>1148</td>\n      <td>AFENDNXGAFYKQO-UHFFFAOYSA-M</td>\n      <td>InChI=1S/C4H8O3/c1-2-3(5)4(6)7/h3,5H,2H2,1H3,(...</td>\n      <td>[H]OC([H])(C([O-])=O)C([H])([H])C([H])([H])[H]</td>\n      <td>2-Hydroxybutyric acid</td>\n      <td>2-Hydroxybutyric acid (CAS: 600-15-7), also kn...</td>\n      <td>MDB00000004</td>\n      <td>NaN</td>\n      <td>NaN</td>\n    </tr>\n    <tr>\n      <th>3</th>\n      <td>Ortho-Hydroxyphenylacetic acid</td>\n      <td>62423</td>\n      <td>CCVYRRGZDBSHFU-UHFFFAOYSA-M</td>\n      <td>InChI=1S/C8H8O3/c9-7-4-2-1-3-6(7)5-8(10)11/h1-...</td>\n      <td>[H]OC1=C([H])C([H])=C([H])C([H])=C1C([H])([H])...</td>\n      <td>Ortho-Hydroxyphenylacetic acid</td>\n      <td>ortho-Hydroxyphenylacetic acid, also known as ...</td>\n      <td>MDB00000353</td>\n      <td>NaN</td>\n      <td>NaN</td>\n    </tr>\n    <tr>\n      <th>4</th>\n      <td>(S)-3-Hydroxyisobutyric acid</td>\n      <td>62638</td>\n      <td>DBXBTMSZEOQQDU-VKHMYHEASA-M</td>\n      <td>InChI=1S/C4H8O3/c1-3(2-5)4(6)7/h3,5H,2H2,1H3,(...</td>\n      <td>[H]OC([H])([H])[C@@]([H])(C([O-])=O)C([H])([H]...</td>\n      <td>(S)-3-Hydroxyisobutyric acid</td>\n      <td>(S)-3-Hydroxyisobutyric (3-HIBA) acid is an or...</td>\n      <td>MDB00000016</td>\n      <td>NaN</td>\n      <td>NaN</td>\n    </tr>\n  </tbody>\n</table>\n</div>"
     },
     "execution_count": 48,
     "metadata": {},
     "output_type": "execute_result"
    }
   ],
   "source": [
    "marker_final.head()"
   ],
   "metadata": {
    "collapsed": false
   }
  },
  {
   "cell_type": "code",
   "execution_count": 59,
   "outputs": [
    {
     "data": {
      "text/plain": "                                 name  chebi_id        mdbid\n0               7a-Hydroxycholesterol      1296  MDB00000633\n1               2-Hydroxybutyric acid     64552  MDB00000004\n2               2-Hydroxybutyric acid      1148  MDB00000004\n3      Ortho-Hydroxyphenylacetic acid     62423  MDB00000353\n4        (S)-3-Hydroxyisobutyric acid     62638  MDB00000016\n5               5-Aminolevulinic acid    356416  MDB00000539\n6          5-Hydroxyindoleacetic acid     62622  MDB00000416\n7                        Aflatoxin B1      2504  MDB00001319\n8                    2-Hydroxyestrone      1156  MDB00000210\n9                    2-Methoxyestrone      1189  MDB00000005\n10                         Anandamide      2700  MDB00000999\n11                  Isobutyrylglycine    133610  MDB00000394\n12                   Cysteinylglycine      4047  MDB00000054\n13                   Cysteinylglycine     61694  MDB00000054\n14             Estriol-16-Glucuronide       766  MDB00001349\n15                          D-Glucose      4167  MDB00000074\n16                      Glycylproline     73779  MDB00000390\n17                          L-Cystine     35491  MDB00000120\n18         3-Methylthiopropionic acid      1438  MDB00000640\n19                           Oxytocin      7872  MDB00000884\n20                     Norepinephrine     72587  MDB00000136\n21                           Spermine     45725  MDB00000560\n22                       Liothyronine    533015  MDB00000173\n23              24-Hydroxycholesterol     34310  MDB00000607\n24         Methylimidazoleacetic acid      1606  MDB00000879\n25              Vanillylmandelic acid     20106  MDB00000186\n26              Ureidoisobutyric acid      1670  MDB00000753\n27                         Lipoxin A4      6498  MDB00001030\n28               Ursodeoxycholic acid      9907  MDB00000496\n29            Sulfolithocholylglycine      9347  MDB00000848\n30                   Pantothenic acid      7916  MDB00000132\n31                       Suberic acid      9300  MDB00000470\n32                      L-Lactic acid       422  MDB00000118\n33           N-Acetyl-L-aspartic acid     21547  MDB00000436\n34    20-Hydroxyeicosatetraenoic acid     34306  MDB00001284\n35                             5-HETE     60943  MDB00004539\n0               5-Aminolevulinic acid    356416  MDB00000539\n1                    2-Hydroxyestrone      1156  MDB00000210\n2                    2-Methoxyestrone      1189  MDB00000005\n3                          Anandamide      2700  MDB00000999\n4                    Cysteinylglycine      4047  MDB00000054\n5                    Cysteinylglycine     61694  MDB00000054\n6              Estriol-16-Glucuronide       766  MDB00001349\n7                           D-Glucose      4167  MDB00000074\n8                           L-Cystine     35491  MDB00000120\n9   13(S)-hydroxyoctadecadienoic acid     34154  MDB00001040\n10         3-Methylthiopropionic acid      1438  MDB00000640\n11                       Liothyronine    533015  MDB00000173\n12              24-Hydroxycholesterol     34310  MDB00000607",
      "text/html": "<div>\n<style scoped>\n    .dataframe tbody tr th:only-of-type {\n        vertical-align: middle;\n    }\n\n    .dataframe tbody tr th {\n        vertical-align: top;\n    }\n\n    .dataframe thead th {\n        text-align: right;\n    }\n</style>\n<table border=\"1\" class=\"dataframe\">\n  <thead>\n    <tr style=\"text-align: right;\">\n      <th></th>\n      <th>name</th>\n      <th>chebi_id</th>\n      <th>mdbid</th>\n    </tr>\n  </thead>\n  <tbody>\n    <tr>\n      <th>0</th>\n      <td>7a-Hydroxycholesterol</td>\n      <td>1296</td>\n      <td>MDB00000633</td>\n    </tr>\n    <tr>\n      <th>1</th>\n      <td>2-Hydroxybutyric acid</td>\n      <td>64552</td>\n      <td>MDB00000004</td>\n    </tr>\n    <tr>\n      <th>2</th>\n      <td>2-Hydroxybutyric acid</td>\n      <td>1148</td>\n      <td>MDB00000004</td>\n    </tr>\n    <tr>\n      <th>3</th>\n      <td>Ortho-Hydroxyphenylacetic acid</td>\n      <td>62423</td>\n      <td>MDB00000353</td>\n    </tr>\n    <tr>\n      <th>4</th>\n      <td>(S)-3-Hydroxyisobutyric acid</td>\n      <td>62638</td>\n      <td>MDB00000016</td>\n    </tr>\n    <tr>\n      <th>5</th>\n      <td>5-Aminolevulinic acid</td>\n      <td>356416</td>\n      <td>MDB00000539</td>\n    </tr>\n    <tr>\n      <th>6</th>\n      <td>5-Hydroxyindoleacetic acid</td>\n      <td>62622</td>\n      <td>MDB00000416</td>\n    </tr>\n    <tr>\n      <th>7</th>\n      <td>Aflatoxin B1</td>\n      <td>2504</td>\n      <td>MDB00001319</td>\n    </tr>\n    <tr>\n      <th>8</th>\n      <td>2-Hydroxyestrone</td>\n      <td>1156</td>\n      <td>MDB00000210</td>\n    </tr>\n    <tr>\n      <th>9</th>\n      <td>2-Methoxyestrone</td>\n      <td>1189</td>\n      <td>MDB00000005</td>\n    </tr>\n    <tr>\n      <th>10</th>\n      <td>Anandamide</td>\n      <td>2700</td>\n      <td>MDB00000999</td>\n    </tr>\n    <tr>\n      <th>11</th>\n      <td>Isobutyrylglycine</td>\n      <td>133610</td>\n      <td>MDB00000394</td>\n    </tr>\n    <tr>\n      <th>12</th>\n      <td>Cysteinylglycine</td>\n      <td>4047</td>\n      <td>MDB00000054</td>\n    </tr>\n    <tr>\n      <th>13</th>\n      <td>Cysteinylglycine</td>\n      <td>61694</td>\n      <td>MDB00000054</td>\n    </tr>\n    <tr>\n      <th>14</th>\n      <td>Estriol-16-Glucuronide</td>\n      <td>766</td>\n      <td>MDB00001349</td>\n    </tr>\n    <tr>\n      <th>15</th>\n      <td>D-Glucose</td>\n      <td>4167</td>\n      <td>MDB00000074</td>\n    </tr>\n    <tr>\n      <th>16</th>\n      <td>Glycylproline</td>\n      <td>73779</td>\n      <td>MDB00000390</td>\n    </tr>\n    <tr>\n      <th>17</th>\n      <td>L-Cystine</td>\n      <td>35491</td>\n      <td>MDB00000120</td>\n    </tr>\n    <tr>\n      <th>18</th>\n      <td>3-Methylthiopropionic acid</td>\n      <td>1438</td>\n      <td>MDB00000640</td>\n    </tr>\n    <tr>\n      <th>19</th>\n      <td>Oxytocin</td>\n      <td>7872</td>\n      <td>MDB00000884</td>\n    </tr>\n    <tr>\n      <th>20</th>\n      <td>Norepinephrine</td>\n      <td>72587</td>\n      <td>MDB00000136</td>\n    </tr>\n    <tr>\n      <th>21</th>\n      <td>Spermine</td>\n      <td>45725</td>\n      <td>MDB00000560</td>\n    </tr>\n    <tr>\n      <th>22</th>\n      <td>Liothyronine</td>\n      <td>533015</td>\n      <td>MDB00000173</td>\n    </tr>\n    <tr>\n      <th>23</th>\n      <td>24-Hydroxycholesterol</td>\n      <td>34310</td>\n      <td>MDB00000607</td>\n    </tr>\n    <tr>\n      <th>24</th>\n      <td>Methylimidazoleacetic acid</td>\n      <td>1606</td>\n      <td>MDB00000879</td>\n    </tr>\n    <tr>\n      <th>25</th>\n      <td>Vanillylmandelic acid</td>\n      <td>20106</td>\n      <td>MDB00000186</td>\n    </tr>\n    <tr>\n      <th>26</th>\n      <td>Ureidoisobutyric acid</td>\n      <td>1670</td>\n      <td>MDB00000753</td>\n    </tr>\n    <tr>\n      <th>27</th>\n      <td>Lipoxin A4</td>\n      <td>6498</td>\n      <td>MDB00001030</td>\n    </tr>\n    <tr>\n      <th>28</th>\n      <td>Ursodeoxycholic acid</td>\n      <td>9907</td>\n      <td>MDB00000496</td>\n    </tr>\n    <tr>\n      <th>29</th>\n      <td>Sulfolithocholylglycine</td>\n      <td>9347</td>\n      <td>MDB00000848</td>\n    </tr>\n    <tr>\n      <th>30</th>\n      <td>Pantothenic acid</td>\n      <td>7916</td>\n      <td>MDB00000132</td>\n    </tr>\n    <tr>\n      <th>31</th>\n      <td>Suberic acid</td>\n      <td>9300</td>\n      <td>MDB00000470</td>\n    </tr>\n    <tr>\n      <th>32</th>\n      <td>L-Lactic acid</td>\n      <td>422</td>\n      <td>MDB00000118</td>\n    </tr>\n    <tr>\n      <th>33</th>\n      <td>N-Acetyl-L-aspartic acid</td>\n      <td>21547</td>\n      <td>MDB00000436</td>\n    </tr>\n    <tr>\n      <th>34</th>\n      <td>20-Hydroxyeicosatetraenoic acid</td>\n      <td>34306</td>\n      <td>MDB00001284</td>\n    </tr>\n    <tr>\n      <th>35</th>\n      <td>5-HETE</td>\n      <td>60943</td>\n      <td>MDB00004539</td>\n    </tr>\n    <tr>\n      <th>0</th>\n      <td>5-Aminolevulinic acid</td>\n      <td>356416</td>\n      <td>MDB00000539</td>\n    </tr>\n    <tr>\n      <th>1</th>\n      <td>2-Hydroxyestrone</td>\n      <td>1156</td>\n      <td>MDB00000210</td>\n    </tr>\n    <tr>\n      <th>2</th>\n      <td>2-Methoxyestrone</td>\n      <td>1189</td>\n      <td>MDB00000005</td>\n    </tr>\n    <tr>\n      <th>3</th>\n      <td>Anandamide</td>\n      <td>2700</td>\n      <td>MDB00000999</td>\n    </tr>\n    <tr>\n      <th>4</th>\n      <td>Cysteinylglycine</td>\n      <td>4047</td>\n      <td>MDB00000054</td>\n    </tr>\n    <tr>\n      <th>5</th>\n      <td>Cysteinylglycine</td>\n      <td>61694</td>\n      <td>MDB00000054</td>\n    </tr>\n    <tr>\n      <th>6</th>\n      <td>Estriol-16-Glucuronide</td>\n      <td>766</td>\n      <td>MDB00001349</td>\n    </tr>\n    <tr>\n      <th>7</th>\n      <td>D-Glucose</td>\n      <td>4167</td>\n      <td>MDB00000074</td>\n    </tr>\n    <tr>\n      <th>8</th>\n      <td>L-Cystine</td>\n      <td>35491</td>\n      <td>MDB00000120</td>\n    </tr>\n    <tr>\n      <th>9</th>\n      <td>13(S)-hydroxyoctadecadienoic acid</td>\n      <td>34154</td>\n      <td>MDB00001040</td>\n    </tr>\n    <tr>\n      <th>10</th>\n      <td>3-Methylthiopropionic acid</td>\n      <td>1438</td>\n      <td>MDB00000640</td>\n    </tr>\n    <tr>\n      <th>11</th>\n      <td>Liothyronine</td>\n      <td>533015</td>\n      <td>MDB00000173</td>\n    </tr>\n    <tr>\n      <th>12</th>\n      <td>24-Hydroxycholesterol</td>\n      <td>34310</td>\n      <td>MDB00000607</td>\n    </tr>\n  </tbody>\n</table>\n</div>"
     },
     "execution_count": 59,
     "metadata": {},
     "output_type": "execute_result"
    }
   ],
   "source": [
    "marker_merged = marker_final[['name','chebi_id','mdbid']]\n",
    "marker_merged.head(100)"
   ],
   "metadata": {
    "collapsed": false
   }
  },
  {
   "cell_type": "code",
   "execution_count": 75,
   "outputs": [],
   "source": [
    "final_merge_1 = marker_merged.merge(marker_disease,left_on='name',right_on='name',how='inner')"
   ],
   "metadata": {
    "collapsed": false
   }
  },
  {
   "cell_type": "code",
   "execution_count": 72,
   "outputs": [],
   "source": [
    "final_merge_2 = marker_merged.merge(marker_disease,left_on='mdbid',right_on='markerdb_id',how='inner')"
   ],
   "metadata": {
    "collapsed": false
   }
  },
  {
   "cell_type": "code",
   "execution_count": 73,
   "outputs": [
    {
     "name": "stdout",
     "output_type": "stream",
     "text": [
      "<class 'pandas.core.frame.DataFrame'>\n",
      "Index: 0 entries\n",
      "Data columns (total 6 columns):\n",
      " #   Column       Non-Null Count  Dtype \n",
      "---  ------       --------------  ----- \n",
      " 0   name_x       0 non-null      object\n",
      " 1   chebi_id     0 non-null      int64 \n",
      " 2   mdbid        0 non-null      object\n",
      " 3   name_y       0 non-null      object\n",
      " 4   disease      0 non-null      object\n",
      " 5   markerdb_id  0 non-null      object\n",
      "dtypes: int64(1), object(5)\n",
      "memory usage: 0.0+ bytes\n"
     ]
    }
   ],
   "source": [
    "final_merge_2.info()"
   ],
   "metadata": {
    "collapsed": false
   }
  },
  {
   "cell_type": "code",
   "execution_count": 76,
   "outputs": [
    {
     "data": {
      "text/plain": "                     name  chebi_id        mdbid  \\\n0   7a-Hydroxycholesterol      1296  MDB00000633   \n1   2-Hydroxybutyric acid     64552  MDB00000004   \n2   2-Hydroxybutyric acid     64552  MDB00000004   \n3   2-Hydroxybutyric acid      1148  MDB00000004   \n4   2-Hydroxybutyric acid      1148  MDB00000004   \n..                    ...       ...          ...   \n95           Suberic acid      9300  MDB00000470   \n96           Suberic acid      9300  MDB00000470   \n97           Suberic acid      9300  MDB00000470   \n98          L-Lactic acid       422  MDB00000118   \n99          L-Lactic acid       422  MDB00000118   \n\n                                            disease markerdb_id  \n0                                         Cirrhosis         545  \n1                 Pyruvate Dehydrogenase Deficiency      367359  \n2                            Preeclampsia/Eclampsia      367357  \n3                 Pyruvate Dehydrogenase Deficiency      367359  \n4                            Preeclampsia/Eclampsia      367357  \n..                                              ...         ...  \n95  Medium Chain Acyl Co A Dehydrogenase Deficiency      119459  \n96   Carnitine Acylcarnitine Translocase Deficiency      336332  \n97            Malonyl Co A Decarboxylase Deficiency      120409  \n98                               Propionic Acidemia      366791  \n99               Type V 3-Methylglutaconic Aciduria      366840  \n\n[100 rows x 5 columns]",
      "text/html": "<div>\n<style scoped>\n    .dataframe tbody tr th:only-of-type {\n        vertical-align: middle;\n    }\n\n    .dataframe tbody tr th {\n        vertical-align: top;\n    }\n\n    .dataframe thead th {\n        text-align: right;\n    }\n</style>\n<table border=\"1\" class=\"dataframe\">\n  <thead>\n    <tr style=\"text-align: right;\">\n      <th></th>\n      <th>name</th>\n      <th>chebi_id</th>\n      <th>mdbid</th>\n      <th>disease</th>\n      <th>markerdb_id</th>\n    </tr>\n  </thead>\n  <tbody>\n    <tr>\n      <th>0</th>\n      <td>7a-Hydroxycholesterol</td>\n      <td>1296</td>\n      <td>MDB00000633</td>\n      <td>Cirrhosis</td>\n      <td>545</td>\n    </tr>\n    <tr>\n      <th>1</th>\n      <td>2-Hydroxybutyric acid</td>\n      <td>64552</td>\n      <td>MDB00000004</td>\n      <td>Pyruvate Dehydrogenase Deficiency</td>\n      <td>367359</td>\n    </tr>\n    <tr>\n      <th>2</th>\n      <td>2-Hydroxybutyric acid</td>\n      <td>64552</td>\n      <td>MDB00000004</td>\n      <td>Preeclampsia/Eclampsia</td>\n      <td>367357</td>\n    </tr>\n    <tr>\n      <th>3</th>\n      <td>2-Hydroxybutyric acid</td>\n      <td>1148</td>\n      <td>MDB00000004</td>\n      <td>Pyruvate Dehydrogenase Deficiency</td>\n      <td>367359</td>\n    </tr>\n    <tr>\n      <th>4</th>\n      <td>2-Hydroxybutyric acid</td>\n      <td>1148</td>\n      <td>MDB00000004</td>\n      <td>Preeclampsia/Eclampsia</td>\n      <td>367357</td>\n    </tr>\n    <tr>\n      <th>...</th>\n      <td>...</td>\n      <td>...</td>\n      <td>...</td>\n      <td>...</td>\n      <td>...</td>\n    </tr>\n    <tr>\n      <th>95</th>\n      <td>Suberic acid</td>\n      <td>9300</td>\n      <td>MDB00000470</td>\n      <td>Medium Chain Acyl Co A Dehydrogenase Deficiency</td>\n      <td>119459</td>\n    </tr>\n    <tr>\n      <th>96</th>\n      <td>Suberic acid</td>\n      <td>9300</td>\n      <td>MDB00000470</td>\n      <td>Carnitine Acylcarnitine Translocase Deficiency</td>\n      <td>336332</td>\n    </tr>\n    <tr>\n      <th>97</th>\n      <td>Suberic acid</td>\n      <td>9300</td>\n      <td>MDB00000470</td>\n      <td>Malonyl Co A Decarboxylase Deficiency</td>\n      <td>120409</td>\n    </tr>\n    <tr>\n      <th>98</th>\n      <td>L-Lactic acid</td>\n      <td>422</td>\n      <td>MDB00000118</td>\n      <td>Propionic Acidemia</td>\n      <td>366791</td>\n    </tr>\n    <tr>\n      <th>99</th>\n      <td>L-Lactic acid</td>\n      <td>422</td>\n      <td>MDB00000118</td>\n      <td>Type V 3-Methylglutaconic Aciduria</td>\n      <td>366840</td>\n    </tr>\n  </tbody>\n</table>\n<p>100 rows × 5 columns</p>\n</div>"
     },
     "execution_count": 76,
     "metadata": {},
     "output_type": "execute_result"
    }
   ],
   "source": [
    "final_merge_1.head(100)"
   ],
   "metadata": {
    "collapsed": false
   }
  },
  {
   "cell_type": "code",
   "execution_count": 79,
   "outputs": [],
   "source": [
    "final_merge_1.drop_duplicates(subset='name',keep='first',inplace=True)"
   ],
   "metadata": {
    "collapsed": false
   }
  },
  {
   "cell_type": "code",
   "execution_count": 80,
   "outputs": [
    {
     "name": "stdout",
     "output_type": "stream",
     "text": [
      "<class 'pandas.core.frame.DataFrame'>\n",
      "Int64Index: 33 entries, 0 to 138\n",
      "Data columns (total 5 columns):\n",
      " #   Column       Non-Null Count  Dtype \n",
      "---  ------       --------------  ----- \n",
      " 0   name         33 non-null     object\n",
      " 1   chebi_id     33 non-null     int64 \n",
      " 2   mdbid        33 non-null     object\n",
      " 3   disease      33 non-null     object\n",
      " 4   markerdb_id  33 non-null     object\n",
      "dtypes: int64(1), object(4)\n",
      "memory usage: 1.5+ KB\n"
     ]
    }
   ],
   "source": [
    "final_merge_1.info()"
   ],
   "metadata": {
    "collapsed": false
   }
  },
  {
   "cell_type": "code",
   "execution_count": 82,
   "outputs": [],
   "source": [
    "final_merge_1.to_csv('final_merge_1.csv',index_label=False)"
   ],
   "metadata": {
    "collapsed": false
   }
  },
  {
   "cell_type": "code",
   "execution_count": 26,
   "outputs": [
    {
     "data": {
      "text/plain": "  abbreviation_metabolite casregistry_metabolite  cheblid_metabolite  \\\n0            20ahchsterol               516-72-3              1296.0   \n1                   xol7a                    NaN             17500.0   \n2                2dp6mobq                    NaN             50773.0   \n3                   2dr5p            102916-66-5             16132.0   \n4                     2hb               600-15-7              1148.0   \n\n                              description_metabolite  \\\n0  Human Metabolome Database (HMDB): 20 alpha-hyd...   \n1  Human Metabolome Database (HMDB): 7alpha-hydro...   \n2  Human Metabolome Database (HMDB): This compoun...   \n3  Human Metabolome Database (HMDB): Deoxyribose ...   \n4  Human Metabolome Database (HMDB): 2-Hydroxybut...   \n\n                       fullname_metabolite hmdb_metabolite  \\\n0               20alpha-Hydroxycholesterol     HMDB0006283   \n1                    7a-Hydroxycholesterol     HMDB0001496   \n2  2-Decaprenyl-6-methoxy-1,4-benzoquinone     HMDB0060248   \n3                  Deoxyribose 5-phosphate     HMDB0001031   \n4                    2-Hydroxybutyric acid     HMDB0000008   \n\n           inchikey_metabolite  \\\n0  MCKLJFJEQRYRQT-APGJSSKUSA-N   \n1  MCKLJFJEQRYRQT-APGJSSKUSA-N   \n2  POYJNCVGTDCCPK-RDSVHMIISA-N   \n3  KKZFLSZAWCYPOC-PYHARJCCSA-L   \n4  AFENDNXGAFYKQO-UHFFFAOYSA-M   \n\n                              inchistring_metabolite keggid_metabolite  \\\n0  InChI=1S/C27H46O2/c1-18(2)7-6-14-27(5,29)24-11...            C05500   \n1  InChI=1S/C27H46O2/c1-18(2)7-6-14-27(5,29)24-11...            C03594   \n2  InChI=1S/C57H86O3/c1-44(2)22-13-23-45(3)24-14-...               NaN   \n3  InChI=1S/C5H11O7P/c6-3-1-5(7)12-4(3)2-11-13(8,...            C00673   \n4  InChI=1S/C4H8O3/c1-2-3(5)4(6)7/h3,5H,2H2,1H3,(...            C05984   \n\n         biocyc_metabolite  ... reconmap3_metabolite  \\\n0  20A-HYDROXY-CHOLESTEROL  ...         20ahchsterol   \n1                  CPD-266  ...                xol7a   \n2                CPD-11659  ...             2dp6mobq   \n3          DEOXY-RIBOSE-5P  ...                2dr5p   \n4                 CPD-3564  ...                  2hb   \n\n                                    smile_metabolite  \\\n0  [H]O[C@]1([H])C([H])([H])C2=C([H])C([H])([H])[...   \n1  [H]O[C@]1([H])C([H])([H])C2=C([H])C([H])([H])[...   \n2  [H]C(=C(C([H])([H])[H])C([H])([H])[H])C([H])([...   \n3  [H]OC1([H])O[C@]([H])(C([H])([H])OP([O-])([O-]...   \n4     [H]OC([H])(C([O-])=O)C([H])([H])C([H])([H])[H]   \n\n                                 synonyms_metabolite chebi_id  \\\n0  (3beta,20R)-Cholest-5-ene-3,20-diol***20-Hydro...     1296   \n1  7 alpha-Hydroxycholesterol***7-a-Hydroxycholes...     1296   \n2  2-[(2E,6E,10E,14E,18E,22E,26E,30E,34E)-3,7,11,...    50773   \n3  2-Deoxy-alpha-D-ribose 5-phosphate***2-Deoxy-a...    62877   \n4  2-Hydroxybutanoic acid***alpha-Hydroxybutanoic...    64552   \n\n                                      name  \\\n0                    20-hydroxycholesterol   \n1                    20-hydroxycholesterol   \n2  2-decaprenyl-6-methoxy-1,4-benzoquinone   \n3   2-deoxy-D-ribofuranose 5-phosphate(2-)   \n4                        2-hydroxybutyrate   \n\n                                          definition  \\\n0  An oxysterol that is cholesterol substituted b...   \n1  An oxysterol that is cholesterol substituted b...   \n2                                                NaN   \n3  An organophosphate oxoanion obtained by deprot...   \n4  A hydroxy fatty acid anion that is the conjuga...   \n\n                                        inchi_string  \\\n0  InChI=1S/C27H46O2/c1-18(2)7-6-14-27(5,29)24-11...   \n1  InChI=1S/C27H46O2/c1-18(2)7-6-14-27(5,29)24-11...   \n2  InChI=1S/C57H86O3/c1-44(2)22-13-23-45(3)24-14-...   \n3  InChI=1S/C5H11O7P/c6-3-1-5(7)12-4(3)2-11-13(8,...   \n4  InChI=1S/C4H8O3/c1-2-3(5)4(6)7/h3,5H,2H2,1H3,(...   \n\n                                             synonym  \\\n0                         20alpha-Hydroxycholesterol   \n1                         20alpha-Hydroxycholesterol   \n2  2-[(2E,6E,10E,14E,18E,22E,26E,30E,34E)-3,7,11,...   \n3  [(2R,3S)-3,5-dihydroxyoxolan-2-yl]methyl phosp...   \n4                             alpha-hydroxybutanoate   \n\n                        type accession_number  \n0    KEGG COMPOUND accession           C05500  \n1    KEGG COMPOUND accession           C05500  \n2  Beilstein Registry Number          2688027  \n3          MetaCyc accession  DEOXY-RIBOSE-5P  \n4     Reaxys Registry Number          3661492  \n\n[5 rows x 21 columns]",
      "text/html": "<div>\n<style scoped>\n    .dataframe tbody tr th:only-of-type {\n        vertical-align: middle;\n    }\n\n    .dataframe tbody tr th {\n        vertical-align: top;\n    }\n\n    .dataframe thead th {\n        text-align: right;\n    }\n</style>\n<table border=\"1\" class=\"dataframe\">\n  <thead>\n    <tr style=\"text-align: right;\">\n      <th></th>\n      <th>abbreviation_metabolite</th>\n      <th>casregistry_metabolite</th>\n      <th>cheblid_metabolite</th>\n      <th>description_metabolite</th>\n      <th>fullname_metabolite</th>\n      <th>hmdb_metabolite</th>\n      <th>inchikey_metabolite</th>\n      <th>inchistring_metabolite</th>\n      <th>keggid_metabolite</th>\n      <th>biocyc_metabolite</th>\n      <th>...</th>\n      <th>reconmap3_metabolite</th>\n      <th>smile_metabolite</th>\n      <th>synonyms_metabolite</th>\n      <th>chebi_id</th>\n      <th>name</th>\n      <th>definition</th>\n      <th>inchi_string</th>\n      <th>synonym</th>\n      <th>type</th>\n      <th>accession_number</th>\n    </tr>\n  </thead>\n  <tbody>\n    <tr>\n      <th>0</th>\n      <td>20ahchsterol</td>\n      <td>516-72-3</td>\n      <td>1296.0</td>\n      <td>Human Metabolome Database (HMDB): 20 alpha-hyd...</td>\n      <td>20alpha-Hydroxycholesterol</td>\n      <td>HMDB0006283</td>\n      <td>MCKLJFJEQRYRQT-APGJSSKUSA-N</td>\n      <td>InChI=1S/C27H46O2/c1-18(2)7-6-14-27(5,29)24-11...</td>\n      <td>C05500</td>\n      <td>20A-HYDROXY-CHOLESTEROL</td>\n      <td>...</td>\n      <td>20ahchsterol</td>\n      <td>[H]O[C@]1([H])C([H])([H])C2=C([H])C([H])([H])[...</td>\n      <td>(3beta,20R)-Cholest-5-ene-3,20-diol***20-Hydro...</td>\n      <td>1296</td>\n      <td>20-hydroxycholesterol</td>\n      <td>An oxysterol that is cholesterol substituted b...</td>\n      <td>InChI=1S/C27H46O2/c1-18(2)7-6-14-27(5,29)24-11...</td>\n      <td>20alpha-Hydroxycholesterol</td>\n      <td>KEGG COMPOUND accession</td>\n      <td>C05500</td>\n    </tr>\n    <tr>\n      <th>1</th>\n      <td>xol7a</td>\n      <td>NaN</td>\n      <td>17500.0</td>\n      <td>Human Metabolome Database (HMDB): 7alpha-hydro...</td>\n      <td>7a-Hydroxycholesterol</td>\n      <td>HMDB0001496</td>\n      <td>MCKLJFJEQRYRQT-APGJSSKUSA-N</td>\n      <td>InChI=1S/C27H46O2/c1-18(2)7-6-14-27(5,29)24-11...</td>\n      <td>C03594</td>\n      <td>CPD-266</td>\n      <td>...</td>\n      <td>xol7a</td>\n      <td>[H]O[C@]1([H])C([H])([H])C2=C([H])C([H])([H])[...</td>\n      <td>7 alpha-Hydroxycholesterol***7-a-Hydroxycholes...</td>\n      <td>1296</td>\n      <td>20-hydroxycholesterol</td>\n      <td>An oxysterol that is cholesterol substituted b...</td>\n      <td>InChI=1S/C27H46O2/c1-18(2)7-6-14-27(5,29)24-11...</td>\n      <td>20alpha-Hydroxycholesterol</td>\n      <td>KEGG COMPOUND accession</td>\n      <td>C05500</td>\n    </tr>\n    <tr>\n      <th>2</th>\n      <td>2dp6mobq</td>\n      <td>NaN</td>\n      <td>50773.0</td>\n      <td>Human Metabolome Database (HMDB): This compoun...</td>\n      <td>2-Decaprenyl-6-methoxy-1,4-benzoquinone</td>\n      <td>HMDB0060248</td>\n      <td>POYJNCVGTDCCPK-RDSVHMIISA-N</td>\n      <td>InChI=1S/C57H86O3/c1-44(2)22-13-23-45(3)24-14-...</td>\n      <td>NaN</td>\n      <td>CPD-11659</td>\n      <td>...</td>\n      <td>2dp6mobq</td>\n      <td>[H]C(=C(C([H])([H])[H])C([H])([H])[H])C([H])([...</td>\n      <td>2-[(2E,6E,10E,14E,18E,22E,26E,30E,34E)-3,7,11,...</td>\n      <td>50773</td>\n      <td>2-decaprenyl-6-methoxy-1,4-benzoquinone</td>\n      <td>NaN</td>\n      <td>InChI=1S/C57H86O3/c1-44(2)22-13-23-45(3)24-14-...</td>\n      <td>2-[(2E,6E,10E,14E,18E,22E,26E,30E,34E)-3,7,11,...</td>\n      <td>Beilstein Registry Number</td>\n      <td>2688027</td>\n    </tr>\n    <tr>\n      <th>3</th>\n      <td>2dr5p</td>\n      <td>102916-66-5</td>\n      <td>16132.0</td>\n      <td>Human Metabolome Database (HMDB): Deoxyribose ...</td>\n      <td>Deoxyribose 5-phosphate</td>\n      <td>HMDB0001031</td>\n      <td>KKZFLSZAWCYPOC-PYHARJCCSA-L</td>\n      <td>InChI=1S/C5H11O7P/c6-3-1-5(7)12-4(3)2-11-13(8,...</td>\n      <td>C00673</td>\n      <td>DEOXY-RIBOSE-5P</td>\n      <td>...</td>\n      <td>2dr5p</td>\n      <td>[H]OC1([H])O[C@]([H])(C([H])([H])OP([O-])([O-]...</td>\n      <td>2-Deoxy-alpha-D-ribose 5-phosphate***2-Deoxy-a...</td>\n      <td>62877</td>\n      <td>2-deoxy-D-ribofuranose 5-phosphate(2-)</td>\n      <td>An organophosphate oxoanion obtained by deprot...</td>\n      <td>InChI=1S/C5H11O7P/c6-3-1-5(7)12-4(3)2-11-13(8,...</td>\n      <td>[(2R,3S)-3,5-dihydroxyoxolan-2-yl]methyl phosp...</td>\n      <td>MetaCyc accession</td>\n      <td>DEOXY-RIBOSE-5P</td>\n    </tr>\n    <tr>\n      <th>4</th>\n      <td>2hb</td>\n      <td>600-15-7</td>\n      <td>1148.0</td>\n      <td>Human Metabolome Database (HMDB): 2-Hydroxybut...</td>\n      <td>2-Hydroxybutyric acid</td>\n      <td>HMDB0000008</td>\n      <td>AFENDNXGAFYKQO-UHFFFAOYSA-M</td>\n      <td>InChI=1S/C4H8O3/c1-2-3(5)4(6)7/h3,5H,2H2,1H3,(...</td>\n      <td>C05984</td>\n      <td>CPD-3564</td>\n      <td>...</td>\n      <td>2hb</td>\n      <td>[H]OC([H])(C([O-])=O)C([H])([H])C([H])([H])[H]</td>\n      <td>2-Hydroxybutanoic acid***alpha-Hydroxybutanoic...</td>\n      <td>64552</td>\n      <td>2-hydroxybutyrate</td>\n      <td>A hydroxy fatty acid anion that is the conjuga...</td>\n      <td>InChI=1S/C4H8O3/c1-2-3(5)4(6)7/h3,5H,2H2,1H3,(...</td>\n      <td>alpha-hydroxybutanoate</td>\n      <td>Reaxys Registry Number</td>\n      <td>3661492</td>\n    </tr>\n  </tbody>\n</table>\n<p>5 rows × 21 columns</p>\n</div>"
     },
     "execution_count": 26,
     "metadata": {},
     "output_type": "execute_result"
    }
   ],
   "source": [
    "dataset.head()"
   ],
   "metadata": {
    "collapsed": false
   }
  },
  {
   "cell_type": "code",
   "execution_count": 28,
   "outputs": [
    {
     "name": "stdout",
     "output_type": "stream",
     "text": [
      "<class 'pandas.core.frame.DataFrame'>\n",
      "Int64Index: 265 entries, 0 to 7\n",
      "Data columns (total 21 columns):\n",
      " #   Column                   Non-Null Count  Dtype  \n",
      "---  ------                   --------------  -----  \n",
      " 0   abbreviation_metabolite  265 non-null    object \n",
      " 1   casregistry_metabolite   154 non-null    object \n",
      " 2   cheblid_metabolite       183 non-null    float64\n",
      " 3   description_metabolite   198 non-null    object \n",
      " 4   fullname_metabolite      265 non-null    object \n",
      " 5   hmdb_metabolite          200 non-null    object \n",
      " 6   inchikey_metabolite      242 non-null    object \n",
      " 7   inchistring_metabolite   245 non-null    object \n",
      " 8   keggid_metabolite        202 non-null    object \n",
      " 9   biocyc_metabolite        80 non-null     object \n",
      " 10  food_db_metabolite       161 non-null    object \n",
      " 11  reconmap3_metabolite     162 non-null    object \n",
      " 12  smile_metabolite         237 non-null    object \n",
      " 13  synonyms_metabolite      188 non-null    object \n",
      " 14  chebi_id                 265 non-null    int64  \n",
      " 15  name                     265 non-null    object \n",
      " 16  definition               238 non-null    object \n",
      " 17  inchi_string             265 non-null    object \n",
      " 18  synonym                  265 non-null    object \n",
      " 19  type                     265 non-null    object \n",
      " 20  accession_number         265 non-null    object \n",
      "dtypes: float64(1), int64(1), object(19)\n",
      "memory usage: 45.5+ KB\n"
     ]
    }
   ],
   "source": [
    "dataset.info()"
   ],
   "metadata": {
    "collapsed": false
   }
  },
  {
   "cell_type": "code",
   "execution_count": 29,
   "outputs": [
    {
     "name": "stdout",
     "output_type": "stream",
     "text": [
      "<class 'pandas.core.frame.DataFrame'>\n",
      "RangeIndex: 115 entries, 0 to 114\n",
      "Data columns (total 24 columns):\n",
      " #   Column                     Non-Null Count  Dtype  \n",
      "---  ------                     --------------  -----  \n",
      " 0   name_of_disease            115 non-null    object \n",
      " 1   abbreviation_of_disease    115 non-null    object \n",
      " 2   type_of_disease            115 non-null    object \n",
      " 3   notes_of_disease           115 non-null    object \n",
      " 4   phenotype                  108 non-null    object \n",
      " 5   organ_affected             114 non-null    object \n",
      " 6   cheblid_of_biomarker       67 non-null     float64\n",
      " 7   description_of_biomarker   66 non-null     object \n",
      " 8   fullname_of_biomarker      115 non-null    object \n",
      " 9   abbreviation_of_biomarker  115 non-null    object \n",
      " 10  inchikey_of_biomarker      115 non-null    object \n",
      " 11  inchistring_of_biomarker   115 non-null    object \n",
      " 12  keggid_of_biomarker        41 non-null     object \n",
      " 13  casregistry_of_biomarker   48 non-null     object \n",
      " 14  value_of_biomarker         115 non-null    object \n",
      " 15  normal_conc_of_biomarker   115 non-null    object \n",
      " 16  ramedis_of_biomarker       26 non-null     object \n",
      " 17  range_conc_of_biomarker    114 non-null    object \n",
      " 18  biocyc_biomarker           40 non-null     object \n",
      " 19  smile_biomarker            115 non-null    object \n",
      " 20  hmdb_biomarker             75 non-null     object \n",
      " 21  reconMap3_biomarker        115 non-null    object \n",
      " 22  food_db_biomarker          66 non-null     object \n",
      " 23  pubChemId_biomarker        98 non-null     float64\n",
      "dtypes: float64(2), object(22)\n",
      "memory usage: 21.7+ KB\n"
     ]
    }
   ],
   "source": [
    "biomarker.info()"
   ],
   "metadata": {
    "collapsed": false
   }
  },
  {
   "cell_type": "code",
   "execution_count": 41,
   "outputs": [],
   "source": [
    "one = dataset.merge(biomarker, left_on='fullname_metabolite',right_on='fullname_of_biomarker',how='inner')"
   ],
   "metadata": {
    "collapsed": false
   }
  },
  {
   "cell_type": "code",
   "execution_count": 42,
   "outputs": [],
   "source": [
    "two = dataset.merge(biomarker, left_on='keggid_metabolite',right_on='keggid_of_biomarker',how='inner')"
   ],
   "metadata": {
    "collapsed": false
   }
  },
  {
   "cell_type": "code",
   "execution_count": 43,
   "outputs": [],
   "source": [
    "three = dataset.merge(biomarker, left_on='casregistry_metabolite',right_on='casregistry_of_biomarker',how='inner')"
   ],
   "metadata": {
    "collapsed": false
   }
  },
  {
   "cell_type": "code",
   "execution_count": 44,
   "outputs": [],
   "source": [
    "four = dataset.merge(biomarker, left_on='cheblid_metabolite',right_on='cheblid_of_biomarker',how='inner')"
   ],
   "metadata": {
    "collapsed": false
   }
  },
  {
   "cell_type": "code",
   "execution_count": 45,
   "outputs": [],
   "source": [
    "frames_1 = [one,two,three,four]\n",
    "df = pd.concat(frames_1)"
   ],
   "metadata": {
    "collapsed": false
   }
  },
  {
   "cell_type": "code",
   "execution_count": 48,
   "outputs": [
    {
     "name": "stdout",
     "output_type": "stream",
     "text": [
      "<class 'pandas.core.frame.DataFrame'>\n",
      "Int64Index: 16039 entries, 0 to 3937\n",
      "Data columns (total 45 columns):\n",
      " #   Column                     Non-Null Count  Dtype  \n",
      "---  ------                     --------------  -----  \n",
      " 0   abbreviation_metabolite    16039 non-null  object \n",
      " 1   casregistry_metabolite     2000 non-null   object \n",
      " 2   cheblid_metabolite         4936 non-null   float64\n",
      " 3   description_metabolite     7052 non-null   object \n",
      " 4   fullname_metabolite        16039 non-null  object \n",
      " 5   hmdb_metabolite            7386 non-null   object \n",
      " 6   inchikey_metabolite        13353 non-null  object \n",
      " 7   inchistring_metabolite     13747 non-null  object \n",
      " 8   keggid_metabolite          6400 non-null   object \n",
      " 9   biocyc_metabolite          1314 non-null   object \n",
      " 10  food_db_metabolite         4131 non-null   object \n",
      " 11  reconmap3_metabolite       7416 non-null   object \n",
      " 12  smile_metabolite           13116 non-null  object \n",
      " 13  synonyms_metabolite        6306 non-null   object \n",
      " 14  chebi_id                   16039 non-null  int64  \n",
      " 15  name                       16039 non-null  object \n",
      " 16  definition                 14344 non-null  object \n",
      " 17  inchi_string               16039 non-null  object \n",
      " 18  synonym                    16039 non-null  object \n",
      " 19  type                       16039 non-null  object \n",
      " 20  accession_number           16039 non-null  object \n",
      " 21  name_of_disease            16039 non-null  object \n",
      " 22  abbreviation_of_disease    16039 non-null  object \n",
      " 23  type_of_disease            16039 non-null  object \n",
      " 24  notes_of_disease           16039 non-null  object \n",
      " 25  phenotype                  15435 non-null  object \n",
      " 26  organ_affected             15865 non-null  object \n",
      " 27  cheblid_of_biomarker       4273 non-null   float64\n",
      " 28  description_of_biomarker   4229 non-null   object \n",
      " 29  fullname_of_biomarker      16039 non-null  object \n",
      " 30  abbreviation_of_biomarker  16039 non-null  object \n",
      " 31  inchikey_of_biomarker      16039 non-null  object \n",
      " 32  inchistring_of_biomarker   16039 non-null  object \n",
      " 33  keggid_of_biomarker        246 non-null    object \n",
      " 34  casregistry_of_biomarker   687 non-null    object \n",
      " 35  value_of_biomarker         16039 non-null  object \n",
      " 36  normal_conc_of_biomarker   16039 non-null  object \n",
      " 37  ramedis_of_biomarker       4232 non-null   object \n",
      " 38  range_conc_of_biomarker    16039 non-null  object \n",
      " 39  biocyc_biomarker           697 non-null    object \n",
      " 40  smile_biomarker            16039 non-null  object \n",
      " 41  hmdb_biomarker             5799 non-null   object \n",
      " 42  reconMap3_biomarker        16039 non-null  object \n",
      " 43  food_db_biomarker          4229 non-null   object \n",
      " 44  pubChemId_biomarker        11687 non-null  float64\n",
      "dtypes: float64(3), int64(1), object(41)\n",
      "memory usage: 5.6+ MB\n"
     ]
    }
   ],
   "source": [
    "df.info()\n",
    "df.drop_duplicates(subset='name',keep='first',inplace=True)"
   ],
   "metadata": {
    "collapsed": false
   }
  },
  {
   "cell_type": "code",
   "execution_count": 49,
   "outputs": [
    {
     "name": "stdout",
     "output_type": "stream",
     "text": [
      "<class 'pandas.core.frame.DataFrame'>\n",
      "Int64Index: 136 entries, 0 to 3648\n",
      "Data columns (total 45 columns):\n",
      " #   Column                     Non-Null Count  Dtype  \n",
      "---  ------                     --------------  -----  \n",
      " 0   abbreviation_metabolite    136 non-null    object \n",
      " 1   casregistry_metabolite     28 non-null     object \n",
      " 2   cheblid_metabolite         57 non-null     float64\n",
      " 3   description_metabolite     75 non-null     object \n",
      " 4   fullname_metabolite        136 non-null    object \n",
      " 5   hmdb_metabolite            77 non-null     object \n",
      " 6   inchikey_metabolite        114 non-null    object \n",
      " 7   inchistring_metabolite     118 non-null    object \n",
      " 8   keggid_metabolite          73 non-null     object \n",
      " 9   biocyc_metabolite          15 non-null     object \n",
      " 10  food_db_metabolite         49 non-null     object \n",
      " 11  reconmap3_metabolite       70 non-null     object \n",
      " 12  smile_metabolite           113 non-null    object \n",
      " 13  synonyms_metabolite        68 non-null     object \n",
      " 14  chebi_id                   136 non-null    int64  \n",
      " 15  name                       136 non-null    object \n",
      " 16  definition                 121 non-null    object \n",
      " 17  inchi_string               136 non-null    object \n",
      " 18  synonym                    136 non-null    object \n",
      " 19  type                       136 non-null    object \n",
      " 20  accession_number           136 non-null    object \n",
      " 21  name_of_disease            136 non-null    object \n",
      " 22  abbreviation_of_disease    136 non-null    object \n",
      " 23  type_of_disease            136 non-null    object \n",
      " 24  notes_of_disease           136 non-null    object \n",
      " 25  phenotype                  136 non-null    object \n",
      " 26  organ_affected             136 non-null    object \n",
      " 27  cheblid_of_biomarker       1 non-null      float64\n",
      " 28  description_of_biomarker   12 non-null     object \n",
      " 29  fullname_of_biomarker      136 non-null    object \n",
      " 30  abbreviation_of_biomarker  136 non-null    object \n",
      " 31  inchikey_of_biomarker      136 non-null    object \n",
      " 32  inchistring_of_biomarker   136 non-null    object \n",
      " 33  keggid_of_biomarker        12 non-null     object \n",
      " 34  casregistry_of_biomarker   12 non-null     object \n",
      " 35  value_of_biomarker         136 non-null    object \n",
      " 36  normal_conc_of_biomarker   136 non-null    object \n",
      " 37  ramedis_of_biomarker       12 non-null     object \n",
      " 38  range_conc_of_biomarker    136 non-null    object \n",
      " 39  biocyc_biomarker           0 non-null      object \n",
      " 40  smile_biomarker            136 non-null    object \n",
      " 41  hmdb_biomarker             13 non-null     object \n",
      " 42  reconMap3_biomarker        136 non-null    object \n",
      " 43  food_db_biomarker          12 non-null     object \n",
      " 44  pubChemId_biomarker        136 non-null    float64\n",
      "dtypes: float64(3), int64(1), object(41)\n",
      "memory usage: 48.9+ KB\n"
     ]
    }
   ],
   "source": [
    "df.info()"
   ],
   "metadata": {
    "collapsed": false
   }
  },
  {
   "cell_type": "code",
   "execution_count": 50,
   "outputs": [],
   "source": [
    "disease_2 = df[['name','name_of_disease','chebi_id','organ_affected']]"
   ],
   "metadata": {
    "collapsed": false
   }
  },
  {
   "cell_type": "code",
   "execution_count": 51,
   "outputs": [
    {
     "data": {
      "text/plain": "                                        name               name_of_disease  \\\n0                  3-hydroxybutyrylcarnitine  Beta-Ketothiolase Deficiency   \n0    2-decaprenyl-6-methoxy-1,4-benzoquinone  Beta-Ketothiolase Deficiency   \n74                2-hydroxy-4-methylvalerate  Beta-Ketothiolase Deficiency   \n148            3-amino-2-oxopropyl phosphate  Beta-Ketothiolase Deficiency   \n222                               3'-AMP(2-)  Beta-Ketothiolase Deficiency   \n\n     chebi_id  organ_affected  \n0       72995  Nervous system  \n0       50773  Nervous system  \n74     133577  Nervous system  \n148      1449  Nervous system  \n222     60880  Nervous system  ",
      "text/html": "<div>\n<style scoped>\n    .dataframe tbody tr th:only-of-type {\n        vertical-align: middle;\n    }\n\n    .dataframe tbody tr th {\n        vertical-align: top;\n    }\n\n    .dataframe thead th {\n        text-align: right;\n    }\n</style>\n<table border=\"1\" class=\"dataframe\">\n  <thead>\n    <tr style=\"text-align: right;\">\n      <th></th>\n      <th>name</th>\n      <th>name_of_disease</th>\n      <th>chebi_id</th>\n      <th>organ_affected</th>\n    </tr>\n  </thead>\n  <tbody>\n    <tr>\n      <th>0</th>\n      <td>3-hydroxybutyrylcarnitine</td>\n      <td>Beta-Ketothiolase Deficiency</td>\n      <td>72995</td>\n      <td>Nervous system</td>\n    </tr>\n    <tr>\n      <th>0</th>\n      <td>2-decaprenyl-6-methoxy-1,4-benzoquinone</td>\n      <td>Beta-Ketothiolase Deficiency</td>\n      <td>50773</td>\n      <td>Nervous system</td>\n    </tr>\n    <tr>\n      <th>74</th>\n      <td>2-hydroxy-4-methylvalerate</td>\n      <td>Beta-Ketothiolase Deficiency</td>\n      <td>133577</td>\n      <td>Nervous system</td>\n    </tr>\n    <tr>\n      <th>148</th>\n      <td>3-amino-2-oxopropyl phosphate</td>\n      <td>Beta-Ketothiolase Deficiency</td>\n      <td>1449</td>\n      <td>Nervous system</td>\n    </tr>\n    <tr>\n      <th>222</th>\n      <td>3'-AMP(2-)</td>\n      <td>Beta-Ketothiolase Deficiency</td>\n      <td>60880</td>\n      <td>Nervous system</td>\n    </tr>\n  </tbody>\n</table>\n</div>"
     },
     "execution_count": 51,
     "metadata": {},
     "output_type": "execute_result"
    }
   ],
   "source": [
    "disease_2.head()"
   ],
   "metadata": {
    "collapsed": false
   }
  },
  {
   "cell_type": "code",
   "execution_count": 53,
   "outputs": [
    {
     "name": "stderr",
     "output_type": "stream",
     "text": [
      "C:\\Users\\karim\\AppData\\Local\\Temp\\ipykernel_6472\\1132448168.py:1: SettingWithCopyWarning: \n",
      "A value is trying to be set on a copy of a slice from a DataFrame\n",
      "\n",
      "See the caveats in the documentation: https://pandas.pydata.org/pandas-docs/stable/user_guide/indexing.html#returning-a-view-versus-a-copy\n",
      "  disease_2.rename(columns={'name_of_disease':'disease'},inplace=True)\n"
     ]
    }
   ],
   "source": [
    "disease_2.rename(columns={'name_of_disease':'disease'},inplace=True)"
   ],
   "metadata": {
    "collapsed": false
   }
  },
  {
   "cell_type": "code",
   "execution_count": 54,
   "outputs": [],
   "source": [
    "last = pd.read_csv('last.csv')"
   ],
   "metadata": {
    "collapsed": false
   }
  },
  {
   "cell_type": "code",
   "execution_count": 55,
   "outputs": [
    {
     "data": {
      "text/plain": "   number                            name  chebi_id        mdbid  \\\n0       0           7a-Hydroxycholesterol      1296  MDB00000633   \n1       2           2-Hydroxybutyric acid     64552  MDB00000004   \n2       3  Ortho-Hydroxyphenylacetic acid     62423  MDB00000353   \n3       8    (S)-3-Hydroxyisobutyric acid     62638  MDB00000016   \n4      12           5-Aminolevulinic acid    356416  MDB00000539   \n\n                             disease  markerdb_id   Gender location  \\\n0                          Cirrhosis          545     Both    Blood   \n1  Pyruvate Dehydrogenase Deficiency       367359     Both    Urine   \n2                    Phenylketonuria         1530     Both    Urine   \n3           Diabetes Mellitus Type 2          687     Both    Blood   \n4           Eosinophilic Esophagitis       367194  Unknown    Urine   \n\n                          concentration                       concentration_1  \\\n0                0.054 (0.035-0.073) uM                0.054 (0.035-0.073) uM   \n1             25.0 umol/mmol creatinine             25.0 umol/mmol creatinine   \n2    36.5 (0-76.1) umol/mmol creatinine    36.5 (0-76.1) umol/mmol creatinine   \n3                   38.0 (33.0-43.0) uM                   38.0 (33.0-43.0) uM   \n4  19.2 (2.7-35.8) umol/mmol creatinine  19.2 (2.7-35.8) umol/mmol creatinine   \n\n                                         publication  \\\n0  Hahn, C., Reichel, C. & von Bergmann, K. Serum...   \n1                                        OMIM 238331   \n2  Monch, E., Kneer, J., Jakobs, C., Arnold, M., ...   \n3  Avogaro, A. & Bier, D. M. Contribution of 3-hy...   \n4              Mordechai, Hien, and David S. Wishart   \n\n                                       publication_1  \n0  Hahn, C., Reichel, C. & von Bergmann, K. Serum...  \n1                                        OMIM 238331  \n2  Monch, E., Kneer, J., Jakobs, C., Arnold, M., ...  \n3  Avogaro, A. & Bier, D. M. Contribution of 3-hy...  \n4              Mordechai, Hien, and David S. Wishart  ",
      "text/html": "<div>\n<style scoped>\n    .dataframe tbody tr th:only-of-type {\n        vertical-align: middle;\n    }\n\n    .dataframe tbody tr th {\n        vertical-align: top;\n    }\n\n    .dataframe thead th {\n        text-align: right;\n    }\n</style>\n<table border=\"1\" class=\"dataframe\">\n  <thead>\n    <tr style=\"text-align: right;\">\n      <th></th>\n      <th>number</th>\n      <th>name</th>\n      <th>chebi_id</th>\n      <th>mdbid</th>\n      <th>disease</th>\n      <th>markerdb_id</th>\n      <th>Gender</th>\n      <th>location</th>\n      <th>concentration</th>\n      <th>concentration_1</th>\n      <th>publication</th>\n      <th>publication_1</th>\n    </tr>\n  </thead>\n  <tbody>\n    <tr>\n      <th>0</th>\n      <td>0</td>\n      <td>7a-Hydroxycholesterol</td>\n      <td>1296</td>\n      <td>MDB00000633</td>\n      <td>Cirrhosis</td>\n      <td>545</td>\n      <td>Both</td>\n      <td>Blood</td>\n      <td>0.054 (0.035-0.073) uM</td>\n      <td>0.054 (0.035-0.073) uM</td>\n      <td>Hahn, C., Reichel, C. &amp; von Bergmann, K. Serum...</td>\n      <td>Hahn, C., Reichel, C. &amp; von Bergmann, K. Serum...</td>\n    </tr>\n    <tr>\n      <th>1</th>\n      <td>2</td>\n      <td>2-Hydroxybutyric acid</td>\n      <td>64552</td>\n      <td>MDB00000004</td>\n      <td>Pyruvate Dehydrogenase Deficiency</td>\n      <td>367359</td>\n      <td>Both</td>\n      <td>Urine</td>\n      <td>25.0 umol/mmol creatinine</td>\n      <td>25.0 umol/mmol creatinine</td>\n      <td>OMIM 238331</td>\n      <td>OMIM 238331</td>\n    </tr>\n    <tr>\n      <th>2</th>\n      <td>3</td>\n      <td>Ortho-Hydroxyphenylacetic acid</td>\n      <td>62423</td>\n      <td>MDB00000353</td>\n      <td>Phenylketonuria</td>\n      <td>1530</td>\n      <td>Both</td>\n      <td>Urine</td>\n      <td>36.5 (0-76.1) umol/mmol creatinine</td>\n      <td>36.5 (0-76.1) umol/mmol creatinine</td>\n      <td>Monch, E., Kneer, J., Jakobs, C., Arnold, M., ...</td>\n      <td>Monch, E., Kneer, J., Jakobs, C., Arnold, M., ...</td>\n    </tr>\n    <tr>\n      <th>3</th>\n      <td>8</td>\n      <td>(S)-3-Hydroxyisobutyric acid</td>\n      <td>62638</td>\n      <td>MDB00000016</td>\n      <td>Diabetes Mellitus Type 2</td>\n      <td>687</td>\n      <td>Both</td>\n      <td>Blood</td>\n      <td>38.0 (33.0-43.0) uM</td>\n      <td>38.0 (33.0-43.0) uM</td>\n      <td>Avogaro, A. &amp; Bier, D. M. Contribution of 3-hy...</td>\n      <td>Avogaro, A. &amp; Bier, D. M. Contribution of 3-hy...</td>\n    </tr>\n    <tr>\n      <th>4</th>\n      <td>12</td>\n      <td>5-Aminolevulinic acid</td>\n      <td>356416</td>\n      <td>MDB00000539</td>\n      <td>Eosinophilic Esophagitis</td>\n      <td>367194</td>\n      <td>Unknown</td>\n      <td>Urine</td>\n      <td>19.2 (2.7-35.8) umol/mmol creatinine</td>\n      <td>19.2 (2.7-35.8) umol/mmol creatinine</td>\n      <td>Mordechai, Hien, and David S. Wishart</td>\n      <td>Mordechai, Hien, and David S. Wishart</td>\n    </tr>\n  </tbody>\n</table>\n</div>"
     },
     "execution_count": 55,
     "metadata": {},
     "output_type": "execute_result"
    }
   ],
   "source": [
    "last.head()"
   ],
   "metadata": {
    "collapsed": false
   }
  },
  {
   "cell_type": "code",
   "execution_count": 56,
   "outputs": [],
   "source": [
    "frames_2 = [last,disease_2]"
   ],
   "metadata": {
    "collapsed": false
   }
  },
  {
   "cell_type": "code",
   "execution_count": 60,
   "outputs": [],
   "source": [
    "merge = pd.concat(frames_2)"
   ],
   "metadata": {
    "collapsed": false
   }
  },
  {
   "cell_type": "code",
   "execution_count": 62,
   "outputs": [
    {
     "name": "stdout",
     "output_type": "stream",
     "text": [
      "<class 'pandas.core.frame.DataFrame'>\n",
      "Int64Index: 169 entries, 0 to 3648\n",
      "Data columns (total 13 columns):\n",
      " #   Column           Non-Null Count  Dtype  \n",
      "---  ------           --------------  -----  \n",
      " 0   number           33 non-null     float64\n",
      " 1   name             169 non-null    object \n",
      " 2   chebi_id         169 non-null    int64  \n",
      " 3   mdbid            33 non-null     object \n",
      " 4   disease          169 non-null    object \n",
      " 5   markerdb_id      33 non-null     float64\n",
      " 6   Gender           33 non-null     object \n",
      " 7   location         33 non-null     object \n",
      " 8   concentration    33 non-null     object \n",
      " 9   concentration_1  33 non-null     object \n",
      " 10  publication      27 non-null     object \n",
      " 11  publication_1    27 non-null     object \n",
      " 12  organ_affected   136 non-null    object \n",
      "dtypes: float64(2), int64(1), object(10)\n",
      "memory usage: 18.5+ KB\n"
     ]
    }
   ],
   "source": [
    "merge.info()"
   ],
   "metadata": {
    "collapsed": false
   }
  },
  {
   "cell_type": "code",
   "execution_count": 64,
   "outputs": [],
   "source": [
    "merge.drop_duplicates(subset='name',keep='first',inplace=True)"
   ],
   "metadata": {
    "collapsed": false
   }
  },
  {
   "cell_type": "code",
   "execution_count": 65,
   "outputs": [
    {
     "name": "stdout",
     "output_type": "stream",
     "text": [
      "<class 'pandas.core.frame.DataFrame'>\n",
      "Int64Index: 169 entries, 0 to 3648\n",
      "Data columns (total 13 columns):\n",
      " #   Column           Non-Null Count  Dtype  \n",
      "---  ------           --------------  -----  \n",
      " 0   number           33 non-null     float64\n",
      " 1   name             169 non-null    object \n",
      " 2   chebi_id         169 non-null    int64  \n",
      " 3   mdbid            33 non-null     object \n",
      " 4   disease          169 non-null    object \n",
      " 5   markerdb_id      33 non-null     float64\n",
      " 6   Gender           33 non-null     object \n",
      " 7   location         33 non-null     object \n",
      " 8   concentration    33 non-null     object \n",
      " 9   concentration_1  33 non-null     object \n",
      " 10  publication      27 non-null     object \n",
      " 11  publication_1    27 non-null     object \n",
      " 12  organ_affected   136 non-null    object \n",
      "dtypes: float64(2), int64(1), object(10)\n",
      "memory usage: 18.5+ KB\n"
     ]
    }
   ],
   "source": [
    "merge.info()"
   ],
   "metadata": {
    "collapsed": false
   }
  },
  {
   "cell_type": "code",
   "execution_count": 95,
   "outputs": [
    {
     "name": "stdout",
     "output_type": "stream",
     "text": [
      "<class 'pandas.core.frame.DataFrame'>\n",
      "RangeIndex: 1759 entries, 0 to 1758\n",
      "Data columns (total 10 columns):\n",
      " #   Column         Non-Null Count  Dtype  \n",
      "---  ------         --------------  -----  \n",
      " 0   name           1759 non-null   object \n",
      " 1   value          1759 non-null   int64  \n",
      " 2   disease        1759 non-null   object \n",
      " 3   age            1758 non-null   object \n",
      " 4   Gender         1759 non-null   object \n",
      " 5   location       1759 non-null   object \n",
      " 6   concentration  1759 non-null   object \n",
      " 7   markerdb_id    1759 non-null   int64  \n",
      " 8   method         1107 non-null   object \n",
      " 9   id             1299 non-null   float64\n",
      "dtypes: float64(1), int64(2), object(7)\n",
      "memory usage: 137.5+ KB\n"
     ]
    }
   ],
   "source": [
    "disease.info()"
   ],
   "metadata": {
    "collapsed": false
   }
  },
  {
   "cell_type": "code",
   "execution_count": 100,
   "outputs": [],
   "source": [
    "new_merge = merge.merge(disease,on=('name'),how='inner')"
   ],
   "metadata": {
    "collapsed": false
   }
  },
  {
   "cell_type": "code",
   "execution_count": 101,
   "outputs": [
    {
     "name": "stdout",
     "output_type": "stream",
     "text": [
      "<class 'pandas.core.frame.DataFrame'>\n",
      "Int64Index: 109 entries, 0 to 108\n",
      "Data columns (total 22 columns):\n",
      " #   Column           Non-Null Count  Dtype  \n",
      "---  ------           --------------  -----  \n",
      " 0   number           109 non-null    float64\n",
      " 1   name             109 non-null    object \n",
      " 2   chebi_id         109 non-null    int64  \n",
      " 3   mdbid            109 non-null    object \n",
      " 4   disease_x        109 non-null    object \n",
      " 5   markerdb_id_x    109 non-null    float64\n",
      " 6   Gender_x         109 non-null    object \n",
      " 7   location_x       109 non-null    object \n",
      " 8   concentration_x  109 non-null    object \n",
      " 9   concentration_1  109 non-null    object \n",
      " 10  publication      63 non-null     object \n",
      " 11  publication_1    63 non-null     object \n",
      " 12  organ_affected   0 non-null      object \n",
      " 13  value            109 non-null    int64  \n",
      " 14  disease_y        109 non-null    object \n",
      " 15  age              108 non-null    object \n",
      " 16  Gender_y         109 non-null    object \n",
      " 17  location_y       109 non-null    object \n",
      " 18  concentration_y  109 non-null    object \n",
      " 19  markerdb_id_y    109 non-null    int64  \n",
      " 20  method           67 non-null     object \n",
      " 21  id               98 non-null     float64\n",
      "dtypes: float64(3), int64(3), object(16)\n",
      "memory usage: 19.6+ KB\n"
     ]
    }
   ],
   "source": [
    "new_merge.info()"
   ],
   "metadata": {
    "collapsed": false
   }
  },
  {
   "cell_type": "code",
   "execution_count": 102,
   "outputs": [],
   "source": [
    "merge_12 = new_merge[['name','disease_x','Gender_x','concentration_x','concentration_1','location_x','publication']]"
   ],
   "metadata": {
    "collapsed": false
   }
  },
  {
   "cell_type": "code",
   "execution_count": 103,
   "outputs": [
    {
     "data": {
      "text/plain": "                             name                          disease_x Gender_x  \\\n0           7a-Hydroxycholesterol                          Cirrhosis     Both   \n1           2-Hydroxybutyric acid  Pyruvate Dehydrogenase Deficiency     Both   \n2           2-Hydroxybutyric acid  Pyruvate Dehydrogenase Deficiency     Both   \n3  Ortho-Hydroxyphenylacetic acid                    Phenylketonuria     Both   \n4    (S)-3-Hydroxyisobutyric acid           Diabetes Mellitus Type 2     Both   \n\n                      concentration_x                     concentration_1  \\\n0              0.054 (0.035-0.073) uM              0.054 (0.035-0.073) uM   \n1           25.0 umol/mmol creatinine           25.0 umol/mmol creatinine   \n2           25.0 umol/mmol creatinine           25.0 umol/mmol creatinine   \n3  36.5 (0-76.1) umol/mmol creatinine  36.5 (0-76.1) umol/mmol creatinine   \n4                 38.0 (33.0-43.0) uM                 38.0 (33.0-43.0) uM   \n\n  location_x                                        publication  \n0      Blood  Hahn, C., Reichel, C. & von Bergmann, K. Serum...  \n1      Urine                                        OMIM 238331  \n2      Urine                                        OMIM 238331  \n3      Urine  Monch, E., Kneer, J., Jakobs, C., Arnold, M., ...  \n4      Blood  Avogaro, A. & Bier, D. M. Contribution of 3-hy...  ",
      "text/html": "<div>\n<style scoped>\n    .dataframe tbody tr th:only-of-type {\n        vertical-align: middle;\n    }\n\n    .dataframe tbody tr th {\n        vertical-align: top;\n    }\n\n    .dataframe thead th {\n        text-align: right;\n    }\n</style>\n<table border=\"1\" class=\"dataframe\">\n  <thead>\n    <tr style=\"text-align: right;\">\n      <th></th>\n      <th>name</th>\n      <th>disease_x</th>\n      <th>Gender_x</th>\n      <th>concentration_x</th>\n      <th>concentration_1</th>\n      <th>location_x</th>\n      <th>publication</th>\n    </tr>\n  </thead>\n  <tbody>\n    <tr>\n      <th>0</th>\n      <td>7a-Hydroxycholesterol</td>\n      <td>Cirrhosis</td>\n      <td>Both</td>\n      <td>0.054 (0.035-0.073) uM</td>\n      <td>0.054 (0.035-0.073) uM</td>\n      <td>Blood</td>\n      <td>Hahn, C., Reichel, C. &amp; von Bergmann, K. Serum...</td>\n    </tr>\n    <tr>\n      <th>1</th>\n      <td>2-Hydroxybutyric acid</td>\n      <td>Pyruvate Dehydrogenase Deficiency</td>\n      <td>Both</td>\n      <td>25.0 umol/mmol creatinine</td>\n      <td>25.0 umol/mmol creatinine</td>\n      <td>Urine</td>\n      <td>OMIM 238331</td>\n    </tr>\n    <tr>\n      <th>2</th>\n      <td>2-Hydroxybutyric acid</td>\n      <td>Pyruvate Dehydrogenase Deficiency</td>\n      <td>Both</td>\n      <td>25.0 umol/mmol creatinine</td>\n      <td>25.0 umol/mmol creatinine</td>\n      <td>Urine</td>\n      <td>OMIM 238331</td>\n    </tr>\n    <tr>\n      <th>3</th>\n      <td>Ortho-Hydroxyphenylacetic acid</td>\n      <td>Phenylketonuria</td>\n      <td>Both</td>\n      <td>36.5 (0-76.1) umol/mmol creatinine</td>\n      <td>36.5 (0-76.1) umol/mmol creatinine</td>\n      <td>Urine</td>\n      <td>Monch, E., Kneer, J., Jakobs, C., Arnold, M., ...</td>\n    </tr>\n    <tr>\n      <th>4</th>\n      <td>(S)-3-Hydroxyisobutyric acid</td>\n      <td>Diabetes Mellitus Type 2</td>\n      <td>Both</td>\n      <td>38.0 (33.0-43.0) uM</td>\n      <td>38.0 (33.0-43.0) uM</td>\n      <td>Blood</td>\n      <td>Avogaro, A. &amp; Bier, D. M. Contribution of 3-hy...</td>\n    </tr>\n  </tbody>\n</table>\n</div>"
     },
     "execution_count": 103,
     "metadata": {},
     "output_type": "execute_result"
    }
   ],
   "source": [
    "merge_12.head()"
   ],
   "metadata": {
    "collapsed": false
   }
  },
  {
   "cell_type": "code",
   "execution_count": 104,
   "outputs": [],
   "source": [
    "merge_12.to_csv('merg_12.csv',index_label=False)"
   ],
   "metadata": {
    "collapsed": false
   }
  },
  {
   "cell_type": "code",
   "execution_count": null,
   "outputs": [],
   "source": [],
   "metadata": {
    "collapsed": false
   }
  }
 ],
 "metadata": {
  "kernelspec": {
   "display_name": "Python 3",
   "language": "python",
   "name": "python3"
  },
  "language_info": {
   "codemirror_mode": {
    "name": "ipython",
    "version": 2
   },
   "file_extension": ".py",
   "mimetype": "text/x-python",
   "name": "python",
   "nbconvert_exporter": "python",
   "pygments_lexer": "ipython2",
   "version": "2.7.6"
  }
 },
 "nbformat": 4,
 "nbformat_minor": 0
}
