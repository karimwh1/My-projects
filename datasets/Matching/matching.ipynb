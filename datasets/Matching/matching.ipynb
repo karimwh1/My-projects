{
 "cells": [
  {
   "cell_type": "code",
   "execution_count": 1,
   "metadata": {
    "collapsed": true
   },
   "outputs": [],
   "source": [
    "import pandas as pd\n",
    "import numpy as np\n"
   ]
  },
  {
   "cell_type": "code",
   "execution_count": 2,
   "outputs": [],
   "source": [
    "bio = pd.read_csv('biomarkers_f.csv')\n",
    "chebild = pd.read_csv('chebild_inchi_f.tsv', sep='\\t')\n",
    "datnam = pd.read_csv('datnamf.tsv',sep='\\t')\n",
    "metabo = pd.read_csv('metabolites_f.csv')\n",
    "names = pd.read_csv('namesf.tsv',sep='\\t')\n",
    "compounds = pd.read_csv('compounds_f.csv')"
   ],
   "metadata": {
    "collapsed": false
   }
  },
  {
   "cell_type": "code",
   "execution_count": 3,
   "outputs": [
    {
     "data": {
      "text/plain": "   Unnamed: 0  CHEBI_ID                                              InChI\n0           0        90  InChI=1S/C15H14O6/c16-8-4-11(18)9-6-13(20)15(2...\n1           1       165  InChI=1S/C10H16O/c1-9(2)7-4-5-10(3,6-7)8(9)11/...\n2           2       776  InChI=1S/C18H22O3/c1-18-7-6-13-12-5-3-11(19)8-...\n3           3       943    InChI=1S/C7H3Cl2N/c8-6-2-1-3-7(9)5(6)4-10/h1-3H\n4           4      1148  InChI=1S/C4H8O3/c1-2-3(5)4(6)7/h3,5H,2H2,1H3,(...",
      "text/html": "<div>\n<style scoped>\n    .dataframe tbody tr th:only-of-type {\n        vertical-align: middle;\n    }\n\n    .dataframe tbody tr th {\n        vertical-align: top;\n    }\n\n    .dataframe thead th {\n        text-align: right;\n    }\n</style>\n<table border=\"1\" class=\"dataframe\">\n  <thead>\n    <tr style=\"text-align: right;\">\n      <th></th>\n      <th>Unnamed: 0</th>\n      <th>CHEBI_ID</th>\n      <th>InChI</th>\n    </tr>\n  </thead>\n  <tbody>\n    <tr>\n      <th>0</th>\n      <td>0</td>\n      <td>90</td>\n      <td>InChI=1S/C15H14O6/c16-8-4-11(18)9-6-13(20)15(2...</td>\n    </tr>\n    <tr>\n      <th>1</th>\n      <td>1</td>\n      <td>165</td>\n      <td>InChI=1S/C10H16O/c1-9(2)7-4-5-10(3,6-7)8(9)11/...</td>\n    </tr>\n    <tr>\n      <th>2</th>\n      <td>2</td>\n      <td>776</td>\n      <td>InChI=1S/C18H22O3/c1-18-7-6-13-12-5-3-11(19)8-...</td>\n    </tr>\n    <tr>\n      <th>3</th>\n      <td>3</td>\n      <td>943</td>\n      <td>InChI=1S/C7H3Cl2N/c8-6-2-1-3-7(9)5(6)4-10/h1-3H</td>\n    </tr>\n    <tr>\n      <th>4</th>\n      <td>4</td>\n      <td>1148</td>\n      <td>InChI=1S/C4H8O3/c1-2-3(5)4(6)7/h3,5H,2H2,1H3,(...</td>\n    </tr>\n  </tbody>\n</table>\n</div>"
     },
     "execution_count": 3,
     "metadata": {},
     "output_type": "execute_result"
    }
   ],
   "source": [
    "chebild.head()"
   ],
   "metadata": {
    "collapsed": false
   }
  },
  {
   "cell_type": "code",
   "execution_count": 4,
   "outputs": [
    {
     "data": {
      "text/plain": "   chebi_accession         SOURCE          name  \\\n0             4798  KEGG COMPOUND    entacapone   \n1             2341  KEGG COMPOUND       AACOCF3   \n2             3223  KEGG COMPOUND     buspirone   \n3             8028  KEGG COMPOUND  perphenazine   \n4             3423  KEGG COMPOUND    carmustine   \n\n                                          definition created_by  \n0  A monocarboxylic acid amide that is N,N-diethy...      CHEBI  \n1  A fatty acid derivative that is arachidonic ac...      CHEBI  \n2  An azaspiro compound that is 8-azaspiro[4.5]de...      CHEBI  \n3  A phenothiazine derivative in which the phenot...      CHEBI  \n4  A member of the class of N-nitrosoureas that i...      CHEBI  ",
      "text/html": "<div>\n<style scoped>\n    .dataframe tbody tr th:only-of-type {\n        vertical-align: middle;\n    }\n\n    .dataframe tbody tr th {\n        vertical-align: top;\n    }\n\n    .dataframe thead th {\n        text-align: right;\n    }\n</style>\n<table border=\"1\" class=\"dataframe\">\n  <thead>\n    <tr style=\"text-align: right;\">\n      <th></th>\n      <th>chebi_accession</th>\n      <th>SOURCE</th>\n      <th>name</th>\n      <th>definition</th>\n      <th>created_by</th>\n    </tr>\n  </thead>\n  <tbody>\n    <tr>\n      <th>0</th>\n      <td>4798</td>\n      <td>KEGG COMPOUND</td>\n      <td>entacapone</td>\n      <td>A monocarboxylic acid amide that is N,N-diethy...</td>\n      <td>CHEBI</td>\n    </tr>\n    <tr>\n      <th>1</th>\n      <td>2341</td>\n      <td>KEGG COMPOUND</td>\n      <td>AACOCF3</td>\n      <td>A fatty acid derivative that is arachidonic ac...</td>\n      <td>CHEBI</td>\n    </tr>\n    <tr>\n      <th>2</th>\n      <td>3223</td>\n      <td>KEGG COMPOUND</td>\n      <td>buspirone</td>\n      <td>An azaspiro compound that is 8-azaspiro[4.5]de...</td>\n      <td>CHEBI</td>\n    </tr>\n    <tr>\n      <th>3</th>\n      <td>8028</td>\n      <td>KEGG COMPOUND</td>\n      <td>perphenazine</td>\n      <td>A phenothiazine derivative in which the phenot...</td>\n      <td>CHEBI</td>\n    </tr>\n    <tr>\n      <th>4</th>\n      <td>3423</td>\n      <td>KEGG COMPOUND</td>\n      <td>carmustine</td>\n      <td>A member of the class of N-nitrosoureas that i...</td>\n      <td>CHEBI</td>\n    </tr>\n  </tbody>\n</table>\n</div>"
     },
     "execution_count": 4,
     "metadata": {},
     "output_type": "execute_result"
    }
   ],
   "source": [
    "compounds.head()"
   ],
   "metadata": {
    "collapsed": false
   }
  },
  {
   "cell_type": "code",
   "execution_count": 5,
   "outputs": [
    {
     "data": {
      "text/plain": "   id  compound_id     type         source  \\\n0   2        18357  SYNONYM  KEGG COMPOUND   \n1   3        18357  SYNONYM  KEGG COMPOUND   \n2   4        18357  SYNONYM  KEGG COMPOUND   \n3   5        18357  SYNONYM  KEGG COMPOUND   \n4   9        28234  SYNONYM  KEGG COMPOUND   \n\n                                                name adapted language  \n0                                      Noradrenaline       F       en  \n1                                    L-Noradrenaline       F       en  \n2                                     Norepinephrine       F       en  \n3                                          Arterenol       F       en  \n4  (+)-(3S,4R)-cis-3,4-Dihydroxy-3,4-dihydrofluorene       F       en  ",
      "text/html": "<div>\n<style scoped>\n    .dataframe tbody tr th:only-of-type {\n        vertical-align: middle;\n    }\n\n    .dataframe tbody tr th {\n        vertical-align: top;\n    }\n\n    .dataframe thead th {\n        text-align: right;\n    }\n</style>\n<table border=\"1\" class=\"dataframe\">\n  <thead>\n    <tr style=\"text-align: right;\">\n      <th></th>\n      <th>id</th>\n      <th>compound_id</th>\n      <th>type</th>\n      <th>source</th>\n      <th>name</th>\n      <th>adapted</th>\n      <th>language</th>\n    </tr>\n  </thead>\n  <tbody>\n    <tr>\n      <th>0</th>\n      <td>2</td>\n      <td>18357</td>\n      <td>SYNONYM</td>\n      <td>KEGG COMPOUND</td>\n      <td>Noradrenaline</td>\n      <td>F</td>\n      <td>en</td>\n    </tr>\n    <tr>\n      <th>1</th>\n      <td>3</td>\n      <td>18357</td>\n      <td>SYNONYM</td>\n      <td>KEGG COMPOUND</td>\n      <td>L-Noradrenaline</td>\n      <td>F</td>\n      <td>en</td>\n    </tr>\n    <tr>\n      <th>2</th>\n      <td>4</td>\n      <td>18357</td>\n      <td>SYNONYM</td>\n      <td>KEGG COMPOUND</td>\n      <td>Norepinephrine</td>\n      <td>F</td>\n      <td>en</td>\n    </tr>\n    <tr>\n      <th>3</th>\n      <td>5</td>\n      <td>18357</td>\n      <td>SYNONYM</td>\n      <td>KEGG COMPOUND</td>\n      <td>Arterenol</td>\n      <td>F</td>\n      <td>en</td>\n    </tr>\n    <tr>\n      <th>4</th>\n      <td>9</td>\n      <td>28234</td>\n      <td>SYNONYM</td>\n      <td>KEGG COMPOUND</td>\n      <td>(+)-(3S,4R)-cis-3,4-Dihydroxy-3,4-dihydrofluorene</td>\n      <td>F</td>\n      <td>en</td>\n    </tr>\n  </tbody>\n</table>\n</div>"
     },
     "execution_count": 5,
     "metadata": {},
     "output_type": "execute_result"
    }
   ],
   "source": [
    "names.head()"
   ],
   "metadata": {
    "collapsed": false
   }
  },
  {
   "cell_type": "code",
   "execution_count": 6,
   "outputs": [
    {
     "data": {
      "text/plain": "                                            name_ofd  \\\n0  Glycine Encephalopathy/ Nonketotic Hyperglycin...   \n1           Gyrate Atrophy of the Choroid And Retina   \n2                          Maple Syrup Urine Disease   \n3  Neonatal Intrahepatic Cholestasis caused by Ci...   \n4                                 Hypermethioninemia   \n\n                       type_ofd  \\\n0  Inherited metabolic disorder   \n1  Inherited metabolic disorder   \n2  Inherited metabolic disorder   \n3  Inherited metabolic disorder   \n4  Inherited metabolic disorder   \n\n                                           notes_ofd  \\\n0  About 80 percent of cases of glycine encephalo...   \n1  Decreased activity of ornithine-delta-aminotra...   \n2  In plasma increased levels of allo-isoleucine,...   \n3  Blood-elevated acetylcarnitine (C2), palmitoyl...   \n4  A deficiency of any of these enzymes (i.e. MAT...   \n\n                                           phenotype  \\\n0  1) Neonatal (classic) presentation-The neonata...   \n1                                                NaN   \n2  1) Classic and intermediate MSUD. 2)There are ...   \n3  The two phenotypes of citrin deficiency are ci...   \n4                                                NaN   \n\n                    organ_affected  cheBlId_ofb  \\\n0                   Nervous system        84842   \n1                      Muscle, eye        84842   \n2                   Nervous system        84842   \n3                            Liver        84842   \n4  Nervous system,  liver,  muscle        84842   \n\n                                     description_ofb  fullName_ofb  \\\n0  Human Metabolome Database (HMDB): Glycine is a...       Glycine   \n1  Human Metabolome Database (HMDB): L-proline is...     L-Proline   \n2  Human Metabolome Database (HMDB): Valine (abbr...      L-Valine   \n3  Human Metabolome Database (HMDB): Threonine is...   L-Threonine   \n4  Human Metabolome Database (HMDB): Methionine i...  L-Methionine   \n\n                  inchiKey_ofb  \\\n0  DHMQDGOQFOQNFH-UHFFFAOYSA-N   \n1  ONIBWKKTOPOVIA-BYPYZUCNSA-N   \n2  KZSNJWFQEVHDMF-BYPYZUCNSA-N   \n3  AYFVYJQAPQTCCC-GBXIJSLDSA-N   \n4  FFEARJCKVFRZRR-BYPYZUCNSA-N   \n\n                                     inchiString_ofb keggId_ofb  \\\n0         InChI=1S/C2H5NO2/c3-1-2(4)5/h1,3H2,(H,4,5)     C00037   \n1  InChI=1S/C5H9NO2/c7-5(8)4-2-1-3-6-4/h4,6H,1-3H...     C00148   \n2  InChI=1S/C5H11NO2/c1-3(2)4(6)5(7)8/h3-4H,6H2,1...     C00183   \n3  InChI=1S/C4H9NO3/c1-2(6)3(5)4(7)8/h2-3,6H,5H2,...     C00188   \n4  InChI=1S/C5H11NO2S/c1-9-3-2-4(6)5(7)8/h4H,2-3,...     C00073   \n\n  casRegistry_ofb  value_ofb normal_conc_ofb    ramedis_ofb   range_conc_ofb  \n0         56-40-6  Increased   180.00-740.00            NaN   550.00-1350.00  \n1        147-85-3  Increased  95.00 - 320.00            NaN         830-1360  \n2         72-18-4  Increased       65.00-215  125, 133, 337  210.00 - 650.00  \n3         72-19-5  Increased        25 - 150            NaN              NaN  \n4         63-68-3  Increased     10.00-38.00            NaN    56.00 -170.00  ",
      "text/html": "<div>\n<style scoped>\n    .dataframe tbody tr th:only-of-type {\n        vertical-align: middle;\n    }\n\n    .dataframe tbody tr th {\n        vertical-align: top;\n    }\n\n    .dataframe thead th {\n        text-align: right;\n    }\n</style>\n<table border=\"1\" class=\"dataframe\">\n  <thead>\n    <tr style=\"text-align: right;\">\n      <th></th>\n      <th>name_ofd</th>\n      <th>type_ofd</th>\n      <th>notes_ofd</th>\n      <th>phenotype</th>\n      <th>organ_affected</th>\n      <th>cheBlId_ofb</th>\n      <th>description_ofb</th>\n      <th>fullName_ofb</th>\n      <th>inchiKey_ofb</th>\n      <th>inchiString_ofb</th>\n      <th>keggId_ofb</th>\n      <th>casRegistry_ofb</th>\n      <th>value_ofb</th>\n      <th>normal_conc_ofb</th>\n      <th>ramedis_ofb</th>\n      <th>range_conc_ofb</th>\n    </tr>\n  </thead>\n  <tbody>\n    <tr>\n      <th>0</th>\n      <td>Glycine Encephalopathy/ Nonketotic Hyperglycin...</td>\n      <td>Inherited metabolic disorder</td>\n      <td>About 80 percent of cases of glycine encephalo...</td>\n      <td>1) Neonatal (classic) presentation-The neonata...</td>\n      <td>Nervous system</td>\n      <td>84842</td>\n      <td>Human Metabolome Database (HMDB): Glycine is a...</td>\n      <td>Glycine</td>\n      <td>DHMQDGOQFOQNFH-UHFFFAOYSA-N</td>\n      <td>InChI=1S/C2H5NO2/c3-1-2(4)5/h1,3H2,(H,4,5)</td>\n      <td>C00037</td>\n      <td>56-40-6</td>\n      <td>Increased</td>\n      <td>180.00-740.00</td>\n      <td>NaN</td>\n      <td>550.00-1350.00</td>\n    </tr>\n    <tr>\n      <th>1</th>\n      <td>Gyrate Atrophy of the Choroid And Retina</td>\n      <td>Inherited metabolic disorder</td>\n      <td>Decreased activity of ornithine-delta-aminotra...</td>\n      <td>NaN</td>\n      <td>Muscle, eye</td>\n      <td>84842</td>\n      <td>Human Metabolome Database (HMDB): L-proline is...</td>\n      <td>L-Proline</td>\n      <td>ONIBWKKTOPOVIA-BYPYZUCNSA-N</td>\n      <td>InChI=1S/C5H9NO2/c7-5(8)4-2-1-3-6-4/h4,6H,1-3H...</td>\n      <td>C00148</td>\n      <td>147-85-3</td>\n      <td>Increased</td>\n      <td>95.00 - 320.00</td>\n      <td>NaN</td>\n      <td>830-1360</td>\n    </tr>\n    <tr>\n      <th>2</th>\n      <td>Maple Syrup Urine Disease</td>\n      <td>Inherited metabolic disorder</td>\n      <td>In plasma increased levels of allo-isoleucine,...</td>\n      <td>1) Classic and intermediate MSUD. 2)There are ...</td>\n      <td>Nervous system</td>\n      <td>84842</td>\n      <td>Human Metabolome Database (HMDB): Valine (abbr...</td>\n      <td>L-Valine</td>\n      <td>KZSNJWFQEVHDMF-BYPYZUCNSA-N</td>\n      <td>InChI=1S/C5H11NO2/c1-3(2)4(6)5(7)8/h3-4H,6H2,1...</td>\n      <td>C00183</td>\n      <td>72-18-4</td>\n      <td>Increased</td>\n      <td>65.00-215</td>\n      <td>125, 133, 337</td>\n      <td>210.00 - 650.00</td>\n    </tr>\n    <tr>\n      <th>3</th>\n      <td>Neonatal Intrahepatic Cholestasis caused by Ci...</td>\n      <td>Inherited metabolic disorder</td>\n      <td>Blood-elevated acetylcarnitine (C2), palmitoyl...</td>\n      <td>The two phenotypes of citrin deficiency are ci...</td>\n      <td>Liver</td>\n      <td>84842</td>\n      <td>Human Metabolome Database (HMDB): Threonine is...</td>\n      <td>L-Threonine</td>\n      <td>AYFVYJQAPQTCCC-GBXIJSLDSA-N</td>\n      <td>InChI=1S/C4H9NO3/c1-2(6)3(5)4(7)8/h2-3,6H,5H2,...</td>\n      <td>C00188</td>\n      <td>72-19-5</td>\n      <td>Increased</td>\n      <td>25 - 150</td>\n      <td>NaN</td>\n      <td>NaN</td>\n    </tr>\n    <tr>\n      <th>4</th>\n      <td>Hypermethioninemia</td>\n      <td>Inherited metabolic disorder</td>\n      <td>A deficiency of any of these enzymes (i.e. MAT...</td>\n      <td>NaN</td>\n      <td>Nervous system,  liver,  muscle</td>\n      <td>84842</td>\n      <td>Human Metabolome Database (HMDB): Methionine i...</td>\n      <td>L-Methionine</td>\n      <td>FFEARJCKVFRZRR-BYPYZUCNSA-N</td>\n      <td>InChI=1S/C5H11NO2S/c1-9-3-2-4(6)5(7)8/h4H,2-3,...</td>\n      <td>C00073</td>\n      <td>63-68-3</td>\n      <td>Increased</td>\n      <td>10.00-38.00</td>\n      <td>NaN</td>\n      <td>56.00 -170.00</td>\n    </tr>\n  </tbody>\n</table>\n</div>"
     },
     "execution_count": 6,
     "metadata": {},
     "output_type": "execute_result"
    }
   ],
   "source": [
    "bio.head()"
   ],
   "metadata": {
    "collapsed": false
   }
  },
  {
   "cell_type": "code",
   "execution_count": 7,
   "outputs": [
    {
     "name": "stdout",
     "output_type": "stream",
     "text": [
      "<class 'pandas.core.frame.DataFrame'>\n",
      "RangeIndex: 115 entries, 0 to 114\n",
      "Data columns (total 16 columns):\n",
      " #   Column           Non-Null Count  Dtype \n",
      "---  ------           --------------  ----- \n",
      " 0   name_ofd         115 non-null    object\n",
      " 1   type_ofd         115 non-null    object\n",
      " 2   notes_ofd        115 non-null    object\n",
      " 3   phenotype        108 non-null    object\n",
      " 4   organ_affected   114 non-null    object\n",
      " 5   cheBlId_ofb      115 non-null    int64 \n",
      " 6   description_ofb  66 non-null     object\n",
      " 7   fullName_ofb     115 non-null    object\n",
      " 8   inchiKey_ofb     115 non-null    object\n",
      " 9   inchiString_ofb  115 non-null    object\n",
      " 10  keggId_ofb       41 non-null     object\n",
      " 11  casRegistry_ofb  48 non-null     object\n",
      " 12  value_ofb        115 non-null    object\n",
      " 13  normal_conc_ofb  115 non-null    object\n",
      " 14  ramedis_ofb      26 non-null     object\n",
      " 15  range_conc_ofb   114 non-null    object\n",
      "dtypes: int64(1), object(15)\n",
      "memory usage: 14.5+ KB\n"
     ]
    }
   ],
   "source": [
    "bio.info()"
   ],
   "metadata": {
    "collapsed": false
   }
  },
  {
   "cell_type": "code",
   "execution_count": 8,
   "outputs": [
    {
     "data": {
      "text/plain": "  casregistry  cheblid                                        description  \\\n0   2800-34-2  15637.0  Human Metabolome Database (HMDB): 10-Formyltet...   \n1         NaN      NaN                                                NaN   \n2         NaN      NaN                                                NaN   \n3         NaN      NaN                                                NaN   \n4         NaN      NaN                                                NaN   \n\n                             fullname         hmdb  \\\n0           10-Formyltetrahydrofolate  HMDB0000972   \n1  10-Formyltetrahydrofolate-[Glu](5)          NaN   \n2  10-Formyltetrahydrofolate-[Glu](6)          NaN   \n3  10-Formyltetrahydrofolate-[Glu](7)          NaN   \n4  10-methyl-3-hydroxy-dodecanoyl-ACP          NaN   \n\n                      inchikey  \\\n0  AUFGTPPARQZWDO-YUZLPWPTSA-L   \n1  RGSLBOWMZCMTRA-UHFFFAOYSA-H   \n2  SFFBEUFYOPMKMV-CWMPVMSNSA-G   \n3  VTHHVZBTNSHUDD-UHFFFAOYSA-F   \n4                          NaN   \n\n                                         inchistring  keggid  \n0  InChI=1S/C20H23N7O7/c21-20-25-16-15(18(32)26-2...  C00234  \n1  InChI=1S/C40H51N11O19/c41-40-49-32-31(37(66)50...     NaN  \n2  InChI=1S/C45H58N12O22/c46-45-55-36-35(38(67)56...     NaN  \n3  InChI=1S/C50H65N13O25/c51-50-61-40-39(47(84)62...     NaN  \n4                                                NaN     NaN  ",
      "text/html": "<div>\n<style scoped>\n    .dataframe tbody tr th:only-of-type {\n        vertical-align: middle;\n    }\n\n    .dataframe tbody tr th {\n        vertical-align: top;\n    }\n\n    .dataframe thead th {\n        text-align: right;\n    }\n</style>\n<table border=\"1\" class=\"dataframe\">\n  <thead>\n    <tr style=\"text-align: right;\">\n      <th></th>\n      <th>casregistry</th>\n      <th>cheblid</th>\n      <th>description</th>\n      <th>fullname</th>\n      <th>hmdb</th>\n      <th>inchikey</th>\n      <th>inchistring</th>\n      <th>keggid</th>\n    </tr>\n  </thead>\n  <tbody>\n    <tr>\n      <th>0</th>\n      <td>2800-34-2</td>\n      <td>15637.0</td>\n      <td>Human Metabolome Database (HMDB): 10-Formyltet...</td>\n      <td>10-Formyltetrahydrofolate</td>\n      <td>HMDB0000972</td>\n      <td>AUFGTPPARQZWDO-YUZLPWPTSA-L</td>\n      <td>InChI=1S/C20H23N7O7/c21-20-25-16-15(18(32)26-2...</td>\n      <td>C00234</td>\n    </tr>\n    <tr>\n      <th>1</th>\n      <td>NaN</td>\n      <td>NaN</td>\n      <td>NaN</td>\n      <td>10-Formyltetrahydrofolate-[Glu](5)</td>\n      <td>NaN</td>\n      <td>RGSLBOWMZCMTRA-UHFFFAOYSA-H</td>\n      <td>InChI=1S/C40H51N11O19/c41-40-49-32-31(37(66)50...</td>\n      <td>NaN</td>\n    </tr>\n    <tr>\n      <th>2</th>\n      <td>NaN</td>\n      <td>NaN</td>\n      <td>NaN</td>\n      <td>10-Formyltetrahydrofolate-[Glu](6)</td>\n      <td>NaN</td>\n      <td>SFFBEUFYOPMKMV-CWMPVMSNSA-G</td>\n      <td>InChI=1S/C45H58N12O22/c46-45-55-36-35(38(67)56...</td>\n      <td>NaN</td>\n    </tr>\n    <tr>\n      <th>3</th>\n      <td>NaN</td>\n      <td>NaN</td>\n      <td>NaN</td>\n      <td>10-Formyltetrahydrofolate-[Glu](7)</td>\n      <td>NaN</td>\n      <td>VTHHVZBTNSHUDD-UHFFFAOYSA-F</td>\n      <td>InChI=1S/C50H65N13O25/c51-50-61-40-39(47(84)62...</td>\n      <td>NaN</td>\n    </tr>\n    <tr>\n      <th>4</th>\n      <td>NaN</td>\n      <td>NaN</td>\n      <td>NaN</td>\n      <td>10-methyl-3-hydroxy-dodecanoyl-ACP</td>\n      <td>NaN</td>\n      <td>NaN</td>\n      <td>NaN</td>\n      <td>NaN</td>\n    </tr>\n  </tbody>\n</table>\n</div>"
     },
     "execution_count": 8,
     "metadata": {},
     "output_type": "execute_result"
    }
   ],
   "source": [
    "metabo.head()"
   ],
   "metadata": {
    "collapsed": false
   }
  },
  {
   "cell_type": "code",
   "execution_count": 9,
   "outputs": [
    {
     "name": "stdout",
     "output_type": "stream",
     "text": [
      "<class 'pandas.core.frame.DataFrame'>\n",
      "RangeIndex: 5650 entries, 0 to 5649\n",
      "Data columns (total 8 columns):\n",
      " #   Column       Non-Null Count  Dtype  \n",
      "---  ------       --------------  -----  \n",
      " 0   casregistry  791 non-null    object \n",
      " 1   cheblid      565 non-null    float64\n",
      " 2   description  904 non-null    object \n",
      " 3   fullname     5650 non-null   object \n",
      " 4   hmdb         1130 non-null   object \n",
      " 5   inchikey     1469 non-null   object \n",
      " 6   inchistring  1469 non-null   object \n",
      " 7   keggid       678 non-null    object \n",
      "dtypes: float64(1), object(7)\n",
      "memory usage: 353.2+ KB\n"
     ]
    }
   ],
   "source": [
    "metabo.info()"
   ],
   "metadata": {
    "collapsed": false
   }
  },
  {
   "cell_type": "code",
   "execution_count": 57,
   "outputs": [],
   "source": [
    "keg_id_b['keg'] = bio['keggId_ofb'].str.replace(\"C\",\"\")"
   ],
   "metadata": {
    "collapsed": false
   }
  },
  {
   "cell_type": "code",
   "execution_count": 59,
   "outputs": [
    {
     "name": "stdout",
     "output_type": "stream",
     "text": [
      "<class 'pandas.core.series.Series'>\n",
      "Index: 116 entries, 0 to keg\n",
      "Series name: keggId_ofb\n",
      "Non-Null Count  Dtype \n",
      "--------------  ----- \n",
      "42 non-null     object\n",
      "dtypes: object(1)\n",
      "memory usage: 5.9+ KB\n"
     ]
    }
   ],
   "source": [
    "keg_id_b.info()"
   ],
   "metadata": {
    "collapsed": false
   }
  },
  {
   "cell_type": "code",
   "execution_count": 60,
   "outputs": [
    {
     "ename": "ValueError",
     "evalue": "setting an array element with a sequence.",
     "output_type": "error",
     "traceback": [
      "\u001B[1;31m---------------------------------------------------------------------------\u001B[0m",
      "\u001B[1;31mTypeError\u001B[0m                                 Traceback (most recent call last)",
      "File \u001B[1;32m~\\anaconda3\\envs\\Internship\\lib\\site-packages\\pandas\\core\\series.py:191\u001B[0m, in \u001B[0;36m_coerce_method.<locals>.wrapper\u001B[1;34m(self)\u001B[0m\n\u001B[0;32m    190\u001B[0m     \u001B[38;5;28;01mreturn\u001B[39;00m converter(\u001B[38;5;28mself\u001B[39m\u001B[38;5;241m.\u001B[39miloc[\u001B[38;5;241m0\u001B[39m])\n\u001B[1;32m--> 191\u001B[0m \u001B[38;5;28;01mraise\u001B[39;00m \u001B[38;5;167;01mTypeError\u001B[39;00m(\u001B[38;5;124mf\u001B[39m\u001B[38;5;124m\"\u001B[39m\u001B[38;5;124mcannot convert the series to \u001B[39m\u001B[38;5;132;01m{\u001B[39;00mconverter\u001B[38;5;132;01m}\u001B[39;00m\u001B[38;5;124m\"\u001B[39m)\n",
      "\u001B[1;31mTypeError\u001B[0m: cannot convert the series to <class 'float'>",
      "\nThe above exception was the direct cause of the following exception:\n",
      "\u001B[1;31mValueError\u001B[0m                                Traceback (most recent call last)",
      "Input \u001B[1;32mIn [60]\u001B[0m, in \u001B[0;36m<cell line: 1>\u001B[1;34m()\u001B[0m\n\u001B[1;32m----> 1\u001B[0m keg_id_b_2 \u001B[38;5;241m=\u001B[39m \u001B[43mkeg_id_b\u001B[49m\u001B[38;5;241;43m.\u001B[39;49m\u001B[43mastype\u001B[49m\u001B[43m(\u001B[49m\u001B[38;5;28;43mfloat\u001B[39;49m\u001B[43m \u001B[49m\u001B[43m)\u001B[49m\n",
      "File \u001B[1;32m~\\anaconda3\\envs\\Internship\\lib\\site-packages\\pandas\\core\\generic.py:5912\u001B[0m, in \u001B[0;36mNDFrame.astype\u001B[1;34m(self, dtype, copy, errors)\u001B[0m\n\u001B[0;32m   5905\u001B[0m     results \u001B[38;5;241m=\u001B[39m [\n\u001B[0;32m   5906\u001B[0m         \u001B[38;5;28mself\u001B[39m\u001B[38;5;241m.\u001B[39miloc[:, i]\u001B[38;5;241m.\u001B[39mastype(dtype, copy\u001B[38;5;241m=\u001B[39mcopy)\n\u001B[0;32m   5907\u001B[0m         \u001B[38;5;28;01mfor\u001B[39;00m i \u001B[38;5;129;01min\u001B[39;00m \u001B[38;5;28mrange\u001B[39m(\u001B[38;5;28mlen\u001B[39m(\u001B[38;5;28mself\u001B[39m\u001B[38;5;241m.\u001B[39mcolumns))\n\u001B[0;32m   5908\u001B[0m     ]\n\u001B[0;32m   5910\u001B[0m \u001B[38;5;28;01melse\u001B[39;00m:\n\u001B[0;32m   5911\u001B[0m     \u001B[38;5;66;03m# else, only a single dtype is given\u001B[39;00m\n\u001B[1;32m-> 5912\u001B[0m     new_data \u001B[38;5;241m=\u001B[39m \u001B[38;5;28;43mself\u001B[39;49m\u001B[38;5;241;43m.\u001B[39;49m\u001B[43m_mgr\u001B[49m\u001B[38;5;241;43m.\u001B[39;49m\u001B[43mastype\u001B[49m\u001B[43m(\u001B[49m\u001B[43mdtype\u001B[49m\u001B[38;5;241;43m=\u001B[39;49m\u001B[43mdtype\u001B[49m\u001B[43m,\u001B[49m\u001B[43m \u001B[49m\u001B[43mcopy\u001B[49m\u001B[38;5;241;43m=\u001B[39;49m\u001B[43mcopy\u001B[49m\u001B[43m,\u001B[49m\u001B[43m \u001B[49m\u001B[43merrors\u001B[49m\u001B[38;5;241;43m=\u001B[39;49m\u001B[43merrors\u001B[49m\u001B[43m)\u001B[49m\n\u001B[0;32m   5913\u001B[0m     \u001B[38;5;28;01mreturn\u001B[39;00m \u001B[38;5;28mself\u001B[39m\u001B[38;5;241m.\u001B[39m_constructor(new_data)\u001B[38;5;241m.\u001B[39m__finalize__(\u001B[38;5;28mself\u001B[39m, method\u001B[38;5;241m=\u001B[39m\u001B[38;5;124m\"\u001B[39m\u001B[38;5;124mastype\u001B[39m\u001B[38;5;124m\"\u001B[39m)\n\u001B[0;32m   5915\u001B[0m \u001B[38;5;66;03m# GH 33113: handle empty frame or series\u001B[39;00m\n",
      "File \u001B[1;32m~\\anaconda3\\envs\\Internship\\lib\\site-packages\\pandas\\core\\internals\\managers.py:419\u001B[0m, in \u001B[0;36mBaseBlockManager.astype\u001B[1;34m(self, dtype, copy, errors)\u001B[0m\n\u001B[0;32m    418\u001B[0m \u001B[38;5;28;01mdef\u001B[39;00m \u001B[38;5;21mastype\u001B[39m(\u001B[38;5;28mself\u001B[39m: T, dtype, copy: \u001B[38;5;28mbool\u001B[39m \u001B[38;5;241m=\u001B[39m \u001B[38;5;28;01mFalse\u001B[39;00m, errors: \u001B[38;5;28mstr\u001B[39m \u001B[38;5;241m=\u001B[39m \u001B[38;5;124m\"\u001B[39m\u001B[38;5;124mraise\u001B[39m\u001B[38;5;124m\"\u001B[39m) \u001B[38;5;241m-\u001B[39m\u001B[38;5;241m>\u001B[39m T:\n\u001B[1;32m--> 419\u001B[0m     \u001B[38;5;28;01mreturn\u001B[39;00m \u001B[38;5;28;43mself\u001B[39;49m\u001B[38;5;241;43m.\u001B[39;49m\u001B[43mapply\u001B[49m\u001B[43m(\u001B[49m\u001B[38;5;124;43m\"\u001B[39;49m\u001B[38;5;124;43mastype\u001B[39;49m\u001B[38;5;124;43m\"\u001B[39;49m\u001B[43m,\u001B[49m\u001B[43m \u001B[49m\u001B[43mdtype\u001B[49m\u001B[38;5;241;43m=\u001B[39;49m\u001B[43mdtype\u001B[49m\u001B[43m,\u001B[49m\u001B[43m \u001B[49m\u001B[43mcopy\u001B[49m\u001B[38;5;241;43m=\u001B[39;49m\u001B[43mcopy\u001B[49m\u001B[43m,\u001B[49m\u001B[43m \u001B[49m\u001B[43merrors\u001B[49m\u001B[38;5;241;43m=\u001B[39;49m\u001B[43merrors\u001B[49m\u001B[43m)\u001B[49m\n",
      "File \u001B[1;32m~\\anaconda3\\envs\\Internship\\lib\\site-packages\\pandas\\core\\internals\\managers.py:304\u001B[0m, in \u001B[0;36mBaseBlockManager.apply\u001B[1;34m(self, f, align_keys, ignore_failures, **kwargs)\u001B[0m\n\u001B[0;32m    302\u001B[0m         applied \u001B[38;5;241m=\u001B[39m b\u001B[38;5;241m.\u001B[39mapply(f, \u001B[38;5;241m*\u001B[39m\u001B[38;5;241m*\u001B[39mkwargs)\n\u001B[0;32m    303\u001B[0m     \u001B[38;5;28;01melse\u001B[39;00m:\n\u001B[1;32m--> 304\u001B[0m         applied \u001B[38;5;241m=\u001B[39m \u001B[38;5;28mgetattr\u001B[39m(b, f)(\u001B[38;5;241m*\u001B[39m\u001B[38;5;241m*\u001B[39mkwargs)\n\u001B[0;32m    305\u001B[0m \u001B[38;5;28;01mexcept\u001B[39;00m (\u001B[38;5;167;01mTypeError\u001B[39;00m, \u001B[38;5;167;01mNotImplementedError\u001B[39;00m):\n\u001B[0;32m    306\u001B[0m     \u001B[38;5;28;01mif\u001B[39;00m \u001B[38;5;129;01mnot\u001B[39;00m ignore_failures:\n",
      "File \u001B[1;32m~\\anaconda3\\envs\\Internship\\lib\\site-packages\\pandas\\core\\internals\\blocks.py:580\u001B[0m, in \u001B[0;36mBlock.astype\u001B[1;34m(self, dtype, copy, errors)\u001B[0m\n\u001B[0;32m    562\u001B[0m \u001B[38;5;124;03m\"\"\"\u001B[39;00m\n\u001B[0;32m    563\u001B[0m \u001B[38;5;124;03mCoerce to the new dtype.\u001B[39;00m\n\u001B[0;32m    564\u001B[0m \n\u001B[1;32m   (...)\u001B[0m\n\u001B[0;32m    576\u001B[0m \u001B[38;5;124;03mBlock\u001B[39;00m\n\u001B[0;32m    577\u001B[0m \u001B[38;5;124;03m\"\"\"\u001B[39;00m\n\u001B[0;32m    578\u001B[0m values \u001B[38;5;241m=\u001B[39m \u001B[38;5;28mself\u001B[39m\u001B[38;5;241m.\u001B[39mvalues\n\u001B[1;32m--> 580\u001B[0m new_values \u001B[38;5;241m=\u001B[39m \u001B[43mastype_array_safe\u001B[49m\u001B[43m(\u001B[49m\u001B[43mvalues\u001B[49m\u001B[43m,\u001B[49m\u001B[43m \u001B[49m\u001B[43mdtype\u001B[49m\u001B[43m,\u001B[49m\u001B[43m \u001B[49m\u001B[43mcopy\u001B[49m\u001B[38;5;241;43m=\u001B[39;49m\u001B[43mcopy\u001B[49m\u001B[43m,\u001B[49m\u001B[43m \u001B[49m\u001B[43merrors\u001B[49m\u001B[38;5;241;43m=\u001B[39;49m\u001B[43merrors\u001B[49m\u001B[43m)\u001B[49m\n\u001B[0;32m    582\u001B[0m new_values \u001B[38;5;241m=\u001B[39m maybe_coerce_values(new_values)\n\u001B[0;32m    583\u001B[0m newb \u001B[38;5;241m=\u001B[39m \u001B[38;5;28mself\u001B[39m\u001B[38;5;241m.\u001B[39mmake_block(new_values)\n",
      "File \u001B[1;32m~\\anaconda3\\envs\\Internship\\lib\\site-packages\\pandas\\core\\dtypes\\cast.py:1292\u001B[0m, in \u001B[0;36mastype_array_safe\u001B[1;34m(values, dtype, copy, errors)\u001B[0m\n\u001B[0;32m   1289\u001B[0m     dtype \u001B[38;5;241m=\u001B[39m dtype\u001B[38;5;241m.\u001B[39mnumpy_dtype\n\u001B[0;32m   1291\u001B[0m \u001B[38;5;28;01mtry\u001B[39;00m:\n\u001B[1;32m-> 1292\u001B[0m     new_values \u001B[38;5;241m=\u001B[39m \u001B[43mastype_array\u001B[49m\u001B[43m(\u001B[49m\u001B[43mvalues\u001B[49m\u001B[43m,\u001B[49m\u001B[43m \u001B[49m\u001B[43mdtype\u001B[49m\u001B[43m,\u001B[49m\u001B[43m \u001B[49m\u001B[43mcopy\u001B[49m\u001B[38;5;241;43m=\u001B[39;49m\u001B[43mcopy\u001B[49m\u001B[43m)\u001B[49m\n\u001B[0;32m   1293\u001B[0m \u001B[38;5;28;01mexcept\u001B[39;00m (\u001B[38;5;167;01mValueError\u001B[39;00m, \u001B[38;5;167;01mTypeError\u001B[39;00m):\n\u001B[0;32m   1294\u001B[0m     \u001B[38;5;66;03m# e.g. astype_nansafe can fail on object-dtype of strings\u001B[39;00m\n\u001B[0;32m   1295\u001B[0m     \u001B[38;5;66;03m#  trying to convert to float\u001B[39;00m\n\u001B[0;32m   1296\u001B[0m     \u001B[38;5;28;01mif\u001B[39;00m errors \u001B[38;5;241m==\u001B[39m \u001B[38;5;124m\"\u001B[39m\u001B[38;5;124mignore\u001B[39m\u001B[38;5;124m\"\u001B[39m:\n",
      "File \u001B[1;32m~\\anaconda3\\envs\\Internship\\lib\\site-packages\\pandas\\core\\dtypes\\cast.py:1237\u001B[0m, in \u001B[0;36mastype_array\u001B[1;34m(values, dtype, copy)\u001B[0m\n\u001B[0;32m   1234\u001B[0m     values \u001B[38;5;241m=\u001B[39m values\u001B[38;5;241m.\u001B[39mastype(dtype, copy\u001B[38;5;241m=\u001B[39mcopy)\n\u001B[0;32m   1236\u001B[0m \u001B[38;5;28;01melse\u001B[39;00m:\n\u001B[1;32m-> 1237\u001B[0m     values \u001B[38;5;241m=\u001B[39m \u001B[43mastype_nansafe\u001B[49m\u001B[43m(\u001B[49m\u001B[43mvalues\u001B[49m\u001B[43m,\u001B[49m\u001B[43m \u001B[49m\u001B[43mdtype\u001B[49m\u001B[43m,\u001B[49m\u001B[43m \u001B[49m\u001B[43mcopy\u001B[49m\u001B[38;5;241;43m=\u001B[39;49m\u001B[43mcopy\u001B[49m\u001B[43m)\u001B[49m\n\u001B[0;32m   1239\u001B[0m \u001B[38;5;66;03m# in pandas we don't store numpy str dtypes, so convert to object\u001B[39;00m\n\u001B[0;32m   1240\u001B[0m \u001B[38;5;28;01mif\u001B[39;00m \u001B[38;5;28misinstance\u001B[39m(dtype, np\u001B[38;5;241m.\u001B[39mdtype) \u001B[38;5;129;01mand\u001B[39;00m \u001B[38;5;28missubclass\u001B[39m(values\u001B[38;5;241m.\u001B[39mdtype\u001B[38;5;241m.\u001B[39mtype, \u001B[38;5;28mstr\u001B[39m):\n",
      "File \u001B[1;32m~\\anaconda3\\envs\\Internship\\lib\\site-packages\\pandas\\core\\dtypes\\cast.py:1181\u001B[0m, in \u001B[0;36mastype_nansafe\u001B[1;34m(arr, dtype, copy, skipna)\u001B[0m\n\u001B[0;32m   1177\u001B[0m     \u001B[38;5;28;01mraise\u001B[39;00m \u001B[38;5;167;01mValueError\u001B[39;00m(msg)\n\u001B[0;32m   1179\u001B[0m \u001B[38;5;28;01mif\u001B[39;00m copy \u001B[38;5;129;01mor\u001B[39;00m is_object_dtype(arr\u001B[38;5;241m.\u001B[39mdtype) \u001B[38;5;129;01mor\u001B[39;00m is_object_dtype(dtype):\n\u001B[0;32m   1180\u001B[0m     \u001B[38;5;66;03m# Explicit copy, or required since NumPy can't view from / to object.\u001B[39;00m\n\u001B[1;32m-> 1181\u001B[0m     \u001B[38;5;28;01mreturn\u001B[39;00m \u001B[43marr\u001B[49m\u001B[38;5;241;43m.\u001B[39;49m\u001B[43mastype\u001B[49m\u001B[43m(\u001B[49m\u001B[43mdtype\u001B[49m\u001B[43m,\u001B[49m\u001B[43m \u001B[49m\u001B[43mcopy\u001B[49m\u001B[38;5;241;43m=\u001B[39;49m\u001B[38;5;28;43;01mTrue\u001B[39;49;00m\u001B[43m)\u001B[49m\n\u001B[0;32m   1183\u001B[0m \u001B[38;5;28;01mreturn\u001B[39;00m arr\u001B[38;5;241m.\u001B[39mastype(dtype, copy\u001B[38;5;241m=\u001B[39mcopy)\n",
      "\u001B[1;31mValueError\u001B[0m: setting an array element with a sequence."
     ]
    }
   ],
   "source": [
    "keg_id_b_2 = keg_id_b.astype(float )"
   ],
   "metadata": {
    "collapsed": false
   }
  },
  {
   "cell_type": "code",
   "execution_count": 35,
   "outputs": [
    {
     "name": "stdout",
     "output_type": "stream",
     "text": [
      "<class 'pandas.core.series.Series'>\n",
      "RangeIndex: 115 entries, 0 to 114\n",
      "Series name: keggId_ofb\n",
      "Non-Null Count  Dtype  \n",
      "--------------  -----  \n",
      "41 non-null     float64\n",
      "dtypes: float64(1)\n",
      "memory usage: 1.0 KB\n"
     ]
    }
   ],
   "source": [
    "keg_id_b_2.info()"
   ],
   "metadata": {
    "collapsed": false
   }
  },
  {
   "cell_type": "code",
   "execution_count": 38,
   "outputs": [],
   "source": [
    "bio_2 = pd.concat([bio,keg_id_b_2])"
   ],
   "metadata": {
    "collapsed": false
   }
  },
  {
   "cell_type": "code",
   "execution_count": 40,
   "outputs": [
    {
     "name": "stdout",
     "output_type": "stream",
     "text": [
      "<class 'pandas.core.frame.DataFrame'>\n",
      "Int64Index: 230 entries, 0 to 114\n",
      "Data columns (total 17 columns):\n",
      " #   Column           Non-Null Count  Dtype  \n",
      "---  ------           --------------  -----  \n",
      " 0   name_ofd         115 non-null    object \n",
      " 1   type_ofd         115 non-null    object \n",
      " 2   notes_ofd        115 non-null    object \n",
      " 3   phenotype        108 non-null    object \n",
      " 4   organ_affected   114 non-null    object \n",
      " 5   cheBlId_ofb      115 non-null    float64\n",
      " 6   description_ofb  66 non-null     object \n",
      " 7   fullName_ofb     115 non-null    object \n",
      " 8   inchiKey_ofb     115 non-null    object \n",
      " 9   inchiString_ofb  115 non-null    object \n",
      " 10  keggId_ofb       41 non-null     object \n",
      " 11  casRegistry_ofb  48 non-null     object \n",
      " 12  value_ofb        115 non-null    object \n",
      " 13  normal_conc_ofb  115 non-null    object \n",
      " 14  ramedis_ofb      26 non-null     object \n",
      " 15  range_conc_ofb   114 non-null    object \n",
      " 16  0                41 non-null     float64\n",
      "dtypes: float64(2), object(15)\n",
      "memory usage: 32.3+ KB\n"
     ]
    }
   ],
   "source": [
    "bio_2.info()"
   ],
   "metadata": {
    "collapsed": false
   }
  },
  {
   "cell_type": "code",
   "execution_count": 54,
   "outputs": [],
   "source": [
    "bio_2.rename(columns={16:'keg2'},inplace=True)"
   ],
   "metadata": {
    "collapsed": false
   }
  },
  {
   "cell_type": "code",
   "execution_count": 55,
   "outputs": [
    {
     "name": "stdout",
     "output_type": "stream",
     "text": [
      "<class 'pandas.core.frame.DataFrame'>\n",
      "Int64Index: 230 entries, 0 to 114\n",
      "Data columns (total 17 columns):\n",
      " #   Column           Non-Null Count  Dtype  \n",
      "---  ------           --------------  -----  \n",
      " 0   name_ofd         115 non-null    object \n",
      " 1   type_ofd         115 non-null    object \n",
      " 2   notes_ofd        115 non-null    object \n",
      " 3   phenotype        108 non-null    object \n",
      " 4   organ_affected   114 non-null    object \n",
      " 5   cheBlId_ofb      115 non-null    float64\n",
      " 6   description_ofb  66 non-null     object \n",
      " 7   fullName_ofb     115 non-null    object \n",
      " 8   inchiKey_ofb     115 non-null    object \n",
      " 9   inchiString_ofb  115 non-null    object \n",
      " 10  keggId_ofb       41 non-null     object \n",
      " 11  casRegistry_ofb  48 non-null     object \n",
      " 12  value_ofb        115 non-null    object \n",
      " 13  normal_conc_ofb  115 non-null    object \n",
      " 14  ramedis_ofb      26 non-null     object \n",
      " 15  range_conc_ofb   114 non-null    object \n",
      " 16  0                41 non-null     float64\n",
      "dtypes: float64(2), object(15)\n",
      "memory usage: 40.4+ KB\n"
     ]
    }
   ],
   "source": [
    "bio_2.info()"
   ],
   "metadata": {
    "collapsed": false
   }
  },
  {
   "cell_type": "code",
   "execution_count": 43,
   "outputs": [],
   "source": [],
   "metadata": {
    "collapsed": false
   }
  }
 ],
 "metadata": {
  "kernelspec": {
   "display_name": "Python 3",
   "language": "python",
   "name": "python3"
  },
  "language_info": {
   "codemirror_mode": {
    "name": "ipython",
    "version": 2
   },
   "file_extension": ".py",
   "mimetype": "text/x-python",
   "name": "python",
   "nbconvert_exporter": "python",
   "pygments_lexer": "ipython2",
   "version": "2.7.6"
  }
 },
 "nbformat": 4,
 "nbformat_minor": 0
}
