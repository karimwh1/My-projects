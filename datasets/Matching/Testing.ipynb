{
 "cells": [
  {
   "cell_type": "code",
   "execution_count": 1,
   "outputs": [],
   "source": [
    "import pandas as pd\n",
    "import numpy as np"
   ],
   "metadata": {
    "collapsed": false
   }
  },
  {
   "cell_type": "markdown",
   "source": [
    "\n",
    "2.merge produced datasets in one big data set\n",
    "3.clean up the data sets\n"
   ],
   "metadata": {
    "collapsed": false
   }
  },
  {
   "cell_type": "code",
   "execution_count": 2,
   "outputs": [],
   "source": [
    "chebi = pd.read_csv('chebild_final_fs.tsv',sep='\\t')\n",
    "metabo = pd.read_csv('metabolites.csv')\n",
    "bio = pd.read_csv('biomarkers_final.csv')\n",
    "datnam = pd.read_csv('datnamf.tsv',sep='\\t')\n",
    "namesf = pd.read_csv('namesf.tsv',sep='\\t')\n",
    "compounds = pd.read_csv('compounds_f.csv')\n",
    "chebi_kegg_CAS = pd.read_csv('chebi_kegg_CAS.tsv',sep='\\t')\n",
    "compounds_names_syn = pd.read_csv('compounds_names_syn.csv')\n",
    "compounds_chebi = pd.read_csv('compounds_chebi.csv')\n",
    "metabo_syn = pd.read_csv('metabolites_syn.csv')"
   ],
   "metadata": {
    "collapsed": false
   }
  },
  {
   "cell_type": "code",
   "execution_count": 60,
   "outputs": [
    {
     "data": {
      "text/plain": "   CHEBI_ID                                              InChI         SOURCE  \\\n0        90  InChI=1S/C15H14O6/c16-8-4-11(18)9-6-13(20)15(2...  KEGG COMPOUND   \n1        90  InChI=1S/C15H14O6/c16-8-4-11(18)9-6-13(20)15(2...  KEGG COMPOUND   \n2       165  InChI=1S/C10H16O/c1-9(2)7-4-5-10(3,6-7)8(9)11/...  KEGG COMPOUND   \n3       165  InChI=1S/C10H16O/c1-9(2)7-4-5-10(3,6-7)8(9)11/...  KEGG COMPOUND   \n4       165  InChI=1S/C10H16O/c1-9(2)7-4-5-10(3,6-7)8(9)11/...  KEGG COMPOUND   \n\n             name_x                                         definition  \\\n0   (-)-epicatechin             A catechin with (2R,3R)-configuration.   \n1   (-)-epicatechin             A catechin with (2R,3R)-configuration.   \n2  (1S,4R)-fenchone  A fenchone that has 1S,4R stereochemistry. A c...   \n3  (1S,4R)-fenchone  A fenchone that has 1S,4R stereochemistry. A c...   \n4  (1S,4R)-fenchone  A fenchone that has 1S,4R stereochemistry. A c...   \n\n  created_by      id        type         source  \\\n0      CHEBI     128     SYNONYM  KEGG COMPOUND   \n1      CHEBI  851090  IUPAC NAME          IUPAC   \n2      CHEBI   65009     SYNONYM          IUPAC   \n3      CHEBI   65010  IUPAC NAME          IUPAC   \n4      CHEBI  833805        NAME        UniProt   \n\n                                              name_y  \n0                                    (-)-Epicatechin  \n1  (2R,3R)-2-(3,4-dihydroxyphenyl)-3,4-dihydro-2H...  \n2  (1S,4R)-1,3,3-trimethylbicyclo[2.2.1]heptan-2-one  \n3                              (1S,4R)-fenchan-2-one  \n4                                   (1S,4R)-fenchone  ",
      "text/html": "<div>\n<style scoped>\n    .dataframe tbody tr th:only-of-type {\n        vertical-align: middle;\n    }\n\n    .dataframe tbody tr th {\n        vertical-align: top;\n    }\n\n    .dataframe thead th {\n        text-align: right;\n    }\n</style>\n<table border=\"1\" class=\"dataframe\">\n  <thead>\n    <tr style=\"text-align: right;\">\n      <th></th>\n      <th>CHEBI_ID</th>\n      <th>InChI</th>\n      <th>SOURCE</th>\n      <th>name_x</th>\n      <th>definition</th>\n      <th>created_by</th>\n      <th>id</th>\n      <th>type</th>\n      <th>source</th>\n      <th>name_y</th>\n    </tr>\n  </thead>\n  <tbody>\n    <tr>\n      <th>0</th>\n      <td>90</td>\n      <td>InChI=1S/C15H14O6/c16-8-4-11(18)9-6-13(20)15(2...</td>\n      <td>KEGG COMPOUND</td>\n      <td>(-)-epicatechin</td>\n      <td>A catechin with (2R,3R)-configuration.</td>\n      <td>CHEBI</td>\n      <td>128</td>\n      <td>SYNONYM</td>\n      <td>KEGG COMPOUND</td>\n      <td>(-)-Epicatechin</td>\n    </tr>\n    <tr>\n      <th>1</th>\n      <td>90</td>\n      <td>InChI=1S/C15H14O6/c16-8-4-11(18)9-6-13(20)15(2...</td>\n      <td>KEGG COMPOUND</td>\n      <td>(-)-epicatechin</td>\n      <td>A catechin with (2R,3R)-configuration.</td>\n      <td>CHEBI</td>\n      <td>851090</td>\n      <td>IUPAC NAME</td>\n      <td>IUPAC</td>\n      <td>(2R,3R)-2-(3,4-dihydroxyphenyl)-3,4-dihydro-2H...</td>\n    </tr>\n    <tr>\n      <th>2</th>\n      <td>165</td>\n      <td>InChI=1S/C10H16O/c1-9(2)7-4-5-10(3,6-7)8(9)11/...</td>\n      <td>KEGG COMPOUND</td>\n      <td>(1S,4R)-fenchone</td>\n      <td>A fenchone that has 1S,4R stereochemistry. A c...</td>\n      <td>CHEBI</td>\n      <td>65009</td>\n      <td>SYNONYM</td>\n      <td>IUPAC</td>\n      <td>(1S,4R)-1,3,3-trimethylbicyclo[2.2.1]heptan-2-one</td>\n    </tr>\n    <tr>\n      <th>3</th>\n      <td>165</td>\n      <td>InChI=1S/C10H16O/c1-9(2)7-4-5-10(3,6-7)8(9)11/...</td>\n      <td>KEGG COMPOUND</td>\n      <td>(1S,4R)-fenchone</td>\n      <td>A fenchone that has 1S,4R stereochemistry. A c...</td>\n      <td>CHEBI</td>\n      <td>65010</td>\n      <td>IUPAC NAME</td>\n      <td>IUPAC</td>\n      <td>(1S,4R)-fenchan-2-one</td>\n    </tr>\n    <tr>\n      <th>4</th>\n      <td>165</td>\n      <td>InChI=1S/C10H16O/c1-9(2)7-4-5-10(3,6-7)8(9)11/...</td>\n      <td>KEGG COMPOUND</td>\n      <td>(1S,4R)-fenchone</td>\n      <td>A fenchone that has 1S,4R stereochemistry. A c...</td>\n      <td>CHEBI</td>\n      <td>833805</td>\n      <td>NAME</td>\n      <td>UniProt</td>\n      <td>(1S,4R)-fenchone</td>\n    </tr>\n  </tbody>\n</table>\n</div>"
     },
     "execution_count": 60,
     "metadata": {},
     "output_type": "execute_result"
    }
   ],
   "source": [
    "chebi.head()\n"
   ],
   "metadata": {
    "collapsed": false
   }
  },
  {
   "cell_type": "code",
   "execution_count": 4,
   "outputs": [
    {
     "data": {
      "text/plain": "                                     name_of_disease abbreviation_of_disease  \\\n0  Glycine Encephalopathy/ Nonketotic Hyperglycin...                     NKH   \n1           Gyrate Atrophy of the Choroid And Retina                    GACR   \n2                          Maple Syrup Urine Disease                    MSUD   \n3  Neonatal Intrahepatic Cholestasis caused by Ci...                   NICCD   \n4                                 Hypermethioninemia                    HMET   \n\n                type_of_disease  \\\n0  Inherited metabolic disorder   \n1  Inherited metabolic disorder   \n2  Inherited metabolic disorder   \n3  Inherited metabolic disorder   \n4  Inherited metabolic disorder   \n\n                                    notes_of_disease  \\\n0  About 80 percent of cases of glycine encephalo...   \n1  Decreased activity of ornithine-delta-aminotra...   \n2  In plasma increased levels of allo-isoleucine,...   \n3  Blood-elevated acetylcarnitine (C2), palmitoyl...   \n4  A deficiency of any of these enzymes (i.e. MAT...   \n\n                                           phenotype  \\\n0  1) Neonatal (classic) presentation-The neonata...   \n1                                                NaN   \n2  1) Classic and intermediate MSUD. 2)There are ...   \n3  The two phenotypes of citrin deficiency are ci...   \n4                                                NaN   \n\n                    organ_affected  cheblid_of_biomarker  \\\n0                   Nervous system               15428.0   \n1                      Muscle, eye               17203.0   \n2                   Nervous system               16414.0   \n3                            Liver               16857.0   \n4  Nervous system,  liver,  muscle               16643.0   \n\n                            description_of_biomarker fullname_of_biomarker  \\\n0  Human Metabolome Database (HMDB): Glycine is a...               Glycine   \n1  Human Metabolome Database (HMDB): L-proline is...             L-Proline   \n2  Human Metabolome Database (HMDB): Valine (abbr...              L-Valine   \n3  Human Metabolome Database (HMDB): Threonine is...           L-Threonine   \n4  Human Metabolome Database (HMDB): Methionine i...          L-Methionine   \n\n  abbreviation_of_biomarker  ... value_of_biomarker normal_conc_of_biomarker  \\\n0                       gly  ...          Increased            180.00-740.00   \n1                     pro_L  ...          Increased           95.00 - 320.00   \n2                     val_L  ...          Increased                65.00-215   \n3                     thr_L  ...          Increased                 25 - 150   \n4                     met_L  ...          Increased              10.00-38.00   \n\n  ramedis_of_biomarker range_conc_of_biomarker biocyc_biomarker  \\\n0                  NaN          550.00-1350.00              GLY   \n1                  NaN                830-1360              PRO   \n2        125, 133, 337         210.00 - 650.00              VAL   \n3                  NaN                     NaN              THR   \n4                  NaN           56.00 -170.00              MET   \n\n                                     smile_biomarker hmdb_biomarker  \\\n0              [H][N+]([H])([H])C([H])([H])C([O-])=O    HMDB0000123   \n1  [H]C1([H])C([H])([H])[N+]([H])([H])[C@]([H])(C...    HMDB0000162   \n2  [H]C([H])([H])C([H])(C([H])([H])[H])[C@@]([H])...    HMDB0000883   \n3  [H]O[C@]([H])(C([H])([H])[H])[C@@]([H])(C([O-]...    HMDB0000167   \n4  [H]C([H])([H])SC([H])([H])C([H])([H])[C@@]([H]...    HMDB0000696   \n\n  reconMap3_biomarker food_db_biomarker pubChemId_biomarker  \n0                 gly         FDB000484               750.0  \n1               pro_L         FDB000570            145742.0  \n2               val_L         FDB000465              6287.0  \n3               thr_L         FDB011999              6288.0  \n4               met_L         FDB012683              6137.0  \n\n[5 rows x 24 columns]",
      "text/html": "<div>\n<style scoped>\n    .dataframe tbody tr th:only-of-type {\n        vertical-align: middle;\n    }\n\n    .dataframe tbody tr th {\n        vertical-align: top;\n    }\n\n    .dataframe thead th {\n        text-align: right;\n    }\n</style>\n<table border=\"1\" class=\"dataframe\">\n  <thead>\n    <tr style=\"text-align: right;\">\n      <th></th>\n      <th>name_of_disease</th>\n      <th>abbreviation_of_disease</th>\n      <th>type_of_disease</th>\n      <th>notes_of_disease</th>\n      <th>phenotype</th>\n      <th>organ_affected</th>\n      <th>cheblid_of_biomarker</th>\n      <th>description_of_biomarker</th>\n      <th>fullname_of_biomarker</th>\n      <th>abbreviation_of_biomarker</th>\n      <th>...</th>\n      <th>value_of_biomarker</th>\n      <th>normal_conc_of_biomarker</th>\n      <th>ramedis_of_biomarker</th>\n      <th>range_conc_of_biomarker</th>\n      <th>biocyc_biomarker</th>\n      <th>smile_biomarker</th>\n      <th>hmdb_biomarker</th>\n      <th>reconMap3_biomarker</th>\n      <th>food_db_biomarker</th>\n      <th>pubChemId_biomarker</th>\n    </tr>\n  </thead>\n  <tbody>\n    <tr>\n      <th>0</th>\n      <td>Glycine Encephalopathy/ Nonketotic Hyperglycin...</td>\n      <td>NKH</td>\n      <td>Inherited metabolic disorder</td>\n      <td>About 80 percent of cases of glycine encephalo...</td>\n      <td>1) Neonatal (classic) presentation-The neonata...</td>\n      <td>Nervous system</td>\n      <td>15428.0</td>\n      <td>Human Metabolome Database (HMDB): Glycine is a...</td>\n      <td>Glycine</td>\n      <td>gly</td>\n      <td>...</td>\n      <td>Increased</td>\n      <td>180.00-740.00</td>\n      <td>NaN</td>\n      <td>550.00-1350.00</td>\n      <td>GLY</td>\n      <td>[H][N+]([H])([H])C([H])([H])C([O-])=O</td>\n      <td>HMDB0000123</td>\n      <td>gly</td>\n      <td>FDB000484</td>\n      <td>750.0</td>\n    </tr>\n    <tr>\n      <th>1</th>\n      <td>Gyrate Atrophy of the Choroid And Retina</td>\n      <td>GACR</td>\n      <td>Inherited metabolic disorder</td>\n      <td>Decreased activity of ornithine-delta-aminotra...</td>\n      <td>NaN</td>\n      <td>Muscle, eye</td>\n      <td>17203.0</td>\n      <td>Human Metabolome Database (HMDB): L-proline is...</td>\n      <td>L-Proline</td>\n      <td>pro_L</td>\n      <td>...</td>\n      <td>Increased</td>\n      <td>95.00 - 320.00</td>\n      <td>NaN</td>\n      <td>830-1360</td>\n      <td>PRO</td>\n      <td>[H]C1([H])C([H])([H])[N+]([H])([H])[C@]([H])(C...</td>\n      <td>HMDB0000162</td>\n      <td>pro_L</td>\n      <td>FDB000570</td>\n      <td>145742.0</td>\n    </tr>\n    <tr>\n      <th>2</th>\n      <td>Maple Syrup Urine Disease</td>\n      <td>MSUD</td>\n      <td>Inherited metabolic disorder</td>\n      <td>In plasma increased levels of allo-isoleucine,...</td>\n      <td>1) Classic and intermediate MSUD. 2)There are ...</td>\n      <td>Nervous system</td>\n      <td>16414.0</td>\n      <td>Human Metabolome Database (HMDB): Valine (abbr...</td>\n      <td>L-Valine</td>\n      <td>val_L</td>\n      <td>...</td>\n      <td>Increased</td>\n      <td>65.00-215</td>\n      <td>125, 133, 337</td>\n      <td>210.00 - 650.00</td>\n      <td>VAL</td>\n      <td>[H]C([H])([H])C([H])(C([H])([H])[H])[C@@]([H])...</td>\n      <td>HMDB0000883</td>\n      <td>val_L</td>\n      <td>FDB000465</td>\n      <td>6287.0</td>\n    </tr>\n    <tr>\n      <th>3</th>\n      <td>Neonatal Intrahepatic Cholestasis caused by Ci...</td>\n      <td>NICCD</td>\n      <td>Inherited metabolic disorder</td>\n      <td>Blood-elevated acetylcarnitine (C2), palmitoyl...</td>\n      <td>The two phenotypes of citrin deficiency are ci...</td>\n      <td>Liver</td>\n      <td>16857.0</td>\n      <td>Human Metabolome Database (HMDB): Threonine is...</td>\n      <td>L-Threonine</td>\n      <td>thr_L</td>\n      <td>...</td>\n      <td>Increased</td>\n      <td>25 - 150</td>\n      <td>NaN</td>\n      <td>NaN</td>\n      <td>THR</td>\n      <td>[H]O[C@]([H])(C([H])([H])[H])[C@@]([H])(C([O-]...</td>\n      <td>HMDB0000167</td>\n      <td>thr_L</td>\n      <td>FDB011999</td>\n      <td>6288.0</td>\n    </tr>\n    <tr>\n      <th>4</th>\n      <td>Hypermethioninemia</td>\n      <td>HMET</td>\n      <td>Inherited metabolic disorder</td>\n      <td>A deficiency of any of these enzymes (i.e. MAT...</td>\n      <td>NaN</td>\n      <td>Nervous system,  liver,  muscle</td>\n      <td>16643.0</td>\n      <td>Human Metabolome Database (HMDB): Methionine i...</td>\n      <td>L-Methionine</td>\n      <td>met_L</td>\n      <td>...</td>\n      <td>Increased</td>\n      <td>10.00-38.00</td>\n      <td>NaN</td>\n      <td>56.00 -170.00</td>\n      <td>MET</td>\n      <td>[H]C([H])([H])SC([H])([H])C([H])([H])[C@@]([H]...</td>\n      <td>HMDB0000696</td>\n      <td>met_L</td>\n      <td>FDB012683</td>\n      <td>6137.0</td>\n    </tr>\n  </tbody>\n</table>\n<p>5 rows × 24 columns</p>\n</div>"
     },
     "execution_count": 4,
     "metadata": {},
     "output_type": "execute_result"
    }
   ],
   "source": [
    "bio.head()\n"
   ],
   "metadata": {
    "collapsed": false
   }
  },
  {
   "cell_type": "code",
   "execution_count": 55,
   "outputs": [
    {
     "data": {
      "text/plain": "   CHEBI_ID                                              InChI         SOURCE  \\\n0        90  InChI=1S/C15H14O6/c16-8-4-11(18)9-6-13(20)15(2...  KEGG COMPOUND   \n1        90  InChI=1S/C15H14O6/c16-8-4-11(18)9-6-13(20)15(2...  KEGG COMPOUND   \n2       165  InChI=1S/C10H16O/c1-9(2)7-4-5-10(3,6-7)8(9)11/...  KEGG COMPOUND   \n3       165  InChI=1S/C10H16O/c1-9(2)7-4-5-10(3,6-7)8(9)11/...  KEGG COMPOUND   \n4       165  InChI=1S/C10H16O/c1-9(2)7-4-5-10(3,6-7)8(9)11/...  KEGG COMPOUND   \n\n             name_x                                         definition  \\\n0   (-)-epicatechin             A catechin with (2R,3R)-configuration.   \n1   (-)-epicatechin             A catechin with (2R,3R)-configuration.   \n2  (1S,4R)-fenchone  A fenchone that has 1S,4R stereochemistry. A c...   \n3  (1S,4R)-fenchone  A fenchone that has 1S,4R stereochemistry. A c...   \n4  (1S,4R)-fenchone  A fenchone that has 1S,4R stereochemistry. A c...   \n\n  created_by      id        type         source  \\\n0      CHEBI     128     SYNONYM  KEGG COMPOUND   \n1      CHEBI  851090  IUPAC NAME          IUPAC   \n2      CHEBI   65009     SYNONYM          IUPAC   \n3      CHEBI   65010  IUPAC NAME          IUPAC   \n4      CHEBI  833805        NAME        UniProt   \n\n                                              name_y  \n0                                    (-)-Epicatechin  \n1  (2R,3R)-2-(3,4-dihydroxyphenyl)-3,4-dihydro-2H...  \n2  (1S,4R)-1,3,3-trimethylbicyclo[2.2.1]heptan-2-one  \n3                              (1S,4R)-fenchan-2-one  \n4                                   (1S,4R)-fenchone  ",
      "text/html": "<div>\n<style scoped>\n    .dataframe tbody tr th:only-of-type {\n        vertical-align: middle;\n    }\n\n    .dataframe tbody tr th {\n        vertical-align: top;\n    }\n\n    .dataframe thead th {\n        text-align: right;\n    }\n</style>\n<table border=\"1\" class=\"dataframe\">\n  <thead>\n    <tr style=\"text-align: right;\">\n      <th></th>\n      <th>CHEBI_ID</th>\n      <th>InChI</th>\n      <th>SOURCE</th>\n      <th>name_x</th>\n      <th>definition</th>\n      <th>created_by</th>\n      <th>id</th>\n      <th>type</th>\n      <th>source</th>\n      <th>name_y</th>\n    </tr>\n  </thead>\n  <tbody>\n    <tr>\n      <th>0</th>\n      <td>90</td>\n      <td>InChI=1S/C15H14O6/c16-8-4-11(18)9-6-13(20)15(2...</td>\n      <td>KEGG COMPOUND</td>\n      <td>(-)-epicatechin</td>\n      <td>A catechin with (2R,3R)-configuration.</td>\n      <td>CHEBI</td>\n      <td>128</td>\n      <td>SYNONYM</td>\n      <td>KEGG COMPOUND</td>\n      <td>(-)-Epicatechin</td>\n    </tr>\n    <tr>\n      <th>1</th>\n      <td>90</td>\n      <td>InChI=1S/C15H14O6/c16-8-4-11(18)9-6-13(20)15(2...</td>\n      <td>KEGG COMPOUND</td>\n      <td>(-)-epicatechin</td>\n      <td>A catechin with (2R,3R)-configuration.</td>\n      <td>CHEBI</td>\n      <td>851090</td>\n      <td>IUPAC NAME</td>\n      <td>IUPAC</td>\n      <td>(2R,3R)-2-(3,4-dihydroxyphenyl)-3,4-dihydro-2H...</td>\n    </tr>\n    <tr>\n      <th>2</th>\n      <td>165</td>\n      <td>InChI=1S/C10H16O/c1-9(2)7-4-5-10(3,6-7)8(9)11/...</td>\n      <td>KEGG COMPOUND</td>\n      <td>(1S,4R)-fenchone</td>\n      <td>A fenchone that has 1S,4R stereochemistry. A c...</td>\n      <td>CHEBI</td>\n      <td>65009</td>\n      <td>SYNONYM</td>\n      <td>IUPAC</td>\n      <td>(1S,4R)-1,3,3-trimethylbicyclo[2.2.1]heptan-2-one</td>\n    </tr>\n    <tr>\n      <th>3</th>\n      <td>165</td>\n      <td>InChI=1S/C10H16O/c1-9(2)7-4-5-10(3,6-7)8(9)11/...</td>\n      <td>KEGG COMPOUND</td>\n      <td>(1S,4R)-fenchone</td>\n      <td>A fenchone that has 1S,4R stereochemistry. A c...</td>\n      <td>CHEBI</td>\n      <td>65010</td>\n      <td>IUPAC NAME</td>\n      <td>IUPAC</td>\n      <td>(1S,4R)-fenchan-2-one</td>\n    </tr>\n    <tr>\n      <th>4</th>\n      <td>165</td>\n      <td>InChI=1S/C10H16O/c1-9(2)7-4-5-10(3,6-7)8(9)11/...</td>\n      <td>KEGG COMPOUND</td>\n      <td>(1S,4R)-fenchone</td>\n      <td>A fenchone that has 1S,4R stereochemistry. A c...</td>\n      <td>CHEBI</td>\n      <td>833805</td>\n      <td>NAME</td>\n      <td>UniProt</td>\n      <td>(1S,4R)-fenchone</td>\n    </tr>\n  </tbody>\n</table>\n</div>"
     },
     "execution_count": 55,
     "metadata": {},
     "output_type": "execute_result"
    }
   ],
   "source": [
    "metabo_b.head()\n",
    "chebi_c.head()"
   ],
   "metadata": {
    "collapsed": false
   }
  },
  {
   "cell_type": "code",
   "execution_count": null,
   "outputs": [],
   "source": [
    "test_merge = metabo_b.merge(chebi_c,left_on='inchiKey_metabolite',right_on='InChI',how='inner')\n"
   ],
   "metadata": {
    "collapsed": false
   }
  },
  {
   "cell_type": "code",
   "execution_count": null,
   "outputs": [],
   "source": [
    "test_merge.head()"
   ],
   "metadata": {
    "collapsed": false
   }
  },
  {
   "cell_type": "code",
   "execution_count": 56,
   "outputs": [
    {
     "name": "stdout",
     "output_type": "stream",
     "text": [
      "<class 'pandas.core.frame.DataFrame'>\n",
      "Int64Index: 192139 entries, 0 to 192161\n",
      "Data columns (total 10 columns):\n",
      " #   Column      Non-Null Count   Dtype \n",
      "---  ------      --------------   ----- \n",
      " 0   CHEBI_ID    192139 non-null  int64 \n",
      " 1   InChI       192139 non-null  object\n",
      " 2   SOURCE      192139 non-null  object\n",
      " 3   name_x      192139 non-null  object\n",
      " 4   definition  192139 non-null  object\n",
      " 5   created_by  192139 non-null  object\n",
      " 6   id          192139 non-null  int64 \n",
      " 7   type        192139 non-null  object\n",
      " 8   source      192139 non-null  object\n",
      " 9   name_y      192139 non-null  object\n",
      "dtypes: int64(2), object(8)\n",
      "memory usage: 16.1+ MB\n"
     ]
    }
   ],
   "source": [
    "chebi_c.info()"
   ],
   "metadata": {
    "collapsed": false
   }
  },
  {
   "cell_type": "code",
   "execution_count": 57,
   "outputs": [
    {
     "data": {
      "text/plain": "   CHEBI_ID                                              InChI         SOURCE  \\\n0        90  InChI=1S/C15H14O6/c16-8-4-11(18)9-6-13(20)15(2...  KEGG COMPOUND   \n1        90  InChI=1S/C15H14O6/c16-8-4-11(18)9-6-13(20)15(2...  KEGG COMPOUND   \n2       165  InChI=1S/C10H16O/c1-9(2)7-4-5-10(3,6-7)8(9)11/...  KEGG COMPOUND   \n3       165  InChI=1S/C10H16O/c1-9(2)7-4-5-10(3,6-7)8(9)11/...  KEGG COMPOUND   \n4       165  InChI=1S/C10H16O/c1-9(2)7-4-5-10(3,6-7)8(9)11/...  KEGG COMPOUND   \n\n             name_x                                         definition  \\\n0   (-)-epicatechin             A catechin with (2R,3R)-configuration.   \n1   (-)-epicatechin             A catechin with (2R,3R)-configuration.   \n2  (1S,4R)-fenchone  A fenchone that has 1S,4R stereochemistry. A c...   \n3  (1S,4R)-fenchone  A fenchone that has 1S,4R stereochemistry. A c...   \n4  (1S,4R)-fenchone  A fenchone that has 1S,4R stereochemistry. A c...   \n\n  created_by      id        type         source  \\\n0      CHEBI     128     SYNONYM  KEGG COMPOUND   \n1      CHEBI  851090  IUPAC NAME          IUPAC   \n2      CHEBI   65009     SYNONYM          IUPAC   \n3      CHEBI   65010  IUPAC NAME          IUPAC   \n4      CHEBI  833805        NAME        UniProt   \n\n                                              name_y  \n0                                    (-)-Epicatechin  \n1  (2R,3R)-2-(3,4-dihydroxyphenyl)-3,4-dihydro-2H...  \n2  (1S,4R)-1,3,3-trimethylbicyclo[2.2.1]heptan-2-one  \n3                              (1S,4R)-fenchan-2-one  \n4                                   (1S,4R)-fenchone  ",
      "text/html": "<div>\n<style scoped>\n    .dataframe tbody tr th:only-of-type {\n        vertical-align: middle;\n    }\n\n    .dataframe tbody tr th {\n        vertical-align: top;\n    }\n\n    .dataframe thead th {\n        text-align: right;\n    }\n</style>\n<table border=\"1\" class=\"dataframe\">\n  <thead>\n    <tr style=\"text-align: right;\">\n      <th></th>\n      <th>CHEBI_ID</th>\n      <th>InChI</th>\n      <th>SOURCE</th>\n      <th>name_x</th>\n      <th>definition</th>\n      <th>created_by</th>\n      <th>id</th>\n      <th>type</th>\n      <th>source</th>\n      <th>name_y</th>\n    </tr>\n  </thead>\n  <tbody>\n    <tr>\n      <th>0</th>\n      <td>90</td>\n      <td>InChI=1S/C15H14O6/c16-8-4-11(18)9-6-13(20)15(2...</td>\n      <td>KEGG COMPOUND</td>\n      <td>(-)-epicatechin</td>\n      <td>A catechin with (2R,3R)-configuration.</td>\n      <td>CHEBI</td>\n      <td>128</td>\n      <td>SYNONYM</td>\n      <td>KEGG COMPOUND</td>\n      <td>(-)-Epicatechin</td>\n    </tr>\n    <tr>\n      <th>1</th>\n      <td>90</td>\n      <td>InChI=1S/C15H14O6/c16-8-4-11(18)9-6-13(20)15(2...</td>\n      <td>KEGG COMPOUND</td>\n      <td>(-)-epicatechin</td>\n      <td>A catechin with (2R,3R)-configuration.</td>\n      <td>CHEBI</td>\n      <td>851090</td>\n      <td>IUPAC NAME</td>\n      <td>IUPAC</td>\n      <td>(2R,3R)-2-(3,4-dihydroxyphenyl)-3,4-dihydro-2H...</td>\n    </tr>\n    <tr>\n      <th>2</th>\n      <td>165</td>\n      <td>InChI=1S/C10H16O/c1-9(2)7-4-5-10(3,6-7)8(9)11/...</td>\n      <td>KEGG COMPOUND</td>\n      <td>(1S,4R)-fenchone</td>\n      <td>A fenchone that has 1S,4R stereochemistry. A c...</td>\n      <td>CHEBI</td>\n      <td>65009</td>\n      <td>SYNONYM</td>\n      <td>IUPAC</td>\n      <td>(1S,4R)-1,3,3-trimethylbicyclo[2.2.1]heptan-2-one</td>\n    </tr>\n    <tr>\n      <th>3</th>\n      <td>165</td>\n      <td>InChI=1S/C10H16O/c1-9(2)7-4-5-10(3,6-7)8(9)11/...</td>\n      <td>KEGG COMPOUND</td>\n      <td>(1S,4R)-fenchone</td>\n      <td>A fenchone that has 1S,4R stereochemistry. A c...</td>\n      <td>CHEBI</td>\n      <td>65010</td>\n      <td>IUPAC NAME</td>\n      <td>IUPAC</td>\n      <td>(1S,4R)-fenchan-2-one</td>\n    </tr>\n    <tr>\n      <th>4</th>\n      <td>165</td>\n      <td>InChI=1S/C10H16O/c1-9(2)7-4-5-10(3,6-7)8(9)11/...</td>\n      <td>KEGG COMPOUND</td>\n      <td>(1S,4R)-fenchone</td>\n      <td>A fenchone that has 1S,4R stereochemistry. A c...</td>\n      <td>CHEBI</td>\n      <td>833805</td>\n      <td>NAME</td>\n      <td>UniProt</td>\n      <td>(1S,4R)-fenchone</td>\n    </tr>\n  </tbody>\n</table>\n</div>"
     },
     "execution_count": 57,
     "metadata": {},
     "output_type": "execute_result"
    }
   ],
   "source": [
    "chebi_c.head()"
   ],
   "metadata": {
    "collapsed": false
   }
  },
  {
   "cell_type": "code",
   "execution_count": 7,
   "outputs": [],
   "source": [
    "bio_a = bio.fillna(\"a\")\n",
    "metabo_b = metabo.fillna(\"b\")\n",
    "chebi_c = chebi.fillna(\"c\")\n",
    "metabo_syn_j = metabo_syn.fillna(\"j\")\n"
   ],
   "metadata": {
    "collapsed": false
   }
  },
  {
   "cell_type": "code",
   "execution_count": 61,
   "outputs": [
    {
     "data": {
      "text/plain": "   abbreviation_metabolite casregistry_metabolite cheblid_metabolite  \\\n0                   10fthf              2800-34-2            15637.0   \n1               10fthf5glu                      b                  b   \n2               10fthf6glu                      b                  b   \n3               10fthf7glu                      b                  b   \n4             10m3hddcaACP                      b                  b   \n..                     ...                    ...                ...   \n95                1agpg120                      b                  b   \n96                1agpg140                      b                  b   \n97                1agpg141                      b                  b   \n98                1agpg160                      b                  b   \n99                1agpg161                      b                  b   \n\n                               description_metabolite  \\\n0   Human Metabolome Database (HMDB): 10-Formyltet...   \n1                                                   b   \n2                                                   b   \n3                                                   b   \n4                                                   b   \n..                                                ...   \n95                                                  b   \n96                                                  b   \n97                                                  b   \n98                                                  b   \n99                                                  b   \n\n                              fullname_metabolite hmdb_metabolite  \\\n0                       10-Formyltetrahydrofolate     HMDB0000972   \n1              10-Formyltetrahydrofolate-[Glu](5)               b   \n2              10-Formyltetrahydrofolate-[Glu](6)               b   \n3              10-Formyltetrahydrofolate-[Glu](7)               b   \n4              10-methyl-3-hydroxy-dodecanoyl-ACP               b   \n..                                            ...             ...   \n95  1-Acyl-sn-glycero-3-phosphoglycerol (n-C12:0)               b   \n96  1-Acyl-sn-glycero-3-phosphoglycerol (n-C14:0)               b   \n97  1-Acyl-sn-glycero-3-phosphoglycerol (n-C14:1)               b   \n98  1-Acyl-sn-glycero-3-phosphoglycerol (n-C16:0)               b   \n99  1-Acyl-sn-glycero-3-phosphoglycerol (n-C16:1)               b   \n\n   inchikey_metabolite inchistring_metabolite keggid_metabolite  \\\n0                    b                      b            C00234   \n1                    b                      b                 b   \n2                    b                      b                 b   \n3                    b                      b                 b   \n4                    b                      b                 b   \n..                 ...                    ...               ...   \n95                   b                      b                 b   \n96                   b                      b                 b   \n97                   b                      b                 b   \n98                   b                      b                 b   \n99                   b                      b                 b   \n\n   biocyc_metabolite food_db_metabolite reconmap3_metabolite  \\\n0      10-FORMYL-THF          FDB022345               10fthf   \n1                  b                  b           10fthf5glu   \n2                  b                  b           10fthf6glu   \n3                  b                  b           10fthf7glu   \n4                  b                  b                    b   \n..               ...                ...                  ...   \n95                 b                  b                    b   \n96                 b                  b                    b   \n97                 b                  b                    b   \n98                 b                  b                    b   \n99                 b                  b                    b   \n\n                                     smile_metabolite  \\\n0   [H]OC1=NC(=NC2=C1N([H])C([H])(C([H])([H])N(C([...   \n1   [H]OC1=NC(=N[H])N([H])C2=C1N([H])C([H])(C([H])...   \n2   [H]OC(=O)C([H])(N=C([O-])C([H])([H])C([H])([H]...   \n3   [H]OC1=NC(=N[H])N([H])C2=C1N([H])C([H])(C([H])...   \n4                                                   b   \n..                                                ...   \n95                                                  b   \n96                                                  b   \n97                                                  b   \n98                                                  b   \n99                                                  b   \n\n            inchiKey_metabolite  \\\n0   AUFGTPPARQZWDO-YUZLPWPTSA-L   \n1   RGSLBOWMZCMTRA-UHFFFAOYSA-H   \n2   SFFBEUFYOPMKMV-CWMPVMSNSA-G   \n3   VTHHVZBTNSHUDD-UHFFFAOYSA-F   \n4                             b   \n..                          ...   \n95                            b   \n96                            b   \n97                            b   \n98                            b   \n99                            b   \n\n                               inchiString_metabolite  \n0   InChI=1S/C20H23N7O7/c21-20-25-16-15(18(32)26-2...  \n1   InChI=1S/C40H51N11O19/c41-40-49-32-31(37(66)50...  \n2   InChI=1S/C45H58N12O22/c46-45-55-36-35(38(67)56...  \n3   InChI=1S/C50H65N13O25/c51-50-61-40-39(47(84)62...  \n4                                                   b  \n..                                                ...  \n95                                                  b  \n96                                                  b  \n97                                                  b  \n98                                                  b  \n99                                                  b  \n\n[100 rows x 15 columns]",
      "text/html": "<div>\n<style scoped>\n    .dataframe tbody tr th:only-of-type {\n        vertical-align: middle;\n    }\n\n    .dataframe tbody tr th {\n        vertical-align: top;\n    }\n\n    .dataframe thead th {\n        text-align: right;\n    }\n</style>\n<table border=\"1\" class=\"dataframe\">\n  <thead>\n    <tr style=\"text-align: right;\">\n      <th></th>\n      <th>abbreviation_metabolite</th>\n      <th>casregistry_metabolite</th>\n      <th>cheblid_metabolite</th>\n      <th>description_metabolite</th>\n      <th>fullname_metabolite</th>\n      <th>hmdb_metabolite</th>\n      <th>inchikey_metabolite</th>\n      <th>inchistring_metabolite</th>\n      <th>keggid_metabolite</th>\n      <th>biocyc_metabolite</th>\n      <th>food_db_metabolite</th>\n      <th>reconmap3_metabolite</th>\n      <th>smile_metabolite</th>\n      <th>inchiKey_metabolite</th>\n      <th>inchiString_metabolite</th>\n    </tr>\n  </thead>\n  <tbody>\n    <tr>\n      <th>0</th>\n      <td>10fthf</td>\n      <td>2800-34-2</td>\n      <td>15637.0</td>\n      <td>Human Metabolome Database (HMDB): 10-Formyltet...</td>\n      <td>10-Formyltetrahydrofolate</td>\n      <td>HMDB0000972</td>\n      <td>b</td>\n      <td>b</td>\n      <td>C00234</td>\n      <td>10-FORMYL-THF</td>\n      <td>FDB022345</td>\n      <td>10fthf</td>\n      <td>[H]OC1=NC(=NC2=C1N([H])C([H])(C([H])([H])N(C([...</td>\n      <td>AUFGTPPARQZWDO-YUZLPWPTSA-L</td>\n      <td>InChI=1S/C20H23N7O7/c21-20-25-16-15(18(32)26-2...</td>\n    </tr>\n    <tr>\n      <th>1</th>\n      <td>10fthf5glu</td>\n      <td>b</td>\n      <td>b</td>\n      <td>b</td>\n      <td>10-Formyltetrahydrofolate-[Glu](5)</td>\n      <td>b</td>\n      <td>b</td>\n      <td>b</td>\n      <td>b</td>\n      <td>b</td>\n      <td>b</td>\n      <td>10fthf5glu</td>\n      <td>[H]OC1=NC(=N[H])N([H])C2=C1N([H])C([H])(C([H])...</td>\n      <td>RGSLBOWMZCMTRA-UHFFFAOYSA-H</td>\n      <td>InChI=1S/C40H51N11O19/c41-40-49-32-31(37(66)50...</td>\n    </tr>\n    <tr>\n      <th>2</th>\n      <td>10fthf6glu</td>\n      <td>b</td>\n      <td>b</td>\n      <td>b</td>\n      <td>10-Formyltetrahydrofolate-[Glu](6)</td>\n      <td>b</td>\n      <td>b</td>\n      <td>b</td>\n      <td>b</td>\n      <td>b</td>\n      <td>b</td>\n      <td>10fthf6glu</td>\n      <td>[H]OC(=O)C([H])(N=C([O-])C([H])([H])C([H])([H]...</td>\n      <td>SFFBEUFYOPMKMV-CWMPVMSNSA-G</td>\n      <td>InChI=1S/C45H58N12O22/c46-45-55-36-35(38(67)56...</td>\n    </tr>\n    <tr>\n      <th>3</th>\n      <td>10fthf7glu</td>\n      <td>b</td>\n      <td>b</td>\n      <td>b</td>\n      <td>10-Formyltetrahydrofolate-[Glu](7)</td>\n      <td>b</td>\n      <td>b</td>\n      <td>b</td>\n      <td>b</td>\n      <td>b</td>\n      <td>b</td>\n      <td>10fthf7glu</td>\n      <td>[H]OC1=NC(=N[H])N([H])C2=C1N([H])C([H])(C([H])...</td>\n      <td>VTHHVZBTNSHUDD-UHFFFAOYSA-F</td>\n      <td>InChI=1S/C50H65N13O25/c51-50-61-40-39(47(84)62...</td>\n    </tr>\n    <tr>\n      <th>4</th>\n      <td>10m3hddcaACP</td>\n      <td>b</td>\n      <td>b</td>\n      <td>b</td>\n      <td>10-methyl-3-hydroxy-dodecanoyl-ACP</td>\n      <td>b</td>\n      <td>b</td>\n      <td>b</td>\n      <td>b</td>\n      <td>b</td>\n      <td>b</td>\n      <td>b</td>\n      <td>b</td>\n      <td>b</td>\n      <td>b</td>\n    </tr>\n    <tr>\n      <th>...</th>\n      <td>...</td>\n      <td>...</td>\n      <td>...</td>\n      <td>...</td>\n      <td>...</td>\n      <td>...</td>\n      <td>...</td>\n      <td>...</td>\n      <td>...</td>\n      <td>...</td>\n      <td>...</td>\n      <td>...</td>\n      <td>...</td>\n      <td>...</td>\n      <td>...</td>\n    </tr>\n    <tr>\n      <th>95</th>\n      <td>1agpg120</td>\n      <td>b</td>\n      <td>b</td>\n      <td>b</td>\n      <td>1-Acyl-sn-glycero-3-phosphoglycerol (n-C12:0)</td>\n      <td>b</td>\n      <td>b</td>\n      <td>b</td>\n      <td>b</td>\n      <td>b</td>\n      <td>b</td>\n      <td>b</td>\n      <td>b</td>\n      <td>b</td>\n      <td>b</td>\n    </tr>\n    <tr>\n      <th>96</th>\n      <td>1agpg140</td>\n      <td>b</td>\n      <td>b</td>\n      <td>b</td>\n      <td>1-Acyl-sn-glycero-3-phosphoglycerol (n-C14:0)</td>\n      <td>b</td>\n      <td>b</td>\n      <td>b</td>\n      <td>b</td>\n      <td>b</td>\n      <td>b</td>\n      <td>b</td>\n      <td>b</td>\n      <td>b</td>\n      <td>b</td>\n    </tr>\n    <tr>\n      <th>97</th>\n      <td>1agpg141</td>\n      <td>b</td>\n      <td>b</td>\n      <td>b</td>\n      <td>1-Acyl-sn-glycero-3-phosphoglycerol (n-C14:1)</td>\n      <td>b</td>\n      <td>b</td>\n      <td>b</td>\n      <td>b</td>\n      <td>b</td>\n      <td>b</td>\n      <td>b</td>\n      <td>b</td>\n      <td>b</td>\n      <td>b</td>\n    </tr>\n    <tr>\n      <th>98</th>\n      <td>1agpg160</td>\n      <td>b</td>\n      <td>b</td>\n      <td>b</td>\n      <td>1-Acyl-sn-glycero-3-phosphoglycerol (n-C16:0)</td>\n      <td>b</td>\n      <td>b</td>\n      <td>b</td>\n      <td>b</td>\n      <td>b</td>\n      <td>b</td>\n      <td>b</td>\n      <td>b</td>\n      <td>b</td>\n      <td>b</td>\n    </tr>\n    <tr>\n      <th>99</th>\n      <td>1agpg161</td>\n      <td>b</td>\n      <td>b</td>\n      <td>b</td>\n      <td>1-Acyl-sn-glycero-3-phosphoglycerol (n-C16:1)</td>\n      <td>b</td>\n      <td>b</td>\n      <td>b</td>\n      <td>b</td>\n      <td>b</td>\n      <td>b</td>\n      <td>b</td>\n      <td>b</td>\n      <td>b</td>\n      <td>b</td>\n    </tr>\n  </tbody>\n</table>\n<p>100 rows × 15 columns</p>\n</div>"
     },
     "execution_count": 61,
     "metadata": {},
     "output_type": "execute_result"
    }
   ],
   "source": [
    "metabo_b.head(100)"
   ],
   "metadata": {
    "collapsed": false
   }
  },
  {
   "cell_type": "code",
   "execution_count": 16,
   "outputs": [
    {
     "data": {
      "text/plain": "  abbreviation_metabolite casregistry_metabolite cheblid_metabolite  \\\n0                  10fthf              2800-34-2            15637.0   \n1              10fthf5glu                      b                  b   \n2              10fthf6glu                      b                  b   \n3              10fthf7glu                      b                  b   \n4            10m3hddcaACP                      b                  b   \n\n                              description_metabolite  \\\n0  Human Metabolome Database (HMDB): 10-Formyltet...   \n1                                                  b   \n2                                                  b   \n3                                                  b   \n4                                                  b   \n\n                  fullname_metabolite hmdb_metabolite inchikey_metabolite  \\\n0           10-Formyltetrahydrofolate     HMDB0000972                   b   \n1  10-Formyltetrahydrofolate-[Glu](5)               b                   b   \n2  10-Formyltetrahydrofolate-[Glu](6)               b                   b   \n3  10-Formyltetrahydrofolate-[Glu](7)               b                   b   \n4  10-methyl-3-hydroxy-dodecanoyl-ACP               b                   b   \n\n  inchistring_metabolite keggid_metabolite biocyc_metabolite  \\\n0                      b            C00234     10-FORMYL-THF   \n1                      b                 b                 b   \n2                      b                 b                 b   \n3                      b                 b                 b   \n4                      b                 b                 b   \n\n  food_db_metabolite reconmap3_metabolite  \\\n0          FDB022345               10fthf   \n1                  b           10fthf5glu   \n2                  b           10fthf6glu   \n3                  b           10fthf7glu   \n4                  b                    b   \n\n                                    smile_metabolite  \\\n0  [H]OC1=NC(=NC2=C1N([H])C([H])(C([H])([H])N(C([...   \n1  [H]OC1=NC(=N[H])N([H])C2=C1N([H])C([H])(C([H])...   \n2  [H]OC(=O)C([H])(N=C([O-])C([H])([H])C([H])([H]...   \n3  [H]OC1=NC(=N[H])N([H])C2=C1N([H])C([H])(C([H])...   \n4                                                  b   \n\n           inchiKey_metabolite  \\\n0  AUFGTPPARQZWDO-YUZLPWPTSA-L   \n1  RGSLBOWMZCMTRA-UHFFFAOYSA-H   \n2  SFFBEUFYOPMKMV-CWMPVMSNSA-G   \n3  VTHHVZBTNSHUDD-UHFFFAOYSA-F   \n4                            b   \n\n                              inchiString_metabolite  \n0  InChI=1S/C20H23N7O7/c21-20-25-16-15(18(32)26-2...  \n1  InChI=1S/C40H51N11O19/c41-40-49-32-31(37(66)50...  \n2  InChI=1S/C45H58N12O22/c46-45-55-36-35(38(67)56...  \n3  InChI=1S/C50H65N13O25/c51-50-61-40-39(47(84)62...  \n4                                                  b  ",
      "text/html": "<div>\n<style scoped>\n    .dataframe tbody tr th:only-of-type {\n        vertical-align: middle;\n    }\n\n    .dataframe tbody tr th {\n        vertical-align: top;\n    }\n\n    .dataframe thead th {\n        text-align: right;\n    }\n</style>\n<table border=\"1\" class=\"dataframe\">\n  <thead>\n    <tr style=\"text-align: right;\">\n      <th></th>\n      <th>abbreviation_metabolite</th>\n      <th>casregistry_metabolite</th>\n      <th>cheblid_metabolite</th>\n      <th>description_metabolite</th>\n      <th>fullname_metabolite</th>\n      <th>hmdb_metabolite</th>\n      <th>inchikey_metabolite</th>\n      <th>inchistring_metabolite</th>\n      <th>keggid_metabolite</th>\n      <th>biocyc_metabolite</th>\n      <th>food_db_metabolite</th>\n      <th>reconmap3_metabolite</th>\n      <th>smile_metabolite</th>\n      <th>inchiKey_metabolite</th>\n      <th>inchiString_metabolite</th>\n    </tr>\n  </thead>\n  <tbody>\n    <tr>\n      <th>0</th>\n      <td>10fthf</td>\n      <td>2800-34-2</td>\n      <td>15637.0</td>\n      <td>Human Metabolome Database (HMDB): 10-Formyltet...</td>\n      <td>10-Formyltetrahydrofolate</td>\n      <td>HMDB0000972</td>\n      <td>b</td>\n      <td>b</td>\n      <td>C00234</td>\n      <td>10-FORMYL-THF</td>\n      <td>FDB022345</td>\n      <td>10fthf</td>\n      <td>[H]OC1=NC(=NC2=C1N([H])C([H])(C([H])([H])N(C([...</td>\n      <td>AUFGTPPARQZWDO-YUZLPWPTSA-L</td>\n      <td>InChI=1S/C20H23N7O7/c21-20-25-16-15(18(32)26-2...</td>\n    </tr>\n    <tr>\n      <th>1</th>\n      <td>10fthf5glu</td>\n      <td>b</td>\n      <td>b</td>\n      <td>b</td>\n      <td>10-Formyltetrahydrofolate-[Glu](5)</td>\n      <td>b</td>\n      <td>b</td>\n      <td>b</td>\n      <td>b</td>\n      <td>b</td>\n      <td>b</td>\n      <td>10fthf5glu</td>\n      <td>[H]OC1=NC(=N[H])N([H])C2=C1N([H])C([H])(C([H])...</td>\n      <td>RGSLBOWMZCMTRA-UHFFFAOYSA-H</td>\n      <td>InChI=1S/C40H51N11O19/c41-40-49-32-31(37(66)50...</td>\n    </tr>\n    <tr>\n      <th>2</th>\n      <td>10fthf6glu</td>\n      <td>b</td>\n      <td>b</td>\n      <td>b</td>\n      <td>10-Formyltetrahydrofolate-[Glu](6)</td>\n      <td>b</td>\n      <td>b</td>\n      <td>b</td>\n      <td>b</td>\n      <td>b</td>\n      <td>b</td>\n      <td>10fthf6glu</td>\n      <td>[H]OC(=O)C([H])(N=C([O-])C([H])([H])C([H])([H]...</td>\n      <td>SFFBEUFYOPMKMV-CWMPVMSNSA-G</td>\n      <td>InChI=1S/C45H58N12O22/c46-45-55-36-35(38(67)56...</td>\n    </tr>\n    <tr>\n      <th>3</th>\n      <td>10fthf7glu</td>\n      <td>b</td>\n      <td>b</td>\n      <td>b</td>\n      <td>10-Formyltetrahydrofolate-[Glu](7)</td>\n      <td>b</td>\n      <td>b</td>\n      <td>b</td>\n      <td>b</td>\n      <td>b</td>\n      <td>b</td>\n      <td>10fthf7glu</td>\n      <td>[H]OC1=NC(=N[H])N([H])C2=C1N([H])C([H])(C([H])...</td>\n      <td>VTHHVZBTNSHUDD-UHFFFAOYSA-F</td>\n      <td>InChI=1S/C50H65N13O25/c51-50-61-40-39(47(84)62...</td>\n    </tr>\n    <tr>\n      <th>4</th>\n      <td>10m3hddcaACP</td>\n      <td>b</td>\n      <td>b</td>\n      <td>b</td>\n      <td>10-methyl-3-hydroxy-dodecanoyl-ACP</td>\n      <td>b</td>\n      <td>b</td>\n      <td>b</td>\n      <td>b</td>\n      <td>b</td>\n      <td>b</td>\n      <td>b</td>\n      <td>b</td>\n      <td>b</td>\n      <td>b</td>\n    </tr>\n  </tbody>\n</table>\n</div>"
     },
     "execution_count": 16,
     "metadata": {},
     "output_type": "execute_result"
    }
   ],
   "source": [
    "metabo_b.head()"
   ],
   "metadata": {
    "collapsed": false
   }
  },
  {
   "cell_type": "code",
   "execution_count": 17,
   "outputs": [
    {
     "name": "stdout",
     "output_type": "stream",
     "text": [
      "<class 'pandas.core.frame.DataFrame'>\n",
      "RangeIndex: 241744 entries, 0 to 241743\n",
      "Data columns (total 7 columns):\n",
      " #   Column       Non-Null Count   Dtype \n",
      "---  ------       --------------   ----- \n",
      " 0   id           241744 non-null  int64 \n",
      " 1   compound_id  241744 non-null  int64 \n",
      " 2   type         241744 non-null  object\n",
      " 3   source       241744 non-null  object\n",
      " 4   name         241743 non-null  object\n",
      " 5   adapted      241744 non-null  object\n",
      " 6   language     241744 non-null  object\n",
      "dtypes: int64(2), object(5)\n",
      "memory usage: 12.9+ MB\n"
     ]
    }
   ],
   "source": [
    "namesf.info()"
   ],
   "metadata": {
    "collapsed": false
   }
  },
  {
   "cell_type": "code",
   "execution_count": 18,
   "outputs": [
    {
     "name": "stdout",
     "output_type": "stream",
     "text": [
      "<class 'pandas.core.frame.DataFrame'>\n",
      "RangeIndex: 78083 entries, 0 to 78082\n",
      "Data columns (total 5 columns):\n",
      " #   Column           Non-Null Count  Dtype \n",
      "---  ------           --------------  ----- \n",
      " 0   chebi_accession  78083 non-null  int64 \n",
      " 1   SOURCE           78083 non-null  object\n",
      " 2   name             60229 non-null  object\n",
      " 3   definition       50356 non-null  object\n",
      " 4   created_by       60229 non-null  object\n",
      "dtypes: int64(1), object(4)\n",
      "memory usage: 3.0+ MB\n"
     ]
    }
   ],
   "source": [
    "compounds.info()"
   ],
   "metadata": {
    "collapsed": false
   }
  },
  {
   "cell_type": "code",
   "execution_count": 19,
   "outputs": [],
   "source": [
    "chebi_kegg_CAS.drop(columns={'Unnamed: 0'},inplace=True)"
   ],
   "metadata": {
    "collapsed": false
   }
  },
  {
   "cell_type": "code",
   "execution_count": 62,
   "outputs": [
    {
     "data": {
      "text/plain": "    chebi                          name  \\\n0    2341                       AACOCF3   \n1    4819                   lysergamide   \n2    5555                     guanadrel   \n3    4331                     dauricine   \n4    3561                    cetirizine   \n..    ...                           ...   \n95   2567               alendronic acid   \n96  20339  4-chloroindole-3-acetic acid   \n97   2968                 bacampicillin   \n98   8428                  procainamide   \n99   8430                      procaine   \n\n                                           definition  compound_id  \\\n0   A fatty acid derivative that is arachidonic ac...        28435   \n1   An ergoline alkaloid comprising ergoline lacki...         1864   \n2   A spiroketal resulting from the formal condens...         2149   \n3   A bisbenzylisoquinoline alkaloid resulting fro...        28834   \n4   A member of the class of piperazines that is p...         1391   \n..                                                ...          ...   \n95  A 1,1-bis(phosphonic acid) that is methanebis(...        30793   \n96                                                  a         6645   \n97  A penicillanic acid ester that is the 1-ethoxy...        16616   \n98  A benzamide that is 4-aminobenzamide substitut...        40968   \n99  A benzoate ester, formally the result of ester...         2896   \n\n                       type accession_number  \n0       CAS Registry Number        2008-58-4  \n1       CAS Registry Number       40277-05-2  \n2   KEGG COMPOUND accession           C05468  \n3   KEGG COMPOUND accession           C04483  \n4       CAS Registry Number       42542-10-9  \n..                      ...              ...  \n95  KEGG COMPOUND accession           C02357  \n96      CAS Registry Number       86702-02-5  \n97  KEGG COMPOUND accession           C03982  \n98      CAS Registry Number         472-61-7  \n99      CAS Registry Number       68844-77-9  \n\n[100 rows x 6 columns]",
      "text/html": "<div>\n<style scoped>\n    .dataframe tbody tr th:only-of-type {\n        vertical-align: middle;\n    }\n\n    .dataframe tbody tr th {\n        vertical-align: top;\n    }\n\n    .dataframe thead th {\n        text-align: right;\n    }\n</style>\n<table border=\"1\" class=\"dataframe\">\n  <thead>\n    <tr style=\"text-align: right;\">\n      <th></th>\n      <th>chebi</th>\n      <th>name</th>\n      <th>definition</th>\n      <th>compound_id</th>\n      <th>type</th>\n      <th>accession_number</th>\n    </tr>\n  </thead>\n  <tbody>\n    <tr>\n      <th>0</th>\n      <td>2341</td>\n      <td>AACOCF3</td>\n      <td>A fatty acid derivative that is arachidonic ac...</td>\n      <td>28435</td>\n      <td>CAS Registry Number</td>\n      <td>2008-58-4</td>\n    </tr>\n    <tr>\n      <th>1</th>\n      <td>4819</td>\n      <td>lysergamide</td>\n      <td>An ergoline alkaloid comprising ergoline lacki...</td>\n      <td>1864</td>\n      <td>CAS Registry Number</td>\n      <td>40277-05-2</td>\n    </tr>\n    <tr>\n      <th>2</th>\n      <td>5555</td>\n      <td>guanadrel</td>\n      <td>A spiroketal resulting from the formal condens...</td>\n      <td>2149</td>\n      <td>KEGG COMPOUND accession</td>\n      <td>C05468</td>\n    </tr>\n    <tr>\n      <th>3</th>\n      <td>4331</td>\n      <td>dauricine</td>\n      <td>A bisbenzylisoquinoline alkaloid resulting fro...</td>\n      <td>28834</td>\n      <td>KEGG COMPOUND accession</td>\n      <td>C04483</td>\n    </tr>\n    <tr>\n      <th>4</th>\n      <td>3561</td>\n      <td>cetirizine</td>\n      <td>A member of the class of piperazines that is p...</td>\n      <td>1391</td>\n      <td>CAS Registry Number</td>\n      <td>42542-10-9</td>\n    </tr>\n    <tr>\n      <th>...</th>\n      <td>...</td>\n      <td>...</td>\n      <td>...</td>\n      <td>...</td>\n      <td>...</td>\n      <td>...</td>\n    </tr>\n    <tr>\n      <th>95</th>\n      <td>2567</td>\n      <td>alendronic acid</td>\n      <td>A 1,1-bis(phosphonic acid) that is methanebis(...</td>\n      <td>30793</td>\n      <td>KEGG COMPOUND accession</td>\n      <td>C02357</td>\n    </tr>\n    <tr>\n      <th>96</th>\n      <td>20339</td>\n      <td>4-chloroindole-3-acetic acid</td>\n      <td>a</td>\n      <td>6645</td>\n      <td>CAS Registry Number</td>\n      <td>86702-02-5</td>\n    </tr>\n    <tr>\n      <th>97</th>\n      <td>2968</td>\n      <td>bacampicillin</td>\n      <td>A penicillanic acid ester that is the 1-ethoxy...</td>\n      <td>16616</td>\n      <td>KEGG COMPOUND accession</td>\n      <td>C03982</td>\n    </tr>\n    <tr>\n      <th>98</th>\n      <td>8428</td>\n      <td>procainamide</td>\n      <td>A benzamide that is 4-aminobenzamide substitut...</td>\n      <td>40968</td>\n      <td>CAS Registry Number</td>\n      <td>472-61-7</td>\n    </tr>\n    <tr>\n      <th>99</th>\n      <td>8430</td>\n      <td>procaine</td>\n      <td>A benzoate ester, formally the result of ester...</td>\n      <td>2896</td>\n      <td>CAS Registry Number</td>\n      <td>68844-77-9</td>\n    </tr>\n  </tbody>\n</table>\n<p>100 rows × 6 columns</p>\n</div>"
     },
     "execution_count": 62,
     "metadata": {},
     "output_type": "execute_result"
    }
   ],
   "source": [
    "chebi_kegg_CAS.head(100)"
   ],
   "metadata": {
    "collapsed": false
   }
  },
  {
   "cell_type": "code",
   "execution_count": 21,
   "outputs": [
    {
     "name": "stdout",
     "output_type": "stream",
     "text": [
      "['CAS Registry Number' 'KEGG COMPOUND accession' 'HMDB accession'\n",
      " 'DrugBank accession' 'FooDB accession' 'UM-BBD compID'\n",
      " 'Beilstein Registry Number' 'LIPID MAPS instance accession'\n",
      " 'Gmelin Registry Number' 'MetaCyc accession' 'PDBeChem accession'\n",
      " 'KEGG GLYCAN accession' 'KEGG DRUG accession'\n",
      " 'LIPID MAPS class accession' 'RESID accession' 'COMe accession'\n",
      " 'MolBase accession' 'Reaxys Registry Number' 'Patent accession'\n",
      " 'Chemspider accession' 'PubMed citation' 'GlyTouCan accession'\n",
      " 'LINCS accession' 'Wikipedia accession']\n"
     ]
    }
   ],
   "source": [
    "print(chebi_kegg_CAS['type'].unique())"
   ],
   "metadata": {
    "collapsed": false
   }
  },
  {
   "cell_type": "code",
   "execution_count": 22,
   "outputs": [],
   "source": [
    "cas = chebi_kegg_CAS['type']==\"CAS Registry Number\"\n",
    "kegg = chebi_kegg_CAS['type']==\"KEGG COMPOUND accession\"\n",
    "hmdb = chebi_kegg_CAS['type']==\"HMDB accession\"\n"
   ],
   "metadata": {
    "collapsed": false
   }
  },
  {
   "cell_type": "code",
   "execution_count": 23,
   "outputs": [],
   "source": [
    "chebi_cas = chebi_kegg_CAS[cas]\n",
    "chebi_kegg = chebi_kegg_CAS[kegg]\n",
    "chebi_hmdb = chebi_kegg_CAS[hmdb]"
   ],
   "metadata": {
    "collapsed": false
   }
  },
  {
   "cell_type": "code",
   "execution_count": 64,
   "outputs": [
    {
     "data": {
      "text/plain": "     chebi                     name  \\\n0     2341                  AACOCF3   \n1     4819              lysergamide   \n4     3561               cetirizine   \n15    4917                  eugenol   \n17    8776               ranitidine   \n..     ...                      ...   \n291   3707               cinerin II   \n292   3762  dipotassium clorazepate   \n300   5837               hypolaetin   \n304  10441            beta-santalol   \n306   7510                neopinone   \n\n                                            definition  compound_id  \\\n0    A fatty acid derivative that is arachidonic ac...        28435   \n1    An ergoline alkaloid comprising ergoline lacki...         1864   \n4    A member of the class of piperazines that is p...         1391   \n15   A phenylpropanoid formally derived from guaiac...        17254   \n17   A member of the class of  furans used to treat...        16017   \n..                                                 ...          ...   \n291                                                  a        27764   \n292  The compound of monopotassium clorazepate with...        17231   \n300  A pentahydroxyflavone that consists of luteoli...        16778   \n304                                                  a        27675   \n306  The beta,gamma-unsaturated ketone resulting fr...        15336   \n\n                    type accession_number  \n0    CAS Registry Number        2008-58-4  \n1    CAS Registry Number       40277-05-2  \n4    CAS Registry Number       42542-10-9  \n15   CAS Registry Number         452-86-8  \n17   CAS Registry Number        3012-37-1  \n..                   ...              ...  \n291  CAS Registry Number         121-47-1  \n292  CAS Registry Number         108-39-4  \n300  CAS Registry Number         578-74-5  \n304  CAS Registry Number         615-67-8  \n306  CAS Registry Number        2757-90-6  \n\n[100 rows x 6 columns]",
      "text/html": "<div>\n<style scoped>\n    .dataframe tbody tr th:only-of-type {\n        vertical-align: middle;\n    }\n\n    .dataframe tbody tr th {\n        vertical-align: top;\n    }\n\n    .dataframe thead th {\n        text-align: right;\n    }\n</style>\n<table border=\"1\" class=\"dataframe\">\n  <thead>\n    <tr style=\"text-align: right;\">\n      <th></th>\n      <th>chebi</th>\n      <th>name</th>\n      <th>definition</th>\n      <th>compound_id</th>\n      <th>type</th>\n      <th>accession_number</th>\n    </tr>\n  </thead>\n  <tbody>\n    <tr>\n      <th>0</th>\n      <td>2341</td>\n      <td>AACOCF3</td>\n      <td>A fatty acid derivative that is arachidonic ac...</td>\n      <td>28435</td>\n      <td>CAS Registry Number</td>\n      <td>2008-58-4</td>\n    </tr>\n    <tr>\n      <th>1</th>\n      <td>4819</td>\n      <td>lysergamide</td>\n      <td>An ergoline alkaloid comprising ergoline lacki...</td>\n      <td>1864</td>\n      <td>CAS Registry Number</td>\n      <td>40277-05-2</td>\n    </tr>\n    <tr>\n      <th>4</th>\n      <td>3561</td>\n      <td>cetirizine</td>\n      <td>A member of the class of piperazines that is p...</td>\n      <td>1391</td>\n      <td>CAS Registry Number</td>\n      <td>42542-10-9</td>\n    </tr>\n    <tr>\n      <th>15</th>\n      <td>4917</td>\n      <td>eugenol</td>\n      <td>A phenylpropanoid formally derived from guaiac...</td>\n      <td>17254</td>\n      <td>CAS Registry Number</td>\n      <td>452-86-8</td>\n    </tr>\n    <tr>\n      <th>17</th>\n      <td>8776</td>\n      <td>ranitidine</td>\n      <td>A member of the class of  furans used to treat...</td>\n      <td>16017</td>\n      <td>CAS Registry Number</td>\n      <td>3012-37-1</td>\n    </tr>\n    <tr>\n      <th>...</th>\n      <td>...</td>\n      <td>...</td>\n      <td>...</td>\n      <td>...</td>\n      <td>...</td>\n      <td>...</td>\n    </tr>\n    <tr>\n      <th>291</th>\n      <td>3707</td>\n      <td>cinerin II</td>\n      <td>a</td>\n      <td>27764</td>\n      <td>CAS Registry Number</td>\n      <td>121-47-1</td>\n    </tr>\n    <tr>\n      <th>292</th>\n      <td>3762</td>\n      <td>dipotassium clorazepate</td>\n      <td>The compound of monopotassium clorazepate with...</td>\n      <td>17231</td>\n      <td>CAS Registry Number</td>\n      <td>108-39-4</td>\n    </tr>\n    <tr>\n      <th>300</th>\n      <td>5837</td>\n      <td>hypolaetin</td>\n      <td>A pentahydroxyflavone that consists of luteoli...</td>\n      <td>16778</td>\n      <td>CAS Registry Number</td>\n      <td>578-74-5</td>\n    </tr>\n    <tr>\n      <th>304</th>\n      <td>10441</td>\n      <td>beta-santalol</td>\n      <td>a</td>\n      <td>27675</td>\n      <td>CAS Registry Number</td>\n      <td>615-67-8</td>\n    </tr>\n    <tr>\n      <th>306</th>\n      <td>7510</td>\n      <td>neopinone</td>\n      <td>The beta,gamma-unsaturated ketone resulting fr...</td>\n      <td>15336</td>\n      <td>CAS Registry Number</td>\n      <td>2757-90-6</td>\n    </tr>\n  </tbody>\n</table>\n<p>100 rows × 6 columns</p>\n</div>"
     },
     "execution_count": 64,
     "metadata": {},
     "output_type": "execute_result"
    }
   ],
   "source": [
    "chebi_cas.head(100)"
   ],
   "metadata": {
    "collapsed": false
   }
  },
  {
   "cell_type": "code",
   "execution_count": 66,
   "outputs": [
    {
     "data": {
      "text/plain": "    chebi                                            name  \\\n0    4917                                         eugenol   \n1    8055              5-methylphenazinium methyl sulfate   \n2   73492                                     Glu-Glu-Ile   \n3   29449                                  hydrogen azide   \n4    8212                                        pimozide   \n..    ...                                             ...   \n95   5635                                       helenalin   \n96  71192                        N-(cyanomethyl)glycinate   \n97   3081                                    betavulgarin   \n98    108                                   (-)-phaseolin   \n99  84306  (13Z,16Z,19Z,22Z)-2-hydroxyoctacosatetraenoate   \n\n                                           definition  compound_id  \\\n0   A phenylpropanoid formally derived from guaiac...        17254   \n1                                                   a        17296   \n2   A tripeptide composed of two L-glutamic acid u...        17296   \n3                                                   a        16393   \n4   A member of the class of benzimidazoles that i...        15843   \n..                                                ...          ...   \n95  A sesquiterpene lactone that is 3,3a,4,4a,7a,8...         2181   \n96  An alpha-amino-acid anion that is the conjugat...        18287   \n97  A hydroxyisoflavone that is isoflavone substit...        15753   \n98  A prenylated member of the class of  pterocarp...        28261   \n99  A hydroxy fatty acid anion that is the conjuga...        28261   \n\n                   type accession_number abbreviation_metabolite  \\\n0   CAS Registry Number         452-86-8                   4mcat   \n1   CAS Registry Number          62-53-3                  M01341   \n2   CAS Registry Number          62-53-3                  M01341   \n3   CAS Registry Number         123-78-4                 sphings   \n4   CAS Registry Number         506-32-1                  arachd   \n..                  ...              ...                     ...   \n95  CAS Registry Number        2438-80-4                   fuc_L   \n96  CAS Registry Number        2438-80-4                   fuc_L   \n97  CAS Registry Number        3184-35-8                 2oxoadp   \n98  CAS Registry Number        7785-70-8                   appnn   \n99  CAS Registry Number        7785-70-8                   appnn   \n\n   casregistry_metabolite cheblid_metabolite  \\\n0                452-86-8            17254.0   \n1                 62-53-3            17296.0   \n2                 62-53-3            17296.0   \n3                123-78-4            16393.0   \n4                506-32-1            15843.0   \n..                    ...                ...   \n95              2438-80-4             2181.0   \n96              2438-80-4             2181.0   \n97              3184-35-8            15753.0   \n98              7785-70-8            36740.0   \n99              7785-70-8            36740.0   \n\n                               description_metabolite  ... hmdb_metabolite  \\\n0   Human Metabolome Database (HMDB): 4-methylcate...  ...     HMDB0000873   \n1   Human Metabolome Database (HMDB): Aniline is a...  ...     HMDB0003012   \n2   Human Metabolome Database (HMDB): Aniline is a...  ...     HMDB0003012   \n3   Human Metabolome Database (HMDB): Sphingosine ...  ...     HMDB0000252   \n4   Human Metabolome Database (HMDB): Arachidonic ...  ...     HMDB0001043   \n..                                                ...  ...             ...   \n95  Human Metabolome Database (HMDB): Fucose is a ...  ...     HMDB0000174   \n96  Human Metabolome Database (HMDB): Fucose is a ...  ...     HMDB0000174   \n97  Human Metabolome Database (HMDB): 2-Oxoadipic ...  ...     HMDB0000225   \n98  Human Metabolome Database (HMDB): &#945;-Pinen...  ...     HMDB0006525   \n99  Human Metabolome Database (HMDB): &#945;-Pinen...  ...     HMDB0006525   \n\n   inchikey_metabolite inchistring_metabolite keggid_metabolite  \\\n0                    b                      b            C06730   \n1                    b                      b            C00292   \n2                    b                      b            C00292   \n3                    b                      b            C00319   \n4                    b                      b            C00219   \n..                 ...                    ...               ...   \n95                   b                      b            C01019   \n96                   b                      b            C01019   \n97                   b                      b            C00322   \n98                   b                      b            C09880   \n99                   b                      b            C09880   \n\n     biocyc_metabolite food_db_metabolite reconmap3_metabolite  \\\n0     4-METHYLCATECHOL          FDB008861                    b   \n1   34-DICHLOROANILINE          FDB003571                    b   \n2   34-DICHLOROANILINE          FDB003571                    b   \n3          SPHINGOSINE          FDB021919              sphings   \n4     ARACHIDONIC_ACID          FDB011872               arachd   \n..                 ...                ...                  ...   \n95            L-FUCOSE          FDB020543                fuc_L   \n96            L-FUCOSE          FDB020543                fuc_L   \n97          2K-ADIPATE          FDB003362              2oxoadp   \n98            CPD-8754          FDB013765                appnn   \n99            CPD-8754          FDB013765                appnn   \n\n                                     smile_metabolite  \\\n0                                                   b   \n1         [H]N([H])C1=C([H])C([H])=C([H])C([H])=C1[H]   \n2         [H]N([H])C1=C([H])C([H])=C([H])C([H])=C1[H]   \n3   [H]OC([H])([H])C([H])([N+]([H])([H])[H])C([H])...   \n4   [H]\\C(=C(/[H])C([H])([H])C(\\[H])=C(\\[H])C([H])...   \n..                                                ...   \n95  [H]OC1([H])O[C@@]([H])(C([H])([H])[H])[C@@]([H...   \n96  [H]OC1([H])O[C@@]([H])(C([H])([H])[H])[C@@]([H...   \n97  [H]C([H])(C([O-])=O)C([H])([H])C([H])([H])C(=O...   \n98  [H]C1=C(C([H])([H])[H])C2([H])C([H])([H])C([H]...   \n99  [H]C1=C(C([H])([H])[H])C2([H])C([H])([H])C([H]...   \n\n            inchiKey_metabolite  \\\n0   ZBCATMYQYDCTIZ-UHFFFAOYSA-N   \n1   PAYRUJLWNCNPSJ-UHFFFAOYSA-N   \n2   PAYRUJLWNCNPSJ-UHFFFAOYSA-N   \n3   WWUZIQQURGPMPG-UHFFFAOYSA-O   \n4   YZXBAPSDXZZRGB-DOFZRALJSA-M   \n..                          ...   \n95  SHZGCJCMOBCMKK-DHVFOXMCSA-N   \n96  SHZGCJCMOBCMKK-DHVFOXMCSA-N   \n97  FGSBNBBHOZHUBO-UHFFFAOYSA-L   \n98  GRWFGVWFFZKLTI-UHFFFAOYSA-N   \n99  GRWFGVWFFZKLTI-UHFFFAOYSA-N   \n\n                               inchiString_metabolite  \n0                                                   b  \n1           InChI=1S/C6H7N/c7-6-4-2-1-3-5-6/h1-5H,7H2  \n2           InChI=1S/C6H7N/c7-6-4-2-1-3-5-6/h1-5H,7H2  \n3   InChI=1S/C18H37NO2/c1-2-3-4-5-6-7-8-9-10-11-12...  \n4   InChI=1S/C20H32O2/c1-2-3-4-5-6-7-8-9-10-11-12-...  \n..                                                ...  \n95  InChI=1S/C6H12O5/c1-2-3(7)4(8)5(9)6(10)11-2/h2...  \n96  InChI=1S/C6H12O5/c1-2-3(7)4(8)5(9)6(10)11-2/h2...  \n97  InChI=1S/C6H8O5/c7-4(6(10)11)2-1-3-5(8)9/h1-3H...  \n98  InChI=1S/C10H16/c1-7-4-5-8-6-9(7)10(8,2)3/h4,8...  \n99  InChI=1S/C10H16/c1-7-4-5-8-6-9(7)10(8,2)3/h4,8...  \n\n[100 rows x 21 columns]",
      "text/html": "<div>\n<style scoped>\n    .dataframe tbody tr th:only-of-type {\n        vertical-align: middle;\n    }\n\n    .dataframe tbody tr th {\n        vertical-align: top;\n    }\n\n    .dataframe thead th {\n        text-align: right;\n    }\n</style>\n<table border=\"1\" class=\"dataframe\">\n  <thead>\n    <tr style=\"text-align: right;\">\n      <th></th>\n      <th>chebi</th>\n      <th>name</th>\n      <th>definition</th>\n      <th>compound_id</th>\n      <th>type</th>\n      <th>accession_number</th>\n      <th>abbreviation_metabolite</th>\n      <th>casregistry_metabolite</th>\n      <th>cheblid_metabolite</th>\n      <th>description_metabolite</th>\n      <th>...</th>\n      <th>hmdb_metabolite</th>\n      <th>inchikey_metabolite</th>\n      <th>inchistring_metabolite</th>\n      <th>keggid_metabolite</th>\n      <th>biocyc_metabolite</th>\n      <th>food_db_metabolite</th>\n      <th>reconmap3_metabolite</th>\n      <th>smile_metabolite</th>\n      <th>inchiKey_metabolite</th>\n      <th>inchiString_metabolite</th>\n    </tr>\n  </thead>\n  <tbody>\n    <tr>\n      <th>0</th>\n      <td>4917</td>\n      <td>eugenol</td>\n      <td>A phenylpropanoid formally derived from guaiac...</td>\n      <td>17254</td>\n      <td>CAS Registry Number</td>\n      <td>452-86-8</td>\n      <td>4mcat</td>\n      <td>452-86-8</td>\n      <td>17254.0</td>\n      <td>Human Metabolome Database (HMDB): 4-methylcate...</td>\n      <td>...</td>\n      <td>HMDB0000873</td>\n      <td>b</td>\n      <td>b</td>\n      <td>C06730</td>\n      <td>4-METHYLCATECHOL</td>\n      <td>FDB008861</td>\n      <td>b</td>\n      <td>b</td>\n      <td>ZBCATMYQYDCTIZ-UHFFFAOYSA-N</td>\n      <td>b</td>\n    </tr>\n    <tr>\n      <th>1</th>\n      <td>8055</td>\n      <td>5-methylphenazinium methyl sulfate</td>\n      <td>a</td>\n      <td>17296</td>\n      <td>CAS Registry Number</td>\n      <td>62-53-3</td>\n      <td>M01341</td>\n      <td>62-53-3</td>\n      <td>17296.0</td>\n      <td>Human Metabolome Database (HMDB): Aniline is a...</td>\n      <td>...</td>\n      <td>HMDB0003012</td>\n      <td>b</td>\n      <td>b</td>\n      <td>C00292</td>\n      <td>34-DICHLOROANILINE</td>\n      <td>FDB003571</td>\n      <td>b</td>\n      <td>[H]N([H])C1=C([H])C([H])=C([H])C([H])=C1[H]</td>\n      <td>PAYRUJLWNCNPSJ-UHFFFAOYSA-N</td>\n      <td>InChI=1S/C6H7N/c7-6-4-2-1-3-5-6/h1-5H,7H2</td>\n    </tr>\n    <tr>\n      <th>2</th>\n      <td>73492</td>\n      <td>Glu-Glu-Ile</td>\n      <td>A tripeptide composed of two L-glutamic acid u...</td>\n      <td>17296</td>\n      <td>CAS Registry Number</td>\n      <td>62-53-3</td>\n      <td>M01341</td>\n      <td>62-53-3</td>\n      <td>17296.0</td>\n      <td>Human Metabolome Database (HMDB): Aniline is a...</td>\n      <td>...</td>\n      <td>HMDB0003012</td>\n      <td>b</td>\n      <td>b</td>\n      <td>C00292</td>\n      <td>34-DICHLOROANILINE</td>\n      <td>FDB003571</td>\n      <td>b</td>\n      <td>[H]N([H])C1=C([H])C([H])=C([H])C([H])=C1[H]</td>\n      <td>PAYRUJLWNCNPSJ-UHFFFAOYSA-N</td>\n      <td>InChI=1S/C6H7N/c7-6-4-2-1-3-5-6/h1-5H,7H2</td>\n    </tr>\n    <tr>\n      <th>3</th>\n      <td>29449</td>\n      <td>hydrogen azide</td>\n      <td>a</td>\n      <td>16393</td>\n      <td>CAS Registry Number</td>\n      <td>123-78-4</td>\n      <td>sphings</td>\n      <td>123-78-4</td>\n      <td>16393.0</td>\n      <td>Human Metabolome Database (HMDB): Sphingosine ...</td>\n      <td>...</td>\n      <td>HMDB0000252</td>\n      <td>b</td>\n      <td>b</td>\n      <td>C00319</td>\n      <td>SPHINGOSINE</td>\n      <td>FDB021919</td>\n      <td>sphings</td>\n      <td>[H]OC([H])([H])C([H])([N+]([H])([H])[H])C([H])...</td>\n      <td>WWUZIQQURGPMPG-UHFFFAOYSA-O</td>\n      <td>InChI=1S/C18H37NO2/c1-2-3-4-5-6-7-8-9-10-11-12...</td>\n    </tr>\n    <tr>\n      <th>4</th>\n      <td>8212</td>\n      <td>pimozide</td>\n      <td>A member of the class of benzimidazoles that i...</td>\n      <td>15843</td>\n      <td>CAS Registry Number</td>\n      <td>506-32-1</td>\n      <td>arachd</td>\n      <td>506-32-1</td>\n      <td>15843.0</td>\n      <td>Human Metabolome Database (HMDB): Arachidonic ...</td>\n      <td>...</td>\n      <td>HMDB0001043</td>\n      <td>b</td>\n      <td>b</td>\n      <td>C00219</td>\n      <td>ARACHIDONIC_ACID</td>\n      <td>FDB011872</td>\n      <td>arachd</td>\n      <td>[H]\\C(=C(/[H])C([H])([H])C(\\[H])=C(\\[H])C([H])...</td>\n      <td>YZXBAPSDXZZRGB-DOFZRALJSA-M</td>\n      <td>InChI=1S/C20H32O2/c1-2-3-4-5-6-7-8-9-10-11-12-...</td>\n    </tr>\n    <tr>\n      <th>...</th>\n      <td>...</td>\n      <td>...</td>\n      <td>...</td>\n      <td>...</td>\n      <td>...</td>\n      <td>...</td>\n      <td>...</td>\n      <td>...</td>\n      <td>...</td>\n      <td>...</td>\n      <td>...</td>\n      <td>...</td>\n      <td>...</td>\n      <td>...</td>\n      <td>...</td>\n      <td>...</td>\n      <td>...</td>\n      <td>...</td>\n      <td>...</td>\n      <td>...</td>\n      <td>...</td>\n    </tr>\n    <tr>\n      <th>95</th>\n      <td>5635</td>\n      <td>helenalin</td>\n      <td>A sesquiterpene lactone that is 3,3a,4,4a,7a,8...</td>\n      <td>2181</td>\n      <td>CAS Registry Number</td>\n      <td>2438-80-4</td>\n      <td>fuc_L</td>\n      <td>2438-80-4</td>\n      <td>2181.0</td>\n      <td>Human Metabolome Database (HMDB): Fucose is a ...</td>\n      <td>...</td>\n      <td>HMDB0000174</td>\n      <td>b</td>\n      <td>b</td>\n      <td>C01019</td>\n      <td>L-FUCOSE</td>\n      <td>FDB020543</td>\n      <td>fuc_L</td>\n      <td>[H]OC1([H])O[C@@]([H])(C([H])([H])[H])[C@@]([H...</td>\n      <td>SHZGCJCMOBCMKK-DHVFOXMCSA-N</td>\n      <td>InChI=1S/C6H12O5/c1-2-3(7)4(8)5(9)6(10)11-2/h2...</td>\n    </tr>\n    <tr>\n      <th>96</th>\n      <td>71192</td>\n      <td>N-(cyanomethyl)glycinate</td>\n      <td>An alpha-amino-acid anion that is the conjugat...</td>\n      <td>18287</td>\n      <td>CAS Registry Number</td>\n      <td>2438-80-4</td>\n      <td>fuc_L</td>\n      <td>2438-80-4</td>\n      <td>2181.0</td>\n      <td>Human Metabolome Database (HMDB): Fucose is a ...</td>\n      <td>...</td>\n      <td>HMDB0000174</td>\n      <td>b</td>\n      <td>b</td>\n      <td>C01019</td>\n      <td>L-FUCOSE</td>\n      <td>FDB020543</td>\n      <td>fuc_L</td>\n      <td>[H]OC1([H])O[C@@]([H])(C([H])([H])[H])[C@@]([H...</td>\n      <td>SHZGCJCMOBCMKK-DHVFOXMCSA-N</td>\n      <td>InChI=1S/C6H12O5/c1-2-3(7)4(8)5(9)6(10)11-2/h2...</td>\n    </tr>\n    <tr>\n      <th>97</th>\n      <td>3081</td>\n      <td>betavulgarin</td>\n      <td>A hydroxyisoflavone that is isoflavone substit...</td>\n      <td>15753</td>\n      <td>CAS Registry Number</td>\n      <td>3184-35-8</td>\n      <td>2oxoadp</td>\n      <td>3184-35-8</td>\n      <td>15753.0</td>\n      <td>Human Metabolome Database (HMDB): 2-Oxoadipic ...</td>\n      <td>...</td>\n      <td>HMDB0000225</td>\n      <td>b</td>\n      <td>b</td>\n      <td>C00322</td>\n      <td>2K-ADIPATE</td>\n      <td>FDB003362</td>\n      <td>2oxoadp</td>\n      <td>[H]C([H])(C([O-])=O)C([H])([H])C([H])([H])C(=O...</td>\n      <td>FGSBNBBHOZHUBO-UHFFFAOYSA-L</td>\n      <td>InChI=1S/C6H8O5/c7-4(6(10)11)2-1-3-5(8)9/h1-3H...</td>\n    </tr>\n    <tr>\n      <th>98</th>\n      <td>108</td>\n      <td>(-)-phaseolin</td>\n      <td>A prenylated member of the class of  pterocarp...</td>\n      <td>28261</td>\n      <td>CAS Registry Number</td>\n      <td>7785-70-8</td>\n      <td>appnn</td>\n      <td>7785-70-8</td>\n      <td>36740.0</td>\n      <td>Human Metabolome Database (HMDB): &amp;#945;-Pinen...</td>\n      <td>...</td>\n      <td>HMDB0006525</td>\n      <td>b</td>\n      <td>b</td>\n      <td>C09880</td>\n      <td>CPD-8754</td>\n      <td>FDB013765</td>\n      <td>appnn</td>\n      <td>[H]C1=C(C([H])([H])[H])C2([H])C([H])([H])C([H]...</td>\n      <td>GRWFGVWFFZKLTI-UHFFFAOYSA-N</td>\n      <td>InChI=1S/C10H16/c1-7-4-5-8-6-9(7)10(8,2)3/h4,8...</td>\n    </tr>\n    <tr>\n      <th>99</th>\n      <td>84306</td>\n      <td>(13Z,16Z,19Z,22Z)-2-hydroxyoctacosatetraenoate</td>\n      <td>A hydroxy fatty acid anion that is the conjuga...</td>\n      <td>28261</td>\n      <td>CAS Registry Number</td>\n      <td>7785-70-8</td>\n      <td>appnn</td>\n      <td>7785-70-8</td>\n      <td>36740.0</td>\n      <td>Human Metabolome Database (HMDB): &amp;#945;-Pinen...</td>\n      <td>...</td>\n      <td>HMDB0006525</td>\n      <td>b</td>\n      <td>b</td>\n      <td>C09880</td>\n      <td>CPD-8754</td>\n      <td>FDB013765</td>\n      <td>appnn</td>\n      <td>[H]C1=C(C([H])([H])[H])C2([H])C([H])([H])C([H]...</td>\n      <td>GRWFGVWFFZKLTI-UHFFFAOYSA-N</td>\n      <td>InChI=1S/C10H16/c1-7-4-5-8-6-9(7)10(8,2)3/h4,8...</td>\n    </tr>\n  </tbody>\n</table>\n<p>100 rows × 21 columns</p>\n</div>"
     },
     "execution_count": 66,
     "metadata": {},
     "output_type": "execute_result"
    }
   ],
   "source": [
    "metabo_chebi_cas = chebi_cas.merge(metabo_b,right_on='casregistry_metabolite',left_on='accession_number',how='inner')\n",
    "metabo_chebi_cas.head(100)\n"
   ],
   "metadata": {
    "collapsed": false
   }
  },
  {
   "cell_type": "code",
   "execution_count": 51,
   "outputs": [
    {
     "data": {
      "text/plain": "   chebi                                name  \\\n0   4917                             eugenol   \n1   8055  5-methylphenazinium methyl sulfate   \n2  73492                         Glu-Glu-Ile   \n3  29449                      hydrogen azide   \n4   8212                            pimozide   \n\n                                          definition  compound_id  \\\n0  A phenylpropanoid formally derived from guaiac...        17254   \n1                                                  a        17296   \n2  A tripeptide composed of two L-glutamic acid u...        17296   \n3                                                  a        16393   \n4  A member of the class of benzimidazoles that i...        15843   \n\n                  type accession_number abbreviation_metabolite  \\\n0  CAS Registry Number         452-86-8                   4mcat   \n1  CAS Registry Number          62-53-3                  M01341   \n2  CAS Registry Number          62-53-3                  M01341   \n3  CAS Registry Number         123-78-4                 sphings   \n4  CAS Registry Number         506-32-1                  arachd   \n\n  casregistry_metabolite cheblid_metabolite  \\\n0               452-86-8            17254.0   \n1                62-53-3            17296.0   \n2                62-53-3            17296.0   \n3               123-78-4            16393.0   \n4               506-32-1            15843.0   \n\n                              description_metabolite  ... hmdb_metabolite  \\\n0  Human Metabolome Database (HMDB): 4-methylcate...  ...     HMDB0000873   \n1  Human Metabolome Database (HMDB): Aniline is a...  ...     HMDB0003012   \n2  Human Metabolome Database (HMDB): Aniline is a...  ...     HMDB0003012   \n3  Human Metabolome Database (HMDB): Sphingosine ...  ...     HMDB0000252   \n4  Human Metabolome Database (HMDB): Arachidonic ...  ...     HMDB0001043   \n\n  inchikey_metabolite inchistring_metabolite keggid_metabolite  \\\n0                   b                      b            C06730   \n1                   b                      b            C00292   \n2                   b                      b            C00292   \n3                   b                      b            C00319   \n4                   b                      b            C00219   \n\n    biocyc_metabolite food_db_metabolite reconmap3_metabolite  \\\n0    4-METHYLCATECHOL          FDB008861                    b   \n1  34-DICHLOROANILINE          FDB003571                    b   \n2  34-DICHLOROANILINE          FDB003571                    b   \n3         SPHINGOSINE          FDB021919              sphings   \n4    ARACHIDONIC_ACID          FDB011872               arachd   \n\n                                    smile_metabolite  \\\n0                                                  b   \n1        [H]N([H])C1=C([H])C([H])=C([H])C([H])=C1[H]   \n2        [H]N([H])C1=C([H])C([H])=C([H])C([H])=C1[H]   \n3  [H]OC([H])([H])C([H])([N+]([H])([H])[H])C([H])...   \n4  [H]\\C(=C(/[H])C([H])([H])C(\\[H])=C(\\[H])C([H])...   \n\n           inchiKey_metabolite  \\\n0  ZBCATMYQYDCTIZ-UHFFFAOYSA-N   \n1  PAYRUJLWNCNPSJ-UHFFFAOYSA-N   \n2  PAYRUJLWNCNPSJ-UHFFFAOYSA-N   \n3  WWUZIQQURGPMPG-UHFFFAOYSA-O   \n4  YZXBAPSDXZZRGB-DOFZRALJSA-M   \n\n                              inchiString_metabolite  \n0                                                  b  \n1          InChI=1S/C6H7N/c7-6-4-2-1-3-5-6/h1-5H,7H2  \n2          InChI=1S/C6H7N/c7-6-4-2-1-3-5-6/h1-5H,7H2  \n3  InChI=1S/C18H37NO2/c1-2-3-4-5-6-7-8-9-10-11-12...  \n4  InChI=1S/C20H32O2/c1-2-3-4-5-6-7-8-9-10-11-12-...  \n\n[5 rows x 21 columns]",
      "text/html": "<div>\n<style scoped>\n    .dataframe tbody tr th:only-of-type {\n        vertical-align: middle;\n    }\n\n    .dataframe tbody tr th {\n        vertical-align: top;\n    }\n\n    .dataframe thead th {\n        text-align: right;\n    }\n</style>\n<table border=\"1\" class=\"dataframe\">\n  <thead>\n    <tr style=\"text-align: right;\">\n      <th></th>\n      <th>chebi</th>\n      <th>name</th>\n      <th>definition</th>\n      <th>compound_id</th>\n      <th>type</th>\n      <th>accession_number</th>\n      <th>abbreviation_metabolite</th>\n      <th>casregistry_metabolite</th>\n      <th>cheblid_metabolite</th>\n      <th>description_metabolite</th>\n      <th>...</th>\n      <th>hmdb_metabolite</th>\n      <th>inchikey_metabolite</th>\n      <th>inchistring_metabolite</th>\n      <th>keggid_metabolite</th>\n      <th>biocyc_metabolite</th>\n      <th>food_db_metabolite</th>\n      <th>reconmap3_metabolite</th>\n      <th>smile_metabolite</th>\n      <th>inchiKey_metabolite</th>\n      <th>inchiString_metabolite</th>\n    </tr>\n  </thead>\n  <tbody>\n    <tr>\n      <th>0</th>\n      <td>4917</td>\n      <td>eugenol</td>\n      <td>A phenylpropanoid formally derived from guaiac...</td>\n      <td>17254</td>\n      <td>CAS Registry Number</td>\n      <td>452-86-8</td>\n      <td>4mcat</td>\n      <td>452-86-8</td>\n      <td>17254.0</td>\n      <td>Human Metabolome Database (HMDB): 4-methylcate...</td>\n      <td>...</td>\n      <td>HMDB0000873</td>\n      <td>b</td>\n      <td>b</td>\n      <td>C06730</td>\n      <td>4-METHYLCATECHOL</td>\n      <td>FDB008861</td>\n      <td>b</td>\n      <td>b</td>\n      <td>ZBCATMYQYDCTIZ-UHFFFAOYSA-N</td>\n      <td>b</td>\n    </tr>\n    <tr>\n      <th>1</th>\n      <td>8055</td>\n      <td>5-methylphenazinium methyl sulfate</td>\n      <td>a</td>\n      <td>17296</td>\n      <td>CAS Registry Number</td>\n      <td>62-53-3</td>\n      <td>M01341</td>\n      <td>62-53-3</td>\n      <td>17296.0</td>\n      <td>Human Metabolome Database (HMDB): Aniline is a...</td>\n      <td>...</td>\n      <td>HMDB0003012</td>\n      <td>b</td>\n      <td>b</td>\n      <td>C00292</td>\n      <td>34-DICHLOROANILINE</td>\n      <td>FDB003571</td>\n      <td>b</td>\n      <td>[H]N([H])C1=C([H])C([H])=C([H])C([H])=C1[H]</td>\n      <td>PAYRUJLWNCNPSJ-UHFFFAOYSA-N</td>\n      <td>InChI=1S/C6H7N/c7-6-4-2-1-3-5-6/h1-5H,7H2</td>\n    </tr>\n    <tr>\n      <th>2</th>\n      <td>73492</td>\n      <td>Glu-Glu-Ile</td>\n      <td>A tripeptide composed of two L-glutamic acid u...</td>\n      <td>17296</td>\n      <td>CAS Registry Number</td>\n      <td>62-53-3</td>\n      <td>M01341</td>\n      <td>62-53-3</td>\n      <td>17296.0</td>\n      <td>Human Metabolome Database (HMDB): Aniline is a...</td>\n      <td>...</td>\n      <td>HMDB0003012</td>\n      <td>b</td>\n      <td>b</td>\n      <td>C00292</td>\n      <td>34-DICHLOROANILINE</td>\n      <td>FDB003571</td>\n      <td>b</td>\n      <td>[H]N([H])C1=C([H])C([H])=C([H])C([H])=C1[H]</td>\n      <td>PAYRUJLWNCNPSJ-UHFFFAOYSA-N</td>\n      <td>InChI=1S/C6H7N/c7-6-4-2-1-3-5-6/h1-5H,7H2</td>\n    </tr>\n    <tr>\n      <th>3</th>\n      <td>29449</td>\n      <td>hydrogen azide</td>\n      <td>a</td>\n      <td>16393</td>\n      <td>CAS Registry Number</td>\n      <td>123-78-4</td>\n      <td>sphings</td>\n      <td>123-78-4</td>\n      <td>16393.0</td>\n      <td>Human Metabolome Database (HMDB): Sphingosine ...</td>\n      <td>...</td>\n      <td>HMDB0000252</td>\n      <td>b</td>\n      <td>b</td>\n      <td>C00319</td>\n      <td>SPHINGOSINE</td>\n      <td>FDB021919</td>\n      <td>sphings</td>\n      <td>[H]OC([H])([H])C([H])([N+]([H])([H])[H])C([H])...</td>\n      <td>WWUZIQQURGPMPG-UHFFFAOYSA-O</td>\n      <td>InChI=1S/C18H37NO2/c1-2-3-4-5-6-7-8-9-10-11-12...</td>\n    </tr>\n    <tr>\n      <th>4</th>\n      <td>8212</td>\n      <td>pimozide</td>\n      <td>A member of the class of benzimidazoles that i...</td>\n      <td>15843</td>\n      <td>CAS Registry Number</td>\n      <td>506-32-1</td>\n      <td>arachd</td>\n      <td>506-32-1</td>\n      <td>15843.0</td>\n      <td>Human Metabolome Database (HMDB): Arachidonic ...</td>\n      <td>...</td>\n      <td>HMDB0001043</td>\n      <td>b</td>\n      <td>b</td>\n      <td>C00219</td>\n      <td>ARACHIDONIC_ACID</td>\n      <td>FDB011872</td>\n      <td>arachd</td>\n      <td>[H]\\C(=C(/[H])C([H])([H])C(\\[H])=C(\\[H])C([H])...</td>\n      <td>YZXBAPSDXZZRGB-DOFZRALJSA-M</td>\n      <td>InChI=1S/C20H32O2/c1-2-3-4-5-6-7-8-9-10-11-12-...</td>\n    </tr>\n  </tbody>\n</table>\n<p>5 rows × 21 columns</p>\n</div>"
     },
     "execution_count": 51,
     "metadata": {},
     "output_type": "execute_result"
    }
   ],
   "source": [
    "metabo_chebi_cas.head()"
   ],
   "metadata": {
    "collapsed": false
   }
  },
  {
   "cell_type": "code",
   "execution_count": 29,
   "outputs": [
    {
     "name": "stdout",
     "output_type": "stream",
     "text": [
      "<class 'pandas.core.frame.DataFrame'>\n",
      "Int64Index: 5763 entries, 2 to 13977\n",
      "Data columns (total 6 columns):\n",
      " #   Column            Non-Null Count  Dtype \n",
      "---  ------            --------------  ----- \n",
      " 0   chebi             5763 non-null   int64 \n",
      " 1   name              5763 non-null   object\n",
      " 2   definition        5763 non-null   object\n",
      " 3   compound_id       5763 non-null   int64 \n",
      " 4   type              5763 non-null   object\n",
      " 5   accession_number  5763 non-null   object\n",
      "dtypes: int64(2), object(4)\n",
      "memory usage: 315.2+ KB\n"
     ]
    }
   ],
   "source": [
    "chebi_kegg.info()"
   ],
   "metadata": {
    "collapsed": false
   }
  },
  {
   "cell_type": "code",
   "execution_count": 53,
   "outputs": [],
   "source": [
    "metabo_chebi_hmdb = chebi_hmdb.merge(metabo_b,right_on='hmdb_metabolite',left_on='accession_number',how='inner')\n",
    "metabo_chebi_hmdb.head()\n",
    "metabo_chebi_hmdb.to_csv('metabo_chebi_hmdb.csv',index_label=False)"
   ],
   "metadata": {
    "collapsed": false
   }
  },
  {
   "cell_type": "code",
   "execution_count": 54,
   "outputs": [],
   "source": [
    "metabo_chebi_kegg = chebi_kegg.merge(metabo_b,right_on='keggid_metabolite',left_on='accession_number',how='left')\n",
    "metabo_chebi_hmdb.head()\n",
    "\n",
    "metabo_chebi_kegg.to_csv('metabo_chebi_kegg.csv',index_label=False)"
   ],
   "metadata": {
    "collapsed": false
   }
  },
  {
   "cell_type": "code",
   "execution_count": 32,
   "outputs": [
    {
     "data": {
      "text/plain": "  chebi_accession         SOURCE          name  \\\n0      CHEBI:4798  KEGG COMPOUND    entacapone   \n1      CHEBI:2341  KEGG COMPOUND       AACOCF3   \n2      CHEBI:3223  KEGG COMPOUND     buspirone   \n3      CHEBI:8028  KEGG COMPOUND  perphenazine   \n4      CHEBI:3423  KEGG COMPOUND    carmustine   \n\n                                          definition  \\\n0  A monocarboxylic acid amide that is N,N-diethy...   \n1  A fatty acid derivative that is arachidonic ac...   \n2  An azaspiro compound that is 8-azaspiro[4.5]de...   \n3  A phenothiazine derivative in which the phenot...   \n4  A member of the class of N-nitrosoureas that i...   \n\n                                               InChI  \n0  InChI=1S/C14H15N3O5/c1-3-16(4-2)14(20)10(8-15)...  \n1  InChI=1S/C21H31F3O/c1-2-3-4-5-6-7-8-9-10-11-12...  \n2  InChI=1S/C21H31N5O2/c27-18-16-21(6-1-2-7-21)17...  \n3  InChI=1S/C21H26ClN3OS/c22-17-6-7-21-19(16-17)2...  \n4  InChI=1S/C5H9Cl2N3O2/c6-1-3-8-5(11)10(9-12)4-2...  ",
      "text/html": "<div>\n<style scoped>\n    .dataframe tbody tr th:only-of-type {\n        vertical-align: middle;\n    }\n\n    .dataframe tbody tr th {\n        vertical-align: top;\n    }\n\n    .dataframe thead th {\n        text-align: right;\n    }\n</style>\n<table border=\"1\" class=\"dataframe\">\n  <thead>\n    <tr style=\"text-align: right;\">\n      <th></th>\n      <th>chebi_accession</th>\n      <th>SOURCE</th>\n      <th>name</th>\n      <th>definition</th>\n      <th>InChI</th>\n    </tr>\n  </thead>\n  <tbody>\n    <tr>\n      <th>0</th>\n      <td>CHEBI:4798</td>\n      <td>KEGG COMPOUND</td>\n      <td>entacapone</td>\n      <td>A monocarboxylic acid amide that is N,N-diethy...</td>\n      <td>InChI=1S/C14H15N3O5/c1-3-16(4-2)14(20)10(8-15)...</td>\n    </tr>\n    <tr>\n      <th>1</th>\n      <td>CHEBI:2341</td>\n      <td>KEGG COMPOUND</td>\n      <td>AACOCF3</td>\n      <td>A fatty acid derivative that is arachidonic ac...</td>\n      <td>InChI=1S/C21H31F3O/c1-2-3-4-5-6-7-8-9-10-11-12...</td>\n    </tr>\n    <tr>\n      <th>2</th>\n      <td>CHEBI:3223</td>\n      <td>KEGG COMPOUND</td>\n      <td>buspirone</td>\n      <td>An azaspiro compound that is 8-azaspiro[4.5]de...</td>\n      <td>InChI=1S/C21H31N5O2/c27-18-16-21(6-1-2-7-21)17...</td>\n    </tr>\n    <tr>\n      <th>3</th>\n      <td>CHEBI:8028</td>\n      <td>KEGG COMPOUND</td>\n      <td>perphenazine</td>\n      <td>A phenothiazine derivative in which the phenot...</td>\n      <td>InChI=1S/C21H26ClN3OS/c22-17-6-7-21-19(16-17)2...</td>\n    </tr>\n    <tr>\n      <th>4</th>\n      <td>CHEBI:3423</td>\n      <td>KEGG COMPOUND</td>\n      <td>carmustine</td>\n      <td>A member of the class of N-nitrosoureas that i...</td>\n      <td>InChI=1S/C5H9Cl2N3O2/c6-1-3-8-5(11)10(9-12)4-2...</td>\n    </tr>\n  </tbody>\n</table>\n</div>"
     },
     "execution_count": 32,
     "metadata": {},
     "output_type": "execute_result"
    }
   ],
   "source": [
    "compounds_chebi.head()"
   ],
   "metadata": {
    "collapsed": false
   }
  },
  {
   "cell_type": "code",
   "execution_count": 33,
   "outputs": [],
   "source": [
    "compounds_names_syn.head()\n",
    "compounds_names_syn_x = compounds_names_syn.fillna(\"x\")\n",
    "compounds_chebi_y  = compounds_chebi.fillna(\"y\")"
   ],
   "metadata": {
    "collapsed": false
   }
  },
  {
   "cell_type": "code",
   "execution_count": 34,
   "outputs": [
    {
     "data": {
      "text/plain": "  abbreviation_metabolite casregistry_metabolite cheblid_metabolite  \\\n0                  10fthf              2800-34-2            15637.0   \n1              10fthf5glu                      b                  b   \n2              10fthf6glu                      b                  b   \n3              10fthf7glu                      b                  b   \n4            10m3hddcaACP                      b                  b   \n\n                              description_metabolite  \\\n0  Human Metabolome Database (HMDB): 10-Formyltet...   \n1                                                  b   \n2                                                  b   \n3                                                  b   \n4                                                  b   \n\n                  fullname_metabolite hmdb_metabolite inchikey_metabolite  \\\n0           10-Formyltetrahydrofolate     HMDB0000972                   b   \n1  10-Formyltetrahydrofolate-[Glu](5)               b                   b   \n2  10-Formyltetrahydrofolate-[Glu](6)               b                   b   \n3  10-Formyltetrahydrofolate-[Glu](7)               b                   b   \n4  10-methyl-3-hydroxy-dodecanoyl-ACP               b                   b   \n\n  inchistring_metabolite keggid_metabolite biocyc_metabolite  \\\n0                      b            C00234     10-FORMYL-THF   \n1                      b                 b                 b   \n2                      b                 b                 b   \n3                      b                 b                 b   \n4                      b                 b                 b   \n\n  food_db_metabolite reconmap3_metabolite  \\\n0          FDB022345               10fthf   \n1                  b           10fthf5glu   \n2                  b           10fthf6glu   \n3                  b           10fthf7glu   \n4                  b                    b   \n\n                                    smile_metabolite  \\\n0  [H]OC1=NC(=NC2=C1N([H])C([H])(C([H])([H])N(C([...   \n1  [H]OC1=NC(=N[H])N([H])C2=C1N([H])C([H])(C([H])...   \n2  [H]OC(=O)C([H])(N=C([O-])C([H])([H])C([H])([H]...   \n3  [H]OC1=NC(=N[H])N([H])C2=C1N([H])C([H])(C([H])...   \n4                                                  b   \n\n           inchiKey_metabolite  \\\n0  AUFGTPPARQZWDO-YUZLPWPTSA-L   \n1  RGSLBOWMZCMTRA-UHFFFAOYSA-H   \n2  SFFBEUFYOPMKMV-CWMPVMSNSA-G   \n3  VTHHVZBTNSHUDD-UHFFFAOYSA-F   \n4                            b   \n\n                              inchiString_metabolite  \n0  InChI=1S/C20H23N7O7/c21-20-25-16-15(18(32)26-2...  \n1  InChI=1S/C40H51N11O19/c41-40-49-32-31(37(66)50...  \n2  InChI=1S/C45H58N12O22/c46-45-55-36-35(38(67)56...  \n3  InChI=1S/C50H65N13O25/c51-50-61-40-39(47(84)62...  \n4                                                  b  ",
      "text/html": "<div>\n<style scoped>\n    .dataframe tbody tr th:only-of-type {\n        vertical-align: middle;\n    }\n\n    .dataframe tbody tr th {\n        vertical-align: top;\n    }\n\n    .dataframe thead th {\n        text-align: right;\n    }\n</style>\n<table border=\"1\" class=\"dataframe\">\n  <thead>\n    <tr style=\"text-align: right;\">\n      <th></th>\n      <th>abbreviation_metabolite</th>\n      <th>casregistry_metabolite</th>\n      <th>cheblid_metabolite</th>\n      <th>description_metabolite</th>\n      <th>fullname_metabolite</th>\n      <th>hmdb_metabolite</th>\n      <th>inchikey_metabolite</th>\n      <th>inchistring_metabolite</th>\n      <th>keggid_metabolite</th>\n      <th>biocyc_metabolite</th>\n      <th>food_db_metabolite</th>\n      <th>reconmap3_metabolite</th>\n      <th>smile_metabolite</th>\n      <th>inchiKey_metabolite</th>\n      <th>inchiString_metabolite</th>\n    </tr>\n  </thead>\n  <tbody>\n    <tr>\n      <th>0</th>\n      <td>10fthf</td>\n      <td>2800-34-2</td>\n      <td>15637.0</td>\n      <td>Human Metabolome Database (HMDB): 10-Formyltet...</td>\n      <td>10-Formyltetrahydrofolate</td>\n      <td>HMDB0000972</td>\n      <td>b</td>\n      <td>b</td>\n      <td>C00234</td>\n      <td>10-FORMYL-THF</td>\n      <td>FDB022345</td>\n      <td>10fthf</td>\n      <td>[H]OC1=NC(=NC2=C1N([H])C([H])(C([H])([H])N(C([...</td>\n      <td>AUFGTPPARQZWDO-YUZLPWPTSA-L</td>\n      <td>InChI=1S/C20H23N7O7/c21-20-25-16-15(18(32)26-2...</td>\n    </tr>\n    <tr>\n      <th>1</th>\n      <td>10fthf5glu</td>\n      <td>b</td>\n      <td>b</td>\n      <td>b</td>\n      <td>10-Formyltetrahydrofolate-[Glu](5)</td>\n      <td>b</td>\n      <td>b</td>\n      <td>b</td>\n      <td>b</td>\n      <td>b</td>\n      <td>b</td>\n      <td>10fthf5glu</td>\n      <td>[H]OC1=NC(=N[H])N([H])C2=C1N([H])C([H])(C([H])...</td>\n      <td>RGSLBOWMZCMTRA-UHFFFAOYSA-H</td>\n      <td>InChI=1S/C40H51N11O19/c41-40-49-32-31(37(66)50...</td>\n    </tr>\n    <tr>\n      <th>2</th>\n      <td>10fthf6glu</td>\n      <td>b</td>\n      <td>b</td>\n      <td>b</td>\n      <td>10-Formyltetrahydrofolate-[Glu](6)</td>\n      <td>b</td>\n      <td>b</td>\n      <td>b</td>\n      <td>b</td>\n      <td>b</td>\n      <td>b</td>\n      <td>10fthf6glu</td>\n      <td>[H]OC(=O)C([H])(N=C([O-])C([H])([H])C([H])([H]...</td>\n      <td>SFFBEUFYOPMKMV-CWMPVMSNSA-G</td>\n      <td>InChI=1S/C45H58N12O22/c46-45-55-36-35(38(67)56...</td>\n    </tr>\n    <tr>\n      <th>3</th>\n      <td>10fthf7glu</td>\n      <td>b</td>\n      <td>b</td>\n      <td>b</td>\n      <td>10-Formyltetrahydrofolate-[Glu](7)</td>\n      <td>b</td>\n      <td>b</td>\n      <td>b</td>\n      <td>b</td>\n      <td>b</td>\n      <td>b</td>\n      <td>10fthf7glu</td>\n      <td>[H]OC1=NC(=N[H])N([H])C2=C1N([H])C([H])(C([H])...</td>\n      <td>VTHHVZBTNSHUDD-UHFFFAOYSA-F</td>\n      <td>InChI=1S/C50H65N13O25/c51-50-61-40-39(47(84)62...</td>\n    </tr>\n    <tr>\n      <th>4</th>\n      <td>10m3hddcaACP</td>\n      <td>b</td>\n      <td>b</td>\n      <td>b</td>\n      <td>10-methyl-3-hydroxy-dodecanoyl-ACP</td>\n      <td>b</td>\n      <td>b</td>\n      <td>b</td>\n      <td>b</td>\n      <td>b</td>\n      <td>b</td>\n      <td>b</td>\n      <td>b</td>\n      <td>b</td>\n      <td>b</td>\n    </tr>\n  </tbody>\n</table>\n</div>"
     },
     "execution_count": 34,
     "metadata": {},
     "output_type": "execute_result"
    }
   ],
   "source": [
    "metabo_b.head()"
   ],
   "metadata": {
    "collapsed": false
   }
  },
  {
   "cell_type": "code",
   "execution_count": 35,
   "outputs": [
    {
     "name": "stdout",
     "output_type": "stream",
     "text": [
      "<class 'pandas.core.frame.DataFrame'>\n",
      "RangeIndex: 43936 entries, 0 to 43935\n",
      "Data columns (total 5 columns):\n",
      " #   Column           Non-Null Count  Dtype \n",
      "---  ------           --------------  ----- \n",
      " 0   chebi_accession  43936 non-null  object\n",
      " 1   SOURCE           43936 non-null  object\n",
      " 2   name             43936 non-null  object\n",
      " 3   definition       43936 non-null  object\n",
      " 4   InChI            43936 non-null  object\n",
      "dtypes: object(5)\n",
      "memory usage: 1.7+ MB\n"
     ]
    }
   ],
   "source": [
    "compounds_chebi_y.info()"
   ],
   "metadata": {
    "collapsed": false
   }
  },
  {
   "cell_type": "code",
   "execution_count": 36,
   "outputs": [
    {
     "name": "stdout",
     "output_type": "stream",
     "text": [
      "<class 'pandas.core.frame.DataFrame'>\n",
      "RangeIndex: 37024 entries, 0 to 37023\n",
      "Data columns (total 7 columns):\n",
      " #   Column           Non-Null Count  Dtype \n",
      "---  ------           --------------  ----- \n",
      " 0   chebi_accession  37024 non-null  object\n",
      " 1   SOURCE           37024 non-null  object\n",
      " 2   name             37024 non-null  object\n",
      " 3   definition       37024 non-null  object\n",
      " 4   created_by       37024 non-null  object\n",
      " 5   type             37024 non-null  object\n",
      " 6   source           37024 non-null  object\n",
      "dtypes: object(7)\n",
      "memory usage: 2.0+ MB\n"
     ]
    }
   ],
   "source": [
    "compounds_names_syn_x.info()"
   ],
   "metadata": {
    "collapsed": false
   }
  },
  {
   "cell_type": "code",
   "execution_count": 37,
   "outputs": [],
   "source": [
    "metabo_chebi = compounds_chebi_y.merge(metabo_b,left_on='InChI',right_on='inchiString_metabolite',how='inner')"
   ],
   "metadata": {
    "collapsed": false
   }
  },
  {
   "cell_type": "code",
   "execution_count": 48,
   "outputs": [
    {
     "name": "stdout",
     "output_type": "stream",
     "text": [
      "<class 'pandas.core.frame.DataFrame'>\n",
      "Int64Index: 1475 entries, 0 to 1474\n",
      "Data columns (total 20 columns):\n",
      " #   Column                   Non-Null Count  Dtype \n",
      "---  ------                   --------------  ----- \n",
      " 0   chebi_accession          1475 non-null   object\n",
      " 1   SOURCE                   1475 non-null   object\n",
      " 2   name                     1475 non-null   object\n",
      " 3   definition               1475 non-null   object\n",
      " 4   InChI                    1475 non-null   object\n",
      " 5   abbreviation_metabolite  1475 non-null   object\n",
      " 6   casregistry_metabolite   1475 non-null   object\n",
      " 7   cheblid_metabolite       1475 non-null   object\n",
      " 8   description_metabolite   1475 non-null   object\n",
      " 9   fullname_metabolite      1475 non-null   object\n",
      " 10  hmdb_metabolite          1475 non-null   object\n",
      " 11  inchikey_metabolite      1475 non-null   object\n",
      " 12  inchistring_metabolite   1475 non-null   object\n",
      " 13  keggid_metabolite        1475 non-null   object\n",
      " 14  biocyc_metabolite        1475 non-null   object\n",
      " 15  food_db_metabolite       1475 non-null   object\n",
      " 16  reconmap3_metabolite     1475 non-null   object\n",
      " 17  smile_metabolite         1475 non-null   object\n",
      " 18  inchiKey_metabolite      1475 non-null   object\n",
      " 19  inchiString_metabolite   1475 non-null   object\n",
      "dtypes: object(20)\n",
      "memory usage: 242.0+ KB\n"
     ]
    }
   ],
   "source": [
    "metabo_chebi.info()"
   ],
   "metadata": {
    "collapsed": false
   }
  },
  {
   "cell_type": "code",
   "execution_count": 39,
   "outputs": [
    {
     "data": {
      "text/plain": "  abbreviation_metabolite casregistry_metabolite cheblid_metabolite  \\\n0                  10fthf              2800-34-2            15637.0   \n1              10fthf5glu                      j                  j   \n2              10fthf6glu                      j                  j   \n3              10fthf7glu                      j                  j   \n4            10m3hddcaACP                      j                  j   \n\n                              description_metabolite  \\\n0  Human Metabolome Database (HMDB): 10-Formyltet...   \n1                                                  j   \n2                                                  j   \n3                                                  j   \n4                                                  j   \n\n                  fullname_metabolite hmdb_metabolite inchikey_metabolite  \\\n0           10-Formyltetrahydrofolate     HMDB0000972                   j   \n1  10-Formyltetrahydrofolate-[Glu](5)               j                   j   \n2  10-Formyltetrahydrofolate-[Glu](6)               j                   j   \n3  10-Formyltetrahydrofolate-[Glu](7)               j                   j   \n4  10-methyl-3-hydroxy-dodecanoyl-ACP               j                   j   \n\n  inchistring_metabolite keggid_metabolite biocyc_metabolite  \\\n0                      j            C00234     10-FORMYL-THF   \n1                      j                 j                 j   \n2                      j                 j                 j   \n3                      j                 j                 j   \n4                      j                 j                 j   \n\n  food_db_metabolite reconmap3_metabolite  \\\n0          FDB022345               10fthf   \n1                  j           10fthf5glu   \n2                  j           10fthf6glu   \n3                  j           10fthf7glu   \n4                  j                    j   \n\n                                    smile_metabolite  \\\n0  [H]OC1=NC(=NC2=C1N([H])C([H])(C([H])([H])N(C([...   \n1  [H]OC1=NC(=N[H])N([H])C2=C1N([H])C([H])(C([H])...   \n2  [H]OC(=O)C([H])(N=C([O-])C([H])([H])C([H])([H]...   \n3  [H]OC1=NC(=N[H])N([H])C2=C1N([H])C([H])(C([H])...   \n4                                                  j   \n\n                                 synonyms_metabolite  \\\n0  10-Formyl-THF***10-Formyltetrahydrofolic acid*...   \n1                                                  j   \n2                                                  j   \n3                                                  j   \n4                                                  j   \n\n           inchiKey_metabolite  \\\n0  AUFGTPPARQZWDO-YUZLPWPTSA-L   \n1  RGSLBOWMZCMTRA-UHFFFAOYSA-H   \n2  SFFBEUFYOPMKMV-CWMPVMSNSA-G   \n3  VTHHVZBTNSHUDD-UHFFFAOYSA-F   \n4                            j   \n\n                              inchiString_metabolite  \n0  InChI=1S/C20H23N7O7/c21-20-25-16-15(18(32)26-2...  \n1  InChI=1S/C40H51N11O19/c41-40-49-32-31(37(66)50...  \n2  InChI=1S/C45H58N12O22/c46-45-55-36-35(38(67)56...  \n3  InChI=1S/C50H65N13O25/c51-50-61-40-39(47(84)62...  \n4                                                  j  ",
      "text/html": "<div>\n<style scoped>\n    .dataframe tbody tr th:only-of-type {\n        vertical-align: middle;\n    }\n\n    .dataframe tbody tr th {\n        vertical-align: top;\n    }\n\n    .dataframe thead th {\n        text-align: right;\n    }\n</style>\n<table border=\"1\" class=\"dataframe\">\n  <thead>\n    <tr style=\"text-align: right;\">\n      <th></th>\n      <th>abbreviation_metabolite</th>\n      <th>casregistry_metabolite</th>\n      <th>cheblid_metabolite</th>\n      <th>description_metabolite</th>\n      <th>fullname_metabolite</th>\n      <th>hmdb_metabolite</th>\n      <th>inchikey_metabolite</th>\n      <th>inchistring_metabolite</th>\n      <th>keggid_metabolite</th>\n      <th>biocyc_metabolite</th>\n      <th>food_db_metabolite</th>\n      <th>reconmap3_metabolite</th>\n      <th>smile_metabolite</th>\n      <th>synonyms_metabolite</th>\n      <th>inchiKey_metabolite</th>\n      <th>inchiString_metabolite</th>\n    </tr>\n  </thead>\n  <tbody>\n    <tr>\n      <th>0</th>\n      <td>10fthf</td>\n      <td>2800-34-2</td>\n      <td>15637.0</td>\n      <td>Human Metabolome Database (HMDB): 10-Formyltet...</td>\n      <td>10-Formyltetrahydrofolate</td>\n      <td>HMDB0000972</td>\n      <td>j</td>\n      <td>j</td>\n      <td>C00234</td>\n      <td>10-FORMYL-THF</td>\n      <td>FDB022345</td>\n      <td>10fthf</td>\n      <td>[H]OC1=NC(=NC2=C1N([H])C([H])(C([H])([H])N(C([...</td>\n      <td>10-Formyl-THF***10-Formyltetrahydrofolic acid*...</td>\n      <td>AUFGTPPARQZWDO-YUZLPWPTSA-L</td>\n      <td>InChI=1S/C20H23N7O7/c21-20-25-16-15(18(32)26-2...</td>\n    </tr>\n    <tr>\n      <th>1</th>\n      <td>10fthf5glu</td>\n      <td>j</td>\n      <td>j</td>\n      <td>j</td>\n      <td>10-Formyltetrahydrofolate-[Glu](5)</td>\n      <td>j</td>\n      <td>j</td>\n      <td>j</td>\n      <td>j</td>\n      <td>j</td>\n      <td>j</td>\n      <td>10fthf5glu</td>\n      <td>[H]OC1=NC(=N[H])N([H])C2=C1N([H])C([H])(C([H])...</td>\n      <td>j</td>\n      <td>RGSLBOWMZCMTRA-UHFFFAOYSA-H</td>\n      <td>InChI=1S/C40H51N11O19/c41-40-49-32-31(37(66)50...</td>\n    </tr>\n    <tr>\n      <th>2</th>\n      <td>10fthf6glu</td>\n      <td>j</td>\n      <td>j</td>\n      <td>j</td>\n      <td>10-Formyltetrahydrofolate-[Glu](6)</td>\n      <td>j</td>\n      <td>j</td>\n      <td>j</td>\n      <td>j</td>\n      <td>j</td>\n      <td>j</td>\n      <td>10fthf6glu</td>\n      <td>[H]OC(=O)C([H])(N=C([O-])C([H])([H])C([H])([H]...</td>\n      <td>j</td>\n      <td>SFFBEUFYOPMKMV-CWMPVMSNSA-G</td>\n      <td>InChI=1S/C45H58N12O22/c46-45-55-36-35(38(67)56...</td>\n    </tr>\n    <tr>\n      <th>3</th>\n      <td>10fthf7glu</td>\n      <td>j</td>\n      <td>j</td>\n      <td>j</td>\n      <td>10-Formyltetrahydrofolate-[Glu](7)</td>\n      <td>j</td>\n      <td>j</td>\n      <td>j</td>\n      <td>j</td>\n      <td>j</td>\n      <td>j</td>\n      <td>10fthf7glu</td>\n      <td>[H]OC1=NC(=N[H])N([H])C2=C1N([H])C([H])(C([H])...</td>\n      <td>j</td>\n      <td>VTHHVZBTNSHUDD-UHFFFAOYSA-F</td>\n      <td>InChI=1S/C50H65N13O25/c51-50-61-40-39(47(84)62...</td>\n    </tr>\n    <tr>\n      <th>4</th>\n      <td>10m3hddcaACP</td>\n      <td>j</td>\n      <td>j</td>\n      <td>j</td>\n      <td>10-methyl-3-hydroxy-dodecanoyl-ACP</td>\n      <td>j</td>\n      <td>j</td>\n      <td>j</td>\n      <td>j</td>\n      <td>j</td>\n      <td>j</td>\n      <td>j</td>\n      <td>j</td>\n      <td>j</td>\n      <td>j</td>\n      <td>j</td>\n    </tr>\n  </tbody>\n</table>\n</div>"
     },
     "execution_count": 39,
     "metadata": {},
     "output_type": "execute_result"
    }
   ],
   "source": [
    "metabo_syn_j.head()"
   ],
   "metadata": {
    "collapsed": false
   }
  },
  {
   "cell_type": "code",
   "execution_count": 40,
   "outputs": [],
   "source": [
    "metabo_syn_cheb = chebi_c.merge(metabo_syn_j,left_on='name_y',right_on='synonyms_metabolite',how='inner')"
   ],
   "metadata": {
    "collapsed": false
   }
  },
  {
   "cell_type": "code",
   "execution_count": 52,
   "outputs": [
    {
     "name": "stdout",
     "output_type": "stream",
     "text": [
      "<class 'pandas.core.frame.DataFrame'>\n",
      "Int64Index: 12 entries, 0 to 11\n",
      "Data columns (total 26 columns):\n",
      " #   Column                   Non-Null Count  Dtype \n",
      "---  ------                   --------------  ----- \n",
      " 0   CHEBI_ID                 12 non-null     int64 \n",
      " 1   InChI                    12 non-null     object\n",
      " 2   SOURCE                   12 non-null     object\n",
      " 3   name_x                   12 non-null     object\n",
      " 4   definition               12 non-null     object\n",
      " 5   created_by               12 non-null     object\n",
      " 6   id                       12 non-null     int64 \n",
      " 7   type                     12 non-null     object\n",
      " 8   source                   12 non-null     object\n",
      " 9   name_y                   12 non-null     object\n",
      " 10  abbreviation_metabolite  12 non-null     object\n",
      " 11  casregistry_metabolite   12 non-null     object\n",
      " 12  cheblid_metabolite       12 non-null     object\n",
      " 13  description_metabolite   12 non-null     object\n",
      " 14  fullname_metabolite      12 non-null     object\n",
      " 15  hmdb_metabolite          12 non-null     object\n",
      " 16  inchikey_metabolite      12 non-null     object\n",
      " 17  inchistring_metabolite   12 non-null     object\n",
      " 18  keggid_metabolite        12 non-null     object\n",
      " 19  biocyc_metabolite        12 non-null     object\n",
      " 20  food_db_metabolite       12 non-null     object\n",
      " 21  reconmap3_metabolite     12 non-null     object\n",
      " 22  smile_metabolite         12 non-null     object\n",
      " 23  synonyms_metabolite      12 non-null     object\n",
      " 24  inchiKey_metabolite      12 non-null     object\n",
      " 25  inchiString_metabolite   12 non-null     object\n",
      "dtypes: int64(2), object(24)\n",
      "memory usage: 2.5+ KB\n"
     ]
    }
   ],
   "source": [
    "metabo_syn_cheb.info()\n",
    "metabo_syn_cheb.to_csv('metabo_syn_cheb.csv',index_label=False)"
   ],
   "metadata": {
    "collapsed": false
   }
  },
  {
   "cell_type": "code",
   "execution_count": 42,
   "outputs": [
    {
     "data": {
      "text/plain": "  abbreviation_metabolite casregistry_metabolite cheblid_metabolite  \\\n0                  10fthf              2800-34-2            15637.0   \n1              10fthf5glu                      b                  b   \n2              10fthf6glu                      b                  b   \n3              10fthf7glu                      b                  b   \n4            10m3hddcaACP                      b                  b   \n\n                              description_metabolite  \\\n0  Human Metabolome Database (HMDB): 10-Formyltet...   \n1                                                  b   \n2                                                  b   \n3                                                  b   \n4                                                  b   \n\n                  fullname_metabolite hmdb_metabolite inchikey_metabolite  \\\n0           10-Formyltetrahydrofolate     HMDB0000972                   b   \n1  10-Formyltetrahydrofolate-[Glu](5)               b                   b   \n2  10-Formyltetrahydrofolate-[Glu](6)               b                   b   \n3  10-Formyltetrahydrofolate-[Glu](7)               b                   b   \n4  10-methyl-3-hydroxy-dodecanoyl-ACP               b                   b   \n\n  inchistring_metabolite keggid_metabolite biocyc_metabolite  \\\n0                      b            C00234     10-FORMYL-THF   \n1                      b                 b                 b   \n2                      b                 b                 b   \n3                      b                 b                 b   \n4                      b                 b                 b   \n\n  food_db_metabolite reconmap3_metabolite  \\\n0          FDB022345               10fthf   \n1                  b           10fthf5glu   \n2                  b           10fthf6glu   \n3                  b           10fthf7glu   \n4                  b                    b   \n\n                                    smile_metabolite  \\\n0  [H]OC1=NC(=NC2=C1N([H])C([H])(C([H])([H])N(C([...   \n1  [H]OC1=NC(=N[H])N([H])C2=C1N([H])C([H])(C([H])...   \n2  [H]OC(=O)C([H])(N=C([O-])C([H])([H])C([H])([H]...   \n3  [H]OC1=NC(=N[H])N([H])C2=C1N([H])C([H])(C([H])...   \n4                                                  b   \n\n           inchiKey_metabolite  \\\n0  AUFGTPPARQZWDO-YUZLPWPTSA-L   \n1  RGSLBOWMZCMTRA-UHFFFAOYSA-H   \n2  SFFBEUFYOPMKMV-CWMPVMSNSA-G   \n3  VTHHVZBTNSHUDD-UHFFFAOYSA-F   \n4                            b   \n\n                              inchiString_metabolite  \n0  InChI=1S/C20H23N7O7/c21-20-25-16-15(18(32)26-2...  \n1  InChI=1S/C40H51N11O19/c41-40-49-32-31(37(66)50...  \n2  InChI=1S/C45H58N12O22/c46-45-55-36-35(38(67)56...  \n3  InChI=1S/C50H65N13O25/c51-50-61-40-39(47(84)62...  \n4                                                  b  ",
      "text/html": "<div>\n<style scoped>\n    .dataframe tbody tr th:only-of-type {\n        vertical-align: middle;\n    }\n\n    .dataframe tbody tr th {\n        vertical-align: top;\n    }\n\n    .dataframe thead th {\n        text-align: right;\n    }\n</style>\n<table border=\"1\" class=\"dataframe\">\n  <thead>\n    <tr style=\"text-align: right;\">\n      <th></th>\n      <th>abbreviation_metabolite</th>\n      <th>casregistry_metabolite</th>\n      <th>cheblid_metabolite</th>\n      <th>description_metabolite</th>\n      <th>fullname_metabolite</th>\n      <th>hmdb_metabolite</th>\n      <th>inchikey_metabolite</th>\n      <th>inchistring_metabolite</th>\n      <th>keggid_metabolite</th>\n      <th>biocyc_metabolite</th>\n      <th>food_db_metabolite</th>\n      <th>reconmap3_metabolite</th>\n      <th>smile_metabolite</th>\n      <th>inchiKey_metabolite</th>\n      <th>inchiString_metabolite</th>\n    </tr>\n  </thead>\n  <tbody>\n    <tr>\n      <th>0</th>\n      <td>10fthf</td>\n      <td>2800-34-2</td>\n      <td>15637.0</td>\n      <td>Human Metabolome Database (HMDB): 10-Formyltet...</td>\n      <td>10-Formyltetrahydrofolate</td>\n      <td>HMDB0000972</td>\n      <td>b</td>\n      <td>b</td>\n      <td>C00234</td>\n      <td>10-FORMYL-THF</td>\n      <td>FDB022345</td>\n      <td>10fthf</td>\n      <td>[H]OC1=NC(=NC2=C1N([H])C([H])(C([H])([H])N(C([...</td>\n      <td>AUFGTPPARQZWDO-YUZLPWPTSA-L</td>\n      <td>InChI=1S/C20H23N7O7/c21-20-25-16-15(18(32)26-2...</td>\n    </tr>\n    <tr>\n      <th>1</th>\n      <td>10fthf5glu</td>\n      <td>b</td>\n      <td>b</td>\n      <td>b</td>\n      <td>10-Formyltetrahydrofolate-[Glu](5)</td>\n      <td>b</td>\n      <td>b</td>\n      <td>b</td>\n      <td>b</td>\n      <td>b</td>\n      <td>b</td>\n      <td>10fthf5glu</td>\n      <td>[H]OC1=NC(=N[H])N([H])C2=C1N([H])C([H])(C([H])...</td>\n      <td>RGSLBOWMZCMTRA-UHFFFAOYSA-H</td>\n      <td>InChI=1S/C40H51N11O19/c41-40-49-32-31(37(66)50...</td>\n    </tr>\n    <tr>\n      <th>2</th>\n      <td>10fthf6glu</td>\n      <td>b</td>\n      <td>b</td>\n      <td>b</td>\n      <td>10-Formyltetrahydrofolate-[Glu](6)</td>\n      <td>b</td>\n      <td>b</td>\n      <td>b</td>\n      <td>b</td>\n      <td>b</td>\n      <td>b</td>\n      <td>10fthf6glu</td>\n      <td>[H]OC(=O)C([H])(N=C([O-])C([H])([H])C([H])([H]...</td>\n      <td>SFFBEUFYOPMKMV-CWMPVMSNSA-G</td>\n      <td>InChI=1S/C45H58N12O22/c46-45-55-36-35(38(67)56...</td>\n    </tr>\n    <tr>\n      <th>3</th>\n      <td>10fthf7glu</td>\n      <td>b</td>\n      <td>b</td>\n      <td>b</td>\n      <td>10-Formyltetrahydrofolate-[Glu](7)</td>\n      <td>b</td>\n      <td>b</td>\n      <td>b</td>\n      <td>b</td>\n      <td>b</td>\n      <td>b</td>\n      <td>10fthf7glu</td>\n      <td>[H]OC1=NC(=N[H])N([H])C2=C1N([H])C([H])(C([H])...</td>\n      <td>VTHHVZBTNSHUDD-UHFFFAOYSA-F</td>\n      <td>InChI=1S/C50H65N13O25/c51-50-61-40-39(47(84)62...</td>\n    </tr>\n    <tr>\n      <th>4</th>\n      <td>10m3hddcaACP</td>\n      <td>b</td>\n      <td>b</td>\n      <td>b</td>\n      <td>10-methyl-3-hydroxy-dodecanoyl-ACP</td>\n      <td>b</td>\n      <td>b</td>\n      <td>b</td>\n      <td>b</td>\n      <td>b</td>\n      <td>b</td>\n      <td>b</td>\n      <td>b</td>\n      <td>b</td>\n      <td>b</td>\n    </tr>\n  </tbody>\n</table>\n</div>"
     },
     "execution_count": 42,
     "metadata": {},
     "output_type": "execute_result"
    }
   ],
   "source": [
    "metabo_b.head()"
   ],
   "metadata": {
    "collapsed": false
   }
  },
  {
   "cell_type": "code",
   "execution_count": 43,
   "outputs": [
    {
     "data": {
      "text/plain": "  chebi_accession         SOURCE          name  \\\n0      CHEBI:4798  KEGG COMPOUND    entacapone   \n1      CHEBI:2341  KEGG COMPOUND       AACOCF3   \n2      CHEBI:3223  KEGG COMPOUND     buspirone   \n3      CHEBI:8028  KEGG COMPOUND  perphenazine   \n4      CHEBI:3423  KEGG COMPOUND    carmustine   \n\n                                          definition  \\\n0  A monocarboxylic acid amide that is N,N-diethy...   \n1  A fatty acid derivative that is arachidonic ac...   \n2  An azaspiro compound that is 8-azaspiro[4.5]de...   \n3  A phenothiazine derivative in which the phenot...   \n4  A member of the class of N-nitrosoureas that i...   \n\n                                               InChI  \n0  InChI=1S/C14H15N3O5/c1-3-16(4-2)14(20)10(8-15)...  \n1  InChI=1S/C21H31F3O/c1-2-3-4-5-6-7-8-9-10-11-12...  \n2  InChI=1S/C21H31N5O2/c27-18-16-21(6-1-2-7-21)17...  \n3  InChI=1S/C21H26ClN3OS/c22-17-6-7-21-19(16-17)2...  \n4  InChI=1S/C5H9Cl2N3O2/c6-1-3-8-5(11)10(9-12)4-2...  ",
      "text/html": "<div>\n<style scoped>\n    .dataframe tbody tr th:only-of-type {\n        vertical-align: middle;\n    }\n\n    .dataframe tbody tr th {\n        vertical-align: top;\n    }\n\n    .dataframe thead th {\n        text-align: right;\n    }\n</style>\n<table border=\"1\" class=\"dataframe\">\n  <thead>\n    <tr style=\"text-align: right;\">\n      <th></th>\n      <th>chebi_accession</th>\n      <th>SOURCE</th>\n      <th>name</th>\n      <th>definition</th>\n      <th>InChI</th>\n    </tr>\n  </thead>\n  <tbody>\n    <tr>\n      <th>0</th>\n      <td>CHEBI:4798</td>\n      <td>KEGG COMPOUND</td>\n      <td>entacapone</td>\n      <td>A monocarboxylic acid amide that is N,N-diethy...</td>\n      <td>InChI=1S/C14H15N3O5/c1-3-16(4-2)14(20)10(8-15)...</td>\n    </tr>\n    <tr>\n      <th>1</th>\n      <td>CHEBI:2341</td>\n      <td>KEGG COMPOUND</td>\n      <td>AACOCF3</td>\n      <td>A fatty acid derivative that is arachidonic ac...</td>\n      <td>InChI=1S/C21H31F3O/c1-2-3-4-5-6-7-8-9-10-11-12...</td>\n    </tr>\n    <tr>\n      <th>2</th>\n      <td>CHEBI:3223</td>\n      <td>KEGG COMPOUND</td>\n      <td>buspirone</td>\n      <td>An azaspiro compound that is 8-azaspiro[4.5]de...</td>\n      <td>InChI=1S/C21H31N5O2/c27-18-16-21(6-1-2-7-21)17...</td>\n    </tr>\n    <tr>\n      <th>3</th>\n      <td>CHEBI:8028</td>\n      <td>KEGG COMPOUND</td>\n      <td>perphenazine</td>\n      <td>A phenothiazine derivative in which the phenot...</td>\n      <td>InChI=1S/C21H26ClN3OS/c22-17-6-7-21-19(16-17)2...</td>\n    </tr>\n    <tr>\n      <th>4</th>\n      <td>CHEBI:3423</td>\n      <td>KEGG COMPOUND</td>\n      <td>carmustine</td>\n      <td>A member of the class of N-nitrosoureas that i...</td>\n      <td>InChI=1S/C5H9Cl2N3O2/c6-1-3-8-5(11)10(9-12)4-2...</td>\n    </tr>\n  </tbody>\n</table>\n</div>"
     },
     "execution_count": 43,
     "metadata": {},
     "output_type": "execute_result"
    }
   ],
   "source": [
    "compounds_chebi_y.head()"
   ],
   "metadata": {
    "collapsed": false
   }
  },
  {
   "cell_type": "code",
   "execution_count": 44,
   "outputs": [],
   "source": [
    "metabo_chebi_inchi = metabo_b.merge(compounds_chebi_y,left_on='inchiString_metabolite',right_on='InChI',how='inner')"
   ],
   "metadata": {
    "collapsed": false
   }
  },
  {
   "cell_type": "code",
   "execution_count": 47,
   "outputs": [
    {
     "name": "stdout",
     "output_type": "stream",
     "text": [
      "<class 'pandas.core.frame.DataFrame'>\n",
      "Int64Index: 1475 entries, 0 to 1474\n",
      "Data columns (total 20 columns):\n",
      " #   Column                   Non-Null Count  Dtype \n",
      "---  ------                   --------------  ----- \n",
      " 0   abbreviation_metabolite  1475 non-null   object\n",
      " 1   casregistry_metabolite   1475 non-null   object\n",
      " 2   cheblid_metabolite       1475 non-null   object\n",
      " 3   description_metabolite   1475 non-null   object\n",
      " 4   fullname_metabolite      1475 non-null   object\n",
      " 5   hmdb_metabolite          1475 non-null   object\n",
      " 6   inchikey_metabolite      1475 non-null   object\n",
      " 7   inchistring_metabolite   1475 non-null   object\n",
      " 8   keggid_metabolite        1475 non-null   object\n",
      " 9   biocyc_metabolite        1475 non-null   object\n",
      " 10  food_db_metabolite       1475 non-null   object\n",
      " 11  reconmap3_metabolite     1475 non-null   object\n",
      " 12  smile_metabolite         1475 non-null   object\n",
      " 13  inchiKey_metabolite      1475 non-null   object\n",
      " 14  inchiString_metabolite   1475 non-null   object\n",
      " 15  chebi_accession          1475 non-null   object\n",
      " 16  SOURCE                   1475 non-null   object\n",
      " 17  name                     1475 non-null   object\n",
      " 18  definition               1475 non-null   object\n",
      " 19  InChI                    1475 non-null   object\n",
      "dtypes: object(20)\n",
      "memory usage: 242.0+ KB\n"
     ]
    }
   ],
   "source": [
    "metabo_chebi_inchi.info()\n",
    "metabo_chebi_inchi.to_csv('metabo_chebi_inchi.csv',index_label=False)"
   ],
   "metadata": {
    "collapsed": false
   }
  },
  {
   "cell_type": "code",
   "execution_count": 46,
   "outputs": [
    {
     "data": {
      "text/plain": "  abbreviation_metabolite casregistry_metabolite cheblid_metabolite  \\\n0               11docrtsl               152-58-9                  b   \n1             11docrtstrn                64-85-7            16973.0   \n2                 12ppd_R                57-55-6            16997.0   \n3                 12ppd_S              4254-15-3            29002.0   \n4                 13dampp               109-76-2            15725.0   \n\n                              description_metabolite   fullname_metabolite  \\\n0  Human Metabolome Database (HMDB): Cortexolone ...           Cortexolone   \n1  Human Metabolome Database (HMDB): 11-Deoxycort...   Deoxycorticosterone   \n2  Human Metabolome Database (HMDB): Propylene gl...      Propylene glycol   \n3  Human Metabolome Database (HMDB): (S)-Propane-...  (S)-Propane-1,2-diol   \n4  Human Metabolome Database (HMDB): 1,3-Diaminop...    1,3-Diaminopropane   \n\n  hmdb_metabolite inchikey_metabolite inchistring_metabolite  \\\n0     HMDB0000015                   b                      b   \n1     HMDB0000016                   b                      b   \n2     HMDB0001881                   b                      b   \n3     HMDB0006213                   b                      b   \n4     HMDB0000002                   b                      b   \n\n  keggid_metabolite             biocyc_metabolite food_db_metabolite  \\\n0            C05488             11-DEOXY-CORTISOL          FDB021872   \n1            C03205        11-DEOXYCORTICOSTERONE          FDB021873   \n2            C00583              PROPANE-1,2-DIOL          FDB008274   \n3            C02917  --TRANS-ACENAPHTHENE-12-DIOL          FDB023838   \n4            C00986                       CPD-313          FDB005274   \n\n  reconmap3_metabolite                                   smile_metabolite  \\\n0            11docrtsl  [H]OC([H])([H])C(=O)[C@@]1(O[H])C([H])([H])C([...   \n1          11docrtstrn  [H]OC([H])([H])C(=O)[C@@]1([H])C([H])([H])C([H...   \n2              12ppd_R          [H]OC([H])([H])C([H])(O[H])C([H])([H])[H]   \n3              12ppd_S      [H]OC([H])([H])[C@@]([H])(O[H])C([H])([H])[H]   \n4              13dampp  [H][N+]([H])([H])C([H])([H])C([H])([H])C([H])(...   \n\n           inchiKey_metabolite  \\\n0  WHBHBVVOGNECLV-OBQKJFGGSA-N   \n1  ZESRJSPZRDMNHY-YFWFAHHUSA-N   \n2  DNIAPMSPPWPWGF-UHFFFAOYSA-N   \n3  DNIAPMSPPWPWGF-VKHMYHEASA-N   \n4  XFNJVJPLKCPIBV-UHFFFAOYSA-P   \n\n                              inchiString_metabolite chebi_accession SOURCE  \\\n0  InChI=1S/C21H30O4/c1-19-8-5-14(23)11-13(19)3-4...     CHEBI:28324  ChEBI   \n1  InChI=1S/C21H30O3/c1-20-9-7-14(23)11-13(20)3-4...     CHEBI:16973  ChEBI   \n2           InChI=1S/C3H8O2/c1-3(5)2-4/h3-5H,2H2,1H3     CHEBI:16997  ChEBI   \n3  InChI=1S/C3H8O2/c1-3(5)2-4/h3-5H,2H2,1H3/t3-/m...     CHEBI:29002  ChEBI   \n4             InChI=1S/C3H10N2/c4-2-1-3-5/h1-5H2/p+2     CHEBI:57484   Rhea   \n\n                     name                                         definition  \\\n0        11-deoxycortisol  A deoxycortisol that is cortisol in which the ...   \n1  11-deoxycorticosterone  A mineralocorticoid that is progesterone subst...   \n2        propane-1,2-diol  The simplest member of the class of propane-1,...   \n3    (S)-propane-1,2-diol                                                  y   \n4   trimethylenediaminium  An alkane-alpha,omega-diammonium(2+) that is t...   \n\n                                               InChI  \n0  InChI=1S/C21H30O4/c1-19-8-5-14(23)11-13(19)3-4...  \n1  InChI=1S/C21H30O3/c1-20-9-7-14(23)11-13(20)3-4...  \n2           InChI=1S/C3H8O2/c1-3(5)2-4/h3-5H,2H2,1H3  \n3  InChI=1S/C3H8O2/c1-3(5)2-4/h3-5H,2H2,1H3/t3-/m...  \n4             InChI=1S/C3H10N2/c4-2-1-3-5/h1-5H2/p+2  ",
      "text/html": "<div>\n<style scoped>\n    .dataframe tbody tr th:only-of-type {\n        vertical-align: middle;\n    }\n\n    .dataframe tbody tr th {\n        vertical-align: top;\n    }\n\n    .dataframe thead th {\n        text-align: right;\n    }\n</style>\n<table border=\"1\" class=\"dataframe\">\n  <thead>\n    <tr style=\"text-align: right;\">\n      <th></th>\n      <th>abbreviation_metabolite</th>\n      <th>casregistry_metabolite</th>\n      <th>cheblid_metabolite</th>\n      <th>description_metabolite</th>\n      <th>fullname_metabolite</th>\n      <th>hmdb_metabolite</th>\n      <th>inchikey_metabolite</th>\n      <th>inchistring_metabolite</th>\n      <th>keggid_metabolite</th>\n      <th>biocyc_metabolite</th>\n      <th>food_db_metabolite</th>\n      <th>reconmap3_metabolite</th>\n      <th>smile_metabolite</th>\n      <th>inchiKey_metabolite</th>\n      <th>inchiString_metabolite</th>\n      <th>chebi_accession</th>\n      <th>SOURCE</th>\n      <th>name</th>\n      <th>definition</th>\n      <th>InChI</th>\n    </tr>\n  </thead>\n  <tbody>\n    <tr>\n      <th>0</th>\n      <td>11docrtsl</td>\n      <td>152-58-9</td>\n      <td>b</td>\n      <td>Human Metabolome Database (HMDB): Cortexolone ...</td>\n      <td>Cortexolone</td>\n      <td>HMDB0000015</td>\n      <td>b</td>\n      <td>b</td>\n      <td>C05488</td>\n      <td>11-DEOXY-CORTISOL</td>\n      <td>FDB021872</td>\n      <td>11docrtsl</td>\n      <td>[H]OC([H])([H])C(=O)[C@@]1(O[H])C([H])([H])C([...</td>\n      <td>WHBHBVVOGNECLV-OBQKJFGGSA-N</td>\n      <td>InChI=1S/C21H30O4/c1-19-8-5-14(23)11-13(19)3-4...</td>\n      <td>CHEBI:28324</td>\n      <td>ChEBI</td>\n      <td>11-deoxycortisol</td>\n      <td>A deoxycortisol that is cortisol in which the ...</td>\n      <td>InChI=1S/C21H30O4/c1-19-8-5-14(23)11-13(19)3-4...</td>\n    </tr>\n    <tr>\n      <th>1</th>\n      <td>11docrtstrn</td>\n      <td>64-85-7</td>\n      <td>16973.0</td>\n      <td>Human Metabolome Database (HMDB): 11-Deoxycort...</td>\n      <td>Deoxycorticosterone</td>\n      <td>HMDB0000016</td>\n      <td>b</td>\n      <td>b</td>\n      <td>C03205</td>\n      <td>11-DEOXYCORTICOSTERONE</td>\n      <td>FDB021873</td>\n      <td>11docrtstrn</td>\n      <td>[H]OC([H])([H])C(=O)[C@@]1([H])C([H])([H])C([H...</td>\n      <td>ZESRJSPZRDMNHY-YFWFAHHUSA-N</td>\n      <td>InChI=1S/C21H30O3/c1-20-9-7-14(23)11-13(20)3-4...</td>\n      <td>CHEBI:16973</td>\n      <td>ChEBI</td>\n      <td>11-deoxycorticosterone</td>\n      <td>A mineralocorticoid that is progesterone subst...</td>\n      <td>InChI=1S/C21H30O3/c1-20-9-7-14(23)11-13(20)3-4...</td>\n    </tr>\n    <tr>\n      <th>2</th>\n      <td>12ppd_R</td>\n      <td>57-55-6</td>\n      <td>16997.0</td>\n      <td>Human Metabolome Database (HMDB): Propylene gl...</td>\n      <td>Propylene glycol</td>\n      <td>HMDB0001881</td>\n      <td>b</td>\n      <td>b</td>\n      <td>C00583</td>\n      <td>PROPANE-1,2-DIOL</td>\n      <td>FDB008274</td>\n      <td>12ppd_R</td>\n      <td>[H]OC([H])([H])C([H])(O[H])C([H])([H])[H]</td>\n      <td>DNIAPMSPPWPWGF-UHFFFAOYSA-N</td>\n      <td>InChI=1S/C3H8O2/c1-3(5)2-4/h3-5H,2H2,1H3</td>\n      <td>CHEBI:16997</td>\n      <td>ChEBI</td>\n      <td>propane-1,2-diol</td>\n      <td>The simplest member of the class of propane-1,...</td>\n      <td>InChI=1S/C3H8O2/c1-3(5)2-4/h3-5H,2H2,1H3</td>\n    </tr>\n    <tr>\n      <th>3</th>\n      <td>12ppd_S</td>\n      <td>4254-15-3</td>\n      <td>29002.0</td>\n      <td>Human Metabolome Database (HMDB): (S)-Propane-...</td>\n      <td>(S)-Propane-1,2-diol</td>\n      <td>HMDB0006213</td>\n      <td>b</td>\n      <td>b</td>\n      <td>C02917</td>\n      <td>--TRANS-ACENAPHTHENE-12-DIOL</td>\n      <td>FDB023838</td>\n      <td>12ppd_S</td>\n      <td>[H]OC([H])([H])[C@@]([H])(O[H])C([H])([H])[H]</td>\n      <td>DNIAPMSPPWPWGF-VKHMYHEASA-N</td>\n      <td>InChI=1S/C3H8O2/c1-3(5)2-4/h3-5H,2H2,1H3/t3-/m...</td>\n      <td>CHEBI:29002</td>\n      <td>ChEBI</td>\n      <td>(S)-propane-1,2-diol</td>\n      <td>y</td>\n      <td>InChI=1S/C3H8O2/c1-3(5)2-4/h3-5H,2H2,1H3/t3-/m...</td>\n    </tr>\n    <tr>\n      <th>4</th>\n      <td>13dampp</td>\n      <td>109-76-2</td>\n      <td>15725.0</td>\n      <td>Human Metabolome Database (HMDB): 1,3-Diaminop...</td>\n      <td>1,3-Diaminopropane</td>\n      <td>HMDB0000002</td>\n      <td>b</td>\n      <td>b</td>\n      <td>C00986</td>\n      <td>CPD-313</td>\n      <td>FDB005274</td>\n      <td>13dampp</td>\n      <td>[H][N+]([H])([H])C([H])([H])C([H])([H])C([H])(...</td>\n      <td>XFNJVJPLKCPIBV-UHFFFAOYSA-P</td>\n      <td>InChI=1S/C3H10N2/c4-2-1-3-5/h1-5H2/p+2</td>\n      <td>CHEBI:57484</td>\n      <td>Rhea</td>\n      <td>trimethylenediaminium</td>\n      <td>An alkane-alpha,omega-diammonium(2+) that is t...</td>\n      <td>InChI=1S/C3H10N2/c4-2-1-3-5/h1-5H2/p+2</td>\n    </tr>\n  </tbody>\n</table>\n</div>"
     },
     "execution_count": 46,
     "metadata": {},
     "output_type": "execute_result"
    }
   ],
   "source": [
    "metabo_chebi_inchi.head()"
   ],
   "metadata": {
    "collapsed": false
   }
  },
  {
   "cell_type": "code",
   "execution_count": null,
   "outputs": [],
   "source": [],
   "metadata": {
    "collapsed": false
   }
  }
 ],
 "metadata": {
  "kernelspec": {
   "display_name": "Python 3",
   "language": "python",
   "name": "python3"
  },
  "language_info": {
   "codemirror_mode": {
    "name": "ipython",
    "version": 2
   },
   "file_extension": ".py",
   "mimetype": "text/x-python",
   "name": "python",
   "nbconvert_exporter": "python",
   "pygments_lexer": "ipython2",
   "version": "2.7.6"
  }
 },
 "nbformat": 4,
 "nbformat_minor": 0
}
