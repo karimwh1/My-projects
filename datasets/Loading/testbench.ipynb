{
 "cells": [
  {
   "cell_type": "code",
   "execution_count": 2,
   "metadata": {
    "collapsed": true
   },
   "outputs": [],
   "source": [
    "import json\n",
    "import pandas as pd\n",
    "import numpy as np\n"
   ]
  },
  {
   "cell_type": "code",
   "execution_count": 2,
   "outputs": [],
   "source": [
    "results = pd.read_csv(\"results_1.csv\")"
   ],
   "metadata": {
    "collapsed": false
   }
  },
  {
   "cell_type": "code",
   "execution_count": 3,
   "outputs": [
    {
     "data": {
      "text/plain": "   name      value normalConcentration rangeConcentration  \\\n0   NaN  Increased       180.00-740.00     550.00-1350.00   \n1   NaN  Increased      95.00 - 320.00           830-1360   \n2   NaN  Increased           65.00-215    210.00 - 650.00   \n3   NaN  Increased            25 - 150                NaN   \n4   NaN  Increased         10.00-38.00      56.00 -170.00   \n\n                        reference        ramedis  metabolite.met_id  \\\n0  PMID: 21325949, PMID: 24190799            NaN                345   \n1  PMID: 21325949, PMID: 24190799            NaN                928   \n2  PMID: 21325949, PMID: 24190799  125, 133, 337                984   \n3  PMID: 21325949, PMID: 24190799            NaN                370   \n4  PMID: 21325949, PMID: 24190799            NaN                523   \n\n  metabolite.abbreviation       metabolite.createdDate  \\\n0                     gly  2018-05-31T15:54:08.170242Z   \n1                   pro_L  2018-05-31T15:54:08.170242Z   \n2                   val_L  2018-05-31T15:54:08.170242Z   \n3                   thr_L  2018-05-31T15:54:08.170242Z   \n4                   met_L  2018-05-31T15:54:08.170242Z   \n\n        metabolite.updatedDate  ... iem.clingendosage iem.igsr1000genoms  \\\n0  2019-02-08T16:19:20.249793Z  ...               AMT    ENSG00000145020   \n1  2019-02-08T16:19:24.319269Z  ...               OAT    ENSG00000065154   \n2  2019-02-08T16:20:09.298635Z  ...               DLD    ENSG00000091140   \n3  2019-02-08T16:19:24.739968Z  ...          SLC25A13    ENSG00000004864   \n4  2019-02-08T16:19:58.629105Z  ...              AHCY    ENSG00000101444   \n\n  iem.gwascataloge iem.gwascentral  iem.geno2mp iem.clinvar  iem.lovd  \\\n0              AMT             AMT          AMT      238310       AMT   \n1              OAT             OAT          OAT      613349       OAT   \n2              DLD             DLD          DLD      238331       DLD   \n3         SLC25A13        SLC25A13     SLC25A13      603859  SLC25A13   \n4             AHCY            AHCY         AHCY      180960      AHCY   \n\n                           iem.malacard  iem.omim_symptons  \\\n0                glycine_encephalopathy           605899.0   \n1  gyrate_atrophy_of_choroid_and_retina           258870.0   \n2             maple_syrup_urine_disease           248600.0   \n3  citrullinemia_type_ii_neonatal_onset                NaN   \n4                    hypermethioninemia           613752.0   \n\n                                           iem.notes  \n0  About 80 percent of cases of glycine encephalo...  \n1  Decreased activity of ornithine-delta-aminotra...  \n2  In plasma increased levels of allo-isoleucine,...  \n3  Blood-elevated acetylcarnitine (C2), palmitoyl...  \n4  A deficiency of any of these enzymes (i.e. MAT...  \n\n[5 rows x 93 columns]",
      "text/html": "<div>\n<style scoped>\n    .dataframe tbody tr th:only-of-type {\n        vertical-align: middle;\n    }\n\n    .dataframe tbody tr th {\n        vertical-align: top;\n    }\n\n    .dataframe thead th {\n        text-align: right;\n    }\n</style>\n<table border=\"1\" class=\"dataframe\">\n  <thead>\n    <tr style=\"text-align: right;\">\n      <th></th>\n      <th>name</th>\n      <th>value</th>\n      <th>normalConcentration</th>\n      <th>rangeConcentration</th>\n      <th>reference</th>\n      <th>ramedis</th>\n      <th>metabolite.met_id</th>\n      <th>metabolite.abbreviation</th>\n      <th>metabolite.createdDate</th>\n      <th>metabolite.updatedDate</th>\n      <th>...</th>\n      <th>iem.clingendosage</th>\n      <th>iem.igsr1000genoms</th>\n      <th>iem.gwascataloge</th>\n      <th>iem.gwascentral</th>\n      <th>iem.geno2mp</th>\n      <th>iem.clinvar</th>\n      <th>iem.lovd</th>\n      <th>iem.malacard</th>\n      <th>iem.omim_symptons</th>\n      <th>iem.notes</th>\n    </tr>\n  </thead>\n  <tbody>\n    <tr>\n      <th>0</th>\n      <td>NaN</td>\n      <td>Increased</td>\n      <td>180.00-740.00</td>\n      <td>550.00-1350.00</td>\n      <td>PMID: 21325949, PMID: 24190799</td>\n      <td>NaN</td>\n      <td>345</td>\n      <td>gly</td>\n      <td>2018-05-31T15:54:08.170242Z</td>\n      <td>2019-02-08T16:19:20.249793Z</td>\n      <td>...</td>\n      <td>AMT</td>\n      <td>ENSG00000145020</td>\n      <td>AMT</td>\n      <td>AMT</td>\n      <td>AMT</td>\n      <td>238310</td>\n      <td>AMT</td>\n      <td>glycine_encephalopathy</td>\n      <td>605899.0</td>\n      <td>About 80 percent of cases of glycine encephalo...</td>\n    </tr>\n    <tr>\n      <th>1</th>\n      <td>NaN</td>\n      <td>Increased</td>\n      <td>95.00 - 320.00</td>\n      <td>830-1360</td>\n      <td>PMID: 21325949, PMID: 24190799</td>\n      <td>NaN</td>\n      <td>928</td>\n      <td>pro_L</td>\n      <td>2018-05-31T15:54:08.170242Z</td>\n      <td>2019-02-08T16:19:24.319269Z</td>\n      <td>...</td>\n      <td>OAT</td>\n      <td>ENSG00000065154</td>\n      <td>OAT</td>\n      <td>OAT</td>\n      <td>OAT</td>\n      <td>613349</td>\n      <td>OAT</td>\n      <td>gyrate_atrophy_of_choroid_and_retina</td>\n      <td>258870.0</td>\n      <td>Decreased activity of ornithine-delta-aminotra...</td>\n    </tr>\n    <tr>\n      <th>2</th>\n      <td>NaN</td>\n      <td>Increased</td>\n      <td>65.00-215</td>\n      <td>210.00 - 650.00</td>\n      <td>PMID: 21325949, PMID: 24190799</td>\n      <td>125, 133, 337</td>\n      <td>984</td>\n      <td>val_L</td>\n      <td>2018-05-31T15:54:08.170242Z</td>\n      <td>2019-02-08T16:20:09.298635Z</td>\n      <td>...</td>\n      <td>DLD</td>\n      <td>ENSG00000091140</td>\n      <td>DLD</td>\n      <td>DLD</td>\n      <td>DLD</td>\n      <td>238331</td>\n      <td>DLD</td>\n      <td>maple_syrup_urine_disease</td>\n      <td>248600.0</td>\n      <td>In plasma increased levels of allo-isoleucine,...</td>\n    </tr>\n    <tr>\n      <th>3</th>\n      <td>NaN</td>\n      <td>Increased</td>\n      <td>25 - 150</td>\n      <td>NaN</td>\n      <td>PMID: 21325949, PMID: 24190799</td>\n      <td>NaN</td>\n      <td>370</td>\n      <td>thr_L</td>\n      <td>2018-05-31T15:54:08.170242Z</td>\n      <td>2019-02-08T16:19:24.739968Z</td>\n      <td>...</td>\n      <td>SLC25A13</td>\n      <td>ENSG00000004864</td>\n      <td>SLC25A13</td>\n      <td>SLC25A13</td>\n      <td>SLC25A13</td>\n      <td>603859</td>\n      <td>SLC25A13</td>\n      <td>citrullinemia_type_ii_neonatal_onset</td>\n      <td>NaN</td>\n      <td>Blood-elevated acetylcarnitine (C2), palmitoyl...</td>\n    </tr>\n    <tr>\n      <th>4</th>\n      <td>NaN</td>\n      <td>Increased</td>\n      <td>10.00-38.00</td>\n      <td>56.00 -170.00</td>\n      <td>PMID: 21325949, PMID: 24190799</td>\n      <td>NaN</td>\n      <td>523</td>\n      <td>met_L</td>\n      <td>2018-05-31T15:54:08.170242Z</td>\n      <td>2019-02-08T16:19:58.629105Z</td>\n      <td>...</td>\n      <td>AHCY</td>\n      <td>ENSG00000101444</td>\n      <td>AHCY</td>\n      <td>AHCY</td>\n      <td>AHCY</td>\n      <td>180960</td>\n      <td>AHCY</td>\n      <td>hypermethioninemia</td>\n      <td>613752.0</td>\n      <td>A deficiency of any of these enzymes (i.e. MAT...</td>\n    </tr>\n  </tbody>\n</table>\n<p>5 rows × 93 columns</p>\n</div>"
     },
     "execution_count": 3,
     "metadata": {},
     "output_type": "execute_result"
    }
   ],
   "source": [
    "results.head()"
   ],
   "metadata": {
    "collapsed": false
   }
  },
  {
   "cell_type": "code",
   "execution_count": 8,
   "outputs": [
    {
     "data": {
      "text/plain": "                                          metabolite  \\\n0  {'met_id': 345, 'abbreviation': 'gly', 'create...   \n1  {'met_id': 928, 'abbreviation': 'pro_L', 'crea...   \n2  {'met_id': 984, 'abbreviation': 'val_L', 'crea...   \n3  {'met_id': 370, 'abbreviation': 'thr_L', 'crea...   \n4  {'met_id': 523, 'abbreviation': 'met_L', 'crea...   \n\n                                                 iem  name      value  \\\n0  {'createdDate': '2018-05-31T15:53:21.702280Z',...   NaN  Increased   \n1  {'createdDate': '2018-05-31T15:53:21.702280Z',...   NaN  Increased   \n2  {'createdDate': '2018-05-31T15:53:21.702280Z',...   NaN  Increased   \n3  {'createdDate': '2018-05-31T15:53:21.702280Z',...   NaN  Increased   \n4  {'createdDate': '2018-05-31T15:53:21.702280Z',...   NaN  Increased   \n\n  normalConcentration rangeConcentration                       reference  \\\n0       180.00-740.00     550.00-1350.00  PMID: 21325949, PMID: 24190799   \n1      95.00 - 320.00           830-1360  PMID: 21325949, PMID: 24190799   \n2           65.00-215    210.00 - 650.00  PMID: 21325949, PMID: 24190799   \n3            25 - 150                     PMID: 21325949, PMID: 24190799   \n4         10.00-38.00      56.00 -170.00  PMID: 21325949, PMID: 24190799   \n\n         ramedis  \n0                 \n1                 \n2  125, 133, 337  \n3                 \n4                 ",
      "text/html": "<div>\n<style scoped>\n    .dataframe tbody tr th:only-of-type {\n        vertical-align: middle;\n    }\n\n    .dataframe tbody tr th {\n        vertical-align: top;\n    }\n\n    .dataframe thead th {\n        text-align: right;\n    }\n</style>\n<table border=\"1\" class=\"dataframe\">\n  <thead>\n    <tr style=\"text-align: right;\">\n      <th></th>\n      <th>metabolite</th>\n      <th>iem</th>\n      <th>name</th>\n      <th>value</th>\n      <th>normalConcentration</th>\n      <th>rangeConcentration</th>\n      <th>reference</th>\n      <th>ramedis</th>\n    </tr>\n  </thead>\n  <tbody>\n    <tr>\n      <th>0</th>\n      <td>{'met_id': 345, 'abbreviation': 'gly', 'create...</td>\n      <td>{'createdDate': '2018-05-31T15:53:21.702280Z',...</td>\n      <td>NaN</td>\n      <td>Increased</td>\n      <td>180.00-740.00</td>\n      <td>550.00-1350.00</td>\n      <td>PMID: 21325949, PMID: 24190799</td>\n      <td></td>\n    </tr>\n    <tr>\n      <th>1</th>\n      <td>{'met_id': 928, 'abbreviation': 'pro_L', 'crea...</td>\n      <td>{'createdDate': '2018-05-31T15:53:21.702280Z',...</td>\n      <td>NaN</td>\n      <td>Increased</td>\n      <td>95.00 - 320.00</td>\n      <td>830-1360</td>\n      <td>PMID: 21325949, PMID: 24190799</td>\n      <td></td>\n    </tr>\n    <tr>\n      <th>2</th>\n      <td>{'met_id': 984, 'abbreviation': 'val_L', 'crea...</td>\n      <td>{'createdDate': '2018-05-31T15:53:21.702280Z',...</td>\n      <td>NaN</td>\n      <td>Increased</td>\n      <td>65.00-215</td>\n      <td>210.00 - 650.00</td>\n      <td>PMID: 21325949, PMID: 24190799</td>\n      <td>125, 133, 337</td>\n    </tr>\n    <tr>\n      <th>3</th>\n      <td>{'met_id': 370, 'abbreviation': 'thr_L', 'crea...</td>\n      <td>{'createdDate': '2018-05-31T15:53:21.702280Z',...</td>\n      <td>NaN</td>\n      <td>Increased</td>\n      <td>25 - 150</td>\n      <td></td>\n      <td>PMID: 21325949, PMID: 24190799</td>\n      <td></td>\n    </tr>\n    <tr>\n      <th>4</th>\n      <td>{'met_id': 523, 'abbreviation': 'met_L', 'crea...</td>\n      <td>{'createdDate': '2018-05-31T15:53:21.702280Z',...</td>\n      <td>NaN</td>\n      <td>Increased</td>\n      <td>10.00-38.00</td>\n      <td>56.00 -170.00</td>\n      <td>PMID: 21325949, PMID: 24190799</td>\n      <td></td>\n    </tr>\n  </tbody>\n</table>\n</div>"
     },
     "execution_count": 8,
     "metadata": {},
     "output_type": "execute_result"
    }
   ],
   "source": [
    "results.head()"
   ],
   "metadata": {
    "collapsed": false
   }
  },
  {
   "cell_type": "code",
   "execution_count": 3,
   "outputs": [
    {
     "ename": "FileNotFoundError",
     "evalue": "[Errno 2] No such file or directory: 'full_results.csv'",
     "output_type": "error",
     "traceback": [
      "\u001B[1;31m---------------------------------------------------------------------------\u001B[0m",
      "\u001B[1;31mFileNotFoundError\u001B[0m                         Traceback (most recent call last)",
      "Input \u001B[1;32mIn [3]\u001B[0m, in \u001B[0;36m<cell line: 1>\u001B[1;34m()\u001B[0m\n\u001B[1;32m----> 1\u001B[0m results_f \u001B[38;5;241m=\u001B[39m \u001B[43mpd\u001B[49m\u001B[38;5;241;43m.\u001B[39;49m\u001B[43mread_csv\u001B[49m\u001B[43m(\u001B[49m\u001B[38;5;124;43m'\u001B[39;49m\u001B[38;5;124;43mfull_results.csv\u001B[39;49m\u001B[38;5;124;43m'\u001B[39;49m\u001B[43m)\u001B[49m\n\u001B[0;32m      2\u001B[0m results_f\u001B[38;5;241m.\u001B[39mhead()\n",
      "File \u001B[1;32m~\\anaconda3\\envs\\Internship\\lib\\site-packages\\pandas\\util\\_decorators.py:311\u001B[0m, in \u001B[0;36mdeprecate_nonkeyword_arguments.<locals>.decorate.<locals>.wrapper\u001B[1;34m(*args, **kwargs)\u001B[0m\n\u001B[0;32m    305\u001B[0m \u001B[38;5;28;01mif\u001B[39;00m \u001B[38;5;28mlen\u001B[39m(args) \u001B[38;5;241m>\u001B[39m num_allow_args:\n\u001B[0;32m    306\u001B[0m     warnings\u001B[38;5;241m.\u001B[39mwarn(\n\u001B[0;32m    307\u001B[0m         msg\u001B[38;5;241m.\u001B[39mformat(arguments\u001B[38;5;241m=\u001B[39marguments),\n\u001B[0;32m    308\u001B[0m         \u001B[38;5;167;01mFutureWarning\u001B[39;00m,\n\u001B[0;32m    309\u001B[0m         stacklevel\u001B[38;5;241m=\u001B[39mstacklevel,\n\u001B[0;32m    310\u001B[0m     )\n\u001B[1;32m--> 311\u001B[0m \u001B[38;5;28;01mreturn\u001B[39;00m func(\u001B[38;5;241m*\u001B[39margs, \u001B[38;5;241m*\u001B[39m\u001B[38;5;241m*\u001B[39mkwargs)\n",
      "File \u001B[1;32m~\\anaconda3\\envs\\Internship\\lib\\site-packages\\pandas\\io\\parsers\\readers.py:680\u001B[0m, in \u001B[0;36mread_csv\u001B[1;34m(filepath_or_buffer, sep, delimiter, header, names, index_col, usecols, squeeze, prefix, mangle_dupe_cols, dtype, engine, converters, true_values, false_values, skipinitialspace, skiprows, skipfooter, nrows, na_values, keep_default_na, na_filter, verbose, skip_blank_lines, parse_dates, infer_datetime_format, keep_date_col, date_parser, dayfirst, cache_dates, iterator, chunksize, compression, thousands, decimal, lineterminator, quotechar, quoting, doublequote, escapechar, comment, encoding, encoding_errors, dialect, error_bad_lines, warn_bad_lines, on_bad_lines, delim_whitespace, low_memory, memory_map, float_precision, storage_options)\u001B[0m\n\u001B[0;32m    665\u001B[0m kwds_defaults \u001B[38;5;241m=\u001B[39m _refine_defaults_read(\n\u001B[0;32m    666\u001B[0m     dialect,\n\u001B[0;32m    667\u001B[0m     delimiter,\n\u001B[1;32m   (...)\u001B[0m\n\u001B[0;32m    676\u001B[0m     defaults\u001B[38;5;241m=\u001B[39m{\u001B[38;5;124m\"\u001B[39m\u001B[38;5;124mdelimiter\u001B[39m\u001B[38;5;124m\"\u001B[39m: \u001B[38;5;124m\"\u001B[39m\u001B[38;5;124m,\u001B[39m\u001B[38;5;124m\"\u001B[39m},\n\u001B[0;32m    677\u001B[0m )\n\u001B[0;32m    678\u001B[0m kwds\u001B[38;5;241m.\u001B[39mupdate(kwds_defaults)\n\u001B[1;32m--> 680\u001B[0m \u001B[38;5;28;01mreturn\u001B[39;00m \u001B[43m_read\u001B[49m\u001B[43m(\u001B[49m\u001B[43mfilepath_or_buffer\u001B[49m\u001B[43m,\u001B[49m\u001B[43m \u001B[49m\u001B[43mkwds\u001B[49m\u001B[43m)\u001B[49m\n",
      "File \u001B[1;32m~\\anaconda3\\envs\\Internship\\lib\\site-packages\\pandas\\io\\parsers\\readers.py:575\u001B[0m, in \u001B[0;36m_read\u001B[1;34m(filepath_or_buffer, kwds)\u001B[0m\n\u001B[0;32m    572\u001B[0m _validate_names(kwds\u001B[38;5;241m.\u001B[39mget(\u001B[38;5;124m\"\u001B[39m\u001B[38;5;124mnames\u001B[39m\u001B[38;5;124m\"\u001B[39m, \u001B[38;5;28;01mNone\u001B[39;00m))\n\u001B[0;32m    574\u001B[0m \u001B[38;5;66;03m# Create the parser.\u001B[39;00m\n\u001B[1;32m--> 575\u001B[0m parser \u001B[38;5;241m=\u001B[39m TextFileReader(filepath_or_buffer, \u001B[38;5;241m*\u001B[39m\u001B[38;5;241m*\u001B[39mkwds)\n\u001B[0;32m    577\u001B[0m \u001B[38;5;28;01mif\u001B[39;00m chunksize \u001B[38;5;129;01mor\u001B[39;00m iterator:\n\u001B[0;32m    578\u001B[0m     \u001B[38;5;28;01mreturn\u001B[39;00m parser\n",
      "File \u001B[1;32m~\\anaconda3\\envs\\Internship\\lib\\site-packages\\pandas\\io\\parsers\\readers.py:934\u001B[0m, in \u001B[0;36mTextFileReader.__init__\u001B[1;34m(self, f, engine, **kwds)\u001B[0m\n\u001B[0;32m    931\u001B[0m     \u001B[38;5;28mself\u001B[39m\u001B[38;5;241m.\u001B[39moptions[\u001B[38;5;124m\"\u001B[39m\u001B[38;5;124mhas_index_names\u001B[39m\u001B[38;5;124m\"\u001B[39m] \u001B[38;5;241m=\u001B[39m kwds[\u001B[38;5;124m\"\u001B[39m\u001B[38;5;124mhas_index_names\u001B[39m\u001B[38;5;124m\"\u001B[39m]\n\u001B[0;32m    933\u001B[0m \u001B[38;5;28mself\u001B[39m\u001B[38;5;241m.\u001B[39mhandles: IOHandles \u001B[38;5;241m|\u001B[39m \u001B[38;5;28;01mNone\u001B[39;00m \u001B[38;5;241m=\u001B[39m \u001B[38;5;28;01mNone\u001B[39;00m\n\u001B[1;32m--> 934\u001B[0m \u001B[38;5;28mself\u001B[39m\u001B[38;5;241m.\u001B[39m_engine \u001B[38;5;241m=\u001B[39m \u001B[38;5;28;43mself\u001B[39;49m\u001B[38;5;241;43m.\u001B[39;49m\u001B[43m_make_engine\u001B[49m\u001B[43m(\u001B[49m\u001B[43mf\u001B[49m\u001B[43m,\u001B[49m\u001B[43m \u001B[49m\u001B[38;5;28;43mself\u001B[39;49m\u001B[38;5;241;43m.\u001B[39;49m\u001B[43mengine\u001B[49m\u001B[43m)\u001B[49m\n",
      "File \u001B[1;32m~\\anaconda3\\envs\\Internship\\lib\\site-packages\\pandas\\io\\parsers\\readers.py:1218\u001B[0m, in \u001B[0;36mTextFileReader._make_engine\u001B[1;34m(self, f, engine)\u001B[0m\n\u001B[0;32m   1214\u001B[0m     mode \u001B[38;5;241m=\u001B[39m \u001B[38;5;124m\"\u001B[39m\u001B[38;5;124mrb\u001B[39m\u001B[38;5;124m\"\u001B[39m\n\u001B[0;32m   1215\u001B[0m \u001B[38;5;66;03m# error: No overload variant of \"get_handle\" matches argument types\u001B[39;00m\n\u001B[0;32m   1216\u001B[0m \u001B[38;5;66;03m# \"Union[str, PathLike[str], ReadCsvBuffer[bytes], ReadCsvBuffer[str]]\"\u001B[39;00m\n\u001B[0;32m   1217\u001B[0m \u001B[38;5;66;03m# , \"str\", \"bool\", \"Any\", \"Any\", \"Any\", \"Any\", \"Any\"\u001B[39;00m\n\u001B[1;32m-> 1218\u001B[0m \u001B[38;5;28mself\u001B[39m\u001B[38;5;241m.\u001B[39mhandles \u001B[38;5;241m=\u001B[39m \u001B[43mget_handle\u001B[49m\u001B[43m(\u001B[49m\u001B[43m  \u001B[49m\u001B[38;5;66;43;03m# type: ignore[call-overload]\u001B[39;49;00m\n\u001B[0;32m   1219\u001B[0m \u001B[43m    \u001B[49m\u001B[43mf\u001B[49m\u001B[43m,\u001B[49m\n\u001B[0;32m   1220\u001B[0m \u001B[43m    \u001B[49m\u001B[43mmode\u001B[49m\u001B[43m,\u001B[49m\n\u001B[0;32m   1221\u001B[0m \u001B[43m    \u001B[49m\u001B[43mencoding\u001B[49m\u001B[38;5;241;43m=\u001B[39;49m\u001B[38;5;28;43mself\u001B[39;49m\u001B[38;5;241;43m.\u001B[39;49m\u001B[43moptions\u001B[49m\u001B[38;5;241;43m.\u001B[39;49m\u001B[43mget\u001B[49m\u001B[43m(\u001B[49m\u001B[38;5;124;43m\"\u001B[39;49m\u001B[38;5;124;43mencoding\u001B[39;49m\u001B[38;5;124;43m\"\u001B[39;49m\u001B[43m,\u001B[49m\u001B[43m \u001B[49m\u001B[38;5;28;43;01mNone\u001B[39;49;00m\u001B[43m)\u001B[49m\u001B[43m,\u001B[49m\n\u001B[0;32m   1222\u001B[0m \u001B[43m    \u001B[49m\u001B[43mcompression\u001B[49m\u001B[38;5;241;43m=\u001B[39;49m\u001B[38;5;28;43mself\u001B[39;49m\u001B[38;5;241;43m.\u001B[39;49m\u001B[43moptions\u001B[49m\u001B[38;5;241;43m.\u001B[39;49m\u001B[43mget\u001B[49m\u001B[43m(\u001B[49m\u001B[38;5;124;43m\"\u001B[39;49m\u001B[38;5;124;43mcompression\u001B[39;49m\u001B[38;5;124;43m\"\u001B[39;49m\u001B[43m,\u001B[49m\u001B[43m \u001B[49m\u001B[38;5;28;43;01mNone\u001B[39;49;00m\u001B[43m)\u001B[49m\u001B[43m,\u001B[49m\n\u001B[0;32m   1223\u001B[0m \u001B[43m    \u001B[49m\u001B[43mmemory_map\u001B[49m\u001B[38;5;241;43m=\u001B[39;49m\u001B[38;5;28;43mself\u001B[39;49m\u001B[38;5;241;43m.\u001B[39;49m\u001B[43moptions\u001B[49m\u001B[38;5;241;43m.\u001B[39;49m\u001B[43mget\u001B[49m\u001B[43m(\u001B[49m\u001B[38;5;124;43m\"\u001B[39;49m\u001B[38;5;124;43mmemory_map\u001B[39;49m\u001B[38;5;124;43m\"\u001B[39;49m\u001B[43m,\u001B[49m\u001B[43m \u001B[49m\u001B[38;5;28;43;01mFalse\u001B[39;49;00m\u001B[43m)\u001B[49m\u001B[43m,\u001B[49m\n\u001B[0;32m   1224\u001B[0m \u001B[43m    \u001B[49m\u001B[43mis_text\u001B[49m\u001B[38;5;241;43m=\u001B[39;49m\u001B[43mis_text\u001B[49m\u001B[43m,\u001B[49m\n\u001B[0;32m   1225\u001B[0m \u001B[43m    \u001B[49m\u001B[43merrors\u001B[49m\u001B[38;5;241;43m=\u001B[39;49m\u001B[38;5;28;43mself\u001B[39;49m\u001B[38;5;241;43m.\u001B[39;49m\u001B[43moptions\u001B[49m\u001B[38;5;241;43m.\u001B[39;49m\u001B[43mget\u001B[49m\u001B[43m(\u001B[49m\u001B[38;5;124;43m\"\u001B[39;49m\u001B[38;5;124;43mencoding_errors\u001B[39;49m\u001B[38;5;124;43m\"\u001B[39;49m\u001B[43m,\u001B[49m\u001B[43m \u001B[49m\u001B[38;5;124;43m\"\u001B[39;49m\u001B[38;5;124;43mstrict\u001B[39;49m\u001B[38;5;124;43m\"\u001B[39;49m\u001B[43m)\u001B[49m\u001B[43m,\u001B[49m\n\u001B[0;32m   1226\u001B[0m \u001B[43m    \u001B[49m\u001B[43mstorage_options\u001B[49m\u001B[38;5;241;43m=\u001B[39;49m\u001B[38;5;28;43mself\u001B[39;49m\u001B[38;5;241;43m.\u001B[39;49m\u001B[43moptions\u001B[49m\u001B[38;5;241;43m.\u001B[39;49m\u001B[43mget\u001B[49m\u001B[43m(\u001B[49m\u001B[38;5;124;43m\"\u001B[39;49m\u001B[38;5;124;43mstorage_options\u001B[39;49m\u001B[38;5;124;43m\"\u001B[39;49m\u001B[43m,\u001B[49m\u001B[43m \u001B[49m\u001B[38;5;28;43;01mNone\u001B[39;49;00m\u001B[43m)\u001B[49m\u001B[43m,\u001B[49m\n\u001B[0;32m   1227\u001B[0m \u001B[43m\u001B[49m\u001B[43m)\u001B[49m\n\u001B[0;32m   1228\u001B[0m \u001B[38;5;28;01massert\u001B[39;00m \u001B[38;5;28mself\u001B[39m\u001B[38;5;241m.\u001B[39mhandles \u001B[38;5;129;01mis\u001B[39;00m \u001B[38;5;129;01mnot\u001B[39;00m \u001B[38;5;28;01mNone\u001B[39;00m\n\u001B[0;32m   1229\u001B[0m f \u001B[38;5;241m=\u001B[39m \u001B[38;5;28mself\u001B[39m\u001B[38;5;241m.\u001B[39mhandles\u001B[38;5;241m.\u001B[39mhandle\n",
      "File \u001B[1;32m~\\anaconda3\\envs\\Internship\\lib\\site-packages\\pandas\\io\\common.py:786\u001B[0m, in \u001B[0;36mget_handle\u001B[1;34m(path_or_buf, mode, encoding, compression, memory_map, is_text, errors, storage_options)\u001B[0m\n\u001B[0;32m    781\u001B[0m \u001B[38;5;28;01melif\u001B[39;00m \u001B[38;5;28misinstance\u001B[39m(handle, \u001B[38;5;28mstr\u001B[39m):\n\u001B[0;32m    782\u001B[0m     \u001B[38;5;66;03m# Check whether the filename is to be opened in binary mode.\u001B[39;00m\n\u001B[0;32m    783\u001B[0m     \u001B[38;5;66;03m# Binary mode does not support 'encoding' and 'newline'.\u001B[39;00m\n\u001B[0;32m    784\u001B[0m     \u001B[38;5;28;01mif\u001B[39;00m ioargs\u001B[38;5;241m.\u001B[39mencoding \u001B[38;5;129;01mand\u001B[39;00m \u001B[38;5;124m\"\u001B[39m\u001B[38;5;124mb\u001B[39m\u001B[38;5;124m\"\u001B[39m \u001B[38;5;129;01mnot\u001B[39;00m \u001B[38;5;129;01min\u001B[39;00m ioargs\u001B[38;5;241m.\u001B[39mmode:\n\u001B[0;32m    785\u001B[0m         \u001B[38;5;66;03m# Encoding\u001B[39;00m\n\u001B[1;32m--> 786\u001B[0m         handle \u001B[38;5;241m=\u001B[39m \u001B[38;5;28;43mopen\u001B[39;49m\u001B[43m(\u001B[49m\n\u001B[0;32m    787\u001B[0m \u001B[43m            \u001B[49m\u001B[43mhandle\u001B[49m\u001B[43m,\u001B[49m\n\u001B[0;32m    788\u001B[0m \u001B[43m            \u001B[49m\u001B[43mioargs\u001B[49m\u001B[38;5;241;43m.\u001B[39;49m\u001B[43mmode\u001B[49m\u001B[43m,\u001B[49m\n\u001B[0;32m    789\u001B[0m \u001B[43m            \u001B[49m\u001B[43mencoding\u001B[49m\u001B[38;5;241;43m=\u001B[39;49m\u001B[43mioargs\u001B[49m\u001B[38;5;241;43m.\u001B[39;49m\u001B[43mencoding\u001B[49m\u001B[43m,\u001B[49m\n\u001B[0;32m    790\u001B[0m \u001B[43m            \u001B[49m\u001B[43merrors\u001B[49m\u001B[38;5;241;43m=\u001B[39;49m\u001B[43merrors\u001B[49m\u001B[43m,\u001B[49m\n\u001B[0;32m    791\u001B[0m \u001B[43m            \u001B[49m\u001B[43mnewline\u001B[49m\u001B[38;5;241;43m=\u001B[39;49m\u001B[38;5;124;43m\"\u001B[39;49m\u001B[38;5;124;43m\"\u001B[39;49m\u001B[43m,\u001B[49m\n\u001B[0;32m    792\u001B[0m \u001B[43m        \u001B[49m\u001B[43m)\u001B[49m\n\u001B[0;32m    793\u001B[0m     \u001B[38;5;28;01melse\u001B[39;00m:\n\u001B[0;32m    794\u001B[0m         \u001B[38;5;66;03m# Binary mode\u001B[39;00m\n\u001B[0;32m    795\u001B[0m         handle \u001B[38;5;241m=\u001B[39m \u001B[38;5;28mopen\u001B[39m(handle, ioargs\u001B[38;5;241m.\u001B[39mmode)\n",
      "\u001B[1;31mFileNotFoundError\u001B[0m: [Errno 2] No such file or directory: 'full_results.csv'"
     ]
    }
   ],
   "source": [
    "results_f = pd.read_csv('full_results.csv')\n",
    "results_f.head()"
   ],
   "metadata": {
    "collapsed": false
   }
  },
  {
   "cell_type": "code",
   "execution_count": null,
   "outputs": [],
   "source": [],
   "metadata": {
    "collapsed": false
   }
  }
 ],
 "metadata": {
  "kernelspec": {
   "display_name": "Python 3",
   "language": "python",
   "name": "python3"
  },
  "language_info": {
   "codemirror_mode": {
    "name": "ipython",
    "version": 2
   },
   "file_extension": ".py",
   "mimetype": "text/x-python",
   "name": "python",
   "nbconvert_exporter": "python",
   "pygments_lexer": "ipython2",
   "version": "2.7.6"
  }
 },
 "nbformat": 4,
 "nbformat_minor": 0
}
