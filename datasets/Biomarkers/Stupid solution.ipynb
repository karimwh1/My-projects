{
 "cells": [
  {
   "cell_type": "code",
   "execution_count": 1,
   "metadata": {
    "collapsed": true
   },
   "outputs": [],
   "source": [
    "import json\n",
    "import requests\n",
    "from pprint import pprint\n",
    "import csv\n",
    "import pandas as pd"
   ]
  },
  {
   "cell_type": "code",
   "execution_count": 2,
   "outputs": [],
   "source": [
    "url = 'https://www.vmh.life//_api/biomarkers/'\n",
    "url_2 = 'http://www.vmh.life/_api/biomarkers/?page=2'\n",
    "url_3 = 'http://www.vmh.life/_api/biomarkers/?page=3'\n",
    "df=pd.DataFrame(columns=['name_ofd','type_ofd','notes_ofd','phenotype','organ_affected','cheBlId_ofm','description_ofm','fullName_ofm','inchiKey_ofm','inchiString_ofm','keggId_ofm','casRegistry_ofm','value_ofm','normal_conc_ofm','ramedis_ofm','range_conc_ofm'])"
   ],
   "metadata": {
    "collapsed": false
   }
  },
  {
   "cell_type": "code",
   "execution_count": 7,
   "outputs": [
    {
     "name": "stderr",
     "output_type": "stream",
     "text": [
      "C:\\Users\\karim\\AppData\\Local\\Temp\\ipykernel_2312\\55704698.py:19: FutureWarning: The frame.append method is deprecated and will be removed from pandas in a future version. Use pandas.concat instead.\n",
      "  df=df.append({'name_ofd':name_ofd,'type_ofd':type_ofd,'notes_ofd':notes_ofd,'phenotype':phenotype,'organ_affected':organ_affected,'cheBlId_ofm':cheBlId_ofm,'description_ofm':description_ofm,'fullName_ofm':fullName_ofm,'inchiKey_ofm':inchiKey_ofm,'inchiString_ofm':inchiString_ofm,'keggId_ofm':keggId_ofm,'casRegistry_ofm':casRegistry_ofm,'value_ofm':value_ofm,'normal_conc_ofm':normal_conc_ofm,'ramedis_ofm':ramedis_ofm,'range_conc_ofm':range_conc_ofm},ignore_index= True)\n",
      "C:\\Users\\karim\\AppData\\Local\\Temp\\ipykernel_2312\\55704698.py:19: FutureWarning: The frame.append method is deprecated and will be removed from pandas in a future version. Use pandas.concat instead.\n",
      "  df=df.append({'name_ofd':name_ofd,'type_ofd':type_ofd,'notes_ofd':notes_ofd,'phenotype':phenotype,'organ_affected':organ_affected,'cheBlId_ofm':cheBlId_ofm,'description_ofm':description_ofm,'fullName_ofm':fullName_ofm,'inchiKey_ofm':inchiKey_ofm,'inchiString_ofm':inchiString_ofm,'keggId_ofm':keggId_ofm,'casRegistry_ofm':casRegistry_ofm,'value_ofm':value_ofm,'normal_conc_ofm':normal_conc_ofm,'ramedis_ofm':ramedis_ofm,'range_conc_ofm':range_conc_ofm},ignore_index= True)\n",
      "C:\\Users\\karim\\AppData\\Local\\Temp\\ipykernel_2312\\55704698.py:19: FutureWarning: The frame.append method is deprecated and will be removed from pandas in a future version. Use pandas.concat instead.\n",
      "  df=df.append({'name_ofd':name_ofd,'type_ofd':type_ofd,'notes_ofd':notes_ofd,'phenotype':phenotype,'organ_affected':organ_affected,'cheBlId_ofm':cheBlId_ofm,'description_ofm':description_ofm,'fullName_ofm':fullName_ofm,'inchiKey_ofm':inchiKey_ofm,'inchiString_ofm':inchiString_ofm,'keggId_ofm':keggId_ofm,'casRegistry_ofm':casRegistry_ofm,'value_ofm':value_ofm,'normal_conc_ofm':normal_conc_ofm,'ramedis_ofm':ramedis_ofm,'range_conc_ofm':range_conc_ofm},ignore_index= True)\n",
      "C:\\Users\\karim\\AppData\\Local\\Temp\\ipykernel_2312\\55704698.py:19: FutureWarning: The frame.append method is deprecated and will be removed from pandas in a future version. Use pandas.concat instead.\n",
      "  df=df.append({'name_ofd':name_ofd,'type_ofd':type_ofd,'notes_ofd':notes_ofd,'phenotype':phenotype,'organ_affected':organ_affected,'cheBlId_ofm':cheBlId_ofm,'description_ofm':description_ofm,'fullName_ofm':fullName_ofm,'inchiKey_ofm':inchiKey_ofm,'inchiString_ofm':inchiString_ofm,'keggId_ofm':keggId_ofm,'casRegistry_ofm':casRegistry_ofm,'value_ofm':value_ofm,'normal_conc_ofm':normal_conc_ofm,'ramedis_ofm':ramedis_ofm,'range_conc_ofm':range_conc_ofm},ignore_index= True)\n",
      "C:\\Users\\karim\\AppData\\Local\\Temp\\ipykernel_2312\\55704698.py:19: FutureWarning: The frame.append method is deprecated and will be removed from pandas in a future version. Use pandas.concat instead.\n",
      "  df=df.append({'name_ofd':name_ofd,'type_ofd':type_ofd,'notes_ofd':notes_ofd,'phenotype':phenotype,'organ_affected':organ_affected,'cheBlId_ofm':cheBlId_ofm,'description_ofm':description_ofm,'fullName_ofm':fullName_ofm,'inchiKey_ofm':inchiKey_ofm,'inchiString_ofm':inchiString_ofm,'keggId_ofm':keggId_ofm,'casRegistry_ofm':casRegistry_ofm,'value_ofm':value_ofm,'normal_conc_ofm':normal_conc_ofm,'ramedis_ofm':ramedis_ofm,'range_conc_ofm':range_conc_ofm},ignore_index= True)\n",
      "C:\\Users\\karim\\AppData\\Local\\Temp\\ipykernel_2312\\55704698.py:19: FutureWarning: The frame.append method is deprecated and will be removed from pandas in a future version. Use pandas.concat instead.\n",
      "  df=df.append({'name_ofd':name_ofd,'type_ofd':type_ofd,'notes_ofd':notes_ofd,'phenotype':phenotype,'organ_affected':organ_affected,'cheBlId_ofm':cheBlId_ofm,'description_ofm':description_ofm,'fullName_ofm':fullName_ofm,'inchiKey_ofm':inchiKey_ofm,'inchiString_ofm':inchiString_ofm,'keggId_ofm':keggId_ofm,'casRegistry_ofm':casRegistry_ofm,'value_ofm':value_ofm,'normal_conc_ofm':normal_conc_ofm,'ramedis_ofm':ramedis_ofm,'range_conc_ofm':range_conc_ofm},ignore_index= True)\n",
      "C:\\Users\\karim\\AppData\\Local\\Temp\\ipykernel_2312\\55704698.py:19: FutureWarning: The frame.append method is deprecated and will be removed from pandas in a future version. Use pandas.concat instead.\n",
      "  df=df.append({'name_ofd':name_ofd,'type_ofd':type_ofd,'notes_ofd':notes_ofd,'phenotype':phenotype,'organ_affected':organ_affected,'cheBlId_ofm':cheBlId_ofm,'description_ofm':description_ofm,'fullName_ofm':fullName_ofm,'inchiKey_ofm':inchiKey_ofm,'inchiString_ofm':inchiString_ofm,'keggId_ofm':keggId_ofm,'casRegistry_ofm':casRegistry_ofm,'value_ofm':value_ofm,'normal_conc_ofm':normal_conc_ofm,'ramedis_ofm':ramedis_ofm,'range_conc_ofm':range_conc_ofm},ignore_index= True)\n",
      "C:\\Users\\karim\\AppData\\Local\\Temp\\ipykernel_2312\\55704698.py:19: FutureWarning: The frame.append method is deprecated and will be removed from pandas in a future version. Use pandas.concat instead.\n",
      "  df=df.append({'name_ofd':name_ofd,'type_ofd':type_ofd,'notes_ofd':notes_ofd,'phenotype':phenotype,'organ_affected':organ_affected,'cheBlId_ofm':cheBlId_ofm,'description_ofm':description_ofm,'fullName_ofm':fullName_ofm,'inchiKey_ofm':inchiKey_ofm,'inchiString_ofm':inchiString_ofm,'keggId_ofm':keggId_ofm,'casRegistry_ofm':casRegistry_ofm,'value_ofm':value_ofm,'normal_conc_ofm':normal_conc_ofm,'ramedis_ofm':ramedis_ofm,'range_conc_ofm':range_conc_ofm},ignore_index= True)\n",
      "C:\\Users\\karim\\AppData\\Local\\Temp\\ipykernel_2312\\55704698.py:19: FutureWarning: The frame.append method is deprecated and will be removed from pandas in a future version. Use pandas.concat instead.\n",
      "  df=df.append({'name_ofd':name_ofd,'type_ofd':type_ofd,'notes_ofd':notes_ofd,'phenotype':phenotype,'organ_affected':organ_affected,'cheBlId_ofm':cheBlId_ofm,'description_ofm':description_ofm,'fullName_ofm':fullName_ofm,'inchiKey_ofm':inchiKey_ofm,'inchiString_ofm':inchiString_ofm,'keggId_ofm':keggId_ofm,'casRegistry_ofm':casRegistry_ofm,'value_ofm':value_ofm,'normal_conc_ofm':normal_conc_ofm,'ramedis_ofm':ramedis_ofm,'range_conc_ofm':range_conc_ofm},ignore_index= True)\n",
      "C:\\Users\\karim\\AppData\\Local\\Temp\\ipykernel_2312\\55704698.py:19: FutureWarning: The frame.append method is deprecated and will be removed from pandas in a future version. Use pandas.concat instead.\n",
      "  df=df.append({'name_ofd':name_ofd,'type_ofd':type_ofd,'notes_ofd':notes_ofd,'phenotype':phenotype,'organ_affected':organ_affected,'cheBlId_ofm':cheBlId_ofm,'description_ofm':description_ofm,'fullName_ofm':fullName_ofm,'inchiKey_ofm':inchiKey_ofm,'inchiString_ofm':inchiString_ofm,'keggId_ofm':keggId_ofm,'casRegistry_ofm':casRegistry_ofm,'value_ofm':value_ofm,'normal_conc_ofm':normal_conc_ofm,'ramedis_ofm':ramedis_ofm,'range_conc_ofm':range_conc_ofm},ignore_index= True)\n",
      "C:\\Users\\karim\\AppData\\Local\\Temp\\ipykernel_2312\\55704698.py:19: FutureWarning: The frame.append method is deprecated and will be removed from pandas in a future version. Use pandas.concat instead.\n",
      "  df=df.append({'name_ofd':name_ofd,'type_ofd':type_ofd,'notes_ofd':notes_ofd,'phenotype':phenotype,'organ_affected':organ_affected,'cheBlId_ofm':cheBlId_ofm,'description_ofm':description_ofm,'fullName_ofm':fullName_ofm,'inchiKey_ofm':inchiKey_ofm,'inchiString_ofm':inchiString_ofm,'keggId_ofm':keggId_ofm,'casRegistry_ofm':casRegistry_ofm,'value_ofm':value_ofm,'normal_conc_ofm':normal_conc_ofm,'ramedis_ofm':ramedis_ofm,'range_conc_ofm':range_conc_ofm},ignore_index= True)\n",
      "C:\\Users\\karim\\AppData\\Local\\Temp\\ipykernel_2312\\55704698.py:19: FutureWarning: The frame.append method is deprecated and will be removed from pandas in a future version. Use pandas.concat instead.\n",
      "  df=df.append({'name_ofd':name_ofd,'type_ofd':type_ofd,'notes_ofd':notes_ofd,'phenotype':phenotype,'organ_affected':organ_affected,'cheBlId_ofm':cheBlId_ofm,'description_ofm':description_ofm,'fullName_ofm':fullName_ofm,'inchiKey_ofm':inchiKey_ofm,'inchiString_ofm':inchiString_ofm,'keggId_ofm':keggId_ofm,'casRegistry_ofm':casRegistry_ofm,'value_ofm':value_ofm,'normal_conc_ofm':normal_conc_ofm,'ramedis_ofm':ramedis_ofm,'range_conc_ofm':range_conc_ofm},ignore_index= True)\n",
      "C:\\Users\\karim\\AppData\\Local\\Temp\\ipykernel_2312\\55704698.py:19: FutureWarning: The frame.append method is deprecated and will be removed from pandas in a future version. Use pandas.concat instead.\n",
      "  df=df.append({'name_ofd':name_ofd,'type_ofd':type_ofd,'notes_ofd':notes_ofd,'phenotype':phenotype,'organ_affected':organ_affected,'cheBlId_ofm':cheBlId_ofm,'description_ofm':description_ofm,'fullName_ofm':fullName_ofm,'inchiKey_ofm':inchiKey_ofm,'inchiString_ofm':inchiString_ofm,'keggId_ofm':keggId_ofm,'casRegistry_ofm':casRegistry_ofm,'value_ofm':value_ofm,'normal_conc_ofm':normal_conc_ofm,'ramedis_ofm':ramedis_ofm,'range_conc_ofm':range_conc_ofm},ignore_index= True)\n",
      "C:\\Users\\karim\\AppData\\Local\\Temp\\ipykernel_2312\\55704698.py:19: FutureWarning: The frame.append method is deprecated and will be removed from pandas in a future version. Use pandas.concat instead.\n",
      "  df=df.append({'name_ofd':name_ofd,'type_ofd':type_ofd,'notes_ofd':notes_ofd,'phenotype':phenotype,'organ_affected':organ_affected,'cheBlId_ofm':cheBlId_ofm,'description_ofm':description_ofm,'fullName_ofm':fullName_ofm,'inchiKey_ofm':inchiKey_ofm,'inchiString_ofm':inchiString_ofm,'keggId_ofm':keggId_ofm,'casRegistry_ofm':casRegistry_ofm,'value_ofm':value_ofm,'normal_conc_ofm':normal_conc_ofm,'ramedis_ofm':ramedis_ofm,'range_conc_ofm':range_conc_ofm},ignore_index= True)\n",
      "C:\\Users\\karim\\AppData\\Local\\Temp\\ipykernel_2312\\55704698.py:19: FutureWarning: The frame.append method is deprecated and will be removed from pandas in a future version. Use pandas.concat instead.\n",
      "  df=df.append({'name_ofd':name_ofd,'type_ofd':type_ofd,'notes_ofd':notes_ofd,'phenotype':phenotype,'organ_affected':organ_affected,'cheBlId_ofm':cheBlId_ofm,'description_ofm':description_ofm,'fullName_ofm':fullName_ofm,'inchiKey_ofm':inchiKey_ofm,'inchiString_ofm':inchiString_ofm,'keggId_ofm':keggId_ofm,'casRegistry_ofm':casRegistry_ofm,'value_ofm':value_ofm,'normal_conc_ofm':normal_conc_ofm,'ramedis_ofm':ramedis_ofm,'range_conc_ofm':range_conc_ofm},ignore_index= True)\n"
     ]
    }
   ],
   "source": [
    "response = requests.get(url_3).json()\n",
    "for metabolites in response['results']:\n",
    "    name_ofd = metabolites['iem']['name']\n",
    "    type_ofd = metabolites['iem']['dtype']\n",
    "    notes_ofd = metabolites['iem']['notes']\n",
    "    phenotype = metabolites['iem']['phenotype']\n",
    "    organ_affected = metabolites['iem']['organ']\n",
    "    cheBlId_ofm = metabolites['metabolite']['cheBlId']\n",
    "    description_ofm = metabolites['metabolite']['description']\n",
    "    fullName_ofm = metabolites['metabolite']['fullName']\n",
    "    inchiKey_ofm = metabolites['metabolite']['inchiKey']\n",
    "    inchiString_ofm = metabolites['metabolite']['inchiString']\n",
    "    keggId_ofm = metabolites['metabolite']['keggId']\n",
    "    casRegistry_ofm = metabolites['metabolite']['casRegistry']\n",
    "    value_ofm = metabolites['value']\n",
    "    normal_conc_ofm = metabolites['normalConcentration']\n",
    "    ramedis_ofm = metabolites['ramedis']\n",
    "    range_conc_ofm = metabolites['rangeConcentration']\n",
    "    df=df.append({'name_ofd':name_ofd,'type_ofd':type_ofd,'notes_ofd':notes_ofd,'phenotype':phenotype,'organ_affected':organ_affected,'cheBlId_ofm':cheBlId_ofm,'description_ofm':description_ofm,'fullName_ofm':fullName_ofm,'inchiKey_ofm':inchiKey_ofm,'inchiString_ofm':inchiString_ofm,'keggId_ofm':keggId_ofm,'casRegistry_ofm':casRegistry_ofm,'value_ofm':value_ofm,'normal_conc_ofm':normal_conc_ofm,'ramedis_ofm':ramedis_ofm,'range_conc_ofm':range_conc_ofm},ignore_index= True)"
   ],
   "metadata": {
    "collapsed": false
   }
  },
  {
   "cell_type": "code",
   "execution_count": 8,
   "outputs": [
    {
     "name": "stdout",
     "output_type": "stream",
     "text": [
      "<class 'pandas.core.frame.DataFrame'>\n",
      "RangeIndex: 115 entries, 0 to 114\n",
      "Data columns (total 16 columns):\n",
      " #   Column           Non-Null Count  Dtype \n",
      "---  ------           --------------  ----- \n",
      " 0   name_ofd         115 non-null    object\n",
      " 1   type_ofd         115 non-null    object\n",
      " 2   notes_ofd        115 non-null    object\n",
      " 3   phenotype        115 non-null    object\n",
      " 4   organ_affected   115 non-null    object\n",
      " 5   cheBlId_ofm      107 non-null    object\n",
      " 6   description_ofm  115 non-null    object\n",
      " 7   fullName_ofm     115 non-null    object\n",
      " 8   inchiKey_ofm     115 non-null    object\n",
      " 9   inchiString_ofm  115 non-null    object\n",
      " 10  keggId_ofm       81 non-null     object\n",
      " 11  casRegistry_ofm  48 non-null     object\n",
      " 12  value_ofm        115 non-null    object\n",
      " 13  normal_conc_ofm  115 non-null    object\n",
      " 14  ramedis_ofm      115 non-null    object\n",
      " 15  range_conc_ofm   115 non-null    object\n",
      "dtypes: object(16)\n",
      "memory usage: 14.5+ KB\n"
     ]
    }
   ],
   "source": [
    "df.info()"
   ],
   "metadata": {
    "collapsed": false
   }
  },
  {
   "cell_type": "code",
   "execution_count": 9,
   "outputs": [
    {
     "data": {
      "text/plain": "                                            name_ofd  \\\n0  Glycine Encephalopathy/ Nonketotic Hyperglycin...   \n1           Gyrate Atrophy of the Choroid And Retina   \n2                          Maple Syrup Urine Disease   \n3  Neonatal Intrahepatic Cholestasis caused by Ci...   \n4                                 Hypermethioninemia   \n\n                       type_ofd  \\\n0  Inherited metabolic disorder   \n1  Inherited metabolic disorder   \n2  Inherited metabolic disorder   \n3  Inherited metabolic disorder   \n4  Inherited metabolic disorder   \n\n                                           notes_ofd  \\\n0  About 80 percent of cases of glycine encephalo...   \n1  Decreased activity of ornithine-delta-aminotra...   \n2  In plasma increased levels of allo-isoleucine,...   \n3  Blood-elevated acetylcarnitine (C2), palmitoyl...   \n4  A deficiency of any of these enzymes (i.e. MAT...   \n\n                                           phenotype  \\\n0  1) Neonatal (classic) presentation-The neonata...   \n1                                                      \n2  1) Classic and intermediate MSUD. 2)There are ...   \n3  The two phenotypes of citrin deficiency are ci...   \n4                                                      \n\n                    organ_affected cheBlId_ofm  \\\n0                   Nervous system       15428   \n1                      Muscle, eye       17203   \n2                   Nervous system       16414   \n3                            Liver       16857   \n4  Nervous system,  liver,  muscle       16643   \n\n                                     description_ofm  fullName_ofm  \\\n0  Human Metabolome Database (HMDB): Glycine is a...       Glycine   \n1  Human Metabolome Database (HMDB): L-proline is...     L-Proline   \n2  Human Metabolome Database (HMDB): Valine (abbr...      L-Valine   \n3  Human Metabolome Database (HMDB): Threonine is...   L-Threonine   \n4  Human Metabolome Database (HMDB): Methionine i...  L-Methionine   \n\n                  inchiKey_ofm  \\\n0  DHMQDGOQFOQNFH-UHFFFAOYSA-N   \n1  ONIBWKKTOPOVIA-BYPYZUCNSA-N   \n2  KZSNJWFQEVHDMF-BYPYZUCNSA-N   \n3  AYFVYJQAPQTCCC-GBXIJSLDSA-N   \n4  FFEARJCKVFRZRR-BYPYZUCNSA-N   \n\n                                     inchiString_ofm keggId_ofm  \\\n0         InChI=1S/C2H5NO2/c3-1-2(4)5/h1,3H2,(H,4,5)     C00037   \n1  InChI=1S/C5H9NO2/c7-5(8)4-2-1-3-6-4/h4,6H,1-3H...     C00148   \n2  InChI=1S/C5H11NO2/c1-3(2)4(6)5(7)8/h3-4H,6H2,1...     C00183   \n3  InChI=1S/C4H9NO3/c1-2(6)3(5)4(7)8/h2-3,6H,5H2,...     C00188   \n4  InChI=1S/C5H11NO2S/c1-9-3-2-4(6)5(7)8/h4H,2-3,...     C00073   \n\n  casRegistry_ofm  value_ofm normal_conc_ofm    ramedis_ofm   range_conc_ofm  \n0         56-40-6  Increased   180.00-740.00                  550.00-1350.00  \n1        147-85-3  Increased  95.00 - 320.00                        830-1360  \n2         72-18-4  Increased       65.00-215  125, 133, 337  210.00 - 650.00  \n3         72-19-5  Increased        25 - 150                                  \n4         63-68-3  Increased     10.00-38.00                   56.00 -170.00  ",
      "text/html": "<div>\n<style scoped>\n    .dataframe tbody tr th:only-of-type {\n        vertical-align: middle;\n    }\n\n    .dataframe tbody tr th {\n        vertical-align: top;\n    }\n\n    .dataframe thead th {\n        text-align: right;\n    }\n</style>\n<table border=\"1\" class=\"dataframe\">\n  <thead>\n    <tr style=\"text-align: right;\">\n      <th></th>\n      <th>name_ofd</th>\n      <th>type_ofd</th>\n      <th>notes_ofd</th>\n      <th>phenotype</th>\n      <th>organ_affected</th>\n      <th>cheBlId_ofm</th>\n      <th>description_ofm</th>\n      <th>fullName_ofm</th>\n      <th>inchiKey_ofm</th>\n      <th>inchiString_ofm</th>\n      <th>keggId_ofm</th>\n      <th>casRegistry_ofm</th>\n      <th>value_ofm</th>\n      <th>normal_conc_ofm</th>\n      <th>ramedis_ofm</th>\n      <th>range_conc_ofm</th>\n    </tr>\n  </thead>\n  <tbody>\n    <tr>\n      <th>0</th>\n      <td>Glycine Encephalopathy/ Nonketotic Hyperglycin...</td>\n      <td>Inherited metabolic disorder</td>\n      <td>About 80 percent of cases of glycine encephalo...</td>\n      <td>1) Neonatal (classic) presentation-The neonata...</td>\n      <td>Nervous system</td>\n      <td>15428</td>\n      <td>Human Metabolome Database (HMDB): Glycine is a...</td>\n      <td>Glycine</td>\n      <td>DHMQDGOQFOQNFH-UHFFFAOYSA-N</td>\n      <td>InChI=1S/C2H5NO2/c3-1-2(4)5/h1,3H2,(H,4,5)</td>\n      <td>C00037</td>\n      <td>56-40-6</td>\n      <td>Increased</td>\n      <td>180.00-740.00</td>\n      <td></td>\n      <td>550.00-1350.00</td>\n    </tr>\n    <tr>\n      <th>1</th>\n      <td>Gyrate Atrophy of the Choroid And Retina</td>\n      <td>Inherited metabolic disorder</td>\n      <td>Decreased activity of ornithine-delta-aminotra...</td>\n      <td></td>\n      <td>Muscle, eye</td>\n      <td>17203</td>\n      <td>Human Metabolome Database (HMDB): L-proline is...</td>\n      <td>L-Proline</td>\n      <td>ONIBWKKTOPOVIA-BYPYZUCNSA-N</td>\n      <td>InChI=1S/C5H9NO2/c7-5(8)4-2-1-3-6-4/h4,6H,1-3H...</td>\n      <td>C00148</td>\n      <td>147-85-3</td>\n      <td>Increased</td>\n      <td>95.00 - 320.00</td>\n      <td></td>\n      <td>830-1360</td>\n    </tr>\n    <tr>\n      <th>2</th>\n      <td>Maple Syrup Urine Disease</td>\n      <td>Inherited metabolic disorder</td>\n      <td>In plasma increased levels of allo-isoleucine,...</td>\n      <td>1) Classic and intermediate MSUD. 2)There are ...</td>\n      <td>Nervous system</td>\n      <td>16414</td>\n      <td>Human Metabolome Database (HMDB): Valine (abbr...</td>\n      <td>L-Valine</td>\n      <td>KZSNJWFQEVHDMF-BYPYZUCNSA-N</td>\n      <td>InChI=1S/C5H11NO2/c1-3(2)4(6)5(7)8/h3-4H,6H2,1...</td>\n      <td>C00183</td>\n      <td>72-18-4</td>\n      <td>Increased</td>\n      <td>65.00-215</td>\n      <td>125, 133, 337</td>\n      <td>210.00 - 650.00</td>\n    </tr>\n    <tr>\n      <th>3</th>\n      <td>Neonatal Intrahepatic Cholestasis caused by Ci...</td>\n      <td>Inherited metabolic disorder</td>\n      <td>Blood-elevated acetylcarnitine (C2), palmitoyl...</td>\n      <td>The two phenotypes of citrin deficiency are ci...</td>\n      <td>Liver</td>\n      <td>16857</td>\n      <td>Human Metabolome Database (HMDB): Threonine is...</td>\n      <td>L-Threonine</td>\n      <td>AYFVYJQAPQTCCC-GBXIJSLDSA-N</td>\n      <td>InChI=1S/C4H9NO3/c1-2(6)3(5)4(7)8/h2-3,6H,5H2,...</td>\n      <td>C00188</td>\n      <td>72-19-5</td>\n      <td>Increased</td>\n      <td>25 - 150</td>\n      <td></td>\n      <td></td>\n    </tr>\n    <tr>\n      <th>4</th>\n      <td>Hypermethioninemia</td>\n      <td>Inherited metabolic disorder</td>\n      <td>A deficiency of any of these enzymes (i.e. MAT...</td>\n      <td></td>\n      <td>Nervous system,  liver,  muscle</td>\n      <td>16643</td>\n      <td>Human Metabolome Database (HMDB): Methionine i...</td>\n      <td>L-Methionine</td>\n      <td>FFEARJCKVFRZRR-BYPYZUCNSA-N</td>\n      <td>InChI=1S/C5H11NO2S/c1-9-3-2-4(6)5(7)8/h4H,2-3,...</td>\n      <td>C00073</td>\n      <td>63-68-3</td>\n      <td>Increased</td>\n      <td>10.00-38.00</td>\n      <td></td>\n      <td>56.00 -170.00</td>\n    </tr>\n  </tbody>\n</table>\n</div>"
     },
     "execution_count": 9,
     "metadata": {},
     "output_type": "execute_result"
    }
   ],
   "source": [
    "df.head()"
   ],
   "metadata": {
    "collapsed": false
   }
  },
  {
   "cell_type": "code",
   "execution_count": null,
   "outputs": [],
   "source": [],
   "metadata": {
    "collapsed": false
   }
  }
 ],
 "metadata": {
  "kernelspec": {
   "display_name": "Python 3",
   "language": "python",
   "name": "python3"
  },
  "language_info": {
   "codemirror_mode": {
    "name": "ipython",
    "version": 2
   },
   "file_extension": ".py",
   "mimetype": "text/x-python",
   "name": "python",
   "nbconvert_exporter": "python",
   "pygments_lexer": "ipython2",
   "version": "2.7.6"
  }
 },
 "nbformat": 4,
 "nbformat_minor": 0
}
