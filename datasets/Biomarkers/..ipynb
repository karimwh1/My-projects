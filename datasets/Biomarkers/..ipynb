{
 "cells": [
  {
   "cell_type": "code",
   "execution_count": 1,
   "outputs": [],
   "source": [
    "import pandas as pd"
   ],
   "metadata": {
    "collapsed": false
   }
  },
  {
   "cell_type": "code",
   "execution_count": 2,
   "outputs": [],
   "source": [
    "biomarker = pd.read_csv('biomarkers_final.csv')"
   ],
   "metadata": {
    "collapsed": false
   }
  },
  {
   "cell_type": "code",
   "execution_count": 3,
   "outputs": [
    {
     "data": {
      "text/plain": "                                     name_of_disease abbreviation_of_disease  \\\n0  Glycine Encephalopathy/ Nonketotic Hyperglycin...                     NKH   \n1           Gyrate Atrophy of the Choroid And Retina                    GACR   \n2                          Maple Syrup Urine Disease                    MSUD   \n3  Neonatal Intrahepatic Cholestasis caused by Ci...                   NICCD   \n4                                 Hypermethioninemia                    HMET   \n\n                type_of_disease  \\\n0  Inherited metabolic disorder   \n1  Inherited metabolic disorder   \n2  Inherited metabolic disorder   \n3  Inherited metabolic disorder   \n4  Inherited metabolic disorder   \n\n                                    notes_of_disease  \\\n0  About 80 percent of cases of glycine encephalo...   \n1  Decreased activity of ornithine-delta-aminotra...   \n2  In plasma increased levels of allo-isoleucine,...   \n3  Blood-elevated acetylcarnitine (C2), palmitoyl...   \n4  A deficiency of any of these enzymes (i.e. MAT...   \n\n                                           phenotype  \\\n0  1) Neonatal (classic) presentation-The neonata...   \n1                                                NaN   \n2  1) Classic and intermediate MSUD. 2)There are ...   \n3  The two phenotypes of citrin deficiency are ci...   \n4                                                NaN   \n\n                    organ_affected  cheblid_of_biomarker  \\\n0                   Nervous system               15428.0   \n1                      Muscle, eye               17203.0   \n2                   Nervous system               16414.0   \n3                            Liver               16857.0   \n4  Nervous system,  liver,  muscle               16643.0   \n\n                            description_of_biomarker fullname_of_biomarker  \\\n0  Human Metabolome Database (HMDB): Glycine is a...               Glycine   \n1  Human Metabolome Database (HMDB): L-proline is...             L-Proline   \n2  Human Metabolome Database (HMDB): Valine (abbr...              L-Valine   \n3  Human Metabolome Database (HMDB): Threonine is...           L-Threonine   \n4  Human Metabolome Database (HMDB): Methionine i...          L-Methionine   \n\n  abbreviation_of_biomarker  ... value_of_biomarker normal_conc_of_biomarker  \\\n0                       gly  ...          Increased            180.00-740.00   \n1                     pro_L  ...          Increased           95.00 - 320.00   \n2                     val_L  ...          Increased                65.00-215   \n3                     thr_L  ...          Increased                 25 - 150   \n4                     met_L  ...          Increased              10.00-38.00   \n\n  ramedis_of_biomarker range_conc_of_biomarker biocyc_biomarker  \\\n0                  NaN          550.00-1350.00              GLY   \n1                  NaN                830-1360              PRO   \n2        125, 133, 337         210.00 - 650.00              VAL   \n3                  NaN                     NaN              THR   \n4                  NaN           56.00 -170.00              MET   \n\n                                     smile_biomarker hmdb_biomarker  \\\n0              [H][N+]([H])([H])C([H])([H])C([O-])=O    HMDB0000123   \n1  [H]C1([H])C([H])([H])[N+]([H])([H])[C@]([H])(C...    HMDB0000162   \n2  [H]C([H])([H])C([H])(C([H])([H])[H])[C@@]([H])...    HMDB0000883   \n3  [H]O[C@]([H])(C([H])([H])[H])[C@@]([H])(C([O-]...    HMDB0000167   \n4  [H]C([H])([H])SC([H])([H])C([H])([H])[C@@]([H]...    HMDB0000696   \n\n  reconMap3_biomarker food_db_biomarker pubChemId_biomarker  \n0                 gly         FDB000484               750.0  \n1               pro_L         FDB000570            145742.0  \n2               val_L         FDB000465              6287.0  \n3               thr_L         FDB011999              6288.0  \n4               met_L         FDB012683              6137.0  \n\n[5 rows x 24 columns]",
      "text/html": "<div>\n<style scoped>\n    .dataframe tbody tr th:only-of-type {\n        vertical-align: middle;\n    }\n\n    .dataframe tbody tr th {\n        vertical-align: top;\n    }\n\n    .dataframe thead th {\n        text-align: right;\n    }\n</style>\n<table border=\"1\" class=\"dataframe\">\n  <thead>\n    <tr style=\"text-align: right;\">\n      <th></th>\n      <th>name_of_disease</th>\n      <th>abbreviation_of_disease</th>\n      <th>type_of_disease</th>\n      <th>notes_of_disease</th>\n      <th>phenotype</th>\n      <th>organ_affected</th>\n      <th>cheblid_of_biomarker</th>\n      <th>description_of_biomarker</th>\n      <th>fullname_of_biomarker</th>\n      <th>abbreviation_of_biomarker</th>\n      <th>...</th>\n      <th>value_of_biomarker</th>\n      <th>normal_conc_of_biomarker</th>\n      <th>ramedis_of_biomarker</th>\n      <th>range_conc_of_biomarker</th>\n      <th>biocyc_biomarker</th>\n      <th>smile_biomarker</th>\n      <th>hmdb_biomarker</th>\n      <th>reconMap3_biomarker</th>\n      <th>food_db_biomarker</th>\n      <th>pubChemId_biomarker</th>\n    </tr>\n  </thead>\n  <tbody>\n    <tr>\n      <th>0</th>\n      <td>Glycine Encephalopathy/ Nonketotic Hyperglycin...</td>\n      <td>NKH</td>\n      <td>Inherited metabolic disorder</td>\n      <td>About 80 percent of cases of glycine encephalo...</td>\n      <td>1) Neonatal (classic) presentation-The neonata...</td>\n      <td>Nervous system</td>\n      <td>15428.0</td>\n      <td>Human Metabolome Database (HMDB): Glycine is a...</td>\n      <td>Glycine</td>\n      <td>gly</td>\n      <td>...</td>\n      <td>Increased</td>\n      <td>180.00-740.00</td>\n      <td>NaN</td>\n      <td>550.00-1350.00</td>\n      <td>GLY</td>\n      <td>[H][N+]([H])([H])C([H])([H])C([O-])=O</td>\n      <td>HMDB0000123</td>\n      <td>gly</td>\n      <td>FDB000484</td>\n      <td>750.0</td>\n    </tr>\n    <tr>\n      <th>1</th>\n      <td>Gyrate Atrophy of the Choroid And Retina</td>\n      <td>GACR</td>\n      <td>Inherited metabolic disorder</td>\n      <td>Decreased activity of ornithine-delta-aminotra...</td>\n      <td>NaN</td>\n      <td>Muscle, eye</td>\n      <td>17203.0</td>\n      <td>Human Metabolome Database (HMDB): L-proline is...</td>\n      <td>L-Proline</td>\n      <td>pro_L</td>\n      <td>...</td>\n      <td>Increased</td>\n      <td>95.00 - 320.00</td>\n      <td>NaN</td>\n      <td>830-1360</td>\n      <td>PRO</td>\n      <td>[H]C1([H])C([H])([H])[N+]([H])([H])[C@]([H])(C...</td>\n      <td>HMDB0000162</td>\n      <td>pro_L</td>\n      <td>FDB000570</td>\n      <td>145742.0</td>\n    </tr>\n    <tr>\n      <th>2</th>\n      <td>Maple Syrup Urine Disease</td>\n      <td>MSUD</td>\n      <td>Inherited metabolic disorder</td>\n      <td>In plasma increased levels of allo-isoleucine,...</td>\n      <td>1) Classic and intermediate MSUD. 2)There are ...</td>\n      <td>Nervous system</td>\n      <td>16414.0</td>\n      <td>Human Metabolome Database (HMDB): Valine (abbr...</td>\n      <td>L-Valine</td>\n      <td>val_L</td>\n      <td>...</td>\n      <td>Increased</td>\n      <td>65.00-215</td>\n      <td>125, 133, 337</td>\n      <td>210.00 - 650.00</td>\n      <td>VAL</td>\n      <td>[H]C([H])([H])C([H])(C([H])([H])[H])[C@@]([H])...</td>\n      <td>HMDB0000883</td>\n      <td>val_L</td>\n      <td>FDB000465</td>\n      <td>6287.0</td>\n    </tr>\n    <tr>\n      <th>3</th>\n      <td>Neonatal Intrahepatic Cholestasis caused by Ci...</td>\n      <td>NICCD</td>\n      <td>Inherited metabolic disorder</td>\n      <td>Blood-elevated acetylcarnitine (C2), palmitoyl...</td>\n      <td>The two phenotypes of citrin deficiency are ci...</td>\n      <td>Liver</td>\n      <td>16857.0</td>\n      <td>Human Metabolome Database (HMDB): Threonine is...</td>\n      <td>L-Threonine</td>\n      <td>thr_L</td>\n      <td>...</td>\n      <td>Increased</td>\n      <td>25 - 150</td>\n      <td>NaN</td>\n      <td>NaN</td>\n      <td>THR</td>\n      <td>[H]O[C@]([H])(C([H])([H])[H])[C@@]([H])(C([O-]...</td>\n      <td>HMDB0000167</td>\n      <td>thr_L</td>\n      <td>FDB011999</td>\n      <td>6288.0</td>\n    </tr>\n    <tr>\n      <th>4</th>\n      <td>Hypermethioninemia</td>\n      <td>HMET</td>\n      <td>Inherited metabolic disorder</td>\n      <td>A deficiency of any of these enzymes (i.e. MAT...</td>\n      <td>NaN</td>\n      <td>Nervous system,  liver,  muscle</td>\n      <td>16643.0</td>\n      <td>Human Metabolome Database (HMDB): Methionine i...</td>\n      <td>L-Methionine</td>\n      <td>met_L</td>\n      <td>...</td>\n      <td>Increased</td>\n      <td>10.00-38.00</td>\n      <td>NaN</td>\n      <td>56.00 -170.00</td>\n      <td>MET</td>\n      <td>[H]C([H])([H])SC([H])([H])C([H])([H])[C@@]([H]...</td>\n      <td>HMDB0000696</td>\n      <td>met_L</td>\n      <td>FDB012683</td>\n      <td>6137.0</td>\n    </tr>\n  </tbody>\n</table>\n<p>5 rows × 24 columns</p>\n</div>"
     },
     "execution_count": 3,
     "metadata": {},
     "output_type": "execute_result"
    }
   ],
   "source": [
    "biomarker.head()"
   ],
   "metadata": {
    "collapsed": false
   }
  },
  {
   "cell_type": "code",
   "execution_count": null,
   "outputs": [],
   "source": [],
   "metadata": {
    "collapsed": false
   }
  }
 ],
 "metadata": {
  "kernelspec": {
   "display_name": "Python 3",
   "language": "python",
   "name": "python3"
  },
  "language_info": {
   "codemirror_mode": {
    "name": "ipython",
    "version": 2
   },
   "file_extension": ".py",
   "mimetype": "text/x-python",
   "name": "python",
   "nbconvert_exporter": "python",
   "pygments_lexer": "ipython2",
   "version": "2.7.6"
  }
 },
 "nbformat": 4,
 "nbformat_minor": 0
}
