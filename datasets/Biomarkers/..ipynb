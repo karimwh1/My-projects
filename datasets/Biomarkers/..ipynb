{
 "cells": [
  {
   "cell_type": "code",
   "execution_count": null,
   "metadata": {
    "collapsed": true
   },
   "outputs": [],
   "source": [
    "biocyc_biomarker = bio['metabolite']['biocyc']\n",
    "'biocyc_biomarker':biocyc_biomarker,\n",
    "\n",
    "        'pubChemId_biomarker':pubChemId_biomarker,'smile_biomarker':smile_biomarker,'hmdb_biomarker':hmdb_biomarker,'reconMap3_biomarker':reconMap3_biomarker,'food_db_biomarker':food_db_biomarker,\n",
    "\n",
    "'biocyc_biomarker','pubChemId_biomarker','smile_biomarker','hmdb_biomarker','reconMap3_biomarker','reconMap3_biomarker','food_db_biomarker',"
   ]
  }
 ],
 "metadata": {
  "kernelspec": {
   "display_name": "Python 3",
   "language": "python",
   "name": "python3"
  },
  "language_info": {
   "codemirror_mode": {
    "name": "ipython",
    "version": 2
   },
   "file_extension": ".py",
   "mimetype": "text/x-python",
   "name": "python",
   "nbconvert_exporter": "python",
   "pygments_lexer": "ipython2",
   "version": "2.7.6"
  }
 },
 "nbformat": 4,
 "nbformat_minor": 0
}
