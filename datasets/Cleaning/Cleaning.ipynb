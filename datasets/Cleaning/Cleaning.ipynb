{
 "cells": [
  {
   "cell_type": "code",
   "execution_count": 1,
   "metadata": {
    "collapsed": true
   },
   "outputs": [],
   "source": [
    "import pandas as pd\n",
    "import numpy as np\n"
   ]
  },
  {
   "cell_type": "code",
   "execution_count": 2,
   "outputs": [],
   "source": [
    "bio = pd.read_csv('biomarkers_final.csv')\n",
    "metabo = pd.read_csv('metabolites.csv')"
   ],
   "metadata": {
    "collapsed": false
   }
  },
  {
   "cell_type": "code",
   "execution_count": 4,
   "outputs": [
    {
     "name": "stdout",
     "output_type": "stream",
     "text": [
      "<class 'pandas.core.frame.DataFrame'>\n",
      "RangeIndex: 115 entries, 0 to 114\n",
      "Data columns (total 16 columns):\n",
      " #   Column           Non-Null Count  Dtype \n",
      "---  ------           --------------  ----- \n",
      " 0   name_ofd         115 non-null    object\n",
      " 1   type_ofd         115 non-null    object\n",
      " 2   notes_ofd        115 non-null    object\n",
      " 3   phenotype        108 non-null    object\n",
      " 4   organ_affected   114 non-null    object\n",
      " 5   cheBlId_ofb      115 non-null    int64 \n",
      " 6   description_ofb  66 non-null     object\n",
      " 7   fullName_ofb     115 non-null    object\n",
      " 8   inchiKey_ofb     115 non-null    object\n",
      " 9   inchiString_ofb  115 non-null    object\n",
      " 10  keggId_ofb       41 non-null     object\n",
      " 11  casRegistry_ofb  48 non-null     object\n",
      " 12  value_ofb        115 non-null    object\n",
      " 13  normal_conc_ofb  115 non-null    object\n",
      " 14  ramedis_ofb      26 non-null     object\n",
      " 15  range_conc_ofb   114 non-null    object\n",
      "dtypes: int64(1), object(15)\n",
      "memory usage: 14.5+ KB\n"
     ]
    }
   ],
   "source": [
    "bio.head()\n",
    "bio.info()"
   ],
   "metadata": {
    "collapsed": false
   }
  },
  {
   "cell_type": "code",
   "execution_count": 7,
   "outputs": [
    {
     "data": {
      "text/plain": "0"
     },
     "execution_count": 7,
     "metadata": {},
     "output_type": "execute_result"
    }
   ],
   "source": [
    "bio.duplicated().sum()"
   ],
   "metadata": {
    "collapsed": false
   }
  },
  {
   "cell_type": "code",
   "execution_count": 5,
   "outputs": [
    {
     "data": {
      "text/plain": "  casRegistry  cheBlId                                        description  \\\n0   2800-34-2  15637.0  Human Metabolome Database (HMDB): 10-Formyltet...   \n1         NaN      NaN                                                NaN   \n2         NaN      NaN                                                NaN   \n3         NaN      NaN                                                NaN   \n4         NaN      NaN                                                NaN   \n\n                             fullName         hmdb  \\\n0           10-Formyltetrahydrofolate  HMDB0000972   \n1  10-Formyltetrahydrofolate-[Glu](5)          NaN   \n2  10-Formyltetrahydrofolate-[Glu](6)          NaN   \n3  10-Formyltetrahydrofolate-[Glu](7)          NaN   \n4  10-methyl-3-hydroxy-dodecanoyl-ACP          NaN   \n\n                      inchiKey  \\\n0  AUFGTPPARQZWDO-YUZLPWPTSA-L   \n1  RGSLBOWMZCMTRA-UHFFFAOYSA-H   \n2  SFFBEUFYOPMKMV-CWMPVMSNSA-G   \n3  VTHHVZBTNSHUDD-UHFFFAOYSA-F   \n4                          NaN   \n\n                                         inchiString  keggId  \n0  InChI=1S/C20H23N7O7/c21-20-25-16-15(18(32)26-2...  C00234  \n1  InChI=1S/C40H51N11O19/c41-40-49-32-31(37(66)50...     NaN  \n2  InChI=1S/C45H58N12O22/c46-45-55-36-35(38(67)56...     NaN  \n3  InChI=1S/C50H65N13O25/c51-50-61-40-39(47(84)62...     NaN  \n4                                                NaN     NaN  ",
      "text/html": "<div>\n<style scoped>\n    .dataframe tbody tr th:only-of-type {\n        vertical-align: middle;\n    }\n\n    .dataframe tbody tr th {\n        vertical-align: top;\n    }\n\n    .dataframe thead th {\n        text-align: right;\n    }\n</style>\n<table border=\"1\" class=\"dataframe\">\n  <thead>\n    <tr style=\"text-align: right;\">\n      <th></th>\n      <th>casRegistry</th>\n      <th>cheBlId</th>\n      <th>description</th>\n      <th>fullName</th>\n      <th>hmdb</th>\n      <th>inchiKey</th>\n      <th>inchiString</th>\n      <th>keggId</th>\n    </tr>\n  </thead>\n  <tbody>\n    <tr>\n      <th>0</th>\n      <td>2800-34-2</td>\n      <td>15637.0</td>\n      <td>Human Metabolome Database (HMDB): 10-Formyltet...</td>\n      <td>10-Formyltetrahydrofolate</td>\n      <td>HMDB0000972</td>\n      <td>AUFGTPPARQZWDO-YUZLPWPTSA-L</td>\n      <td>InChI=1S/C20H23N7O7/c21-20-25-16-15(18(32)26-2...</td>\n      <td>C00234</td>\n    </tr>\n    <tr>\n      <th>1</th>\n      <td>NaN</td>\n      <td>NaN</td>\n      <td>NaN</td>\n      <td>10-Formyltetrahydrofolate-[Glu](5)</td>\n      <td>NaN</td>\n      <td>RGSLBOWMZCMTRA-UHFFFAOYSA-H</td>\n      <td>InChI=1S/C40H51N11O19/c41-40-49-32-31(37(66)50...</td>\n      <td>NaN</td>\n    </tr>\n    <tr>\n      <th>2</th>\n      <td>NaN</td>\n      <td>NaN</td>\n      <td>NaN</td>\n      <td>10-Formyltetrahydrofolate-[Glu](6)</td>\n      <td>NaN</td>\n      <td>SFFBEUFYOPMKMV-CWMPVMSNSA-G</td>\n      <td>InChI=1S/C45H58N12O22/c46-45-55-36-35(38(67)56...</td>\n      <td>NaN</td>\n    </tr>\n    <tr>\n      <th>3</th>\n      <td>NaN</td>\n      <td>NaN</td>\n      <td>NaN</td>\n      <td>10-Formyltetrahydrofolate-[Glu](7)</td>\n      <td>NaN</td>\n      <td>VTHHVZBTNSHUDD-UHFFFAOYSA-F</td>\n      <td>InChI=1S/C50H65N13O25/c51-50-61-40-39(47(84)62...</td>\n      <td>NaN</td>\n    </tr>\n    <tr>\n      <th>4</th>\n      <td>NaN</td>\n      <td>NaN</td>\n      <td>NaN</td>\n      <td>10-methyl-3-hydroxy-dodecanoyl-ACP</td>\n      <td>NaN</td>\n      <td>NaN</td>\n      <td>NaN</td>\n      <td>NaN</td>\n    </tr>\n  </tbody>\n</table>\n</div>"
     },
     "execution_count": 5,
     "metadata": {},
     "output_type": "execute_result"
    }
   ],
   "source": [
    "metabo.head()"
   ],
   "metadata": {
    "collapsed": false
   }
  },
  {
   "cell_type": "code",
   "execution_count": 6,
   "outputs": [
    {
     "name": "stdout",
     "output_type": "stream",
     "text": [
      "<class 'pandas.core.frame.DataFrame'>\n",
      "RangeIndex: 5650 entries, 0 to 5649\n",
      "Data columns (total 8 columns):\n",
      " #   Column       Non-Null Count  Dtype  \n",
      "---  ------       --------------  -----  \n",
      " 0   casRegistry  791 non-null    object \n",
      " 1   cheBlId      565 non-null    float64\n",
      " 2   description  904 non-null    object \n",
      " 3   fullName     5650 non-null   object \n",
      " 4   hmdb         1130 non-null   object \n",
      " 5   inchiKey     1469 non-null   object \n",
      " 6   inchiString  1469 non-null   object \n",
      " 7   keggId       678 non-null    object \n",
      "dtypes: float64(1), object(7)\n",
      "memory usage: 353.2+ KB\n"
     ]
    }
   ],
   "source": [
    "metabo.info()"
   ],
   "metadata": {
    "collapsed": false
   }
  },
  {
   "cell_type": "code",
   "execution_count": 9,
   "outputs": [],
   "source": [
    "metabo.columns = metabo.columns.str.lower()"
   ],
   "metadata": {
    "collapsed": false
   }
  },
  {
   "cell_type": "code",
   "execution_count": 14,
   "outputs": [
    {
     "data": {
      "text/plain": "     casregistry_m  cheblid  \\\n0        2800-34-2  15637.0   \n1              NaN      NaN   \n2              NaN      NaN   \n3              NaN      NaN   \n4              NaN      NaN   \n...            ...      ...   \n5645           NaN      NaN   \n5646       57-55-6  16997.0   \n5647     4254-15-3  29002.0   \n5648           NaN      NaN   \n5649           NaN      NaN   \n\n                                            description  \\\n0     Human Metabolome Database (HMDB): 10-Formyltet...   \n1                                                   NaN   \n2                                                   NaN   \n3                                                   NaN   \n4                                                   NaN   \n...                                                 ...   \n5645                                                NaN   \n5646  Human Metabolome Database (HMDB): Propylene gl...   \n5647  Human Metabolome Database (HMDB): (S)-Propane-...   \n5648                                                NaN   \n5649                                                NaN   \n\n                              fullname_m         hmdb  \\\n0              10-Formyltetrahydrofolate  HMDB0000972   \n1     10-Formyltetrahydrofolate-[Glu](5)          NaN   \n2     10-Formyltetrahydrofolate-[Glu](6)          NaN   \n3     10-Formyltetrahydrofolate-[Glu](7)          NaN   \n4     10-methyl-3-hydroxy-dodecanoyl-ACP          NaN   \n...                                  ...          ...   \n5645                 1,2-Naphthalenediol  HMDB0060497   \n5646                    Propylene glycol  HMDB0001881   \n5647                (S)-Propane-1,2-diol  HMDB0006213   \n5648    12R-Hydroperoxyeicosatetraenoate    HMDB06222   \n5649            13-Cis-Oxo-Retinoic Acid          NaN   \n\n                         inchikey  \\\n0     AUFGTPPARQZWDO-YUZLPWPTSA-L   \n1     RGSLBOWMZCMTRA-UHFFFAOYSA-H   \n2     SFFBEUFYOPMKMV-CWMPVMSNSA-G   \n3     VTHHVZBTNSHUDD-UHFFFAOYSA-F   \n4                             NaN   \n...                           ...   \n5645                          NaN   \n5646  DNIAPMSPPWPWGF-UHFFFAOYSA-N   \n5647  DNIAPMSPPWPWGF-VKHMYHEASA-N   \n5648  ZIOZYRSDNLNNNJ-AUXIVJNKSA-M   \n5649  GGCUJPCCTQNTJF-FAOQNJJDSA-M   \n\n                                          inchistring_m keggid_m  \n0     InChI=1S/C20H23N7O7/c21-20-25-16-15(18(32)26-2...   C00234  \n1     InChI=1S/C40H51N11O19/c41-40-49-32-31(37(66)50...      NaN  \n2     InChI=1S/C45H58N12O22/c46-45-55-36-35(38(67)56...      NaN  \n3     InChI=1S/C50H65N13O25/c51-50-61-40-39(47(84)62...      NaN  \n4                                                   NaN      NaN  \n...                                                 ...      ...  \n5645                                                NaN      NaN  \n5646           InChI=1S/C3H8O2/c1-3(5)2-4/h3-5H,2H2,1H3   C00583  \n5647  InChI=1S/C3H8O2/c1-3(5)2-4/h3-5H,2H2,1H3/t3-/m...   C02917  \n5648  InChI=1S/C20H32O4/c1-2-3-4-5-10-13-16-19(24-23...      NaN  \n5649  InChI=1S/C20H26O3/c1-14(7-6-8-15(2)13-19(22)23...      NaN  \n\n[5650 rows x 8 columns]",
      "text/html": "<div>\n<style scoped>\n    .dataframe tbody tr th:only-of-type {\n        vertical-align: middle;\n    }\n\n    .dataframe tbody tr th {\n        vertical-align: top;\n    }\n\n    .dataframe thead th {\n        text-align: right;\n    }\n</style>\n<table border=\"1\" class=\"dataframe\">\n  <thead>\n    <tr style=\"text-align: right;\">\n      <th></th>\n      <th>casregistry_m</th>\n      <th>cheblid</th>\n      <th>description</th>\n      <th>fullname_m</th>\n      <th>hmdb</th>\n      <th>inchikey</th>\n      <th>inchistring_m</th>\n      <th>keggid_m</th>\n    </tr>\n  </thead>\n  <tbody>\n    <tr>\n      <th>0</th>\n      <td>2800-34-2</td>\n      <td>15637.0</td>\n      <td>Human Metabolome Database (HMDB): 10-Formyltet...</td>\n      <td>10-Formyltetrahydrofolate</td>\n      <td>HMDB0000972</td>\n      <td>AUFGTPPARQZWDO-YUZLPWPTSA-L</td>\n      <td>InChI=1S/C20H23N7O7/c21-20-25-16-15(18(32)26-2...</td>\n      <td>C00234</td>\n    </tr>\n    <tr>\n      <th>1</th>\n      <td>NaN</td>\n      <td>NaN</td>\n      <td>NaN</td>\n      <td>10-Formyltetrahydrofolate-[Glu](5)</td>\n      <td>NaN</td>\n      <td>RGSLBOWMZCMTRA-UHFFFAOYSA-H</td>\n      <td>InChI=1S/C40H51N11O19/c41-40-49-32-31(37(66)50...</td>\n      <td>NaN</td>\n    </tr>\n    <tr>\n      <th>2</th>\n      <td>NaN</td>\n      <td>NaN</td>\n      <td>NaN</td>\n      <td>10-Formyltetrahydrofolate-[Glu](6)</td>\n      <td>NaN</td>\n      <td>SFFBEUFYOPMKMV-CWMPVMSNSA-G</td>\n      <td>InChI=1S/C45H58N12O22/c46-45-55-36-35(38(67)56...</td>\n      <td>NaN</td>\n    </tr>\n    <tr>\n      <th>3</th>\n      <td>NaN</td>\n      <td>NaN</td>\n      <td>NaN</td>\n      <td>10-Formyltetrahydrofolate-[Glu](7)</td>\n      <td>NaN</td>\n      <td>VTHHVZBTNSHUDD-UHFFFAOYSA-F</td>\n      <td>InChI=1S/C50H65N13O25/c51-50-61-40-39(47(84)62...</td>\n      <td>NaN</td>\n    </tr>\n    <tr>\n      <th>4</th>\n      <td>NaN</td>\n      <td>NaN</td>\n      <td>NaN</td>\n      <td>10-methyl-3-hydroxy-dodecanoyl-ACP</td>\n      <td>NaN</td>\n      <td>NaN</td>\n      <td>NaN</td>\n      <td>NaN</td>\n    </tr>\n    <tr>\n      <th>...</th>\n      <td>...</td>\n      <td>...</td>\n      <td>...</td>\n      <td>...</td>\n      <td>...</td>\n      <td>...</td>\n      <td>...</td>\n      <td>...</td>\n    </tr>\n    <tr>\n      <th>5645</th>\n      <td>NaN</td>\n      <td>NaN</td>\n      <td>NaN</td>\n      <td>1,2-Naphthalenediol</td>\n      <td>HMDB0060497</td>\n      <td>NaN</td>\n      <td>NaN</td>\n      <td>NaN</td>\n    </tr>\n    <tr>\n      <th>5646</th>\n      <td>57-55-6</td>\n      <td>16997.0</td>\n      <td>Human Metabolome Database (HMDB): Propylene gl...</td>\n      <td>Propylene glycol</td>\n      <td>HMDB0001881</td>\n      <td>DNIAPMSPPWPWGF-UHFFFAOYSA-N</td>\n      <td>InChI=1S/C3H8O2/c1-3(5)2-4/h3-5H,2H2,1H3</td>\n      <td>C00583</td>\n    </tr>\n    <tr>\n      <th>5647</th>\n      <td>4254-15-3</td>\n      <td>29002.0</td>\n      <td>Human Metabolome Database (HMDB): (S)-Propane-...</td>\n      <td>(S)-Propane-1,2-diol</td>\n      <td>HMDB0006213</td>\n      <td>DNIAPMSPPWPWGF-VKHMYHEASA-N</td>\n      <td>InChI=1S/C3H8O2/c1-3(5)2-4/h3-5H,2H2,1H3/t3-/m...</td>\n      <td>C02917</td>\n    </tr>\n    <tr>\n      <th>5648</th>\n      <td>NaN</td>\n      <td>NaN</td>\n      <td>NaN</td>\n      <td>12R-Hydroperoxyeicosatetraenoate</td>\n      <td>HMDB06222</td>\n      <td>ZIOZYRSDNLNNNJ-AUXIVJNKSA-M</td>\n      <td>InChI=1S/C20H32O4/c1-2-3-4-5-10-13-16-19(24-23...</td>\n      <td>NaN</td>\n    </tr>\n    <tr>\n      <th>5649</th>\n      <td>NaN</td>\n      <td>NaN</td>\n      <td>NaN</td>\n      <td>13-Cis-Oxo-Retinoic Acid</td>\n      <td>NaN</td>\n      <td>GGCUJPCCTQNTJF-FAOQNJJDSA-M</td>\n      <td>InChI=1S/C20H26O3/c1-14(7-6-8-15(2)13-19(22)23...</td>\n      <td>NaN</td>\n    </tr>\n  </tbody>\n</table>\n<p>5650 rows × 8 columns</p>\n</div>"
     },
     "execution_count": 14,
     "metadata": {},
     "output_type": "execute_result"
    }
   ],
   "source": [
    "metabo.rename(columns={'casregistry':'casregistry_m','cheBlId':'cheblid_m','fullname':'fullname_m'\n",
    "  ,'inchiKey':'inchikey_m','inchistring':'inchistring_m','keggid':'keggid_m'},inplac=True)"
   ],
   "metadata": {
    "collapsed": false
   }
  },
  {
   "cell_type": "code",
   "execution_count": 19,
   "outputs": [],
   "source": [
    "metabo.to_csv('metabolites_f.csv',index=False)\n",
    "bio.to_csv('biomarkers_f.csv', index=False)"
   ],
   "metadata": {
    "collapsed": false
   }
  },
  {
   "cell_type": "code",
   "execution_count": 20,
   "outputs": [],
   "source": [
    "bio2 = pd.read_csv('biomarkers_f.csv')\n",
    "metabo2= pd.read_csv('biomarkers_f.csv')"
   ],
   "metadata": {
    "collapsed": false
   }
  },
  {
   "cell_type": "code",
   "execution_count": 21,
   "outputs": [
    {
     "data": {
      "text/plain": "                                            name_ofd  \\\n0  Glycine Encephalopathy/ Nonketotic Hyperglycin...   \n1           Gyrate Atrophy of the Choroid And Retina   \n2                          Maple Syrup Urine Disease   \n3  Neonatal Intrahepatic Cholestasis caused by Ci...   \n4                                 Hypermethioninemia   \n\n                       type_ofd  \\\n0  Inherited metabolic disorder   \n1  Inherited metabolic disorder   \n2  Inherited metabolic disorder   \n3  Inherited metabolic disorder   \n4  Inherited metabolic disorder   \n\n                                           notes_ofd  \\\n0  About 80 percent of cases of glycine encephalo...   \n1  Decreased activity of ornithine-delta-aminotra...   \n2  In plasma increased levels of allo-isoleucine,...   \n3  Blood-elevated acetylcarnitine (C2), palmitoyl...   \n4  A deficiency of any of these enzymes (i.e. MAT...   \n\n                                           phenotype  \\\n0  1) Neonatal (classic) presentation-The neonata...   \n1                                                NaN   \n2  1) Classic and intermediate MSUD. 2)There are ...   \n3  The two phenotypes of citrin deficiency are ci...   \n4                                                NaN   \n\n                    organ_affected  cheBlId_ofb  \\\n0                   Nervous system        84842   \n1                      Muscle, eye        84842   \n2                   Nervous system        84842   \n3                            Liver        84842   \n4  Nervous system,  liver,  muscle        84842   \n\n                                     description_ofb  fullName_ofb  \\\n0  Human Metabolome Database (HMDB): Glycine is a...       Glycine   \n1  Human Metabolome Database (HMDB): L-proline is...     L-Proline   \n2  Human Metabolome Database (HMDB): Valine (abbr...      L-Valine   \n3  Human Metabolome Database (HMDB): Threonine is...   L-Threonine   \n4  Human Metabolome Database (HMDB): Methionine i...  L-Methionine   \n\n                  inchiKey_ofb  \\\n0  DHMQDGOQFOQNFH-UHFFFAOYSA-N   \n1  ONIBWKKTOPOVIA-BYPYZUCNSA-N   \n2  KZSNJWFQEVHDMF-BYPYZUCNSA-N   \n3  AYFVYJQAPQTCCC-GBXIJSLDSA-N   \n4  FFEARJCKVFRZRR-BYPYZUCNSA-N   \n\n                                     inchiString_ofb keggId_ofb  \\\n0         InChI=1S/C2H5NO2/c3-1-2(4)5/h1,3H2,(H,4,5)     C00037   \n1  InChI=1S/C5H9NO2/c7-5(8)4-2-1-3-6-4/h4,6H,1-3H...     C00148   \n2  InChI=1S/C5H11NO2/c1-3(2)4(6)5(7)8/h3-4H,6H2,1...     C00183   \n3  InChI=1S/C4H9NO3/c1-2(6)3(5)4(7)8/h2-3,6H,5H2,...     C00188   \n4  InChI=1S/C5H11NO2S/c1-9-3-2-4(6)5(7)8/h4H,2-3,...     C00073   \n\n  casRegistry_ofb  value_ofb normal_conc_ofb    ramedis_ofb   range_conc_ofb  \n0         56-40-6  Increased   180.00-740.00            NaN   550.00-1350.00  \n1        147-85-3  Increased  95.00 - 320.00            NaN         830-1360  \n2         72-18-4  Increased       65.00-215  125, 133, 337  210.00 - 650.00  \n3         72-19-5  Increased        25 - 150            NaN              NaN  \n4         63-68-3  Increased     10.00-38.00            NaN    56.00 -170.00  ",
      "text/html": "<div>\n<style scoped>\n    .dataframe tbody tr th:only-of-type {\n        vertical-align: middle;\n    }\n\n    .dataframe tbody tr th {\n        vertical-align: top;\n    }\n\n    .dataframe thead th {\n        text-align: right;\n    }\n</style>\n<table border=\"1\" class=\"dataframe\">\n  <thead>\n    <tr style=\"text-align: right;\">\n      <th></th>\n      <th>name_ofd</th>\n      <th>type_ofd</th>\n      <th>notes_ofd</th>\n      <th>phenotype</th>\n      <th>organ_affected</th>\n      <th>cheBlId_ofb</th>\n      <th>description_ofb</th>\n      <th>fullName_ofb</th>\n      <th>inchiKey_ofb</th>\n      <th>inchiString_ofb</th>\n      <th>keggId_ofb</th>\n      <th>casRegistry_ofb</th>\n      <th>value_ofb</th>\n      <th>normal_conc_ofb</th>\n      <th>ramedis_ofb</th>\n      <th>range_conc_ofb</th>\n    </tr>\n  </thead>\n  <tbody>\n    <tr>\n      <th>0</th>\n      <td>Glycine Encephalopathy/ Nonketotic Hyperglycin...</td>\n      <td>Inherited metabolic disorder</td>\n      <td>About 80 percent of cases of glycine encephalo...</td>\n      <td>1) Neonatal (classic) presentation-The neonata...</td>\n      <td>Nervous system</td>\n      <td>84842</td>\n      <td>Human Metabolome Database (HMDB): Glycine is a...</td>\n      <td>Glycine</td>\n      <td>DHMQDGOQFOQNFH-UHFFFAOYSA-N</td>\n      <td>InChI=1S/C2H5NO2/c3-1-2(4)5/h1,3H2,(H,4,5)</td>\n      <td>C00037</td>\n      <td>56-40-6</td>\n      <td>Increased</td>\n      <td>180.00-740.00</td>\n      <td>NaN</td>\n      <td>550.00-1350.00</td>\n    </tr>\n    <tr>\n      <th>1</th>\n      <td>Gyrate Atrophy of the Choroid And Retina</td>\n      <td>Inherited metabolic disorder</td>\n      <td>Decreased activity of ornithine-delta-aminotra...</td>\n      <td>NaN</td>\n      <td>Muscle, eye</td>\n      <td>84842</td>\n      <td>Human Metabolome Database (HMDB): L-proline is...</td>\n      <td>L-Proline</td>\n      <td>ONIBWKKTOPOVIA-BYPYZUCNSA-N</td>\n      <td>InChI=1S/C5H9NO2/c7-5(8)4-2-1-3-6-4/h4,6H,1-3H...</td>\n      <td>C00148</td>\n      <td>147-85-3</td>\n      <td>Increased</td>\n      <td>95.00 - 320.00</td>\n      <td>NaN</td>\n      <td>830-1360</td>\n    </tr>\n    <tr>\n      <th>2</th>\n      <td>Maple Syrup Urine Disease</td>\n      <td>Inherited metabolic disorder</td>\n      <td>In plasma increased levels of allo-isoleucine,...</td>\n      <td>1) Classic and intermediate MSUD. 2)There are ...</td>\n      <td>Nervous system</td>\n      <td>84842</td>\n      <td>Human Metabolome Database (HMDB): Valine (abbr...</td>\n      <td>L-Valine</td>\n      <td>KZSNJWFQEVHDMF-BYPYZUCNSA-N</td>\n      <td>InChI=1S/C5H11NO2/c1-3(2)4(6)5(7)8/h3-4H,6H2,1...</td>\n      <td>C00183</td>\n      <td>72-18-4</td>\n      <td>Increased</td>\n      <td>65.00-215</td>\n      <td>125, 133, 337</td>\n      <td>210.00 - 650.00</td>\n    </tr>\n    <tr>\n      <th>3</th>\n      <td>Neonatal Intrahepatic Cholestasis caused by Ci...</td>\n      <td>Inherited metabolic disorder</td>\n      <td>Blood-elevated acetylcarnitine (C2), palmitoyl...</td>\n      <td>The two phenotypes of citrin deficiency are ci...</td>\n      <td>Liver</td>\n      <td>84842</td>\n      <td>Human Metabolome Database (HMDB): Threonine is...</td>\n      <td>L-Threonine</td>\n      <td>AYFVYJQAPQTCCC-GBXIJSLDSA-N</td>\n      <td>InChI=1S/C4H9NO3/c1-2(6)3(5)4(7)8/h2-3,6H,5H2,...</td>\n      <td>C00188</td>\n      <td>72-19-5</td>\n      <td>Increased</td>\n      <td>25 - 150</td>\n      <td>NaN</td>\n      <td>NaN</td>\n    </tr>\n    <tr>\n      <th>4</th>\n      <td>Hypermethioninemia</td>\n      <td>Inherited metabolic disorder</td>\n      <td>A deficiency of any of these enzymes (i.e. MAT...</td>\n      <td>NaN</td>\n      <td>Nervous system,  liver,  muscle</td>\n      <td>84842</td>\n      <td>Human Metabolome Database (HMDB): Methionine i...</td>\n      <td>L-Methionine</td>\n      <td>FFEARJCKVFRZRR-BYPYZUCNSA-N</td>\n      <td>InChI=1S/C5H11NO2S/c1-9-3-2-4(6)5(7)8/h4H,2-3,...</td>\n      <td>C00073</td>\n      <td>63-68-3</td>\n      <td>Increased</td>\n      <td>10.00-38.00</td>\n      <td>NaN</td>\n      <td>56.00 -170.00</td>\n    </tr>\n  </tbody>\n</table>\n</div>"
     },
     "execution_count": 21,
     "metadata": {},
     "output_type": "execute_result"
    }
   ],
   "source": [
    "bio2.head()"
   ],
   "metadata": {
    "collapsed": false
   }
  },
  {
   "cell_type": "code",
   "execution_count": 22,
   "outputs": [
    {
     "data": {
      "text/plain": "                                            name_ofd  \\\n0  Glycine Encephalopathy/ Nonketotic Hyperglycin...   \n1           Gyrate Atrophy of the Choroid And Retina   \n2                          Maple Syrup Urine Disease   \n3  Neonatal Intrahepatic Cholestasis caused by Ci...   \n4                                 Hypermethioninemia   \n\n                       type_ofd  \\\n0  Inherited metabolic disorder   \n1  Inherited metabolic disorder   \n2  Inherited metabolic disorder   \n3  Inherited metabolic disorder   \n4  Inherited metabolic disorder   \n\n                                           notes_ofd  \\\n0  About 80 percent of cases of glycine encephalo...   \n1  Decreased activity of ornithine-delta-aminotra...   \n2  In plasma increased levels of allo-isoleucine,...   \n3  Blood-elevated acetylcarnitine (C2), palmitoyl...   \n4  A deficiency of any of these enzymes (i.e. MAT...   \n\n                                           phenotype  \\\n0  1) Neonatal (classic) presentation-The neonata...   \n1                                                NaN   \n2  1) Classic and intermediate MSUD. 2)There are ...   \n3  The two phenotypes of citrin deficiency are ci...   \n4                                                NaN   \n\n                    organ_affected  cheBlId_ofb  \\\n0                   Nervous system        84842   \n1                      Muscle, eye        84842   \n2                   Nervous system        84842   \n3                            Liver        84842   \n4  Nervous system,  liver,  muscle        84842   \n\n                                     description_ofb  fullName_ofb  \\\n0  Human Metabolome Database (HMDB): Glycine is a...       Glycine   \n1  Human Metabolome Database (HMDB): L-proline is...     L-Proline   \n2  Human Metabolome Database (HMDB): Valine (abbr...      L-Valine   \n3  Human Metabolome Database (HMDB): Threonine is...   L-Threonine   \n4  Human Metabolome Database (HMDB): Methionine i...  L-Methionine   \n\n                  inchiKey_ofb  \\\n0  DHMQDGOQFOQNFH-UHFFFAOYSA-N   \n1  ONIBWKKTOPOVIA-BYPYZUCNSA-N   \n2  KZSNJWFQEVHDMF-BYPYZUCNSA-N   \n3  AYFVYJQAPQTCCC-GBXIJSLDSA-N   \n4  FFEARJCKVFRZRR-BYPYZUCNSA-N   \n\n                                     inchiString_ofb keggId_ofb  \\\n0         InChI=1S/C2H5NO2/c3-1-2(4)5/h1,3H2,(H,4,5)     C00037   \n1  InChI=1S/C5H9NO2/c7-5(8)4-2-1-3-6-4/h4,6H,1-3H...     C00148   \n2  InChI=1S/C5H11NO2/c1-3(2)4(6)5(7)8/h3-4H,6H2,1...     C00183   \n3  InChI=1S/C4H9NO3/c1-2(6)3(5)4(7)8/h2-3,6H,5H2,...     C00188   \n4  InChI=1S/C5H11NO2S/c1-9-3-2-4(6)5(7)8/h4H,2-3,...     C00073   \n\n  casRegistry_ofb  value_ofb normal_conc_ofb    ramedis_ofb   range_conc_ofb  \n0         56-40-6  Increased   180.00-740.00            NaN   550.00-1350.00  \n1        147-85-3  Increased  95.00 - 320.00            NaN         830-1360  \n2         72-18-4  Increased       65.00-215  125, 133, 337  210.00 - 650.00  \n3         72-19-5  Increased        25 - 150            NaN              NaN  \n4         63-68-3  Increased     10.00-38.00            NaN    56.00 -170.00  ",
      "text/html": "<div>\n<style scoped>\n    .dataframe tbody tr th:only-of-type {\n        vertical-align: middle;\n    }\n\n    .dataframe tbody tr th {\n        vertical-align: top;\n    }\n\n    .dataframe thead th {\n        text-align: right;\n    }\n</style>\n<table border=\"1\" class=\"dataframe\">\n  <thead>\n    <tr style=\"text-align: right;\">\n      <th></th>\n      <th>name_ofd</th>\n      <th>type_ofd</th>\n      <th>notes_ofd</th>\n      <th>phenotype</th>\n      <th>organ_affected</th>\n      <th>cheBlId_ofb</th>\n      <th>description_ofb</th>\n      <th>fullName_ofb</th>\n      <th>inchiKey_ofb</th>\n      <th>inchiString_ofb</th>\n      <th>keggId_ofb</th>\n      <th>casRegistry_ofb</th>\n      <th>value_ofb</th>\n      <th>normal_conc_ofb</th>\n      <th>ramedis_ofb</th>\n      <th>range_conc_ofb</th>\n    </tr>\n  </thead>\n  <tbody>\n    <tr>\n      <th>0</th>\n      <td>Glycine Encephalopathy/ Nonketotic Hyperglycin...</td>\n      <td>Inherited metabolic disorder</td>\n      <td>About 80 percent of cases of glycine encephalo...</td>\n      <td>1) Neonatal (classic) presentation-The neonata...</td>\n      <td>Nervous system</td>\n      <td>84842</td>\n      <td>Human Metabolome Database (HMDB): Glycine is a...</td>\n      <td>Glycine</td>\n      <td>DHMQDGOQFOQNFH-UHFFFAOYSA-N</td>\n      <td>InChI=1S/C2H5NO2/c3-1-2(4)5/h1,3H2,(H,4,5)</td>\n      <td>C00037</td>\n      <td>56-40-6</td>\n      <td>Increased</td>\n      <td>180.00-740.00</td>\n      <td>NaN</td>\n      <td>550.00-1350.00</td>\n    </tr>\n    <tr>\n      <th>1</th>\n      <td>Gyrate Atrophy of the Choroid And Retina</td>\n      <td>Inherited metabolic disorder</td>\n      <td>Decreased activity of ornithine-delta-aminotra...</td>\n      <td>NaN</td>\n      <td>Muscle, eye</td>\n      <td>84842</td>\n      <td>Human Metabolome Database (HMDB): L-proline is...</td>\n      <td>L-Proline</td>\n      <td>ONIBWKKTOPOVIA-BYPYZUCNSA-N</td>\n      <td>InChI=1S/C5H9NO2/c7-5(8)4-2-1-3-6-4/h4,6H,1-3H...</td>\n      <td>C00148</td>\n      <td>147-85-3</td>\n      <td>Increased</td>\n      <td>95.00 - 320.00</td>\n      <td>NaN</td>\n      <td>830-1360</td>\n    </tr>\n    <tr>\n      <th>2</th>\n      <td>Maple Syrup Urine Disease</td>\n      <td>Inherited metabolic disorder</td>\n      <td>In plasma increased levels of allo-isoleucine,...</td>\n      <td>1) Classic and intermediate MSUD. 2)There are ...</td>\n      <td>Nervous system</td>\n      <td>84842</td>\n      <td>Human Metabolome Database (HMDB): Valine (abbr...</td>\n      <td>L-Valine</td>\n      <td>KZSNJWFQEVHDMF-BYPYZUCNSA-N</td>\n      <td>InChI=1S/C5H11NO2/c1-3(2)4(6)5(7)8/h3-4H,6H2,1...</td>\n      <td>C00183</td>\n      <td>72-18-4</td>\n      <td>Increased</td>\n      <td>65.00-215</td>\n      <td>125, 133, 337</td>\n      <td>210.00 - 650.00</td>\n    </tr>\n    <tr>\n      <th>3</th>\n      <td>Neonatal Intrahepatic Cholestasis caused by Ci...</td>\n      <td>Inherited metabolic disorder</td>\n      <td>Blood-elevated acetylcarnitine (C2), palmitoyl...</td>\n      <td>The two phenotypes of citrin deficiency are ci...</td>\n      <td>Liver</td>\n      <td>84842</td>\n      <td>Human Metabolome Database (HMDB): Threonine is...</td>\n      <td>L-Threonine</td>\n      <td>AYFVYJQAPQTCCC-GBXIJSLDSA-N</td>\n      <td>InChI=1S/C4H9NO3/c1-2(6)3(5)4(7)8/h2-3,6H,5H2,...</td>\n      <td>C00188</td>\n      <td>72-19-5</td>\n      <td>Increased</td>\n      <td>25 - 150</td>\n      <td>NaN</td>\n      <td>NaN</td>\n    </tr>\n    <tr>\n      <th>4</th>\n      <td>Hypermethioninemia</td>\n      <td>Inherited metabolic disorder</td>\n      <td>A deficiency of any of these enzymes (i.e. MAT...</td>\n      <td>NaN</td>\n      <td>Nervous system,  liver,  muscle</td>\n      <td>84842</td>\n      <td>Human Metabolome Database (HMDB): Methionine i...</td>\n      <td>L-Methionine</td>\n      <td>FFEARJCKVFRZRR-BYPYZUCNSA-N</td>\n      <td>InChI=1S/C5H11NO2S/c1-9-3-2-4(6)5(7)8/h4H,2-3,...</td>\n      <td>C00073</td>\n      <td>63-68-3</td>\n      <td>Increased</td>\n      <td>10.00-38.00</td>\n      <td>NaN</td>\n      <td>56.00 -170.00</td>\n    </tr>\n  </tbody>\n</table>\n</div>"
     },
     "execution_count": 22,
     "metadata": {},
     "output_type": "execute_result"
    }
   ],
   "source": [
    "metabo2.head()"
   ],
   "metadata": {
    "collapsed": false
   }
  },
  {
   "cell_type": "code",
   "execution_count": 3,
   "outputs": [
    {
     "name": "stderr",
     "output_type": "stream",
     "text": [
      "C:\\Users\\karim\\AppData\\Local\\Temp\\ipykernel_14796\\3671883874.py:2: DtypeWarning: Columns (4,5,6,7) have mixed types. Specify dtype option on import or set low_memory=False.\n",
      "  compounds = pd.read_csv('compounds_semi_final.tsv',sep= '\\t')\n"
     ]
    }
   ],
   "source": [
    "chebild = pd.read_csv('chebiId_inchi_3star.tsv', sep= '\\t')\n",
    "compounds = pd.read_csv('compounds_semi_final.tsv',sep= '\\t')\n",
    "datnam = pd.read_csv('datnamf.tsv',sep= '\\t')\n",
    "nams= pd.read_csv('namesf.tsv',sep= '\\t')"
   ],
   "metadata": {
    "collapsed": false
   }
  },
  {
   "cell_type": "code",
   "execution_count": 5,
   "outputs": [
    {
     "data": {
      "text/plain": "   CHEBI_ID                                              InChI\n0        90  InChI=1S/C15H14O6/c16-8-4-11(18)9-6-13(20)15(2...\n1       165  InChI=1S/C10H16O/c1-9(2)7-4-5-10(3,6-7)8(9)11/...\n2       776  InChI=1S/C18H22O3/c1-18-7-6-13-12-5-3-11(19)8-...\n3       943    InChI=1S/C7H3Cl2N/c8-6-2-1-3-7(9)5(6)4-10/h1-3H\n4      1148  InChI=1S/C4H8O3/c1-2-3(5)4(6)7/h3,5H,2H2,1H3,(...",
      "text/html": "<div>\n<style scoped>\n    .dataframe tbody tr th:only-of-type {\n        vertical-align: middle;\n    }\n\n    .dataframe tbody tr th {\n        vertical-align: top;\n    }\n\n    .dataframe thead th {\n        text-align: right;\n    }\n</style>\n<table border=\"1\" class=\"dataframe\">\n  <thead>\n    <tr style=\"text-align: right;\">\n      <th></th>\n      <th>CHEBI_ID</th>\n      <th>InChI</th>\n    </tr>\n  </thead>\n  <tbody>\n    <tr>\n      <th>0</th>\n      <td>90</td>\n      <td>InChI=1S/C15H14O6/c16-8-4-11(18)9-6-13(20)15(2...</td>\n    </tr>\n    <tr>\n      <th>1</th>\n      <td>165</td>\n      <td>InChI=1S/C10H16O/c1-9(2)7-4-5-10(3,6-7)8(9)11/...</td>\n    </tr>\n    <tr>\n      <th>2</th>\n      <td>776</td>\n      <td>InChI=1S/C18H22O3/c1-18-7-6-13-12-5-3-11(19)8-...</td>\n    </tr>\n    <tr>\n      <th>3</th>\n      <td>943</td>\n      <td>InChI=1S/C7H3Cl2N/c8-6-2-1-3-7(9)5(6)4-10/h1-3H</td>\n    </tr>\n    <tr>\n      <th>4</th>\n      <td>1148</td>\n      <td>InChI=1S/C4H8O3/c1-2-3(5)4(6)7/h3,5H,2H2,1H3,(...</td>\n    </tr>\n  </tbody>\n</table>\n</div>"
     },
     "execution_count": 5,
     "metadata": {},
     "output_type": "execute_result"
    }
   ],
   "source": [
    "chebild.head()"
   ],
   "metadata": {
    "collapsed": false
   }
  },
  {
   "cell_type": "code",
   "execution_count": 7,
   "outputs": [
    {
     "name": "stdout",
     "output_type": "stream",
     "text": [
      "<class 'pandas.core.frame.DataFrame'>\n",
      "RangeIndex: 43936 entries, 0 to 43935\n",
      "Data columns (total 2 columns):\n",
      " #   Column    Non-Null Count  Dtype \n",
      "---  ------    --------------  ----- \n",
      " 0   CHEBI_ID  43936 non-null  int64 \n",
      " 1   InChI     43936 non-null  object\n",
      "dtypes: int64(1), object(1)\n",
      "memory usage: 686.6+ KB\n"
     ]
    },
    {
     "data": {
      "text/plain": "Index(['chebi_id', 'inchi'], dtype='object')"
     },
     "execution_count": 7,
     "metadata": {},
     "output_type": "execute_result"
    }
   ],
   "source": [
    "chebild.info()\n",
    "chebild.columns.str.lower()"
   ],
   "metadata": {
    "collapsed": false
   }
  },
  {
   "cell_type": "code",
   "execution_count": 8,
   "outputs": [],
   "source": [
    "chebild.to_csv('chebild_inchi_f.tsv',sep='\\t')"
   ],
   "metadata": {
    "collapsed": false
   }
  },
  {
   "cell_type": "code",
   "execution_count": 4,
   "outputs": [
    {
     "data": {
      "text/plain": "     id chebi_accession         SOURCE  parent_id          name  \\\n0  4798      CHEBI:4798  KEGG COMPOUND        NaN    entacapone   \n1  2341      CHEBI:2341  KEGG COMPOUND        NaN       AACOCF3   \n2  3223      CHEBI:3223  KEGG COMPOUND        NaN     buspirone   \n3  8028      CHEBI:8028  KEGG COMPOUND        NaN  perphenazine   \n4  3423      CHEBI:3423  KEGG COMPOUND        NaN    carmustine   \n\n                                          definition modified_on created_by  \n0  A monocarboxylic acid amide that is N,N-diethy...  2017-02-22      CHEBI  \n1  A fatty acid derivative that is arachidonic ac...  2015-01-22      CHEBI  \n2  An azaspiro compound that is 8-azaspiro[4.5]de...  2018-02-21      CHEBI  \n3  A phenothiazine derivative in which the phenot...  2017-02-22      CHEBI  \n4  A member of the class of N-nitrosoureas that i...  2017-02-22      CHEBI  ",
      "text/html": "<div>\n<style scoped>\n    .dataframe tbody tr th:only-of-type {\n        vertical-align: middle;\n    }\n\n    .dataframe tbody tr th {\n        vertical-align: top;\n    }\n\n    .dataframe thead th {\n        text-align: right;\n    }\n</style>\n<table border=\"1\" class=\"dataframe\">\n  <thead>\n    <tr style=\"text-align: right;\">\n      <th></th>\n      <th>id</th>\n      <th>chebi_accession</th>\n      <th>SOURCE</th>\n      <th>parent_id</th>\n      <th>name</th>\n      <th>definition</th>\n      <th>modified_on</th>\n      <th>created_by</th>\n    </tr>\n  </thead>\n  <tbody>\n    <tr>\n      <th>0</th>\n      <td>4798</td>\n      <td>CHEBI:4798</td>\n      <td>KEGG COMPOUND</td>\n      <td>NaN</td>\n      <td>entacapone</td>\n      <td>A monocarboxylic acid amide that is N,N-diethy...</td>\n      <td>2017-02-22</td>\n      <td>CHEBI</td>\n    </tr>\n    <tr>\n      <th>1</th>\n      <td>2341</td>\n      <td>CHEBI:2341</td>\n      <td>KEGG COMPOUND</td>\n      <td>NaN</td>\n      <td>AACOCF3</td>\n      <td>A fatty acid derivative that is arachidonic ac...</td>\n      <td>2015-01-22</td>\n      <td>CHEBI</td>\n    </tr>\n    <tr>\n      <th>2</th>\n      <td>3223</td>\n      <td>CHEBI:3223</td>\n      <td>KEGG COMPOUND</td>\n      <td>NaN</td>\n      <td>buspirone</td>\n      <td>An azaspiro compound that is 8-azaspiro[4.5]de...</td>\n      <td>2018-02-21</td>\n      <td>CHEBI</td>\n    </tr>\n    <tr>\n      <th>3</th>\n      <td>8028</td>\n      <td>CHEBI:8028</td>\n      <td>KEGG COMPOUND</td>\n      <td>NaN</td>\n      <td>perphenazine</td>\n      <td>A phenothiazine derivative in which the phenot...</td>\n      <td>2017-02-22</td>\n      <td>CHEBI</td>\n    </tr>\n    <tr>\n      <th>4</th>\n      <td>3423</td>\n      <td>CHEBI:3423</td>\n      <td>KEGG COMPOUND</td>\n      <td>NaN</td>\n      <td>carmustine</td>\n      <td>A member of the class of N-nitrosoureas that i...</td>\n      <td>2017-02-22</td>\n      <td>CHEBI</td>\n    </tr>\n  </tbody>\n</table>\n</div>"
     },
     "execution_count": 4,
     "metadata": {},
     "output_type": "execute_result"
    }
   ],
   "source": [
    "compounds.head()"
   ],
   "metadata": {
    "collapsed": false
   }
  },
  {
   "cell_type": "code",
   "execution_count": 5,
   "outputs": [
    {
     "data": {
      "text/plain": "Index(['id', 'chebi_accession', 'source', 'parent_id', 'name', 'definition',\n       'modified_on', 'created_by'],\n      dtype='object')"
     },
     "execution_count": 5,
     "metadata": {},
     "output_type": "execute_result"
    }
   ],
   "source": [
    "compounds.columns.str.lower()"
   ],
   "metadata": {
    "collapsed": false
   }
  },
  {
   "cell_type": "code",
   "execution_count": 6,
   "outputs": [
    {
     "name": "stdout",
     "output_type": "stream",
     "text": [
      "<class 'pandas.core.frame.DataFrame'>\n",
      "RangeIndex: 78083 entries, 0 to 78082\n",
      "Data columns (total 8 columns):\n",
      " #   Column           Non-Null Count  Dtype  \n",
      "---  ------           --------------  -----  \n",
      " 0   id               78083 non-null  int64  \n",
      " 1   chebi_accession  78083 non-null  object \n",
      " 2   SOURCE           78083 non-null  object \n",
      " 3   parent_id        17854 non-null  float64\n",
      " 4   name             60229 non-null  object \n",
      " 5   definition       50356 non-null  object \n",
      " 6   modified_on      60228 non-null  object \n",
      " 7   created_by       60229 non-null  object \n",
      "dtypes: float64(1), int64(1), object(6)\n",
      "memory usage: 4.8+ MB\n"
     ]
    }
   ],
   "source": [
    "compounds.info()"
   ],
   "metadata": {
    "collapsed": false
   }
  },
  {
   "cell_type": "code",
   "execution_count": 7,
   "outputs": [
    {
     "ename": "TypeError",
     "evalue": "unsupported operand type(s) for -: 'str' and 'str'",
     "output_type": "error",
     "traceback": [
      "\u001B[1;31m---------------------------------------------------------------------------\u001B[0m",
      "\u001B[1;31mTypeError\u001B[0m                                 Traceback (most recent call last)",
      "Input \u001B[1;32mIn [7]\u001B[0m, in \u001B[0;36m<cell line: 1>\u001B[1;34m()\u001B[0m\n\u001B[1;32m----> 1\u001B[0m \u001B[38;5;28mprint\u001B[39m(\u001B[43mcompounds\u001B[49m\u001B[38;5;241;43m.\u001B[39;49m\u001B[43mdiff\u001B[49m\u001B[43m(\u001B[49m\u001B[43m)\u001B[49m)\n",
      "File \u001B[1;32m~\\anaconda3\\envs\\Internship\\lib\\site-packages\\pandas\\core\\frame.py:8540\u001B[0m, in \u001B[0;36mDataFrame.diff\u001B[1;34m(self, periods, axis)\u001B[0m\n\u001B[0;32m   8537\u001B[0m \u001B[38;5;28;01mif\u001B[39;00m axis \u001B[38;5;241m==\u001B[39m \u001B[38;5;241m1\u001B[39m \u001B[38;5;129;01mand\u001B[39;00m periods \u001B[38;5;241m!=\u001B[39m \u001B[38;5;241m0\u001B[39m:\n\u001B[0;32m   8538\u001B[0m     \u001B[38;5;28;01mreturn\u001B[39;00m \u001B[38;5;28mself\u001B[39m \u001B[38;5;241m-\u001B[39m \u001B[38;5;28mself\u001B[39m\u001B[38;5;241m.\u001B[39mshift(periods, axis\u001B[38;5;241m=\u001B[39maxis)\n\u001B[1;32m-> 8540\u001B[0m new_data \u001B[38;5;241m=\u001B[39m \u001B[38;5;28;43mself\u001B[39;49m\u001B[38;5;241;43m.\u001B[39;49m\u001B[43m_mgr\u001B[49m\u001B[38;5;241;43m.\u001B[39;49m\u001B[43mdiff\u001B[49m\u001B[43m(\u001B[49m\u001B[43mn\u001B[49m\u001B[38;5;241;43m=\u001B[39;49m\u001B[43mperiods\u001B[49m\u001B[43m,\u001B[49m\u001B[43m \u001B[49m\u001B[43maxis\u001B[49m\u001B[38;5;241;43m=\u001B[39;49m\u001B[43maxis\u001B[49m\u001B[43m)\u001B[49m\n\u001B[0;32m   8541\u001B[0m \u001B[38;5;28;01mreturn\u001B[39;00m \u001B[38;5;28mself\u001B[39m\u001B[38;5;241m.\u001B[39m_constructor(new_data)\u001B[38;5;241m.\u001B[39m__finalize__(\u001B[38;5;28mself\u001B[39m, \u001B[38;5;124m\"\u001B[39m\u001B[38;5;124mdiff\u001B[39m\u001B[38;5;124m\"\u001B[39m)\n",
      "File \u001B[1;32m~\\anaconda3\\envs\\Internship\\lib\\site-packages\\pandas\\core\\internals\\managers.py:356\u001B[0m, in \u001B[0;36mBaseBlockManager.diff\u001B[1;34m(self, n, axis)\u001B[0m\n\u001B[0;32m    354\u001B[0m \u001B[38;5;28;01mdef\u001B[39;00m \u001B[38;5;21mdiff\u001B[39m(\u001B[38;5;28mself\u001B[39m: T, n: \u001B[38;5;28mint\u001B[39m, axis: \u001B[38;5;28mint\u001B[39m) \u001B[38;5;241m-\u001B[39m\u001B[38;5;241m>\u001B[39m T:\n\u001B[0;32m    355\u001B[0m     axis \u001B[38;5;241m=\u001B[39m \u001B[38;5;28mself\u001B[39m\u001B[38;5;241m.\u001B[39m_normalize_axis(axis)\n\u001B[1;32m--> 356\u001B[0m     \u001B[38;5;28;01mreturn\u001B[39;00m \u001B[38;5;28;43mself\u001B[39;49m\u001B[38;5;241;43m.\u001B[39;49m\u001B[43mapply\u001B[49m\u001B[43m(\u001B[49m\u001B[38;5;124;43m\"\u001B[39;49m\u001B[38;5;124;43mdiff\u001B[39;49m\u001B[38;5;124;43m\"\u001B[39;49m\u001B[43m,\u001B[49m\u001B[43m \u001B[49m\u001B[43mn\u001B[49m\u001B[38;5;241;43m=\u001B[39;49m\u001B[43mn\u001B[49m\u001B[43m,\u001B[49m\u001B[43m \u001B[49m\u001B[43maxis\u001B[49m\u001B[38;5;241;43m=\u001B[39;49m\u001B[43maxis\u001B[49m\u001B[43m)\u001B[49m\n",
      "File \u001B[1;32m~\\anaconda3\\envs\\Internship\\lib\\site-packages\\pandas\\core\\internals\\managers.py:304\u001B[0m, in \u001B[0;36mBaseBlockManager.apply\u001B[1;34m(self, f, align_keys, ignore_failures, **kwargs)\u001B[0m\n\u001B[0;32m    302\u001B[0m         applied \u001B[38;5;241m=\u001B[39m b\u001B[38;5;241m.\u001B[39mapply(f, \u001B[38;5;241m*\u001B[39m\u001B[38;5;241m*\u001B[39mkwargs)\n\u001B[0;32m    303\u001B[0m     \u001B[38;5;28;01melse\u001B[39;00m:\n\u001B[1;32m--> 304\u001B[0m         applied \u001B[38;5;241m=\u001B[39m \u001B[38;5;28mgetattr\u001B[39m(b, f)(\u001B[38;5;241m*\u001B[39m\u001B[38;5;241m*\u001B[39mkwargs)\n\u001B[0;32m    305\u001B[0m \u001B[38;5;28;01mexcept\u001B[39;00m (\u001B[38;5;167;01mTypeError\u001B[39;00m, \u001B[38;5;167;01mNotImplementedError\u001B[39;00m):\n\u001B[0;32m    306\u001B[0m     \u001B[38;5;28;01mif\u001B[39;00m \u001B[38;5;129;01mnot\u001B[39;00m ignore_failures:\n",
      "File \u001B[1;32m~\\anaconda3\\envs\\Internship\\lib\\site-packages\\pandas\\core\\internals\\blocks.py:1156\u001B[0m, in \u001B[0;36mBlock.diff\u001B[1;34m(self, n, axis)\u001B[0m\n\u001B[0;32m   1154\u001B[0m \u001B[38;5;28;01mdef\u001B[39;00m \u001B[38;5;21mdiff\u001B[39m(\u001B[38;5;28mself\u001B[39m, n: \u001B[38;5;28mint\u001B[39m, axis: \u001B[38;5;28mint\u001B[39m \u001B[38;5;241m=\u001B[39m \u001B[38;5;241m1\u001B[39m) \u001B[38;5;241m-\u001B[39m\u001B[38;5;241m>\u001B[39m \u001B[38;5;28mlist\u001B[39m[Block]:\n\u001B[0;32m   1155\u001B[0m     \u001B[38;5;124;03m\"\"\"return block for the diff of the values\"\"\"\u001B[39;00m\n\u001B[1;32m-> 1156\u001B[0m     new_values \u001B[38;5;241m=\u001B[39m \u001B[43malgos\u001B[49m\u001B[38;5;241;43m.\u001B[39;49m\u001B[43mdiff\u001B[49m\u001B[43m(\u001B[49m\u001B[38;5;28;43mself\u001B[39;49m\u001B[38;5;241;43m.\u001B[39;49m\u001B[43mvalues\u001B[49m\u001B[43m,\u001B[49m\u001B[43m \u001B[49m\u001B[43mn\u001B[49m\u001B[43m,\u001B[49m\u001B[43m \u001B[49m\u001B[43maxis\u001B[49m\u001B[38;5;241;43m=\u001B[39;49m\u001B[43maxis\u001B[49m\u001B[43m)\u001B[49m\n\u001B[0;32m   1157\u001B[0m     \u001B[38;5;28;01mreturn\u001B[39;00m [\u001B[38;5;28mself\u001B[39m\u001B[38;5;241m.\u001B[39mmake_block(values\u001B[38;5;241m=\u001B[39mnew_values)]\n",
      "File \u001B[1;32m~\\anaconda3\\envs\\Internship\\lib\\site-packages\\pandas\\core\\algorithms.py:1651\u001B[0m, in \u001B[0;36mdiff\u001B[1;34m(arr, n, axis)\u001B[0m\n\u001B[0;32m   1648\u001B[0m     _lag_indexer[axis] \u001B[38;5;241m=\u001B[39m \u001B[38;5;28mslice\u001B[39m(\u001B[38;5;28;01mNone\u001B[39;00m, \u001B[38;5;241m-\u001B[39mn) \u001B[38;5;28;01mif\u001B[39;00m n \u001B[38;5;241m>\u001B[39m \u001B[38;5;241m0\u001B[39m \u001B[38;5;28;01melse\u001B[39;00m \u001B[38;5;28mslice\u001B[39m(\u001B[38;5;241m-\u001B[39mn, \u001B[38;5;28;01mNone\u001B[39;00m)\n\u001B[0;32m   1649\u001B[0m     lag_indexer \u001B[38;5;241m=\u001B[39m \u001B[38;5;28mtuple\u001B[39m(_lag_indexer)\n\u001B[1;32m-> 1651\u001B[0m     out_arr[res_indexer] \u001B[38;5;241m=\u001B[39m \u001B[43mop\u001B[49m\u001B[43m(\u001B[49m\u001B[43marr\u001B[49m\u001B[43m[\u001B[49m\u001B[43mres_indexer\u001B[49m\u001B[43m]\u001B[49m\u001B[43m,\u001B[49m\u001B[43m \u001B[49m\u001B[43marr\u001B[49m\u001B[43m[\u001B[49m\u001B[43mlag_indexer\u001B[49m\u001B[43m]\u001B[49m\u001B[43m)\u001B[49m\n\u001B[0;32m   1653\u001B[0m \u001B[38;5;28;01mif\u001B[39;00m is_timedelta:\n\u001B[0;32m   1654\u001B[0m     out_arr \u001B[38;5;241m=\u001B[39m out_arr\u001B[38;5;241m.\u001B[39mview(\u001B[38;5;124m\"\u001B[39m\u001B[38;5;124mtimedelta64[ns]\u001B[39m\u001B[38;5;124m\"\u001B[39m)\n",
      "\u001B[1;31mTypeError\u001B[0m: unsupported operand type(s) for -: 'str' and 'str'"
     ]
    }
   ],
   "source": [
    "print(compounds.diff())"
   ],
   "metadata": {
    "collapsed": false
   }
  },
  {
   "cell_type": "code",
   "execution_count": 8,
   "outputs": [],
   "source": [
    "compounds['chebi_accession'] = compounds['chebi_accession'].astype('str').str.extractall('(\\d+)').unstack().sum(axis=1).astype(int)"
   ],
   "metadata": {
    "collapsed": false
   }
  },
  {
   "cell_type": "code",
   "execution_count": 16,
   "outputs": [
    {
     "data": {
      "text/plain": "     id  chebi_accession         SOURCE  parent_id          name  \\\n0  4798             4798  KEGG COMPOUND        NaN    entacapone   \n1  2341             2341  KEGG COMPOUND        NaN       AACOCF3   \n2  3223             3223  KEGG COMPOUND        NaN     buspirone   \n3  8028             8028  KEGG COMPOUND        NaN  perphenazine   \n4  3423             3423  KEGG COMPOUND        NaN    carmustine   \n\n                                          definition modified_on created_by  \n0  A monocarboxylic acid amide that is N,N-diethy...  2017-02-22      CHEBI  \n1  A fatty acid derivative that is arachidonic ac...  2015-01-22      CHEBI  \n2  An azaspiro compound that is 8-azaspiro[4.5]de...  2018-02-21      CHEBI  \n3  A phenothiazine derivative in which the phenot...  2017-02-22      CHEBI  \n4  A member of the class of N-nitrosoureas that i...  2017-02-22      CHEBI  ",
      "text/html": "<div>\n<style scoped>\n    .dataframe tbody tr th:only-of-type {\n        vertical-align: middle;\n    }\n\n    .dataframe tbody tr th {\n        vertical-align: top;\n    }\n\n    .dataframe thead th {\n        text-align: right;\n    }\n</style>\n<table border=\"1\" class=\"dataframe\">\n  <thead>\n    <tr style=\"text-align: right;\">\n      <th></th>\n      <th>id</th>\n      <th>chebi_accession</th>\n      <th>SOURCE</th>\n      <th>parent_id</th>\n      <th>name</th>\n      <th>definition</th>\n      <th>modified_on</th>\n      <th>created_by</th>\n    </tr>\n  </thead>\n  <tbody>\n    <tr>\n      <th>0</th>\n      <td>4798</td>\n      <td>4798</td>\n      <td>KEGG COMPOUND</td>\n      <td>NaN</td>\n      <td>entacapone</td>\n      <td>A monocarboxylic acid amide that is N,N-diethy...</td>\n      <td>2017-02-22</td>\n      <td>CHEBI</td>\n    </tr>\n    <tr>\n      <th>1</th>\n      <td>2341</td>\n      <td>2341</td>\n      <td>KEGG COMPOUND</td>\n      <td>NaN</td>\n      <td>AACOCF3</td>\n      <td>A fatty acid derivative that is arachidonic ac...</td>\n      <td>2015-01-22</td>\n      <td>CHEBI</td>\n    </tr>\n    <tr>\n      <th>2</th>\n      <td>3223</td>\n      <td>3223</td>\n      <td>KEGG COMPOUND</td>\n      <td>NaN</td>\n      <td>buspirone</td>\n      <td>An azaspiro compound that is 8-azaspiro[4.5]de...</td>\n      <td>2018-02-21</td>\n      <td>CHEBI</td>\n    </tr>\n    <tr>\n      <th>3</th>\n      <td>8028</td>\n      <td>8028</td>\n      <td>KEGG COMPOUND</td>\n      <td>NaN</td>\n      <td>perphenazine</td>\n      <td>A phenothiazine derivative in which the phenot...</td>\n      <td>2017-02-22</td>\n      <td>CHEBI</td>\n    </tr>\n    <tr>\n      <th>4</th>\n      <td>3423</td>\n      <td>3423</td>\n      <td>KEGG COMPOUND</td>\n      <td>NaN</td>\n      <td>carmustine</td>\n      <td>A member of the class of N-nitrosoureas that i...</td>\n      <td>2017-02-22</td>\n      <td>CHEBI</td>\n    </tr>\n  </tbody>\n</table>\n</div>"
     },
     "execution_count": 16,
     "metadata": {},
     "output_type": "execute_result"
    }
   ],
   "source": [
    "compounds.head()"
   ],
   "metadata": {
    "collapsed": false
   }
  },
  {
   "cell_type": "code",
   "execution_count": 10,
   "outputs": [
    {
     "ename": "KeyError",
     "evalue": "('id', 'chebi_accession')",
     "output_type": "error",
     "traceback": [
      "\u001B[1;31m---------------------------------------------------------------------------\u001B[0m",
      "\u001B[1;31mKeyError\u001B[0m                                  Traceback (most recent call last)",
      "File \u001B[1;32m~\\anaconda3\\envs\\Internship\\lib\\site-packages\\pandas\\core\\indexes\\base.py:3621\u001B[0m, in \u001B[0;36mIndex.get_loc\u001B[1;34m(self, key, method, tolerance)\u001B[0m\n\u001B[0;32m   3620\u001B[0m \u001B[38;5;28;01mtry\u001B[39;00m:\n\u001B[1;32m-> 3621\u001B[0m     \u001B[38;5;28;01mreturn\u001B[39;00m \u001B[38;5;28;43mself\u001B[39;49m\u001B[38;5;241;43m.\u001B[39;49m\u001B[43m_engine\u001B[49m\u001B[38;5;241;43m.\u001B[39;49m\u001B[43mget_loc\u001B[49m\u001B[43m(\u001B[49m\u001B[43mcasted_key\u001B[49m\u001B[43m)\u001B[49m\n\u001B[0;32m   3622\u001B[0m \u001B[38;5;28;01mexcept\u001B[39;00m \u001B[38;5;167;01mKeyError\u001B[39;00m \u001B[38;5;28;01mas\u001B[39;00m err:\n",
      "File \u001B[1;32m~\\anaconda3\\envs\\Internship\\lib\\site-packages\\pandas\\_libs\\index.pyx:136\u001B[0m, in \u001B[0;36mpandas._libs.index.IndexEngine.get_loc\u001B[1;34m()\u001B[0m\n",
      "File \u001B[1;32m~\\anaconda3\\envs\\Internship\\lib\\site-packages\\pandas\\_libs\\index.pyx:163\u001B[0m, in \u001B[0;36mpandas._libs.index.IndexEngine.get_loc\u001B[1;34m()\u001B[0m\n",
      "File \u001B[1;32mpandas\\_libs\\hashtable_class_helper.pxi:5198\u001B[0m, in \u001B[0;36mpandas._libs.hashtable.PyObjectHashTable.get_item\u001B[1;34m()\u001B[0m\n",
      "File \u001B[1;32mpandas\\_libs\\hashtable_class_helper.pxi:5206\u001B[0m, in \u001B[0;36mpandas._libs.hashtable.PyObjectHashTable.get_item\u001B[1;34m()\u001B[0m\n",
      "\u001B[1;31mKeyError\u001B[0m: ('id', 'chebi_accession')",
      "\nThe above exception was the direct cause of the following exception:\n",
      "\u001B[1;31mKeyError\u001B[0m                                  Traceback (most recent call last)",
      "Input \u001B[1;32mIn [10]\u001B[0m, in \u001B[0;36m<cell line: 1>\u001B[1;34m()\u001B[0m\n\u001B[1;32m----> 1\u001B[0m \u001B[38;5;28mprint\u001B[39m(\u001B[43mcompounds\u001B[49m\u001B[43m[\u001B[49m\u001B[38;5;124;43m'\u001B[39;49m\u001B[38;5;124;43mid\u001B[39;49m\u001B[38;5;124;43m'\u001B[39;49m\u001B[43m,\u001B[49m\u001B[38;5;124;43m'\u001B[39;49m\u001B[38;5;124;43mchebi_accession\u001B[39;49m\u001B[38;5;124;43m'\u001B[39;49m\u001B[43m]\u001B[49m\u001B[38;5;241m.\u001B[39mdiff())\n",
      "File \u001B[1;32m~\\anaconda3\\envs\\Internship\\lib\\site-packages\\pandas\\core\\frame.py:3505\u001B[0m, in \u001B[0;36mDataFrame.__getitem__\u001B[1;34m(self, key)\u001B[0m\n\u001B[0;32m   3503\u001B[0m \u001B[38;5;28;01mif\u001B[39;00m \u001B[38;5;28mself\u001B[39m\u001B[38;5;241m.\u001B[39mcolumns\u001B[38;5;241m.\u001B[39mnlevels \u001B[38;5;241m>\u001B[39m \u001B[38;5;241m1\u001B[39m:\n\u001B[0;32m   3504\u001B[0m     \u001B[38;5;28;01mreturn\u001B[39;00m \u001B[38;5;28mself\u001B[39m\u001B[38;5;241m.\u001B[39m_getitem_multilevel(key)\n\u001B[1;32m-> 3505\u001B[0m indexer \u001B[38;5;241m=\u001B[39m \u001B[38;5;28;43mself\u001B[39;49m\u001B[38;5;241;43m.\u001B[39;49m\u001B[43mcolumns\u001B[49m\u001B[38;5;241;43m.\u001B[39;49m\u001B[43mget_loc\u001B[49m\u001B[43m(\u001B[49m\u001B[43mkey\u001B[49m\u001B[43m)\u001B[49m\n\u001B[0;32m   3506\u001B[0m \u001B[38;5;28;01mif\u001B[39;00m is_integer(indexer):\n\u001B[0;32m   3507\u001B[0m     indexer \u001B[38;5;241m=\u001B[39m [indexer]\n",
      "File \u001B[1;32m~\\anaconda3\\envs\\Internship\\lib\\site-packages\\pandas\\core\\indexes\\base.py:3623\u001B[0m, in \u001B[0;36mIndex.get_loc\u001B[1;34m(self, key, method, tolerance)\u001B[0m\n\u001B[0;32m   3621\u001B[0m     \u001B[38;5;28;01mreturn\u001B[39;00m \u001B[38;5;28mself\u001B[39m\u001B[38;5;241m.\u001B[39m_engine\u001B[38;5;241m.\u001B[39mget_loc(casted_key)\n\u001B[0;32m   3622\u001B[0m \u001B[38;5;28;01mexcept\u001B[39;00m \u001B[38;5;167;01mKeyError\u001B[39;00m \u001B[38;5;28;01mas\u001B[39;00m err:\n\u001B[1;32m-> 3623\u001B[0m     \u001B[38;5;28;01mraise\u001B[39;00m \u001B[38;5;167;01mKeyError\u001B[39;00m(key) \u001B[38;5;28;01mfrom\u001B[39;00m \u001B[38;5;21;01merr\u001B[39;00m\n\u001B[0;32m   3624\u001B[0m \u001B[38;5;28;01mexcept\u001B[39;00m \u001B[38;5;167;01mTypeError\u001B[39;00m:\n\u001B[0;32m   3625\u001B[0m     \u001B[38;5;66;03m# If we have a listlike key, _check_indexing_error will raise\u001B[39;00m\n\u001B[0;32m   3626\u001B[0m     \u001B[38;5;66;03m#  InvalidIndexError. Otherwise we fall through and re-raise\u001B[39;00m\n\u001B[0;32m   3627\u001B[0m     \u001B[38;5;66;03m#  the TypeError.\u001B[39;00m\n\u001B[0;32m   3628\u001B[0m     \u001B[38;5;28mself\u001B[39m\u001B[38;5;241m.\u001B[39m_check_indexing_error(key)\n",
      "\u001B[1;31mKeyError\u001B[0m: ('id', 'chebi_accession')"
     ]
    }
   ],
   "source": [
    "print(compounds['id','chebi_accession'].diff())"
   ],
   "metadata": {
    "collapsed": false
   }
  },
  {
   "cell_type": "code",
   "execution_count": 11,
   "outputs": [
    {
     "name": "stdout",
     "output_type": "stream",
     "text": [
      "0        0\n",
      "1        0\n",
      "2        0\n",
      "3        0\n",
      "4        0\n",
      "        ..\n",
      "78078    0\n",
      "78079    0\n",
      "78080    0\n",
      "78081    0\n",
      "78082    0\n",
      "Length: 78083, dtype: int64\n"
     ]
    }
   ],
   "source": [
    "difference = compounds['id']-compounds['chebi_accession']\n",
    "print(difference)\n"
   ],
   "metadata": {
    "collapsed": false
   }
  },
  {
   "cell_type": "code",
   "execution_count": 12,
   "outputs": [
    {
     "data": {
      "text/plain": "0"
     },
     "execution_count": 12,
     "metadata": {},
     "output_type": "execute_result"
    }
   ],
   "source": [
    "difference.sum()"
   ],
   "metadata": {
    "collapsed": false
   }
  },
  {
   "cell_type": "code",
   "execution_count": 25,
   "outputs": [],
   "source": [
    "compounds.drop('id',axis=1,inplace=True)"
   ],
   "metadata": {
    "collapsed": false
   }
  },
  {
   "cell_type": "code",
   "execution_count": 26,
   "outputs": [],
   "source": [
    "compounds.drop('parent_id',axis=1,inplace=True)"
   ],
   "metadata": {
    "collapsed": false
   }
  },
  {
   "cell_type": "code",
   "execution_count": 27,
   "outputs": [],
   "source": [
    "compounds.drop('modified_on',axis=1,inplace=True)"
   ],
   "metadata": {
    "collapsed": false
   }
  },
  {
   "cell_type": "code",
   "execution_count": 28,
   "outputs": [
    {
     "data": {
      "text/plain": "   chebi_accession         SOURCE          name  \\\n0             4798  KEGG COMPOUND    entacapone   \n1             2341  KEGG COMPOUND       AACOCF3   \n2             3223  KEGG COMPOUND     buspirone   \n3             8028  KEGG COMPOUND  perphenazine   \n4             3423  KEGG COMPOUND    carmustine   \n\n                                          definition created_by  \n0  A monocarboxylic acid amide that is N,N-diethy...      CHEBI  \n1  A fatty acid derivative that is arachidonic ac...      CHEBI  \n2  An azaspiro compound that is 8-azaspiro[4.5]de...      CHEBI  \n3  A phenothiazine derivative in which the phenot...      CHEBI  \n4  A member of the class of N-nitrosoureas that i...      CHEBI  ",
      "text/html": "<div>\n<style scoped>\n    .dataframe tbody tr th:only-of-type {\n        vertical-align: middle;\n    }\n\n    .dataframe tbody tr th {\n        vertical-align: top;\n    }\n\n    .dataframe thead th {\n        text-align: right;\n    }\n</style>\n<table border=\"1\" class=\"dataframe\">\n  <thead>\n    <tr style=\"text-align: right;\">\n      <th></th>\n      <th>chebi_accession</th>\n      <th>SOURCE</th>\n      <th>name</th>\n      <th>definition</th>\n      <th>created_by</th>\n    </tr>\n  </thead>\n  <tbody>\n    <tr>\n      <th>0</th>\n      <td>4798</td>\n      <td>KEGG COMPOUND</td>\n      <td>entacapone</td>\n      <td>A monocarboxylic acid amide that is N,N-diethy...</td>\n      <td>CHEBI</td>\n    </tr>\n    <tr>\n      <th>1</th>\n      <td>2341</td>\n      <td>KEGG COMPOUND</td>\n      <td>AACOCF3</td>\n      <td>A fatty acid derivative that is arachidonic ac...</td>\n      <td>CHEBI</td>\n    </tr>\n    <tr>\n      <th>2</th>\n      <td>3223</td>\n      <td>KEGG COMPOUND</td>\n      <td>buspirone</td>\n      <td>An azaspiro compound that is 8-azaspiro[4.5]de...</td>\n      <td>CHEBI</td>\n    </tr>\n    <tr>\n      <th>3</th>\n      <td>8028</td>\n      <td>KEGG COMPOUND</td>\n      <td>perphenazine</td>\n      <td>A phenothiazine derivative in which the phenot...</td>\n      <td>CHEBI</td>\n    </tr>\n    <tr>\n      <th>4</th>\n      <td>3423</td>\n      <td>KEGG COMPOUND</td>\n      <td>carmustine</td>\n      <td>A member of the class of N-nitrosoureas that i...</td>\n      <td>CHEBI</td>\n    </tr>\n  </tbody>\n</table>\n</div>"
     },
     "execution_count": 28,
     "metadata": {},
     "output_type": "execute_result"
    }
   ],
   "source": [
    "compounds.head()"
   ],
   "metadata": {
    "collapsed": false
   }
  },
  {
   "cell_type": "code",
   "execution_count": 29,
   "outputs": [],
   "source": [
    "compounds.to_csv('compounds_f.csv',index= False)"
   ],
   "metadata": {
    "collapsed": false
   }
  },
  {
   "cell_type": "code",
   "execution_count": 30,
   "outputs": [],
   "source": [
    "ds = pd.read_csv('compounds_f.csv')"
   ],
   "metadata": {
    "collapsed": false
   }
  },
  {
   "cell_type": "code",
   "execution_count": 32,
   "outputs": [
    {
     "data": {
      "text/plain": "   chebi_accession         SOURCE          name  \\\n0             4798  KEGG COMPOUND    entacapone   \n1             2341  KEGG COMPOUND       AACOCF3   \n2             3223  KEGG COMPOUND     buspirone   \n3             8028  KEGG COMPOUND  perphenazine   \n4             3423  KEGG COMPOUND    carmustine   \n\n                                          definition created_by  \n0  A monocarboxylic acid amide that is N,N-diethy...      CHEBI  \n1  A fatty acid derivative that is arachidonic ac...      CHEBI  \n2  An azaspiro compound that is 8-azaspiro[4.5]de...      CHEBI  \n3  A phenothiazine derivative in which the phenot...      CHEBI  \n4  A member of the class of N-nitrosoureas that i...      CHEBI  ",
      "text/html": "<div>\n<style scoped>\n    .dataframe tbody tr th:only-of-type {\n        vertical-align: middle;\n    }\n\n    .dataframe tbody tr th {\n        vertical-align: top;\n    }\n\n    .dataframe thead th {\n        text-align: right;\n    }\n</style>\n<table border=\"1\" class=\"dataframe\">\n  <thead>\n    <tr style=\"text-align: right;\">\n      <th></th>\n      <th>chebi_accession</th>\n      <th>SOURCE</th>\n      <th>name</th>\n      <th>definition</th>\n      <th>created_by</th>\n    </tr>\n  </thead>\n  <tbody>\n    <tr>\n      <th>0</th>\n      <td>4798</td>\n      <td>KEGG COMPOUND</td>\n      <td>entacapone</td>\n      <td>A monocarboxylic acid amide that is N,N-diethy...</td>\n      <td>CHEBI</td>\n    </tr>\n    <tr>\n      <th>1</th>\n      <td>2341</td>\n      <td>KEGG COMPOUND</td>\n      <td>AACOCF3</td>\n      <td>A fatty acid derivative that is arachidonic ac...</td>\n      <td>CHEBI</td>\n    </tr>\n    <tr>\n      <th>2</th>\n      <td>3223</td>\n      <td>KEGG COMPOUND</td>\n      <td>buspirone</td>\n      <td>An azaspiro compound that is 8-azaspiro[4.5]de...</td>\n      <td>CHEBI</td>\n    </tr>\n    <tr>\n      <th>3</th>\n      <td>8028</td>\n      <td>KEGG COMPOUND</td>\n      <td>perphenazine</td>\n      <td>A phenothiazine derivative in which the phenot...</td>\n      <td>CHEBI</td>\n    </tr>\n    <tr>\n      <th>4</th>\n      <td>3423</td>\n      <td>KEGG COMPOUND</td>\n      <td>carmustine</td>\n      <td>A member of the class of N-nitrosoureas that i...</td>\n      <td>CHEBI</td>\n    </tr>\n  </tbody>\n</table>\n</div>"
     },
     "execution_count": 32,
     "metadata": {},
     "output_type": "execute_result"
    }
   ],
   "source": [
    "ds.head()"
   ],
   "metadata": {
    "collapsed": false
   }
  },
  {
   "cell_type": "code",
   "execution_count": null,
   "outputs": [],
   "source": [],
   "metadata": {
    "collapsed": false
   }
  }
 ],
 "metadata": {
  "kernelspec": {
   "display_name": "Python 3",
   "language": "python",
   "name": "python3"
  },
  "language_info": {
   "codemirror_mode": {
    "name": "ipython",
    "version": 2
   },
   "file_extension": ".py",
   "mimetype": "text/x-python",
   "name": "python",
   "nbconvert_exporter": "python",
   "pygments_lexer": "ipython2",
   "version": "2.7.6"
  }
 },
 "nbformat": 4,
 "nbformat_minor": 0
}
