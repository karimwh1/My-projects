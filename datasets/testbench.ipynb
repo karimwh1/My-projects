{
 "cells": [
  {
   "cell_type": "code",
   "execution_count": 1,
   "metadata": {
    "collapsed": true
   },
   "outputs": [],
   "source": [
    "import json\n",
    "import pandas as pd\n",
    "import numpy as np\n"
   ]
  },
  {
   "cell_type": "code",
   "execution_count": 6,
   "outputs": [],
   "source": [
    "results = pd.read_json(\"results_page_1.json\")"
   ],
   "metadata": {
    "collapsed": false
   }
  },
  {
   "cell_type": "code",
   "execution_count": 7,
   "outputs": [
    {
     "data": {
      "text/plain": "                                          metabolite  \\\n0  {'met_id': 345, 'abbreviation': 'gly', 'create...   \n1  {'met_id': 928, 'abbreviation': 'pro_L', 'crea...   \n2  {'met_id': 984, 'abbreviation': 'val_L', 'crea...   \n3  {'met_id': 370, 'abbreviation': 'thr_L', 'crea...   \n4  {'met_id': 523, 'abbreviation': 'met_L', 'crea...   \n\n                                                 iem  name      value  \\\n0  {'createdDate': '2018-05-31T15:53:21.702280Z',...   NaN  Increased   \n1  {'createdDate': '2018-05-31T15:53:21.702280Z',...   NaN  Increased   \n2  {'createdDate': '2018-05-31T15:53:21.702280Z',...   NaN  Increased   \n3  {'createdDate': '2018-05-31T15:53:21.702280Z',...   NaN  Increased   \n4  {'createdDate': '2018-05-31T15:53:21.702280Z',...   NaN  Increased   \n\n  normalConcentration rangeConcentration                       reference  \\\n0       180.00-740.00     550.00-1350.00  PMID: 21325949, PMID: 24190799   \n1      95.00 - 320.00           830-1360  PMID: 21325949, PMID: 24190799   \n2           65.00-215    210.00 - 650.00  PMID: 21325949, PMID: 24190799   \n3            25 - 150                     PMID: 21325949, PMID: 24190799   \n4         10.00-38.00      56.00 -170.00  PMID: 21325949, PMID: 24190799   \n\n         ramedis  \n0                 \n1                 \n2  125, 133, 337  \n3                 \n4                 ",
      "text/html": "<div>\n<style scoped>\n    .dataframe tbody tr th:only-of-type {\n        vertical-align: middle;\n    }\n\n    .dataframe tbody tr th {\n        vertical-align: top;\n    }\n\n    .dataframe thead th {\n        text-align: right;\n    }\n</style>\n<table border=\"1\" class=\"dataframe\">\n  <thead>\n    <tr style=\"text-align: right;\">\n      <th></th>\n      <th>metabolite</th>\n      <th>iem</th>\n      <th>name</th>\n      <th>value</th>\n      <th>normalConcentration</th>\n      <th>rangeConcentration</th>\n      <th>reference</th>\n      <th>ramedis</th>\n    </tr>\n  </thead>\n  <tbody>\n    <tr>\n      <th>0</th>\n      <td>{'met_id': 345, 'abbreviation': 'gly', 'create...</td>\n      <td>{'createdDate': '2018-05-31T15:53:21.702280Z',...</td>\n      <td>NaN</td>\n      <td>Increased</td>\n      <td>180.00-740.00</td>\n      <td>550.00-1350.00</td>\n      <td>PMID: 21325949, PMID: 24190799</td>\n      <td></td>\n    </tr>\n    <tr>\n      <th>1</th>\n      <td>{'met_id': 928, 'abbreviation': 'pro_L', 'crea...</td>\n      <td>{'createdDate': '2018-05-31T15:53:21.702280Z',...</td>\n      <td>NaN</td>\n      <td>Increased</td>\n      <td>95.00 - 320.00</td>\n      <td>830-1360</td>\n      <td>PMID: 21325949, PMID: 24190799</td>\n      <td></td>\n    </tr>\n    <tr>\n      <th>2</th>\n      <td>{'met_id': 984, 'abbreviation': 'val_L', 'crea...</td>\n      <td>{'createdDate': '2018-05-31T15:53:21.702280Z',...</td>\n      <td>NaN</td>\n      <td>Increased</td>\n      <td>65.00-215</td>\n      <td>210.00 - 650.00</td>\n      <td>PMID: 21325949, PMID: 24190799</td>\n      <td>125, 133, 337</td>\n    </tr>\n    <tr>\n      <th>3</th>\n      <td>{'met_id': 370, 'abbreviation': 'thr_L', 'crea...</td>\n      <td>{'createdDate': '2018-05-31T15:53:21.702280Z',...</td>\n      <td>NaN</td>\n      <td>Increased</td>\n      <td>25 - 150</td>\n      <td></td>\n      <td>PMID: 21325949, PMID: 24190799</td>\n      <td></td>\n    </tr>\n    <tr>\n      <th>4</th>\n      <td>{'met_id': 523, 'abbreviation': 'met_L', 'crea...</td>\n      <td>{'createdDate': '2018-05-31T15:53:21.702280Z',...</td>\n      <td>NaN</td>\n      <td>Increased</td>\n      <td>10.00-38.00</td>\n      <td>56.00 -170.00</td>\n      <td>PMID: 21325949, PMID: 24190799</td>\n      <td></td>\n    </tr>\n  </tbody>\n</table>\n</div>"
     },
     "execution_count": 7,
     "metadata": {},
     "output_type": "execute_result"
    }
   ],
   "source": [
    "results.head()"
   ],
   "metadata": {
    "collapsed": false
   }
  },
  {
   "cell_type": "code",
   "execution_count": 8,
   "outputs": [
    {
     "data": {
      "text/plain": "                                          metabolite  \\\n0  {'met_id': 345, 'abbreviation': 'gly', 'create...   \n1  {'met_id': 928, 'abbreviation': 'pro_L', 'crea...   \n2  {'met_id': 984, 'abbreviation': 'val_L', 'crea...   \n3  {'met_id': 370, 'abbreviation': 'thr_L', 'crea...   \n4  {'met_id': 523, 'abbreviation': 'met_L', 'crea...   \n\n                                                 iem  name      value  \\\n0  {'createdDate': '2018-05-31T15:53:21.702280Z',...   NaN  Increased   \n1  {'createdDate': '2018-05-31T15:53:21.702280Z',...   NaN  Increased   \n2  {'createdDate': '2018-05-31T15:53:21.702280Z',...   NaN  Increased   \n3  {'createdDate': '2018-05-31T15:53:21.702280Z',...   NaN  Increased   \n4  {'createdDate': '2018-05-31T15:53:21.702280Z',...   NaN  Increased   \n\n  normalConcentration rangeConcentration                       reference  \\\n0       180.00-740.00     550.00-1350.00  PMID: 21325949, PMID: 24190799   \n1      95.00 - 320.00           830-1360  PMID: 21325949, PMID: 24190799   \n2           65.00-215    210.00 - 650.00  PMID: 21325949, PMID: 24190799   \n3            25 - 150                     PMID: 21325949, PMID: 24190799   \n4         10.00-38.00      56.00 -170.00  PMID: 21325949, PMID: 24190799   \n\n         ramedis  \n0                 \n1                 \n2  125, 133, 337  \n3                 \n4                 ",
      "text/html": "<div>\n<style scoped>\n    .dataframe tbody tr th:only-of-type {\n        vertical-align: middle;\n    }\n\n    .dataframe tbody tr th {\n        vertical-align: top;\n    }\n\n    .dataframe thead th {\n        text-align: right;\n    }\n</style>\n<table border=\"1\" class=\"dataframe\">\n  <thead>\n    <tr style=\"text-align: right;\">\n      <th></th>\n      <th>metabolite</th>\n      <th>iem</th>\n      <th>name</th>\n      <th>value</th>\n      <th>normalConcentration</th>\n      <th>rangeConcentration</th>\n      <th>reference</th>\n      <th>ramedis</th>\n    </tr>\n  </thead>\n  <tbody>\n    <tr>\n      <th>0</th>\n      <td>{'met_id': 345, 'abbreviation': 'gly', 'create...</td>\n      <td>{'createdDate': '2018-05-31T15:53:21.702280Z',...</td>\n      <td>NaN</td>\n      <td>Increased</td>\n      <td>180.00-740.00</td>\n      <td>550.00-1350.00</td>\n      <td>PMID: 21325949, PMID: 24190799</td>\n      <td></td>\n    </tr>\n    <tr>\n      <th>1</th>\n      <td>{'met_id': 928, 'abbreviation': 'pro_L', 'crea...</td>\n      <td>{'createdDate': '2018-05-31T15:53:21.702280Z',...</td>\n      <td>NaN</td>\n      <td>Increased</td>\n      <td>95.00 - 320.00</td>\n      <td>830-1360</td>\n      <td>PMID: 21325949, PMID: 24190799</td>\n      <td></td>\n    </tr>\n    <tr>\n      <th>2</th>\n      <td>{'met_id': 984, 'abbreviation': 'val_L', 'crea...</td>\n      <td>{'createdDate': '2018-05-31T15:53:21.702280Z',...</td>\n      <td>NaN</td>\n      <td>Increased</td>\n      <td>65.00-215</td>\n      <td>210.00 - 650.00</td>\n      <td>PMID: 21325949, PMID: 24190799</td>\n      <td>125, 133, 337</td>\n    </tr>\n    <tr>\n      <th>3</th>\n      <td>{'met_id': 370, 'abbreviation': 'thr_L', 'crea...</td>\n      <td>{'createdDate': '2018-05-31T15:53:21.702280Z',...</td>\n      <td>NaN</td>\n      <td>Increased</td>\n      <td>25 - 150</td>\n      <td></td>\n      <td>PMID: 21325949, PMID: 24190799</td>\n      <td></td>\n    </tr>\n    <tr>\n      <th>4</th>\n      <td>{'met_id': 523, 'abbreviation': 'met_L', 'crea...</td>\n      <td>{'createdDate': '2018-05-31T15:53:21.702280Z',...</td>\n      <td>NaN</td>\n      <td>Increased</td>\n      <td>10.00-38.00</td>\n      <td>56.00 -170.00</td>\n      <td>PMID: 21325949, PMID: 24190799</td>\n      <td></td>\n    </tr>\n  </tbody>\n</table>\n</div>"
     },
     "execution_count": 8,
     "metadata": {},
     "output_type": "execute_result"
    }
   ],
   "source": [
    "results.head()"
   ],
   "metadata": {
    "collapsed": false
   }
  },
  {
   "cell_type": "code",
   "execution_count": null,
   "outputs": [],
   "source": [],
   "metadata": {
    "collapsed": false
   }
  }
 ],
 "metadata": {
  "kernelspec": {
   "display_name": "Python 3",
   "language": "python",
   "name": "python3"
  },
  "language_info": {
   "codemirror_mode": {
    "name": "ipython",
    "version": 2
   },
   "file_extension": ".py",
   "mimetype": "text/x-python",
   "name": "python",
   "nbconvert_exporter": "python",
   "pygments_lexer": "ipython2",
   "version": "2.7.6"
  }
 },
 "nbformat": 4,
 "nbformat_minor": 0
}
