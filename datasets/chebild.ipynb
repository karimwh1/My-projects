{
 "cells": [
  {
   "cell_type": "code",
   "execution_count": 1,
   "metadata": {
    "collapsed": true
   },
   "outputs": [],
   "source": [
    "import pandas as pd\n",
    "import numpy as np"
   ]
  },
  {
   "cell_type": "code",
   "execution_count": 3,
   "outputs": [],
   "source": [
    "chebild = pd.read_csv('chebiId_inchi_3star.tsv', sep='\\t')"
   ],
   "metadata": {
    "collapsed": false
   }
  },
  {
   "cell_type": "code",
   "execution_count": 5,
   "outputs": [
    {
     "data": {
      "text/plain": "    CHEBI_ID                                              InChI\n0         90  InChI=1S/C15H14O6/c16-8-4-11(18)9-6-13(20)15(2...\n1        165  InChI=1S/C10H16O/c1-9(2)7-4-5-10(3,6-7)8(9)11/...\n2        776  InChI=1S/C18H22O3/c1-18-7-6-13-12-5-3-11(19)8-...\n3        943    InChI=1S/C7H3Cl2N/c8-6-2-1-3-7(9)5(6)4-10/h1-3H\n4       1148  InChI=1S/C4H8O3/c1-2-3(5)4(6)7/h3,5H,2H2,1H3,(...\n..       ...                                                ...\n95      4354  InChI=1S/C14H14O4/c1-14(2)12(15)6-9-5-8-3-4-13...\n96      4379  InChI=1S/C22H28N6O3S.CH4O3S/c1-15(2)24-19-5-4-...\n97      4392  InChI=1S/C21H21ClN2O8/c1-24(2)14-7-5-6-10(16(2...\n98      4470  InChI=1S/C18H25NO/c1-19-10-9-18-8-4-3-5-15(18)...\n99      4474  InChI=1S/C16H23NO/c1-16-8-4-2-3-5-12(15(16)17)...\n\n[100 rows x 2 columns]",
      "text/html": "<div>\n<style scoped>\n    .dataframe tbody tr th:only-of-type {\n        vertical-align: middle;\n    }\n\n    .dataframe tbody tr th {\n        vertical-align: top;\n    }\n\n    .dataframe thead th {\n        text-align: right;\n    }\n</style>\n<table border=\"1\" class=\"dataframe\">\n  <thead>\n    <tr style=\"text-align: right;\">\n      <th></th>\n      <th>CHEBI_ID</th>\n      <th>InChI</th>\n    </tr>\n  </thead>\n  <tbody>\n    <tr>\n      <th>0</th>\n      <td>90</td>\n      <td>InChI=1S/C15H14O6/c16-8-4-11(18)9-6-13(20)15(2...</td>\n    </tr>\n    <tr>\n      <th>1</th>\n      <td>165</td>\n      <td>InChI=1S/C10H16O/c1-9(2)7-4-5-10(3,6-7)8(9)11/...</td>\n    </tr>\n    <tr>\n      <th>2</th>\n      <td>776</td>\n      <td>InChI=1S/C18H22O3/c1-18-7-6-13-12-5-3-11(19)8-...</td>\n    </tr>\n    <tr>\n      <th>3</th>\n      <td>943</td>\n      <td>InChI=1S/C7H3Cl2N/c8-6-2-1-3-7(9)5(6)4-10/h1-3H</td>\n    </tr>\n    <tr>\n      <th>4</th>\n      <td>1148</td>\n      <td>InChI=1S/C4H8O3/c1-2-3(5)4(6)7/h3,5H,2H2,1H3,(...</td>\n    </tr>\n    <tr>\n      <th>...</th>\n      <td>...</td>\n      <td>...</td>\n    </tr>\n    <tr>\n      <th>95</th>\n      <td>4354</td>\n      <td>InChI=1S/C14H14O4/c1-14(2)12(15)6-9-5-8-3-4-13...</td>\n    </tr>\n    <tr>\n      <th>96</th>\n      <td>4379</td>\n      <td>InChI=1S/C22H28N6O3S.CH4O3S/c1-15(2)24-19-5-4-...</td>\n    </tr>\n    <tr>\n      <th>97</th>\n      <td>4392</td>\n      <td>InChI=1S/C21H21ClN2O8/c1-24(2)14-7-5-6-10(16(2...</td>\n    </tr>\n    <tr>\n      <th>98</th>\n      <td>4470</td>\n      <td>InChI=1S/C18H25NO/c1-19-10-9-18-8-4-3-5-15(18)...</td>\n    </tr>\n    <tr>\n      <th>99</th>\n      <td>4474</td>\n      <td>InChI=1S/C16H23NO/c1-16-8-4-2-3-5-12(15(16)17)...</td>\n    </tr>\n  </tbody>\n</table>\n<p>100 rows × 2 columns</p>\n</div>"
     },
     "execution_count": 5,
     "metadata": {},
     "output_type": "execute_result"
    }
   ],
   "source": [
    "chebild.head(100)"
   ],
   "metadata": {
    "collapsed": false
   }
  },
  {
   "cell_type": "code",
   "execution_count": 6,
   "outputs": [
    {
     "name": "stdout",
     "output_type": "stream",
     "text": [
      "<class 'pandas.core.frame.DataFrame'>\n",
      "RangeIndex: 43936 entries, 0 to 43935\n",
      "Data columns (total 2 columns):\n",
      " #   Column    Non-Null Count  Dtype \n",
      "---  ------    --------------  ----- \n",
      " 0   CHEBI_ID  43936 non-null  int64 \n",
      " 1   InChI     43936 non-null  object\n",
      "dtypes: int64(1), object(1)\n",
      "memory usage: 686.6+ KB\n"
     ]
    }
   ],
   "source": [
    "chebild.info()"
   ],
   "metadata": {
    "collapsed": false
   }
  },
  {
   "cell_type": "code",
   "execution_count": 7,
   "outputs": [
    {
     "data": {
      "text/plain": "CHEBI_ID    43934\nInChI       43123\ndtype: int64"
     },
     "execution_count": 7,
     "metadata": {},
     "output_type": "execute_result"
    }
   ],
   "source": [
    "chebild.nunique()"
   ],
   "metadata": {
    "collapsed": false
   }
  },
  {
   "cell_type": "code",
   "execution_count": null,
   "outputs": [],
   "source": [],
   "metadata": {
    "collapsed": false
   }
  },
  {
   "cell_type": "code",
   "execution_count": 8,
   "outputs": [
    {
     "data": {
      "text/plain": "2"
     },
     "execution_count": 8,
     "metadata": {},
     "output_type": "execute_result"
    }
   ],
   "source": [
    "chebild.duplicated().sum()"
   ],
   "metadata": {
    "collapsed": false
   }
  },
  {
   "cell_type": "code",
   "execution_count": 12,
   "outputs": [],
   "source": [
    "chebild.drop_duplicates(inplace=True)"
   ],
   "metadata": {
    "collapsed": false
   }
  },
  {
   "cell_type": "code",
   "execution_count": 14,
   "outputs": [
    {
     "data": {
      "text/plain": "0"
     },
     "execution_count": 14,
     "metadata": {},
     "output_type": "execute_result"
    }
   ],
   "source": [
    "chebild.duplicated().sum()"
   ],
   "metadata": {
    "collapsed": false
   }
  },
  {
   "cell_type": "code",
   "execution_count": null,
   "outputs": [],
   "source": [],
   "metadata": {
    "collapsed": false
   }
  }
 ],
 "metadata": {
  "kernelspec": {
   "display_name": "Python 3",
   "language": "python",
   "name": "python3"
  },
  "language_info": {
   "codemirror_mode": {
    "name": "ipython",
    "version": 2
   },
   "file_extension": ".py",
   "mimetype": "text/x-python",
   "name": "python",
   "nbconvert_exporter": "python",
   "pygments_lexer": "ipython2",
   "version": "2.7.6"
  }
 },
 "nbformat": 4,
 "nbformat_minor": 0
}
