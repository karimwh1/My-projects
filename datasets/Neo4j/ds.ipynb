{
 "cells": [
  {
   "cell_type": "code",
   "execution_count": 1,
   "metadata": {
    "collapsed": true
   },
   "outputs": [
    {
     "name": "stdout",
     "output_type": "stream",
     "text": [
      "Collecting graphdatascience\n",
      "  Downloading graphdatascience-1.5-py3-none-any.whl (183 kB)\n",
      "     -------------------------------------- 183.7/183.7 kB 2.8 MB/s eta 0:00:00\n",
      "Collecting pyarrow<11.0,>=4.0\n",
      "  Downloading pyarrow-10.0.0-cp310-cp310-win_amd64.whl (19.9 MB)\n",
      "     --------------------------------------- 19.9/19.9 MB 29.7 MB/s eta 0:00:00\n",
      "Collecting tqdm<5.0,>=4.0\n",
      "  Downloading tqdm-4.64.1-py2.py3-none-any.whl (78 kB)\n",
      "     ---------------------------------------- 78.5/78.5 kB ? eta 0:00:00\n",
      "Requirement already satisfied: pandas<2.0,>=1.0 in c:\\users\\karim\\anaconda3\\envs\\coding\\lib\\site-packages (from graphdatascience) (1.4.4)\n",
      "Collecting neo4j<6.0,>=4.4.2\n",
      "  Downloading neo4j-5.2.0.tar.gz (173 kB)\n",
      "     ---------------------------------------- 173.0/173.0 kB ? eta 0:00:00\n",
      "  Preparing metadata (setup.py): started\n",
      "  Preparing metadata (setup.py): finished with status 'done'\n",
      "Collecting multimethod<2.0,>=1.0\n",
      "  Downloading multimethod-1.9-py3-none-any.whl (10 kB)\n",
      "Requirement already satisfied: pytz in c:\\users\\karim\\anaconda3\\envs\\coding\\lib\\site-packages (from neo4j<6.0,>=4.4.2->graphdatascience) (2022.1)\n",
      "Requirement already satisfied: numpy>=1.21.0 in c:\\users\\karim\\anaconda3\\envs\\coding\\lib\\site-packages (from pandas<2.0,>=1.0->graphdatascience) (1.23.1)\n",
      "Requirement already satisfied: python-dateutil>=2.8.1 in c:\\users\\karim\\anaconda3\\envs\\coding\\lib\\site-packages (from pandas<2.0,>=1.0->graphdatascience) (2.8.2)\n",
      "Requirement already satisfied: colorama in c:\\users\\karim\\anaconda3\\envs\\coding\\lib\\site-packages (from tqdm<5.0,>=4.0->graphdatascience) (0.4.5)\n",
      "Requirement already satisfied: six>=1.5 in c:\\users\\karim\\anaconda3\\envs\\coding\\lib\\site-packages (from python-dateutil>=2.8.1->pandas<2.0,>=1.0->graphdatascience) (1.16.0)\n",
      "Building wheels for collected packages: neo4j\n",
      "  Building wheel for neo4j (setup.py): started\n",
      "  Building wheel for neo4j (setup.py): finished with status 'done'\n",
      "  Created wheel for neo4j: filename=neo4j-5.2.0-py3-none-any.whl size=247784 sha256=ae64348f5f388262b425226ccedc01295078e4ba8cae9c677c367cd9112005aa\n",
      "  Stored in directory: c:\\users\\karim\\appdata\\local\\pip\\cache\\wheels\\2e\\41\\ae\\77d4253e31991fb19deda71afddfe4b07954abcd634c8f02f2\n",
      "Successfully built neo4j\n",
      "Installing collected packages: tqdm, pyarrow, neo4j, multimethod, graphdatascience\n",
      "Successfully installed graphdatascience-1.5 multimethod-1.9 neo4j-5.2.0 pyarrow-10.0.0 tqdm-4.64.1\n"
     ]
    }
   ],
   "source": [
    "! pip install graphdatascience"
   ]
  },
  {
   "cell_type": "code",
   "execution_count": 4,
   "outputs": [],
   "source": [
    "from graphdatascience import GraphDataScience"
   ],
   "metadata": {
    "collapsed": false
   }
  },
  {
   "cell_type": "code",
   "execution_count": 5,
   "outputs": [],
   "source": [
    "import pandas as pd"
   ],
   "metadata": {
    "collapsed": false
   }
  },
  {
   "cell_type": "code",
   "execution_count": null,
   "outputs": [],
   "source": [],
   "metadata": {
    "collapsed": false
   }
  }
 ],
 "metadata": {
  "kernelspec": {
   "display_name": "Python 3",
   "language": "python",
   "name": "python3"
  },
  "language_info": {
   "codemirror_mode": {
    "name": "ipython",
    "version": 2
   },
   "file_extension": ".py",
   "mimetype": "text/x-python",
   "name": "python",
   "nbconvert_exporter": "python",
   "pygments_lexer": "ipython2",
   "version": "2.7.6"
  }
 },
 "nbformat": 4,
 "nbformat_minor": 0
}
